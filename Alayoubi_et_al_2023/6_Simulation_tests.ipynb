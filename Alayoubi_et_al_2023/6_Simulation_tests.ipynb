{
 "cells": [
  {
   "cell_type": "markdown",
   "id": "0d0f16e2",
   "metadata": {},
   "source": [
    "This notebook is used to benchmark scanpro and scanpro_boot methods using simulated cell counts. Cell counts are simulated using the hierarchical model described in the propeller paper (Phipson et al., 2022). The function `simulate_cell_counts` is used to simulate clusters that do not differ in cell proportions across conditions. The function `simulate_cell_counts_2` is used for cell counts with differences in proportions in three cell types: cardiomyocytes, fibroblasts and smooth muscel cells. The function `convert_counts_to_df` is used to convert the simulated cell count matrix into a dataframe and dividing cells into two conditions.\n",
    "\n",
    "1 & 2: Testing performance of scanpro and scanpro_boot on 100 random datasets with no differences (1) and with differences (2). The hit rate is the proportion of tests where all clusters were identified as non-significant (1) or where only cardiomyocytes, fibroblasts and smooth muscle cells are identified as significant (2). We also visualize the proportion of significant tests for each cell types/cluster individually."
   ]
  },
  {
   "cell_type": "code",
   "execution_count": 1,
   "id": "10c53874",
   "metadata": {},
   "outputs": [],
   "source": [
    "import pandas as pd\n",
    "import numpy as np\n",
    "import multiprocessing as mp\n",
    "\n",
    "from scanpro import scanpro\n",
    "from scanpro.utils import *\n",
    "from scanpro.linear_model import *\n",
    "from scanpro.get_transformed_props import *\n",
    "from scanpro.ebayes import *"
   ]
  },
  {
   "cell_type": "code",
   "execution_count": 2,
   "id": "1e58fa5b",
   "metadata": {},
   "outputs": [],
   "source": [
    "OUT_PATH = './results/benchmark'"
   ]
  },
  {
   "cell_type": "code",
   "execution_count": 3,
   "id": "00f5a6b3",
   "metadata": {},
   "outputs": [],
   "source": [
    "def convert_counts_to_df(counts, prop_cols=None, meta_cols=None, n_cells=1, column_name=\"Cluster\"):\n",
    "    \"\"\" Convert a cell count matrix to a dataframe in long format.\"\"\"\n",
    "\n",
    "    counts = counts.copy()\n",
    "\n",
    "    #If not given, try to get prop_cols and meta_cols automatically\n",
    "    if prop_cols is None:\n",
    "        dtypes = counts.dtypes.astype(str)\n",
    "        prop_cols = [col for i, col in enumerate(counts.columns) if \"float\" in dtypes[i] or \"int\" in dtypes[i]]\n",
    "        \n",
    "    if meta_cols is None:\n",
    "        meta_cols = [col for col in counts.columns if col not in prop_cols]\n",
    "\n",
    "    # Multiply proportions with n_cells\n",
    "    counts[prop_cols] *= n_cells\n",
    "    counts[prop_cols] = counts[prop_cols].astype(int)\n",
    "    \n",
    "    # Melt into long format (similar to adata.obs)\n",
    "    counts_melt = pd.melt(counts, id_vars=meta_cols, value_vars=prop_cols, \n",
    "                          var_name=column_name, value_name=\"count\")\n",
    "\n",
    "    # Duplicate rows based on number of cells\n",
    "    counts_long = counts_melt.loc[counts_melt.index.repeat(counts_melt[\"count\"])].reset_index(drop=True)\n",
    "    counts_long.drop(columns=\"count\", inplace=True)\n",
    "    counts_long.index = [\"cell_\" + str(i) for i in range(1, len(counts_long) + 1)]\n",
    "    \n",
    "    return counts_long"
   ]
  },
  {
   "cell_type": "code",
   "execution_count": 4,
   "id": "7a647f2f",
   "metadata": {},
   "outputs": [],
   "source": [
    "def simulate_data(p, a, b, n_reps, n_conds=2, n=20, mu=5000, n_sims=100, null=True):\n",
    "    if b is None:\n",
    "        b = a * (1-p) / p\n",
    "        \n",
    "    datasets = []\n",
    "    for sim in range(n_sims):\n",
    "        if null:  # null simulation -> no differences\n",
    "            counts = simulate_cell_counts(p, n_reps, a, b, n_conds, n=n, mu=mu)\n",
    "        else:  # true differences\n",
    "            counts = simulate_cell_counts_2(p, n_reps, a, b, n_conds, n=n, mu=mu)\n",
    "\n",
    "        counts_df = convert_counts_to_df(counts, column_name=\"cluster\")\n",
    "\n",
    "        datasets.append(counts_df)\n",
    "    \n",
    "    return datasets"
   ]
  },
  {
   "cell_type": "markdown",
   "id": "5ad9ccc5",
   "metadata": {},
   "source": [
    "# Benchmarking"
   ]
  },
  {
   "cell_type": "code",
   "execution_count": 5,
   "id": "f2c75b7f",
   "metadata": {},
   "outputs": [],
   "source": [
    "def monitor_jobs(jobs):\n",
    "    \"\"\"\n",
    "    Monitor the status of jobs submitted to a pool.\n",
    "\n",
    "    Parameters\n",
    "    ----------\n",
    "    jobs : list of job objects\n",
    "        List of job objects, e.g. as returned by pool.map_async().\n",
    "    \"\"\"\n",
    "\n",
    "    if isinstance(jobs, dict):\n",
    "        jobs = list(jobs.values())\n",
    "\n",
    "    from tqdm import tqdm_notebook as tqdm\n",
    "    pbar = tqdm(total=len(jobs))\n",
    "    \n",
    "    # Wait for all jobs to finish\n",
    "    n_ready = sum([job.ready() for job in jobs])\n",
    "    while n_ready != len(jobs):\n",
    "        if n_ready != pbar.n:\n",
    "            pbar.n = n_ready\n",
    "            pbar.refresh()\n",
    "        time.sleep(1)\n",
    "        n_ready = sum([job.ready() for job in jobs])\n",
    "\n",
    "    pbar.n = n_ready  # update progress bar to 100%\n",
    "    pbar.refresh()\n",
    "    pbar.close()"
   ]
  },
  {
   "cell_type": "code",
   "execution_count": 6,
   "id": "da8e8886",
   "metadata": {},
   "outputs": [],
   "source": [
    "def test_performance(datasets,\n",
    "                     n_reps,  # number of samples per condition\n",
    "                     transform,\n",
    "                     null=True,\n",
    "                     repd_data=False\n",
    "                     ):\n",
    "    \"\"\"Test the performance of normal and bootstrap scanpro on simulated data.\n",
    "    :param list datasets: List of datasets as pandas dataframes to run scanpro on\n",
    "    :param int n_reps: Number of replicates the bootstrap is going to generate\n",
    "    :param str transform: method of transformation (logit or arcsin)\n",
    "    :return pandas.DataFrame all_run_results: A dataframe with results from all runs.\n",
    "    \"\"\"\n",
    "    \n",
    "    pool = mp.Pool()\n",
    "    jobs = []\n",
    "\n",
    "    for dataset in datasets:\n",
    "\n",
    "        if not repd_data:\n",
    "            samples_col = None\n",
    "        else:\n",
    "            samples_col = \"samples\"\n",
    "\n",
    "        # Run Scanpro or scanpro bootstrapping on 100 datasets\n",
    "        job = pool.apply_async(scanpro.scanpro, (dataset,), dict(clusters_col=\"cluster\", conds_col=\"group\", \n",
    "                                                                 samples_col=samples_col, n_reps=n_reps,\n",
    "                                                                 transform=transform, verbosity=0))\n",
    "        jobs.append(job)\n",
    "\n",
    "    pool.close()\n",
    "    monitor_jobs(jobs)\n",
    "\n",
    "    results = [job.get() for job in jobs]\n",
    "    pool.join()\n",
    "\n",
    "    # Collect result\n",
    "    all_run_results = pd.concat([result.results for result in results])\n",
    "\n",
    "    return all_run_results"
   ]
  },
  {
   "cell_type": "code",
   "execution_count": 141,
   "id": "045d51f0",
   "metadata": {},
   "outputs": [],
   "source": [
    "#### HELPER STATISTCS FUNCTIONS ####\n",
    "\n",
    "def compare_p_values(p_values, per_cluster=False):\n",
    "    \"\"\" Compare p-values of simulation with differences with expected output\"\"\"\n",
    "    out = []\n",
    "    for x in p_values:\n",
    "        if per_cluster:\n",
    "            # save hit rate per cluster\n",
    "            hitrate = [x[0]<.05, x[1]>=.05, x[2]>=.05, x[3]<.05, x[4]>=.05, x[5]>=.05, x[6]<0.05]\n",
    "        else:\n",
    "            # save hit rate per run\n",
    "            hitrate = x[0]<0.05 and x[1]>=0.05 and x[2]>=0.05 and x[3]<0.05 and x[4]>=0.05 and x[5]>=0.05 and x[6]<0.05\n",
    "        out.append(hitrate)\n",
    "\n",
    "    return out\n",
    "\n",
    "\n",
    "def calc_hitrates(results, null=True, compare=None):\n",
    "    out = {tool: {method: None for method in list(results[\"scanpro\"].keys())} for tool in results.keys()}\n",
    "    for tool in results.keys():\n",
    "        for method in results[tool]:\n",
    "            p_values = [results[tool][method].iloc[i:i+7, -1] for i in np.arange(0, len(results[tool][method]+1), 7)]\n",
    "            if null:\n",
    "                # if null simulation, check if all p-values > 0.05\n",
    "                out[tool][method] = np.mean([all(p_value > 0.05) for p_value in p_values]) * 100\n",
    "            else:\n",
    "                if compare is None:\n",
    "                    raise ValueError(\"Please provide a compare function!\")\n",
    "                \n",
    "                out[tool][method] = np.mean(compare(p_values)) * 100\n",
    "\n",
    "    return pd.DataFrame(out)\n",
    "\n",
    "\n",
    "def calc_hitrate_cluster(results, null=True, compare=None):\n",
    "    \"\"\"Calculate hit rate per cluster for the bootstrapping method\"\"\"\n",
    "    hit_rate_cluster = {method: None for method in results['scanpro_norep'].keys()}\n",
    "    props = []  # mean cluster proportions\n",
    "    for method in results['scanpro_norep']:\n",
    "        # save mean cluster proportions\n",
    "        props.append(results['scanpro_norep'][method].reset_index().groupby('clusters').mean()['baseline_props'].to_list())\n",
    "        # if null, check if all p-values > 0.05\n",
    "        if null:\n",
    "            hit_rates = results['scanpro_norep'][method].iloc[:, -1] > 0.05\n",
    "            # get hit rate for each of the 5 clusters\n",
    "            hit_rate_cluster[method] = np.mean(np.array(hit_rates.to_list()).reshape(100, 5), axis=0) * 100\n",
    "        else:\n",
    "            # get p-values for each run\n",
    "            p_values = [results['scanpro_norep'][method].iloc[i:i+7, -1] for i in np.arange(0, len(results['scanpro_norep'][method]+1), 7)]\n",
    "            # check if p-values significance is as expected\n",
    "            hit_rate_cluster[method] = compare_p_values(p_values, per_cluster=True)\n",
    "            hit_rate_cluster[method] = np.mean(hit_rate_cluster[method], axis=0) * 100\n",
    "    \n",
    "    hit_rate_cluster = pd.DataFrame(hit_rate_cluster)\n",
    "    hit_rate_cluster['cluster'] = results['scanpro_norep']['logit_4_reps'].index.unique()\n",
    "    hit_rate_cluster = hit_rate_cluster.melt(id_vars='cluster')\n",
    "    hit_rate_cluster.rename(columns={'variable': 'method', 'value': 'hit_rate'}, inplace=True)\n",
    "    # add mean cluster proportions\n",
    "    hit_rate_cluster['props'] = list(np.array(props).flat)\n",
    "    \n",
    "    return hit_rate_cluster\n",
    "\n",
    "\n",
    "def calc_pct_significance(results, null=True, n_sims=100):\n",
    "    \"\"\" calculate percentage of significant tests per cluster\"\"\"\n",
    "    n_clusters = 5 if null else 7\n",
    "    out = {tool: [] for tool in results.keys()}\n",
    "    for tool in results.keys():\n",
    "        for method in results[tool]:\n",
    "            clusters = list(results[tool][method].index.unique())\n",
    "            # get p_values with simulations as rows and clusters as cols\n",
    "            df = results[tool][method].iloc[:, -1].reset_index().copy()\n",
    "            df[\"sim\"] = np.repeat([i for i in range(1, 101)], n_clusters)\n",
    "            df[\"sim\"] = df[\"sim\"].astype(int)\n",
    "            df = df.pivot(columns=\"clusters\", index=\"sim\").sort_index()\n",
    "            df.columns = df.columns.droplevel()\n",
    "\n",
    "            for cluster in clusters:\n",
    "                # save proportions of significant p-values for each cluster independently\n",
    "                try:\n",
    "                    out[tool].append((df[cluster] < 0.05).value_counts(normalize=True)[True])\n",
    "                except KeyError:  # if test has 100% hit rate for a cluster, error is 0\n",
    "                    out[tool].append(0)\n",
    "            \n",
    "    \n",
    "    out = pd.DataFrame(out)\n",
    "    out = out.melt()\n",
    "    out['cluster'] = np.tile(clusters, out.shape[0]//len(clusters))\n",
    "    out['method'] = np.repeat(list(null_sim_results['scanpro'].keys())*2, n_clusters)\n",
    "    out = out.rename(columns={'variable': 'tool', 'value': 'pct_sig'})\n",
    "    \n",
    "    return out"
   ]
  },
  {
   "cell_type": "markdown",
   "id": "df7bef33",
   "metadata": {},
   "source": [
    "## 1. Null simulations"
   ]
  },
  {
   "cell_type": "markdown",
   "id": "9779bda4",
   "metadata": {},
   "source": [
    "### simulate datasets"
   ]
  },
  {
   "cell_type": "code",
   "execution_count": 8,
   "id": "af19b513",
   "metadata": {},
   "outputs": [],
   "source": [
    "np.random.seed(10)\n",
    "\n",
    "p = np.array([0.01, 0.05, 0.15, 0.34, 0.45])  # clusters proportions in all samples\n",
    "a = 10\n",
    "b = a*(1-p)/p\n",
    "n_reps = [4, 8, 10, 20]\n",
    "\n",
    "datasets_null = {f\"{n_rep}_reps\": simulate_data(p, a, b, n_rep, n_conds=2, n=20, mu=5000, n_sims=100, null=True) for n_rep in n_reps}"
   ]
  },
  {
   "cell_type": "markdown",
   "id": "69d0e29d",
   "metadata": {},
   "source": [
    "### 4 replicates"
   ]
  },
  {
   "cell_type": "code",
   "execution_count": 9,
   "id": "1176fba9",
   "metadata": {},
   "outputs": [],
   "source": [
    "n_reps = 4"
   ]
  },
  {
   "cell_type": "markdown",
   "id": "c29af8b4",
   "metadata": {},
   "source": [
    "#### logit"
   ]
  },
  {
   "cell_type": "code",
   "execution_count": 10,
   "id": "beb24895",
   "metadata": {},
   "outputs": [
    {
     "data": {
      "application/vnd.jupyter.widget-view+json": {
       "model_id": "d4f281774af94eb48a3e5830710ba5d0",
       "version_major": 2,
       "version_minor": 0
      },
      "text/plain": [
       "  0%|          | 0/100 [00:00<?, ?it/s]"
      ]
     },
     "metadata": {},
     "output_type": "display_data"
    }
   ],
   "source": [
    "# replicated\n",
    "scanpro_4_reps_logit = test_performance(datasets_null[f\"{n_reps}_reps\"], transform=\"logit\",\n",
    "                                        n_reps=n_reps, repd_data=True, null=True)"
   ]
  },
  {
   "cell_type": "code",
   "execution_count": 11,
   "id": "1e110394",
   "metadata": {},
   "outputs": [
    {
     "data": {
      "application/vnd.jupyter.widget-view+json": {
       "model_id": "f2074b4539964aec895f1287a1d4f5bb",
       "version_major": 2,
       "version_minor": 0
      },
      "text/plain": [
       "  0%|          | 0/100 [00:00<?, ?it/s]"
      ]
     },
     "metadata": {},
     "output_type": "display_data"
    }
   ],
   "source": [
    "# unreplicated\n",
    "scanpro_norep_4_reps_logit = test_performance(datasets_null[f\"{n_reps}_reps\"], transform=\"logit\",\n",
    "                                              n_reps=n_reps, repd_data=False, null=True)"
   ]
  },
  {
   "cell_type": "markdown",
   "id": "75f0f387",
   "metadata": {},
   "source": [
    "#### arcsine"
   ]
  },
  {
   "cell_type": "code",
   "execution_count": 12,
   "id": "387fb074",
   "metadata": {},
   "outputs": [
    {
     "data": {
      "application/vnd.jupyter.widget-view+json": {
       "model_id": "8e2a0fee14cb4f3c9c16cea1a92d77ee",
       "version_major": 2,
       "version_minor": 0
      },
      "text/plain": [
       "  0%|          | 0/100 [00:00<?, ?it/s]"
      ]
     },
     "metadata": {},
     "output_type": "display_data"
    }
   ],
   "source": [
    "# replicated\n",
    "scanpro_4_reps_arcsin = test_performance(datasets_null[f\"{n_reps}_reps\"], transform=\"arcsin\",\n",
    "                                         n_reps=n_reps, repd_data=True, null=True)"
   ]
  },
  {
   "cell_type": "code",
   "execution_count": 13,
   "id": "60aad50a",
   "metadata": {},
   "outputs": [
    {
     "data": {
      "application/vnd.jupyter.widget-view+json": {
       "model_id": "30c32dc775114e638a609465b01e59a5",
       "version_major": 2,
       "version_minor": 0
      },
      "text/plain": [
       "  0%|          | 0/100 [00:00<?, ?it/s]"
      ]
     },
     "metadata": {},
     "output_type": "display_data"
    }
   ],
   "source": [
    "# unreplicated\n",
    "scanpro_norep_4_reps_arcsin = test_performance(datasets_null[f\"{n_reps}_reps\"], transform=\"arcsin\",\n",
    "                                               n_reps=n_reps, repd_data=False, null=True)"
   ]
  },
  {
   "cell_type": "markdown",
   "id": "50312ffb",
   "metadata": {},
   "source": [
    "### 8 replicates"
   ]
  },
  {
   "cell_type": "code",
   "execution_count": 14,
   "id": "f7683b8d",
   "metadata": {},
   "outputs": [],
   "source": [
    "n_reps = 8"
   ]
  },
  {
   "cell_type": "markdown",
   "id": "da76084b",
   "metadata": {},
   "source": [
    "#### logit"
   ]
  },
  {
   "cell_type": "code",
   "execution_count": 15,
   "id": "51c05267",
   "metadata": {},
   "outputs": [
    {
     "data": {
      "application/vnd.jupyter.widget-view+json": {
       "model_id": "6621e3754a5a41d696414eeaf132e42f",
       "version_major": 2,
       "version_minor": 0
      },
      "text/plain": [
       "  0%|          | 0/100 [00:00<?, ?it/s]"
      ]
     },
     "metadata": {},
     "output_type": "display_data"
    }
   ],
   "source": [
    "# replicated\n",
    "scanpro_8_reps_logit = test_performance(datasets_null[f\"{n_reps}_reps\"], transform=\"logit\",\n",
    "                                        n_reps=n_reps, repd_data=True, null=True)"
   ]
  },
  {
   "cell_type": "code",
   "execution_count": 16,
   "id": "9e0ba056",
   "metadata": {},
   "outputs": [
    {
     "data": {
      "application/vnd.jupyter.widget-view+json": {
       "model_id": "5e33433f29b84a4d97477e8af6d724e8",
       "version_major": 2,
       "version_minor": 0
      },
      "text/plain": [
       "  0%|          | 0/100 [00:00<?, ?it/s]"
      ]
     },
     "metadata": {},
     "output_type": "display_data"
    }
   ],
   "source": [
    "# unreplicated\n",
    "scanpro_norep_8_reps_logit = test_performance(datasets_null[f\"{n_reps}_reps\"], transform=\"logit\",\n",
    "                                              n_reps=n_reps, repd_data=False, null=True)"
   ]
  },
  {
   "cell_type": "markdown",
   "id": "e3f9c7d7",
   "metadata": {},
   "source": [
    "#### arcsine"
   ]
  },
  {
   "cell_type": "code",
   "execution_count": 17,
   "id": "f00311ef",
   "metadata": {},
   "outputs": [
    {
     "data": {
      "application/vnd.jupyter.widget-view+json": {
       "model_id": "f19824e60d7946dc85e0dc9558fceaec",
       "version_major": 2,
       "version_minor": 0
      },
      "text/plain": [
       "  0%|          | 0/100 [00:00<?, ?it/s]"
      ]
     },
     "metadata": {},
     "output_type": "display_data"
    }
   ],
   "source": [
    "# replicated\n",
    "scanpro_8_reps_arcsin = test_performance(datasets_null[f\"{n_reps}_reps\"], transform=\"arcsin\",\n",
    "                                        n_reps=n_reps, repd_data=True, null=True)"
   ]
  },
  {
   "cell_type": "code",
   "execution_count": 18,
   "id": "f440375f",
   "metadata": {},
   "outputs": [
    {
     "data": {
      "application/vnd.jupyter.widget-view+json": {
       "model_id": "3289e75090d143219a5c171b3b7bb590",
       "version_major": 2,
       "version_minor": 0
      },
      "text/plain": [
       "  0%|          | 0/100 [00:00<?, ?it/s]"
      ]
     },
     "metadata": {},
     "output_type": "display_data"
    }
   ],
   "source": [
    "# replicated\n",
    "scanpro_norep_8_reps_arcsin = test_performance(datasets_null[f\"{n_reps}_reps\"], transform=\"arcsin\",\n",
    "                                               n_reps=n_reps, repd_data=False, null=True)"
   ]
  },
  {
   "cell_type": "markdown",
   "id": "de798bc7",
   "metadata": {},
   "source": [
    "### 10 reps"
   ]
  },
  {
   "cell_type": "code",
   "execution_count": 19,
   "id": "73abbebf",
   "metadata": {},
   "outputs": [],
   "source": [
    "n_reps = 10"
   ]
  },
  {
   "cell_type": "markdown",
   "id": "ce179ce3",
   "metadata": {},
   "source": [
    "#### logit"
   ]
  },
  {
   "cell_type": "code",
   "execution_count": 20,
   "id": "f0fcbffd",
   "metadata": {},
   "outputs": [
    {
     "data": {
      "application/vnd.jupyter.widget-view+json": {
       "model_id": "fa3ae66a4d154d9fbdec34bea337b72e",
       "version_major": 2,
       "version_minor": 0
      },
      "text/plain": [
       "  0%|          | 0/100 [00:00<?, ?it/s]"
      ]
     },
     "metadata": {},
     "output_type": "display_data"
    }
   ],
   "source": [
    "# replicated\n",
    "scanpro_10_reps_logit = test_performance(datasets_null[f\"{n_reps}_reps\"], transform=\"logit\",\n",
    "                                        n_reps=n_reps, repd_data=True, null=True)"
   ]
  },
  {
   "cell_type": "code",
   "execution_count": 21,
   "id": "5184f0d6",
   "metadata": {},
   "outputs": [
    {
     "data": {
      "application/vnd.jupyter.widget-view+json": {
       "model_id": "0c3c772e8cb6453d8069a4d3993795fc",
       "version_major": 2,
       "version_minor": 0
      },
      "text/plain": [
       "  0%|          | 0/100 [00:00<?, ?it/s]"
      ]
     },
     "metadata": {},
     "output_type": "display_data"
    }
   ],
   "source": [
    "# replicated\n",
    "scanpro_norep_10_reps_logit = test_performance(datasets_null[f\"{n_reps}_reps\"], transform=\"logit\",\n",
    "                                               n_reps=n_reps, repd_data=False, null=True)"
   ]
  },
  {
   "cell_type": "markdown",
   "id": "d21d6f9e",
   "metadata": {},
   "source": [
    "#### arcsine"
   ]
  },
  {
   "cell_type": "code",
   "execution_count": 22,
   "id": "53cf364a",
   "metadata": {},
   "outputs": [
    {
     "data": {
      "application/vnd.jupyter.widget-view+json": {
       "model_id": "55dd54e0e5ac44fcb3191c11d1fa4836",
       "version_major": 2,
       "version_minor": 0
      },
      "text/plain": [
       "  0%|          | 0/100 [00:00<?, ?it/s]"
      ]
     },
     "metadata": {},
     "output_type": "display_data"
    }
   ],
   "source": [
    "# replicated\n",
    "scanpro_10_reps_arcsin = test_performance(datasets_null[f\"{n_reps}_reps\"], transform=\"arcsin\",\n",
    "                                        n_reps=n_reps, repd_data=True, null=True)"
   ]
  },
  {
   "cell_type": "code",
   "execution_count": 23,
   "id": "0857265f",
   "metadata": {},
   "outputs": [
    {
     "data": {
      "application/vnd.jupyter.widget-view+json": {
       "model_id": "49e3a999157f4220b6e82d5cb6bb2d2a",
       "version_major": 2,
       "version_minor": 0
      },
      "text/plain": [
       "  0%|          | 0/100 [00:00<?, ?it/s]"
      ]
     },
     "metadata": {},
     "output_type": "display_data"
    }
   ],
   "source": [
    "# replicated\n",
    "scanpro_norep_10_reps_arcsin = test_performance(datasets_null[f\"{n_reps}_reps\"], transform=\"arcsin\",\n",
    "                                                n_reps=n_reps, repd_data=False, null=True)"
   ]
  },
  {
   "cell_type": "markdown",
   "id": "120435b9",
   "metadata": {},
   "source": [
    "### 20 reps"
   ]
  },
  {
   "cell_type": "code",
   "execution_count": 24,
   "id": "325d93ac",
   "metadata": {},
   "outputs": [],
   "source": [
    "n_reps = 20"
   ]
  },
  {
   "cell_type": "markdown",
   "id": "b6a5825e",
   "metadata": {},
   "source": [
    "#### logit"
   ]
  },
  {
   "cell_type": "code",
   "execution_count": 25,
   "id": "8ae72b1a",
   "metadata": {},
   "outputs": [
    {
     "data": {
      "application/vnd.jupyter.widget-view+json": {
       "model_id": "d59bc458567a4999bcc9f80a4a5f5cf4",
       "version_major": 2,
       "version_minor": 0
      },
      "text/plain": [
       "  0%|          | 0/100 [00:00<?, ?it/s]"
      ]
     },
     "metadata": {},
     "output_type": "display_data"
    }
   ],
   "source": [
    "# replicated\n",
    "scanpro_20_reps_logit = test_performance(datasets_null[f\"{n_reps}_reps\"], transform=\"logit\",\n",
    "                                         n_reps=n_reps, repd_data=True, null=True)"
   ]
  },
  {
   "cell_type": "code",
   "execution_count": 26,
   "id": "2d424e63",
   "metadata": {},
   "outputs": [
    {
     "data": {
      "application/vnd.jupyter.widget-view+json": {
       "model_id": "ccc5bcfefc754c06bb7f32d69704c4d0",
       "version_major": 2,
       "version_minor": 0
      },
      "text/plain": [
       "  0%|          | 0/100 [00:00<?, ?it/s]"
      ]
     },
     "metadata": {},
     "output_type": "display_data"
    }
   ],
   "source": [
    "# replicated\n",
    "scanpro_norep_20_reps_logit = test_performance(datasets_null[f\"{n_reps}_reps\"], transform=\"logit\",\n",
    "                                               n_reps=n_reps, repd_data=False, null=True)"
   ]
  },
  {
   "cell_type": "markdown",
   "id": "d9edf7ac",
   "metadata": {},
   "source": [
    "#### arcsine"
   ]
  },
  {
   "cell_type": "code",
   "execution_count": 27,
   "id": "df83e4d7",
   "metadata": {},
   "outputs": [
    {
     "data": {
      "application/vnd.jupyter.widget-view+json": {
       "model_id": "5d117f39ad814df9923c0cd767dca06d",
       "version_major": 2,
       "version_minor": 0
      },
      "text/plain": [
       "  0%|          | 0/100 [00:00<?, ?it/s]"
      ]
     },
     "metadata": {},
     "output_type": "display_data"
    }
   ],
   "source": [
    "# replicated\n",
    "scanpro_20_reps_arcsin = test_performance(datasets_null[f\"{n_reps}_reps\"], transform=\"arcsin\",\n",
    "                                         n_reps=n_reps, repd_data=True, null=True)"
   ]
  },
  {
   "cell_type": "code",
   "execution_count": 28,
   "id": "4153062d",
   "metadata": {},
   "outputs": [
    {
     "data": {
      "application/vnd.jupyter.widget-view+json": {
       "model_id": "4666f9823ee34b468b5b41536c192ef3",
       "version_major": 2,
       "version_minor": 0
      },
      "text/plain": [
       "  0%|          | 0/100 [00:00<?, ?it/s]"
      ]
     },
     "metadata": {},
     "output_type": "display_data"
    }
   ],
   "source": [
    "# replicated\n",
    "scanpro_norep_20_reps_arcsin = test_performance(datasets_null[f\"{n_reps}_reps\"], transform=\"arcsin\",\n",
    "                                                n_reps=n_reps, repd_data=False, null=True)"
   ]
  },
  {
   "cell_type": "markdown",
   "id": "c45b93e9",
   "metadata": {},
   "source": [
    "### Results"
   ]
  },
  {
   "cell_type": "code",
   "execution_count": 29,
   "id": "8181de6d",
   "metadata": {},
   "outputs": [],
   "source": [
    "null_sim_results = {\"scanpro\": {\"logit_4_reps\": scanpro_4_reps_logit,\n",
    "                               \"arcsin_4_reps\": scanpro_4_reps_arcsin,\n",
    "                               \"logit_8_reps\": scanpro_8_reps_logit,\n",
    "                               \"arcsin_8_reps\": scanpro_8_reps_arcsin,\n",
    "                               \"logit_10_reps\": scanpro_10_reps_logit,\n",
    "                               \"arcsin_10_reps\": scanpro_10_reps_arcsin,\n",
    "                               \"logit_20_reps\": scanpro_20_reps_logit,\n",
    "                               \"arcsin_20_reps\": scanpro_20_reps_arcsin},\n",
    "                   \"scanpro_norep\": {\"logit_4_reps\": scanpro_norep_4_reps_logit,\n",
    "                                   \"arcsin_4_reps\": scanpro_norep_4_reps_arcsin,\n",
    "                                   \"logit_8_reps\": scanpro_norep_8_reps_logit,\n",
    "                                   \"arcsin_8_reps\": scanpro_norep_8_reps_arcsin,\n",
    "                                   \"logit_10_reps\": scanpro_norep_10_reps_logit,\n",
    "                                   \"arcsin_10_reps\": scanpro_norep_10_reps_arcsin,\n",
    "                                   \"logit_20_reps\": scanpro_norep_20_reps_logit,\n",
    "                                   \"arcsin_20_reps\": scanpro_norep_20_reps_arcsin}}"
   ]
  },
  {
   "cell_type": "markdown",
   "id": "23770fae",
   "metadata": {},
   "source": [
    "#### Hit Rate\n",
    "Hit rate is the proportion of tests (out of `n_sims` tests) where the results matched the results with original replicates exactly, that is, all significant and non-significant clusters in the original results where identified as such in the bootstrap simulation (hit)"
   ]
  },
  {
   "cell_type": "code",
   "execution_count": 30,
   "id": "6e0ed428",
   "metadata": {},
   "outputs": [],
   "source": [
    "null_sim_hitrates = calc_hitrates(null_sim_results, null=True)\n",
    "null_sim_hitrates.to_csv(f'{OUT_PATH}/null_sim_hitrates.tsv', sep='\\t')"
   ]
  },
  {
   "cell_type": "code",
   "execution_count": 31,
   "id": "00995468",
   "metadata": {},
   "outputs": [],
   "source": [
    "null_sim_pct_sig_cluster = calc_pct_significance(null_sim_results, n_sims=100)\n",
    "null_sim_pct_sig_cluster.to_csv(f'{OUT_PATH}/null_sim_pct_sig_cluster.tsv', sep='\\t')"
   ]
  },
  {
   "cell_type": "code",
   "execution_count": 142,
   "id": "81ffa455",
   "metadata": {
    "scrolled": true
   },
   "outputs": [],
   "source": [
    "# get hit rate per cluster only for scanpro_norep\n",
    "null_sim_hitrate_cluster = calc_hitrate_cluster(null_sim_results, null=True)\n",
    "null_sim_hitrate_cluster.to_csv(f'{OUT_PATH}/null_sim_hitrate_cluster.tsv', sep='\\t')"
   ]
  },
  {
   "cell_type": "markdown",
   "id": "3cd592a0",
   "metadata": {},
   "source": [
    "## 2. Simulation with true differences"
   ]
  },
  {
   "cell_type": "markdown",
   "id": "29c8296d",
   "metadata": {},
   "source": [
    "### Data preperation\n",
    "see https://phipsonlab.github.io/propeller-paper-analysis/SimTrueDiff.html"
   ]
  },
  {
   "cell_type": "code",
   "execution_count": 33,
   "id": "459cb41e",
   "metadata": {},
   "outputs": [
    {
     "data": {
      "text/plain": [
       "[Cardiomyocytes           1.769390\n",
       " Endothelial cells      107.760684\n",
       " Epicardial cells        47.297371\n",
       " Fibroblast              14.138098\n",
       " Immune cells            16.442437\n",
       " Neurons                143.134155\n",
       " Smooth muscle cells    458.574736\n",
       " dtype: float64,\n",
       " Cardiomyocytes           4.742325\n",
       " Endothelial cells      107.760684\n",
       " Epicardial cells        47.297371\n",
       " Fibroblast               4.666523\n",
       " Immune cells            16.442437\n",
       " Neurons                143.134155\n",
       " Smooth muscle cells    150.405074\n",
       " dtype: float64]"
      ]
     },
     "execution_count": 33,
     "metadata": {},
     "output_type": "execute_result"
    }
   ],
   "source": [
    "heart_counts = pd.read_csv('/home/yalayou/pypropeller/Alayoubi_et_al_2023/data/heart_counts.tsv', sep='\\t')\n",
    "heart_counts.drop(['Condition', 'Sex'], inplace=True, axis=1)\n",
    "heart_counts = heart_counts.set_index('Sample').T\n",
    "heart_counts.drop('Erythroid', inplace=True)  # remove erythroids\n",
    "\n",
    "# proportions of each cluster in all samples\n",
    "true_props = heart_counts.sum(axis=1) / heart_counts.sum(axis=1).sum()  # sum of cells in cluster / sum of all cells\n",
    "true_props = true_props.to_frame(name=\"props\")\n",
    "\n",
    "# estimate beta paramters from counts\n",
    "params = estimate_params_from_counts(heart_counts)  # rows are clusters\n",
    "a = params[1]\n",
    "b = params[2]\n",
    "\n",
    "# Set up true proportions for the two groups\n",
    "grp1_trueprops = true_props.values.flatten()\n",
    "grp2_trueprops = true_props.values.flatten()\n",
    "\n",
    "grp2_trueprops[0] = grp1_trueprops[0]/2\n",
    "grp2_trueprops[3] = grp2_trueprops[3]*2\n",
    "grp2_trueprops[6] = grp1_trueprops[6]*3\n",
    "\n",
    "grp2_trueprops[0] = grp2_trueprops[0] + (1-grp2_trueprops.sum())/2\n",
    "grp2_trueprops[3] = grp2_trueprops[3] + (1-grp2_trueprops.sum())\n",
    " \n",
    "# calculate beta for both groups\n",
    "b1 = a*(1-grp1_trueprops)/grp1_trueprops\n",
    "b2 = a*(1-grp2_trueprops)/grp2_trueprops\n",
    "b_grps = [b1, b2]\n",
    "\n",
    "b_grps"
   ]
  },
  {
   "cell_type": "markdown",
   "id": "31ebaf0f",
   "metadata": {},
   "source": [
    "### Simulate datasets"
   ]
  },
  {
   "cell_type": "code",
   "execution_count": 34,
   "id": "bc39d49d",
   "metadata": {},
   "outputs": [],
   "source": [
    "np.random.seed(10)\n",
    "\n",
    "n_reps = [4, 8, 10, 20]\n",
    "\n",
    "datasets_difs = {f\"{n_rep}_reps\": simulate_data(true_props, a, b_grps, n_rep, n_conds=2, n=20, mu=5000, n_sims=100, null=False) for n_rep in n_reps}"
   ]
  },
  {
   "cell_type": "markdown",
   "id": "a31ce46d",
   "metadata": {},
   "source": [
    "### 4 replicates"
   ]
  },
  {
   "cell_type": "code",
   "execution_count": 35,
   "id": "46040046",
   "metadata": {},
   "outputs": [],
   "source": [
    "n_reps = 4"
   ]
  },
  {
   "cell_type": "markdown",
   "id": "4f999b60",
   "metadata": {},
   "source": [
    "#### logit"
   ]
  },
  {
   "cell_type": "code",
   "execution_count": 36,
   "id": "ec55ee83",
   "metadata": {},
   "outputs": [
    {
     "data": {
      "application/vnd.jupyter.widget-view+json": {
       "model_id": "73e2b6313036466fbd7e439283ccace2",
       "version_major": 2,
       "version_minor": 0
      },
      "text/plain": [
       "  0%|          | 0/100 [00:00<?, ?it/s]"
      ]
     },
     "metadata": {},
     "output_type": "display_data"
    }
   ],
   "source": [
    "# replicated\n",
    "scanpro_4_reps_logit_difs = test_performance(datasets_difs[f\"{n_reps}_reps\"], transform=\"logit\",\n",
    "                                             n_reps=n_reps, repd_data=True, null=False)"
   ]
  },
  {
   "cell_type": "code",
   "execution_count": 37,
   "id": "4fe8e87d",
   "metadata": {},
   "outputs": [
    {
     "data": {
      "application/vnd.jupyter.widget-view+json": {
       "model_id": "1e0da95026c94a87bf0a64f5da8f8af2",
       "version_major": 2,
       "version_minor": 0
      },
      "text/plain": [
       "  0%|          | 0/100 [00:00<?, ?it/s]"
      ]
     },
     "metadata": {},
     "output_type": "display_data"
    }
   ],
   "source": [
    "# unreplicated\n",
    "scanpro_norep_4_reps_logit_difs = test_performance(datasets_difs[f\"{n_reps}_reps\"], transform=\"logit\",\n",
    "                                                   n_reps=n_reps, repd_data=False, null=False)"
   ]
  },
  {
   "cell_type": "markdown",
   "id": "049fee45",
   "metadata": {},
   "source": [
    "#### arcsin"
   ]
  },
  {
   "cell_type": "code",
   "execution_count": 38,
   "id": "35072315",
   "metadata": {},
   "outputs": [
    {
     "data": {
      "application/vnd.jupyter.widget-view+json": {
       "model_id": "1454eed443f14c3eb1d1a635c084cac8",
       "version_major": 2,
       "version_minor": 0
      },
      "text/plain": [
       "  0%|          | 0/100 [00:00<?, ?it/s]"
      ]
     },
     "metadata": {},
     "output_type": "display_data"
    }
   ],
   "source": [
    "# replicated\n",
    "scanpro_4_reps_arcsin_difs = test_performance(datasets_difs[f\"{n_reps}_reps\"], transform=\"arcsin\",\n",
    "                                             n_reps=n_reps, repd_data=True, null=False)"
   ]
  },
  {
   "cell_type": "code",
   "execution_count": 39,
   "id": "7d155b89",
   "metadata": {},
   "outputs": [
    {
     "data": {
      "application/vnd.jupyter.widget-view+json": {
       "model_id": "7f1ff3fac8e94ef19078aa2ff740daea",
       "version_major": 2,
       "version_minor": 0
      },
      "text/plain": [
       "  0%|          | 0/100 [00:00<?, ?it/s]"
      ]
     },
     "metadata": {},
     "output_type": "display_data"
    }
   ],
   "source": [
    "# unreplicated\n",
    "scanpro_norep_4_reps_arcsin_difs = test_performance(datasets_difs[f\"{n_reps}_reps\"], transform=\"arcsin\",\n",
    "                                                    n_reps=n_reps, repd_data=False, null=False)"
   ]
  },
  {
   "cell_type": "markdown",
   "id": "07d4bc22",
   "metadata": {},
   "source": [
    "### 8 replicates"
   ]
  },
  {
   "cell_type": "code",
   "execution_count": 40,
   "id": "3bb63d40",
   "metadata": {},
   "outputs": [],
   "source": [
    "n_reps = 8"
   ]
  },
  {
   "cell_type": "markdown",
   "id": "b21c04a6",
   "metadata": {},
   "source": [
    "#### logit"
   ]
  },
  {
   "cell_type": "code",
   "execution_count": 41,
   "id": "6e9f0523",
   "metadata": {},
   "outputs": [
    {
     "data": {
      "application/vnd.jupyter.widget-view+json": {
       "model_id": "bc72c855737e4535ba86f62b6b5ffb54",
       "version_major": 2,
       "version_minor": 0
      },
      "text/plain": [
       "  0%|          | 0/100 [00:00<?, ?it/s]"
      ]
     },
     "metadata": {},
     "output_type": "display_data"
    }
   ],
   "source": [
    "# replicated\n",
    "scanpro_8_reps_logit_difs = test_performance(datasets_difs[f\"{n_reps}_reps\"], transform=\"logit\",\n",
    "                                             n_reps=n_reps, repd_data=True, null=False)"
   ]
  },
  {
   "cell_type": "code",
   "execution_count": 42,
   "id": "1433c481",
   "metadata": {},
   "outputs": [
    {
     "data": {
      "application/vnd.jupyter.widget-view+json": {
       "model_id": "184f101617af4b3c9c490fd616b4267a",
       "version_major": 2,
       "version_minor": 0
      },
      "text/plain": [
       "  0%|          | 0/100 [00:00<?, ?it/s]"
      ]
     },
     "metadata": {},
     "output_type": "display_data"
    }
   ],
   "source": [
    "# unreplicated\n",
    "scanpro_norep_8_reps_logit_difs = test_performance(datasets_difs[f\"{n_reps}_reps\"], transform=\"logit\",\n",
    "                                                    n_reps=n_reps, repd_data=False, null=False)"
   ]
  },
  {
   "cell_type": "markdown",
   "id": "b8c58854",
   "metadata": {},
   "source": [
    "#### arcsin"
   ]
  },
  {
   "cell_type": "code",
   "execution_count": 43,
   "id": "b9bb6be7",
   "metadata": {},
   "outputs": [
    {
     "data": {
      "application/vnd.jupyter.widget-view+json": {
       "model_id": "2b407b2eca10455b8a46fa53c27ec4a5",
       "version_major": 2,
       "version_minor": 0
      },
      "text/plain": [
       "  0%|          | 0/100 [00:00<?, ?it/s]"
      ]
     },
     "metadata": {},
     "output_type": "display_data"
    }
   ],
   "source": [
    "# replicated\n",
    "scanpro_8_reps_arcsin_difs = test_performance(datasets_difs[f\"{n_reps}_reps\"], transform=\"arcsin\",\n",
    "                                              n_reps=n_reps, repd_data=True, null=False)"
   ]
  },
  {
   "cell_type": "code",
   "execution_count": 44,
   "id": "21be0539",
   "metadata": {},
   "outputs": [
    {
     "data": {
      "application/vnd.jupyter.widget-view+json": {
       "model_id": "2e605c77b56a4447a86e9380040de0a6",
       "version_major": 2,
       "version_minor": 0
      },
      "text/plain": [
       "  0%|          | 0/100 [00:00<?, ?it/s]"
      ]
     },
     "metadata": {},
     "output_type": "display_data"
    }
   ],
   "source": [
    "# unreplicated\n",
    "scanpro_norep_8_reps_arcsin_difs = test_performance(datasets_difs[f\"{n_reps}_reps\"], transform=\"arcsin\",\n",
    "                                                    n_reps=n_reps, repd_data=False, null=False)"
   ]
  },
  {
   "cell_type": "markdown",
   "id": "cb212ee3",
   "metadata": {},
   "source": [
    "### 10 replicates"
   ]
  },
  {
   "cell_type": "code",
   "execution_count": 45,
   "id": "066490b1",
   "metadata": {},
   "outputs": [],
   "source": [
    "n_reps = 10"
   ]
  },
  {
   "cell_type": "markdown",
   "id": "aea9af46",
   "metadata": {},
   "source": [
    "#### logit"
   ]
  },
  {
   "cell_type": "code",
   "execution_count": 46,
   "id": "7233d44f",
   "metadata": {},
   "outputs": [
    {
     "data": {
      "application/vnd.jupyter.widget-view+json": {
       "model_id": "76f43187d9c5408c9c723f4741d7313a",
       "version_major": 2,
       "version_minor": 0
      },
      "text/plain": [
       "  0%|          | 0/100 [00:00<?, ?it/s]"
      ]
     },
     "metadata": {},
     "output_type": "display_data"
    }
   ],
   "source": [
    "# replicated\n",
    "scanpro_10_reps_logit_difs = test_performance(datasets_difs[f\"{n_reps}_reps\"], transform=\"logit\",\n",
    "                                              n_reps=n_reps, repd_data=True, null=False)"
   ]
  },
  {
   "cell_type": "code",
   "execution_count": 47,
   "id": "db8c57dd",
   "metadata": {},
   "outputs": [
    {
     "name": "stdout",
     "output_type": "stream",
     "text": [
      "The history saving thread hit an unexpected error (OperationalError('database or disk is full')).History will not be written to the database.\n"
     ]
    },
    {
     "data": {
      "application/vnd.jupyter.widget-view+json": {
       "model_id": "6adde1a2699a4905a8a15826dcdf5902",
       "version_major": 2,
       "version_minor": 0
      },
      "text/plain": [
       "  0%|          | 0/100 [00:00<?, ?it/s]"
      ]
     },
     "metadata": {},
     "output_type": "display_data"
    },
    {
     "name": "stdout",
     "output_type": "stream",
     "text": [
      "The history saving thread hit an unexpected error (OperationalError('database or disk is full')).History will not be written to the database.\n"
     ]
    }
   ],
   "source": [
    "# unreplicated\n",
    "scanpro_norep_10_reps_logit_difs = test_performance(datasets_difs[f\"{n_reps}_reps\"], transform=\"logit\",\n",
    "                                                    n_reps=n_reps, repd_data=False, null=False)"
   ]
  },
  {
   "cell_type": "markdown",
   "id": "2fdf4915",
   "metadata": {},
   "source": [
    "#### arcsin"
   ]
  },
  {
   "cell_type": "code",
   "execution_count": 48,
   "id": "30758785",
   "metadata": {},
   "outputs": [
    {
     "data": {
      "application/vnd.jupyter.widget-view+json": {
       "model_id": "573b50bf7d964265a7c8de4be83d8fe0",
       "version_major": 2,
       "version_minor": 0
      },
      "text/plain": [
       "  0%|          | 0/100 [00:00<?, ?it/s]"
      ]
     },
     "metadata": {},
     "output_type": "display_data"
    }
   ],
   "source": [
    "# replicated\n",
    "scanpro_10_reps_arcsin_difs = test_performance(datasets_difs[f\"{n_reps}_reps\"], transform=\"arcsin\",\n",
    "                                              n_reps=n_reps, repd_data=True, null=False)"
   ]
  },
  {
   "cell_type": "code",
   "execution_count": 49,
   "id": "d416ccfc",
   "metadata": {},
   "outputs": [
    {
     "data": {
      "application/vnd.jupyter.widget-view+json": {
       "model_id": "962bee10bc91452a8c658bdb59836b78",
       "version_major": 2,
       "version_minor": 0
      },
      "text/plain": [
       "  0%|          | 0/100 [00:00<?, ?it/s]"
      ]
     },
     "metadata": {},
     "output_type": "display_data"
    }
   ],
   "source": [
    "# unreplicated\n",
    "scanpro_norep_10_reps_arcsin_difs = test_performance(datasets_difs[f\"{n_reps}_reps\"], transform=\"arcsin\",\n",
    "                                                     n_reps=n_reps, repd_data=False, null=False)"
   ]
  },
  {
   "cell_type": "markdown",
   "id": "39c5525a",
   "metadata": {},
   "source": [
    "### 20 replicates"
   ]
  },
  {
   "cell_type": "code",
   "execution_count": 50,
   "id": "571e4285",
   "metadata": {},
   "outputs": [],
   "source": [
    "n_reps = 20"
   ]
  },
  {
   "cell_type": "markdown",
   "id": "139fd3e6",
   "metadata": {},
   "source": [
    "#### logit"
   ]
  },
  {
   "cell_type": "code",
   "execution_count": 51,
   "id": "d6c1b2b1",
   "metadata": {},
   "outputs": [
    {
     "data": {
      "application/vnd.jupyter.widget-view+json": {
       "model_id": "b17a7b8fdb564c21b51dfc74062f9ef8",
       "version_major": 2,
       "version_minor": 0
      },
      "text/plain": [
       "  0%|          | 0/100 [00:00<?, ?it/s]"
      ]
     },
     "metadata": {},
     "output_type": "display_data"
    }
   ],
   "source": [
    "# replicated\n",
    "scanpro_20_reps_logit_difs = test_performance(datasets_difs[f\"{n_reps}_reps\"], transform=\"logit\",\n",
    "                                              n_reps=n_reps, repd_data=True, null=False)"
   ]
  },
  {
   "cell_type": "code",
   "execution_count": 52,
   "id": "275eed41",
   "metadata": {},
   "outputs": [
    {
     "data": {
      "application/vnd.jupyter.widget-view+json": {
       "model_id": "11dbb160f9714c8090fe986674dd0e3e",
       "version_major": 2,
       "version_minor": 0
      },
      "text/plain": [
       "  0%|          | 0/100 [00:00<?, ?it/s]"
      ]
     },
     "metadata": {},
     "output_type": "display_data"
    }
   ],
   "source": [
    "# unreplicated\n",
    "scanpro_norep_20_reps_logit_difs = test_performance(datasets_difs[f\"{n_reps}_reps\"], transform=\"logit\",\n",
    "                                                    n_reps=n_reps, repd_data=False, null=False)"
   ]
  },
  {
   "cell_type": "markdown",
   "id": "dfaa3c2b",
   "metadata": {},
   "source": [
    "#### arcsin"
   ]
  },
  {
   "cell_type": "code",
   "execution_count": 53,
   "id": "11ae5b25",
   "metadata": {},
   "outputs": [
    {
     "data": {
      "application/vnd.jupyter.widget-view+json": {
       "model_id": "f5ffab559a64479dbe73c3b1a9192e23",
       "version_major": 2,
       "version_minor": 0
      },
      "text/plain": [
       "  0%|          | 0/100 [00:00<?, ?it/s]"
      ]
     },
     "metadata": {},
     "output_type": "display_data"
    }
   ],
   "source": [
    "# replicated\n",
    "scanpro_20_reps_arcsin_difs = test_performance(datasets_difs[f\"{n_reps}_reps\"], transform=\"arcsin\",\n",
    "                                               n_reps=n_reps, repd_data=True, null=False)"
   ]
  },
  {
   "cell_type": "code",
   "execution_count": 54,
   "id": "25c812c9",
   "metadata": {},
   "outputs": [
    {
     "data": {
      "application/vnd.jupyter.widget-view+json": {
       "model_id": "87692557eec74ee5a7c0a45f9e99a6e2",
       "version_major": 2,
       "version_minor": 0
      },
      "text/plain": [
       "  0%|          | 0/100 [00:00<?, ?it/s]"
      ]
     },
     "metadata": {},
     "output_type": "display_data"
    }
   ],
   "source": [
    "# replicated\n",
    "scanpro_norep_20_reps_arcsin_difs = test_performance(datasets_difs[f\"{n_reps}_reps\"], transform=\"arcsin\",\n",
    "                                                     n_reps=n_reps, repd_data=False, null=False)"
   ]
  },
  {
   "cell_type": "markdown",
   "id": "7b792ca1",
   "metadata": {},
   "source": [
    "### Results"
   ]
  },
  {
   "cell_type": "code",
   "execution_count": 55,
   "id": "c2df71a5",
   "metadata": {},
   "outputs": [],
   "source": [
    "difs_sim_results = {\"scanpro\": {\"logit_4_reps\": scanpro_4_reps_logit_difs,\n",
    "                               \"arcsin_4_reps\": scanpro_4_reps_arcsin_difs,\n",
    "                               \"logit_8_reps\": scanpro_8_reps_logit_difs,\n",
    "                               \"arcsin_8_reps\": scanpro_8_reps_arcsin_difs,\n",
    "                               \"logit_10_reps\": scanpro_10_reps_logit_difs,\n",
    "                               \"arcsin_10_reps\": scanpro_10_reps_arcsin_difs,\n",
    "                               \"logit_20_reps\": scanpro_20_reps_logit_difs,\n",
    "                               \"arcsin_20_reps\": scanpro_20_reps_arcsin_difs},\n",
    "                   \"scanpro_norep\": {\"logit_4_reps\": scanpro_norep_4_reps_logit_difs,\n",
    "                                   \"arcsin_4_reps\": scanpro_norep_4_reps_arcsin_difs,\n",
    "                                   \"logit_8_reps\": scanpro_norep_8_reps_logit_difs,\n",
    "                                   \"arcsin_8_reps\": scanpro_norep_8_reps_arcsin_difs,\n",
    "                                   \"logit_10_reps\": scanpro_norep_10_reps_logit_difs,\n",
    "                                   \"arcsin_10_reps\": scanpro_norep_10_reps_arcsin_difs,\n",
    "                                   \"logit_20_reps\": scanpro_norep_20_reps_logit_difs,\n",
    "                                   \"arcsin_20_reps\": scanpro_norep_20_reps_arcsin_difs}}"
   ]
  },
  {
   "cell_type": "code",
   "execution_count": 66,
   "id": "41e49f66",
   "metadata": {},
   "outputs": [],
   "source": [
    "difs_sim_hitrates = calc_hitrates(difs_sim_results, null=False, compare=compare_p_values)\n",
    "difs_sim_hitrates.to_csv(f'{OUT_PATH}/difs_sim_hitrates.tsv', sep='\\t')"
   ]
  },
  {
   "cell_type": "code",
   "execution_count": 72,
   "id": "6b9b757d",
   "metadata": {},
   "outputs": [],
   "source": [
    "difs_sim_pct_sig_cluster = calc_pct_significance(difs_sim_results, n_sims=100, null=False)\n",
    "difs_sim_pct_sig_cluster.to_csv(f'{OUT_PATH}/difs_sim_pct_sig_cluster.tsv', sep='\\t')"
   ]
  },
  {
   "cell_type": "code",
   "execution_count": 143,
   "id": "2b5b139d",
   "metadata": {},
   "outputs": [],
   "source": [
    "difs_sim_hitrate_cluster = calc_hitrate_cluster(difs_sim_results, null=False, compare=compare_p_values)\n",
    "difs_sim_hitrate_cluster.to_csv(f'{OUT_PATH}/difs_sim_hitrate_cluster.tsv', sep='\\t')"
   ]
  },
  {
   "cell_type": "code",
   "execution_count": null,
   "id": "6f5a564b",
   "metadata": {},
   "outputs": [],
   "source": []
  }
 ],
 "metadata": {
  "kernelspec": {
   "display_name": "scanpro",
   "language": "python",
   "name": "scanpro"
  },
  "language_info": {
   "codemirror_mode": {
    "name": "ipython",
    "version": 3
   },
   "file_extension": ".py",
   "mimetype": "text/x-python",
   "name": "python",
   "nbconvert_exporter": "python",
   "pygments_lexer": "ipython3",
   "version": "3.11.4"
  }
 },
 "nbformat": 4,
 "nbformat_minor": 5
}
