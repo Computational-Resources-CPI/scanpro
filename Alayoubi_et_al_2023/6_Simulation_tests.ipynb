{
 "cells": [
  {
   "cell_type": "markdown",
   "id": "0d0f16e2",
   "metadata": {},
   "source": [
    "This notebook is used to benchmark scanpro and scanpro_boot methods using simulated cell counts. Cell counts are simulated using the hierarchical model described in the propeller paper (Phipson et al., 2022). The function `simulate_cell_counts` is used to simulate clusters that do not differ in cell proportions across conditions. The function `simulate_cell_counts_2` is used for cell counts with differences in proportions in three cell types: cardiomyocytes, fibroblasts and smooth muscel cells. The function `convert_counts_to_df` is used to convert the simulated cell count matrix into a dataframe and dividing cells into two conditions.\n",
    "\n",
    "1 & 2: Testing performance of scanpro and scanpro_boot on 100 random datasets with no differences (1) and with differences (2). The hit rate is the proportion of tests where all clusters were identified as non-significant (1) or where only cardiomyocytes, fibroblasts and smooth muscle cells are identified as significant (2). We also visualize the proportion of significant tests for each cell types/cluster individually."
   ]
  },
  {
   "cell_type": "code",
   "execution_count": 1,
   "id": "10c53874",
   "metadata": {},
   "outputs": [],
   "source": [
    "import pandas as pd\n",
    "import numpy as np\n",
    "import multiprocessing as mp\n",
    "import time\n",
    "\n",
    "from scanpro import scanpro\n",
    "from scanpro.utils import simulate_cell_counts, simulate_cell_counts_2, convert_counts_to_df, estimate_params_from_counts"
   ]
  },
  {
   "cell_type": "code",
   "execution_count": 2,
   "id": "1e58fa5b",
   "metadata": {},
   "outputs": [],
   "source": [
    "OUT_PATH = './results/benchmark'"
   ]
  },
  {
   "cell_type": "code",
   "execution_count": 3,
   "id": "7a647f2f",
   "metadata": {},
   "outputs": [],
   "source": [
    "def simulate_data(p, a, b, n_reps, n_conds=2, n=20, mu=5000, n_sims=100, null=True):\n",
    "    if b is None:\n",
    "        b = a * (1-p) / p\n",
    "        \n",
    "    datasets = []\n",
    "    for sim in range(n_sims):\n",
    "        if null:  # null simulation -> no differences\n",
    "            counts = simulate_cell_counts(p, n_reps, a, b, n_conds, n=n, mu=mu)\n",
    "        else:  # true differences\n",
    "            counts = simulate_cell_counts_2(p, n_reps, a, b, n_conds, n=n, mu=mu)\n",
    "\n",
    "        counts_df = convert_counts_to_df(counts, column_name=\"cluster\")\n",
    "\n",
    "        datasets.append(counts_df)\n",
    "    \n",
    "    return datasets"
   ]
  },
  {
   "cell_type": "markdown",
   "id": "5ad9ccc5",
   "metadata": {},
   "source": [
    "# Benchmarking"
   ]
  },
  {
   "cell_type": "code",
   "execution_count": 4,
   "id": "f2c75b7f",
   "metadata": {},
   "outputs": [],
   "source": [
    "def monitor_jobs(jobs):\n",
    "    \"\"\"\n",
    "    Monitor the status of jobs submitted to a pool.\n",
    "\n",
    "    Parameters\n",
    "    ----------\n",
    "    jobs : list of job objects\n",
    "        List of job objects, e.g. as returned by pool.map_async().\n",
    "    \"\"\"\n",
    "\n",
    "    if isinstance(jobs, dict):\n",
    "        jobs = list(jobs.values())\n",
    "\n",
    "    from tqdm import tqdm_notebook as tqdm\n",
    "    pbar = tqdm(total=len(jobs))\n",
    "    \n",
    "    # Wait for all jobs to finish\n",
    "    n_ready = sum([job.ready() for job in jobs])\n",
    "    while n_ready != len(jobs):\n",
    "        if n_ready != pbar.n:\n",
    "            pbar.n = n_ready\n",
    "            pbar.refresh()\n",
    "        time.sleep(1)\n",
    "        n_ready = sum([job.ready() for job in jobs])\n",
    "\n",
    "    pbar.n = n_ready  # update progress bar to 100%\n",
    "    pbar.refresh()\n",
    "    pbar.close()"
   ]
  },
  {
   "cell_type": "code",
   "execution_count": 5,
   "id": "da8e8886",
   "metadata": {},
   "outputs": [],
   "source": [
    "def test_performance(datasets,\n",
    "                     n_reps,  # number of samples per condition\n",
    "                     transform,\n",
    "                     null=True,\n",
    "                     repd_data=False\n",
    "                     ):\n",
    "    \"\"\"Test the performance of normal and bootstrap scanpro on simulated data.\n",
    "    :param list datasets: List of datasets as pandas dataframes to run scanpro on\n",
    "    :param int n_reps: Number of replicates the bootstrap is going to generate\n",
    "    :param str transform: method of transformation (logit or arcsin)\n",
    "    :return pandas.DataFrame all_run_results: A dataframe with results from all runs.\n",
    "    \"\"\"\n",
    "    \n",
    "    pool = mp.Pool()\n",
    "    jobs = []\n",
    "\n",
    "    for dataset in datasets:\n",
    "\n",
    "        if not repd_data:\n",
    "            samples_col = None\n",
    "        else:\n",
    "            samples_col = \"samples\"\n",
    "\n",
    "        # Run Scanpro or scanpro bootstrapping on 100 datasets\n",
    "        job = pool.apply_async(scanpro.scanpro, (dataset,), dict(clusters_col=\"cluster\", conds_col=\"group\", \n",
    "                                                                 samples_col=samples_col, n_reps=n_reps,\n",
    "                                                                 transform=transform, verbosity=0))\n",
    "        jobs.append(job)\n",
    "\n",
    "    pool.close()\n",
    "    monitor_jobs(jobs)\n",
    "\n",
    "    results = [job.get() for job in jobs]\n",
    "    pool.join()\n",
    "\n",
    "    # Collect result\n",
    "    all_run_results = pd.concat([result.results for result in results])\n",
    "\n",
    "    return all_run_results"
   ]
  },
  {
   "cell_type": "code",
   "execution_count": 6,
   "id": "045d51f0",
   "metadata": {},
   "outputs": [],
   "source": [
    "#### HELPER STATISTCS FUNCTIONS ####\n",
    "\n",
    "def compare_p_values(p_values, per_cluster=False):\n",
    "    \"\"\" Compare p-values of simulation with differences with expected output\"\"\"\n",
    "    out = []\n",
    "    for x in p_values:\n",
    "        if per_cluster:\n",
    "            # save hit rate per cluster\n",
    "            hitrate = [x[0]<.05, x[1]>=.05, x[2]>=.05, x[3]<.05, x[4]>=.05, x[5]>=.05, x[6]<0.05]\n",
    "        else:\n",
    "            # save hit rate per run\n",
    "            hitrate = x[0]<0.05 and x[1]>=0.05 and x[2]>=0.05 and x[3]<0.05 and x[4]>=0.05 and x[5]>=0.05 and x[6]<0.05\n",
    "        out.append(hitrate)\n",
    "\n",
    "    return out\n",
    "\n",
    "\n",
    "def calc_hitrates(results, null=True, compare=None):\n",
    "    out = {tool: {method: None for method in list(results[\"rep\"].keys())} for tool in results.keys()}\n",
    "    for tool in results.keys():\n",
    "        for method in results[tool]:\n",
    "            p_values = [results[tool][method].iloc[i:i+7, -1] for i in np.arange(0, len(results[tool][method]+1), 7)]\n",
    "            if null:\n",
    "                # if null simulation, check if all p-values > 0.05\n",
    "                out[tool][method] = np.mean([all(p_value > 0.05) for p_value in p_values]) * 100\n",
    "            else:\n",
    "                if compare is None:\n",
    "                    raise ValueError(\"Please provide a compare function!\")\n",
    "                \n",
    "                out[tool][method] = np.mean(compare(p_values)) * 100\n",
    "\n",
    "    return pd.DataFrame(out)\n",
    "\n",
    "\n",
    "def calc_hitrate_cluster(results, rep=True, null=True, compare=None):\n",
    "    \"\"\"Calculate hit rate per cluster for the bootstrapping method\"\"\"\n",
    "    tool = 'rep' if rep else 'norep'\n",
    "    \n",
    "    hit_rate_cluster = {method: None for method in results[tool].keys()}\n",
    "    props = []  # mean cluster proportions\n",
    "    for method in results[tool]:\n",
    "        # save mean cluster proportions\n",
    "        props.append(results[tool][method].reset_index().groupby('clusters').mean()['baseline_props'].to_list())\n",
    "        # if null, check if all p-values > 0.05\n",
    "        if null:\n",
    "            hit_rates = results[tool][method].iloc[:, -1] > 0.05\n",
    "            # get hit rate for each of the 5 clusters\n",
    "            hit_rate_cluster[method] = np.mean(np.array(hit_rates.to_list()).reshape(100, 5), axis=0) * 100\n",
    "        else:\n",
    "            # get p-values for each run\n",
    "            p_values = [results[tool][method].iloc[i:i+7, -1] for i in np.arange(0, len(results[tool][method]+1), 7)]\n",
    "            # check if p-values significance is as expected\n",
    "            hit_rate_cluster[method] = compare_p_values(p_values, per_cluster=True)\n",
    "            hit_rate_cluster[method] = np.mean(hit_rate_cluster[method], axis=0) * 100\n",
    "    \n",
    "    hit_rate_cluster = pd.DataFrame(hit_rate_cluster)\n",
    "    hit_rate_cluster['cluster'] = results[tool]['logit_4_reps'].index.unique()\n",
    "    hit_rate_cluster = hit_rate_cluster.melt(id_vars='cluster')\n",
    "    hit_rate_cluster.rename(columns={'variable': 'method', 'value': 'hit_rate'}, inplace=True)\n",
    "    # add mean cluster proportions\n",
    "    hit_rate_cluster['props'] = list(np.array(props).flat)\n",
    "    \n",
    "    return hit_rate_cluster\n",
    "\n",
    "\n",
    "def calc_pct_significance(results, null=True, n_sims=100):\n",
    "    \"\"\" calculate percentage of significant tests per cluster\"\"\"\n",
    "    n_clusters = 5 if null else 7\n",
    "    out = {tool: [] for tool in results.keys()}\n",
    "    for tool in results.keys():\n",
    "        for method in results[tool]:\n",
    "            clusters = list(results[tool][method].index.unique())\n",
    "            # get p_values with simulations as rows and clusters as cols\n",
    "            df = results[tool][method].iloc[:, -1].reset_index().copy()\n",
    "            df[\"sim\"] = np.repeat([i for i in range(1, 101)], n_clusters)\n",
    "            df[\"sim\"] = df[\"sim\"].astype(int)\n",
    "            df = df.pivot(columns=\"clusters\", index=\"sim\").sort_index()\n",
    "            df.columns = df.columns.droplevel()\n",
    "\n",
    "            for cluster in clusters:\n",
    "                # save proportions of significant p-values for each cluster independently\n",
    "                try:\n",
    "                    out[tool].append((df[cluster] < 0.05).value_counts(normalize=True)[True])\n",
    "                except KeyError:  # if test has 100% hit rate for a cluster, error is 0\n",
    "                    out[tool].append(0)\n",
    "            \n",
    "    \n",
    "    out = pd.DataFrame(out)\n",
    "    out = out.melt()\n",
    "    out['cluster'] = np.tile(clusters, out.shape[0]//len(clusters))\n",
    "    out['method'] = np.repeat(list(results['rep'].keys())*2, n_clusters)\n",
    "    out = out.rename(columns={'variable': 'tool', 'value': 'pct_sig'})\n",
    "    \n",
    "    return out"
   ]
  },
  {
   "cell_type": "markdown",
   "id": "df7bef33",
   "metadata": {},
   "source": [
    "## 1. Null simulations"
   ]
  },
  {
   "cell_type": "markdown",
   "id": "9779bda4",
   "metadata": {},
   "source": [
    "### simulate datasets"
   ]
  },
  {
   "cell_type": "code",
   "execution_count": 7,
   "id": "af19b513",
   "metadata": {},
   "outputs": [],
   "source": [
    "np.random.seed(10)\n",
    "\n",
    "p = np.array([0.01, 0.05, 0.15, 0.34, 0.45])  # clusters proportions in all samples\n",
    "a = 10\n",
    "b = a*(1-p)/p\n",
    "n_reps = [4, 8, 10, 20]\n",
    "\n",
    "datasets_null = {f\"{n_rep}_reps\": simulate_data(p, a, b, n_rep, n_conds=2, n=20, mu=5000, n_sims=100, null=True) for n_rep in n_reps}"
   ]
  },
  {
   "cell_type": "markdown",
   "id": "69d0e29d",
   "metadata": {},
   "source": [
    "### 4 replicates"
   ]
  },
  {
   "cell_type": "code",
   "execution_count": 8,
   "id": "1176fba9",
   "metadata": {},
   "outputs": [],
   "source": [
    "n_reps = 4"
   ]
  },
  {
   "cell_type": "markdown",
   "id": "c29af8b4",
   "metadata": {},
   "source": [
    "#### logit"
   ]
  },
  {
   "cell_type": "code",
   "execution_count": 9,
   "id": "beb24895",
   "metadata": {},
   "outputs": [
    {
     "data": {
      "application/vnd.jupyter.widget-view+json": {
       "model_id": "8777309499d343689c8bf5c589240917",
       "version_major": 2,
       "version_minor": 0
      },
      "text/plain": [
       "  0%|          | 0/100 [00:00<?, ?it/s]"
      ]
     },
     "metadata": {},
     "output_type": "display_data"
    }
   ],
   "source": [
    "# replicated\n",
    "scanpro_4_reps_logit = test_performance(datasets_null[f\"{n_reps}_reps\"], transform=\"logit\",\n",
    "                                        n_reps=n_reps, repd_data=True, null=True)"
   ]
  },
  {
   "cell_type": "code",
   "execution_count": 10,
   "id": "1e110394",
   "metadata": {},
   "outputs": [
    {
     "data": {
      "application/vnd.jupyter.widget-view+json": {
       "model_id": "e0a4d874fd2c4b76beac0791dd4f6d69",
       "version_major": 2,
       "version_minor": 0
      },
      "text/plain": [
       "  0%|          | 0/100 [00:00<?, ?it/s]"
      ]
     },
     "metadata": {},
     "output_type": "display_data"
    }
   ],
   "source": [
    "# unreplicated\n",
    "scanpro_norep_4_reps_logit = test_performance(datasets_null[f\"{n_reps}_reps\"], transform=\"logit\",\n",
    "                                              n_reps=n_reps, repd_data=False, null=True)"
   ]
  },
  {
   "cell_type": "markdown",
   "id": "75f0f387",
   "metadata": {},
   "source": [
    "#### arcsine"
   ]
  },
  {
   "cell_type": "code",
   "execution_count": 11,
   "id": "387fb074",
   "metadata": {},
   "outputs": [
    {
     "data": {
      "application/vnd.jupyter.widget-view+json": {
       "model_id": "e27244ea1fd04807a7064ef131329aa9",
       "version_major": 2,
       "version_minor": 0
      },
      "text/plain": [
       "  0%|          | 0/100 [00:00<?, ?it/s]"
      ]
     },
     "metadata": {},
     "output_type": "display_data"
    }
   ],
   "source": [
    "# replicated\n",
    "scanpro_4_reps_arcsin = test_performance(datasets_null[f\"{n_reps}_reps\"], transform=\"arcsin\",\n",
    "                                         n_reps=n_reps, repd_data=True, null=True)"
   ]
  },
  {
   "cell_type": "code",
   "execution_count": 12,
   "id": "60aad50a",
   "metadata": {},
   "outputs": [
    {
     "data": {
      "application/vnd.jupyter.widget-view+json": {
       "model_id": "f072aa501d904e0bbcece15f6100bf49",
       "version_major": 2,
       "version_minor": 0
      },
      "text/plain": [
       "  0%|          | 0/100 [00:00<?, ?it/s]"
      ]
     },
     "metadata": {},
     "output_type": "display_data"
    }
   ],
   "source": [
    "# unreplicated\n",
    "scanpro_norep_4_reps_arcsin = test_performance(datasets_null[f\"{n_reps}_reps\"], transform=\"arcsin\",\n",
    "                                               n_reps=n_reps, repd_data=False, null=True)"
   ]
  },
  {
   "cell_type": "markdown",
   "id": "50312ffb",
   "metadata": {},
   "source": [
    "### 8 replicates"
   ]
  },
  {
   "cell_type": "code",
   "execution_count": 13,
   "id": "f7683b8d",
   "metadata": {},
   "outputs": [],
   "source": [
    "n_reps = 8"
   ]
  },
  {
   "cell_type": "markdown",
   "id": "da76084b",
   "metadata": {},
   "source": [
    "#### logit"
   ]
  },
  {
   "cell_type": "code",
   "execution_count": 14,
   "id": "51c05267",
   "metadata": {},
   "outputs": [
    {
     "data": {
      "application/vnd.jupyter.widget-view+json": {
       "model_id": "9262588abd8e4719a5fa060600f2756b",
       "version_major": 2,
       "version_minor": 0
      },
      "text/plain": [
       "  0%|          | 0/100 [00:00<?, ?it/s]"
      ]
     },
     "metadata": {},
     "output_type": "display_data"
    }
   ],
   "source": [
    "# replicated\n",
    "scanpro_8_reps_logit = test_performance(datasets_null[f\"{n_reps}_reps\"], transform=\"logit\",\n",
    "                                        n_reps=n_reps, repd_data=True, null=True)"
   ]
  },
  {
   "cell_type": "code",
   "execution_count": 15,
   "id": "9e0ba056",
   "metadata": {},
   "outputs": [
    {
     "data": {
      "application/vnd.jupyter.widget-view+json": {
       "model_id": "3e9289cc87624c1d9f81b0f714523098",
       "version_major": 2,
       "version_minor": 0
      },
      "text/plain": [
       "  0%|          | 0/100 [00:00<?, ?it/s]"
      ]
     },
     "metadata": {},
     "output_type": "display_data"
    }
   ],
   "source": [
    "# unreplicated\n",
    "scanpro_norep_8_reps_logit = test_performance(datasets_null[f\"{n_reps}_reps\"], transform=\"logit\",\n",
    "                                              n_reps=n_reps, repd_data=False, null=True)"
   ]
  },
  {
   "cell_type": "markdown",
   "id": "e3f9c7d7",
   "metadata": {},
   "source": [
    "#### arcsine"
   ]
  },
  {
   "cell_type": "code",
   "execution_count": 16,
   "id": "f00311ef",
   "metadata": {},
   "outputs": [
    {
     "data": {
      "application/vnd.jupyter.widget-view+json": {
       "model_id": "a342151275c54d83a241a528b7433b09",
       "version_major": 2,
       "version_minor": 0
      },
      "text/plain": [
       "  0%|          | 0/100 [00:00<?, ?it/s]"
      ]
     },
     "metadata": {},
     "output_type": "display_data"
    }
   ],
   "source": [
    "# replicated\n",
    "scanpro_8_reps_arcsin = test_performance(datasets_null[f\"{n_reps}_reps\"], transform=\"arcsin\",\n",
    "                                        n_reps=n_reps, repd_data=True, null=True)"
   ]
  },
  {
   "cell_type": "code",
   "execution_count": 17,
   "id": "f440375f",
   "metadata": {},
   "outputs": [
    {
     "data": {
      "application/vnd.jupyter.widget-view+json": {
       "model_id": "460fad0aaf8c4c87baeec65f393a3e53",
       "version_major": 2,
       "version_minor": 0
      },
      "text/plain": [
       "  0%|          | 0/100 [00:00<?, ?it/s]"
      ]
     },
     "metadata": {},
     "output_type": "display_data"
    }
   ],
   "source": [
    "# replicated\n",
    "scanpro_norep_8_reps_arcsin = test_performance(datasets_null[f\"{n_reps}_reps\"], transform=\"arcsin\",\n",
    "                                               n_reps=n_reps, repd_data=False, null=True)"
   ]
  },
  {
   "cell_type": "markdown",
   "id": "de798bc7",
   "metadata": {},
   "source": [
    "### 10 reps"
   ]
  },
  {
   "cell_type": "code",
   "execution_count": 18,
   "id": "73abbebf",
   "metadata": {},
   "outputs": [],
   "source": [
    "n_reps = 10"
   ]
  },
  {
   "cell_type": "markdown",
   "id": "ce179ce3",
   "metadata": {},
   "source": [
    "#### logit"
   ]
  },
  {
   "cell_type": "code",
   "execution_count": 19,
   "id": "f0fcbffd",
   "metadata": {},
   "outputs": [
    {
     "data": {
      "application/vnd.jupyter.widget-view+json": {
       "model_id": "c8dc079c8acf443286beca014d3a85f1",
       "version_major": 2,
       "version_minor": 0
      },
      "text/plain": [
       "  0%|          | 0/100 [00:00<?, ?it/s]"
      ]
     },
     "metadata": {},
     "output_type": "display_data"
    }
   ],
   "source": [
    "# replicated\n",
    "scanpro_10_reps_logit = test_performance(datasets_null[f\"{n_reps}_reps\"], transform=\"logit\",\n",
    "                                        n_reps=n_reps, repd_data=True, null=True)"
   ]
  },
  {
   "cell_type": "code",
   "execution_count": 20,
   "id": "5184f0d6",
   "metadata": {},
   "outputs": [
    {
     "data": {
      "application/vnd.jupyter.widget-view+json": {
       "model_id": "4b5b76d660cd48ffb490267d937942ee",
       "version_major": 2,
       "version_minor": 0
      },
      "text/plain": [
       "  0%|          | 0/100 [00:00<?, ?it/s]"
      ]
     },
     "metadata": {},
     "output_type": "display_data"
    }
   ],
   "source": [
    "# replicated\n",
    "scanpro_norep_10_reps_logit = test_performance(datasets_null[f\"{n_reps}_reps\"], transform=\"logit\",\n",
    "                                               n_reps=n_reps, repd_data=False, null=True)"
   ]
  },
  {
   "cell_type": "markdown",
   "id": "d21d6f9e",
   "metadata": {},
   "source": [
    "#### arcsine"
   ]
  },
  {
   "cell_type": "code",
   "execution_count": 21,
   "id": "53cf364a",
   "metadata": {},
   "outputs": [
    {
     "data": {
      "application/vnd.jupyter.widget-view+json": {
       "model_id": "463f38cd707f4742bc01b8a3dcec6164",
       "version_major": 2,
       "version_minor": 0
      },
      "text/plain": [
       "  0%|          | 0/100 [00:00<?, ?it/s]"
      ]
     },
     "metadata": {},
     "output_type": "display_data"
    }
   ],
   "source": [
    "# replicated\n",
    "scanpro_10_reps_arcsin = test_performance(datasets_null[f\"{n_reps}_reps\"], transform=\"arcsin\",\n",
    "                                        n_reps=n_reps, repd_data=True, null=True)"
   ]
  },
  {
   "cell_type": "code",
   "execution_count": 22,
   "id": "0857265f",
   "metadata": {},
   "outputs": [
    {
     "data": {
      "application/vnd.jupyter.widget-view+json": {
       "model_id": "f923860e25254cb19c8fb8865a38d0cc",
       "version_major": 2,
       "version_minor": 0
      },
      "text/plain": [
       "  0%|          | 0/100 [00:00<?, ?it/s]"
      ]
     },
     "metadata": {},
     "output_type": "display_data"
    }
   ],
   "source": [
    "# replicated\n",
    "scanpro_norep_10_reps_arcsin = test_performance(datasets_null[f\"{n_reps}_reps\"], transform=\"arcsin\",\n",
    "                                                n_reps=n_reps, repd_data=False, null=True)"
   ]
  },
  {
   "cell_type": "markdown",
   "id": "120435b9",
   "metadata": {},
   "source": [
    "### 20 reps"
   ]
  },
  {
   "cell_type": "code",
   "execution_count": 23,
   "id": "325d93ac",
   "metadata": {},
   "outputs": [],
   "source": [
    "n_reps = 20"
   ]
  },
  {
   "cell_type": "markdown",
   "id": "b6a5825e",
   "metadata": {},
   "source": [
    "#### logit"
   ]
  },
  {
   "cell_type": "code",
   "execution_count": 24,
   "id": "8ae72b1a",
   "metadata": {},
   "outputs": [
    {
     "data": {
      "application/vnd.jupyter.widget-view+json": {
       "model_id": "f64d6fa5e89b42cfb9119ae3610dac9d",
       "version_major": 2,
       "version_minor": 0
      },
      "text/plain": [
       "  0%|          | 0/100 [00:00<?, ?it/s]"
      ]
     },
     "metadata": {},
     "output_type": "display_data"
    }
   ],
   "source": [
    "# replicated\n",
    "scanpro_20_reps_logit = test_performance(datasets_null[f\"{n_reps}_reps\"], transform=\"logit\",\n",
    "                                         n_reps=n_reps, repd_data=True, null=True)"
   ]
  },
  {
   "cell_type": "code",
   "execution_count": 25,
   "id": "2d424e63",
   "metadata": {},
   "outputs": [
    {
     "data": {
      "application/vnd.jupyter.widget-view+json": {
       "model_id": "19f47b0d57314ede8aaa0b7c996a4a69",
       "version_major": 2,
       "version_minor": 0
      },
      "text/plain": [
       "  0%|          | 0/100 [00:00<?, ?it/s]"
      ]
     },
     "metadata": {},
     "output_type": "display_data"
    }
   ],
   "source": [
    "# replicated\n",
    "scanpro_norep_20_reps_logit = test_performance(datasets_null[f\"{n_reps}_reps\"], transform=\"logit\",\n",
    "                                               n_reps=n_reps, repd_data=False, null=True)"
   ]
  },
  {
   "cell_type": "markdown",
   "id": "d9edf7ac",
   "metadata": {},
   "source": [
    "#### arcsine"
   ]
  },
  {
   "cell_type": "code",
   "execution_count": 26,
   "id": "df83e4d7",
   "metadata": {},
   "outputs": [
    {
     "data": {
      "application/vnd.jupyter.widget-view+json": {
       "model_id": "7bbdff6e723740f89513b60c5eda7b81",
       "version_major": 2,
       "version_minor": 0
      },
      "text/plain": [
       "  0%|          | 0/100 [00:00<?, ?it/s]"
      ]
     },
     "metadata": {},
     "output_type": "display_data"
    }
   ],
   "source": [
    "# replicated\n",
    "scanpro_20_reps_arcsin = test_performance(datasets_null[f\"{n_reps}_reps\"], transform=\"arcsin\",\n",
    "                                         n_reps=n_reps, repd_data=True, null=True)"
   ]
  },
  {
   "cell_type": "code",
   "execution_count": 27,
   "id": "4153062d",
   "metadata": {},
   "outputs": [
    {
     "data": {
      "application/vnd.jupyter.widget-view+json": {
       "model_id": "2d89ac7bc0584d5b85923149ea637469",
       "version_major": 2,
       "version_minor": 0
      },
      "text/plain": [
       "  0%|          | 0/100 [00:00<?, ?it/s]"
      ]
     },
     "metadata": {},
     "output_type": "display_data"
    }
   ],
   "source": [
    "# replicated\n",
    "scanpro_norep_20_reps_arcsin = test_performance(datasets_null[f\"{n_reps}_reps\"], transform=\"arcsin\",\n",
    "                                                n_reps=n_reps, repd_data=False, null=True)"
   ]
  },
  {
   "cell_type": "markdown",
   "id": "c45b93e9",
   "metadata": {},
   "source": [
    "### Results"
   ]
  },
  {
   "cell_type": "code",
   "execution_count": 28,
   "id": "8181de6d",
   "metadata": {},
   "outputs": [],
   "source": [
    "null_sim_results = {\"rep\": {\"logit_4_reps\": scanpro_4_reps_logit,\n",
    "                               \"arcsin_4_reps\": scanpro_4_reps_arcsin,\n",
    "                               \"logit_8_reps\": scanpro_8_reps_logit,\n",
    "                               \"arcsin_8_reps\": scanpro_8_reps_arcsin,\n",
    "                               \"logit_10_reps\": scanpro_10_reps_logit,\n",
    "                               \"arcsin_10_reps\": scanpro_10_reps_arcsin,\n",
    "                               \"logit_20_reps\": scanpro_20_reps_logit,\n",
    "                               \"arcsin_20_reps\": scanpro_20_reps_arcsin},\n",
    "                   \"norep\": {\"logit_4_reps\": scanpro_norep_4_reps_logit,\n",
    "                                   \"arcsin_4_reps\": scanpro_norep_4_reps_arcsin,\n",
    "                                   \"logit_8_reps\": scanpro_norep_8_reps_logit,\n",
    "                                   \"arcsin_8_reps\": scanpro_norep_8_reps_arcsin,\n",
    "                                   \"logit_10_reps\": scanpro_norep_10_reps_logit,\n",
    "                                   \"arcsin_10_reps\": scanpro_norep_10_reps_arcsin,\n",
    "                                   \"logit_20_reps\": scanpro_norep_20_reps_logit,\n",
    "                                   \"arcsin_20_reps\": scanpro_norep_20_reps_arcsin}}"
   ]
  },
  {
   "cell_type": "markdown",
   "id": "23770fae",
   "metadata": {},
   "source": [
    "#### Hit Rate\n",
    "Hit rate is the proportion of tests (out of `n_sims` tests) where the results matched the results with original replicates exactly, that is, all significant and non-significant clusters in the original results where identified as such in the bootstrap simulation (hit)"
   ]
  },
  {
   "cell_type": "code",
   "execution_count": 29,
   "id": "6e0ed428",
   "metadata": {},
   "outputs": [],
   "source": [
    "null_sim_hitrates = calc_hitrates(null_sim_results, null=True)\n",
    "null_sim_hitrates.to_csv(f'{OUT_PATH}/null_sim_hitrates.tsv', sep='\\t')"
   ]
  },
  {
   "cell_type": "code",
   "execution_count": 30,
   "id": "00995468",
   "metadata": {},
   "outputs": [],
   "source": [
    "null_sim_pct_sig_cluster = calc_pct_significance(null_sim_results, n_sims=100)\n",
    "null_sim_pct_sig_cluster.to_csv(f'{OUT_PATH}/null_sim_pct_sig_cluster.tsv', sep='\\t')"
   ]
  },
  {
   "cell_type": "code",
   "execution_count": 31,
   "id": "81ffa455",
   "metadata": {
    "scrolled": true
   },
   "outputs": [],
   "source": [
    "# get hit rate per cluster\n",
    "null_sim_hitrate_cluster_rep = calc_hitrate_cluster(null_sim_results, rep=True, null=True)\n",
    "null_sim_hitrate_cluster_rep.to_csv(f'{OUT_PATH}/null_sim_rep_hitrate_cluster.tsv', sep='\\t')\n",
    "\n",
    "null_sim_hitrate_cluster_norep = calc_hitrate_cluster(null_sim_results, rep=False, null=True)\n",
    "null_sim_hitrate_cluster_norep.to_csv(f'{OUT_PATH}/null_sim_norep_hitrate_cluster.tsv', sep='\\t')"
   ]
  },
  {
   "cell_type": "markdown",
   "id": "3cd592a0",
   "metadata": {},
   "source": [
    "## 2. Simulation with true differences"
   ]
  },
  {
   "cell_type": "markdown",
   "id": "29c8296d",
   "metadata": {},
   "source": [
    "### Data preperation\n",
    "see https://phipsonlab.github.io/propeller-paper-analysis/SimTrueDiff.html"
   ]
  },
  {
   "cell_type": "code",
   "execution_count": 32,
   "id": "459cb41e",
   "metadata": {},
   "outputs": [
    {
     "data": {
      "text/plain": [
       "[Cardiomyocytes           1.769390\n",
       " Endothelial cells      107.760684\n",
       " Epicardial cells        47.297371\n",
       " Fibroblast              14.138098\n",
       " Immune cells            16.442437\n",
       " Neurons                143.134155\n",
       " Smooth muscle cells    458.574736\n",
       " dtype: float64,\n",
       " Cardiomyocytes           4.742325\n",
       " Endothelial cells      107.760684\n",
       " Epicardial cells        47.297371\n",
       " Fibroblast               4.666523\n",
       " Immune cells            16.442437\n",
       " Neurons                143.134155\n",
       " Smooth muscle cells    150.405074\n",
       " dtype: float64]"
      ]
     },
     "execution_count": 32,
     "metadata": {},
     "output_type": "execute_result"
    }
   ],
   "source": [
    "heart_counts = pd.read_csv('/home/yalayou/pypropeller/Alayoubi_et_al_2023/data/heart_counts.tsv', sep='\\t')\n",
    "heart_counts.drop(['Condition', 'Sex'], inplace=True, axis=1)\n",
    "heart_counts = heart_counts.set_index('Sample').T\n",
    "heart_counts.drop('Erythroid', inplace=True)  # remove erythroids\n",
    "\n",
    "# proportions of each cluster in all samples\n",
    "true_props = heart_counts.sum(axis=1) / heart_counts.sum(axis=1).sum()  # sum of cells in cluster / sum of all cells\n",
    "true_props = true_props.to_frame(name=\"props\")\n",
    "\n",
    "# estimate beta paramters from counts\n",
    "params = estimate_params_from_counts(heart_counts)  # rows are clusters\n",
    "a = params[1]\n",
    "b = params[2]\n",
    "\n",
    "# Set up true proportions for the two groups\n",
    "grp1_trueprops = true_props.values.flatten()\n",
    "grp2_trueprops = true_props.values.flatten()\n",
    "\n",
    "grp2_trueprops[0] = grp1_trueprops[0]/2\n",
    "grp2_trueprops[3] = grp2_trueprops[3]*2\n",
    "grp2_trueprops[6] = grp1_trueprops[6]*3\n",
    "\n",
    "grp2_trueprops[0] = grp2_trueprops[0] + (1-grp2_trueprops.sum())/2\n",
    "grp2_trueprops[3] = grp2_trueprops[3] + (1-grp2_trueprops.sum())\n",
    " \n",
    "# calculate beta for both groups\n",
    "b1 = a*(1-grp1_trueprops)/grp1_trueprops\n",
    "b2 = a*(1-grp2_trueprops)/grp2_trueprops\n",
    "b_grps = [b1, b2]\n",
    "\n",
    "b_grps"
   ]
  },
  {
   "cell_type": "markdown",
   "id": "31ebaf0f",
   "metadata": {},
   "source": [
    "### Simulate datasets"
   ]
  },
  {
   "cell_type": "code",
   "execution_count": 33,
   "id": "bc39d49d",
   "metadata": {},
   "outputs": [],
   "source": [
    "np.random.seed(10)\n",
    "\n",
    "n_reps = [4, 8, 10, 20]\n",
    "\n",
    "datasets_difs = {f\"{n_rep}_reps\": simulate_data(true_props, a, b_grps, n_rep, n_conds=2, n=20, mu=5000, n_sims=100, null=False) for n_rep in n_reps}"
   ]
  },
  {
   "cell_type": "markdown",
   "id": "a31ce46d",
   "metadata": {},
   "source": [
    "### 4 replicates"
   ]
  },
  {
   "cell_type": "code",
   "execution_count": 34,
   "id": "46040046",
   "metadata": {},
   "outputs": [],
   "source": [
    "n_reps = 4"
   ]
  },
  {
   "cell_type": "markdown",
   "id": "4f999b60",
   "metadata": {},
   "source": [
    "#### logit"
   ]
  },
  {
   "cell_type": "code",
   "execution_count": 35,
   "id": "ec55ee83",
   "metadata": {},
   "outputs": [
    {
     "data": {
      "application/vnd.jupyter.widget-view+json": {
       "model_id": "d5dca76e231247d78c6a0373d4f1badb",
       "version_major": 2,
       "version_minor": 0
      },
      "text/plain": [
       "  0%|          | 0/100 [00:00<?, ?it/s]"
      ]
     },
     "metadata": {},
     "output_type": "display_data"
    }
   ],
   "source": [
    "# replicated\n",
    "scanpro_4_reps_logit_difs = test_performance(datasets_difs[f\"{n_reps}_reps\"], transform=\"logit\",\n",
    "                                             n_reps=n_reps, repd_data=True, null=False)"
   ]
  },
  {
   "cell_type": "code",
   "execution_count": 36,
   "id": "4fe8e87d",
   "metadata": {},
   "outputs": [
    {
     "data": {
      "application/vnd.jupyter.widget-view+json": {
       "model_id": "7c973705fddb4abb80a320df6f664398",
       "version_major": 2,
       "version_minor": 0
      },
      "text/plain": [
       "  0%|          | 0/100 [00:00<?, ?it/s]"
      ]
     },
     "metadata": {},
     "output_type": "display_data"
    }
   ],
   "source": [
    "# unreplicated\n",
    "scanpro_norep_4_reps_logit_difs = test_performance(datasets_difs[f\"{n_reps}_reps\"], transform=\"logit\",\n",
    "                                                   n_reps=n_reps, repd_data=False, null=False)"
   ]
  },
  {
   "cell_type": "markdown",
   "id": "049fee45",
   "metadata": {},
   "source": [
    "#### arcsin"
   ]
  },
  {
   "cell_type": "code",
   "execution_count": 37,
   "id": "35072315",
   "metadata": {},
   "outputs": [
    {
     "data": {
      "application/vnd.jupyter.widget-view+json": {
       "model_id": "903cc955013d46bb95d1fac62d8afe16",
       "version_major": 2,
       "version_minor": 0
      },
      "text/plain": [
       "  0%|          | 0/100 [00:00<?, ?it/s]"
      ]
     },
     "metadata": {},
     "output_type": "display_data"
    }
   ],
   "source": [
    "# replicated\n",
    "scanpro_4_reps_arcsin_difs = test_performance(datasets_difs[f\"{n_reps}_reps\"], transform=\"arcsin\",\n",
    "                                             n_reps=n_reps, repd_data=True, null=False)"
   ]
  },
  {
   "cell_type": "code",
   "execution_count": 38,
   "id": "7d155b89",
   "metadata": {},
   "outputs": [
    {
     "data": {
      "application/vnd.jupyter.widget-view+json": {
       "model_id": "903562a651314ad4b4105e50e6535f8d",
       "version_major": 2,
       "version_minor": 0
      },
      "text/plain": [
       "  0%|          | 0/100 [00:00<?, ?it/s]"
      ]
     },
     "metadata": {},
     "output_type": "display_data"
    }
   ],
   "source": [
    "# unreplicated\n",
    "scanpro_norep_4_reps_arcsin_difs = test_performance(datasets_difs[f\"{n_reps}_reps\"], transform=\"arcsin\",\n",
    "                                                    n_reps=n_reps, repd_data=False, null=False)"
   ]
  },
  {
   "cell_type": "markdown",
   "id": "07d4bc22",
   "metadata": {},
   "source": [
    "### 8 replicates"
   ]
  },
  {
   "cell_type": "code",
   "execution_count": 39,
   "id": "3bb63d40",
   "metadata": {},
   "outputs": [],
   "source": [
    "n_reps = 8"
   ]
  },
  {
   "cell_type": "markdown",
   "id": "b21c04a6",
   "metadata": {},
   "source": [
    "#### logit"
   ]
  },
  {
   "cell_type": "code",
   "execution_count": 40,
   "id": "6e9f0523",
   "metadata": {},
   "outputs": [
    {
     "data": {
      "application/vnd.jupyter.widget-view+json": {
       "model_id": "90a943502d7545c08faa639da8ebf915",
       "version_major": 2,
       "version_minor": 0
      },
      "text/plain": [
       "  0%|          | 0/100 [00:00<?, ?it/s]"
      ]
     },
     "metadata": {},
     "output_type": "display_data"
    }
   ],
   "source": [
    "# replicated\n",
    "scanpro_8_reps_logit_difs = test_performance(datasets_difs[f\"{n_reps}_reps\"], transform=\"logit\",\n",
    "                                             n_reps=n_reps, repd_data=True, null=False)"
   ]
  },
  {
   "cell_type": "code",
   "execution_count": 41,
   "id": "1433c481",
   "metadata": {},
   "outputs": [
    {
     "data": {
      "application/vnd.jupyter.widget-view+json": {
       "model_id": "b102d4a2feac457da3f982b03a5c0923",
       "version_major": 2,
       "version_minor": 0
      },
      "text/plain": [
       "  0%|          | 0/100 [00:00<?, ?it/s]"
      ]
     },
     "metadata": {},
     "output_type": "display_data"
    }
   ],
   "source": [
    "# unreplicated\n",
    "scanpro_norep_8_reps_logit_difs = test_performance(datasets_difs[f\"{n_reps}_reps\"], transform=\"logit\",\n",
    "                                                    n_reps=n_reps, repd_data=False, null=False)"
   ]
  },
  {
   "cell_type": "markdown",
   "id": "b8c58854",
   "metadata": {},
   "source": [
    "#### arcsin"
   ]
  },
  {
   "cell_type": "code",
   "execution_count": 42,
   "id": "b9bb6be7",
   "metadata": {},
   "outputs": [
    {
     "data": {
      "application/vnd.jupyter.widget-view+json": {
       "model_id": "2b653a6a7bc94ebabd3970e8e5a07d11",
       "version_major": 2,
       "version_minor": 0
      },
      "text/plain": [
       "  0%|          | 0/100 [00:00<?, ?it/s]"
      ]
     },
     "metadata": {},
     "output_type": "display_data"
    }
   ],
   "source": [
    "# replicated\n",
    "scanpro_8_reps_arcsin_difs = test_performance(datasets_difs[f\"{n_reps}_reps\"], transform=\"arcsin\",\n",
    "                                              n_reps=n_reps, repd_data=True, null=False)"
   ]
  },
  {
   "cell_type": "code",
   "execution_count": 43,
   "id": "21be0539",
   "metadata": {},
   "outputs": [
    {
     "data": {
      "application/vnd.jupyter.widget-view+json": {
       "model_id": "0a3c3a0b63b84659931d6c93244bf61e",
       "version_major": 2,
       "version_minor": 0
      },
      "text/plain": [
       "  0%|          | 0/100 [00:00<?, ?it/s]"
      ]
     },
     "metadata": {},
     "output_type": "display_data"
    }
   ],
   "source": [
    "# unreplicated\n",
    "scanpro_norep_8_reps_arcsin_difs = test_performance(datasets_difs[f\"{n_reps}_reps\"], transform=\"arcsin\",\n",
    "                                                    n_reps=n_reps, repd_data=False, null=False)"
   ]
  },
  {
   "cell_type": "markdown",
   "id": "cb212ee3",
   "metadata": {},
   "source": [
    "### 10 replicates"
   ]
  },
  {
   "cell_type": "code",
   "execution_count": 44,
   "id": "066490b1",
   "metadata": {},
   "outputs": [],
   "source": [
    "n_reps = 10"
   ]
  },
  {
   "cell_type": "markdown",
   "id": "aea9af46",
   "metadata": {},
   "source": [
    "#### logit"
   ]
  },
  {
   "cell_type": "code",
   "execution_count": 45,
   "id": "7233d44f",
   "metadata": {},
   "outputs": [
    {
     "data": {
      "application/vnd.jupyter.widget-view+json": {
       "model_id": "c53d78651d3d46fa8e42c5cc00808771",
       "version_major": 2,
       "version_minor": 0
      },
      "text/plain": [
       "  0%|          | 0/100 [00:00<?, ?it/s]"
      ]
     },
     "metadata": {},
     "output_type": "display_data"
    }
   ],
   "source": [
    "# replicated\n",
    "scanpro_10_reps_logit_difs = test_performance(datasets_difs[f\"{n_reps}_reps\"], transform=\"logit\",\n",
    "                                              n_reps=n_reps, repd_data=True, null=False)"
   ]
  },
  {
   "cell_type": "code",
   "execution_count": 46,
   "id": "db8c57dd",
   "metadata": {},
   "outputs": [
    {
     "data": {
      "application/vnd.jupyter.widget-view+json": {
       "model_id": "acdcf3d9b6334ff4834f4496b1a21b79",
       "version_major": 2,
       "version_minor": 0
      },
      "text/plain": [
       "  0%|          | 0/100 [00:00<?, ?it/s]"
      ]
     },
     "metadata": {},
     "output_type": "display_data"
    }
   ],
   "source": [
    "# unreplicated\n",
    "scanpro_norep_10_reps_logit_difs = test_performance(datasets_difs[f\"{n_reps}_reps\"], transform=\"logit\",\n",
    "                                                    n_reps=n_reps, repd_data=False, null=False)"
   ]
  },
  {
   "cell_type": "markdown",
   "id": "2fdf4915",
   "metadata": {},
   "source": [
    "#### arcsin"
   ]
  },
  {
   "cell_type": "code",
   "execution_count": 47,
   "id": "30758785",
   "metadata": {},
   "outputs": [
    {
     "data": {
      "application/vnd.jupyter.widget-view+json": {
       "model_id": "89b596580a7440c18a6f589ea0280b5a",
       "version_major": 2,
       "version_minor": 0
      },
      "text/plain": [
       "  0%|          | 0/100 [00:00<?, ?it/s]"
      ]
     },
     "metadata": {},
     "output_type": "display_data"
    }
   ],
   "source": [
    "# replicated\n",
    "scanpro_10_reps_arcsin_difs = test_performance(datasets_difs[f\"{n_reps}_reps\"], transform=\"arcsin\",\n",
    "                                              n_reps=n_reps, repd_data=True, null=False)"
   ]
  },
  {
   "cell_type": "code",
   "execution_count": 48,
   "id": "d416ccfc",
   "metadata": {},
   "outputs": [
    {
     "data": {
      "application/vnd.jupyter.widget-view+json": {
       "model_id": "f26cceb0786a4d4daaa7e3c7b6ad2e22",
       "version_major": 2,
       "version_minor": 0
      },
      "text/plain": [
       "  0%|          | 0/100 [00:00<?, ?it/s]"
      ]
     },
     "metadata": {},
     "output_type": "display_data"
    }
   ],
   "source": [
    "# unreplicated\n",
    "scanpro_norep_10_reps_arcsin_difs = test_performance(datasets_difs[f\"{n_reps}_reps\"], transform=\"arcsin\",\n",
    "                                                     n_reps=n_reps, repd_data=False, null=False)"
   ]
  },
  {
   "cell_type": "markdown",
   "id": "39c5525a",
   "metadata": {},
   "source": [
    "### 20 replicates"
   ]
  },
  {
   "cell_type": "code",
   "execution_count": 49,
   "id": "571e4285",
   "metadata": {},
   "outputs": [],
   "source": [
    "n_reps = 20"
   ]
  },
  {
   "cell_type": "markdown",
   "id": "139fd3e6",
   "metadata": {},
   "source": [
    "#### logit"
   ]
  },
  {
   "cell_type": "code",
   "execution_count": 50,
   "id": "d6c1b2b1",
   "metadata": {},
   "outputs": [
    {
     "data": {
      "application/vnd.jupyter.widget-view+json": {
       "model_id": "01615b3f6db54795ac3e683d2e5c0399",
       "version_major": 2,
       "version_minor": 0
      },
      "text/plain": [
       "  0%|          | 0/100 [00:00<?, ?it/s]"
      ]
     },
     "metadata": {},
     "output_type": "display_data"
    }
   ],
   "source": [
    "# replicated\n",
    "scanpro_20_reps_logit_difs = test_performance(datasets_difs[f\"{n_reps}_reps\"], transform=\"logit\",\n",
    "                                              n_reps=n_reps, repd_data=True, null=False)"
   ]
  },
  {
   "cell_type": "code",
   "execution_count": 51,
   "id": "275eed41",
   "metadata": {},
   "outputs": [
    {
     "data": {
      "application/vnd.jupyter.widget-view+json": {
       "model_id": "f272141865044159901e76114ade5e5e",
       "version_major": 2,
       "version_minor": 0
      },
      "text/plain": [
       "  0%|          | 0/100 [00:00<?, ?it/s]"
      ]
     },
     "metadata": {},
     "output_type": "display_data"
    }
   ],
   "source": [
    "# unreplicated\n",
    "scanpro_norep_20_reps_logit_difs = test_performance(datasets_difs[f\"{n_reps}_reps\"], transform=\"logit\",\n",
    "                                                    n_reps=n_reps, repd_data=False, null=False)"
   ]
  },
  {
   "cell_type": "markdown",
   "id": "dfaa3c2b",
   "metadata": {},
   "source": [
    "#### arcsin"
   ]
  },
  {
   "cell_type": "code",
   "execution_count": 52,
   "id": "11ae5b25",
   "metadata": {},
   "outputs": [
    {
     "data": {
      "application/vnd.jupyter.widget-view+json": {
       "model_id": "b87565fd9ed646b0b2c817eb390d5bf2",
       "version_major": 2,
       "version_minor": 0
      },
      "text/plain": [
       "  0%|          | 0/100 [00:00<?, ?it/s]"
      ]
     },
     "metadata": {},
     "output_type": "display_data"
    }
   ],
   "source": [
    "# replicated\n",
    "scanpro_20_reps_arcsin_difs = test_performance(datasets_difs[f\"{n_reps}_reps\"], transform=\"arcsin\",\n",
    "                                               n_reps=n_reps, repd_data=True, null=False)"
   ]
  },
  {
   "cell_type": "code",
   "execution_count": 53,
   "id": "25c812c9",
   "metadata": {},
   "outputs": [
    {
     "data": {
      "application/vnd.jupyter.widget-view+json": {
       "model_id": "8aaae47be2bd4cc1adaaec5fe923ca75",
       "version_major": 2,
       "version_minor": 0
      },
      "text/plain": [
       "  0%|          | 0/100 [00:00<?, ?it/s]"
      ]
     },
     "metadata": {},
     "output_type": "display_data"
    }
   ],
   "source": [
    "# replicated\n",
    "scanpro_norep_20_reps_arcsin_difs = test_performance(datasets_difs[f\"{n_reps}_reps\"], transform=\"arcsin\",\n",
    "                                                     n_reps=n_reps, repd_data=False, null=False)"
   ]
  },
  {
   "cell_type": "markdown",
   "id": "7b792ca1",
   "metadata": {},
   "source": [
    "### Results"
   ]
  },
  {
   "cell_type": "code",
   "execution_count": 54,
   "id": "c2df71a5",
   "metadata": {},
   "outputs": [],
   "source": [
    "difs_sim_results = {\"rep\": {\"logit_4_reps\": scanpro_4_reps_logit_difs,\n",
    "                               \"arcsin_4_reps\": scanpro_4_reps_arcsin_difs,\n",
    "                               \"logit_8_reps\": scanpro_8_reps_logit_difs,\n",
    "                               \"arcsin_8_reps\": scanpro_8_reps_arcsin_difs,\n",
    "                               \"logit_10_reps\": scanpro_10_reps_logit_difs,\n",
    "                               \"arcsin_10_reps\": scanpro_10_reps_arcsin_difs,\n",
    "                               \"logit_20_reps\": scanpro_20_reps_logit_difs,\n",
    "                               \"arcsin_20_reps\": scanpro_20_reps_arcsin_difs},\n",
    "                   \"norep\": {\"logit_4_reps\": scanpro_norep_4_reps_logit_difs,\n",
    "                                   \"arcsin_4_reps\": scanpro_norep_4_reps_arcsin_difs,\n",
    "                                   \"logit_8_reps\": scanpro_norep_8_reps_logit_difs,\n",
    "                                   \"arcsin_8_reps\": scanpro_norep_8_reps_arcsin_difs,\n",
    "                                   \"logit_10_reps\": scanpro_norep_10_reps_logit_difs,\n",
    "                                   \"arcsin_10_reps\": scanpro_norep_10_reps_arcsin_difs,\n",
    "                                   \"logit_20_reps\": scanpro_norep_20_reps_logit_difs,\n",
    "                                   \"arcsin_20_reps\": scanpro_norep_20_reps_arcsin_difs}}"
   ]
  },
  {
   "cell_type": "code",
   "execution_count": 55,
   "id": "41e49f66",
   "metadata": {},
   "outputs": [],
   "source": [
    "difs_sim_hitrates = calc_hitrates(difs_sim_results, null=False, compare=compare_p_values)\n",
    "difs_sim_hitrates.to_csv(f'{OUT_PATH}/difs_sim_hitrates.tsv', sep='\\t')"
   ]
  },
  {
   "cell_type": "code",
   "execution_count": 56,
   "id": "6b9b757d",
   "metadata": {},
   "outputs": [],
   "source": [
    "difs_sim_pct_sig_cluster = calc_pct_significance(difs_sim_results, n_sims=100, null=False)\n",
    "difs_sim_pct_sig_cluster.to_csv(f'{OUT_PATH}/difs_sim_pct_sig_cluster.tsv', sep='\\t')"
   ]
  },
  {
   "cell_type": "code",
   "execution_count": 57,
   "id": "2b5b139d",
   "metadata": {},
   "outputs": [],
   "source": [
    "difs_sim_hitrate_cluster_rep = calc_hitrate_cluster(difs_sim_results, rep=True, null=False, compare=compare_p_values)\n",
    "difs_sim_hitrate_cluster_rep.to_csv(f'{OUT_PATH}/difs_sim_rep_hitrate_cluster.tsv', sep='\\t')\n",
    "\n",
    "difs_sim_hitrate_cluster_norep = calc_hitrate_cluster(difs_sim_results, rep=False, null=False, compare=compare_p_values)\n",
    "difs_sim_hitrate_cluster_norep.to_csv(f'{OUT_PATH}/difs_sim_norep_hitrate_cluster.tsv', sep='\\t')"
   ]
  },
  {
   "cell_type": "markdown",
   "id": "1f960367",
   "metadata": {},
   "source": [
    "### save simulation results"
   ]
  },
  {
   "cell_type": "code",
   "execution_count": 58,
   "id": "6269a1b3",
   "metadata": {},
   "outputs": [],
   "source": [
    "# null simulation\n",
    "for tool in null_sim_results.keys():\n",
    "    for method in null_sim_results[tool]:\n",
    "        results = null_sim_results[tool][method]\n",
    "        results.to_csv(f'{OUT_PATH}/raw/null_sim_{tool}_{method}.tsv', sep='\\t')"
   ]
  },
  {
   "cell_type": "code",
   "execution_count": 59,
   "id": "1ba192de",
   "metadata": {},
   "outputs": [],
   "source": [
    "# simulation with differences\n",
    "for tool in difs_sim_results.keys():\n",
    "    for method in difs_sim_results[tool]:\n",
    "        results = difs_sim_results[tool][method]\n",
    "        results.to_csv(f'{OUT_PATH}/raw/difs_sim_{tool}_{method}.tsv', sep='\\t')"
   ]
  },
  {
   "cell_type": "code",
   "execution_count": null,
   "id": "58a82235",
   "metadata": {},
   "outputs": [],
   "source": []
  }
 ],
 "metadata": {
  "kernelspec": {
   "display_name": "scanpro",
   "language": "python",
   "name": "scanpro"
  },
  "language_info": {
   "codemirror_mode": {
    "name": "ipython",
    "version": 3
   },
   "file_extension": ".py",
   "mimetype": "text/x-python",
   "name": "python",
   "nbconvert_exporter": "python",
   "pygments_lexer": "ipython3",
   "version": "3.11.4"
  }
 },
 "nbformat": 4,
 "nbformat_minor": 5
}
