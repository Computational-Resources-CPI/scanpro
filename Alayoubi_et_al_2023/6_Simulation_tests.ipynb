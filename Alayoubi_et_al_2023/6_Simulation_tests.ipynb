{
 "cells": [
  {
   "cell_type": "markdown",
   "id": "91c71dca",
   "metadata": {},
   "source": [
    "# Simulation Tests"
   ]
  },
  {
   "cell_type": "markdown",
   "id": "0d0f16e2",
   "metadata": {},
   "source": [
    "This notebook is used to benchmark scanpro methods using simulated cell counts. Cell counts are simulated using the hierarchical model described in the propeller paper (Phipson et al., 2022). \n",
    "\n",
    "1 & 2: Testing performance of scanpro on 100 random datasets with no differences (1) and with differences (2). The hit rate is the proportion of tests where all clusters were identified as non-significant (1) or where only cardiomyocytes, fibroblasts and smooth muscle cells are identified as significant (2)."
   ]
  },
  {
   "cell_type": "code",
   "execution_count": 1,
   "id": "10c53874",
   "metadata": {},
   "outputs": [],
   "source": [
    "import pandas as pd\n",
    "import numpy as np\n",
    "import multiprocessing as mp\n",
    "import time\n",
    "\n",
    "from scanpro import scanpro\n",
    "from scanpro.utils import simulate_cell_counts, simulate_cell_counts_2, convert_counts_to_df, estimate_params_from_counts"
   ]
  },
  {
   "cell_type": "code",
   "execution_count": 2,
   "id": "1e58fa5b",
   "metadata": {},
   "outputs": [],
   "source": [
    "OUT_PATH = './results/benchmark/'"
   ]
  },
  {
   "cell_type": "code",
   "execution_count": 3,
   "id": "7a647f2f",
   "metadata": {},
   "outputs": [],
   "source": [
    "def simulate_data(p, a, b, n_reps, n_conds=2, n=20, mu=5000, n_sims=100, null=True):\n",
    "    if b is None:\n",
    "        b = a * (1-p) / p\n",
    "        \n",
    "    datasets = []\n",
    "    for sim in range(n_sims):\n",
    "        if null:  # null simulation -> no differences\n",
    "            counts = simulate_cell_counts(p, n_reps, a, b, n_conds, n=n, mu=mu)\n",
    "        else:  # true differences\n",
    "            counts = simulate_cell_counts_2(p, n_reps, a, b, n_conds, n=n, mu=mu)\n",
    "\n",
    "        counts_df = convert_counts_to_df(counts, column_name=\"cluster\")\n",
    "\n",
    "        datasets.append(counts_df)\n",
    "    \n",
    "    return datasets"
   ]
  },
  {
   "cell_type": "markdown",
   "id": "5ad9ccc5",
   "metadata": {},
   "source": [
    "# Benchmarking"
   ]
  },
  {
   "cell_type": "code",
   "execution_count": 4,
   "id": "f2c75b7f",
   "metadata": {},
   "outputs": [],
   "source": [
    "def monitor_jobs(jobs):\n",
    "    \"\"\"\n",
    "    Monitor the status of jobs submitted to a pool.\n",
    "\n",
    "    Parameters\n",
    "    ----------\n",
    "    jobs : list of job objects\n",
    "        List of job objects, e.g. as returned by pool.map_async().\n",
    "    \"\"\"\n",
    "\n",
    "    if isinstance(jobs, dict):\n",
    "        jobs = list(jobs.values())\n",
    "\n",
    "    from tqdm import tqdm_notebook as tqdm\n",
    "    pbar = tqdm(total=len(jobs))\n",
    "    \n",
    "    # Wait for all jobs to finish\n",
    "    n_ready = sum([job.ready() for job in jobs])\n",
    "    while n_ready != len(jobs):\n",
    "        if n_ready != pbar.n:\n",
    "            pbar.n = n_ready\n",
    "            pbar.refresh()\n",
    "        time.sleep(1)\n",
    "        n_ready = sum([job.ready() for job in jobs])\n",
    "\n",
    "    pbar.n = n_ready  # update progress bar to 100%\n",
    "    pbar.refresh()\n",
    "    pbar.close()"
   ]
  },
  {
   "cell_type": "code",
   "execution_count": 5,
   "id": "da8e8886",
   "metadata": {},
   "outputs": [],
   "source": [
    "def test_performance(datasets,\n",
    "                     n_reps,  # number of samples per condition\n",
    "                     transform,\n",
    "                     repd_data=False\n",
    "                     ):\n",
    "    \"\"\"Test the performance of normal and bootstrap scanpro on simulated data.\n",
    "    :param list datasets: List of datasets as pandas dataframes to run scanpro on\n",
    "    :param int n_reps: Number of replicates the bootstrap is going to generate\n",
    "    :param str transform: method of transformation (logit or arcsin)\n",
    "    :return pandas.DataFrame all_run_results: A dataframe with results from all runs.\n",
    "    \"\"\"\n",
    "    \n",
    "    pool = mp.Pool()\n",
    "    jobs = []\n",
    "\n",
    "    for dataset in datasets:\n",
    "\n",
    "        if not repd_data:\n",
    "            samples_col = None\n",
    "        else:\n",
    "            samples_col = \"sample\"\n",
    "\n",
    "        # Run Scanpro or scanpro bootstrapping on 100 datasets\n",
    "        job = pool.apply_async(scanpro, (dataset,), dict(clusters_col=\"cluster\", conds_col=\"group\", \n",
    "                                                                 samples_col=samples_col, n_reps=n_reps,\n",
    "                                                                 transform=transform, verbosity=0))\n",
    "        jobs.append(job)\n",
    "\n",
    "    pool.close()\n",
    "    monitor_jobs(jobs)\n",
    "\n",
    "    results = [job.get() for job in jobs]\n",
    "    pool.join()\n",
    "\n",
    "    # Add ID to each result\n",
    "    for i, result in enumerate(results):\n",
    "        result.results[\"run\"] = i + 1\n",
    "        \n",
    "    # Collect result\n",
    "    all_run_results = pd.concat([result.results for result in results])\n",
    "\n",
    "    return all_run_results"
   ]
  },
  {
   "cell_type": "markdown",
   "id": "440c4030",
   "metadata": {},
   "source": [
    "-----------"
   ]
  },
  {
   "cell_type": "markdown",
   "id": "df7bef33",
   "metadata": {},
   "source": [
    "## 1. Null simulations"
   ]
  },
  {
   "cell_type": "markdown",
   "id": "9779bda4",
   "metadata": {},
   "source": [
    "### Simulate datasets"
   ]
  },
  {
   "cell_type": "code",
   "execution_count": 6,
   "id": "af19b513",
   "metadata": {},
   "outputs": [],
   "source": [
    "np.random.seed(10)\n",
    "\n",
    "p = np.array([0.01, 0.05, 0.15, 0.34, 0.45])  # clusters proportions in all samples\n",
    "a = 10\n",
    "b = a*(1-p)/p\n",
    "n_reps_list = [4, 8, 10, 20]\n",
    "\n",
    "datasets_null = {f\"{n_reps}_reps\": simulate_data(p, a, b, n_reps, n_conds=2, n=20, mu=5000, n_sims=100, null=True) for n_reps in n_reps_list}"
   ]
  },
  {
   "cell_type": "markdown",
   "id": "a92a54b1",
   "metadata": {},
   "source": [
    "### Run scanpro on datasets"
   ]
  },
  {
   "cell_type": "code",
   "execution_count": 7,
   "id": "a1473456",
   "metadata": {},
   "outputs": [
    {
     "name": "stdout",
     "output_type": "stream",
     "text": [
      "n_reps=4 | replicated=True | transform=logit\n"
     ]
    },
    {
     "data": {
      "application/vnd.jupyter.widget-view+json": {
       "model_id": "00fe99cf6d254898aa3a754f18a2b073",
       "version_major": 2,
       "version_minor": 0
      },
      "text/plain": [
       "  0%|          | 0/100 [00:00<?, ?it/s]"
      ]
     },
     "metadata": {},
     "output_type": "display_data"
    },
    {
     "name": "stdout",
     "output_type": "stream",
     "text": [
      "n_reps=4 | replicated=True | transform=arcsin\n"
     ]
    },
    {
     "data": {
      "application/vnd.jupyter.widget-view+json": {
       "model_id": "174f585014f74dd9b48e6a6c41dc8ee6",
       "version_major": 2,
       "version_minor": 0
      },
      "text/plain": [
       "  0%|          | 0/100 [00:00<?, ?it/s]"
      ]
     },
     "metadata": {},
     "output_type": "display_data"
    },
    {
     "name": "stdout",
     "output_type": "stream",
     "text": [
      "n_reps=4 | replicated=False | transform=logit\n"
     ]
    },
    {
     "data": {
      "application/vnd.jupyter.widget-view+json": {
       "model_id": "13f30b41c3a94720af7d945f5df13bfe",
       "version_major": 2,
       "version_minor": 0
      },
      "text/plain": [
       "  0%|          | 0/100 [00:00<?, ?it/s]"
      ]
     },
     "metadata": {},
     "output_type": "display_data"
    },
    {
     "name": "stdout",
     "output_type": "stream",
     "text": [
      "n_reps=4 | replicated=False | transform=arcsin\n"
     ]
    },
    {
     "data": {
      "application/vnd.jupyter.widget-view+json": {
       "model_id": "7e8921f7d074410e8e427ea8f92cf6bf",
       "version_major": 2,
       "version_minor": 0
      },
      "text/plain": [
       "  0%|          | 0/100 [00:00<?, ?it/s]"
      ]
     },
     "metadata": {},
     "output_type": "display_data"
    },
    {
     "name": "stdout",
     "output_type": "stream",
     "text": [
      "n_reps=8 | replicated=True | transform=logit\n"
     ]
    },
    {
     "data": {
      "application/vnd.jupyter.widget-view+json": {
       "model_id": "3162fee8f447431d9ff513eb212e77e9",
       "version_major": 2,
       "version_minor": 0
      },
      "text/plain": [
       "  0%|          | 0/100 [00:00<?, ?it/s]"
      ]
     },
     "metadata": {},
     "output_type": "display_data"
    },
    {
     "name": "stdout",
     "output_type": "stream",
     "text": [
      "n_reps=8 | replicated=True | transform=arcsin\n"
     ]
    },
    {
     "data": {
      "application/vnd.jupyter.widget-view+json": {
       "model_id": "1615b21eeed9467c8bed8f28bcfb1abc",
       "version_major": 2,
       "version_minor": 0
      },
      "text/plain": [
       "  0%|          | 0/100 [00:00<?, ?it/s]"
      ]
     },
     "metadata": {},
     "output_type": "display_data"
    },
    {
     "name": "stdout",
     "output_type": "stream",
     "text": [
      "n_reps=8 | replicated=False | transform=logit\n"
     ]
    },
    {
     "data": {
      "application/vnd.jupyter.widget-view+json": {
       "model_id": "65cf46aa6aac44bfa53035ec605e752b",
       "version_major": 2,
       "version_minor": 0
      },
      "text/plain": [
       "  0%|          | 0/100 [00:00<?, ?it/s]"
      ]
     },
     "metadata": {},
     "output_type": "display_data"
    },
    {
     "name": "stdout",
     "output_type": "stream",
     "text": [
      "n_reps=8 | replicated=False | transform=arcsin\n"
     ]
    },
    {
     "data": {
      "application/vnd.jupyter.widget-view+json": {
       "model_id": "699b35f3e9c649f1bb820c52433b280d",
       "version_major": 2,
       "version_minor": 0
      },
      "text/plain": [
       "  0%|          | 0/100 [00:00<?, ?it/s]"
      ]
     },
     "metadata": {},
     "output_type": "display_data"
    },
    {
     "name": "stdout",
     "output_type": "stream",
     "text": [
      "n_reps=10 | replicated=True | transform=logit\n"
     ]
    },
    {
     "data": {
      "application/vnd.jupyter.widget-view+json": {
       "model_id": "c2eb58043ea54bf08704548c320f4e31",
       "version_major": 2,
       "version_minor": 0
      },
      "text/plain": [
       "  0%|          | 0/100 [00:00<?, ?it/s]"
      ]
     },
     "metadata": {},
     "output_type": "display_data"
    },
    {
     "name": "stdout",
     "output_type": "stream",
     "text": [
      "n_reps=10 | replicated=True | transform=arcsin\n"
     ]
    },
    {
     "data": {
      "application/vnd.jupyter.widget-view+json": {
       "model_id": "ac91080f03df4c668e0cc73625da7f1c",
       "version_major": 2,
       "version_minor": 0
      },
      "text/plain": [
       "  0%|          | 0/100 [00:00<?, ?it/s]"
      ]
     },
     "metadata": {},
     "output_type": "display_data"
    },
    {
     "name": "stdout",
     "output_type": "stream",
     "text": [
      "n_reps=10 | replicated=False | transform=logit\n"
     ]
    },
    {
     "data": {
      "application/vnd.jupyter.widget-view+json": {
       "model_id": "a870c7cde66f4d2fa3b1b659f4254d5c",
       "version_major": 2,
       "version_minor": 0
      },
      "text/plain": [
       "  0%|          | 0/100 [00:00<?, ?it/s]"
      ]
     },
     "metadata": {},
     "output_type": "display_data"
    },
    {
     "name": "stdout",
     "output_type": "stream",
     "text": [
      "n_reps=10 | replicated=False | transform=arcsin\n"
     ]
    },
    {
     "data": {
      "application/vnd.jupyter.widget-view+json": {
       "model_id": "2be8ad8758074bcc857d292d51ab3341",
       "version_major": 2,
       "version_minor": 0
      },
      "text/plain": [
       "  0%|          | 0/100 [00:00<?, ?it/s]"
      ]
     },
     "metadata": {},
     "output_type": "display_data"
    },
    {
     "name": "stdout",
     "output_type": "stream",
     "text": [
      "n_reps=20 | replicated=True | transform=logit\n"
     ]
    },
    {
     "data": {
      "application/vnd.jupyter.widget-view+json": {
       "model_id": "80a6b254826f45799f4eea808a78eb6c",
       "version_major": 2,
       "version_minor": 0
      },
      "text/plain": [
       "  0%|          | 0/100 [00:00<?, ?it/s]"
      ]
     },
     "metadata": {},
     "output_type": "display_data"
    },
    {
     "name": "stdout",
     "output_type": "stream",
     "text": [
      "n_reps=20 | replicated=True | transform=arcsin\n"
     ]
    },
    {
     "data": {
      "application/vnd.jupyter.widget-view+json": {
       "model_id": "1b31af972e38445aab1863283dfee5eb",
       "version_major": 2,
       "version_minor": 0
      },
      "text/plain": [
       "  0%|          | 0/100 [00:00<?, ?it/s]"
      ]
     },
     "metadata": {},
     "output_type": "display_data"
    },
    {
     "name": "stdout",
     "output_type": "stream",
     "text": [
      "n_reps=20 | replicated=False | transform=logit\n"
     ]
    },
    {
     "data": {
      "application/vnd.jupyter.widget-view+json": {
       "model_id": "3c996c56d6ec4c5aa9a25be1e3b51077",
       "version_major": 2,
       "version_minor": 0
      },
      "text/plain": [
       "  0%|          | 0/100 [00:00<?, ?it/s]"
      ]
     },
     "metadata": {},
     "output_type": "display_data"
    },
    {
     "name": "stdout",
     "output_type": "stream",
     "text": [
      "n_reps=20 | replicated=False | transform=arcsin\n"
     ]
    },
    {
     "data": {
      "application/vnd.jupyter.widget-view+json": {
       "model_id": "10d80bdfddfe44a68bd90f1f06f85548",
       "version_major": 2,
       "version_minor": 0
      },
      "text/plain": [
       "  0%|          | 0/100 [00:00<?, ?it/s]"
      ]
     },
     "metadata": {},
     "output_type": "display_data"
    }
   ],
   "source": [
    "null_results = {}\n",
    "for n_reps in n_reps_list:\n",
    "    for replicated in [True, False]:\n",
    "        for transform in [\"logit\", \"arcsin\"]:\n",
    "            print(f\"n_reps={n_reps} | replicated={replicated} | transform={transform}\")\n",
    "            data = datasets_null[f\"{n_reps}_reps\"]\n",
    "            result = test_performance(data, transform=transform,\n",
    "                                      n_reps=n_reps, repd_data=replicated)\n",
    "            \n",
    "            result[\"n_reps\"] = n_reps\n",
    "            result[\"replicated\"] = \"rep\" if replicated else \"norep\"\n",
    "            result[\"transform\"] = transform\n",
    "            \n",
    "            null_results[(n_reps, replicated, transform)] = result"
   ]
  },
  {
   "cell_type": "markdown",
   "id": "c45b93e9",
   "metadata": {},
   "source": [
    "### Join results"
   ]
  },
  {
   "cell_type": "code",
   "execution_count": 8,
   "id": "9b2997bd",
   "metadata": {},
   "outputs": [],
   "source": [
    "null_table = pd.concat(null_results.values())"
   ]
  },
  {
   "cell_type": "code",
   "execution_count": 9,
   "id": "f568eecd",
   "metadata": {},
   "outputs": [],
   "source": [
    "null_table[\"correct\"] = null_table[\"p_values\"] > 0.05  # None of the pvalues should be significant"
   ]
  },
  {
   "cell_type": "code",
   "execution_count": 10,
   "id": "7dc1f9a3",
   "metadata": {},
   "outputs": [],
   "source": [
    "null_table.to_csv(OUT_PATH + \"simulation_results_null.tsv\", sep=\"\\t\")"
   ]
  },
  {
   "cell_type": "code",
   "execution_count": 11,
   "id": "d52699f6",
   "metadata": {},
   "outputs": [
    {
     "data": {
      "text/html": [
       "<div>\n",
       "<style scoped>\n",
       "    .dataframe tbody tr th:only-of-type {\n",
       "        vertical-align: middle;\n",
       "    }\n",
       "\n",
       "    .dataframe tbody tr th {\n",
       "        vertical-align: top;\n",
       "    }\n",
       "\n",
       "    .dataframe thead th {\n",
       "        text-align: right;\n",
       "    }\n",
       "</style>\n",
       "<table border=\"1\" class=\"dataframe\">\n",
       "  <thead>\n",
       "    <tr style=\"text-align: right;\">\n",
       "      <th></th>\n",
       "      <th>baseline_props</th>\n",
       "      <th>mean_props_cond_1</th>\n",
       "      <th>mean_props_cond_2</th>\n",
       "      <th>prop_ratio</th>\n",
       "      <th>t_statistics</th>\n",
       "      <th>p_values</th>\n",
       "      <th>adjusted_p_values</th>\n",
       "      <th>run</th>\n",
       "      <th>n_reps</th>\n",
       "      <th>replicated</th>\n",
       "      <th>transform</th>\n",
       "      <th>correct</th>\n",
       "    </tr>\n",
       "    <tr>\n",
       "      <th>clusters</th>\n",
       "      <th></th>\n",
       "      <th></th>\n",
       "      <th></th>\n",
       "      <th></th>\n",
       "      <th></th>\n",
       "      <th></th>\n",
       "      <th></th>\n",
       "      <th></th>\n",
       "      <th></th>\n",
       "      <th></th>\n",
       "      <th></th>\n",
       "      <th></th>\n",
       "    </tr>\n",
       "  </thead>\n",
       "  <tbody>\n",
       "    <tr>\n",
       "      <th>c1</th>\n",
       "      <td>0.010889</td>\n",
       "      <td>0.008927</td>\n",
       "      <td>0.012071</td>\n",
       "      <td>0.739575</td>\n",
       "      <td>-1.246163</td>\n",
       "      <td>0.222348</td>\n",
       "      <td>0.902555</td>\n",
       "      <td>1</td>\n",
       "      <td>4</td>\n",
       "      <td>rep</td>\n",
       "      <td>logit</td>\n",
       "      <td>True</td>\n",
       "    </tr>\n",
       "    <tr>\n",
       "      <th>c2</th>\n",
       "      <td>0.040336</td>\n",
       "      <td>0.039698</td>\n",
       "      <td>0.039234</td>\n",
       "      <td>1.011825</td>\n",
       "      <td>0.123475</td>\n",
       "      <td>0.902555</td>\n",
       "      <td>0.902555</td>\n",
       "      <td>1</td>\n",
       "      <td>4</td>\n",
       "      <td>rep</td>\n",
       "      <td>logit</td>\n",
       "      <td>True</td>\n",
       "    </tr>\n",
       "    <tr>\n",
       "      <th>c3</th>\n",
       "      <td>0.151057</td>\n",
       "      <td>0.148428</td>\n",
       "      <td>0.156345</td>\n",
       "      <td>0.949361</td>\n",
       "      <td>-0.271865</td>\n",
       "      <td>0.787588</td>\n",
       "      <td>0.902555</td>\n",
       "      <td>1</td>\n",
       "      <td>4</td>\n",
       "      <td>rep</td>\n",
       "      <td>logit</td>\n",
       "      <td>True</td>\n",
       "    </tr>\n",
       "    <tr>\n",
       "      <th>c4</th>\n",
       "      <td>0.365765</td>\n",
       "      <td>0.357589</td>\n",
       "      <td>0.377591</td>\n",
       "      <td>0.947028</td>\n",
       "      <td>-0.406381</td>\n",
       "      <td>0.687347</td>\n",
       "      <td>0.902555</td>\n",
       "      <td>1</td>\n",
       "      <td>4</td>\n",
       "      <td>rep</td>\n",
       "      <td>logit</td>\n",
       "      <td>True</td>\n",
       "    </tr>\n",
       "    <tr>\n",
       "      <th>c5</th>\n",
       "      <td>0.431953</td>\n",
       "      <td>0.445358</td>\n",
       "      <td>0.414759</td>\n",
       "      <td>1.073774</td>\n",
       "      <td>0.625436</td>\n",
       "      <td>0.536414</td>\n",
       "      <td>0.902555</td>\n",
       "      <td>1</td>\n",
       "      <td>4</td>\n",
       "      <td>rep</td>\n",
       "      <td>logit</td>\n",
       "      <td>True</td>\n",
       "    </tr>\n",
       "  </tbody>\n",
       "</table>\n",
       "</div>"
      ],
      "text/plain": [
       "          baseline_props  mean_props_cond_1  mean_props_cond_2  prop_ratio  \\\n",
       "clusters                                                                     \n",
       "c1              0.010889           0.008927           0.012071    0.739575   \n",
       "c2              0.040336           0.039698           0.039234    1.011825   \n",
       "c3              0.151057           0.148428           0.156345    0.949361   \n",
       "c4              0.365765           0.357589           0.377591    0.947028   \n",
       "c5              0.431953           0.445358           0.414759    1.073774   \n",
       "\n",
       "          t_statistics  p_values  adjusted_p_values  run  n_reps replicated  \\\n",
       "clusters                                                                      \n",
       "c1           -1.246163  0.222348           0.902555    1       4        rep   \n",
       "c2            0.123475  0.902555           0.902555    1       4        rep   \n",
       "c3           -0.271865  0.787588           0.902555    1       4        rep   \n",
       "c4           -0.406381  0.687347           0.902555    1       4        rep   \n",
       "c5            0.625436  0.536414           0.902555    1       4        rep   \n",
       "\n",
       "         transform  correct  \n",
       "clusters                     \n",
       "c1           logit     True  \n",
       "c2           logit     True  \n",
       "c3           logit     True  \n",
       "c4           logit     True  \n",
       "c5           logit     True  "
      ]
     },
     "execution_count": 11,
     "metadata": {},
     "output_type": "execute_result"
    }
   ],
   "source": [
    "null_table.head()"
   ]
  },
  {
   "cell_type": "markdown",
   "id": "3b6dd5a8",
   "metadata": {},
   "source": [
    "---------"
   ]
  },
  {
   "cell_type": "markdown",
   "id": "3cd592a0",
   "metadata": {},
   "source": [
    "## 2. Simulation with true differences"
   ]
  },
  {
   "cell_type": "markdown",
   "id": "29c8296d",
   "metadata": {},
   "source": [
    "### Data preperation\n",
    "see https://phipsonlab.github.io/propeller-paper-analysis/SimTrueDiff.html"
   ]
  },
  {
   "cell_type": "code",
   "execution_count": 12,
   "id": "459cb41e",
   "metadata": {},
   "outputs": [
    {
     "data": {
      "text/plain": [
       "[Cardiomyocytes           1.769390\n",
       " Endothelial cells      107.760684\n",
       " Epicardial cells        47.297371\n",
       " Fibroblast              14.138098\n",
       " Immune cells            16.442437\n",
       " Neurons                143.134155\n",
       " Smooth muscle cells    458.574736\n",
       " dtype: float64,\n",
       " Cardiomyocytes           4.742325\n",
       " Endothelial cells      107.760684\n",
       " Epicardial cells        47.297371\n",
       " Fibroblast               4.666523\n",
       " Immune cells            16.442437\n",
       " Neurons                143.134155\n",
       " Smooth muscle cells    150.405074\n",
       " dtype: float64]"
      ]
     },
     "execution_count": 12,
     "metadata": {},
     "output_type": "execute_result"
    }
   ],
   "source": [
    "heart_counts = pd.read_csv('data/heart_counts.tsv', sep='\\t')\n",
    "heart_counts.drop(['Condition', 'Sex'], inplace=True, axis=1)\n",
    "heart_counts = heart_counts.set_index('Sample').T\n",
    "heart_counts.drop('Erythroid', inplace=True)  # remove erythroids\n",
    "\n",
    "# proportions of each cluster in all samples\n",
    "true_props = heart_counts.sum(axis=1) / heart_counts.sum(axis=1).sum()  # sum of cells in cluster / sum of all cells\n",
    "true_props = true_props.to_frame(name=\"props\")\n",
    "\n",
    "# estimate beta paramters from counts\n",
    "params = estimate_params_from_counts(heart_counts)  # rows are clusters\n",
    "a = params[1]\n",
    "b = params[2]\n",
    "\n",
    "# Set up true proportions for the two groups\n",
    "grp1_trueprops = true_props.values.flatten()\n",
    "grp2_trueprops = true_props.values.flatten()\n",
    "\n",
    "grp2_trueprops[0] = grp1_trueprops[0]/2\n",
    "grp2_trueprops[3] = grp2_trueprops[3]*2\n",
    "grp2_trueprops[6] = grp1_trueprops[6]*3\n",
    "\n",
    "grp2_trueprops[0] = grp2_trueprops[0] + (1-grp2_trueprops.sum())/2\n",
    "grp2_trueprops[3] = grp2_trueprops[3] + (1-grp2_trueprops.sum())\n",
    " \n",
    "# calculate beta for both groups\n",
    "b1 = a*(1-grp1_trueprops)/grp1_trueprops\n",
    "b2 = a*(1-grp2_trueprops)/grp2_trueprops\n",
    "b_grps = [b1, b2]\n",
    "\n",
    "b_grps"
   ]
  },
  {
   "cell_type": "markdown",
   "id": "31ebaf0f",
   "metadata": {},
   "source": [
    "### Simulate datasets"
   ]
  },
  {
   "cell_type": "code",
   "execution_count": 13,
   "id": "bc39d49d",
   "metadata": {},
   "outputs": [],
   "source": [
    "np.random.seed(10)\n",
    "\n",
    "n_reps_list = [4, 8, 10, 20]\n",
    "\n",
    "datasets_difs = {f\"{n_reps}_reps\": simulate_data(true_props, a, b_grps, n_reps, n_conds=2, n=20, mu=5000, n_sims=100, null=False) for n_reps in n_reps_list}"
   ]
  },
  {
   "cell_type": "markdown",
   "id": "d01e39b0",
   "metadata": {},
   "source": [
    "### Run Scanpro"
   ]
  },
  {
   "cell_type": "code",
   "execution_count": 14,
   "id": "3247c58d",
   "metadata": {},
   "outputs": [
    {
     "name": "stdout",
     "output_type": "stream",
     "text": [
      "n_reps=4 | replicated=True | transform=logit\n"
     ]
    },
    {
     "data": {
      "application/vnd.jupyter.widget-view+json": {
       "model_id": "dd2945a5831840b993c460acafb667b7",
       "version_major": 2,
       "version_minor": 0
      },
      "text/plain": [
       "  0%|          | 0/100 [00:00<?, ?it/s]"
      ]
     },
     "metadata": {},
     "output_type": "display_data"
    },
    {
     "name": "stdout",
     "output_type": "stream",
     "text": [
      "n_reps=4 | replicated=True | transform=arcsin\n"
     ]
    },
    {
     "data": {
      "application/vnd.jupyter.widget-view+json": {
       "model_id": "8881df86326247368907adae25ec2d4d",
       "version_major": 2,
       "version_minor": 0
      },
      "text/plain": [
       "  0%|          | 0/100 [00:00<?, ?it/s]"
      ]
     },
     "metadata": {},
     "output_type": "display_data"
    },
    {
     "name": "stdout",
     "output_type": "stream",
     "text": [
      "n_reps=4 | replicated=False | transform=logit\n"
     ]
    },
    {
     "data": {
      "application/vnd.jupyter.widget-view+json": {
       "model_id": "0add77b3d66041ddb156cee290feb8f1",
       "version_major": 2,
       "version_minor": 0
      },
      "text/plain": [
       "  0%|          | 0/100 [00:00<?, ?it/s]"
      ]
     },
     "metadata": {},
     "output_type": "display_data"
    },
    {
     "name": "stdout",
     "output_type": "stream",
     "text": [
      "n_reps=4 | replicated=False | transform=arcsin\n"
     ]
    },
    {
     "data": {
      "application/vnd.jupyter.widget-view+json": {
       "model_id": "b924eeca01174474b2282f3f2679cf3d",
       "version_major": 2,
       "version_minor": 0
      },
      "text/plain": [
       "  0%|          | 0/100 [00:00<?, ?it/s]"
      ]
     },
     "metadata": {},
     "output_type": "display_data"
    },
    {
     "name": "stdout",
     "output_type": "stream",
     "text": [
      "n_reps=8 | replicated=True | transform=logit\n"
     ]
    },
    {
     "data": {
      "application/vnd.jupyter.widget-view+json": {
       "model_id": "fa3ff907ef124f02aabc89c00281922c",
       "version_major": 2,
       "version_minor": 0
      },
      "text/plain": [
       "  0%|          | 0/100 [00:00<?, ?it/s]"
      ]
     },
     "metadata": {},
     "output_type": "display_data"
    },
    {
     "name": "stdout",
     "output_type": "stream",
     "text": [
      "n_reps=8 | replicated=True | transform=arcsin\n"
     ]
    },
    {
     "data": {
      "application/vnd.jupyter.widget-view+json": {
       "model_id": "ed1271440421484bb546ced494b2faeb",
       "version_major": 2,
       "version_minor": 0
      },
      "text/plain": [
       "  0%|          | 0/100 [00:00<?, ?it/s]"
      ]
     },
     "metadata": {},
     "output_type": "display_data"
    },
    {
     "name": "stdout",
     "output_type": "stream",
     "text": [
      "n_reps=8 | replicated=False | transform=logit\n"
     ]
    },
    {
     "data": {
      "application/vnd.jupyter.widget-view+json": {
       "model_id": "26e2b0c84ec54d6b8d833f1992b7dd2e",
       "version_major": 2,
       "version_minor": 0
      },
      "text/plain": [
       "  0%|          | 0/100 [00:00<?, ?it/s]"
      ]
     },
     "metadata": {},
     "output_type": "display_data"
    },
    {
     "name": "stdout",
     "output_type": "stream",
     "text": [
      "n_reps=8 | replicated=False | transform=arcsin\n"
     ]
    },
    {
     "data": {
      "application/vnd.jupyter.widget-view+json": {
       "model_id": "ead717ae27654cee8b07d9ab29d3a013",
       "version_major": 2,
       "version_minor": 0
      },
      "text/plain": [
       "  0%|          | 0/100 [00:00<?, ?it/s]"
      ]
     },
     "metadata": {},
     "output_type": "display_data"
    },
    {
     "name": "stdout",
     "output_type": "stream",
     "text": [
      "n_reps=10 | replicated=True | transform=logit\n"
     ]
    },
    {
     "data": {
      "application/vnd.jupyter.widget-view+json": {
       "model_id": "f2c00f81ff0e474ab4988edcdc15e3a8",
       "version_major": 2,
       "version_minor": 0
      },
      "text/plain": [
       "  0%|          | 0/100 [00:00<?, ?it/s]"
      ]
     },
     "metadata": {},
     "output_type": "display_data"
    },
    {
     "name": "stdout",
     "output_type": "stream",
     "text": [
      "n_reps=10 | replicated=True | transform=arcsin\n"
     ]
    },
    {
     "data": {
      "application/vnd.jupyter.widget-view+json": {
       "model_id": "6b88896525734cc8b364d522ea170e1c",
       "version_major": 2,
       "version_minor": 0
      },
      "text/plain": [
       "  0%|          | 0/100 [00:00<?, ?it/s]"
      ]
     },
     "metadata": {},
     "output_type": "display_data"
    },
    {
     "name": "stdout",
     "output_type": "stream",
     "text": [
      "n_reps=10 | replicated=False | transform=logit\n"
     ]
    },
    {
     "data": {
      "application/vnd.jupyter.widget-view+json": {
       "model_id": "ae6f928e1ce4490389952517d7f7bfed",
       "version_major": 2,
       "version_minor": 0
      },
      "text/plain": [
       "  0%|          | 0/100 [00:00<?, ?it/s]"
      ]
     },
     "metadata": {},
     "output_type": "display_data"
    },
    {
     "name": "stdout",
     "output_type": "stream",
     "text": [
      "n_reps=10 | replicated=False | transform=arcsin\n"
     ]
    },
    {
     "data": {
      "application/vnd.jupyter.widget-view+json": {
       "model_id": "1618ac176dd342d0b1e5ad8ebf104f94",
       "version_major": 2,
       "version_minor": 0
      },
      "text/plain": [
       "  0%|          | 0/100 [00:00<?, ?it/s]"
      ]
     },
     "metadata": {},
     "output_type": "display_data"
    },
    {
     "name": "stdout",
     "output_type": "stream",
     "text": [
      "n_reps=20 | replicated=True | transform=logit\n"
     ]
    },
    {
     "data": {
      "application/vnd.jupyter.widget-view+json": {
       "model_id": "d870986c199c4de284e590998c5a94ad",
       "version_major": 2,
       "version_minor": 0
      },
      "text/plain": [
       "  0%|          | 0/100 [00:00<?, ?it/s]"
      ]
     },
     "metadata": {},
     "output_type": "display_data"
    },
    {
     "name": "stdout",
     "output_type": "stream",
     "text": [
      "n_reps=20 | replicated=True | transform=arcsin\n"
     ]
    },
    {
     "data": {
      "application/vnd.jupyter.widget-view+json": {
       "model_id": "eb3452cce4d84e66bc1f99564dc4bdcd",
       "version_major": 2,
       "version_minor": 0
      },
      "text/plain": [
       "  0%|          | 0/100 [00:00<?, ?it/s]"
      ]
     },
     "metadata": {},
     "output_type": "display_data"
    },
    {
     "name": "stdout",
     "output_type": "stream",
     "text": [
      "n_reps=20 | replicated=False | transform=logit\n"
     ]
    },
    {
     "data": {
      "application/vnd.jupyter.widget-view+json": {
       "model_id": "26166543cfab481fb6252708fa99a9f6",
       "version_major": 2,
       "version_minor": 0
      },
      "text/plain": [
       "  0%|          | 0/100 [00:00<?, ?it/s]"
      ]
     },
     "metadata": {},
     "output_type": "display_data"
    },
    {
     "name": "stdout",
     "output_type": "stream",
     "text": [
      "n_reps=20 | replicated=False | transform=arcsin\n"
     ]
    },
    {
     "data": {
      "application/vnd.jupyter.widget-view+json": {
       "model_id": "97c9d919a1014392ad7b09d75fed00e8",
       "version_major": 2,
       "version_minor": 0
      },
      "text/plain": [
       "  0%|          | 0/100 [00:00<?, ?it/s]"
      ]
     },
     "metadata": {},
     "output_type": "display_data"
    }
   ],
   "source": [
    "dif_results = {}\n",
    "for n_reps in n_reps_list:\n",
    "    for replicated in [True, False]:\n",
    "        for transform in [\"logit\", \"arcsin\"]:\n",
    "            print(f\"n_reps={n_reps} | replicated={replicated} | transform={transform}\")\n",
    "            data = datasets_difs[f\"{n_reps}_reps\"]\n",
    "            result = test_performance(data, transform=transform,\n",
    "                                      n_reps=n_reps, repd_data=replicated)\n",
    "            \n",
    "            result[\"n_reps\"] = n_reps\n",
    "            result[\"replicated\"] = \"rep\" if replicated else \"norep\"\n",
    "            result[\"transform\"] = transform\n",
    "            \n",
    "            dif_results[(n_reps, replicated, transform)] = result"
   ]
  },
  {
   "cell_type": "markdown",
   "id": "7322088b",
   "metadata": {},
   "source": [
    "### Join results"
   ]
  },
  {
   "cell_type": "code",
   "execution_count": 15,
   "id": "3088840f",
   "metadata": {},
   "outputs": [],
   "source": [
    "dif_table = pd.concat(dif_results.values())"
   ]
  },
  {
   "cell_type": "code",
   "execution_count": 16,
   "id": "09938f25",
   "metadata": {},
   "outputs": [
    {
     "data": {
      "text/plain": [
       "['Cardiomyocytes', 'Fibroblast', 'Smooth muscle cells']"
      ]
     },
     "execution_count": 16,
     "metadata": {},
     "output_type": "execute_result"
    }
   ],
   "source": [
    "# Estimate whether calls are correct - clusters 0, 3 and 6 should be different\n",
    "differential_groups = b_grps[0].iloc[[0,3,6]].index.tolist()\n",
    "differential_groups"
   ]
  },
  {
   "cell_type": "code",
   "execution_count": 17,
   "id": "4ed72e0a",
   "metadata": {},
   "outputs": [],
   "source": [
    "# Assign whether p-values are correct\n",
    "dif_table[\"correct\"] = [row[\"p_values\"] < 0.05 if row[\"clusters\"] in differential_groups else row[\"p_values\"] >= 0.05 for i, row in dif_table.reset_index().iterrows()]"
   ]
  },
  {
   "cell_type": "code",
   "execution_count": 18,
   "id": "ed1ad465",
   "metadata": {},
   "outputs": [],
   "source": [
    "dif_table.to_csv(OUT_PATH + \"simulation_results_diff.tsv\", sep=\"\\t\")"
   ]
  },
  {
   "cell_type": "code",
   "execution_count": 19,
   "id": "76ecee40",
   "metadata": {},
   "outputs": [
    {
     "data": {
      "text/html": [
       "<div>\n",
       "<style scoped>\n",
       "    .dataframe tbody tr th:only-of-type {\n",
       "        vertical-align: middle;\n",
       "    }\n",
       "\n",
       "    .dataframe tbody tr th {\n",
       "        vertical-align: top;\n",
       "    }\n",
       "\n",
       "    .dataframe thead th {\n",
       "        text-align: right;\n",
       "    }\n",
       "</style>\n",
       "<table border=\"1\" class=\"dataframe\">\n",
       "  <thead>\n",
       "    <tr style=\"text-align: right;\">\n",
       "      <th></th>\n",
       "      <th>baseline_props</th>\n",
       "      <th>mean_props_cond_1</th>\n",
       "      <th>mean_props_cond_2</th>\n",
       "      <th>prop_ratio</th>\n",
       "      <th>t_statistics</th>\n",
       "      <th>p_values</th>\n",
       "      <th>adjusted_p_values</th>\n",
       "      <th>run</th>\n",
       "      <th>n_reps</th>\n",
       "      <th>replicated</th>\n",
       "      <th>transform</th>\n",
       "      <th>correct</th>\n",
       "    </tr>\n",
       "    <tr>\n",
       "      <th>clusters</th>\n",
       "      <th></th>\n",
       "      <th></th>\n",
       "      <th></th>\n",
       "      <th></th>\n",
       "      <th></th>\n",
       "      <th></th>\n",
       "      <th></th>\n",
       "      <th></th>\n",
       "      <th></th>\n",
       "      <th></th>\n",
       "      <th></th>\n",
       "      <th></th>\n",
       "    </tr>\n",
       "  </thead>\n",
       "  <tbody>\n",
       "    <tr>\n",
       "      <th>Cardiomyocytes</th>\n",
       "      <td>0.459120</td>\n",
       "      <td>0.560036</td>\n",
       "      <td>0.316807</td>\n",
       "      <td>1.767752</td>\n",
       "      <td>3.855004</td>\n",
       "      <td>0.003372</td>\n",
       "      <td>0.007869</td>\n",
       "      <td>1</td>\n",
       "      <td>4</td>\n",
       "      <td>rep</td>\n",
       "      <td>logit</td>\n",
       "      <td>True</td>\n",
       "    </tr>\n",
       "    <tr>\n",
       "      <th>Endothelial cells</th>\n",
       "      <td>0.078884</td>\n",
       "      <td>0.076970</td>\n",
       "      <td>0.079162</td>\n",
       "      <td>0.972315</td>\n",
       "      <td>-0.172792</td>\n",
       "      <td>0.866368</td>\n",
       "      <td>0.982673</td>\n",
       "      <td>1</td>\n",
       "      <td>4</td>\n",
       "      <td>rep</td>\n",
       "      <td>logit</td>\n",
       "      <td>True</td>\n",
       "    </tr>\n",
       "    <tr>\n",
       "      <th>Epicardial cells</th>\n",
       "      <td>0.056030</td>\n",
       "      <td>0.057622</td>\n",
       "      <td>0.060288</td>\n",
       "      <td>0.955778</td>\n",
       "      <td>-0.022285</td>\n",
       "      <td>0.982673</td>\n",
       "      <td>0.982673</td>\n",
       "      <td>1</td>\n",
       "      <td>4</td>\n",
       "      <td>rep</td>\n",
       "      <td>logit</td>\n",
       "      <td>True</td>\n",
       "    </tr>\n",
       "    <tr>\n",
       "      <th>Fibroblast</th>\n",
       "      <td>0.319075</td>\n",
       "      <td>0.211927</td>\n",
       "      <td>0.454100</td>\n",
       "      <td>0.466697</td>\n",
       "      <td>-4.429626</td>\n",
       "      <td>0.001374</td>\n",
       "      <td>0.004808</td>\n",
       "      <td>1</td>\n",
       "      <td>4</td>\n",
       "      <td>rep</td>\n",
       "      <td>logit</td>\n",
       "      <td>True</td>\n",
       "    </tr>\n",
       "    <tr>\n",
       "      <th>Immune cells</th>\n",
       "      <td>0.058848</td>\n",
       "      <td>0.075221</td>\n",
       "      <td>0.045988</td>\n",
       "      <td>1.635662</td>\n",
       "      <td>0.936577</td>\n",
       "      <td>0.371713</td>\n",
       "      <td>0.650498</td>\n",
       "      <td>1</td>\n",
       "      <td>4</td>\n",
       "      <td>rep</td>\n",
       "      <td>logit</td>\n",
       "      <td>True</td>\n",
       "    </tr>\n",
       "  </tbody>\n",
       "</table>\n",
       "</div>"
      ],
      "text/plain": [
       "                   baseline_props  mean_props_cond_1  mean_props_cond_2  \\\n",
       "clusters                                                                  \n",
       "Cardiomyocytes           0.459120           0.560036           0.316807   \n",
       "Endothelial cells        0.078884           0.076970           0.079162   \n",
       "Epicardial cells         0.056030           0.057622           0.060288   \n",
       "Fibroblast               0.319075           0.211927           0.454100   \n",
       "Immune cells             0.058848           0.075221           0.045988   \n",
       "\n",
       "                   prop_ratio  t_statistics  p_values  adjusted_p_values  run  \\\n",
       "clusters                                                                        \n",
       "Cardiomyocytes       1.767752      3.855004  0.003372           0.007869    1   \n",
       "Endothelial cells    0.972315     -0.172792  0.866368           0.982673    1   \n",
       "Epicardial cells     0.955778     -0.022285  0.982673           0.982673    1   \n",
       "Fibroblast           0.466697     -4.429626  0.001374           0.004808    1   \n",
       "Immune cells         1.635662      0.936577  0.371713           0.650498    1   \n",
       "\n",
       "                   n_reps replicated transform  correct  \n",
       "clusters                                                 \n",
       "Cardiomyocytes          4        rep     logit     True  \n",
       "Endothelial cells       4        rep     logit     True  \n",
       "Epicardial cells        4        rep     logit     True  \n",
       "Fibroblast              4        rep     logit     True  \n",
       "Immune cells            4        rep     logit     True  "
      ]
     },
     "execution_count": 19,
     "metadata": {},
     "output_type": "execute_result"
    }
   ],
   "source": [
    "dif_table.head()"
   ]
  }
 ],
 "metadata": {
  "kernelspec": {
   "display_name": "scanpro_analysis",
   "language": "python",
   "name": "scanpro_analysis"
  },
  "language_info": {
   "codemirror_mode": {
    "name": "ipython",
    "version": 3
   },
   "file_extension": ".py",
   "mimetype": "text/x-python",
   "name": "python",
   "nbconvert_exporter": "python",
   "pygments_lexer": "ipython3",
   "version": "3.9.16"
  }
 },
 "nbformat": 4,
 "nbformat_minor": 5
}
