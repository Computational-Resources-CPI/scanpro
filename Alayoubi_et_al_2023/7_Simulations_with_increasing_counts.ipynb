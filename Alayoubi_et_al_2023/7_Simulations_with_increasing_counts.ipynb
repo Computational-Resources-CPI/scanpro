{
 "cells": [
  {
   "cell_type": "markdown",
   "id": "53795685",
   "metadata": {},
   "source": [
    "# 7. Simulations with increasing cell counts"
   ]
  },
  {
   "cell_type": "markdown",
   "id": "0d0f16e2",
   "metadata": {},
   "source": [
    "To assess the effect of cell count and the number of bootstrapped samples on the ability to identify significant clusters by scanpro, we increment the `mu` parameter of the function `simulate_cell_counts_2`, which result in increased cell count each time. For each `mu` parameter, we generate 100 datasets randomly and run scanpro_boot on each, and the mean cell count is then calculated."
   ]
  },
  {
   "cell_type": "code",
   "execution_count": 1,
   "id": "10c53874",
   "metadata": {},
   "outputs": [],
   "source": [
    "import pandas as pd\n",
    "import numpy as np\n",
    "\n",
    "import multiprocessing as mp\n",
    "\n",
    "\n",
    "from scanpro import scanpro\n",
    "from scanpro.utils import estimate_params_from_counts, simulate_cell_counts_2"
   ]
  },
  {
   "cell_type": "code",
   "execution_count": 50,
   "id": "1e58fa5b",
   "metadata": {},
   "outputs": [],
   "source": [
    "#FIG_PATH = '/mnt/agnerds/knowledgebase/PaperInPrep/pypropeller/figures_as_given'\n",
    "OUT_PATH = '/home/yalayou/pypropeller/Alayoubi_et_al_2023/results'"
   ]
  },
  {
   "cell_type": "code",
   "execution_count": 3,
   "id": "6ad71cf2",
   "metadata": {},
   "outputs": [],
   "source": [
    "def convert_counts_to_df(counts, prop_cols=None, meta_cols=None, n_cells=1, column_name=\"Cluster\"):\n",
    "    \"\"\" Convert a cell count matrix to a dataframe in long format.\"\"\"\n",
    "\n",
    "    counts = counts.copy()\n",
    "\n",
    "    #If not given, try to get prop_cols and meta_cols automatically\n",
    "    if prop_cols is None:\n",
    "        dtypes = counts.dtypes.astype(str)\n",
    "        prop_cols = [col for i, col in enumerate(counts.columns) if \"float\" in dtypes[i] or \"int\" in dtypes[i]]\n",
    "        \n",
    "    if meta_cols is None:\n",
    "        meta_cols = [col for col in counts.columns if col not in prop_cols]\n",
    "\n",
    "    # Multiply proportions with n_cells\n",
    "    counts[prop_cols] *= n_cells\n",
    "    counts[prop_cols] = counts[prop_cols].astype(int)\n",
    "    \n",
    "    # Melt into long format (similar to adata.obs)\n",
    "    counts_melt = pd.melt(counts, id_vars=meta_cols, value_vars=prop_cols, \n",
    "                          var_name=column_name, value_name=\"count\")\n",
    "\n",
    "    # Duplicate rows based on number of cells\n",
    "    counts_long = counts_melt.loc[counts_melt.index.repeat(counts_melt[\"count\"])].reset_index(drop=True)\n",
    "    counts_long.drop(columns=\"count\", inplace=True)\n",
    "    counts_long.index = [\"cell_\" + str(i) for i in range(1, len(counts_long) + 1)]\n",
    "    \n",
    "    return counts_long"
   ]
  },
  {
   "cell_type": "code",
   "execution_count": 4,
   "id": "b587f216",
   "metadata": {},
   "outputs": [],
   "source": [
    "def generate_dataset(p, a, b, n_reps, n_conds=2, n=20, mu=5000, seed=1):\n",
    "\n",
    "    np.random.seed(seed)\n",
    "    if b is None:\n",
    "        b = a * (1-p) / p\n",
    "\n",
    "    counts = simulate_cell_counts_2(p, n_reps, a, b, n_conds, n=n, mu=mu)\n",
    "\n",
    "    counts_df = convert_counts_to_df(counts, column_name=\"cluster\")\n",
    "\n",
    "    return counts_df"
   ]
  },
  {
   "cell_type": "code",
   "execution_count": 5,
   "id": "7eee436a",
   "metadata": {},
   "outputs": [],
   "source": [
    "def simulate_datasets(p, a, b, mu, n_reps=4, n_sims=100):\n",
    "    np.random.seed(10)\n",
    "    \n",
    "    pool = mp.Pool()\n",
    "    jobs = []\n",
    "    \n",
    "    for sim in range(n_sims):\n",
    "\n",
    "        # Run Scanpro or scanpro bootstrapping on 100 datasets\n",
    "        job = pool.apply_async(generate_dataset, (p, a, b, n_reps), dict(n_conds=2, n=20,\n",
    "                                                                         mu=mu, seed=sim))\n",
    "        jobs.append(job)\n",
    "\n",
    "    pool.close()\n",
    "    monitor_jobs(jobs)\n",
    "\n",
    "    results = [job.get() for job in jobs]\n",
    "    pool.join()\n",
    "\n",
    "    return results"
   ]
  },
  {
   "cell_type": "code",
   "execution_count": 6,
   "id": "56a75992",
   "metadata": {},
   "outputs": [],
   "source": [
    "def monitor_jobs(jobs):\n",
    "    \"\"\"\n",
    "    Monitor the status of jobs submitted to a pool.\n",
    "\n",
    "    Parameters\n",
    "    ----------\n",
    "    jobs : list of job objects\n",
    "        List of job objects, e.g. as returned by pool.map_async().\n",
    "    \"\"\"\n",
    "\n",
    "    if isinstance(jobs, dict):\n",
    "        jobs = list(jobs.values())\n",
    "\n",
    "    from tqdm import tqdm_notebook as tqdm\n",
    "    pbar = tqdm(total=len(jobs))\n",
    "    \n",
    "    # Wait for all jobs to finish\n",
    "    n_ready = sum([job.ready() for job in jobs])\n",
    "    while n_ready != len(jobs):\n",
    "        if n_ready != pbar.n:\n",
    "            pbar.n = n_ready\n",
    "            pbar.refresh()\n",
    "        time.sleep(1)\n",
    "        n_ready = sum([job.ready() for job in jobs])\n",
    "\n",
    "    pbar.n = n_ready  # update progress bar to 100%\n",
    "    pbar.refresh()\n",
    "    pbar.close()"
   ]
  },
  {
   "cell_type": "code",
   "execution_count": 7,
   "id": "ac1bb812",
   "metadata": {},
   "outputs": [],
   "source": [
    "def test_performance(datasets,\n",
    "                     n_reps,  # number of samples per condition\n",
    "                     transform,\n",
    "                     ):\n",
    "    \"\"\"Test the performance of bootstrap scanpro on simulated data.\n",
    "    :param list datasets: List of datasets as pandas dataframes to run scanpro on\n",
    "    :param int n_reps: Number of replicates the bootstrap is going to generate\n",
    "    :param str transform: method of transformation (logit or arcsin)\n",
    "    :return pandas.DataFrame all_run_results: A dataframe with results from all runs.\n",
    "    \"\"\"\n",
    "    import warnings\n",
    "    warnings.filterwarnings('ignore')\n",
    "\n",
    "    jobs = []\n",
    "\n",
    "    for mu in datasets.keys():\n",
    "        pool = mp.Pool()\n",
    "        for dataset in datasets[mu]:\n",
    "\n",
    "            # Run Scanpro or scanpro bootstrapping on 100 datasets\n",
    "            job = pool.apply_async(scanpro.scanpro, (dataset,), dict(clusters_col=\"cluster\", conds_col=\"group\", \n",
    "                                                                     samples_col=None, n_reps=n_reps,\n",
    "                                                                     transform=transform, verbosity=0))\n",
    "            jobs.append(job)\n",
    "\n",
    "        pool.close()\n",
    "        monitor_jobs(jobs)\n",
    "\n",
    "        results = [job.get() for job in jobs]\n",
    "        pool.join()\n",
    "\n",
    "    # Collect result\n",
    "    all_run_results = [result.results for result in results]\n",
    "\n",
    "    return all_run_results"
   ]
  },
  {
   "cell_type": "code",
   "execution_count": 93,
   "id": "a5d0894d",
   "metadata": {},
   "outputs": [],
   "source": [
    "#### HELPER STATISTCS FUNCTIONS ####\n",
    "\n",
    "def compare_p_values(p_values, per_cluster=False):\n",
    "    \"\"\" Compare p-values of simulation with differences with expected output\"\"\"\n",
    "    out = []\n",
    "    for x in p_values:\n",
    "        if per_cluster:\n",
    "            # save hit rate per cluster\n",
    "            hitrate = [x[0]<.05, x[1]>=.05, x[2]>=.05, x[3]<.05, x[4]>=.05, x[5]>=.05, x[6]<0.05]\n",
    "        else:\n",
    "            # save hit rate per run\n",
    "            hitrate = x[0]<0.05 and x[1]>=0.05 and x[2]>=0.05 and x[3]<0.05 and x[4]>=0.05 and x[5]>=0.05 and x[6]<0.05\n",
    "        out.append(hitrate)\n",
    "\n",
    "    return out\n",
    "\n",
    "\n",
    "def get_means(data):\n",
    "    \"\"\"Get mean cell count for each mu\"\"\"\n",
    "    return [np.mean([x.shape[0] for x in data[mu]]) for mu in data.keys()]\n",
    "\n",
    "\n",
    "def calc_hitrates(results, compare=None):\n",
    "    out = {mu: {method: None for method in list(results[mu].keys())} for mu in results.keys()}\n",
    "    for mu in results.keys():\n",
    "        for method in results[mu]:\n",
    "            p_values = [results[mu][method].iloc[i:i+7, -1] for i in np.arange(0, len(results[mu][method]+1), 7)]\n",
    "\n",
    "            if compare is None:\n",
    "                raise ValueError(\"Please provide a compare function!\")\n",
    "                \n",
    "            out[mu][method] = np.mean(compare(p_values)) * 100\n",
    "    \n",
    "    out = pd.DataFrame(out)\n",
    "    out = out.reset_index().melt(id_vars='index')\n",
    "    out.rename(columns={'index': 'method', 'variable': 'mu', 'value': 'hit_rate'}, inplace=True)\n",
    "\n",
    "    return out\n",
    "\n",
    "\n",
    "def get_stats(p_values, mean_counts, n_sims):\n",
    "    \"\"\" Calculate sensitivty, specificty and false positive rate \"\"\"\n",
    "    from sklearn.metrics import roc_auc_score\n",
    "    \n",
    "    methods = list(p_values[mean_counts[0]].keys())\n",
    "    results = {count: {method: [] for method in methods} for count in mean_counts}\n",
    "    df_list = []\n",
    "    # True is significant cell type in original data\n",
    "    y_test = np.tile([True, False, False, True, False, False, True], n_sims)  \n",
    "    for i, count in enumerate(mean_counts):\n",
    "        for method in methods:\n",
    "            test_df = pd.DataFrame(p_values[count][method])\n",
    "            test_stat = np.zeros((2,2))\n",
    "            test_stat[0][0] = sum([sum(test_df.iloc[:,i] < 0.05) for i in [0,3,6]])  # tp\n",
    "            test_stat[0][1] = sum([sum(test_df.iloc[:,i] < 0.05) for i in [1,2,4,5]])  # fp\n",
    "            test_stat[1][0] = sum([sum(test_df.iloc[:,i] > 0.05) for i in [0,3,6]])  # fn\n",
    "            test_stat[1][1] = sum([sum(test_df.iloc[:,i] > 0.05) for i in [1,2,4,5]])  # tn\n",
    "            \n",
    "            sens = test_stat[0][0] / test_stat.sum(axis=0)[0]  # true positive rate\n",
    "            specif = test_stat[1][1] / test_stat.sum(axis=0)[1]  # specificity\n",
    "            fpr = test_stat[0][1] / test_stat.sum(axis=0)[1]  # false positive rate\n",
    "            \n",
    "            results[count][method].append(sens)\n",
    "            results[count][method].append(specif)\n",
    "            results[count][method].append(fpr)\n",
    "            \n",
    "            # calculate auroc\n",
    "            y_predicted = np.array(p_values[count][method]).flatten()\n",
    "            y_predicted = y_predicted < 0.05\n",
    "        \n",
    "            auroc = roc_auc_score(y_test, y_predicted)\n",
    "            results[count][method].append(auroc)\n",
    "        \n",
    "        tmp = pd.DataFrame(results[count], index=['sensitivity', 'specificity', 'fpr', 'auroc'])\n",
    "        tmp = tmp.T\n",
    "        tmp['mean_counts'] = count\n",
    "        \n",
    "        df_list.append(tmp)\n",
    "    \n",
    "    df_stat = pd.concat(df_list, axis=0, join='outer')\n",
    "    df_stat.reset_index(inplace=True)\n",
    "    df_stat.rename({'index': 'method'}, inplace=True, axis=1)\n",
    "    df_stat['reps'] = df_stat['method'].str.split('_').str[1]\n",
    "    df_stat['trans'] = df_stat['method'].str.split('_').str[0]\n",
    "    \n",
    "    return df_stat"
   ]
  },
  {
   "cell_type": "markdown",
   "id": "b93762ff",
   "metadata": {},
   "source": [
    "## Data preperation\n",
    "see https://phipsonlab.github.io/propeller-paper-analysis/SimTrueDiff.html"
   ]
  },
  {
   "cell_type": "code",
   "execution_count": 9,
   "id": "ac86cd8d",
   "metadata": {},
   "outputs": [
    {
     "data": {
      "text/plain": [
       "[Cardiomyocytes           1.769390\n",
       " Endothelial cells      107.760684\n",
       " Epicardial cells        47.297371\n",
       " Fibroblast              14.138098\n",
       " Immune cells            16.442437\n",
       " Neurons                143.134155\n",
       " Smooth muscle cells    458.574736\n",
       " dtype: float64,\n",
       " Cardiomyocytes           4.742325\n",
       " Endothelial cells      107.760684\n",
       " Epicardial cells        47.297371\n",
       " Fibroblast               4.666523\n",
       " Immune cells            16.442437\n",
       " Neurons                143.134155\n",
       " Smooth muscle cells    150.405074\n",
       " dtype: float64]"
      ]
     },
     "execution_count": 9,
     "metadata": {},
     "output_type": "execute_result"
    }
   ],
   "source": [
    "heart_counts = pd.read_csv('/home/yalayou/pypropeller/Alayoubi_et_al_2023/data/heart_counts.tsv', sep='\\t')\n",
    "heart_counts.drop(['Condition', 'Sex'], inplace=True, axis=1)\n",
    "heart_counts = heart_counts.set_index('Sample').T\n",
    "heart_counts.drop('Erythroid', inplace=True)  # remove erythroids\n",
    "\n",
    "# proportions of each cluster in all samples\n",
    "true_props = heart_counts.sum(axis=1) / heart_counts.sum(axis=1).sum()  # sum of cells in cluster / sum of all cells\n",
    "true_props = true_props.to_frame(name=\"props\")\n",
    "\n",
    "# estimate beta paramters from counts\n",
    "params = estimate_params_from_counts(heart_counts)  # rows are clusters\n",
    "a = params[1]\n",
    "b = params[2]\n",
    "\n",
    "# Set up true proportions for the two groups\n",
    "grp1_trueprops = true_props.values.flatten()\n",
    "grp2_trueprops = true_props.values.flatten()\n",
    "\n",
    "grp2_trueprops[0] = grp1_trueprops[0]/2\n",
    "grp2_trueprops[3] = grp2_trueprops[3]*2\n",
    "grp2_trueprops[6] = grp1_trueprops[6]*3\n",
    "\n",
    "grp2_trueprops[0] = grp2_trueprops[0] + (1-grp2_trueprops.sum())/2\n",
    "grp2_trueprops[3] = grp2_trueprops[3] + (1-grp2_trueprops.sum())\n",
    " \n",
    "# calculate beta for both groups\n",
    "b1 = a*(1-grp1_trueprops)/grp1_trueprops\n",
    "b2 = a*(1-grp2_trueprops)/grp2_trueprops\n",
    "b_grps = [b1, b2]\n",
    "\n",
    "b_grps"
   ]
  },
  {
   "cell_type": "markdown",
   "id": "1465423e",
   "metadata": {},
   "source": [
    "## simulate datasets"
   ]
  },
  {
   "cell_type": "code",
   "execution_count": 10,
   "id": "81654e56",
   "metadata": {
    "scrolled": true
   },
   "outputs": [
    {
     "data": {
      "application/vnd.jupyter.widget-view+json": {
       "model_id": "29b9553daef34b00b7c9ac3ad48b7288",
       "version_major": 2,
       "version_minor": 0
      },
      "text/plain": [
       "  0%|          | 0/100 [00:00<?, ?it/s]"
      ]
     },
     "metadata": {},
     "output_type": "display_data"
    },
    {
     "data": {
      "application/vnd.jupyter.widget-view+json": {
       "model_id": "704b13a883ba4ce981dbfed87e6e46e2",
       "version_major": 2,
       "version_minor": 0
      },
      "text/plain": [
       "  0%|          | 0/100 [00:00<?, ?it/s]"
      ]
     },
     "metadata": {},
     "output_type": "display_data"
    },
    {
     "data": {
      "application/vnd.jupyter.widget-view+json": {
       "model_id": "0ddd7a290314473b8ab08c104449a77a",
       "version_major": 2,
       "version_minor": 0
      },
      "text/plain": [
       "  0%|          | 0/100 [00:00<?, ?it/s]"
      ]
     },
     "metadata": {},
     "output_type": "display_data"
    },
    {
     "data": {
      "application/vnd.jupyter.widget-view+json": {
       "model_id": "6ac899810f244937b66585aadfeb6a7a",
       "version_major": 2,
       "version_minor": 0
      },
      "text/plain": [
       "  0%|          | 0/100 [00:00<?, ?it/s]"
      ]
     },
     "metadata": {},
     "output_type": "display_data"
    },
    {
     "data": {
      "application/vnd.jupyter.widget-view+json": {
       "model_id": "dd754a8c55684eadb3e306d9e1ea7449",
       "version_major": 2,
       "version_minor": 0
      },
      "text/plain": [
       "  0%|          | 0/100 [00:00<?, ?it/s]"
      ]
     },
     "metadata": {},
     "output_type": "display_data"
    },
    {
     "data": {
      "application/vnd.jupyter.widget-view+json": {
       "model_id": "3a7c3e9632194c48a69a1e7742af31be",
       "version_major": 2,
       "version_minor": 0
      },
      "text/plain": [
       "  0%|          | 0/100 [00:00<?, ?it/s]"
      ]
     },
     "metadata": {},
     "output_type": "display_data"
    },
    {
     "data": {
      "application/vnd.jupyter.widget-view+json": {
       "model_id": "3d9929a275ec47feb7360291ef8ec7df",
       "version_major": 2,
       "version_minor": 0
      },
      "text/plain": [
       "  0%|          | 0/100 [00:00<?, ?it/s]"
      ]
     },
     "metadata": {},
     "output_type": "display_data"
    },
    {
     "data": {
      "application/vnd.jupyter.widget-view+json": {
       "model_id": "4b99a73bc69448cea8f34b54e4610bb8",
       "version_major": 2,
       "version_minor": 0
      },
      "text/plain": [
       "  0%|          | 0/100 [00:00<?, ?it/s]"
      ]
     },
     "metadata": {},
     "output_type": "display_data"
    },
    {
     "data": {
      "application/vnd.jupyter.widget-view+json": {
       "model_id": "c9ab83ba9ab543199090b104ad1e263c",
       "version_major": 2,
       "version_minor": 0
      },
      "text/plain": [
       "  0%|          | 0/100 [00:00<?, ?it/s]"
      ]
     },
     "metadata": {},
     "output_type": "display_data"
    },
    {
     "data": {
      "application/vnd.jupyter.widget-view+json": {
       "model_id": "e01f4e4f60684bcb95b4da9a8ad442e4",
       "version_major": 2,
       "version_minor": 0
      },
      "text/plain": [
       "  0%|          | 0/100 [00:00<?, ?it/s]"
      ]
     },
     "metadata": {},
     "output_type": "display_data"
    },
    {
     "data": {
      "application/vnd.jupyter.widget-view+json": {
       "model_id": "7d3aa1d1dad8424e990c02ff10e37769",
       "version_major": 2,
       "version_minor": 0
      },
      "text/plain": [
       "  0%|          | 0/100 [00:00<?, ?it/s]"
      ]
     },
     "metadata": {},
     "output_type": "display_data"
    },
    {
     "data": {
      "application/vnd.jupyter.widget-view+json": {
       "model_id": "19cfb46fad974de6b639d047ee730c65",
       "version_major": 2,
       "version_minor": 0
      },
      "text/plain": [
       "  0%|          | 0/100 [00:00<?, ?it/s]"
      ]
     },
     "metadata": {},
     "output_type": "display_data"
    },
    {
     "data": {
      "application/vnd.jupyter.widget-view+json": {
       "model_id": "fb016913d0fa4f3aaba2cd423b2767bd",
       "version_major": 2,
       "version_minor": 0
      },
      "text/plain": [
       "  0%|          | 0/100 [00:00<?, ?it/s]"
      ]
     },
     "metadata": {},
     "output_type": "display_data"
    },
    {
     "data": {
      "application/vnd.jupyter.widget-view+json": {
       "model_id": "9399c4c7dea241beb17af0c19b0a2e4e",
       "version_major": 2,
       "version_minor": 0
      },
      "text/plain": [
       "  0%|          | 0/100 [00:00<?, ?it/s]"
      ]
     },
     "metadata": {},
     "output_type": "display_data"
    },
    {
     "data": {
      "application/vnd.jupyter.widget-view+json": {
       "model_id": "791932abb5df46779666ae9c9f863450",
       "version_major": 2,
       "version_minor": 0
      },
      "text/plain": [
       "  0%|          | 0/100 [00:00<?, ?it/s]"
      ]
     },
     "metadata": {},
     "output_type": "display_data"
    },
    {
     "data": {
      "application/vnd.jupyter.widget-view+json": {
       "model_id": "7c34a7bc99ed462abd3c3fa58a34ab49",
       "version_major": 2,
       "version_minor": 0
      },
      "text/plain": [
       "  0%|          | 0/100 [00:00<?, ?it/s]"
      ]
     },
     "metadata": {},
     "output_type": "display_data"
    }
   ],
   "source": [
    "n_reps = 4  # number of replicates before merge\n",
    "mu_list = [250, 500, 750, 1000, 1250, 1500, 2000, 2500, 3500, 5000, 6000, 7000, 9000, 10000, 11000, 12500]\n",
    "\n",
    "datasets = {f\"mu_{mu}\": simulate_datasets(true_props, a, b_grps, n_reps=n_reps, mu=mu, n_sims=100) for mu in mu_list}"
   ]
  },
  {
   "cell_type": "code",
   "execution_count": 11,
   "id": "268ea79c",
   "metadata": {
    "scrolled": true
   },
   "outputs": [
    {
     "data": {
      "text/plain": [
       "[1957.24,\n",
       " 3945.37,\n",
       " 5913.71,\n",
       " 7876.67,\n",
       " 9835.37,\n",
       " 11808.26,\n",
       " 15735.6,\n",
       " 19675.16,\n",
       " 27532.11,\n",
       " 39343.57,\n",
       " 47203.26,\n",
       " 55074.06,\n",
       " 70849.16,\n",
       " 78693.82,\n",
       " 86561.56,\n",
       " 98387.63]"
      ]
     },
     "execution_count": 11,
     "metadata": {},
     "output_type": "execute_result"
    }
   ],
   "source": [
    "# get mean cell counts for each mu\n",
    "mean_counts = get_means(datasets)\n",
    "mean_counts"
   ]
  },
  {
   "cell_type": "markdown",
   "id": "96373f38",
   "metadata": {},
   "source": [
    "## Test bootstrapping with different cell counts"
   ]
  },
  {
   "cell_type": "markdown",
   "id": "50312ffb",
   "metadata": {},
   "source": [
    "### 2 replicates"
   ]
  },
  {
   "cell_type": "code",
   "execution_count": 12,
   "id": "1176fba9",
   "metadata": {},
   "outputs": [],
   "source": [
    "n_reps = 2"
   ]
  },
  {
   "cell_type": "markdown",
   "id": "c29af8b4",
   "metadata": {},
   "source": [
    "#### logit"
   ]
  },
  {
   "cell_type": "code",
   "execution_count": 13,
   "id": "beb24895",
   "metadata": {
    "scrolled": true
   },
   "outputs": [
    {
     "data": {
      "application/vnd.jupyter.widget-view+json": {
       "model_id": "8a693ab4d14f4ab597e298a464ab4ed5",
       "version_major": 2,
       "version_minor": 0
      },
      "text/plain": [
       "  0%|          | 0/100 [00:00<?, ?it/s]"
      ]
     },
     "metadata": {},
     "output_type": "display_data"
    },
    {
     "name": "stdout",
     "output_type": "stream",
     "text": [
      "One very small variance detected, has been offset away from zero\n"
     ]
    },
    {
     "data": {
      "application/vnd.jupyter.widget-view+json": {
       "model_id": "6c1275b3f0934e008a8fcc8ecffb485b",
       "version_major": 2,
       "version_minor": 0
      },
      "text/plain": [
       "  0%|          | 0/200 [00:00<?, ?it/s]"
      ]
     },
     "metadata": {},
     "output_type": "display_data"
    },
    {
     "data": {
      "application/vnd.jupyter.widget-view+json": {
       "model_id": "59b2ef8b3d1d4f0dab604c070304ed3d",
       "version_major": 2,
       "version_minor": 0
      },
      "text/plain": [
       "  0%|          | 0/300 [00:00<?, ?it/s]"
      ]
     },
     "metadata": {},
     "output_type": "display_data"
    },
    {
     "data": {
      "application/vnd.jupyter.widget-view+json": {
       "model_id": "dd710b0e2ff04e14a113bbd6a4963fad",
       "version_major": 2,
       "version_minor": 0
      },
      "text/plain": [
       "  0%|          | 0/400 [00:00<?, ?it/s]"
      ]
     },
     "metadata": {},
     "output_type": "display_data"
    },
    {
     "data": {
      "application/vnd.jupyter.widget-view+json": {
       "model_id": "edf9619a08b846ffbb2ee752c41c49e4",
       "version_major": 2,
       "version_minor": 0
      },
      "text/plain": [
       "  0%|          | 0/500 [00:00<?, ?it/s]"
      ]
     },
     "metadata": {},
     "output_type": "display_data"
    },
    {
     "data": {
      "application/vnd.jupyter.widget-view+json": {
       "model_id": "4ee32d26970f40068f14d07e07408f79",
       "version_major": 2,
       "version_minor": 0
      },
      "text/plain": [
       "  0%|          | 0/600 [00:00<?, ?it/s]"
      ]
     },
     "metadata": {},
     "output_type": "display_data"
    },
    {
     "data": {
      "application/vnd.jupyter.widget-view+json": {
       "model_id": "4695eca7442044af9c142d9d1fe3f25f",
       "version_major": 2,
       "version_minor": 0
      },
      "text/plain": [
       "  0%|          | 0/700 [00:00<?, ?it/s]"
      ]
     },
     "metadata": {},
     "output_type": "display_data"
    },
    {
     "data": {
      "application/vnd.jupyter.widget-view+json": {
       "model_id": "dda4606d58e647ec8821653c48350492",
       "version_major": 2,
       "version_minor": 0
      },
      "text/plain": [
       "  0%|          | 0/800 [00:00<?, ?it/s]"
      ]
     },
     "metadata": {},
     "output_type": "display_data"
    },
    {
     "data": {
      "application/vnd.jupyter.widget-view+json": {
       "model_id": "abc76cf0edc44f58be3c5406246319e0",
       "version_major": 2,
       "version_minor": 0
      },
      "text/plain": [
       "  0%|          | 0/900 [00:00<?, ?it/s]"
      ]
     },
     "metadata": {},
     "output_type": "display_data"
    },
    {
     "data": {
      "application/vnd.jupyter.widget-view+json": {
       "model_id": "a27125a5888d40ae931a5edcff89101a",
       "version_major": 2,
       "version_minor": 0
      },
      "text/plain": [
       "  0%|          | 0/1000 [00:00<?, ?it/s]"
      ]
     },
     "metadata": {},
     "output_type": "display_data"
    },
    {
     "data": {
      "application/vnd.jupyter.widget-view+json": {
       "model_id": "55f7b8dbf6c24ffa8264a826183a26cf",
       "version_major": 2,
       "version_minor": 0
      },
      "text/plain": [
       "  0%|          | 0/1100 [00:00<?, ?it/s]"
      ]
     },
     "metadata": {},
     "output_type": "display_data"
    },
    {
     "data": {
      "application/vnd.jupyter.widget-view+json": {
       "model_id": "10c4b252de8141aab4057a7f3e753f0e",
       "version_major": 2,
       "version_minor": 0
      },
      "text/plain": [
       "  0%|          | 0/1200 [00:00<?, ?it/s]"
      ]
     },
     "metadata": {},
     "output_type": "display_data"
    },
    {
     "data": {
      "application/vnd.jupyter.widget-view+json": {
       "model_id": "a572d8f1317846328e40db37522c2420",
       "version_major": 2,
       "version_minor": 0
      },
      "text/plain": [
       "  0%|          | 0/1300 [00:00<?, ?it/s]"
      ]
     },
     "metadata": {},
     "output_type": "display_data"
    },
    {
     "data": {
      "application/vnd.jupyter.widget-view+json": {
       "model_id": "67eeb37cc072417cba499a6dc0715e80",
       "version_major": 2,
       "version_minor": 0
      },
      "text/plain": [
       "  0%|          | 0/1400 [00:00<?, ?it/s]"
      ]
     },
     "metadata": {},
     "output_type": "display_data"
    },
    {
     "data": {
      "application/vnd.jupyter.widget-view+json": {
       "model_id": "d36abfb0561c4925a9a7876e5c64d663",
       "version_major": 2,
       "version_minor": 0
      },
      "text/plain": [
       "  0%|          | 0/1500 [00:00<?, ?it/s]"
      ]
     },
     "metadata": {},
     "output_type": "display_data"
    },
    {
     "data": {
      "application/vnd.jupyter.widget-view+json": {
       "model_id": "945cb8e4923e4a3cb67773e09280139b",
       "version_major": 2,
       "version_minor": 0
      },
      "text/plain": [
       "  0%|          | 0/1600 [00:00<?, ?it/s]"
      ]
     },
     "metadata": {},
     "output_type": "display_data"
    }
   ],
   "source": [
    "scanpro_2_reps_logit = test_performance(datasets, transform=\"logit\",\n",
    "                                        n_reps=n_reps)"
   ]
  },
  {
   "cell_type": "markdown",
   "id": "75f0f387",
   "metadata": {},
   "source": [
    "#### arcsine"
   ]
  },
  {
   "cell_type": "code",
   "execution_count": 15,
   "id": "387fb074",
   "metadata": {},
   "outputs": [
    {
     "data": {
      "application/vnd.jupyter.widget-view+json": {
       "model_id": "c76976256053400ab2220b71292448af",
       "version_major": 2,
       "version_minor": 0
      },
      "text/plain": [
       "  0%|          | 0/100 [00:00<?, ?it/s]"
      ]
     },
     "metadata": {},
     "output_type": "display_data"
    },
    {
     "name": "stdout",
     "output_type": "stream",
     "text": [
      "One very small variance detected, has been offset away from zero\n",
      "One very small variance detected, has been offset away from zero\n",
      "One very small variance detected, has been offset away from zero\n",
      "One very small variance detected, has been offset away from zero\n",
      "One very small variance detected, has been offset away from zero\n",
      "One very small variance detected, has been offset away from zero\n"
     ]
    },
    {
     "data": {
      "application/vnd.jupyter.widget-view+json": {
       "model_id": "46baf5dfbe1944bf9c6c4b3a49c74767",
       "version_major": 2,
       "version_minor": 0
      },
      "text/plain": [
       "  0%|          | 0/200 [00:00<?, ?it/s]"
      ]
     },
     "metadata": {},
     "output_type": "display_data"
    },
    {
     "name": "stdout",
     "output_type": "stream",
     "text": [
      "One very small variance detected, has been offset away from zero\n",
      "One very small variance detected, has been offset away from zero\n"
     ]
    },
    {
     "data": {
      "application/vnd.jupyter.widget-view+json": {
       "model_id": "a1d89020df704333a7260f3fd0cc2034",
       "version_major": 2,
       "version_minor": 0
      },
      "text/plain": [
       "  0%|          | 0/300 [00:00<?, ?it/s]"
      ]
     },
     "metadata": {},
     "output_type": "display_data"
    },
    {
     "data": {
      "application/vnd.jupyter.widget-view+json": {
       "model_id": "cfe68874946c40dfabdd84381c98062b",
       "version_major": 2,
       "version_minor": 0
      },
      "text/plain": [
       "  0%|          | 0/400 [00:00<?, ?it/s]"
      ]
     },
     "metadata": {},
     "output_type": "display_data"
    },
    {
     "data": {
      "application/vnd.jupyter.widget-view+json": {
       "model_id": "721777232b204f7884dd52d0eb2edb50",
       "version_major": 2,
       "version_minor": 0
      },
      "text/plain": [
       "  0%|          | 0/500 [00:00<?, ?it/s]"
      ]
     },
     "metadata": {},
     "output_type": "display_data"
    },
    {
     "data": {
      "application/vnd.jupyter.widget-view+json": {
       "model_id": "15eb413be72342bab43d02a39e4cd330",
       "version_major": 2,
       "version_minor": 0
      },
      "text/plain": [
       "  0%|          | 0/600 [00:00<?, ?it/s]"
      ]
     },
     "metadata": {},
     "output_type": "display_data"
    },
    {
     "data": {
      "application/vnd.jupyter.widget-view+json": {
       "model_id": "a56c2b810e27476fb3301bb4a21aa07a",
       "version_major": 2,
       "version_minor": 0
      },
      "text/plain": [
       "  0%|          | 0/700 [00:00<?, ?it/s]"
      ]
     },
     "metadata": {},
     "output_type": "display_data"
    },
    {
     "data": {
      "application/vnd.jupyter.widget-view+json": {
       "model_id": "09bb697a1b3846d5af79d7a1624ff240",
       "version_major": 2,
       "version_minor": 0
      },
      "text/plain": [
       "  0%|          | 0/800 [00:00<?, ?it/s]"
      ]
     },
     "metadata": {},
     "output_type": "display_data"
    },
    {
     "data": {
      "application/vnd.jupyter.widget-view+json": {
       "model_id": "7364376197d54fa9bf259284b26900f5",
       "version_major": 2,
       "version_minor": 0
      },
      "text/plain": [
       "  0%|          | 0/900 [00:00<?, ?it/s]"
      ]
     },
     "metadata": {},
     "output_type": "display_data"
    },
    {
     "data": {
      "application/vnd.jupyter.widget-view+json": {
       "model_id": "d10cab50dea141a59680842395d8f3c6",
       "version_major": 2,
       "version_minor": 0
      },
      "text/plain": [
       "  0%|          | 0/1000 [00:00<?, ?it/s]"
      ]
     },
     "metadata": {},
     "output_type": "display_data"
    },
    {
     "data": {
      "application/vnd.jupyter.widget-view+json": {
       "model_id": "de3843f83799467ea4a35cb11a4a3cfa",
       "version_major": 2,
       "version_minor": 0
      },
      "text/plain": [
       "  0%|          | 0/1100 [00:00<?, ?it/s]"
      ]
     },
     "metadata": {},
     "output_type": "display_data"
    },
    {
     "data": {
      "application/vnd.jupyter.widget-view+json": {
       "model_id": "fc91df62b6524cef9f2e4ce48402784c",
       "version_major": 2,
       "version_minor": 0
      },
      "text/plain": [
       "  0%|          | 0/1200 [00:00<?, ?it/s]"
      ]
     },
     "metadata": {},
     "output_type": "display_data"
    },
    {
     "data": {
      "application/vnd.jupyter.widget-view+json": {
       "model_id": "b43548986bf84cec88bf0b7a9debc227",
       "version_major": 2,
       "version_minor": 0
      },
      "text/plain": [
       "  0%|          | 0/1300 [00:00<?, ?it/s]"
      ]
     },
     "metadata": {},
     "output_type": "display_data"
    },
    {
     "data": {
      "application/vnd.jupyter.widget-view+json": {
       "model_id": "1325d2eb5fb14501bf02c38f40937058",
       "version_major": 2,
       "version_minor": 0
      },
      "text/plain": [
       "  0%|          | 0/1400 [00:00<?, ?it/s]"
      ]
     },
     "metadata": {},
     "output_type": "display_data"
    },
    {
     "data": {
      "application/vnd.jupyter.widget-view+json": {
       "model_id": "39195bfc72e34db281bf3c9cffa8a1ef",
       "version_major": 2,
       "version_minor": 0
      },
      "text/plain": [
       "  0%|          | 0/1500 [00:00<?, ?it/s]"
      ]
     },
     "metadata": {},
     "output_type": "display_data"
    },
    {
     "data": {
      "application/vnd.jupyter.widget-view+json": {
       "model_id": "8ef1d0c44f7e46938bf03352da78ed58",
       "version_major": 2,
       "version_minor": 0
      },
      "text/plain": [
       "  0%|          | 0/1600 [00:00<?, ?it/s]"
      ]
     },
     "metadata": {},
     "output_type": "display_data"
    }
   ],
   "source": [
    "scanpro_2_reps_arcsin = test_performance(datasets, transform=\"arcsin\",\n",
    "                                         n_reps=n_reps)"
   ]
  },
  {
   "cell_type": "markdown",
   "id": "8a6427c8",
   "metadata": {},
   "source": [
    "### 4 replicates"
   ]
  },
  {
   "cell_type": "code",
   "execution_count": 16,
   "id": "b357f382",
   "metadata": {},
   "outputs": [],
   "source": [
    "n_reps = 4"
   ]
  },
  {
   "cell_type": "markdown",
   "id": "3429f704",
   "metadata": {},
   "source": [
    "#### logit"
   ]
  },
  {
   "cell_type": "code",
   "execution_count": 17,
   "id": "f77a002f",
   "metadata": {},
   "outputs": [
    {
     "data": {
      "application/vnd.jupyter.widget-view+json": {
       "model_id": "0a4bb32ad925417392d3963235a83981",
       "version_major": 2,
       "version_minor": 0
      },
      "text/plain": [
       "  0%|          | 0/100 [00:00<?, ?it/s]"
      ]
     },
     "metadata": {},
     "output_type": "display_data"
    },
    {
     "data": {
      "application/vnd.jupyter.widget-view+json": {
       "model_id": "aad1ffce53a64ac6a16ade27864b2d5b",
       "version_major": 2,
       "version_minor": 0
      },
      "text/plain": [
       "  0%|          | 0/200 [00:00<?, ?it/s]"
      ]
     },
     "metadata": {},
     "output_type": "display_data"
    },
    {
     "data": {
      "application/vnd.jupyter.widget-view+json": {
       "model_id": "2c1e769cd6454e618fb757c51f47cd29",
       "version_major": 2,
       "version_minor": 0
      },
      "text/plain": [
       "  0%|          | 0/300 [00:00<?, ?it/s]"
      ]
     },
     "metadata": {},
     "output_type": "display_data"
    },
    {
     "data": {
      "application/vnd.jupyter.widget-view+json": {
       "model_id": "53b677563a9c4200bc006345165217eb",
       "version_major": 2,
       "version_minor": 0
      },
      "text/plain": [
       "  0%|          | 0/400 [00:00<?, ?it/s]"
      ]
     },
     "metadata": {},
     "output_type": "display_data"
    },
    {
     "data": {
      "application/vnd.jupyter.widget-view+json": {
       "model_id": "f2cdb47d82564438915287c2f2a73341",
       "version_major": 2,
       "version_minor": 0
      },
      "text/plain": [
       "  0%|          | 0/500 [00:00<?, ?it/s]"
      ]
     },
     "metadata": {},
     "output_type": "display_data"
    },
    {
     "data": {
      "application/vnd.jupyter.widget-view+json": {
       "model_id": "dfecf816be2b4b39b27b49ebc21091c0",
       "version_major": 2,
       "version_minor": 0
      },
      "text/plain": [
       "  0%|          | 0/600 [00:00<?, ?it/s]"
      ]
     },
     "metadata": {},
     "output_type": "display_data"
    },
    {
     "data": {
      "application/vnd.jupyter.widget-view+json": {
       "model_id": "9a01839f6cac4239b64bbc60897d4c9a",
       "version_major": 2,
       "version_minor": 0
      },
      "text/plain": [
       "  0%|          | 0/700 [00:00<?, ?it/s]"
      ]
     },
     "metadata": {},
     "output_type": "display_data"
    },
    {
     "data": {
      "application/vnd.jupyter.widget-view+json": {
       "model_id": "453edc6a37544010a87e5255483a8198",
       "version_major": 2,
       "version_minor": 0
      },
      "text/plain": [
       "  0%|          | 0/800 [00:00<?, ?it/s]"
      ]
     },
     "metadata": {},
     "output_type": "display_data"
    },
    {
     "data": {
      "application/vnd.jupyter.widget-view+json": {
       "model_id": "4dbe930180a34c9f9788481abaee10c0",
       "version_major": 2,
       "version_minor": 0
      },
      "text/plain": [
       "  0%|          | 0/900 [00:00<?, ?it/s]"
      ]
     },
     "metadata": {},
     "output_type": "display_data"
    },
    {
     "data": {
      "application/vnd.jupyter.widget-view+json": {
       "model_id": "09c854260c4244f98f95e86e583a3d1d",
       "version_major": 2,
       "version_minor": 0
      },
      "text/plain": [
       "  0%|          | 0/1000 [00:00<?, ?it/s]"
      ]
     },
     "metadata": {},
     "output_type": "display_data"
    },
    {
     "data": {
      "application/vnd.jupyter.widget-view+json": {
       "model_id": "1861b71d32274343812a49d2c384d1c7",
       "version_major": 2,
       "version_minor": 0
      },
      "text/plain": [
       "  0%|          | 0/1100 [00:00<?, ?it/s]"
      ]
     },
     "metadata": {},
     "output_type": "display_data"
    },
    {
     "data": {
      "application/vnd.jupyter.widget-view+json": {
       "model_id": "0fe91c680d4b4d46a3333bdf81eab01a",
       "version_major": 2,
       "version_minor": 0
      },
      "text/plain": [
       "  0%|          | 0/1200 [00:00<?, ?it/s]"
      ]
     },
     "metadata": {},
     "output_type": "display_data"
    },
    {
     "data": {
      "application/vnd.jupyter.widget-view+json": {
       "model_id": "bdc98066c23a483187b991169f4549bc",
       "version_major": 2,
       "version_minor": 0
      },
      "text/plain": [
       "  0%|          | 0/1300 [00:00<?, ?it/s]"
      ]
     },
     "metadata": {},
     "output_type": "display_data"
    },
    {
     "data": {
      "application/vnd.jupyter.widget-view+json": {
       "model_id": "8c34407fe97949de87e8373fe3a51fd8",
       "version_major": 2,
       "version_minor": 0
      },
      "text/plain": [
       "  0%|          | 0/1400 [00:00<?, ?it/s]"
      ]
     },
     "metadata": {},
     "output_type": "display_data"
    },
    {
     "data": {
      "application/vnd.jupyter.widget-view+json": {
       "model_id": "6c218f07ca3c4ec6984592ee5ab844a9",
       "version_major": 2,
       "version_minor": 0
      },
      "text/plain": [
       "  0%|          | 0/1500 [00:00<?, ?it/s]"
      ]
     },
     "metadata": {},
     "output_type": "display_data"
    },
    {
     "data": {
      "application/vnd.jupyter.widget-view+json": {
       "model_id": "a5b3de16e4b14a33b24b29b0cc0bedff",
       "version_major": 2,
       "version_minor": 0
      },
      "text/plain": [
       "  0%|          | 0/1600 [00:00<?, ?it/s]"
      ]
     },
     "metadata": {},
     "output_type": "display_data"
    }
   ],
   "source": [
    "scanpro_4_reps_logit = test_performance(datasets, transform=\"logit\",\n",
    "                                        n_reps=n_reps)"
   ]
  },
  {
   "cell_type": "markdown",
   "id": "a7c6ed8e",
   "metadata": {},
   "source": [
    "#### arcsine"
   ]
  },
  {
   "cell_type": "code",
   "execution_count": 18,
   "id": "d365dc7e",
   "metadata": {},
   "outputs": [
    {
     "data": {
      "application/vnd.jupyter.widget-view+json": {
       "model_id": "bb34b3873f9f4683aa1c4125aebdf6dd",
       "version_major": 2,
       "version_minor": 0
      },
      "text/plain": [
       "  0%|          | 0/100 [00:00<?, ?it/s]"
      ]
     },
     "metadata": {},
     "output_type": "display_data"
    },
    {
     "data": {
      "application/vnd.jupyter.widget-view+json": {
       "model_id": "6fb6758d655e46c5af4779373e4222ec",
       "version_major": 2,
       "version_minor": 0
      },
      "text/plain": [
       "  0%|          | 0/200 [00:00<?, ?it/s]"
      ]
     },
     "metadata": {},
     "output_type": "display_data"
    },
    {
     "data": {
      "application/vnd.jupyter.widget-view+json": {
       "model_id": "7db32e5a40c24efdad3b8c993a2156a2",
       "version_major": 2,
       "version_minor": 0
      },
      "text/plain": [
       "  0%|          | 0/300 [00:00<?, ?it/s]"
      ]
     },
     "metadata": {},
     "output_type": "display_data"
    },
    {
     "data": {
      "application/vnd.jupyter.widget-view+json": {
       "model_id": "3b13f53a3ef541e6bae7bd47c56400af",
       "version_major": 2,
       "version_minor": 0
      },
      "text/plain": [
       "  0%|          | 0/400 [00:00<?, ?it/s]"
      ]
     },
     "metadata": {},
     "output_type": "display_data"
    },
    {
     "data": {
      "application/vnd.jupyter.widget-view+json": {
       "model_id": "bcc151d0fdfa4173b523cde4edbb9253",
       "version_major": 2,
       "version_minor": 0
      },
      "text/plain": [
       "  0%|          | 0/500 [00:00<?, ?it/s]"
      ]
     },
     "metadata": {},
     "output_type": "display_data"
    },
    {
     "data": {
      "application/vnd.jupyter.widget-view+json": {
       "model_id": "5d7a11d086984ab4a7127a818ff538cf",
       "version_major": 2,
       "version_minor": 0
      },
      "text/plain": [
       "  0%|          | 0/600 [00:00<?, ?it/s]"
      ]
     },
     "metadata": {},
     "output_type": "display_data"
    },
    {
     "data": {
      "application/vnd.jupyter.widget-view+json": {
       "model_id": "583632276ab341369cb5158a39b1107c",
       "version_major": 2,
       "version_minor": 0
      },
      "text/plain": [
       "  0%|          | 0/700 [00:00<?, ?it/s]"
      ]
     },
     "metadata": {},
     "output_type": "display_data"
    },
    {
     "data": {
      "application/vnd.jupyter.widget-view+json": {
       "model_id": "0f9e6c5c287c4c109a0de785d6844673",
       "version_major": 2,
       "version_minor": 0
      },
      "text/plain": [
       "  0%|          | 0/800 [00:00<?, ?it/s]"
      ]
     },
     "metadata": {},
     "output_type": "display_data"
    },
    {
     "data": {
      "application/vnd.jupyter.widget-view+json": {
       "model_id": "6a3c6bcf54bc4d75a643ec39883afdce",
       "version_major": 2,
       "version_minor": 0
      },
      "text/plain": [
       "  0%|          | 0/900 [00:00<?, ?it/s]"
      ]
     },
     "metadata": {},
     "output_type": "display_data"
    },
    {
     "data": {
      "application/vnd.jupyter.widget-view+json": {
       "model_id": "55770ffc59764495b8736202ddb08042",
       "version_major": 2,
       "version_minor": 0
      },
      "text/plain": [
       "  0%|          | 0/1000 [00:00<?, ?it/s]"
      ]
     },
     "metadata": {},
     "output_type": "display_data"
    },
    {
     "data": {
      "application/vnd.jupyter.widget-view+json": {
       "model_id": "76bcf643caed459d9994adefd70fef73",
       "version_major": 2,
       "version_minor": 0
      },
      "text/plain": [
       "  0%|          | 0/1100 [00:00<?, ?it/s]"
      ]
     },
     "metadata": {},
     "output_type": "display_data"
    },
    {
     "data": {
      "application/vnd.jupyter.widget-view+json": {
       "model_id": "5fde9114586c436d8a359dcfcfbdd559",
       "version_major": 2,
       "version_minor": 0
      },
      "text/plain": [
       "  0%|          | 0/1200 [00:00<?, ?it/s]"
      ]
     },
     "metadata": {},
     "output_type": "display_data"
    },
    {
     "data": {
      "application/vnd.jupyter.widget-view+json": {
       "model_id": "4ef62ad8255448089c4b7c39ab3117fb",
       "version_major": 2,
       "version_minor": 0
      },
      "text/plain": [
       "  0%|          | 0/1300 [00:00<?, ?it/s]"
      ]
     },
     "metadata": {},
     "output_type": "display_data"
    },
    {
     "data": {
      "application/vnd.jupyter.widget-view+json": {
       "model_id": "df58e2b35d2e4121bee2e9a52505dbfb",
       "version_major": 2,
       "version_minor": 0
      },
      "text/plain": [
       "  0%|          | 0/1400 [00:00<?, ?it/s]"
      ]
     },
     "metadata": {},
     "output_type": "display_data"
    },
    {
     "data": {
      "application/vnd.jupyter.widget-view+json": {
       "model_id": "abfc2b86ddb74d039a6b28499dffdc0e",
       "version_major": 2,
       "version_minor": 0
      },
      "text/plain": [
       "  0%|          | 0/1500 [00:00<?, ?it/s]"
      ]
     },
     "metadata": {},
     "output_type": "display_data"
    },
    {
     "data": {
      "application/vnd.jupyter.widget-view+json": {
       "model_id": "8b18af96f5344dfab3ef3768140a7c72",
       "version_major": 2,
       "version_minor": 0
      },
      "text/plain": [
       "  0%|          | 0/1600 [00:00<?, ?it/s]"
      ]
     },
     "metadata": {},
     "output_type": "display_data"
    }
   ],
   "source": [
    "scanpro_4_reps_arcsin = test_performance(datasets, transform=\"arcsin\",\n",
    "                                         n_reps=n_reps)"
   ]
  },
  {
   "cell_type": "markdown",
   "id": "d4a8258a",
   "metadata": {},
   "source": [
    "### 8 replicates"
   ]
  },
  {
   "cell_type": "code",
   "execution_count": 19,
   "id": "f7683b8d",
   "metadata": {},
   "outputs": [],
   "source": [
    "n_reps = 8"
   ]
  },
  {
   "cell_type": "markdown",
   "id": "da76084b",
   "metadata": {},
   "source": [
    "#### logit"
   ]
  },
  {
   "cell_type": "code",
   "execution_count": 20,
   "id": "51c05267",
   "metadata": {},
   "outputs": [
    {
     "data": {
      "application/vnd.jupyter.widget-view+json": {
       "model_id": "170c9da0629d49c9acb3f0438246065f",
       "version_major": 2,
       "version_minor": 0
      },
      "text/plain": [
       "  0%|          | 0/100 [00:00<?, ?it/s]"
      ]
     },
     "metadata": {},
     "output_type": "display_data"
    },
    {
     "data": {
      "application/vnd.jupyter.widget-view+json": {
       "model_id": "0842ba316e024dbd90c18eeaf0f64488",
       "version_major": 2,
       "version_minor": 0
      },
      "text/plain": [
       "  0%|          | 0/200 [00:00<?, ?it/s]"
      ]
     },
     "metadata": {},
     "output_type": "display_data"
    },
    {
     "data": {
      "application/vnd.jupyter.widget-view+json": {
       "model_id": "dc0fe0e2058e48d6ad59842e627f8409",
       "version_major": 2,
       "version_minor": 0
      },
      "text/plain": [
       "  0%|          | 0/300 [00:00<?, ?it/s]"
      ]
     },
     "metadata": {},
     "output_type": "display_data"
    },
    {
     "data": {
      "application/vnd.jupyter.widget-view+json": {
       "model_id": "d649114aa1954e528f312a0625b4a1c5",
       "version_major": 2,
       "version_minor": 0
      },
      "text/plain": [
       "  0%|          | 0/400 [00:00<?, ?it/s]"
      ]
     },
     "metadata": {},
     "output_type": "display_data"
    },
    {
     "data": {
      "application/vnd.jupyter.widget-view+json": {
       "model_id": "8050f09c58264e2b87a2f4244444203b",
       "version_major": 2,
       "version_minor": 0
      },
      "text/plain": [
       "  0%|          | 0/500 [00:00<?, ?it/s]"
      ]
     },
     "metadata": {},
     "output_type": "display_data"
    },
    {
     "data": {
      "application/vnd.jupyter.widget-view+json": {
       "model_id": "2898948cffa54c5f80d07f01b2c7dc92",
       "version_major": 2,
       "version_minor": 0
      },
      "text/plain": [
       "  0%|          | 0/600 [00:00<?, ?it/s]"
      ]
     },
     "metadata": {},
     "output_type": "display_data"
    },
    {
     "data": {
      "application/vnd.jupyter.widget-view+json": {
       "model_id": "654d7d8ee85143c1b887a2915532a19a",
       "version_major": 2,
       "version_minor": 0
      },
      "text/plain": [
       "  0%|          | 0/700 [00:00<?, ?it/s]"
      ]
     },
     "metadata": {},
     "output_type": "display_data"
    },
    {
     "data": {
      "application/vnd.jupyter.widget-view+json": {
       "model_id": "42d40e5f4b4b40379d0cbc0143290408",
       "version_major": 2,
       "version_minor": 0
      },
      "text/plain": [
       "  0%|          | 0/800 [00:00<?, ?it/s]"
      ]
     },
     "metadata": {},
     "output_type": "display_data"
    },
    {
     "data": {
      "application/vnd.jupyter.widget-view+json": {
       "model_id": "095936654576492bb9cdb3d447d239ac",
       "version_major": 2,
       "version_minor": 0
      },
      "text/plain": [
       "  0%|          | 0/900 [00:00<?, ?it/s]"
      ]
     },
     "metadata": {},
     "output_type": "display_data"
    },
    {
     "data": {
      "application/vnd.jupyter.widget-view+json": {
       "model_id": "803c7b9cdf3e4554ab097538613f6863",
       "version_major": 2,
       "version_minor": 0
      },
      "text/plain": [
       "  0%|          | 0/1000 [00:00<?, ?it/s]"
      ]
     },
     "metadata": {},
     "output_type": "display_data"
    },
    {
     "data": {
      "application/vnd.jupyter.widget-view+json": {
       "model_id": "dca9d4809e034b7b808ee3dc6b4cfa6d",
       "version_major": 2,
       "version_minor": 0
      },
      "text/plain": [
       "  0%|          | 0/1100 [00:00<?, ?it/s]"
      ]
     },
     "metadata": {},
     "output_type": "display_data"
    },
    {
     "data": {
      "application/vnd.jupyter.widget-view+json": {
       "model_id": "490689dbd1014031971b689a40f9655f",
       "version_major": 2,
       "version_minor": 0
      },
      "text/plain": [
       "  0%|          | 0/1200 [00:00<?, ?it/s]"
      ]
     },
     "metadata": {},
     "output_type": "display_data"
    },
    {
     "data": {
      "application/vnd.jupyter.widget-view+json": {
       "model_id": "b10886520d2448c7afca50a6e2940034",
       "version_major": 2,
       "version_minor": 0
      },
      "text/plain": [
       "  0%|          | 0/1300 [00:00<?, ?it/s]"
      ]
     },
     "metadata": {},
     "output_type": "display_data"
    },
    {
     "data": {
      "application/vnd.jupyter.widget-view+json": {
       "model_id": "67412440b9b54d6b86fa94ad64a48a53",
       "version_major": 2,
       "version_minor": 0
      },
      "text/plain": [
       "  0%|          | 0/1400 [00:00<?, ?it/s]"
      ]
     },
     "metadata": {},
     "output_type": "display_data"
    },
    {
     "data": {
      "application/vnd.jupyter.widget-view+json": {
       "model_id": "7130ec0f5bfe4eff926511ce2d946c7b",
       "version_major": 2,
       "version_minor": 0
      },
      "text/plain": [
       "  0%|          | 0/1500 [00:00<?, ?it/s]"
      ]
     },
     "metadata": {},
     "output_type": "display_data"
    },
    {
     "data": {
      "application/vnd.jupyter.widget-view+json": {
       "model_id": "09d7a8f0118d40b0a7fcae52a49fa72a",
       "version_major": 2,
       "version_minor": 0
      },
      "text/plain": [
       "  0%|          | 0/1600 [00:00<?, ?it/s]"
      ]
     },
     "metadata": {},
     "output_type": "display_data"
    }
   ],
   "source": [
    "scanpro_8_reps_logit = test_performance(datasets, transform=\"logit\",\n",
    "                                        n_reps=n_reps)"
   ]
  },
  {
   "cell_type": "markdown",
   "id": "e3f9c7d7",
   "metadata": {},
   "source": [
    "#### arcsine"
   ]
  },
  {
   "cell_type": "code",
   "execution_count": 21,
   "id": "f00311ef",
   "metadata": {},
   "outputs": [
    {
     "data": {
      "application/vnd.jupyter.widget-view+json": {
       "model_id": "cb093955e655482a847632af7083920f",
       "version_major": 2,
       "version_minor": 0
      },
      "text/plain": [
       "  0%|          | 0/100 [00:00<?, ?it/s]"
      ]
     },
     "metadata": {},
     "output_type": "display_data"
    },
    {
     "data": {
      "application/vnd.jupyter.widget-view+json": {
       "model_id": "a815c899eabd445fb10cb6e35ef054ce",
       "version_major": 2,
       "version_minor": 0
      },
      "text/plain": [
       "  0%|          | 0/200 [00:00<?, ?it/s]"
      ]
     },
     "metadata": {},
     "output_type": "display_data"
    },
    {
     "data": {
      "application/vnd.jupyter.widget-view+json": {
       "model_id": "ae18f01cb2f54a19b51981b15fb354fd",
       "version_major": 2,
       "version_minor": 0
      },
      "text/plain": [
       "  0%|          | 0/300 [00:00<?, ?it/s]"
      ]
     },
     "metadata": {},
     "output_type": "display_data"
    },
    {
     "data": {
      "application/vnd.jupyter.widget-view+json": {
       "model_id": "3fbf30ef54204158bb71252b6a5997f2",
       "version_major": 2,
       "version_minor": 0
      },
      "text/plain": [
       "  0%|          | 0/400 [00:00<?, ?it/s]"
      ]
     },
     "metadata": {},
     "output_type": "display_data"
    },
    {
     "data": {
      "application/vnd.jupyter.widget-view+json": {
       "model_id": "8774450e6a5a48b6ba25a10ccb182542",
       "version_major": 2,
       "version_minor": 0
      },
      "text/plain": [
       "  0%|          | 0/500 [00:00<?, ?it/s]"
      ]
     },
     "metadata": {},
     "output_type": "display_data"
    },
    {
     "data": {
      "application/vnd.jupyter.widget-view+json": {
       "model_id": "50633b2cb8e2497aa6c81d886e306b98",
       "version_major": 2,
       "version_minor": 0
      },
      "text/plain": [
       "  0%|          | 0/600 [00:00<?, ?it/s]"
      ]
     },
     "metadata": {},
     "output_type": "display_data"
    },
    {
     "data": {
      "application/vnd.jupyter.widget-view+json": {
       "model_id": "0934a0ff7c324aa4ab0e377bfdecb623",
       "version_major": 2,
       "version_minor": 0
      },
      "text/plain": [
       "  0%|          | 0/700 [00:00<?, ?it/s]"
      ]
     },
     "metadata": {},
     "output_type": "display_data"
    },
    {
     "data": {
      "application/vnd.jupyter.widget-view+json": {
       "model_id": "19bd9fe01f9449d1b6a8b9cf6ca26979",
       "version_major": 2,
       "version_minor": 0
      },
      "text/plain": [
       "  0%|          | 0/800 [00:00<?, ?it/s]"
      ]
     },
     "metadata": {},
     "output_type": "display_data"
    },
    {
     "data": {
      "application/vnd.jupyter.widget-view+json": {
       "model_id": "8487bdd399dd485ebc18114e05133013",
       "version_major": 2,
       "version_minor": 0
      },
      "text/plain": [
       "  0%|          | 0/900 [00:00<?, ?it/s]"
      ]
     },
     "metadata": {},
     "output_type": "display_data"
    },
    {
     "data": {
      "application/vnd.jupyter.widget-view+json": {
       "model_id": "d8467965c0b24bf78608678e566024b0",
       "version_major": 2,
       "version_minor": 0
      },
      "text/plain": [
       "  0%|          | 0/1000 [00:00<?, ?it/s]"
      ]
     },
     "metadata": {},
     "output_type": "display_data"
    },
    {
     "data": {
      "application/vnd.jupyter.widget-view+json": {
       "model_id": "77145f160ee24e979fea9d115732ae88",
       "version_major": 2,
       "version_minor": 0
      },
      "text/plain": [
       "  0%|          | 0/1100 [00:00<?, ?it/s]"
      ]
     },
     "metadata": {},
     "output_type": "display_data"
    },
    {
     "data": {
      "application/vnd.jupyter.widget-view+json": {
       "model_id": "dacd67e597bb40f3bcb0f224cc7b3d32",
       "version_major": 2,
       "version_minor": 0
      },
      "text/plain": [
       "  0%|          | 0/1200 [00:00<?, ?it/s]"
      ]
     },
     "metadata": {},
     "output_type": "display_data"
    },
    {
     "data": {
      "application/vnd.jupyter.widget-view+json": {
       "model_id": "67c0a39b5d2a483b86ccae9bca90c437",
       "version_major": 2,
       "version_minor": 0
      },
      "text/plain": [
       "  0%|          | 0/1300 [00:00<?, ?it/s]"
      ]
     },
     "metadata": {},
     "output_type": "display_data"
    },
    {
     "data": {
      "application/vnd.jupyter.widget-view+json": {
       "model_id": "c5b0472275384978a5a46301edc9292f",
       "version_major": 2,
       "version_minor": 0
      },
      "text/plain": [
       "  0%|          | 0/1400 [00:00<?, ?it/s]"
      ]
     },
     "metadata": {},
     "output_type": "display_data"
    },
    {
     "data": {
      "application/vnd.jupyter.widget-view+json": {
       "model_id": "51d38e3843f5438594989e953b9fe450",
       "version_major": 2,
       "version_minor": 0
      },
      "text/plain": [
       "  0%|          | 0/1500 [00:00<?, ?it/s]"
      ]
     },
     "metadata": {},
     "output_type": "display_data"
    },
    {
     "data": {
      "application/vnd.jupyter.widget-view+json": {
       "model_id": "2e61ccde2a9a490fa733d71607127e67",
       "version_major": 2,
       "version_minor": 0
      },
      "text/plain": [
       "  0%|          | 0/1600 [00:00<?, ?it/s]"
      ]
     },
     "metadata": {},
     "output_type": "display_data"
    }
   ],
   "source": [
    "scanpro_8_reps_arcsin = test_performance(datasets, transform=\"arcsin\",\n",
    "                                        n_reps=n_reps)"
   ]
  },
  {
   "cell_type": "markdown",
   "id": "de798bc7",
   "metadata": {},
   "source": [
    "### 10 reps"
   ]
  },
  {
   "cell_type": "code",
   "execution_count": 22,
   "id": "73abbebf",
   "metadata": {},
   "outputs": [],
   "source": [
    "n_reps = 10"
   ]
  },
  {
   "cell_type": "markdown",
   "id": "ce179ce3",
   "metadata": {},
   "source": [
    "#### logit"
   ]
  },
  {
   "cell_type": "code",
   "execution_count": 23,
   "id": "f0fcbffd",
   "metadata": {},
   "outputs": [
    {
     "data": {
      "application/vnd.jupyter.widget-view+json": {
       "model_id": "4f0b89bfd10e4e12b7e7548a9a5fd7cf",
       "version_major": 2,
       "version_minor": 0
      },
      "text/plain": [
       "  0%|          | 0/100 [00:00<?, ?it/s]"
      ]
     },
     "metadata": {},
     "output_type": "display_data"
    },
    {
     "data": {
      "application/vnd.jupyter.widget-view+json": {
       "model_id": "1e9cb725ddbe4ef3acdff32151bfade4",
       "version_major": 2,
       "version_minor": 0
      },
      "text/plain": [
       "  0%|          | 0/200 [00:00<?, ?it/s]"
      ]
     },
     "metadata": {},
     "output_type": "display_data"
    },
    {
     "data": {
      "application/vnd.jupyter.widget-view+json": {
       "model_id": "0dd2fbf873224da6b59d29219d4745f9",
       "version_major": 2,
       "version_minor": 0
      },
      "text/plain": [
       "  0%|          | 0/300 [00:00<?, ?it/s]"
      ]
     },
     "metadata": {},
     "output_type": "display_data"
    },
    {
     "data": {
      "application/vnd.jupyter.widget-view+json": {
       "model_id": "e4bacb2ef76e4efbad74beb8ac8fe1c3",
       "version_major": 2,
       "version_minor": 0
      },
      "text/plain": [
       "  0%|          | 0/400 [00:00<?, ?it/s]"
      ]
     },
     "metadata": {},
     "output_type": "display_data"
    },
    {
     "data": {
      "application/vnd.jupyter.widget-view+json": {
       "model_id": "9578f0ef41304f6b8134bcc3483d35b0",
       "version_major": 2,
       "version_minor": 0
      },
      "text/plain": [
       "  0%|          | 0/500 [00:00<?, ?it/s]"
      ]
     },
     "metadata": {},
     "output_type": "display_data"
    },
    {
     "data": {
      "application/vnd.jupyter.widget-view+json": {
       "model_id": "b7580456ff584e1aa0c9569c5571a223",
       "version_major": 2,
       "version_minor": 0
      },
      "text/plain": [
       "  0%|          | 0/600 [00:00<?, ?it/s]"
      ]
     },
     "metadata": {},
     "output_type": "display_data"
    },
    {
     "data": {
      "application/vnd.jupyter.widget-view+json": {
       "model_id": "d55afd2983484af3a1609e164cb7d51d",
       "version_major": 2,
       "version_minor": 0
      },
      "text/plain": [
       "  0%|          | 0/700 [00:00<?, ?it/s]"
      ]
     },
     "metadata": {},
     "output_type": "display_data"
    },
    {
     "data": {
      "application/vnd.jupyter.widget-view+json": {
       "model_id": "faa90eb956e44f9d815687657fc3915d",
       "version_major": 2,
       "version_minor": 0
      },
      "text/plain": [
       "  0%|          | 0/800 [00:00<?, ?it/s]"
      ]
     },
     "metadata": {},
     "output_type": "display_data"
    },
    {
     "data": {
      "application/vnd.jupyter.widget-view+json": {
       "model_id": "15e3155873ce40318322496c6ed03429",
       "version_major": 2,
       "version_minor": 0
      },
      "text/plain": [
       "  0%|          | 0/900 [00:00<?, ?it/s]"
      ]
     },
     "metadata": {},
     "output_type": "display_data"
    },
    {
     "data": {
      "application/vnd.jupyter.widget-view+json": {
       "model_id": "3df5d0887699403fa17a01c3607a308c",
       "version_major": 2,
       "version_minor": 0
      },
      "text/plain": [
       "  0%|          | 0/1000 [00:00<?, ?it/s]"
      ]
     },
     "metadata": {},
     "output_type": "display_data"
    },
    {
     "data": {
      "application/vnd.jupyter.widget-view+json": {
       "model_id": "94c4919315854245a2cf06906159556a",
       "version_major": 2,
       "version_minor": 0
      },
      "text/plain": [
       "  0%|          | 0/1100 [00:00<?, ?it/s]"
      ]
     },
     "metadata": {},
     "output_type": "display_data"
    },
    {
     "data": {
      "application/vnd.jupyter.widget-view+json": {
       "model_id": "0d6051c922034538bf5052e8f7969111",
       "version_major": 2,
       "version_minor": 0
      },
      "text/plain": [
       "  0%|          | 0/1200 [00:00<?, ?it/s]"
      ]
     },
     "metadata": {},
     "output_type": "display_data"
    },
    {
     "data": {
      "application/vnd.jupyter.widget-view+json": {
       "model_id": "667005a8beee4d758528f1ed09e579d1",
       "version_major": 2,
       "version_minor": 0
      },
      "text/plain": [
       "  0%|          | 0/1300 [00:00<?, ?it/s]"
      ]
     },
     "metadata": {},
     "output_type": "display_data"
    },
    {
     "data": {
      "application/vnd.jupyter.widget-view+json": {
       "model_id": "aa914d4e8a9945f19363dcb22f428bf2",
       "version_major": 2,
       "version_minor": 0
      },
      "text/plain": [
       "  0%|          | 0/1400 [00:00<?, ?it/s]"
      ]
     },
     "metadata": {},
     "output_type": "display_data"
    },
    {
     "data": {
      "application/vnd.jupyter.widget-view+json": {
       "model_id": "d032fe96e36a4ca5ad52cfe6b9ab4d04",
       "version_major": 2,
       "version_minor": 0
      },
      "text/plain": [
       "  0%|          | 0/1500 [00:00<?, ?it/s]"
      ]
     },
     "metadata": {},
     "output_type": "display_data"
    },
    {
     "data": {
      "application/vnd.jupyter.widget-view+json": {
       "model_id": "5c620bbe49c344f69e51dfa29fad99fe",
       "version_major": 2,
       "version_minor": 0
      },
      "text/plain": [
       "  0%|          | 0/1600 [00:00<?, ?it/s]"
      ]
     },
     "metadata": {},
     "output_type": "display_data"
    }
   ],
   "source": [
    "scanpro_10_reps_logit = test_performance(datasets, transform=\"logit\",\n",
    "                                        n_reps=n_reps)"
   ]
  },
  {
   "cell_type": "markdown",
   "id": "d21d6f9e",
   "metadata": {},
   "source": [
    "#### arcsine"
   ]
  },
  {
   "cell_type": "code",
   "execution_count": 24,
   "id": "53cf364a",
   "metadata": {},
   "outputs": [
    {
     "data": {
      "application/vnd.jupyter.widget-view+json": {
       "model_id": "c1950b1b36f54193b001e8e2349d899a",
       "version_major": 2,
       "version_minor": 0
      },
      "text/plain": [
       "  0%|          | 0/100 [00:00<?, ?it/s]"
      ]
     },
     "metadata": {},
     "output_type": "display_data"
    },
    {
     "data": {
      "application/vnd.jupyter.widget-view+json": {
       "model_id": "14881423c3e54d5cb4b77c4cd88beee8",
       "version_major": 2,
       "version_minor": 0
      },
      "text/plain": [
       "  0%|          | 0/200 [00:00<?, ?it/s]"
      ]
     },
     "metadata": {},
     "output_type": "display_data"
    },
    {
     "data": {
      "application/vnd.jupyter.widget-view+json": {
       "model_id": "dc2a861816a14f0c9f6681fe7909519b",
       "version_major": 2,
       "version_minor": 0
      },
      "text/plain": [
       "  0%|          | 0/300 [00:00<?, ?it/s]"
      ]
     },
     "metadata": {},
     "output_type": "display_data"
    },
    {
     "data": {
      "application/vnd.jupyter.widget-view+json": {
       "model_id": "7ef36f7d1e7c4d43a3b0865fcc29e3a9",
       "version_major": 2,
       "version_minor": 0
      },
      "text/plain": [
       "  0%|          | 0/400 [00:00<?, ?it/s]"
      ]
     },
     "metadata": {},
     "output_type": "display_data"
    },
    {
     "data": {
      "application/vnd.jupyter.widget-view+json": {
       "model_id": "7ccd6432d33343418bb4e54970d8fa12",
       "version_major": 2,
       "version_minor": 0
      },
      "text/plain": [
       "  0%|          | 0/500 [00:00<?, ?it/s]"
      ]
     },
     "metadata": {},
     "output_type": "display_data"
    },
    {
     "data": {
      "application/vnd.jupyter.widget-view+json": {
       "model_id": "a8a67e67d9ce46d18d66a693cb92fae8",
       "version_major": 2,
       "version_minor": 0
      },
      "text/plain": [
       "  0%|          | 0/600 [00:00<?, ?it/s]"
      ]
     },
     "metadata": {},
     "output_type": "display_data"
    },
    {
     "data": {
      "application/vnd.jupyter.widget-view+json": {
       "model_id": "ed72b672873c47feb22d4fbd7e7ec840",
       "version_major": 2,
       "version_minor": 0
      },
      "text/plain": [
       "  0%|          | 0/700 [00:00<?, ?it/s]"
      ]
     },
     "metadata": {},
     "output_type": "display_data"
    },
    {
     "data": {
      "application/vnd.jupyter.widget-view+json": {
       "model_id": "ff7d31dc88784c74b39f92bc9b5692b7",
       "version_major": 2,
       "version_minor": 0
      },
      "text/plain": [
       "  0%|          | 0/800 [00:00<?, ?it/s]"
      ]
     },
     "metadata": {},
     "output_type": "display_data"
    },
    {
     "data": {
      "application/vnd.jupyter.widget-view+json": {
       "model_id": "b95c24505f9c4bb0bdaaef1daa92ea31",
       "version_major": 2,
       "version_minor": 0
      },
      "text/plain": [
       "  0%|          | 0/900 [00:00<?, ?it/s]"
      ]
     },
     "metadata": {},
     "output_type": "display_data"
    },
    {
     "data": {
      "application/vnd.jupyter.widget-view+json": {
       "model_id": "b2b8b06a070a41a5976af476bc780fc9",
       "version_major": 2,
       "version_minor": 0
      },
      "text/plain": [
       "  0%|          | 0/1000 [00:00<?, ?it/s]"
      ]
     },
     "metadata": {},
     "output_type": "display_data"
    },
    {
     "data": {
      "application/vnd.jupyter.widget-view+json": {
       "model_id": "9e25f14c0161406c942d110579647562",
       "version_major": 2,
       "version_minor": 0
      },
      "text/plain": [
       "  0%|          | 0/1100 [00:00<?, ?it/s]"
      ]
     },
     "metadata": {},
     "output_type": "display_data"
    },
    {
     "data": {
      "application/vnd.jupyter.widget-view+json": {
       "model_id": "d2f32a312b0a48fb9f4d16675d7dbc3a",
       "version_major": 2,
       "version_minor": 0
      },
      "text/plain": [
       "  0%|          | 0/1200 [00:00<?, ?it/s]"
      ]
     },
     "metadata": {},
     "output_type": "display_data"
    },
    {
     "data": {
      "application/vnd.jupyter.widget-view+json": {
       "model_id": "90dd47b988f94cad9b076f46f6f0fe39",
       "version_major": 2,
       "version_minor": 0
      },
      "text/plain": [
       "  0%|          | 0/1300 [00:00<?, ?it/s]"
      ]
     },
     "metadata": {},
     "output_type": "display_data"
    },
    {
     "data": {
      "application/vnd.jupyter.widget-view+json": {
       "model_id": "1a8b2e502c4d485abca3c4e5c2aa6aa9",
       "version_major": 2,
       "version_minor": 0
      },
      "text/plain": [
       "  0%|          | 0/1400 [00:00<?, ?it/s]"
      ]
     },
     "metadata": {},
     "output_type": "display_data"
    },
    {
     "data": {
      "application/vnd.jupyter.widget-view+json": {
       "model_id": "b727e19dec9141a59fa7a75ac8e9e91a",
       "version_major": 2,
       "version_minor": 0
      },
      "text/plain": [
       "  0%|          | 0/1500 [00:00<?, ?it/s]"
      ]
     },
     "metadata": {},
     "output_type": "display_data"
    },
    {
     "data": {
      "application/vnd.jupyter.widget-view+json": {
       "model_id": "83dc2f84e104457fbc9755ecbc320553",
       "version_major": 2,
       "version_minor": 0
      },
      "text/plain": [
       "  0%|          | 0/1600 [00:00<?, ?it/s]"
      ]
     },
     "metadata": {},
     "output_type": "display_data"
    }
   ],
   "source": [
    "scanpro_10_reps_arcsin = test_performance(datasets, transform=\"arcsin\",\n",
    "                                        n_reps=n_reps)"
   ]
  },
  {
   "cell_type": "markdown",
   "id": "120435b9",
   "metadata": {},
   "source": [
    "### 14 reps"
   ]
  },
  {
   "cell_type": "code",
   "execution_count": 25,
   "id": "325d93ac",
   "metadata": {},
   "outputs": [],
   "source": [
    "n_reps = 14"
   ]
  },
  {
   "cell_type": "markdown",
   "id": "b6a5825e",
   "metadata": {},
   "source": [
    "#### logit"
   ]
  },
  {
   "cell_type": "code",
   "execution_count": 26,
   "id": "8ae72b1a",
   "metadata": {},
   "outputs": [
    {
     "data": {
      "application/vnd.jupyter.widget-view+json": {
       "model_id": "11c0c40a1fbb4f69a7ae98335a129f8a",
       "version_major": 2,
       "version_minor": 0
      },
      "text/plain": [
       "  0%|          | 0/100 [00:00<?, ?it/s]"
      ]
     },
     "metadata": {},
     "output_type": "display_data"
    },
    {
     "data": {
      "application/vnd.jupyter.widget-view+json": {
       "model_id": "cbf47b4f3fef4e4c8d85ee1e92934e54",
       "version_major": 2,
       "version_minor": 0
      },
      "text/plain": [
       "  0%|          | 0/200 [00:00<?, ?it/s]"
      ]
     },
     "metadata": {},
     "output_type": "display_data"
    },
    {
     "data": {
      "application/vnd.jupyter.widget-view+json": {
       "model_id": "043f88c57f304b46bdb7c5de96a9a0f4",
       "version_major": 2,
       "version_minor": 0
      },
      "text/plain": [
       "  0%|          | 0/300 [00:00<?, ?it/s]"
      ]
     },
     "metadata": {},
     "output_type": "display_data"
    },
    {
     "data": {
      "application/vnd.jupyter.widget-view+json": {
       "model_id": "63d37709ce024a1fb23871cd7397041b",
       "version_major": 2,
       "version_minor": 0
      },
      "text/plain": [
       "  0%|          | 0/400 [00:00<?, ?it/s]"
      ]
     },
     "metadata": {},
     "output_type": "display_data"
    },
    {
     "data": {
      "application/vnd.jupyter.widget-view+json": {
       "model_id": "7b0c70de47d24e05a5a23e66adf7c6b0",
       "version_major": 2,
       "version_minor": 0
      },
      "text/plain": [
       "  0%|          | 0/500 [00:00<?, ?it/s]"
      ]
     },
     "metadata": {},
     "output_type": "display_data"
    },
    {
     "data": {
      "application/vnd.jupyter.widget-view+json": {
       "model_id": "e9365e49f3fa4f80b41d4c7c9f1bfedb",
       "version_major": 2,
       "version_minor": 0
      },
      "text/plain": [
       "  0%|          | 0/600 [00:00<?, ?it/s]"
      ]
     },
     "metadata": {},
     "output_type": "display_data"
    },
    {
     "data": {
      "application/vnd.jupyter.widget-view+json": {
       "model_id": "6eb785b4cb2349b4941df8283f03b863",
       "version_major": 2,
       "version_minor": 0
      },
      "text/plain": [
       "  0%|          | 0/700 [00:00<?, ?it/s]"
      ]
     },
     "metadata": {},
     "output_type": "display_data"
    },
    {
     "data": {
      "application/vnd.jupyter.widget-view+json": {
       "model_id": "c627a121c4be4f95939140098ee9f2ae",
       "version_major": 2,
       "version_minor": 0
      },
      "text/plain": [
       "  0%|          | 0/800 [00:00<?, ?it/s]"
      ]
     },
     "metadata": {},
     "output_type": "display_data"
    },
    {
     "data": {
      "application/vnd.jupyter.widget-view+json": {
       "model_id": "0111729b176542cea5db0fc6793df3e1",
       "version_major": 2,
       "version_minor": 0
      },
      "text/plain": [
       "  0%|          | 0/900 [00:00<?, ?it/s]"
      ]
     },
     "metadata": {},
     "output_type": "display_data"
    },
    {
     "data": {
      "application/vnd.jupyter.widget-view+json": {
       "model_id": "35539fe390454ea28014168eb0837437",
       "version_major": 2,
       "version_minor": 0
      },
      "text/plain": [
       "  0%|          | 0/1000 [00:00<?, ?it/s]"
      ]
     },
     "metadata": {},
     "output_type": "display_data"
    },
    {
     "data": {
      "application/vnd.jupyter.widget-view+json": {
       "model_id": "3b0550bffd524497b3acbfd393bac0c3",
       "version_major": 2,
       "version_minor": 0
      },
      "text/plain": [
       "  0%|          | 0/1100 [00:00<?, ?it/s]"
      ]
     },
     "metadata": {},
     "output_type": "display_data"
    },
    {
     "data": {
      "application/vnd.jupyter.widget-view+json": {
       "model_id": "1f63c05c5cfc485f8cb729356272e663",
       "version_major": 2,
       "version_minor": 0
      },
      "text/plain": [
       "  0%|          | 0/1200 [00:00<?, ?it/s]"
      ]
     },
     "metadata": {},
     "output_type": "display_data"
    },
    {
     "data": {
      "application/vnd.jupyter.widget-view+json": {
       "model_id": "3d8cb34d48634ad9b82f00aa95e42b52",
       "version_major": 2,
       "version_minor": 0
      },
      "text/plain": [
       "  0%|          | 0/1300 [00:00<?, ?it/s]"
      ]
     },
     "metadata": {},
     "output_type": "display_data"
    },
    {
     "data": {
      "application/vnd.jupyter.widget-view+json": {
       "model_id": "0fa758b0b2cc464383bc5f6c0e1f513e",
       "version_major": 2,
       "version_minor": 0
      },
      "text/plain": [
       "  0%|          | 0/1400 [00:00<?, ?it/s]"
      ]
     },
     "metadata": {},
     "output_type": "display_data"
    },
    {
     "data": {
      "application/vnd.jupyter.widget-view+json": {
       "model_id": "ebc4883e75e04bcabc41bc78ee56c099",
       "version_major": 2,
       "version_minor": 0
      },
      "text/plain": [
       "  0%|          | 0/1500 [00:00<?, ?it/s]"
      ]
     },
     "metadata": {},
     "output_type": "display_data"
    },
    {
     "data": {
      "application/vnd.jupyter.widget-view+json": {
       "model_id": "13875d2426a1416f8b90c3e03288cf47",
       "version_major": 2,
       "version_minor": 0
      },
      "text/plain": [
       "  0%|          | 0/1600 [00:00<?, ?it/s]"
      ]
     },
     "metadata": {},
     "output_type": "display_data"
    }
   ],
   "source": [
    "scanpro_14_reps_logit = test_performance(datasets, transform=\"logit\",\n",
    "                                         n_reps=n_reps)"
   ]
  },
  {
   "cell_type": "markdown",
   "id": "d9edf7ac",
   "metadata": {},
   "source": [
    "#### arcsine"
   ]
  },
  {
   "cell_type": "code",
   "execution_count": 27,
   "id": "df83e4d7",
   "metadata": {},
   "outputs": [
    {
     "data": {
      "application/vnd.jupyter.widget-view+json": {
       "model_id": "716478bfac5a40419d0fdba3edf14656",
       "version_major": 2,
       "version_minor": 0
      },
      "text/plain": [
       "  0%|          | 0/100 [00:00<?, ?it/s]"
      ]
     },
     "metadata": {},
     "output_type": "display_data"
    },
    {
     "data": {
      "application/vnd.jupyter.widget-view+json": {
       "model_id": "16b2929fc1034e23a2e7fb29a552004c",
       "version_major": 2,
       "version_minor": 0
      },
      "text/plain": [
       "  0%|          | 0/200 [00:00<?, ?it/s]"
      ]
     },
     "metadata": {},
     "output_type": "display_data"
    },
    {
     "data": {
      "application/vnd.jupyter.widget-view+json": {
       "model_id": "3265cacaa95b44d98c3271049237a327",
       "version_major": 2,
       "version_minor": 0
      },
      "text/plain": [
       "  0%|          | 0/300 [00:00<?, ?it/s]"
      ]
     },
     "metadata": {},
     "output_type": "display_data"
    },
    {
     "data": {
      "application/vnd.jupyter.widget-view+json": {
       "model_id": "0522e7c98f3547f7ad3fa1c217236cb3",
       "version_major": 2,
       "version_minor": 0
      },
      "text/plain": [
       "  0%|          | 0/400 [00:00<?, ?it/s]"
      ]
     },
     "metadata": {},
     "output_type": "display_data"
    },
    {
     "data": {
      "application/vnd.jupyter.widget-view+json": {
       "model_id": "97d8e5d902e14700b8fc74553969debf",
       "version_major": 2,
       "version_minor": 0
      },
      "text/plain": [
       "  0%|          | 0/500 [00:00<?, ?it/s]"
      ]
     },
     "metadata": {},
     "output_type": "display_data"
    },
    {
     "data": {
      "application/vnd.jupyter.widget-view+json": {
       "model_id": "f1a43d2d74d44003802916cfa3a78476",
       "version_major": 2,
       "version_minor": 0
      },
      "text/plain": [
       "  0%|          | 0/600 [00:00<?, ?it/s]"
      ]
     },
     "metadata": {},
     "output_type": "display_data"
    },
    {
     "data": {
      "application/vnd.jupyter.widget-view+json": {
       "model_id": "1288813bd46e4ee0bfae7c30a4dcdf37",
       "version_major": 2,
       "version_minor": 0
      },
      "text/plain": [
       "  0%|          | 0/700 [00:00<?, ?it/s]"
      ]
     },
     "metadata": {},
     "output_type": "display_data"
    },
    {
     "data": {
      "application/vnd.jupyter.widget-view+json": {
       "model_id": "5c15f63473d94823bd4872f4097d15ec",
       "version_major": 2,
       "version_minor": 0
      },
      "text/plain": [
       "  0%|          | 0/800 [00:00<?, ?it/s]"
      ]
     },
     "metadata": {},
     "output_type": "display_data"
    },
    {
     "data": {
      "application/vnd.jupyter.widget-view+json": {
       "model_id": "9c94fb489e824e6592294b7dd50fea56",
       "version_major": 2,
       "version_minor": 0
      },
      "text/plain": [
       "  0%|          | 0/900 [00:00<?, ?it/s]"
      ]
     },
     "metadata": {},
     "output_type": "display_data"
    },
    {
     "data": {
      "application/vnd.jupyter.widget-view+json": {
       "model_id": "722078145d0c47c58766ad3b8d80e856",
       "version_major": 2,
       "version_minor": 0
      },
      "text/plain": [
       "  0%|          | 0/1000 [00:00<?, ?it/s]"
      ]
     },
     "metadata": {},
     "output_type": "display_data"
    },
    {
     "data": {
      "application/vnd.jupyter.widget-view+json": {
       "model_id": "081009073aac48e29f58783d2abea0e1",
       "version_major": 2,
       "version_minor": 0
      },
      "text/plain": [
       "  0%|          | 0/1100 [00:00<?, ?it/s]"
      ]
     },
     "metadata": {},
     "output_type": "display_data"
    },
    {
     "data": {
      "application/vnd.jupyter.widget-view+json": {
       "model_id": "294315da54544f23861cee8a1e6da91e",
       "version_major": 2,
       "version_minor": 0
      },
      "text/plain": [
       "  0%|          | 0/1200 [00:00<?, ?it/s]"
      ]
     },
     "metadata": {},
     "output_type": "display_data"
    },
    {
     "data": {
      "application/vnd.jupyter.widget-view+json": {
       "model_id": "3d1bef1b3fa645d49b7cd3f852bf8dab",
       "version_major": 2,
       "version_minor": 0
      },
      "text/plain": [
       "  0%|          | 0/1300 [00:00<?, ?it/s]"
      ]
     },
     "metadata": {},
     "output_type": "display_data"
    },
    {
     "data": {
      "application/vnd.jupyter.widget-view+json": {
       "model_id": "b5bf0bfd943a47e48df14dff912bfffc",
       "version_major": 2,
       "version_minor": 0
      },
      "text/plain": [
       "  0%|          | 0/1400 [00:00<?, ?it/s]"
      ]
     },
     "metadata": {},
     "output_type": "display_data"
    },
    {
     "data": {
      "application/vnd.jupyter.widget-view+json": {
       "model_id": "433a9f7e76814e77979243c07b340460",
       "version_major": 2,
       "version_minor": 0
      },
      "text/plain": [
       "  0%|          | 0/1500 [00:00<?, ?it/s]"
      ]
     },
     "metadata": {},
     "output_type": "display_data"
    },
    {
     "data": {
      "application/vnd.jupyter.widget-view+json": {
       "model_id": "a38aa47d2580427ebddf7177f77b6830",
       "version_major": 2,
       "version_minor": 0
      },
      "text/plain": [
       "  0%|          | 0/1600 [00:00<?, ?it/s]"
      ]
     },
     "metadata": {},
     "output_type": "display_data"
    }
   ],
   "source": [
    "scanpro_14_reps_arcsin = test_performance(datasets, transform=\"arcsin\",\n",
    "                                         n_reps=n_reps)"
   ]
  },
  {
   "cell_type": "markdown",
   "id": "0fd767d5",
   "metadata": {},
   "source": [
    "### Results"
   ]
  },
  {
   "cell_type": "code",
   "execution_count": 37,
   "id": "9ac8e2ac",
   "metadata": {},
   "outputs": [],
   "source": [
    "methods = [f'{trans}_{rep}_reps' for rep in [2,4,8,10,14] for trans in ['logit', 'arcsin']]\n",
    "\n",
    "results = [scanpro_2_reps_logit, scanpro_2_reps_arcsin,\n",
    "           scanpro_4_reps_logit, scanpro_4_reps_arcsin,\n",
    "           scanpro_8_reps_logit, scanpro_8_reps_arcsin,\n",
    "           scanpro_10_reps_logit, scanpro_10_reps_arcsin,\n",
    "           scanpro_14_reps_logit, scanpro_14_reps_arcsin]\n",
    "\n",
    "all_results = {mu: {method: None for method in methods} for mu in mu_list}\n",
    "\n",
    "for i, method in enumerate(methods):\n",
    "    for j, mu in enumerate(mu_list):\n",
    "    \n",
    "        all_results[mu][method] = pd.concat(results[i][j*100:j*100+100])"
   ]
  },
  {
   "cell_type": "code",
   "execution_count": 108,
   "id": "3293ab48",
   "metadata": {},
   "outputs": [],
   "source": [
    "# get p_values for each method\n",
    "p_values = {count: {method: None for method in methods} for count in mean_counts}\n",
    "\n",
    "for method in methods:\n",
    "    for i, count in enumerate(mean_counts):\n",
    "\n",
    "        p_values[count][method] = [all_results[mu_list[i]][method].iloc[j:j+7, -1].to_list() for j in np.arange(0, 700, 7)]"
   ]
  },
  {
   "cell_type": "markdown",
   "id": "f5f94810",
   "metadata": {},
   "source": [
    "#### Hit rate"
   ]
  },
  {
   "cell_type": "code",
   "execution_count": 111,
   "id": "1b403374",
   "metadata": {},
   "outputs": [
    {
     "data": {
      "text/html": [
       "<div>\n",
       "<style scoped>\n",
       "    .dataframe tbody tr th:only-of-type {\n",
       "        vertical-align: middle;\n",
       "    }\n",
       "\n",
       "    .dataframe tbody tr th {\n",
       "        vertical-align: top;\n",
       "    }\n",
       "\n",
       "    .dataframe thead th {\n",
       "        text-align: right;\n",
       "    }\n",
       "</style>\n",
       "<table border=\"1\" class=\"dataframe\">\n",
       "  <thead>\n",
       "    <tr style=\"text-align: right;\">\n",
       "      <th></th>\n",
       "      <th>method</th>\n",
       "      <th>mu</th>\n",
       "      <th>hit_rate</th>\n",
       "      <th>mean_counts</th>\n",
       "      <th>trans</th>\n",
       "    </tr>\n",
       "  </thead>\n",
       "  <tbody>\n",
       "    <tr>\n",
       "      <th>0</th>\n",
       "      <td>logit_2_reps</td>\n",
       "      <td>250</td>\n",
       "      <td>12.0</td>\n",
       "      <td>1957.24</td>\n",
       "      <td>logit</td>\n",
       "    </tr>\n",
       "    <tr>\n",
       "      <th>1</th>\n",
       "      <td>arcsin_2_reps</td>\n",
       "      <td>250</td>\n",
       "      <td>0.0</td>\n",
       "      <td>1957.24</td>\n",
       "      <td>arcsin</td>\n",
       "    </tr>\n",
       "    <tr>\n",
       "      <th>2</th>\n",
       "      <td>logit_4_reps</td>\n",
       "      <td>250</td>\n",
       "      <td>5.0</td>\n",
       "      <td>1957.24</td>\n",
       "      <td>logit</td>\n",
       "    </tr>\n",
       "    <tr>\n",
       "      <th>3</th>\n",
       "      <td>arcsin_4_reps</td>\n",
       "      <td>250</td>\n",
       "      <td>0.0</td>\n",
       "      <td>1957.24</td>\n",
       "      <td>arcsin</td>\n",
       "    </tr>\n",
       "    <tr>\n",
       "      <th>4</th>\n",
       "      <td>logit_8_reps</td>\n",
       "      <td>250</td>\n",
       "      <td>0.0</td>\n",
       "      <td>1957.24</td>\n",
       "      <td>logit</td>\n",
       "    </tr>\n",
       "    <tr>\n",
       "      <th>...</th>\n",
       "      <td>...</td>\n",
       "      <td>...</td>\n",
       "      <td>...</td>\n",
       "      <td>...</td>\n",
       "      <td>...</td>\n",
       "    </tr>\n",
       "    <tr>\n",
       "      <th>155</th>\n",
       "      <td>arcsin_8_reps</td>\n",
       "      <td>12500</td>\n",
       "      <td>22.0</td>\n",
       "      <td>98387.63</td>\n",
       "      <td>arcsin</td>\n",
       "    </tr>\n",
       "    <tr>\n",
       "      <th>156</th>\n",
       "      <td>logit_10_reps</td>\n",
       "      <td>12500</td>\n",
       "      <td>19.0</td>\n",
       "      <td>98387.63</td>\n",
       "      <td>logit</td>\n",
       "    </tr>\n",
       "    <tr>\n",
       "      <th>157</th>\n",
       "      <td>arcsin_10_reps</td>\n",
       "      <td>12500</td>\n",
       "      <td>6.0</td>\n",
       "      <td>98387.63</td>\n",
       "      <td>arcsin</td>\n",
       "    </tr>\n",
       "    <tr>\n",
       "      <th>158</th>\n",
       "      <td>logit_14_reps</td>\n",
       "      <td>12500</td>\n",
       "      <td>9.0</td>\n",
       "      <td>98387.63</td>\n",
       "      <td>logit</td>\n",
       "    </tr>\n",
       "    <tr>\n",
       "      <th>159</th>\n",
       "      <td>arcsin_14_reps</td>\n",
       "      <td>12500</td>\n",
       "      <td>1.0</td>\n",
       "      <td>98387.63</td>\n",
       "      <td>arcsin</td>\n",
       "    </tr>\n",
       "  </tbody>\n",
       "</table>\n",
       "<p>160 rows × 5 columns</p>\n",
       "</div>"
      ],
      "text/plain": [
       "             method     mu  hit_rate  mean_counts   trans\n",
       "0      logit_2_reps    250      12.0      1957.24   logit\n",
       "1     arcsin_2_reps    250       0.0      1957.24  arcsin\n",
       "2      logit_4_reps    250       5.0      1957.24   logit\n",
       "3     arcsin_4_reps    250       0.0      1957.24  arcsin\n",
       "4      logit_8_reps    250       0.0      1957.24   logit\n",
       "..              ...    ...       ...          ...     ...\n",
       "155   arcsin_8_reps  12500      22.0     98387.63  arcsin\n",
       "156   logit_10_reps  12500      19.0     98387.63   logit\n",
       "157  arcsin_10_reps  12500       6.0     98387.63  arcsin\n",
       "158   logit_14_reps  12500       9.0     98387.63   logit\n",
       "159  arcsin_14_reps  12500       1.0     98387.63  arcsin\n",
       "\n",
       "[160 rows x 5 columns]"
      ]
     },
     "execution_count": 111,
     "metadata": {},
     "output_type": "execute_result"
    }
   ],
   "source": [
    "hit_rates = calc_hitrates(all_results, compare_p_values)\n",
    "# add mean cell counts\n",
    "hit_rates['mean_counts'] = np.repeat(mean_counts, len(methods))\n",
    "# add transofrmation as seperate column\n",
    "hit_rates['trans'] = hit_rates['method'].str.split('_').str[0]\n",
    "\n",
    "hit_rates"
   ]
  },
  {
   "cell_type": "code",
   "execution_count": 112,
   "id": "456675e9",
   "metadata": {},
   "outputs": [],
   "source": [
    "# save\n",
    "hit_rates.to_csv(f'{OUT_PATH}/benchmark_hitrates.tsv', sep='\\t')"
   ]
  },
  {
   "cell_type": "markdown",
   "id": "61562944",
   "metadata": {},
   "source": [
    "#### specificity, sensitivity and fpr"
   ]
  },
  {
   "cell_type": "code",
   "execution_count": 113,
   "id": "3ee17bed",
   "metadata": {},
   "outputs": [
    {
     "data": {
      "text/html": [
       "<div>\n",
       "<style scoped>\n",
       "    .dataframe tbody tr th:only-of-type {\n",
       "        vertical-align: middle;\n",
       "    }\n",
       "\n",
       "    .dataframe tbody tr th {\n",
       "        vertical-align: top;\n",
       "    }\n",
       "\n",
       "    .dataframe thead th {\n",
       "        text-align: right;\n",
       "    }\n",
       "</style>\n",
       "<table border=\"1\" class=\"dataframe\">\n",
       "  <thead>\n",
       "    <tr style=\"text-align: right;\">\n",
       "      <th></th>\n",
       "      <th>method</th>\n",
       "      <th>sensitivity</th>\n",
       "      <th>specificity</th>\n",
       "      <th>fpr</th>\n",
       "      <th>auroc</th>\n",
       "      <th>mean_counts</th>\n",
       "      <th>reps</th>\n",
       "      <th>trans</th>\n",
       "    </tr>\n",
       "  </thead>\n",
       "  <tbody>\n",
       "    <tr>\n",
       "      <th>0</th>\n",
       "      <td>logit_2_reps</td>\n",
       "      <td>0.553333</td>\n",
       "      <td>0.930000</td>\n",
       "      <td>0.070000</td>\n",
       "      <td>0.741667</td>\n",
       "      <td>1957.24</td>\n",
       "      <td>2</td>\n",
       "      <td>logit</td>\n",
       "    </tr>\n",
       "    <tr>\n",
       "      <th>1</th>\n",
       "      <td>arcsin_2_reps</td>\n",
       "      <td>0.666667</td>\n",
       "      <td>0.916667</td>\n",
       "      <td>0.083333</td>\n",
       "      <td>0.517500</td>\n",
       "      <td>1957.24</td>\n",
       "      <td>2</td>\n",
       "      <td>arcsin</td>\n",
       "    </tr>\n",
       "    <tr>\n",
       "      <th>2</th>\n",
       "      <td>logit_4_reps</td>\n",
       "      <td>0.540000</td>\n",
       "      <td>0.940000</td>\n",
       "      <td>0.060000</td>\n",
       "      <td>0.740000</td>\n",
       "      <td>1957.24</td>\n",
       "      <td>4</td>\n",
       "      <td>logit</td>\n",
       "    </tr>\n",
       "    <tr>\n",
       "      <th>3</th>\n",
       "      <td>arcsin_4_reps</td>\n",
       "      <td>0.527778</td>\n",
       "      <td>0.976190</td>\n",
       "      <td>0.023810</td>\n",
       "      <td>0.711667</td>\n",
       "      <td>1957.24</td>\n",
       "      <td>4</td>\n",
       "      <td>arcsin</td>\n",
       "    </tr>\n",
       "    <tr>\n",
       "      <th>4</th>\n",
       "      <td>logit_8_reps</td>\n",
       "      <td>0.356667</td>\n",
       "      <td>0.985000</td>\n",
       "      <td>0.015000</td>\n",
       "      <td>0.670833</td>\n",
       "      <td>1957.24</td>\n",
       "      <td>8</td>\n",
       "      <td>logit</td>\n",
       "    </tr>\n",
       "    <tr>\n",
       "      <th>...</th>\n",
       "      <td>...</td>\n",
       "      <td>...</td>\n",
       "      <td>...</td>\n",
       "      <td>...</td>\n",
       "      <td>...</td>\n",
       "      <td>...</td>\n",
       "      <td>...</td>\n",
       "      <td>...</td>\n",
       "    </tr>\n",
       "    <tr>\n",
       "      <th>155</th>\n",
       "      <td>arcsin_8_reps</td>\n",
       "      <td>0.776667</td>\n",
       "      <td>0.852500</td>\n",
       "      <td>0.147500</td>\n",
       "      <td>0.814583</td>\n",
       "      <td>98387.63</td>\n",
       "      <td>8</td>\n",
       "      <td>arcsin</td>\n",
       "    </tr>\n",
       "    <tr>\n",
       "      <th>156</th>\n",
       "      <td>logit_10_reps</td>\n",
       "      <td>0.850000</td>\n",
       "      <td>0.765000</td>\n",
       "      <td>0.235000</td>\n",
       "      <td>0.807500</td>\n",
       "      <td>98387.63</td>\n",
       "      <td>10</td>\n",
       "      <td>logit</td>\n",
       "    </tr>\n",
       "    <tr>\n",
       "      <th>157</th>\n",
       "      <td>arcsin_10_reps</td>\n",
       "      <td>0.626667</td>\n",
       "      <td>0.952500</td>\n",
       "      <td>0.047500</td>\n",
       "      <td>0.789583</td>\n",
       "      <td>98387.63</td>\n",
       "      <td>10</td>\n",
       "      <td>arcsin</td>\n",
       "    </tr>\n",
       "    <tr>\n",
       "      <th>158</th>\n",
       "      <td>logit_14_reps</td>\n",
       "      <td>0.680000</td>\n",
       "      <td>0.845000</td>\n",
       "      <td>0.155000</td>\n",
       "      <td>0.762500</td>\n",
       "      <td>98387.63</td>\n",
       "      <td>14</td>\n",
       "      <td>logit</td>\n",
       "    </tr>\n",
       "    <tr>\n",
       "      <th>159</th>\n",
       "      <td>arcsin_14_reps</td>\n",
       "      <td>0.390000</td>\n",
       "      <td>0.987500</td>\n",
       "      <td>0.012500</td>\n",
       "      <td>0.688750</td>\n",
       "      <td>98387.63</td>\n",
       "      <td>14</td>\n",
       "      <td>arcsin</td>\n",
       "    </tr>\n",
       "  </tbody>\n",
       "</table>\n",
       "<p>160 rows × 8 columns</p>\n",
       "</div>"
      ],
      "text/plain": [
       "             method  sensitivity  specificity       fpr     auroc  \\\n",
       "0      logit_2_reps     0.553333     0.930000  0.070000  0.741667   \n",
       "1     arcsin_2_reps     0.666667     0.916667  0.083333  0.517500   \n",
       "2      logit_4_reps     0.540000     0.940000  0.060000  0.740000   \n",
       "3     arcsin_4_reps     0.527778     0.976190  0.023810  0.711667   \n",
       "4      logit_8_reps     0.356667     0.985000  0.015000  0.670833   \n",
       "..              ...          ...          ...       ...       ...   \n",
       "155   arcsin_8_reps     0.776667     0.852500  0.147500  0.814583   \n",
       "156   logit_10_reps     0.850000     0.765000  0.235000  0.807500   \n",
       "157  arcsin_10_reps     0.626667     0.952500  0.047500  0.789583   \n",
       "158   logit_14_reps     0.680000     0.845000  0.155000  0.762500   \n",
       "159  arcsin_14_reps     0.390000     0.987500  0.012500  0.688750   \n",
       "\n",
       "     mean_counts reps   trans  \n",
       "0        1957.24    2   logit  \n",
       "1        1957.24    2  arcsin  \n",
       "2        1957.24    4   logit  \n",
       "3        1957.24    4  arcsin  \n",
       "4        1957.24    8   logit  \n",
       "..           ...  ...     ...  \n",
       "155     98387.63    8  arcsin  \n",
       "156     98387.63   10   logit  \n",
       "157     98387.63   10  arcsin  \n",
       "158     98387.63   14   logit  \n",
       "159     98387.63   14  arcsin  \n",
       "\n",
       "[160 rows x 8 columns]"
      ]
     },
     "execution_count": 113,
     "metadata": {},
     "output_type": "execute_result"
    }
   ],
   "source": [
    "stats = get_stats(p_values, mean_counts, n_sims=100)\n",
    "stats"
   ]
  },
  {
   "cell_type": "code",
   "execution_count": 114,
   "id": "345b8c98",
   "metadata": {},
   "outputs": [],
   "source": [
    "# save\n",
    "stats.to_csv(f'{OUT_PATH}/benchmark_stats.tsv', sep='\\t')"
   ]
  },
  {
   "cell_type": "code",
   "execution_count": 119,
   "id": "afb75cfb",
   "metadata": {},
   "outputs": [
    {
     "data": {
      "text/html": [
       "<div>\n",
       "<style scoped>\n",
       "    .dataframe tbody tr th:only-of-type {\n",
       "        vertical-align: middle;\n",
       "    }\n",
       "\n",
       "    .dataframe tbody tr th {\n",
       "        vertical-align: top;\n",
       "    }\n",
       "\n",
       "    .dataframe thead th {\n",
       "        text-align: right;\n",
       "    }\n",
       "</style>\n",
       "<table border=\"1\" class=\"dataframe\">\n",
       "  <thead>\n",
       "    <tr style=\"text-align: right;\">\n",
       "      <th></th>\n",
       "      <th>method</th>\n",
       "      <th>sensitivity</th>\n",
       "      <th>specificity</th>\n",
       "      <th>fpr</th>\n",
       "      <th>auroc</th>\n",
       "      <th>mean_counts</th>\n",
       "      <th>reps</th>\n",
       "      <th>trans</th>\n",
       "    </tr>\n",
       "  </thead>\n",
       "  <tbody>\n",
       "    <tr>\n",
       "      <th>0</th>\n",
       "      <td>logit_2_reps</td>\n",
       "      <td>0.553333</td>\n",
       "      <td>0.9300</td>\n",
       "      <td>0.0700</td>\n",
       "      <td>0.741667</td>\n",
       "      <td>1957.24</td>\n",
       "      <td>2</td>\n",
       "      <td>logit</td>\n",
       "    </tr>\n",
       "    <tr>\n",
       "      <th>10</th>\n",
       "      <td>logit_2_reps</td>\n",
       "      <td>0.783333</td>\n",
       "      <td>0.8325</td>\n",
       "      <td>0.1675</td>\n",
       "      <td>0.807917</td>\n",
       "      <td>3945.37</td>\n",
       "      <td>2</td>\n",
       "      <td>logit</td>\n",
       "    </tr>\n",
       "    <tr>\n",
       "      <th>22</th>\n",
       "      <td>logit_4_reps</td>\n",
       "      <td>0.796667</td>\n",
       "      <td>0.8325</td>\n",
       "      <td>0.1675</td>\n",
       "      <td>0.814583</td>\n",
       "      <td>5913.71</td>\n",
       "      <td>4</td>\n",
       "      <td>logit</td>\n",
       "    </tr>\n",
       "    <tr>\n",
       "      <th>30</th>\n",
       "      <td>logit_2_reps</td>\n",
       "      <td>0.930000</td>\n",
       "      <td>0.6925</td>\n",
       "      <td>0.3075</td>\n",
       "      <td>0.811250</td>\n",
       "      <td>7876.67</td>\n",
       "      <td>2</td>\n",
       "      <td>logit</td>\n",
       "    </tr>\n",
       "    <tr>\n",
       "      <th>42</th>\n",
       "      <td>logit_4_reps</td>\n",
       "      <td>0.870000</td>\n",
       "      <td>0.7500</td>\n",
       "      <td>0.2500</td>\n",
       "      <td>0.810000</td>\n",
       "      <td>9835.37</td>\n",
       "      <td>4</td>\n",
       "      <td>logit</td>\n",
       "    </tr>\n",
       "    <tr>\n",
       "      <th>52</th>\n",
       "      <td>logit_4_reps</td>\n",
       "      <td>0.910000</td>\n",
       "      <td>0.6950</td>\n",
       "      <td>0.3050</td>\n",
       "      <td>0.802500</td>\n",
       "      <td>11808.26</td>\n",
       "      <td>4</td>\n",
       "      <td>logit</td>\n",
       "    </tr>\n",
       "    <tr>\n",
       "      <th>63</th>\n",
       "      <td>arcsin_4_reps</td>\n",
       "      <td>0.893333</td>\n",
       "      <td>0.7225</td>\n",
       "      <td>0.2775</td>\n",
       "      <td>0.807917</td>\n",
       "      <td>15735.60</td>\n",
       "      <td>4</td>\n",
       "      <td>arcsin</td>\n",
       "    </tr>\n",
       "    <tr>\n",
       "      <th>73</th>\n",
       "      <td>arcsin_4_reps</td>\n",
       "      <td>0.916667</td>\n",
       "      <td>0.6675</td>\n",
       "      <td>0.3325</td>\n",
       "      <td>0.792083</td>\n",
       "      <td>19675.16</td>\n",
       "      <td>4</td>\n",
       "      <td>arcsin</td>\n",
       "    </tr>\n",
       "    <tr>\n",
       "      <th>84</th>\n",
       "      <td>logit_8_reps</td>\n",
       "      <td>0.763333</td>\n",
       "      <td>0.8125</td>\n",
       "      <td>0.1875</td>\n",
       "      <td>0.787917</td>\n",
       "      <td>27532.11</td>\n",
       "      <td>8</td>\n",
       "      <td>logit</td>\n",
       "    </tr>\n",
       "    <tr>\n",
       "      <th>94</th>\n",
       "      <td>logit_8_reps</td>\n",
       "      <td>0.836667</td>\n",
       "      <td>0.7750</td>\n",
       "      <td>0.2250</td>\n",
       "      <td>0.805833</td>\n",
       "      <td>39343.57</td>\n",
       "      <td>8</td>\n",
       "      <td>logit</td>\n",
       "    </tr>\n",
       "    <tr>\n",
       "      <th>104</th>\n",
       "      <td>logit_8_reps</td>\n",
       "      <td>0.866667</td>\n",
       "      <td>0.7650</td>\n",
       "      <td>0.2350</td>\n",
       "      <td>0.815833</td>\n",
       "      <td>47203.26</td>\n",
       "      <td>8</td>\n",
       "      <td>logit</td>\n",
       "    </tr>\n",
       "    <tr>\n",
       "      <th>114</th>\n",
       "      <td>logit_8_reps</td>\n",
       "      <td>0.893333</td>\n",
       "      <td>0.7450</td>\n",
       "      <td>0.2550</td>\n",
       "      <td>0.819167</td>\n",
       "      <td>55074.06</td>\n",
       "      <td>8</td>\n",
       "      <td>logit</td>\n",
       "    </tr>\n",
       "    <tr>\n",
       "      <th>125</th>\n",
       "      <td>arcsin_8_reps</td>\n",
       "      <td>0.723333</td>\n",
       "      <td>0.9050</td>\n",
       "      <td>0.0950</td>\n",
       "      <td>0.814167</td>\n",
       "      <td>70849.16</td>\n",
       "      <td>8</td>\n",
       "      <td>arcsin</td>\n",
       "    </tr>\n",
       "    <tr>\n",
       "      <th>135</th>\n",
       "      <td>arcsin_8_reps</td>\n",
       "      <td>0.753333</td>\n",
       "      <td>0.8825</td>\n",
       "      <td>0.1175</td>\n",
       "      <td>0.817917</td>\n",
       "      <td>78693.82</td>\n",
       "      <td>8</td>\n",
       "      <td>arcsin</td>\n",
       "    </tr>\n",
       "    <tr>\n",
       "      <th>145</th>\n",
       "      <td>arcsin_8_reps</td>\n",
       "      <td>0.743333</td>\n",
       "      <td>0.8675</td>\n",
       "      <td>0.1325</td>\n",
       "      <td>0.805417</td>\n",
       "      <td>86561.56</td>\n",
       "      <td>8</td>\n",
       "      <td>arcsin</td>\n",
       "    </tr>\n",
       "    <tr>\n",
       "      <th>155</th>\n",
       "      <td>arcsin_8_reps</td>\n",
       "      <td>0.776667</td>\n",
       "      <td>0.8525</td>\n",
       "      <td>0.1475</td>\n",
       "      <td>0.814583</td>\n",
       "      <td>98387.63</td>\n",
       "      <td>8</td>\n",
       "      <td>arcsin</td>\n",
       "    </tr>\n",
       "  </tbody>\n",
       "</table>\n",
       "</div>"
      ],
      "text/plain": [
       "            method  sensitivity  specificity     fpr     auroc  mean_counts  \\\n",
       "0     logit_2_reps     0.553333       0.9300  0.0700  0.741667      1957.24   \n",
       "10    logit_2_reps     0.783333       0.8325  0.1675  0.807917      3945.37   \n",
       "22    logit_4_reps     0.796667       0.8325  0.1675  0.814583      5913.71   \n",
       "30    logit_2_reps     0.930000       0.6925  0.3075  0.811250      7876.67   \n",
       "42    logit_4_reps     0.870000       0.7500  0.2500  0.810000      9835.37   \n",
       "52    logit_4_reps     0.910000       0.6950  0.3050  0.802500     11808.26   \n",
       "63   arcsin_4_reps     0.893333       0.7225  0.2775  0.807917     15735.60   \n",
       "73   arcsin_4_reps     0.916667       0.6675  0.3325  0.792083     19675.16   \n",
       "84    logit_8_reps     0.763333       0.8125  0.1875  0.787917     27532.11   \n",
       "94    logit_8_reps     0.836667       0.7750  0.2250  0.805833     39343.57   \n",
       "104   logit_8_reps     0.866667       0.7650  0.2350  0.815833     47203.26   \n",
       "114   logit_8_reps     0.893333       0.7450  0.2550  0.819167     55074.06   \n",
       "125  arcsin_8_reps     0.723333       0.9050  0.0950  0.814167     70849.16   \n",
       "135  arcsin_8_reps     0.753333       0.8825  0.1175  0.817917     78693.82   \n",
       "145  arcsin_8_reps     0.743333       0.8675  0.1325  0.805417     86561.56   \n",
       "155  arcsin_8_reps     0.776667       0.8525  0.1475  0.814583     98387.63   \n",
       "\n",
       "    reps   trans  \n",
       "0      2   logit  \n",
       "10     2   logit  \n",
       "22     4   logit  \n",
       "30     2   logit  \n",
       "42     4   logit  \n",
       "52     4   logit  \n",
       "63     4  arcsin  \n",
       "73     4  arcsin  \n",
       "84     8   logit  \n",
       "94     8   logit  \n",
       "104    8   logit  \n",
       "114    8   logit  \n",
       "125    8  arcsin  \n",
       "135    8  arcsin  \n",
       "145    8  arcsin  \n",
       "155    8  arcsin  "
      ]
     },
     "execution_count": 119,
     "metadata": {},
     "output_type": "execute_result"
    }
   ],
   "source": [
    "# get best auroc for each mean count\n",
    "best_auroc = stats.sort_values('auroc', ascending=False).drop_duplicates('mean_counts').sort_values('mean_counts')\n",
    "best_auroc"
   ]
  },
  {
   "cell_type": "code",
   "execution_count": 120,
   "id": "d2b4580b",
   "metadata": {},
   "outputs": [],
   "source": [
    "# save\n",
    "best_auroc.to_csv(f'{OUT_PATH}/benchmark_best_auroc.tsv', sep='\\t')"
   ]
  },
  {
   "cell_type": "code",
   "execution_count": null,
   "id": "173e801c",
   "metadata": {},
   "outputs": [],
   "source": []
  }
 ],
 "metadata": {
  "kernelspec": {
   "display_name": "scanpro",
   "language": "python",
   "name": "scanpro"
  },
  "language_info": {
   "codemirror_mode": {
    "name": "ipython",
    "version": 3
   },
   "file_extension": ".py",
   "mimetype": "text/x-python",
   "name": "python",
   "nbconvert_exporter": "python",
   "pygments_lexer": "ipython3",
   "version": "3.11.4"
  }
 },
 "nbformat": 4,
 "nbformat_minor": 5
}
