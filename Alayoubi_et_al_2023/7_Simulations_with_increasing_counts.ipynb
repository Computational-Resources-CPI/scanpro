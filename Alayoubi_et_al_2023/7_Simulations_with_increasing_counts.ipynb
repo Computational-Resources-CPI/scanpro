{
 "cells": [
  {
   "cell_type": "markdown",
   "id": "53795685",
   "metadata": {},
   "source": [
    "# 7. Simulations with increasing cell counts"
   ]
  },
  {
   "cell_type": "markdown",
   "id": "0d0f16e2",
   "metadata": {},
   "source": [
    "To assess the effect of cell count and the number of bootstrapped samples on the ability to identify significant clusters by scanpro, we increment the `mu` parameter of the function `simulate_cell_counts_2`, which result in increased cell count each time. For each `mu` parameter, we generate 100 datasets randomly and run scanpro_boot on each, and the mean cell count is then calculated."
   ]
  },
  {
   "cell_type": "code",
   "execution_count": 1,
   "id": "10c53874",
   "metadata": {},
   "outputs": [],
   "source": [
    "import pandas as pd\n",
    "import numpy as np\n",
    "import time\n",
    "import multiprocessing as mp\n",
    "\n",
    "from scanpro import scanpro\n",
    "from scanpro.utils import estimate_params_from_counts, simulate_cell_counts_2, convert_counts_to_df"
   ]
  },
  {
   "cell_type": "code",
   "execution_count": 30,
   "id": "1e58fa5b",
   "metadata": {},
   "outputs": [],
   "source": [
    "OUT_PATH = 'results/benchmark'"
   ]
  },
  {
   "cell_type": "code",
   "execution_count": 3,
   "id": "b587f216",
   "metadata": {},
   "outputs": [],
   "source": [
    "def generate_dataset(p, a, b, n_reps, n_conds=2, n=20, mu=5000, seed=1):\n",
    "\n",
    "    np.random.seed(seed)\n",
    "    if b is None:\n",
    "        b = a * (1-p) / p\n",
    "\n",
    "    counts = simulate_cell_counts_2(p, n_reps, a, b, n_conds, n=n, mu=mu)\n",
    "\n",
    "    counts_df = convert_counts_to_df(counts, column_name=\"cluster\")\n",
    "\n",
    "    return counts_df"
   ]
  },
  {
   "cell_type": "code",
   "execution_count": 4,
   "id": "7eee436a",
   "metadata": {},
   "outputs": [],
   "source": [
    "def simulate_datasets(p, a, b, mu, n_reps=4, n_sims=100):\n",
    "    np.random.seed(10)\n",
    "    \n",
    "    pool = mp.Pool()\n",
    "    jobs = []\n",
    "    \n",
    "    for sim in range(n_sims):\n",
    "\n",
    "        # Run Scanpro or scanpro bootstrapping on 100 datasets\n",
    "        job = pool.apply_async(generate_dataset, (p, a, b, n_reps), dict(n_conds=2, n=20,\n",
    "                                                                         mu=mu, seed=sim))\n",
    "        jobs.append(job)\n",
    "\n",
    "    pool.close()\n",
    "    monitor_jobs(jobs)\n",
    "\n",
    "    results = [job.get() for job in jobs]\n",
    "    pool.join()\n",
    "\n",
    "    return results"
   ]
  },
  {
   "cell_type": "code",
   "execution_count": 5,
   "id": "56a75992",
   "metadata": {},
   "outputs": [],
   "source": [
    "def monitor_jobs(jobs):\n",
    "    \"\"\"\n",
    "    Monitor the status of jobs submitted to a pool.\n",
    "\n",
    "    Parameters\n",
    "    ----------\n",
    "    jobs : list of job objects\n",
    "        List of job objects, e.g. as returned by pool.map_async().\n",
    "    \"\"\"\n",
    "\n",
    "    if isinstance(jobs, dict):\n",
    "        jobs = list(jobs.values())\n",
    "\n",
    "    from tqdm import tqdm_notebook as tqdm\n",
    "    pbar = tqdm(total=len(jobs))\n",
    "    \n",
    "    # Wait for all jobs to finish\n",
    "    n_ready = sum([job.ready() for job in jobs])\n",
    "    while n_ready != len(jobs):\n",
    "        if n_ready != pbar.n:\n",
    "            pbar.n = n_ready\n",
    "            pbar.refresh()\n",
    "        time.sleep(1)\n",
    "        n_ready = sum([job.ready() for job in jobs])\n",
    "\n",
    "    pbar.n = n_ready  # update progress bar to 100%\n",
    "    pbar.refresh()\n",
    "    pbar.close()"
   ]
  },
  {
   "cell_type": "code",
   "execution_count": 6,
   "id": "ac1bb812",
   "metadata": {},
   "outputs": [],
   "source": [
    "def test_performance(datasets,\n",
    "                     n_reps,  # number of samples per condition\n",
    "                     transform,\n",
    "                     ):\n",
    "    \"\"\"Test the performance of bootstrap scanpro on simulated data.\n",
    "    :param list datasets: List of datasets as pandas dataframes to run scanpro on\n",
    "    :param int n_reps: Number of replicates the bootstrap is going to generate\n",
    "    :param str transform: method of transformation (logit or arcsin)\n",
    "    :return pandas.DataFrame all_run_results: A dataframe with results from all runs.\n",
    "    \"\"\"\n",
    "    import warnings\n",
    "    warnings.filterwarnings('ignore')\n",
    "\n",
    "    jobs = []\n",
    "\n",
    "    for mu in datasets.keys():\n",
    "        pool = mp.Pool()\n",
    "        for dataset in datasets[mu]:\n",
    "\n",
    "            # Run Scanpro or scanpro bootstrapping on 100 datasets\n",
    "            job = pool.apply_async(scanpro.scanpro, (dataset,), dict(clusters_col=\"cluster\", conds_col=\"group\", \n",
    "                                                                     samples_col=None, n_reps=n_reps,\n",
    "                                                                     transform=transform, verbosity=0))\n",
    "            jobs.append(job)\n",
    "\n",
    "        pool.close()\n",
    "        monitor_jobs(jobs)\n",
    "\n",
    "        results = [job.get() for job in jobs]\n",
    "        pool.join()\n",
    "\n",
    "    # Collect result\n",
    "    all_run_results = [result.results for result in results]\n",
    "\n",
    "    return all_run_results"
   ]
  },
  {
   "cell_type": "code",
   "execution_count": 7,
   "id": "a5d0894d",
   "metadata": {},
   "outputs": [],
   "source": [
    "#### HELPER STATISTCS FUNCTIONS ####\n",
    "\n",
    "def compare_p_values(p_values, per_cluster=False):\n",
    "    \"\"\" Compare p-values of simulation with differences with expected output\"\"\"\n",
    "    out = []\n",
    "    for x in p_values:\n",
    "        if per_cluster:\n",
    "            # save hit rate per cluster\n",
    "            hitrate = [x[0]<.05, x[1]>=.05, x[2]>=.05, x[3]<.05, x[4]>=.05, x[5]>=.05, x[6]<0.05]\n",
    "        else:\n",
    "            # save hit rate per run\n",
    "            hitrate = x[0]<0.05 and x[1]>=0.05 and x[2]>=0.05 and x[3]<0.05 and x[4]>=0.05 and x[5]>=0.05 and x[6]<0.05\n",
    "        out.append(hitrate)\n",
    "\n",
    "    return out\n",
    "\n",
    "\n",
    "def get_means(data):\n",
    "    \"\"\"Get mean cell count for each mu\"\"\"\n",
    "    return [np.mean([x.shape[0] for x in data[mu]]) for mu in data.keys()]\n",
    "\n",
    "\n",
    "def calc_hitrates(results, compare=None):\n",
    "    out = {mu: {method: None for method in list(results[mu].keys())} for mu in results.keys()}\n",
    "    for mu in results.keys():\n",
    "        for method in results[mu]:\n",
    "            p_values = [results[mu][method].iloc[i:i+7, -1] for i in np.arange(0, len(results[mu][method]+1), 7)]\n",
    "\n",
    "            if compare is None:\n",
    "                raise ValueError(\"Please provide a compare function!\")\n",
    "                \n",
    "            out[mu][method] = np.mean(compare(p_values)) * 100\n",
    "    \n",
    "    out = pd.DataFrame(out)\n",
    "    out = out.reset_index().melt(id_vars='index')\n",
    "    out.rename(columns={'index': 'method', 'variable': 'mu', 'value': 'hit_rate'}, inplace=True)\n",
    "\n",
    "    return out\n",
    "\n",
    "\n",
    "def get_stats(p_values, mean_counts, n_sims):\n",
    "    \"\"\" Calculate sensitivty, specificty and false positive rate \"\"\"\n",
    "    from sklearn.metrics import roc_auc_score\n",
    "    \n",
    "    methods = list(p_values[mean_counts[0]].keys())\n",
    "    results = {count: {method: [] for method in methods} for count in mean_counts}\n",
    "    df_list = []\n",
    "    # True is significant cell type in original data\n",
    "    y_test = np.tile([True, False, False, True, False, False, True], n_sims)  \n",
    "    for i, count in enumerate(mean_counts):\n",
    "        for method in methods:\n",
    "            test_df = pd.DataFrame(p_values[count][method])\n",
    "            test_stat = np.zeros((2,2))\n",
    "            test_stat[0][0] = sum([sum(test_df.iloc[:,i] < 0.05) for i in [0,3,6]])  # tp\n",
    "            test_stat[0][1] = sum([sum(test_df.iloc[:,i] < 0.05) for i in [1,2,4,5]])  # fp\n",
    "            test_stat[1][0] = sum([sum(test_df.iloc[:,i] > 0.05) for i in [0,3,6]])  # fn\n",
    "            test_stat[1][1] = sum([sum(test_df.iloc[:,i] > 0.05) for i in [1,2,4,5]])  # tn\n",
    "            \n",
    "            sens = test_stat[0][0] / test_stat.sum(axis=0)[0]  # true positive rate\n",
    "            specif = test_stat[1][1] / test_stat.sum(axis=0)[1]  # specificity\n",
    "            fpr = test_stat[0][1] / test_stat.sum(axis=0)[1]  # false positive rate\n",
    "            \n",
    "            results[count][method].append(sens)\n",
    "            results[count][method].append(specif)\n",
    "            results[count][method].append(fpr)\n",
    "            \n",
    "            # calculate auroc\n",
    "            y_predicted = np.array(p_values[count][method]).flatten()\n",
    "            y_predicted = y_predicted < 0.05\n",
    "        \n",
    "            auroc = roc_auc_score(y_test, y_predicted)\n",
    "            results[count][method].append(auroc)\n",
    "        \n",
    "        tmp = pd.DataFrame(results[count], index=['sensitivity', 'specificity', 'fpr', 'auroc'])\n",
    "        tmp = tmp.T\n",
    "        tmp['mean_counts'] = count\n",
    "        \n",
    "        df_list.append(tmp)\n",
    "    \n",
    "    df_stat = pd.concat(df_list, axis=0, join='outer')\n",
    "    df_stat.reset_index(inplace=True)\n",
    "    df_stat.rename({'index': 'method'}, inplace=True, axis=1)\n",
    "    df_stat['reps'] = df_stat['method'].str.split('_').str[1]\n",
    "    df_stat['trans'] = df_stat['method'].str.split('_').str[0]\n",
    "    \n",
    "    return df_stat"
   ]
  },
  {
   "cell_type": "markdown",
   "id": "b93762ff",
   "metadata": {},
   "source": [
    "## Data preperation\n",
    "see https://phipsonlab.github.io/propeller-paper-analysis/SimTrueDiff.html"
   ]
  },
  {
   "cell_type": "code",
   "execution_count": 8,
   "id": "ac86cd8d",
   "metadata": {},
   "outputs": [
    {
     "data": {
      "text/plain": [
       "[Cardiomyocytes           1.769390\n",
       " Endothelial cells      107.760684\n",
       " Epicardial cells        47.297371\n",
       " Fibroblast              14.138098\n",
       " Immune cells            16.442437\n",
       " Neurons                143.134155\n",
       " Smooth muscle cells    458.574736\n",
       " dtype: float64,\n",
       " Cardiomyocytes           4.742325\n",
       " Endothelial cells      107.760684\n",
       " Epicardial cells        47.297371\n",
       " Fibroblast               4.666523\n",
       " Immune cells            16.442437\n",
       " Neurons                143.134155\n",
       " Smooth muscle cells    150.405074\n",
       " dtype: float64]"
      ]
     },
     "execution_count": 8,
     "metadata": {},
     "output_type": "execute_result"
    }
   ],
   "source": [
    "heart_counts = pd.read_csv('/home/yalayou/pypropeller/Alayoubi_et_al_2023/data/heart_counts.tsv', sep='\\t')\n",
    "heart_counts.drop(['Condition', 'Sex'], inplace=True, axis=1)\n",
    "heart_counts = heart_counts.set_index('Sample').T\n",
    "heart_counts.drop('Erythroid', inplace=True)  # remove erythroids\n",
    "\n",
    "# proportions of each cluster in all samples\n",
    "true_props = heart_counts.sum(axis=1) / heart_counts.sum(axis=1).sum()  # sum of cells in cluster / sum of all cells\n",
    "true_props = true_props.to_frame(name=\"props\")\n",
    "\n",
    "# estimate beta paramters from counts\n",
    "params = estimate_params_from_counts(heart_counts)  # rows are clusters\n",
    "a = params[1]\n",
    "b = params[2]\n",
    "\n",
    "# Set up true proportions for the two groups\n",
    "grp1_trueprops = true_props.values.flatten()\n",
    "grp2_trueprops = true_props.values.flatten()\n",
    "\n",
    "grp2_trueprops[0] = grp1_trueprops[0]/2\n",
    "grp2_trueprops[3] = grp2_trueprops[3]*2\n",
    "grp2_trueprops[6] = grp1_trueprops[6]*3\n",
    "\n",
    "grp2_trueprops[0] = grp2_trueprops[0] + (1-grp2_trueprops.sum())/2\n",
    "grp2_trueprops[3] = grp2_trueprops[3] + (1-grp2_trueprops.sum())\n",
    " \n",
    "# calculate beta for both groups\n",
    "b1 = a*(1-grp1_trueprops)/grp1_trueprops\n",
    "b2 = a*(1-grp2_trueprops)/grp2_trueprops\n",
    "b_grps = [b1, b2]\n",
    "\n",
    "b_grps"
   ]
  },
  {
   "cell_type": "markdown",
   "id": "1465423e",
   "metadata": {},
   "source": [
    "## simulate datasets"
   ]
  },
  {
   "cell_type": "code",
   "execution_count": 9,
   "id": "81654e56",
   "metadata": {
    "scrolled": true
   },
   "outputs": [
    {
     "data": {
      "application/vnd.jupyter.widget-view+json": {
       "model_id": "5284e156cd4b45afbc68ece1d45d507c",
       "version_major": 2,
       "version_minor": 0
      },
      "text/plain": [
       "  0%|          | 0/100 [00:00<?, ?it/s]"
      ]
     },
     "metadata": {},
     "output_type": "display_data"
    },
    {
     "data": {
      "application/vnd.jupyter.widget-view+json": {
       "model_id": "f8f1011686b646f8ab22253cf2889b75",
       "version_major": 2,
       "version_minor": 0
      },
      "text/plain": [
       "  0%|          | 0/100 [00:00<?, ?it/s]"
      ]
     },
     "metadata": {},
     "output_type": "display_data"
    },
    {
     "data": {
      "application/vnd.jupyter.widget-view+json": {
       "model_id": "647448f2001040489f1748e9fdec33ec",
       "version_major": 2,
       "version_minor": 0
      },
      "text/plain": [
       "  0%|          | 0/100 [00:00<?, ?it/s]"
      ]
     },
     "metadata": {},
     "output_type": "display_data"
    },
    {
     "data": {
      "application/vnd.jupyter.widget-view+json": {
       "model_id": "fb436208808b4b2a81ac7fa1e6233804",
       "version_major": 2,
       "version_minor": 0
      },
      "text/plain": [
       "  0%|          | 0/100 [00:00<?, ?it/s]"
      ]
     },
     "metadata": {},
     "output_type": "display_data"
    },
    {
     "data": {
      "application/vnd.jupyter.widget-view+json": {
       "model_id": "0b3aad6f5cfe4f89beaec72150a83ee5",
       "version_major": 2,
       "version_minor": 0
      },
      "text/plain": [
       "  0%|          | 0/100 [00:00<?, ?it/s]"
      ]
     },
     "metadata": {},
     "output_type": "display_data"
    },
    {
     "data": {
      "application/vnd.jupyter.widget-view+json": {
       "model_id": "a55f734a45c44f2aacac2fc0bde9aebf",
       "version_major": 2,
       "version_minor": 0
      },
      "text/plain": [
       "  0%|          | 0/100 [00:00<?, ?it/s]"
      ]
     },
     "metadata": {},
     "output_type": "display_data"
    },
    {
     "data": {
      "application/vnd.jupyter.widget-view+json": {
       "model_id": "302797f9044f4ef0adc7d39f34a53a8f",
       "version_major": 2,
       "version_minor": 0
      },
      "text/plain": [
       "  0%|          | 0/100 [00:00<?, ?it/s]"
      ]
     },
     "metadata": {},
     "output_type": "display_data"
    },
    {
     "data": {
      "application/vnd.jupyter.widget-view+json": {
       "model_id": "c7420cad5e56424ab0de29b1fa84f46b",
       "version_major": 2,
       "version_minor": 0
      },
      "text/plain": [
       "  0%|          | 0/100 [00:00<?, ?it/s]"
      ]
     },
     "metadata": {},
     "output_type": "display_data"
    },
    {
     "data": {
      "application/vnd.jupyter.widget-view+json": {
       "model_id": "dba5aa9f909949ad9d9f2f2a031f79b6",
       "version_major": 2,
       "version_minor": 0
      },
      "text/plain": [
       "  0%|          | 0/100 [00:00<?, ?it/s]"
      ]
     },
     "metadata": {},
     "output_type": "display_data"
    },
    {
     "data": {
      "application/vnd.jupyter.widget-view+json": {
       "model_id": "47bfb17f400843f892746ddf55357862",
       "version_major": 2,
       "version_minor": 0
      },
      "text/plain": [
       "  0%|          | 0/100 [00:00<?, ?it/s]"
      ]
     },
     "metadata": {},
     "output_type": "display_data"
    },
    {
     "data": {
      "application/vnd.jupyter.widget-view+json": {
       "model_id": "804de483046849ea8e828518468759b6",
       "version_major": 2,
       "version_minor": 0
      },
      "text/plain": [
       "  0%|          | 0/100 [00:00<?, ?it/s]"
      ]
     },
     "metadata": {},
     "output_type": "display_data"
    },
    {
     "data": {
      "application/vnd.jupyter.widget-view+json": {
       "model_id": "757318869a6b48339892d1406de6d45b",
       "version_major": 2,
       "version_minor": 0
      },
      "text/plain": [
       "  0%|          | 0/100 [00:00<?, ?it/s]"
      ]
     },
     "metadata": {},
     "output_type": "display_data"
    },
    {
     "data": {
      "application/vnd.jupyter.widget-view+json": {
       "model_id": "831c7d24708740809a7177e0f2c32498",
       "version_major": 2,
       "version_minor": 0
      },
      "text/plain": [
       "  0%|          | 0/100 [00:00<?, ?it/s]"
      ]
     },
     "metadata": {},
     "output_type": "display_data"
    },
    {
     "data": {
      "application/vnd.jupyter.widget-view+json": {
       "model_id": "91755f5e160444d582d812d5214d90ca",
       "version_major": 2,
       "version_minor": 0
      },
      "text/plain": [
       "  0%|          | 0/100 [00:00<?, ?it/s]"
      ]
     },
     "metadata": {},
     "output_type": "display_data"
    },
    {
     "data": {
      "application/vnd.jupyter.widget-view+json": {
       "model_id": "698655b3f82345b0ab7760f91c143dd3",
       "version_major": 2,
       "version_minor": 0
      },
      "text/plain": [
       "  0%|          | 0/100 [00:00<?, ?it/s]"
      ]
     },
     "metadata": {},
     "output_type": "display_data"
    },
    {
     "data": {
      "application/vnd.jupyter.widget-view+json": {
       "model_id": "d644ae183cd94371a2268e31519ae9f5",
       "version_major": 2,
       "version_minor": 0
      },
      "text/plain": [
       "  0%|          | 0/100 [00:00<?, ?it/s]"
      ]
     },
     "metadata": {},
     "output_type": "display_data"
    }
   ],
   "source": [
    "n_reps = 4  # number of replicates before merge\n",
    "mu_list = [250, 500, 750, 1000, 1250, 1500, 2000, 2500, 3500, 5000, 6000, 7000, 9000, 10000, 11000, 12500]\n",
    "\n",
    "datasets = {f\"mu_{mu}\": simulate_datasets(true_props, a, b_grps, n_reps=n_reps, mu=mu, n_sims=100) for mu in mu_list}"
   ]
  },
  {
   "cell_type": "code",
   "execution_count": 10,
   "id": "268ea79c",
   "metadata": {
    "scrolled": true
   },
   "outputs": [
    {
     "data": {
      "text/plain": [
       "[1957.24,\n",
       " 3945.37,\n",
       " 5913.71,\n",
       " 7876.67,\n",
       " 9835.37,\n",
       " 11808.26,\n",
       " 15735.6,\n",
       " 19675.16,\n",
       " 27532.11,\n",
       " 39343.57,\n",
       " 47203.26,\n",
       " 55074.06,\n",
       " 70849.16,\n",
       " 78693.82,\n",
       " 86561.56,\n",
       " 98387.63]"
      ]
     },
     "execution_count": 10,
     "metadata": {},
     "output_type": "execute_result"
    }
   ],
   "source": [
    "# get mean cell counts for each mu\n",
    "mean_counts = get_means(datasets)\n",
    "mean_counts"
   ]
  },
  {
   "cell_type": "markdown",
   "id": "96373f38",
   "metadata": {},
   "source": [
    "## Test bootstrapping with different cell counts"
   ]
  },
  {
   "cell_type": "markdown",
   "id": "50312ffb",
   "metadata": {},
   "source": [
    "### 2 replicates"
   ]
  },
  {
   "cell_type": "code",
   "execution_count": 11,
   "id": "1176fba9",
   "metadata": {},
   "outputs": [],
   "source": [
    "n_reps = 2"
   ]
  },
  {
   "cell_type": "markdown",
   "id": "c29af8b4",
   "metadata": {},
   "source": [
    "#### logit"
   ]
  },
  {
   "cell_type": "code",
   "execution_count": 12,
   "id": "beb24895",
   "metadata": {
    "scrolled": true
   },
   "outputs": [
    {
     "data": {
      "application/vnd.jupyter.widget-view+json": {
       "model_id": "c6db5e0e76e249f5bf5c4b26c0b6c7f9",
       "version_major": 2,
       "version_minor": 0
      },
      "text/plain": [
       "  0%|          | 0/100 [00:00<?, ?it/s]"
      ]
     },
     "metadata": {},
     "output_type": "display_data"
    },
    {
     "data": {
      "application/vnd.jupyter.widget-view+json": {
       "model_id": "8f6bfb25fae54d9dad5da8941b27f489",
       "version_major": 2,
       "version_minor": 0
      },
      "text/plain": [
       "  0%|          | 0/200 [00:00<?, ?it/s]"
      ]
     },
     "metadata": {},
     "output_type": "display_data"
    },
    {
     "data": {
      "application/vnd.jupyter.widget-view+json": {
       "model_id": "fc598245ad764463a17709ce1f7c3e58",
       "version_major": 2,
       "version_minor": 0
      },
      "text/plain": [
       "  0%|          | 0/300 [00:00<?, ?it/s]"
      ]
     },
     "metadata": {},
     "output_type": "display_data"
    },
    {
     "data": {
      "application/vnd.jupyter.widget-view+json": {
       "model_id": "da5812ae73b14ec4b485d171311c5233",
       "version_major": 2,
       "version_minor": 0
      },
      "text/plain": [
       "  0%|          | 0/400 [00:00<?, ?it/s]"
      ]
     },
     "metadata": {},
     "output_type": "display_data"
    },
    {
     "data": {
      "application/vnd.jupyter.widget-view+json": {
       "model_id": "373566211497475284b33fd9bd5fddbc",
       "version_major": 2,
       "version_minor": 0
      },
      "text/plain": [
       "  0%|          | 0/500 [00:00<?, ?it/s]"
      ]
     },
     "metadata": {},
     "output_type": "display_data"
    },
    {
     "data": {
      "application/vnd.jupyter.widget-view+json": {
       "model_id": "943b51b7049343769a6b53d02a618c60",
       "version_major": 2,
       "version_minor": 0
      },
      "text/plain": [
       "  0%|          | 0/600 [00:00<?, ?it/s]"
      ]
     },
     "metadata": {},
     "output_type": "display_data"
    },
    {
     "data": {
      "application/vnd.jupyter.widget-view+json": {
       "model_id": "1d5732a1385d427a8138637b9d0ff92b",
       "version_major": 2,
       "version_minor": 0
      },
      "text/plain": [
       "  0%|          | 0/700 [00:00<?, ?it/s]"
      ]
     },
     "metadata": {},
     "output_type": "display_data"
    },
    {
     "data": {
      "application/vnd.jupyter.widget-view+json": {
       "model_id": "90215408da4844f7860ec4eb7726ad97",
       "version_major": 2,
       "version_minor": 0
      },
      "text/plain": [
       "  0%|          | 0/800 [00:00<?, ?it/s]"
      ]
     },
     "metadata": {},
     "output_type": "display_data"
    },
    {
     "data": {
      "application/vnd.jupyter.widget-view+json": {
       "model_id": "3a73d0d3eeb1475481d9560ba391a76c",
       "version_major": 2,
       "version_minor": 0
      },
      "text/plain": [
       "  0%|          | 0/900 [00:00<?, ?it/s]"
      ]
     },
     "metadata": {},
     "output_type": "display_data"
    },
    {
     "data": {
      "application/vnd.jupyter.widget-view+json": {
       "model_id": "92d0bc9839e6425b8b243849fb281908",
       "version_major": 2,
       "version_minor": 0
      },
      "text/plain": [
       "  0%|          | 0/1000 [00:00<?, ?it/s]"
      ]
     },
     "metadata": {},
     "output_type": "display_data"
    },
    {
     "data": {
      "application/vnd.jupyter.widget-view+json": {
       "model_id": "2680921e813d43e5ac6eb28287e03406",
       "version_major": 2,
       "version_minor": 0
      },
      "text/plain": [
       "  0%|          | 0/1100 [00:00<?, ?it/s]"
      ]
     },
     "metadata": {},
     "output_type": "display_data"
    },
    {
     "data": {
      "application/vnd.jupyter.widget-view+json": {
       "model_id": "9a781481174e429a83ec34c75974d639",
       "version_major": 2,
       "version_minor": 0
      },
      "text/plain": [
       "  0%|          | 0/1200 [00:00<?, ?it/s]"
      ]
     },
     "metadata": {},
     "output_type": "display_data"
    },
    {
     "data": {
      "application/vnd.jupyter.widget-view+json": {
       "model_id": "577b9639592248488a9a24cc461262a8",
       "version_major": 2,
       "version_minor": 0
      },
      "text/plain": [
       "  0%|          | 0/1300 [00:00<?, ?it/s]"
      ]
     },
     "metadata": {},
     "output_type": "display_data"
    },
    {
     "data": {
      "application/vnd.jupyter.widget-view+json": {
       "model_id": "7e6adfc2b80d4c8cbb40ee713497ae1e",
       "version_major": 2,
       "version_minor": 0
      },
      "text/plain": [
       "  0%|          | 0/1400 [00:00<?, ?it/s]"
      ]
     },
     "metadata": {},
     "output_type": "display_data"
    },
    {
     "data": {
      "application/vnd.jupyter.widget-view+json": {
       "model_id": "b692cf637f074487b7e0770cbaa4877a",
       "version_major": 2,
       "version_minor": 0
      },
      "text/plain": [
       "  0%|          | 0/1500 [00:00<?, ?it/s]"
      ]
     },
     "metadata": {},
     "output_type": "display_data"
    },
    {
     "data": {
      "application/vnd.jupyter.widget-view+json": {
       "model_id": "58cc7e65bf1e4229add2d230a72952a2",
       "version_major": 2,
       "version_minor": 0
      },
      "text/plain": [
       "  0%|          | 0/1600 [00:00<?, ?it/s]"
      ]
     },
     "metadata": {},
     "output_type": "display_data"
    }
   ],
   "source": [
    "scanpro_2_reps_logit = test_performance(datasets, transform=\"logit\",\n",
    "                                        n_reps=n_reps)"
   ]
  },
  {
   "cell_type": "markdown",
   "id": "75f0f387",
   "metadata": {},
   "source": [
    "#### arcsine"
   ]
  },
  {
   "cell_type": "code",
   "execution_count": 13,
   "id": "387fb074",
   "metadata": {},
   "outputs": [
    {
     "data": {
      "application/vnd.jupyter.widget-view+json": {
       "model_id": "94e98f3578d245829c96973c7652d896",
       "version_major": 2,
       "version_minor": 0
      },
      "text/plain": [
       "  0%|          | 0/100 [00:00<?, ?it/s]"
      ]
     },
     "metadata": {},
     "output_type": "display_data"
    },
    {
     "data": {
      "application/vnd.jupyter.widget-view+json": {
       "model_id": "01180fc068b04e53a83e6f1948a32df1",
       "version_major": 2,
       "version_minor": 0
      },
      "text/plain": [
       "  0%|          | 0/200 [00:00<?, ?it/s]"
      ]
     },
     "metadata": {},
     "output_type": "display_data"
    },
    {
     "data": {
      "application/vnd.jupyter.widget-view+json": {
       "model_id": "3b7e46c8bde843a6a1f6f254c59495ac",
       "version_major": 2,
       "version_minor": 0
      },
      "text/plain": [
       "  0%|          | 0/300 [00:00<?, ?it/s]"
      ]
     },
     "metadata": {},
     "output_type": "display_data"
    },
    {
     "data": {
      "application/vnd.jupyter.widget-view+json": {
       "model_id": "e74176f5b2d34a51bd0cade02c8f49d2",
       "version_major": 2,
       "version_minor": 0
      },
      "text/plain": [
       "  0%|          | 0/400 [00:00<?, ?it/s]"
      ]
     },
     "metadata": {},
     "output_type": "display_data"
    },
    {
     "data": {
      "application/vnd.jupyter.widget-view+json": {
       "model_id": "59c077848e7d4950910ea35b8913b265",
       "version_major": 2,
       "version_minor": 0
      },
      "text/plain": [
       "  0%|          | 0/500 [00:00<?, ?it/s]"
      ]
     },
     "metadata": {},
     "output_type": "display_data"
    },
    {
     "data": {
      "application/vnd.jupyter.widget-view+json": {
       "model_id": "233d34f893f8421c91dea308ad8c3f7f",
       "version_major": 2,
       "version_minor": 0
      },
      "text/plain": [
       "  0%|          | 0/600 [00:00<?, ?it/s]"
      ]
     },
     "metadata": {},
     "output_type": "display_data"
    },
    {
     "data": {
      "application/vnd.jupyter.widget-view+json": {
       "model_id": "68c44127eb0a43039b119a24820be602",
       "version_major": 2,
       "version_minor": 0
      },
      "text/plain": [
       "  0%|          | 0/700 [00:00<?, ?it/s]"
      ]
     },
     "metadata": {},
     "output_type": "display_data"
    },
    {
     "data": {
      "application/vnd.jupyter.widget-view+json": {
       "model_id": "1355b5ee24f9451bb996eecf8e8ce7dc",
       "version_major": 2,
       "version_minor": 0
      },
      "text/plain": [
       "  0%|          | 0/800 [00:00<?, ?it/s]"
      ]
     },
     "metadata": {},
     "output_type": "display_data"
    },
    {
     "data": {
      "application/vnd.jupyter.widget-view+json": {
       "model_id": "a2072aae50924402b90a6d928733d89e",
       "version_major": 2,
       "version_minor": 0
      },
      "text/plain": [
       "  0%|          | 0/900 [00:00<?, ?it/s]"
      ]
     },
     "metadata": {},
     "output_type": "display_data"
    },
    {
     "data": {
      "application/vnd.jupyter.widget-view+json": {
       "model_id": "d63b75fbc1de4c0d9cafc5a7b1c3119c",
       "version_major": 2,
       "version_minor": 0
      },
      "text/plain": [
       "  0%|          | 0/1000 [00:00<?, ?it/s]"
      ]
     },
     "metadata": {},
     "output_type": "display_data"
    },
    {
     "data": {
      "application/vnd.jupyter.widget-view+json": {
       "model_id": "add73b6a2dd144929f7f78a863509cb6",
       "version_major": 2,
       "version_minor": 0
      },
      "text/plain": [
       "  0%|          | 0/1100 [00:00<?, ?it/s]"
      ]
     },
     "metadata": {},
     "output_type": "display_data"
    },
    {
     "data": {
      "application/vnd.jupyter.widget-view+json": {
       "model_id": "5a081e4d89c446118deac2ce5eefdb74",
       "version_major": 2,
       "version_minor": 0
      },
      "text/plain": [
       "  0%|          | 0/1200 [00:00<?, ?it/s]"
      ]
     },
     "metadata": {},
     "output_type": "display_data"
    },
    {
     "data": {
      "application/vnd.jupyter.widget-view+json": {
       "model_id": "5b8baad3cb104e9bbf21c0a60f90dda2",
       "version_major": 2,
       "version_minor": 0
      },
      "text/plain": [
       "  0%|          | 0/1300 [00:00<?, ?it/s]"
      ]
     },
     "metadata": {},
     "output_type": "display_data"
    },
    {
     "data": {
      "application/vnd.jupyter.widget-view+json": {
       "model_id": "221e509e0c9f4f16ae9cf3183b6aebb9",
       "version_major": 2,
       "version_minor": 0
      },
      "text/plain": [
       "  0%|          | 0/1400 [00:00<?, ?it/s]"
      ]
     },
     "metadata": {},
     "output_type": "display_data"
    },
    {
     "data": {
      "application/vnd.jupyter.widget-view+json": {
       "model_id": "9b89705716274f19bdb47a7a92e2a905",
       "version_major": 2,
       "version_minor": 0
      },
      "text/plain": [
       "  0%|          | 0/1500 [00:00<?, ?it/s]"
      ]
     },
     "metadata": {},
     "output_type": "display_data"
    },
    {
     "data": {
      "application/vnd.jupyter.widget-view+json": {
       "model_id": "3bf91c4153e9469a948b71ad071dc086",
       "version_major": 2,
       "version_minor": 0
      },
      "text/plain": [
       "  0%|          | 0/1600 [00:00<?, ?it/s]"
      ]
     },
     "metadata": {},
     "output_type": "display_data"
    }
   ],
   "source": [
    "scanpro_2_reps_arcsin = test_performance(datasets, transform=\"arcsin\",\n",
    "                                         n_reps=n_reps)"
   ]
  },
  {
   "cell_type": "markdown",
   "id": "8a6427c8",
   "metadata": {},
   "source": [
    "### 4 replicates"
   ]
  },
  {
   "cell_type": "code",
   "execution_count": 14,
   "id": "b357f382",
   "metadata": {},
   "outputs": [],
   "source": [
    "n_reps = 4"
   ]
  },
  {
   "cell_type": "markdown",
   "id": "3429f704",
   "metadata": {},
   "source": [
    "#### logit"
   ]
  },
  {
   "cell_type": "code",
   "execution_count": 15,
   "id": "f77a002f",
   "metadata": {},
   "outputs": [
    {
     "data": {
      "application/vnd.jupyter.widget-view+json": {
       "model_id": "9d934ee104b8438387b935f8acc27392",
       "version_major": 2,
       "version_minor": 0
      },
      "text/plain": [
       "  0%|          | 0/100 [00:00<?, ?it/s]"
      ]
     },
     "metadata": {},
     "output_type": "display_data"
    },
    {
     "data": {
      "application/vnd.jupyter.widget-view+json": {
       "model_id": "d9037646513d43948b96652769846c52",
       "version_major": 2,
       "version_minor": 0
      },
      "text/plain": [
       "  0%|          | 0/200 [00:00<?, ?it/s]"
      ]
     },
     "metadata": {},
     "output_type": "display_data"
    },
    {
     "data": {
      "application/vnd.jupyter.widget-view+json": {
       "model_id": "fa28e6f095af4ac28db04144c9f7036a",
       "version_major": 2,
       "version_minor": 0
      },
      "text/plain": [
       "  0%|          | 0/300 [00:00<?, ?it/s]"
      ]
     },
     "metadata": {},
     "output_type": "display_data"
    },
    {
     "data": {
      "application/vnd.jupyter.widget-view+json": {
       "model_id": "ea08fa8bf2574710b2c782ed6b374761",
       "version_major": 2,
       "version_minor": 0
      },
      "text/plain": [
       "  0%|          | 0/400 [00:00<?, ?it/s]"
      ]
     },
     "metadata": {},
     "output_type": "display_data"
    },
    {
     "data": {
      "application/vnd.jupyter.widget-view+json": {
       "model_id": "9f9de1c5962a47a1b766c825401e0744",
       "version_major": 2,
       "version_minor": 0
      },
      "text/plain": [
       "  0%|          | 0/500 [00:00<?, ?it/s]"
      ]
     },
     "metadata": {},
     "output_type": "display_data"
    },
    {
     "data": {
      "application/vnd.jupyter.widget-view+json": {
       "model_id": "0f3847be98a146178fd2ac8f505f9ed8",
       "version_major": 2,
       "version_minor": 0
      },
      "text/plain": [
       "  0%|          | 0/600 [00:00<?, ?it/s]"
      ]
     },
     "metadata": {},
     "output_type": "display_data"
    },
    {
     "data": {
      "application/vnd.jupyter.widget-view+json": {
       "model_id": "2f92c26a5489460d9bbb153e6d63a8c2",
       "version_major": 2,
       "version_minor": 0
      },
      "text/plain": [
       "  0%|          | 0/700 [00:00<?, ?it/s]"
      ]
     },
     "metadata": {},
     "output_type": "display_data"
    },
    {
     "data": {
      "application/vnd.jupyter.widget-view+json": {
       "model_id": "767313b3589d40de814de1c915d56662",
       "version_major": 2,
       "version_minor": 0
      },
      "text/plain": [
       "  0%|          | 0/800 [00:00<?, ?it/s]"
      ]
     },
     "metadata": {},
     "output_type": "display_data"
    },
    {
     "data": {
      "application/vnd.jupyter.widget-view+json": {
       "model_id": "de2d5ff0616d48bfa81aa575677df93d",
       "version_major": 2,
       "version_minor": 0
      },
      "text/plain": [
       "  0%|          | 0/900 [00:00<?, ?it/s]"
      ]
     },
     "metadata": {},
     "output_type": "display_data"
    },
    {
     "data": {
      "application/vnd.jupyter.widget-view+json": {
       "model_id": "a1b9e8bc31d642589526e8dc49dfe325",
       "version_major": 2,
       "version_minor": 0
      },
      "text/plain": [
       "  0%|          | 0/1000 [00:00<?, ?it/s]"
      ]
     },
     "metadata": {},
     "output_type": "display_data"
    },
    {
     "data": {
      "application/vnd.jupyter.widget-view+json": {
       "model_id": "c3372310c3ac46cca199d12a4fbe84ed",
       "version_major": 2,
       "version_minor": 0
      },
      "text/plain": [
       "  0%|          | 0/1100 [00:00<?, ?it/s]"
      ]
     },
     "metadata": {},
     "output_type": "display_data"
    },
    {
     "data": {
      "application/vnd.jupyter.widget-view+json": {
       "model_id": "abee9db0ab134073bff9b8b15d9978ed",
       "version_major": 2,
       "version_minor": 0
      },
      "text/plain": [
       "  0%|          | 0/1200 [00:00<?, ?it/s]"
      ]
     },
     "metadata": {},
     "output_type": "display_data"
    },
    {
     "data": {
      "application/vnd.jupyter.widget-view+json": {
       "model_id": "e3ab461305a24e90a309f33f40609479",
       "version_major": 2,
       "version_minor": 0
      },
      "text/plain": [
       "  0%|          | 0/1300 [00:00<?, ?it/s]"
      ]
     },
     "metadata": {},
     "output_type": "display_data"
    },
    {
     "data": {
      "application/vnd.jupyter.widget-view+json": {
       "model_id": "f35ee962299746048d7a138f84911b62",
       "version_major": 2,
       "version_minor": 0
      },
      "text/plain": [
       "  0%|          | 0/1400 [00:00<?, ?it/s]"
      ]
     },
     "metadata": {},
     "output_type": "display_data"
    },
    {
     "data": {
      "application/vnd.jupyter.widget-view+json": {
       "model_id": "33ca8cc4c5f44ae3a287f3959eebec23",
       "version_major": 2,
       "version_minor": 0
      },
      "text/plain": [
       "  0%|          | 0/1500 [00:00<?, ?it/s]"
      ]
     },
     "metadata": {},
     "output_type": "display_data"
    },
    {
     "data": {
      "application/vnd.jupyter.widget-view+json": {
       "model_id": "f935673b93f74c70bc792582ec471944",
       "version_major": 2,
       "version_minor": 0
      },
      "text/plain": [
       "  0%|          | 0/1600 [00:00<?, ?it/s]"
      ]
     },
     "metadata": {},
     "output_type": "display_data"
    }
   ],
   "source": [
    "scanpro_4_reps_logit = test_performance(datasets, transform=\"logit\",\n",
    "                                        n_reps=n_reps)"
   ]
  },
  {
   "cell_type": "markdown",
   "id": "a7c6ed8e",
   "metadata": {},
   "source": [
    "#### arcsine"
   ]
  },
  {
   "cell_type": "code",
   "execution_count": 16,
   "id": "d365dc7e",
   "metadata": {},
   "outputs": [
    {
     "data": {
      "application/vnd.jupyter.widget-view+json": {
       "model_id": "89e0063ea42746e6acabbdf268bc1c26",
       "version_major": 2,
       "version_minor": 0
      },
      "text/plain": [
       "  0%|          | 0/100 [00:00<?, ?it/s]"
      ]
     },
     "metadata": {},
     "output_type": "display_data"
    },
    {
     "data": {
      "application/vnd.jupyter.widget-view+json": {
       "model_id": "bd3720472eda4d0ba86bd76a078a936d",
       "version_major": 2,
       "version_minor": 0
      },
      "text/plain": [
       "  0%|          | 0/200 [00:00<?, ?it/s]"
      ]
     },
     "metadata": {},
     "output_type": "display_data"
    },
    {
     "data": {
      "application/vnd.jupyter.widget-view+json": {
       "model_id": "623ff389e279448b9fa71cd1375612b8",
       "version_major": 2,
       "version_minor": 0
      },
      "text/plain": [
       "  0%|          | 0/300 [00:00<?, ?it/s]"
      ]
     },
     "metadata": {},
     "output_type": "display_data"
    },
    {
     "data": {
      "application/vnd.jupyter.widget-view+json": {
       "model_id": "0267a44fd3ff46efbe05ef706128659d",
       "version_major": 2,
       "version_minor": 0
      },
      "text/plain": [
       "  0%|          | 0/400 [00:00<?, ?it/s]"
      ]
     },
     "metadata": {},
     "output_type": "display_data"
    },
    {
     "data": {
      "application/vnd.jupyter.widget-view+json": {
       "model_id": "4b9644ec573449edbbbd1018f6a82a91",
       "version_major": 2,
       "version_minor": 0
      },
      "text/plain": [
       "  0%|          | 0/500 [00:00<?, ?it/s]"
      ]
     },
     "metadata": {},
     "output_type": "display_data"
    },
    {
     "data": {
      "application/vnd.jupyter.widget-view+json": {
       "model_id": "d8dffaeefc0f46ac8bb01c6d606d0c65",
       "version_major": 2,
       "version_minor": 0
      },
      "text/plain": [
       "  0%|          | 0/600 [00:00<?, ?it/s]"
      ]
     },
     "metadata": {},
     "output_type": "display_data"
    },
    {
     "data": {
      "application/vnd.jupyter.widget-view+json": {
       "model_id": "d3f7b49356f949e99f380f90f432fd06",
       "version_major": 2,
       "version_minor": 0
      },
      "text/plain": [
       "  0%|          | 0/700 [00:00<?, ?it/s]"
      ]
     },
     "metadata": {},
     "output_type": "display_data"
    },
    {
     "data": {
      "application/vnd.jupyter.widget-view+json": {
       "model_id": "4dfe1e76710d494484cbef07bf0e70c1",
       "version_major": 2,
       "version_minor": 0
      },
      "text/plain": [
       "  0%|          | 0/800 [00:00<?, ?it/s]"
      ]
     },
     "metadata": {},
     "output_type": "display_data"
    },
    {
     "data": {
      "application/vnd.jupyter.widget-view+json": {
       "model_id": "b79e673aa27a456f940c30d51610b90a",
       "version_major": 2,
       "version_minor": 0
      },
      "text/plain": [
       "  0%|          | 0/900 [00:00<?, ?it/s]"
      ]
     },
     "metadata": {},
     "output_type": "display_data"
    },
    {
     "data": {
      "application/vnd.jupyter.widget-view+json": {
       "model_id": "4d59fda588c1442b86b61b6bcb517617",
       "version_major": 2,
       "version_minor": 0
      },
      "text/plain": [
       "  0%|          | 0/1000 [00:00<?, ?it/s]"
      ]
     },
     "metadata": {},
     "output_type": "display_data"
    },
    {
     "data": {
      "application/vnd.jupyter.widget-view+json": {
       "model_id": "efe6dab5746b446ea1628d173c3287a6",
       "version_major": 2,
       "version_minor": 0
      },
      "text/plain": [
       "  0%|          | 0/1100 [00:00<?, ?it/s]"
      ]
     },
     "metadata": {},
     "output_type": "display_data"
    },
    {
     "data": {
      "application/vnd.jupyter.widget-view+json": {
       "model_id": "ef636902738e4cc380d8e2a22b9b9b23",
       "version_major": 2,
       "version_minor": 0
      },
      "text/plain": [
       "  0%|          | 0/1200 [00:00<?, ?it/s]"
      ]
     },
     "metadata": {},
     "output_type": "display_data"
    },
    {
     "data": {
      "application/vnd.jupyter.widget-view+json": {
       "model_id": "83cd8d1baaea490d8b9768b9a25279fa",
       "version_major": 2,
       "version_minor": 0
      },
      "text/plain": [
       "  0%|          | 0/1300 [00:00<?, ?it/s]"
      ]
     },
     "metadata": {},
     "output_type": "display_data"
    },
    {
     "data": {
      "application/vnd.jupyter.widget-view+json": {
       "model_id": "9ba52123c690451696355473c5f0d45f",
       "version_major": 2,
       "version_minor": 0
      },
      "text/plain": [
       "  0%|          | 0/1400 [00:00<?, ?it/s]"
      ]
     },
     "metadata": {},
     "output_type": "display_data"
    },
    {
     "data": {
      "application/vnd.jupyter.widget-view+json": {
       "model_id": "7dbfdef0e8f1443fb42eb5c470d013c2",
       "version_major": 2,
       "version_minor": 0
      },
      "text/plain": [
       "  0%|          | 0/1500 [00:00<?, ?it/s]"
      ]
     },
     "metadata": {},
     "output_type": "display_data"
    },
    {
     "data": {
      "application/vnd.jupyter.widget-view+json": {
       "model_id": "6296c4020b3c41ae82d8a5c872421469",
       "version_major": 2,
       "version_minor": 0
      },
      "text/plain": [
       "  0%|          | 0/1600 [00:00<?, ?it/s]"
      ]
     },
     "metadata": {},
     "output_type": "display_data"
    }
   ],
   "source": [
    "scanpro_4_reps_arcsin = test_performance(datasets, transform=\"arcsin\",\n",
    "                                         n_reps=n_reps)"
   ]
  },
  {
   "cell_type": "markdown",
   "id": "d4a8258a",
   "metadata": {},
   "source": [
    "### 8 replicates"
   ]
  },
  {
   "cell_type": "code",
   "execution_count": 17,
   "id": "f7683b8d",
   "metadata": {},
   "outputs": [],
   "source": [
    "n_reps = 8"
   ]
  },
  {
   "cell_type": "markdown",
   "id": "da76084b",
   "metadata": {},
   "source": [
    "#### logit"
   ]
  },
  {
   "cell_type": "code",
   "execution_count": 18,
   "id": "51c05267",
   "metadata": {},
   "outputs": [
    {
     "data": {
      "application/vnd.jupyter.widget-view+json": {
       "model_id": "40e1b3319b874bb5a447a3a685722e1e",
       "version_major": 2,
       "version_minor": 0
      },
      "text/plain": [
       "  0%|          | 0/100 [00:00<?, ?it/s]"
      ]
     },
     "metadata": {},
     "output_type": "display_data"
    },
    {
     "data": {
      "application/vnd.jupyter.widget-view+json": {
       "model_id": "5d8e22c7e609451d93e80543777bcb3f",
       "version_major": 2,
       "version_minor": 0
      },
      "text/plain": [
       "  0%|          | 0/200 [00:00<?, ?it/s]"
      ]
     },
     "metadata": {},
     "output_type": "display_data"
    },
    {
     "data": {
      "application/vnd.jupyter.widget-view+json": {
       "model_id": "8740dbc43d704a3d925c09ce94c2df3e",
       "version_major": 2,
       "version_minor": 0
      },
      "text/plain": [
       "  0%|          | 0/300 [00:00<?, ?it/s]"
      ]
     },
     "metadata": {},
     "output_type": "display_data"
    },
    {
     "data": {
      "application/vnd.jupyter.widget-view+json": {
       "model_id": "c8ef0408d44d423892e6c22e426abafb",
       "version_major": 2,
       "version_minor": 0
      },
      "text/plain": [
       "  0%|          | 0/400 [00:00<?, ?it/s]"
      ]
     },
     "metadata": {},
     "output_type": "display_data"
    },
    {
     "data": {
      "application/vnd.jupyter.widget-view+json": {
       "model_id": "723c8f7f58c24b01818d18e573e4b75b",
       "version_major": 2,
       "version_minor": 0
      },
      "text/plain": [
       "  0%|          | 0/500 [00:00<?, ?it/s]"
      ]
     },
     "metadata": {},
     "output_type": "display_data"
    },
    {
     "data": {
      "application/vnd.jupyter.widget-view+json": {
       "model_id": "d7131427caa44edfb1753ec85bda7d0e",
       "version_major": 2,
       "version_minor": 0
      },
      "text/plain": [
       "  0%|          | 0/600 [00:00<?, ?it/s]"
      ]
     },
     "metadata": {},
     "output_type": "display_data"
    },
    {
     "data": {
      "application/vnd.jupyter.widget-view+json": {
       "model_id": "a50393b341c44034946429126ba0d310",
       "version_major": 2,
       "version_minor": 0
      },
      "text/plain": [
       "  0%|          | 0/700 [00:00<?, ?it/s]"
      ]
     },
     "metadata": {},
     "output_type": "display_data"
    },
    {
     "data": {
      "application/vnd.jupyter.widget-view+json": {
       "model_id": "b3e4db307a27480fad91f4647b1abaf2",
       "version_major": 2,
       "version_minor": 0
      },
      "text/plain": [
       "  0%|          | 0/800 [00:00<?, ?it/s]"
      ]
     },
     "metadata": {},
     "output_type": "display_data"
    },
    {
     "data": {
      "application/vnd.jupyter.widget-view+json": {
       "model_id": "39071e4633824bfb82951800d56aa9fe",
       "version_major": 2,
       "version_minor": 0
      },
      "text/plain": [
       "  0%|          | 0/900 [00:00<?, ?it/s]"
      ]
     },
     "metadata": {},
     "output_type": "display_data"
    },
    {
     "data": {
      "application/vnd.jupyter.widget-view+json": {
       "model_id": "820d96c37d9341aca8630bbb15be5517",
       "version_major": 2,
       "version_minor": 0
      },
      "text/plain": [
       "  0%|          | 0/1000 [00:00<?, ?it/s]"
      ]
     },
     "metadata": {},
     "output_type": "display_data"
    },
    {
     "data": {
      "application/vnd.jupyter.widget-view+json": {
       "model_id": "b59edafd940f48a886221d422e399ded",
       "version_major": 2,
       "version_minor": 0
      },
      "text/plain": [
       "  0%|          | 0/1100 [00:00<?, ?it/s]"
      ]
     },
     "metadata": {},
     "output_type": "display_data"
    },
    {
     "data": {
      "application/vnd.jupyter.widget-view+json": {
       "model_id": "cb40a8f8b36a45feb0eaf4763a1335cc",
       "version_major": 2,
       "version_minor": 0
      },
      "text/plain": [
       "  0%|          | 0/1200 [00:00<?, ?it/s]"
      ]
     },
     "metadata": {},
     "output_type": "display_data"
    },
    {
     "data": {
      "application/vnd.jupyter.widget-view+json": {
       "model_id": "21d8d3a61b944c258785a57d88200031",
       "version_major": 2,
       "version_minor": 0
      },
      "text/plain": [
       "  0%|          | 0/1300 [00:00<?, ?it/s]"
      ]
     },
     "metadata": {},
     "output_type": "display_data"
    },
    {
     "data": {
      "application/vnd.jupyter.widget-view+json": {
       "model_id": "a935920ab1044985b6b4abf141f88917",
       "version_major": 2,
       "version_minor": 0
      },
      "text/plain": [
       "  0%|          | 0/1400 [00:00<?, ?it/s]"
      ]
     },
     "metadata": {},
     "output_type": "display_data"
    },
    {
     "data": {
      "application/vnd.jupyter.widget-view+json": {
       "model_id": "ea98fcaafeb54b3a97bf45072a93c4f1",
       "version_major": 2,
       "version_minor": 0
      },
      "text/plain": [
       "  0%|          | 0/1500 [00:00<?, ?it/s]"
      ]
     },
     "metadata": {},
     "output_type": "display_data"
    },
    {
     "data": {
      "application/vnd.jupyter.widget-view+json": {
       "model_id": "d6f5b96756224a3eb1052366ed36c178",
       "version_major": 2,
       "version_minor": 0
      },
      "text/plain": [
       "  0%|          | 0/1600 [00:00<?, ?it/s]"
      ]
     },
     "metadata": {},
     "output_type": "display_data"
    }
   ],
   "source": [
    "scanpro_8_reps_logit = test_performance(datasets, transform=\"logit\",\n",
    "                                        n_reps=n_reps)"
   ]
  },
  {
   "cell_type": "markdown",
   "id": "e3f9c7d7",
   "metadata": {},
   "source": [
    "#### arcsine"
   ]
  },
  {
   "cell_type": "code",
   "execution_count": 19,
   "id": "f00311ef",
   "metadata": {},
   "outputs": [
    {
     "data": {
      "application/vnd.jupyter.widget-view+json": {
       "model_id": "c190c7fe35f74b239ed2e9857488656d",
       "version_major": 2,
       "version_minor": 0
      },
      "text/plain": [
       "  0%|          | 0/100 [00:00<?, ?it/s]"
      ]
     },
     "metadata": {},
     "output_type": "display_data"
    },
    {
     "data": {
      "application/vnd.jupyter.widget-view+json": {
       "model_id": "4f1b9cd3b9ff4ee1b15c048139980aea",
       "version_major": 2,
       "version_minor": 0
      },
      "text/plain": [
       "  0%|          | 0/200 [00:00<?, ?it/s]"
      ]
     },
     "metadata": {},
     "output_type": "display_data"
    },
    {
     "data": {
      "application/vnd.jupyter.widget-view+json": {
       "model_id": "8b6680212da9462a98089aa82c0ed769",
       "version_major": 2,
       "version_minor": 0
      },
      "text/plain": [
       "  0%|          | 0/300 [00:00<?, ?it/s]"
      ]
     },
     "metadata": {},
     "output_type": "display_data"
    },
    {
     "data": {
      "application/vnd.jupyter.widget-view+json": {
       "model_id": "98cecc73e9c443bd87407177daf5cf6f",
       "version_major": 2,
       "version_minor": 0
      },
      "text/plain": [
       "  0%|          | 0/400 [00:00<?, ?it/s]"
      ]
     },
     "metadata": {},
     "output_type": "display_data"
    },
    {
     "data": {
      "application/vnd.jupyter.widget-view+json": {
       "model_id": "8c9248da9c2845ab99429232b1bb93e9",
       "version_major": 2,
       "version_minor": 0
      },
      "text/plain": [
       "  0%|          | 0/500 [00:00<?, ?it/s]"
      ]
     },
     "metadata": {},
     "output_type": "display_data"
    },
    {
     "data": {
      "application/vnd.jupyter.widget-view+json": {
       "model_id": "918b2daad5d24565954270453ff894b2",
       "version_major": 2,
       "version_minor": 0
      },
      "text/plain": [
       "  0%|          | 0/600 [00:00<?, ?it/s]"
      ]
     },
     "metadata": {},
     "output_type": "display_data"
    },
    {
     "data": {
      "application/vnd.jupyter.widget-view+json": {
       "model_id": "caed27208919445b9d395ea56a0eb3a1",
       "version_major": 2,
       "version_minor": 0
      },
      "text/plain": [
       "  0%|          | 0/700 [00:00<?, ?it/s]"
      ]
     },
     "metadata": {},
     "output_type": "display_data"
    },
    {
     "data": {
      "application/vnd.jupyter.widget-view+json": {
       "model_id": "0307ce3df28247d38d78c1be5a7ca46b",
       "version_major": 2,
       "version_minor": 0
      },
      "text/plain": [
       "  0%|          | 0/800 [00:00<?, ?it/s]"
      ]
     },
     "metadata": {},
     "output_type": "display_data"
    },
    {
     "data": {
      "application/vnd.jupyter.widget-view+json": {
       "model_id": "bc36a0e8838f417c9eed8102df474203",
       "version_major": 2,
       "version_minor": 0
      },
      "text/plain": [
       "  0%|          | 0/900 [00:00<?, ?it/s]"
      ]
     },
     "metadata": {},
     "output_type": "display_data"
    },
    {
     "data": {
      "application/vnd.jupyter.widget-view+json": {
       "model_id": "b7c3fcf8389b4fadbefbc13c764b8075",
       "version_major": 2,
       "version_minor": 0
      },
      "text/plain": [
       "  0%|          | 0/1000 [00:00<?, ?it/s]"
      ]
     },
     "metadata": {},
     "output_type": "display_data"
    },
    {
     "data": {
      "application/vnd.jupyter.widget-view+json": {
       "model_id": "c0ac6380887d4ea09a9422f067d192be",
       "version_major": 2,
       "version_minor": 0
      },
      "text/plain": [
       "  0%|          | 0/1100 [00:00<?, ?it/s]"
      ]
     },
     "metadata": {},
     "output_type": "display_data"
    },
    {
     "data": {
      "application/vnd.jupyter.widget-view+json": {
       "model_id": "c65254fa93a94f5ba6d08d47ca7421de",
       "version_major": 2,
       "version_minor": 0
      },
      "text/plain": [
       "  0%|          | 0/1200 [00:00<?, ?it/s]"
      ]
     },
     "metadata": {},
     "output_type": "display_data"
    },
    {
     "data": {
      "application/vnd.jupyter.widget-view+json": {
       "model_id": "2e640849f4f04f60bfe54cd8ca89d916",
       "version_major": 2,
       "version_minor": 0
      },
      "text/plain": [
       "  0%|          | 0/1300 [00:00<?, ?it/s]"
      ]
     },
     "metadata": {},
     "output_type": "display_data"
    },
    {
     "data": {
      "application/vnd.jupyter.widget-view+json": {
       "model_id": "48b4e04d4dfe46dfb7483f1d0dd65655",
       "version_major": 2,
       "version_minor": 0
      },
      "text/plain": [
       "  0%|          | 0/1400 [00:00<?, ?it/s]"
      ]
     },
     "metadata": {},
     "output_type": "display_data"
    },
    {
     "data": {
      "application/vnd.jupyter.widget-view+json": {
       "model_id": "9520a52083534a048f095eb9f0e78efb",
       "version_major": 2,
       "version_minor": 0
      },
      "text/plain": [
       "  0%|          | 0/1500 [00:00<?, ?it/s]"
      ]
     },
     "metadata": {},
     "output_type": "display_data"
    },
    {
     "data": {
      "application/vnd.jupyter.widget-view+json": {
       "model_id": "5ab10515ee424739ad1baeb37efb39fb",
       "version_major": 2,
       "version_minor": 0
      },
      "text/plain": [
       "  0%|          | 0/1600 [00:00<?, ?it/s]"
      ]
     },
     "metadata": {},
     "output_type": "display_data"
    }
   ],
   "source": [
    "scanpro_8_reps_arcsin = test_performance(datasets, transform=\"arcsin\",\n",
    "                                        n_reps=n_reps)"
   ]
  },
  {
   "cell_type": "markdown",
   "id": "de798bc7",
   "metadata": {},
   "source": [
    "### 10 reps"
   ]
  },
  {
   "cell_type": "code",
   "execution_count": 20,
   "id": "73abbebf",
   "metadata": {},
   "outputs": [],
   "source": [
    "n_reps = 10"
   ]
  },
  {
   "cell_type": "markdown",
   "id": "ce179ce3",
   "metadata": {},
   "source": [
    "#### logit"
   ]
  },
  {
   "cell_type": "code",
   "execution_count": 21,
   "id": "f0fcbffd",
   "metadata": {},
   "outputs": [
    {
     "data": {
      "application/vnd.jupyter.widget-view+json": {
       "model_id": "3a55ff08fbcf43f2915dc50cce41b689",
       "version_major": 2,
       "version_minor": 0
      },
      "text/plain": [
       "  0%|          | 0/100 [00:00<?, ?it/s]"
      ]
     },
     "metadata": {},
     "output_type": "display_data"
    },
    {
     "data": {
      "application/vnd.jupyter.widget-view+json": {
       "model_id": "92fcd0a36f874dbe84485be15a1ba096",
       "version_major": 2,
       "version_minor": 0
      },
      "text/plain": [
       "  0%|          | 0/200 [00:00<?, ?it/s]"
      ]
     },
     "metadata": {},
     "output_type": "display_data"
    },
    {
     "data": {
      "application/vnd.jupyter.widget-view+json": {
       "model_id": "3aed1f083e33445b92894e1130269180",
       "version_major": 2,
       "version_minor": 0
      },
      "text/plain": [
       "  0%|          | 0/300 [00:00<?, ?it/s]"
      ]
     },
     "metadata": {},
     "output_type": "display_data"
    },
    {
     "data": {
      "application/vnd.jupyter.widget-view+json": {
       "model_id": "99f246bcd790441d87a0f14cd2517899",
       "version_major": 2,
       "version_minor": 0
      },
      "text/plain": [
       "  0%|          | 0/400 [00:00<?, ?it/s]"
      ]
     },
     "metadata": {},
     "output_type": "display_data"
    },
    {
     "data": {
      "application/vnd.jupyter.widget-view+json": {
       "model_id": "ffeff23c721b48c1a4d3a86015579699",
       "version_major": 2,
       "version_minor": 0
      },
      "text/plain": [
       "  0%|          | 0/500 [00:00<?, ?it/s]"
      ]
     },
     "metadata": {},
     "output_type": "display_data"
    },
    {
     "data": {
      "application/vnd.jupyter.widget-view+json": {
       "model_id": "4eabd752525d44c4a4dae1d4a63e22ea",
       "version_major": 2,
       "version_minor": 0
      },
      "text/plain": [
       "  0%|          | 0/600 [00:00<?, ?it/s]"
      ]
     },
     "metadata": {},
     "output_type": "display_data"
    },
    {
     "data": {
      "application/vnd.jupyter.widget-view+json": {
       "model_id": "a2871b78621847598743c4cf691708a2",
       "version_major": 2,
       "version_minor": 0
      },
      "text/plain": [
       "  0%|          | 0/700 [00:00<?, ?it/s]"
      ]
     },
     "metadata": {},
     "output_type": "display_data"
    },
    {
     "data": {
      "application/vnd.jupyter.widget-view+json": {
       "model_id": "dc0fa695c1ac4450bc5241bc522b5ade",
       "version_major": 2,
       "version_minor": 0
      },
      "text/plain": [
       "  0%|          | 0/800 [00:00<?, ?it/s]"
      ]
     },
     "metadata": {},
     "output_type": "display_data"
    },
    {
     "data": {
      "application/vnd.jupyter.widget-view+json": {
       "model_id": "cece6c612c3040afa70f5b95b3fce3c9",
       "version_major": 2,
       "version_minor": 0
      },
      "text/plain": [
       "  0%|          | 0/900 [00:00<?, ?it/s]"
      ]
     },
     "metadata": {},
     "output_type": "display_data"
    },
    {
     "data": {
      "application/vnd.jupyter.widget-view+json": {
       "model_id": "458a200cc3d94c7789fea4fa842bd28f",
       "version_major": 2,
       "version_minor": 0
      },
      "text/plain": [
       "  0%|          | 0/1000 [00:00<?, ?it/s]"
      ]
     },
     "metadata": {},
     "output_type": "display_data"
    },
    {
     "data": {
      "application/vnd.jupyter.widget-view+json": {
       "model_id": "7928d7e3d27047d1a8d4a7682d6d3a98",
       "version_major": 2,
       "version_minor": 0
      },
      "text/plain": [
       "  0%|          | 0/1100 [00:00<?, ?it/s]"
      ]
     },
     "metadata": {},
     "output_type": "display_data"
    },
    {
     "data": {
      "application/vnd.jupyter.widget-view+json": {
       "model_id": "6aa0a09787a742aeb14fe04458c16bfd",
       "version_major": 2,
       "version_minor": 0
      },
      "text/plain": [
       "  0%|          | 0/1200 [00:00<?, ?it/s]"
      ]
     },
     "metadata": {},
     "output_type": "display_data"
    },
    {
     "data": {
      "application/vnd.jupyter.widget-view+json": {
       "model_id": "3da96d3027384e77987b33ec7154c706",
       "version_major": 2,
       "version_minor": 0
      },
      "text/plain": [
       "  0%|          | 0/1300 [00:00<?, ?it/s]"
      ]
     },
     "metadata": {},
     "output_type": "display_data"
    },
    {
     "data": {
      "application/vnd.jupyter.widget-view+json": {
       "model_id": "2872be0050a5454d99b9a5cd240d6234",
       "version_major": 2,
       "version_minor": 0
      },
      "text/plain": [
       "  0%|          | 0/1400 [00:00<?, ?it/s]"
      ]
     },
     "metadata": {},
     "output_type": "display_data"
    },
    {
     "data": {
      "application/vnd.jupyter.widget-view+json": {
       "model_id": "80547776dcc545839b03e90ab18ecfcd",
       "version_major": 2,
       "version_minor": 0
      },
      "text/plain": [
       "  0%|          | 0/1500 [00:00<?, ?it/s]"
      ]
     },
     "metadata": {},
     "output_type": "display_data"
    },
    {
     "data": {
      "application/vnd.jupyter.widget-view+json": {
       "model_id": "84614a89845b40edb5d5d3f38d8fc155",
       "version_major": 2,
       "version_minor": 0
      },
      "text/plain": [
       "  0%|          | 0/1600 [00:00<?, ?it/s]"
      ]
     },
     "metadata": {},
     "output_type": "display_data"
    }
   ],
   "source": [
    "scanpro_10_reps_logit = test_performance(datasets, transform=\"logit\",\n",
    "                                        n_reps=n_reps)"
   ]
  },
  {
   "cell_type": "markdown",
   "id": "d21d6f9e",
   "metadata": {},
   "source": [
    "#### arcsine"
   ]
  },
  {
   "cell_type": "code",
   "execution_count": 22,
   "id": "53cf364a",
   "metadata": {},
   "outputs": [
    {
     "data": {
      "application/vnd.jupyter.widget-view+json": {
       "model_id": "4186432617af4397abda08338597e4c1",
       "version_major": 2,
       "version_minor": 0
      },
      "text/plain": [
       "  0%|          | 0/100 [00:00<?, ?it/s]"
      ]
     },
     "metadata": {},
     "output_type": "display_data"
    },
    {
     "data": {
      "application/vnd.jupyter.widget-view+json": {
       "model_id": "08f1e2dd339948f9a80e52aad6e53461",
       "version_major": 2,
       "version_minor": 0
      },
      "text/plain": [
       "  0%|          | 0/200 [00:00<?, ?it/s]"
      ]
     },
     "metadata": {},
     "output_type": "display_data"
    },
    {
     "data": {
      "application/vnd.jupyter.widget-view+json": {
       "model_id": "76a42ccefd6042768cc08a6164680594",
       "version_major": 2,
       "version_minor": 0
      },
      "text/plain": [
       "  0%|          | 0/300 [00:00<?, ?it/s]"
      ]
     },
     "metadata": {},
     "output_type": "display_data"
    },
    {
     "data": {
      "application/vnd.jupyter.widget-view+json": {
       "model_id": "ff90bcc65bd142948e6fdd41c66a8b7c",
       "version_major": 2,
       "version_minor": 0
      },
      "text/plain": [
       "  0%|          | 0/400 [00:00<?, ?it/s]"
      ]
     },
     "metadata": {},
     "output_type": "display_data"
    },
    {
     "data": {
      "application/vnd.jupyter.widget-view+json": {
       "model_id": "0d3c85c2b5344e82b41c0b41627ad0bd",
       "version_major": 2,
       "version_minor": 0
      },
      "text/plain": [
       "  0%|          | 0/500 [00:00<?, ?it/s]"
      ]
     },
     "metadata": {},
     "output_type": "display_data"
    },
    {
     "data": {
      "application/vnd.jupyter.widget-view+json": {
       "model_id": "f50941dd2da04edb83fd5c415847c31d",
       "version_major": 2,
       "version_minor": 0
      },
      "text/plain": [
       "  0%|          | 0/600 [00:00<?, ?it/s]"
      ]
     },
     "metadata": {},
     "output_type": "display_data"
    },
    {
     "data": {
      "application/vnd.jupyter.widget-view+json": {
       "model_id": "2f298e7c939e4da4a9fe6e18919f5e22",
       "version_major": 2,
       "version_minor": 0
      },
      "text/plain": [
       "  0%|          | 0/700 [00:00<?, ?it/s]"
      ]
     },
     "metadata": {},
     "output_type": "display_data"
    },
    {
     "data": {
      "application/vnd.jupyter.widget-view+json": {
       "model_id": "2c4a9fbd731b43d0a75a208c8b5bc50c",
       "version_major": 2,
       "version_minor": 0
      },
      "text/plain": [
       "  0%|          | 0/800 [00:00<?, ?it/s]"
      ]
     },
     "metadata": {},
     "output_type": "display_data"
    },
    {
     "data": {
      "application/vnd.jupyter.widget-view+json": {
       "model_id": "5c1506578a9044b4973817f8a305cf68",
       "version_major": 2,
       "version_minor": 0
      },
      "text/plain": [
       "  0%|          | 0/900 [00:00<?, ?it/s]"
      ]
     },
     "metadata": {},
     "output_type": "display_data"
    },
    {
     "data": {
      "application/vnd.jupyter.widget-view+json": {
       "model_id": "390b767c483f4feebe427f3dc79cb2ea",
       "version_major": 2,
       "version_minor": 0
      },
      "text/plain": [
       "  0%|          | 0/1000 [00:00<?, ?it/s]"
      ]
     },
     "metadata": {},
     "output_type": "display_data"
    },
    {
     "data": {
      "application/vnd.jupyter.widget-view+json": {
       "model_id": "6db85ce616f94f82a481a9e3c19dc854",
       "version_major": 2,
       "version_minor": 0
      },
      "text/plain": [
       "  0%|          | 0/1100 [00:00<?, ?it/s]"
      ]
     },
     "metadata": {},
     "output_type": "display_data"
    },
    {
     "data": {
      "application/vnd.jupyter.widget-view+json": {
       "model_id": "861e4b4c7d544d1e93e1d1481a986f2f",
       "version_major": 2,
       "version_minor": 0
      },
      "text/plain": [
       "  0%|          | 0/1200 [00:00<?, ?it/s]"
      ]
     },
     "metadata": {},
     "output_type": "display_data"
    },
    {
     "data": {
      "application/vnd.jupyter.widget-view+json": {
       "model_id": "adc7dfc057054c98818c70d1d579348b",
       "version_major": 2,
       "version_minor": 0
      },
      "text/plain": [
       "  0%|          | 0/1300 [00:01<?, ?it/s]"
      ]
     },
     "metadata": {},
     "output_type": "display_data"
    },
    {
     "data": {
      "application/vnd.jupyter.widget-view+json": {
       "model_id": "d3e736236a7940f38c59a2c10c9cd4ac",
       "version_major": 2,
       "version_minor": 0
      },
      "text/plain": [
       "  0%|          | 0/1400 [00:00<?, ?it/s]"
      ]
     },
     "metadata": {},
     "output_type": "display_data"
    },
    {
     "data": {
      "application/vnd.jupyter.widget-view+json": {
       "model_id": "c86d8606c59d4ee0a278ce84f7ef1053",
       "version_major": 2,
       "version_minor": 0
      },
      "text/plain": [
       "  0%|          | 0/1500 [00:00<?, ?it/s]"
      ]
     },
     "metadata": {},
     "output_type": "display_data"
    },
    {
     "data": {
      "application/vnd.jupyter.widget-view+json": {
       "model_id": "8693f574326d4f7d97b916443d62d908",
       "version_major": 2,
       "version_minor": 0
      },
      "text/plain": [
       "  0%|          | 0/1600 [00:00<?, ?it/s]"
      ]
     },
     "metadata": {},
     "output_type": "display_data"
    }
   ],
   "source": [
    "scanpro_10_reps_arcsin = test_performance(datasets, transform=\"arcsin\",\n",
    "                                        n_reps=n_reps)"
   ]
  },
  {
   "cell_type": "markdown",
   "id": "120435b9",
   "metadata": {},
   "source": [
    "### 14 reps"
   ]
  },
  {
   "cell_type": "code",
   "execution_count": 23,
   "id": "325d93ac",
   "metadata": {},
   "outputs": [],
   "source": [
    "n_reps = 14"
   ]
  },
  {
   "cell_type": "markdown",
   "id": "b6a5825e",
   "metadata": {},
   "source": [
    "#### logit"
   ]
  },
  {
   "cell_type": "code",
   "execution_count": 24,
   "id": "8ae72b1a",
   "metadata": {},
   "outputs": [
    {
     "data": {
      "application/vnd.jupyter.widget-view+json": {
       "model_id": "c9c0d29c92cc44d1821d287e123358e6",
       "version_major": 2,
       "version_minor": 0
      },
      "text/plain": [
       "  0%|          | 0/100 [00:00<?, ?it/s]"
      ]
     },
     "metadata": {},
     "output_type": "display_data"
    },
    {
     "data": {
      "application/vnd.jupyter.widget-view+json": {
       "model_id": "893e42af84774d80af064645f24cd2f6",
       "version_major": 2,
       "version_minor": 0
      },
      "text/plain": [
       "  0%|          | 0/200 [00:00<?, ?it/s]"
      ]
     },
     "metadata": {},
     "output_type": "display_data"
    },
    {
     "data": {
      "application/vnd.jupyter.widget-view+json": {
       "model_id": "e569284ed6974de6b195726c81a3975a",
       "version_major": 2,
       "version_minor": 0
      },
      "text/plain": [
       "  0%|          | 0/300 [00:00<?, ?it/s]"
      ]
     },
     "metadata": {},
     "output_type": "display_data"
    },
    {
     "data": {
      "application/vnd.jupyter.widget-view+json": {
       "model_id": "a8431c5ec72a4fd1988f5952888017a7",
       "version_major": 2,
       "version_minor": 0
      },
      "text/plain": [
       "  0%|          | 0/400 [00:00<?, ?it/s]"
      ]
     },
     "metadata": {},
     "output_type": "display_data"
    },
    {
     "data": {
      "application/vnd.jupyter.widget-view+json": {
       "model_id": "cebc7b33e3bb4f999aee97a2f28752d7",
       "version_major": 2,
       "version_minor": 0
      },
      "text/plain": [
       "  0%|          | 0/500 [00:00<?, ?it/s]"
      ]
     },
     "metadata": {},
     "output_type": "display_data"
    },
    {
     "data": {
      "application/vnd.jupyter.widget-view+json": {
       "model_id": "426c9c7fbcb84952913cb8491ec9c2dd",
       "version_major": 2,
       "version_minor": 0
      },
      "text/plain": [
       "  0%|          | 0/600 [00:00<?, ?it/s]"
      ]
     },
     "metadata": {},
     "output_type": "display_data"
    },
    {
     "data": {
      "application/vnd.jupyter.widget-view+json": {
       "model_id": "7332d3b47ebe4d6a8556735aa00c072c",
       "version_major": 2,
       "version_minor": 0
      },
      "text/plain": [
       "  0%|          | 0/700 [00:00<?, ?it/s]"
      ]
     },
     "metadata": {},
     "output_type": "display_data"
    },
    {
     "data": {
      "application/vnd.jupyter.widget-view+json": {
       "model_id": "4a5ae40121124f95b23459d7c550aad7",
       "version_major": 2,
       "version_minor": 0
      },
      "text/plain": [
       "  0%|          | 0/800 [00:00<?, ?it/s]"
      ]
     },
     "metadata": {},
     "output_type": "display_data"
    },
    {
     "data": {
      "application/vnd.jupyter.widget-view+json": {
       "model_id": "6a77fb9c818841df94ba3dc5e36237e6",
       "version_major": 2,
       "version_minor": 0
      },
      "text/plain": [
       "  0%|          | 0/900 [00:00<?, ?it/s]"
      ]
     },
     "metadata": {},
     "output_type": "display_data"
    },
    {
     "data": {
      "application/vnd.jupyter.widget-view+json": {
       "model_id": "00a5bd8923874c1cb8156fc86aa4601a",
       "version_major": 2,
       "version_minor": 0
      },
      "text/plain": [
       "  0%|          | 0/1000 [00:00<?, ?it/s]"
      ]
     },
     "metadata": {},
     "output_type": "display_data"
    },
    {
     "data": {
      "application/vnd.jupyter.widget-view+json": {
       "model_id": "c22c9e7acccb4dc98554f74a2df72a85",
       "version_major": 2,
       "version_minor": 0
      },
      "text/plain": [
       "  0%|          | 0/1100 [00:00<?, ?it/s]"
      ]
     },
     "metadata": {},
     "output_type": "display_data"
    },
    {
     "data": {
      "application/vnd.jupyter.widget-view+json": {
       "model_id": "47134e24e1b14edaa8d3b7e05c7da20d",
       "version_major": 2,
       "version_minor": 0
      },
      "text/plain": [
       "  0%|          | 0/1200 [00:00<?, ?it/s]"
      ]
     },
     "metadata": {},
     "output_type": "display_data"
    },
    {
     "data": {
      "application/vnd.jupyter.widget-view+json": {
       "model_id": "430f852e173341f689e03e9a46a58dcf",
       "version_major": 2,
       "version_minor": 0
      },
      "text/plain": [
       "  0%|          | 0/1300 [00:00<?, ?it/s]"
      ]
     },
     "metadata": {},
     "output_type": "display_data"
    },
    {
     "data": {
      "application/vnd.jupyter.widget-view+json": {
       "model_id": "060fb04631c54a489976b0800f6d6224",
       "version_major": 2,
       "version_minor": 0
      },
      "text/plain": [
       "  0%|          | 0/1400 [00:00<?, ?it/s]"
      ]
     },
     "metadata": {},
     "output_type": "display_data"
    },
    {
     "data": {
      "application/vnd.jupyter.widget-view+json": {
       "model_id": "46ac815ea9b54c1cb011f552902688b0",
       "version_major": 2,
       "version_minor": 0
      },
      "text/plain": [
       "  0%|          | 0/1500 [00:00<?, ?it/s]"
      ]
     },
     "metadata": {},
     "output_type": "display_data"
    },
    {
     "data": {
      "application/vnd.jupyter.widget-view+json": {
       "model_id": "1369a2a9f6694681b8105bada2fdb93a",
       "version_major": 2,
       "version_minor": 0
      },
      "text/plain": [
       "  0%|          | 0/1600 [00:00<?, ?it/s]"
      ]
     },
     "metadata": {},
     "output_type": "display_data"
    }
   ],
   "source": [
    "scanpro_14_reps_logit = test_performance(datasets, transform=\"logit\",\n",
    "                                         n_reps=n_reps)"
   ]
  },
  {
   "cell_type": "markdown",
   "id": "d9edf7ac",
   "metadata": {},
   "source": [
    "#### arcsine"
   ]
  },
  {
   "cell_type": "code",
   "execution_count": 25,
   "id": "df83e4d7",
   "metadata": {},
   "outputs": [
    {
     "data": {
      "application/vnd.jupyter.widget-view+json": {
       "model_id": "fa26511708b74c93b1251fbb46ec323c",
       "version_major": 2,
       "version_minor": 0
      },
      "text/plain": [
       "  0%|          | 0/100 [00:00<?, ?it/s]"
      ]
     },
     "metadata": {},
     "output_type": "display_data"
    },
    {
     "data": {
      "application/vnd.jupyter.widget-view+json": {
       "model_id": "9c8c34a7f11044d7b015d75267a8420f",
       "version_major": 2,
       "version_minor": 0
      },
      "text/plain": [
       "  0%|          | 0/200 [00:00<?, ?it/s]"
      ]
     },
     "metadata": {},
     "output_type": "display_data"
    },
    {
     "data": {
      "application/vnd.jupyter.widget-view+json": {
       "model_id": "3804645994f346ee9e8e276d693646b1",
       "version_major": 2,
       "version_minor": 0
      },
      "text/plain": [
       "  0%|          | 0/300 [00:00<?, ?it/s]"
      ]
     },
     "metadata": {},
     "output_type": "display_data"
    },
    {
     "data": {
      "application/vnd.jupyter.widget-view+json": {
       "model_id": "6d8b6270a2344c188b0c777136a99bde",
       "version_major": 2,
       "version_minor": 0
      },
      "text/plain": [
       "  0%|          | 0/400 [00:00<?, ?it/s]"
      ]
     },
     "metadata": {},
     "output_type": "display_data"
    },
    {
     "data": {
      "application/vnd.jupyter.widget-view+json": {
       "model_id": "fec4e2201d624f1bab4259168e32697c",
       "version_major": 2,
       "version_minor": 0
      },
      "text/plain": [
       "  0%|          | 0/500 [00:00<?, ?it/s]"
      ]
     },
     "metadata": {},
     "output_type": "display_data"
    },
    {
     "data": {
      "application/vnd.jupyter.widget-view+json": {
       "model_id": "61bbb899cb8b4361a205785ebf349246",
       "version_major": 2,
       "version_minor": 0
      },
      "text/plain": [
       "  0%|          | 0/600 [00:00<?, ?it/s]"
      ]
     },
     "metadata": {},
     "output_type": "display_data"
    },
    {
     "data": {
      "application/vnd.jupyter.widget-view+json": {
       "model_id": "8199c15613444945a1f83c0632fa68ec",
       "version_major": 2,
       "version_minor": 0
      },
      "text/plain": [
       "  0%|          | 0/700 [00:00<?, ?it/s]"
      ]
     },
     "metadata": {},
     "output_type": "display_data"
    },
    {
     "data": {
      "application/vnd.jupyter.widget-view+json": {
       "model_id": "7fbd0e79c1a34c0c8345ceab45256df1",
       "version_major": 2,
       "version_minor": 0
      },
      "text/plain": [
       "  0%|          | 0/800 [00:00<?, ?it/s]"
      ]
     },
     "metadata": {},
     "output_type": "display_data"
    },
    {
     "data": {
      "application/vnd.jupyter.widget-view+json": {
       "model_id": "aa59afadc2e9401186fa705dbd5d390a",
       "version_major": 2,
       "version_minor": 0
      },
      "text/plain": [
       "  0%|          | 0/900 [00:00<?, ?it/s]"
      ]
     },
     "metadata": {},
     "output_type": "display_data"
    },
    {
     "data": {
      "application/vnd.jupyter.widget-view+json": {
       "model_id": "3eef7cac7a4a4348a827ef0e83a03281",
       "version_major": 2,
       "version_minor": 0
      },
      "text/plain": [
       "  0%|          | 0/1000 [00:00<?, ?it/s]"
      ]
     },
     "metadata": {},
     "output_type": "display_data"
    },
    {
     "data": {
      "application/vnd.jupyter.widget-view+json": {
       "model_id": "0566a1393f2f406ca782dd044d31b7d9",
       "version_major": 2,
       "version_minor": 0
      },
      "text/plain": [
       "  0%|          | 0/1100 [00:00<?, ?it/s]"
      ]
     },
     "metadata": {},
     "output_type": "display_data"
    },
    {
     "data": {
      "application/vnd.jupyter.widget-view+json": {
       "model_id": "f9348fb71fb84da59999af2e5e89fbc1",
       "version_major": 2,
       "version_minor": 0
      },
      "text/plain": [
       "  0%|          | 0/1200 [00:00<?, ?it/s]"
      ]
     },
     "metadata": {},
     "output_type": "display_data"
    },
    {
     "data": {
      "application/vnd.jupyter.widget-view+json": {
       "model_id": "417b36ee2e844c12b62194f3d6164bf3",
       "version_major": 2,
       "version_minor": 0
      },
      "text/plain": [
       "  0%|          | 0/1300 [00:00<?, ?it/s]"
      ]
     },
     "metadata": {},
     "output_type": "display_data"
    },
    {
     "data": {
      "application/vnd.jupyter.widget-view+json": {
       "model_id": "11299a3d3842432090187be4de1eeb23",
       "version_major": 2,
       "version_minor": 0
      },
      "text/plain": [
       "  0%|          | 0/1400 [00:00<?, ?it/s]"
      ]
     },
     "metadata": {},
     "output_type": "display_data"
    },
    {
     "data": {
      "application/vnd.jupyter.widget-view+json": {
       "model_id": "d29d6bb678574d1ead3f02af74b3edbe",
       "version_major": 2,
       "version_minor": 0
      },
      "text/plain": [
       "  0%|          | 0/1500 [00:00<?, ?it/s]"
      ]
     },
     "metadata": {},
     "output_type": "display_data"
    },
    {
     "data": {
      "application/vnd.jupyter.widget-view+json": {
       "model_id": "9c4e6be5185c4d6da03ac6224bd866d8",
       "version_major": 2,
       "version_minor": 0
      },
      "text/plain": [
       "  0%|          | 0/1600 [00:00<?, ?it/s]"
      ]
     },
     "metadata": {},
     "output_type": "display_data"
    }
   ],
   "source": [
    "scanpro_14_reps_arcsin = test_performance(datasets, transform=\"arcsin\",\n",
    "                                         n_reps=n_reps)"
   ]
  },
  {
   "cell_type": "markdown",
   "id": "0fd767d5",
   "metadata": {},
   "source": [
    "### Results"
   ]
  },
  {
   "cell_type": "code",
   "execution_count": 26,
   "id": "9ac8e2ac",
   "metadata": {},
   "outputs": [],
   "source": [
    "methods = [f'{trans}_{rep}_reps' for rep in [2,4,8,10,14] for trans in ['logit', 'arcsin']]\n",
    "\n",
    "results = [scanpro_2_reps_logit, scanpro_2_reps_arcsin,\n",
    "           scanpro_4_reps_logit, scanpro_4_reps_arcsin,\n",
    "           scanpro_8_reps_logit, scanpro_8_reps_arcsin,\n",
    "           scanpro_10_reps_logit, scanpro_10_reps_arcsin,\n",
    "           scanpro_14_reps_logit, scanpro_14_reps_arcsin]\n",
    "\n",
    "all_results = {mu: {method: None for method in methods} for mu in mu_list}\n",
    "\n",
    "for i, method in enumerate(methods):\n",
    "    for j, mu in enumerate(mu_list):\n",
    "    \n",
    "        all_results[mu][method] = pd.concat(results[i][j*100:j*100+100])"
   ]
  },
  {
   "cell_type": "code",
   "execution_count": 27,
   "id": "3293ab48",
   "metadata": {},
   "outputs": [],
   "source": [
    "# get p_values for each method\n",
    "p_values = {count: {method: None for method in methods} for count in mean_counts}\n",
    "\n",
    "for method in methods:\n",
    "    for i, count in enumerate(mean_counts):\n",
    "\n",
    "        p_values[count][method] = [all_results[mu_list[i]][method].iloc[j:j+7, -1].to_list() for j in np.arange(0, 700, 7)]"
   ]
  },
  {
   "cell_type": "markdown",
   "id": "f5f94810",
   "metadata": {},
   "source": [
    "#### Hit rate"
   ]
  },
  {
   "cell_type": "code",
   "execution_count": 28,
   "id": "1b403374",
   "metadata": {},
   "outputs": [
    {
     "data": {
      "text/html": [
       "<div>\n",
       "<style scoped>\n",
       "    .dataframe tbody tr th:only-of-type {\n",
       "        vertical-align: middle;\n",
       "    }\n",
       "\n",
       "    .dataframe tbody tr th {\n",
       "        vertical-align: top;\n",
       "    }\n",
       "\n",
       "    .dataframe thead th {\n",
       "        text-align: right;\n",
       "    }\n",
       "</style>\n",
       "<table border=\"1\" class=\"dataframe\">\n",
       "  <thead>\n",
       "    <tr style=\"text-align: right;\">\n",
       "      <th></th>\n",
       "      <th>method</th>\n",
       "      <th>mu</th>\n",
       "      <th>hit_rate</th>\n",
       "      <th>mean_counts</th>\n",
       "      <th>trans</th>\n",
       "    </tr>\n",
       "  </thead>\n",
       "  <tbody>\n",
       "    <tr>\n",
       "      <th>0</th>\n",
       "      <td>logit_2_reps</td>\n",
       "      <td>250</td>\n",
       "      <td>0.0</td>\n",
       "      <td>1957.24</td>\n",
       "      <td>logit</td>\n",
       "    </tr>\n",
       "    <tr>\n",
       "      <th>1</th>\n",
       "      <td>arcsin_2_reps</td>\n",
       "      <td>250</td>\n",
       "      <td>5.0</td>\n",
       "      <td>1957.24</td>\n",
       "      <td>arcsin</td>\n",
       "    </tr>\n",
       "    <tr>\n",
       "      <th>2</th>\n",
       "      <td>logit_4_reps</td>\n",
       "      <td>250</td>\n",
       "      <td>0.0</td>\n",
       "      <td>1957.24</td>\n",
       "      <td>logit</td>\n",
       "    </tr>\n",
       "    <tr>\n",
       "      <th>3</th>\n",
       "      <td>arcsin_4_reps</td>\n",
       "      <td>250</td>\n",
       "      <td>2.0</td>\n",
       "      <td>1957.24</td>\n",
       "      <td>arcsin</td>\n",
       "    </tr>\n",
       "    <tr>\n",
       "      <th>4</th>\n",
       "      <td>logit_8_reps</td>\n",
       "      <td>250</td>\n",
       "      <td>0.0</td>\n",
       "      <td>1957.24</td>\n",
       "      <td>logit</td>\n",
       "    </tr>\n",
       "    <tr>\n",
       "      <th>...</th>\n",
       "      <td>...</td>\n",
       "      <td>...</td>\n",
       "      <td>...</td>\n",
       "      <td>...</td>\n",
       "      <td>...</td>\n",
       "    </tr>\n",
       "    <tr>\n",
       "      <th>155</th>\n",
       "      <td>arcsin_8_reps</td>\n",
       "      <td>12500</td>\n",
       "      <td>34.0</td>\n",
       "      <td>98387.63</td>\n",
       "      <td>arcsin</td>\n",
       "    </tr>\n",
       "    <tr>\n",
       "      <th>156</th>\n",
       "      <td>logit_10_reps</td>\n",
       "      <td>12500</td>\n",
       "      <td>10.0</td>\n",
       "      <td>98387.63</td>\n",
       "      <td>logit</td>\n",
       "    </tr>\n",
       "    <tr>\n",
       "      <th>157</th>\n",
       "      <td>arcsin_10_reps</td>\n",
       "      <td>12500</td>\n",
       "      <td>24.0</td>\n",
       "      <td>98387.63</td>\n",
       "      <td>arcsin</td>\n",
       "    </tr>\n",
       "    <tr>\n",
       "      <th>158</th>\n",
       "      <td>logit_14_reps</td>\n",
       "      <td>12500</td>\n",
       "      <td>3.0</td>\n",
       "      <td>98387.63</td>\n",
       "      <td>logit</td>\n",
       "    </tr>\n",
       "    <tr>\n",
       "      <th>159</th>\n",
       "      <td>arcsin_14_reps</td>\n",
       "      <td>12500</td>\n",
       "      <td>15.0</td>\n",
       "      <td>98387.63</td>\n",
       "      <td>arcsin</td>\n",
       "    </tr>\n",
       "  </tbody>\n",
       "</table>\n",
       "<p>160 rows × 5 columns</p>\n",
       "</div>"
      ],
      "text/plain": [
       "             method     mu  hit_rate  mean_counts   trans\n",
       "0      logit_2_reps    250       0.0      1957.24   logit\n",
       "1     arcsin_2_reps    250       5.0      1957.24  arcsin\n",
       "2      logit_4_reps    250       0.0      1957.24   logit\n",
       "3     arcsin_4_reps    250       2.0      1957.24  arcsin\n",
       "4      logit_8_reps    250       0.0      1957.24   logit\n",
       "..              ...    ...       ...          ...     ...\n",
       "155   arcsin_8_reps  12500      34.0     98387.63  arcsin\n",
       "156   logit_10_reps  12500      10.0     98387.63   logit\n",
       "157  arcsin_10_reps  12500      24.0     98387.63  arcsin\n",
       "158   logit_14_reps  12500       3.0     98387.63   logit\n",
       "159  arcsin_14_reps  12500      15.0     98387.63  arcsin\n",
       "\n",
       "[160 rows x 5 columns]"
      ]
     },
     "execution_count": 28,
     "metadata": {},
     "output_type": "execute_result"
    }
   ],
   "source": [
    "hit_rates = calc_hitrates(all_results, compare_p_values)\n",
    "# add mean cell counts\n",
    "hit_rates['mean_counts'] = np.repeat(mean_counts, len(methods))\n",
    "# add transofrmation as seperate column\n",
    "hit_rates['trans'] = hit_rates['method'].str.split('_').str[0]\n",
    "\n",
    "hit_rates"
   ]
  },
  {
   "cell_type": "code",
   "execution_count": 31,
   "id": "456675e9",
   "metadata": {},
   "outputs": [],
   "source": [
    "# save\n",
    "hit_rates.to_csv(f'{OUT_PATH}/benchmark_hitrates.tsv', sep='\\t')"
   ]
  },
  {
   "cell_type": "markdown",
   "id": "61562944",
   "metadata": {},
   "source": [
    "#### specificity, sensitivity and fpr"
   ]
  },
  {
   "cell_type": "code",
   "execution_count": 32,
   "id": "3ee17bed",
   "metadata": {},
   "outputs": [
    {
     "data": {
      "text/html": [
       "<div>\n",
       "<style scoped>\n",
       "    .dataframe tbody tr th:only-of-type {\n",
       "        vertical-align: middle;\n",
       "    }\n",
       "\n",
       "    .dataframe tbody tr th {\n",
       "        vertical-align: top;\n",
       "    }\n",
       "\n",
       "    .dataframe thead th {\n",
       "        text-align: right;\n",
       "    }\n",
       "</style>\n",
       "<table border=\"1\" class=\"dataframe\">\n",
       "  <thead>\n",
       "    <tr style=\"text-align: right;\">\n",
       "      <th></th>\n",
       "      <th>method</th>\n",
       "      <th>sensitivity</th>\n",
       "      <th>specificity</th>\n",
       "      <th>fpr</th>\n",
       "      <th>auroc</th>\n",
       "      <th>mean_counts</th>\n",
       "      <th>reps</th>\n",
       "      <th>trans</th>\n",
       "    </tr>\n",
       "  </thead>\n",
       "  <tbody>\n",
       "    <tr>\n",
       "      <th>0</th>\n",
       "      <td>logit_2_reps</td>\n",
       "      <td>0.346667</td>\n",
       "      <td>0.9900</td>\n",
       "      <td>0.0100</td>\n",
       "      <td>0.668333</td>\n",
       "      <td>1957.24</td>\n",
       "      <td>2</td>\n",
       "      <td>logit</td>\n",
       "    </tr>\n",
       "    <tr>\n",
       "      <th>1</th>\n",
       "      <td>arcsin_2_reps</td>\n",
       "      <td>0.663333</td>\n",
       "      <td>0.9125</td>\n",
       "      <td>0.0875</td>\n",
       "      <td>0.787917</td>\n",
       "      <td>1957.24</td>\n",
       "      <td>2</td>\n",
       "      <td>arcsin</td>\n",
       "    </tr>\n",
       "    <tr>\n",
       "      <th>2</th>\n",
       "      <td>logit_4_reps</td>\n",
       "      <td>0.266667</td>\n",
       "      <td>1.0000</td>\n",
       "      <td>0.0000</td>\n",
       "      <td>0.633333</td>\n",
       "      <td>1957.24</td>\n",
       "      <td>4</td>\n",
       "      <td>logit</td>\n",
       "    </tr>\n",
       "    <tr>\n",
       "      <th>3</th>\n",
       "      <td>arcsin_4_reps</td>\n",
       "      <td>0.553333</td>\n",
       "      <td>0.9625</td>\n",
       "      <td>0.0375</td>\n",
       "      <td>0.757917</td>\n",
       "      <td>1957.24</td>\n",
       "      <td>4</td>\n",
       "      <td>arcsin</td>\n",
       "    </tr>\n",
       "    <tr>\n",
       "      <th>4</th>\n",
       "      <td>logit_8_reps</td>\n",
       "      <td>0.060000</td>\n",
       "      <td>1.0000</td>\n",
       "      <td>0.0000</td>\n",
       "      <td>0.530000</td>\n",
       "      <td>1957.24</td>\n",
       "      <td>8</td>\n",
       "      <td>logit</td>\n",
       "    </tr>\n",
       "    <tr>\n",
       "      <th>...</th>\n",
       "      <td>...</td>\n",
       "      <td>...</td>\n",
       "      <td>...</td>\n",
       "      <td>...</td>\n",
       "      <td>...</td>\n",
       "      <td>...</td>\n",
       "      <td>...</td>\n",
       "      <td>...</td>\n",
       "    </tr>\n",
       "    <tr>\n",
       "      <th>155</th>\n",
       "      <td>arcsin_8_reps</td>\n",
       "      <td>0.860000</td>\n",
       "      <td>0.8300</td>\n",
       "      <td>0.1700</td>\n",
       "      <td>0.845000</td>\n",
       "      <td>98387.63</td>\n",
       "      <td>8</td>\n",
       "      <td>arcsin</td>\n",
       "    </tr>\n",
       "    <tr>\n",
       "      <th>156</th>\n",
       "      <td>logit_10_reps</td>\n",
       "      <td>0.530000</td>\n",
       "      <td>0.9825</td>\n",
       "      <td>0.0175</td>\n",
       "      <td>0.756250</td>\n",
       "      <td>98387.63</td>\n",
       "      <td>10</td>\n",
       "      <td>logit</td>\n",
       "    </tr>\n",
       "    <tr>\n",
       "      <th>157</th>\n",
       "      <td>arcsin_10_reps</td>\n",
       "      <td>0.723333</td>\n",
       "      <td>0.9250</td>\n",
       "      <td>0.0750</td>\n",
       "      <td>0.824167</td>\n",
       "      <td>98387.63</td>\n",
       "      <td>10</td>\n",
       "      <td>arcsin</td>\n",
       "    </tr>\n",
       "    <tr>\n",
       "      <th>158</th>\n",
       "      <td>logit_14_reps</td>\n",
       "      <td>0.306667</td>\n",
       "      <td>0.9950</td>\n",
       "      <td>0.0050</td>\n",
       "      <td>0.650833</td>\n",
       "      <td>98387.63</td>\n",
       "      <td>14</td>\n",
       "      <td>logit</td>\n",
       "    </tr>\n",
       "    <tr>\n",
       "      <th>159</th>\n",
       "      <td>arcsin_14_reps</td>\n",
       "      <td>0.553333</td>\n",
       "      <td>0.9625</td>\n",
       "      <td>0.0375</td>\n",
       "      <td>0.757917</td>\n",
       "      <td>98387.63</td>\n",
       "      <td>14</td>\n",
       "      <td>arcsin</td>\n",
       "    </tr>\n",
       "  </tbody>\n",
       "</table>\n",
       "<p>160 rows × 8 columns</p>\n",
       "</div>"
      ],
      "text/plain": [
       "             method  sensitivity  specificity     fpr     auroc  mean_counts   \n",
       "0      logit_2_reps     0.346667       0.9900  0.0100  0.668333      1957.24  \\\n",
       "1     arcsin_2_reps     0.663333       0.9125  0.0875  0.787917      1957.24   \n",
       "2      logit_4_reps     0.266667       1.0000  0.0000  0.633333      1957.24   \n",
       "3     arcsin_4_reps     0.553333       0.9625  0.0375  0.757917      1957.24   \n",
       "4      logit_8_reps     0.060000       1.0000  0.0000  0.530000      1957.24   \n",
       "..              ...          ...          ...     ...       ...          ...   \n",
       "155   arcsin_8_reps     0.860000       0.8300  0.1700  0.845000     98387.63   \n",
       "156   logit_10_reps     0.530000       0.9825  0.0175  0.756250     98387.63   \n",
       "157  arcsin_10_reps     0.723333       0.9250  0.0750  0.824167     98387.63   \n",
       "158   logit_14_reps     0.306667       0.9950  0.0050  0.650833     98387.63   \n",
       "159  arcsin_14_reps     0.553333       0.9625  0.0375  0.757917     98387.63   \n",
       "\n",
       "    reps   trans  \n",
       "0      2   logit  \n",
       "1      2  arcsin  \n",
       "2      4   logit  \n",
       "3      4  arcsin  \n",
       "4      8   logit  \n",
       "..   ...     ...  \n",
       "155    8  arcsin  \n",
       "156   10   logit  \n",
       "157   10  arcsin  \n",
       "158   14   logit  \n",
       "159   14  arcsin  \n",
       "\n",
       "[160 rows x 8 columns]"
      ]
     },
     "execution_count": 32,
     "metadata": {},
     "output_type": "execute_result"
    }
   ],
   "source": [
    "stats = get_stats(p_values, mean_counts, n_sims=100)\n",
    "stats"
   ]
  },
  {
   "cell_type": "code",
   "execution_count": 33,
   "id": "345b8c98",
   "metadata": {},
   "outputs": [],
   "source": [
    "# save\n",
    "stats.to_csv(f'{OUT_PATH}/benchmark_stats.tsv', sep='\\t')"
   ]
  },
  {
   "cell_type": "code",
   "execution_count": 34,
   "id": "afb75cfb",
   "metadata": {},
   "outputs": [
    {
     "data": {
      "text/html": [
       "<div>\n",
       "<style scoped>\n",
       "    .dataframe tbody tr th:only-of-type {\n",
       "        vertical-align: middle;\n",
       "    }\n",
       "\n",
       "    .dataframe tbody tr th {\n",
       "        vertical-align: top;\n",
       "    }\n",
       "\n",
       "    .dataframe thead th {\n",
       "        text-align: right;\n",
       "    }\n",
       "</style>\n",
       "<table border=\"1\" class=\"dataframe\">\n",
       "  <thead>\n",
       "    <tr style=\"text-align: right;\">\n",
       "      <th></th>\n",
       "      <th>method</th>\n",
       "      <th>sensitivity</th>\n",
       "      <th>specificity</th>\n",
       "      <th>fpr</th>\n",
       "      <th>auroc</th>\n",
       "      <th>mean_counts</th>\n",
       "      <th>reps</th>\n",
       "      <th>trans</th>\n",
       "    </tr>\n",
       "  </thead>\n",
       "  <tbody>\n",
       "    <tr>\n",
       "      <th>1</th>\n",
       "      <td>arcsin_2_reps</td>\n",
       "      <td>0.663333</td>\n",
       "      <td>0.9125</td>\n",
       "      <td>0.0875</td>\n",
       "      <td>0.787917</td>\n",
       "      <td>1957.24</td>\n",
       "      <td>2</td>\n",
       "      <td>arcsin</td>\n",
       "    </tr>\n",
       "    <tr>\n",
       "      <th>11</th>\n",
       "      <td>arcsin_2_reps</td>\n",
       "      <td>0.796667</td>\n",
       "      <td>0.8100</td>\n",
       "      <td>0.1900</td>\n",
       "      <td>0.803333</td>\n",
       "      <td>3945.37</td>\n",
       "      <td>2</td>\n",
       "      <td>arcsin</td>\n",
       "    </tr>\n",
       "    <tr>\n",
       "      <th>22</th>\n",
       "      <td>logit_4_reps</td>\n",
       "      <td>0.620000</td>\n",
       "      <td>0.9625</td>\n",
       "      <td>0.0375</td>\n",
       "      <td>0.791250</td>\n",
       "      <td>5913.71</td>\n",
       "      <td>4</td>\n",
       "      <td>logit</td>\n",
       "    </tr>\n",
       "    <tr>\n",
       "      <th>30</th>\n",
       "      <td>logit_2_reps</td>\n",
       "      <td>0.863333</td>\n",
       "      <td>0.7575</td>\n",
       "      <td>0.2425</td>\n",
       "      <td>0.810417</td>\n",
       "      <td>7876.67</td>\n",
       "      <td>2</td>\n",
       "      <td>logit</td>\n",
       "    </tr>\n",
       "    <tr>\n",
       "      <th>43</th>\n",
       "      <td>arcsin_4_reps</td>\n",
       "      <td>0.810000</td>\n",
       "      <td>0.7900</td>\n",
       "      <td>0.2100</td>\n",
       "      <td>0.800000</td>\n",
       "      <td>9835.37</td>\n",
       "      <td>4</td>\n",
       "      <td>arcsin</td>\n",
       "    </tr>\n",
       "    <tr>\n",
       "      <th>53</th>\n",
       "      <td>arcsin_4_reps</td>\n",
       "      <td>0.843333</td>\n",
       "      <td>0.7325</td>\n",
       "      <td>0.2675</td>\n",
       "      <td>0.787917</td>\n",
       "      <td>11808.26</td>\n",
       "      <td>4</td>\n",
       "      <td>arcsin</td>\n",
       "    </tr>\n",
       "    <tr>\n",
       "      <th>63</th>\n",
       "      <td>arcsin_4_reps</td>\n",
       "      <td>0.900000</td>\n",
       "      <td>0.7000</td>\n",
       "      <td>0.3000</td>\n",
       "      <td>0.800000</td>\n",
       "      <td>15735.60</td>\n",
       "      <td>4</td>\n",
       "      <td>arcsin</td>\n",
       "    </tr>\n",
       "    <tr>\n",
       "      <th>75</th>\n",
       "      <td>arcsin_8_reps</td>\n",
       "      <td>0.640000</td>\n",
       "      <td>0.9675</td>\n",
       "      <td>0.0325</td>\n",
       "      <td>0.803750</td>\n",
       "      <td>19675.16</td>\n",
       "      <td>8</td>\n",
       "      <td>arcsin</td>\n",
       "    </tr>\n",
       "    <tr>\n",
       "      <th>85</th>\n",
       "      <td>arcsin_8_reps</td>\n",
       "      <td>0.656667</td>\n",
       "      <td>0.9375</td>\n",
       "      <td>0.0625</td>\n",
       "      <td>0.797083</td>\n",
       "      <td>27532.11</td>\n",
       "      <td>8</td>\n",
       "      <td>arcsin</td>\n",
       "    </tr>\n",
       "    <tr>\n",
       "      <th>95</th>\n",
       "      <td>arcsin_8_reps</td>\n",
       "      <td>0.716667</td>\n",
       "      <td>0.9250</td>\n",
       "      <td>0.0750</td>\n",
       "      <td>0.820833</td>\n",
       "      <td>39343.57</td>\n",
       "      <td>8</td>\n",
       "      <td>arcsin</td>\n",
       "    </tr>\n",
       "    <tr>\n",
       "      <th>105</th>\n",
       "      <td>arcsin_8_reps</td>\n",
       "      <td>0.750000</td>\n",
       "      <td>0.9175</td>\n",
       "      <td>0.0825</td>\n",
       "      <td>0.833750</td>\n",
       "      <td>47203.26</td>\n",
       "      <td>8</td>\n",
       "      <td>arcsin</td>\n",
       "    </tr>\n",
       "    <tr>\n",
       "      <th>115</th>\n",
       "      <td>arcsin_8_reps</td>\n",
       "      <td>0.770000</td>\n",
       "      <td>0.8750</td>\n",
       "      <td>0.1250</td>\n",
       "      <td>0.822500</td>\n",
       "      <td>55074.06</td>\n",
       "      <td>8</td>\n",
       "      <td>arcsin</td>\n",
       "    </tr>\n",
       "    <tr>\n",
       "      <th>125</th>\n",
       "      <td>arcsin_8_reps</td>\n",
       "      <td>0.796667</td>\n",
       "      <td>0.8750</td>\n",
       "      <td>0.1250</td>\n",
       "      <td>0.835833</td>\n",
       "      <td>70849.16</td>\n",
       "      <td>8</td>\n",
       "      <td>arcsin</td>\n",
       "    </tr>\n",
       "    <tr>\n",
       "      <th>135</th>\n",
       "      <td>arcsin_8_reps</td>\n",
       "      <td>0.820000</td>\n",
       "      <td>0.8625</td>\n",
       "      <td>0.1375</td>\n",
       "      <td>0.841250</td>\n",
       "      <td>78693.82</td>\n",
       "      <td>8</td>\n",
       "      <td>arcsin</td>\n",
       "    </tr>\n",
       "    <tr>\n",
       "      <th>145</th>\n",
       "      <td>arcsin_8_reps</td>\n",
       "      <td>0.830000</td>\n",
       "      <td>0.8350</td>\n",
       "      <td>0.1650</td>\n",
       "      <td>0.832500</td>\n",
       "      <td>86561.56</td>\n",
       "      <td>8</td>\n",
       "      <td>arcsin</td>\n",
       "    </tr>\n",
       "    <tr>\n",
       "      <th>155</th>\n",
       "      <td>arcsin_8_reps</td>\n",
       "      <td>0.860000</td>\n",
       "      <td>0.8300</td>\n",
       "      <td>0.1700</td>\n",
       "      <td>0.845000</td>\n",
       "      <td>98387.63</td>\n",
       "      <td>8</td>\n",
       "      <td>arcsin</td>\n",
       "    </tr>\n",
       "  </tbody>\n",
       "</table>\n",
       "</div>"
      ],
      "text/plain": [
       "            method  sensitivity  specificity     fpr     auroc  mean_counts   \n",
       "1    arcsin_2_reps     0.663333       0.9125  0.0875  0.787917      1957.24  \\\n",
       "11   arcsin_2_reps     0.796667       0.8100  0.1900  0.803333      3945.37   \n",
       "22    logit_4_reps     0.620000       0.9625  0.0375  0.791250      5913.71   \n",
       "30    logit_2_reps     0.863333       0.7575  0.2425  0.810417      7876.67   \n",
       "43   arcsin_4_reps     0.810000       0.7900  0.2100  0.800000      9835.37   \n",
       "53   arcsin_4_reps     0.843333       0.7325  0.2675  0.787917     11808.26   \n",
       "63   arcsin_4_reps     0.900000       0.7000  0.3000  0.800000     15735.60   \n",
       "75   arcsin_8_reps     0.640000       0.9675  0.0325  0.803750     19675.16   \n",
       "85   arcsin_8_reps     0.656667       0.9375  0.0625  0.797083     27532.11   \n",
       "95   arcsin_8_reps     0.716667       0.9250  0.0750  0.820833     39343.57   \n",
       "105  arcsin_8_reps     0.750000       0.9175  0.0825  0.833750     47203.26   \n",
       "115  arcsin_8_reps     0.770000       0.8750  0.1250  0.822500     55074.06   \n",
       "125  arcsin_8_reps     0.796667       0.8750  0.1250  0.835833     70849.16   \n",
       "135  arcsin_8_reps     0.820000       0.8625  0.1375  0.841250     78693.82   \n",
       "145  arcsin_8_reps     0.830000       0.8350  0.1650  0.832500     86561.56   \n",
       "155  arcsin_8_reps     0.860000       0.8300  0.1700  0.845000     98387.63   \n",
       "\n",
       "    reps   trans  \n",
       "1      2  arcsin  \n",
       "11     2  arcsin  \n",
       "22     4   logit  \n",
       "30     2   logit  \n",
       "43     4  arcsin  \n",
       "53     4  arcsin  \n",
       "63     4  arcsin  \n",
       "75     8  arcsin  \n",
       "85     8  arcsin  \n",
       "95     8  arcsin  \n",
       "105    8  arcsin  \n",
       "115    8  arcsin  \n",
       "125    8  arcsin  \n",
       "135    8  arcsin  \n",
       "145    8  arcsin  \n",
       "155    8  arcsin  "
      ]
     },
     "execution_count": 34,
     "metadata": {},
     "output_type": "execute_result"
    }
   ],
   "source": [
    "# get best auroc for each mean count\n",
    "best_auroc = stats.sort_values('auroc', ascending=False).drop_duplicates('mean_counts').sort_values('mean_counts')\n",
    "best_auroc"
   ]
  },
  {
   "cell_type": "code",
   "execution_count": 35,
   "id": "d2b4580b",
   "metadata": {},
   "outputs": [],
   "source": [
    "# save\n",
    "best_auroc.to_csv(f'{OUT_PATH}/benchmark_best_auroc.tsv', sep='\\t')"
   ]
  },
  {
   "cell_type": "code",
   "execution_count": null,
   "id": "8d021c54",
   "metadata": {},
   "outputs": [],
   "source": []
  }
 ],
 "metadata": {
  "kernelspec": {
   "display_name": "pypropeller",
   "language": "python",
   "name": "pypropeller"
  },
  "language_info": {
   "codemirror_mode": {
    "name": "ipython",
    "version": 3
   },
   "file_extension": ".py",
   "mimetype": "text/x-python",
   "name": "python",
   "nbconvert_exporter": "python",
   "pygments_lexer": "ipython3",
   "version": "3.10.12"
  }
 },
 "nbformat": 4,
 "nbformat_minor": 5
}
