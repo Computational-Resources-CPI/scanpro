{
 "cells": [
  {
   "cell_type": "markdown",
   "metadata": {},
   "source": [
    "# 5. scATAC profiles of fetal tissues from the fetal cell atlas dataset\n",
    "Domcke S, Hill AJ, Daza RM, Cao J, O’Day DR, Pliner HA, et al. A human cell atlas of fetal chromatin accessibility. Science. 2020;370:eaba7612"
   ]
  },
  {
   "cell_type": "code",
   "execution_count": 1,
   "metadata": {},
   "outputs": [],
   "source": [
    "import os\n",
    "import sys\n",
    "import pandas as pd\n",
    "import numpy as np\n",
    "import seaborn as sns\n",
    "import matplotlib.pyplot as plt\n",
    "\n",
    "# Scanpro functions\n",
    "from scanpro import scanpro\n",
    "from scanpro.utils import convert_counts_to_df\n",
    "\n",
    "#Setup path to R for propeller\n",
    "R_home = os.path.dirname(sys.executable)[:-4] + \"/lib/R\"\n",
    "os.environ[\"R_HOME\"] = R_home\n",
    "%load_ext rpy2.ipython"
   ]
  },
  {
   "cell_type": "code",
   "execution_count": 2,
   "metadata": {},
   "outputs": [],
   "source": [
    "# path where figures are going to be saved\n",
    "FIG_PATH = 'plots'"
   ]
  },
  {
   "cell_type": "code",
   "execution_count": 3,
   "metadata": {
    "code_folding": [
     0
    ],
    "run_control": {
     "marked": false
    }
   },
   "outputs": [],
   "source": [
    "def convert_counts_to_df(counts, prop_cols=None, meta_cols=None, n_cells=1, column_name=\"Cluster\"):\n",
    "    \"\"\" Convert a cell count matrix to a dataframe in long format.\"\"\"\n",
    "\n",
    "    counts = counts.copy()\n",
    "\n",
    "    #If not given, try to get prop_cols and meta_cols automatically\n",
    "    if prop_cols is None:\n",
    "        dtypes = counts.dtypes.astype(str)\n",
    "        prop_cols = [col for i, col in enumerate(counts.columns) if \"float\" in dtypes[i] or \"int\" in dtypes[i]]\n",
    "        \n",
    "    if meta_cols is None:\n",
    "        meta_cols = [col for col in counts.columns if col not in prop_cols]\n",
    "\n",
    "    # Multiply proportions with n_cells\n",
    "    counts[prop_cols] *= n_cells\n",
    "    counts[prop_cols] = counts[prop_cols].astype(int)\n",
    "    \n",
    "    # Melt into long format (similar to adata.obs)\n",
    "    counts_melt = pd.melt(counts, id_vars=meta_cols, value_vars=prop_cols, \n",
    "                          var_name=column_name, value_name=\"count\")\n",
    "\n",
    "    # Duplicate rows based on number of cells\n",
    "    counts_long = counts_melt.loc[counts_melt.index.repeat(counts_melt[\"count\"])].reset_index(drop=True)\n",
    "    counts_long.drop(columns=\"count\", inplace=True)\n",
    "    counts_long.index = [\"cell_\" + str(i) for i in range(1, len(counts_long) + 1)]\n",
    "    \n",
    "    return counts_long"
   ]
  },
  {
   "cell_type": "markdown",
   "metadata": {},
   "source": [
    "------------------"
   ]
  },
  {
   "cell_type": "markdown",
   "metadata": {},
   "source": [
    "## Read data"
   ]
  },
  {
   "cell_type": "code",
   "execution_count": 4,
   "metadata": {},
   "outputs": [],
   "source": [
    "fetal_scatac_counts = pd.read_csv(\"data/scATAC_counts.tsv\", sep='\\t')"
   ]
  },
  {
   "cell_type": "code",
   "execution_count": 5,
   "metadata": {},
   "outputs": [],
   "source": [
    "fetal_scatac = convert_counts_to_df(fetal_scatac_counts, column_name=\"cell_type\")"
   ]
  },
  {
   "cell_type": "code",
   "execution_count": 6,
   "metadata": {},
   "outputs": [
    {
     "data": {
      "text/html": [
       "<div>\n",
       "<style scoped>\n",
       "    .dataframe tbody tr th:only-of-type {\n",
       "        vertical-align: middle;\n",
       "    }\n",
       "\n",
       "    .dataframe tbody tr th {\n",
       "        vertical-align: top;\n",
       "    }\n",
       "\n",
       "    .dataframe thead th {\n",
       "        text-align: right;\n",
       "    }\n",
       "</style>\n",
       "<table border=\"1\" class=\"dataframe\">\n",
       "  <thead>\n",
       "    <tr style=\"text-align: right;\">\n",
       "      <th></th>\n",
       "      <th>Sample</th>\n",
       "      <th>Sex</th>\n",
       "      <th>Tissue</th>\n",
       "      <th>Batch</th>\n",
       "      <th>Donor_id</th>\n",
       "      <th>cell_type</th>\n",
       "    </tr>\n",
       "  </thead>\n",
       "  <tbody>\n",
       "    <tr>\n",
       "      <th>cell_1</th>\n",
       "      <td>sample_61_pancreas</td>\n",
       "      <td>Female</td>\n",
       "      <td>Pancreas</td>\n",
       "      <td>batch_3</td>\n",
       "      <td>H27917</td>\n",
       "      <td>Acinar cells</td>\n",
       "    </tr>\n",
       "    <tr>\n",
       "      <th>cell_2</th>\n",
       "      <td>sample_61_pancreas</td>\n",
       "      <td>Female</td>\n",
       "      <td>Pancreas</td>\n",
       "      <td>batch_3</td>\n",
       "      <td>H27917</td>\n",
       "      <td>Acinar cells</td>\n",
       "    </tr>\n",
       "    <tr>\n",
       "      <th>cell_3</th>\n",
       "      <td>sample_61_pancreas</td>\n",
       "      <td>Female</td>\n",
       "      <td>Pancreas</td>\n",
       "      <td>batch_3</td>\n",
       "      <td>H27917</td>\n",
       "      <td>Acinar cells</td>\n",
       "    </tr>\n",
       "    <tr>\n",
       "      <th>cell_4</th>\n",
       "      <td>sample_61_pancreas</td>\n",
       "      <td>Female</td>\n",
       "      <td>Pancreas</td>\n",
       "      <td>batch_3</td>\n",
       "      <td>H27917</td>\n",
       "      <td>Acinar cells</td>\n",
       "    </tr>\n",
       "    <tr>\n",
       "      <th>cell_5</th>\n",
       "      <td>sample_61_pancreas</td>\n",
       "      <td>Female</td>\n",
       "      <td>Pancreas</td>\n",
       "      <td>batch_3</td>\n",
       "      <td>H27917</td>\n",
       "      <td>Acinar cells</td>\n",
       "    </tr>\n",
       "  </tbody>\n",
       "</table>\n",
       "</div>"
      ],
      "text/plain": [
       "                    Sample     Sex    Tissue    Batch Donor_id     cell_type\n",
       "cell_1  sample_61_pancreas  Female  Pancreas  batch_3   H27917  Acinar cells\n",
       "cell_2  sample_61_pancreas  Female  Pancreas  batch_3   H27917  Acinar cells\n",
       "cell_3  sample_61_pancreas  Female  Pancreas  batch_3   H27917  Acinar cells\n",
       "cell_4  sample_61_pancreas  Female  Pancreas  batch_3   H27917  Acinar cells\n",
       "cell_5  sample_61_pancreas  Female  Pancreas  batch_3   H27917  Acinar cells"
      ]
     },
     "execution_count": 6,
     "metadata": {},
     "output_type": "execute_result"
    }
   ],
   "source": [
    "fetal_scatac.head()"
   ]
  },
  {
   "cell_type": "markdown",
   "metadata": {},
   "source": [
    "------------"
   ]
  },
  {
   "cell_type": "markdown",
   "metadata": {},
   "source": [
    "## Run Scanpro"
   ]
  },
  {
   "cell_type": "markdown",
   "metadata": {},
   "source": [
    "### With replicates"
   ]
  },
  {
   "cell_type": "code",
   "execution_count": 7,
   "metadata": {},
   "outputs": [
    {
     "name": "stdout",
     "output_type": "stream",
     "text": [
      "[INFO] The following conditions don't have replicates:  Pancreas, Cerebellum, Spleen\n",
      "[INFO] Both normal scanpro and sim_scanpro will be performed.\n",
      "[INFO] Running scanpro with original replicates...\n",
      "[INFO] There are more than 2 conditions. ANOVA will be performed...\n"
     ]
    },
    {
     "ename": "ValueError",
     "evalue": "f(a) and f(b) must have different signs",
     "output_type": "error",
     "traceback": [
      "\u001b[0;31m---------------------------------------------------------------------------\u001b[0m",
      "\u001b[0;31mValueError\u001b[0m                                Traceback (most recent call last)",
      "Cell \u001b[0;32mIn[7], line 1\u001b[0m\n\u001b[0;32m----> 1\u001b[0m scanpro_out \u001b[38;5;241m=\u001b[39m \u001b[43mscanpro\u001b[49m\u001b[38;5;241;43m.\u001b[39;49m\u001b[43mscanpro\u001b[49m\u001b[43m(\u001b[49m\u001b[43mfetal_scatac\u001b[49m\u001b[43m,\u001b[49m\u001b[43m \u001b[49m\u001b[43mclusters_col\u001b[49m\u001b[38;5;241;43m=\u001b[39;49m\u001b[38;5;124;43m'\u001b[39;49m\u001b[38;5;124;43mcell_type\u001b[39;49m\u001b[38;5;124;43m'\u001b[39;49m\u001b[43m,\u001b[49m\n\u001b[1;32m      2\u001b[0m \u001b[43m                                   \u001b[49m\u001b[43mconds_col\u001b[49m\u001b[38;5;241;43m=\u001b[39;49m\u001b[38;5;124;43m'\u001b[39;49m\u001b[38;5;124;43mTissue\u001b[39;49m\u001b[38;5;124;43m'\u001b[39;49m\u001b[43m,\u001b[49m\u001b[43m \u001b[49m\u001b[43msamples_col\u001b[49m\u001b[38;5;241;43m=\u001b[39;49m\u001b[38;5;124;43m'\u001b[39;49m\u001b[38;5;124;43mSample\u001b[39;49m\u001b[38;5;124;43m'\u001b[39;49m\u001b[43m)\u001b[49m\n",
      "File \u001b[0;32m~/.conda/envs/scanpro_analysis/lib/python3.9/site-packages/scanpro/scanpro.py:164\u001b[0m, in \u001b[0;36mscanpro\u001b[0;34m(data, clusters_col, conds_col, samples_col, covariates, conditions, transform, robust, n_sims, n_reps, verbosity, seed)\u001b[0m\n\u001b[1;32m    162\u001b[0m \u001b[38;5;66;03m# run scanpro normally\u001b[39;00m\n\u001b[1;32m    163\u001b[0m logger\u001b[38;5;241m.\u001b[39minfo(\u001b[38;5;124m\"\u001b[39m\u001b[38;5;124mRunning scanpro with original replicates...\u001b[39m\u001b[38;5;124m\"\u001b[39m)\n\u001b[0;32m--> 164\u001b[0m out \u001b[38;5;241m=\u001b[39m \u001b[43mrun_scanpro\u001b[49m\u001b[43m(\u001b[49m\u001b[43mdata\u001b[49m\u001b[43m,\u001b[49m\u001b[43m \u001b[49m\u001b[43mclusters\u001b[49m\u001b[38;5;241;43m=\u001b[39;49m\u001b[43mclusters_col\u001b[49m\u001b[43m,\u001b[49m\u001b[43m \u001b[49m\u001b[43msamples\u001b[49m\u001b[38;5;241;43m=\u001b[39;49m\u001b[43msamples_col\u001b[49m\u001b[43m,\u001b[49m\u001b[43m \u001b[49m\u001b[43mconds\u001b[49m\u001b[38;5;241;43m=\u001b[39;49m\u001b[43mconds_col\u001b[49m\u001b[43m,\u001b[49m\u001b[43m \u001b[49m\u001b[43mcovariates\u001b[49m\u001b[38;5;241;43m=\u001b[39;49m\u001b[43mcovariates\u001b[49m\u001b[43m,\u001b[49m\n\u001b[1;32m    165\u001b[0m \u001b[43m                  \u001b[49m\u001b[43mtransform\u001b[49m\u001b[38;5;241;43m=\u001b[39;49m\u001b[43mtransform\u001b[49m\u001b[43m,\u001b[49m\u001b[43m \u001b[49m\u001b[43mconditions\u001b[49m\u001b[38;5;241;43m=\u001b[39;49m\u001b[43mconditions\u001b[49m\u001b[43m,\u001b[49m\u001b[43m \u001b[49m\u001b[43mrobust\u001b[49m\u001b[38;5;241;43m=\u001b[39;49m\u001b[43mrobust\u001b[49m\u001b[43m,\u001b[49m\u001b[43m \u001b[49m\u001b[43mverbosity\u001b[49m\u001b[38;5;241;43m=\u001b[39;49m\u001b[43mverbosity\u001b[49m\u001b[43m)\u001b[49m\n\u001b[1;32m    167\u001b[0m \u001b[38;5;66;03m# run simulations\u001b[39;00m\n\u001b[1;32m    168\u001b[0m logger\u001b[38;5;241m.\u001b[39minfo(\u001b[38;5;124m\"\u001b[39m\u001b[38;5;124mRunning scanpro with simulated replicates...\u001b[39m\u001b[38;5;124m\"\u001b[39m)\n",
      "File \u001b[0;32m~/.conda/envs/scanpro_analysis/lib/python3.9/site-packages/scanpro/scanpro.py:288\u001b[0m, in \u001b[0;36mrun_scanpro\u001b[0;34m(data, clusters, samples, conds, transform, covariates, conditions, robust, verbosity)\u001b[0m\n\u001b[1;32m    286\u001b[0m     logger\u001b[38;5;241m.\u001b[39minfo(\u001b[38;5;124m\"\u001b[39m\u001b[38;5;124mThere are more than 2 conditions. ANOVA will be performed...\u001b[39m\u001b[38;5;124m\"\u001b[39m)\n\u001b[1;32m    287\u001b[0m     coef \u001b[38;5;241m=\u001b[39m np\u001b[38;5;241m.\u001b[39marange(\u001b[38;5;28mlen\u001b[39m(conditions))\n\u001b[0;32m--> 288\u001b[0m     out \u001b[38;5;241m=\u001b[39m \u001b[43manova\u001b[49m\u001b[43m(\u001b[49m\u001b[43mprops_sub\u001b[49m\u001b[43m,\u001b[49m\u001b[43m \u001b[49m\u001b[43mprop_trans_sub\u001b[49m\u001b[43m,\u001b[49m\u001b[43m \u001b[49m\u001b[43mdesign_sub\u001b[49m\u001b[43m,\u001b[49m\u001b[43m \u001b[49m\u001b[43mcoef\u001b[49m\u001b[43m,\u001b[49m\u001b[43m \u001b[49m\u001b[43mrobust\u001b[49m\u001b[43m,\u001b[49m\u001b[43m \u001b[49m\u001b[43mverbosity\u001b[49m\u001b[43m)\u001b[49m\n\u001b[1;32m    290\u001b[0m out\u001b[38;5;241m.\u001b[39mindex\u001b[38;5;241m.\u001b[39mname \u001b[38;5;241m=\u001b[39m clusters\n\u001b[1;32m    291\u001b[0m logger\u001b[38;5;241m.\u001b[39minfo(\u001b[38;5;124m\"\u001b[39m\u001b[38;5;124mDone!\u001b[39m\u001b[38;5;124m\"\u001b[39m)\n",
      "File \u001b[0;32m~/.conda/envs/scanpro_analysis/lib/python3.9/site-packages/scanpro/scanpro.py:350\u001b[0m, in \u001b[0;36manova\u001b[0;34m(props, prop_trans, design, coef, robust, verbosity)\u001b[0m\n\u001b[1;32m    347\u001b[0m fit[\u001b[38;5;124m'\u001b[39m\u001b[38;5;124mcov_coef\u001b[39m\u001b[38;5;124m'\u001b[39m] \u001b[38;5;241m=\u001b[39m fit[\u001b[38;5;124m'\u001b[39m\u001b[38;5;124mcov_coef\u001b[39m\u001b[38;5;124m'\u001b[39m][coef[\u001b[38;5;241m1\u001b[39m:][:, np\u001b[38;5;241m.\u001b[39mnewaxis], coef[\u001b[38;5;241m1\u001b[39m:]]\n\u001b[1;32m    349\u001b[0m \u001b[38;5;66;03m# get F statistics using eBayes\u001b[39;00m\n\u001b[0;32m--> 350\u001b[0m fit \u001b[38;5;241m=\u001b[39m \u001b[43mebayes\u001b[49m\u001b[38;5;241;43m.\u001b[39;49m\u001b[43mebayes\u001b[49m\u001b[43m(\u001b[49m\u001b[43mfit\u001b[49m\u001b[43m,\u001b[49m\u001b[43m \u001b[49m\u001b[43mrobust\u001b[49m\u001b[38;5;241;43m=\u001b[39;49m\u001b[43mrobust\u001b[49m\u001b[43m)\u001b[49m\n\u001b[1;32m    352\u001b[0m \u001b[38;5;66;03m# adjust p_values using benjamin hochberg method\u001b[39;00m\n\u001b[1;32m    353\u001b[0m p_values \u001b[38;5;241m=\u001b[39m fit[\u001b[38;5;124m'\u001b[39m\u001b[38;5;124mF\u001b[39m\u001b[38;5;124m'\u001b[39m][\u001b[38;5;124m'\u001b[39m\u001b[38;5;124mF_p_value\u001b[39m\u001b[38;5;124m'\u001b[39m]\u001b[38;5;241m.\u001b[39mflatten()\n",
      "File \u001b[0;32m~/.conda/envs/scanpro_analysis/lib/python3.9/site-packages/scanpro/ebayes.py:38\u001b[0m, in \u001b[0;36mebayes\u001b[0;34m(fit, proportion, stdev_coef_lim, robust, winsor_tail_p)\u001b[0m\n\u001b[1;32m     34\u001b[0m n_clusters \u001b[38;5;241m=\u001b[39m \u001b[38;5;28mlen\u001b[39m(coefficients)\n\u001b[1;32m     36\u001b[0m \u001b[38;5;66;03m# moderated t statistics\u001b[39;00m\n\u001b[1;32m     37\u001b[0m \u001b[38;5;66;03m# calculate prior/post variance and prior degrees of freedom using empirical bayes\u001b[39;00m\n\u001b[0;32m---> 38\u001b[0m var_prior, var_post, df_prior \u001b[38;5;241m=\u001b[39m \u001b[43msqueeze_var\u001b[49m\u001b[43m(\u001b[49m\u001b[43msigma\u001b[49m\u001b[38;5;241;43m*\u001b[39;49m\u001b[38;5;241;43m*\u001b[39;49m\u001b[38;5;241;43m2\u001b[39;49m\u001b[43m,\u001b[49m\u001b[43m \u001b[49m\u001b[43mdf_residual\u001b[49m\u001b[43m,\u001b[49m\u001b[43m \u001b[49m\u001b[43mrobust\u001b[49m\u001b[38;5;241;43m=\u001b[39;49m\u001b[43mrobust\u001b[49m\u001b[43m,\u001b[49m\u001b[43m \u001b[49m\u001b[43mwinsor_tail_p\u001b[49m\u001b[38;5;241;43m=\u001b[39;49m\u001b[43mwinsor_tail_p\u001b[49m\u001b[43m)\u001b[49m\n\u001b[1;32m     40\u001b[0m \u001b[38;5;66;03m# save results to res dictionary\u001b[39;00m\n\u001b[1;32m     41\u001b[0m res \u001b[38;5;241m=\u001b[39m {\u001b[38;5;124m'\u001b[39m\u001b[38;5;124ms2_prior\u001b[39m\u001b[38;5;124m'\u001b[39m: var_prior, \u001b[38;5;124m'\u001b[39m\u001b[38;5;124ms2_post\u001b[39m\u001b[38;5;124m'\u001b[39m: var_post, \u001b[38;5;124m'\u001b[39m\u001b[38;5;124mdf_prior\u001b[39m\u001b[38;5;124m'\u001b[39m: df_prior}\n",
      "File \u001b[0;32m~/.conda/envs/scanpro_analysis/lib/python3.9/site-packages/scanpro/ebayes.py:135\u001b[0m, in \u001b[0;36msqueeze_var\u001b[0;34m(var, df, covariate, robust, winsor_tail_p)\u001b[0m\n\u001b[1;32m    133\u001b[0m \u001b[38;5;66;03m# fit F-distribution to data robustly\u001b[39;00m\n\u001b[1;32m    134\u001b[0m \u001b[38;5;28;01mif\u001b[39;00m robust:\n\u001b[0;32m--> 135\u001b[0m     fit \u001b[38;5;241m=\u001b[39m \u001b[43mfit_f_dist_robust\u001b[49m\u001b[43m(\u001b[49m\u001b[43mvar\u001b[49m\u001b[43m,\u001b[49m\u001b[43m \u001b[49m\u001b[43mdf\u001b[49m\u001b[43m,\u001b[49m\u001b[43m \u001b[49m\u001b[43mcovariate\u001b[49m\u001b[43m,\u001b[49m\u001b[43m \u001b[49m\u001b[43mwinsor_tail_p\u001b[49m\u001b[43m)\u001b[49m\n\u001b[1;32m    136\u001b[0m     df_prior \u001b[38;5;241m=\u001b[39m fit[\u001b[38;5;124m'\u001b[39m\u001b[38;5;124mdf2_shrunk\u001b[39m\u001b[38;5;124m'\u001b[39m]\n\u001b[1;32m    137\u001b[0m \u001b[38;5;28;01melse\u001b[39;00m:\n",
      "File \u001b[0;32m~/.conda/envs/scanpro_analysis/lib/python3.9/site-packages/scanpro/fitFDist.py:185\u001b[0m, in \u001b[0;36mfit_f_dist_robust\u001b[0;34m(x, df1, covariate, winsor_tail_p)\u001b[0m\n\u001b[1;32m    182\u001b[0m     df2 \u001b[38;5;241m=\u001b[39m non_robust[\u001b[38;5;124m'\u001b[39m\u001b[38;5;124mdf2\u001b[39m\u001b[38;5;124m'\u001b[39m]\n\u001b[1;32m    183\u001b[0m \u001b[38;5;28;01melse\u001b[39;00m:\n\u001b[1;32m    184\u001b[0m     \u001b[38;5;66;03m# interval [rbx, 0.99] since 1 gives divisionbyzero error\u001b[39;00m\n\u001b[0;32m--> 185\u001b[0m     u \u001b[38;5;241m=\u001b[39m \u001b[43mscipy\u001b[49m\u001b[38;5;241;43m.\u001b[39;49m\u001b[43moptimize\u001b[49m\u001b[38;5;241;43m.\u001b[39;49m\u001b[43mbrentq\u001b[49m\u001b[43m(\u001b[49m\u001b[43mfun\u001b[49m\u001b[43m,\u001b[49m\u001b[43m \u001b[49m\u001b[43mrbx\u001b[49m\u001b[43m,\u001b[49m\u001b[43m \u001b[49m\u001b[38;5;241;43m0.99\u001b[39;49m\u001b[43m,\u001b[49m\u001b[43m \u001b[49m\u001b[43m(\u001b[49m\u001b[43mdf1\u001b[49m\u001b[43m,\u001b[49m\u001b[43m \u001b[49m\u001b[43mlinkinv\u001b[49m\u001b[43m,\u001b[49m\u001b[43m \u001b[49m\u001b[43mwinsorized_moments\u001b[49m\u001b[43m,\u001b[49m\u001b[43m \u001b[49m\u001b[43mzwvar\u001b[49m\u001b[43m,\u001b[49m\u001b[43m \u001b[49m\u001b[43mwinsor_tail_p\u001b[49m\u001b[43m,\u001b[49m\u001b[43m \u001b[49m\u001b[43mlinkfun\u001b[49m\u001b[43m,\u001b[49m\u001b[43m \u001b[49m\u001b[43mg\u001b[49m\u001b[43m)\u001b[49m\u001b[43m)\u001b[49m\n\u001b[1;32m    186\u001b[0m     df2 \u001b[38;5;241m=\u001b[39m linkinv(u)\n\u001b[1;32m    188\u001b[0m \u001b[38;5;66;03m# Correct ztrend for bias\u001b[39;00m\n",
      "File \u001b[0;32m~/.conda/envs/scanpro_analysis/lib/python3.9/site-packages/scipy/optimize/_zeros_py.py:799\u001b[0m, in \u001b[0;36mbrentq\u001b[0;34m(f, a, b, args, xtol, rtol, maxiter, full_output, disp)\u001b[0m\n\u001b[1;32m    797\u001b[0m     \u001b[38;5;28;01mraise\u001b[39;00m \u001b[38;5;167;01mValueError\u001b[39;00m(\u001b[38;5;124mf\u001b[39m\u001b[38;5;124m\"\u001b[39m\u001b[38;5;124mrtol too small (\u001b[39m\u001b[38;5;132;01m{\u001b[39;00mrtol\u001b[38;5;132;01m:\u001b[39;00m\u001b[38;5;124mg\u001b[39m\u001b[38;5;132;01m}\u001b[39;00m\u001b[38;5;124m < \u001b[39m\u001b[38;5;132;01m{\u001b[39;00m_rtol\u001b[38;5;132;01m:\u001b[39;00m\u001b[38;5;124mg\u001b[39m\u001b[38;5;132;01m}\u001b[39;00m\u001b[38;5;124m)\u001b[39m\u001b[38;5;124m\"\u001b[39m)\n\u001b[1;32m    798\u001b[0m f \u001b[38;5;241m=\u001b[39m _wrap_nan_raise(f)\n\u001b[0;32m--> 799\u001b[0m r \u001b[38;5;241m=\u001b[39m \u001b[43m_zeros\u001b[49m\u001b[38;5;241;43m.\u001b[39;49m\u001b[43m_brentq\u001b[49m\u001b[43m(\u001b[49m\u001b[43mf\u001b[49m\u001b[43m,\u001b[49m\u001b[43m \u001b[49m\u001b[43ma\u001b[49m\u001b[43m,\u001b[49m\u001b[43m \u001b[49m\u001b[43mb\u001b[49m\u001b[43m,\u001b[49m\u001b[43m \u001b[49m\u001b[43mxtol\u001b[49m\u001b[43m,\u001b[49m\u001b[43m \u001b[49m\u001b[43mrtol\u001b[49m\u001b[43m,\u001b[49m\u001b[43m \u001b[49m\u001b[43mmaxiter\u001b[49m\u001b[43m,\u001b[49m\u001b[43m \u001b[49m\u001b[43margs\u001b[49m\u001b[43m,\u001b[49m\u001b[43m \u001b[49m\u001b[43mfull_output\u001b[49m\u001b[43m,\u001b[49m\u001b[43m \u001b[49m\u001b[43mdisp\u001b[49m\u001b[43m)\u001b[49m\n\u001b[1;32m    800\u001b[0m \u001b[38;5;28;01mreturn\u001b[39;00m results_c(full_output, r)\n",
      "\u001b[0;31mValueError\u001b[0m: f(a) and f(b) must have different signs"
     ]
    }
   ],
   "source": [
    "scanpro_out = scanpro.scanpro(fetal_scatac, clusters_col='cell_type',\n",
    "                                   conds_col='Tissue', samples_col='Sample')"
   ]
  },
  {
   "cell_type": "code",
   "execution_count": null,
   "metadata": {},
   "outputs": [],
   "source": [
    "scanpro_out.results"
   ]
  },
  {
   "cell_type": "code",
   "execution_count": null,
   "metadata": {},
   "outputs": [],
   "source": [
    "scanpro_out.plot(n_columns=4, save=f\"{FIG_PATH}/scatac_rep_all.pdf\")"
   ]
  },
  {
   "cell_type": "code",
   "execution_count": null,
   "metadata": {},
   "outputs": [],
   "source": [
    "scanpro_out.results.to_csv(\"results/scatac_scanpro_rep.tsv\", sep=\"\\t\")"
   ]
  },
  {
   "cell_type": "markdown",
   "metadata": {},
   "source": [
    "### Without replicates"
   ]
  },
  {
   "cell_type": "code",
   "execution_count": null,
   "metadata": {},
   "outputs": [],
   "source": [
    "scanpro_out_norep = scanpro.scanpro(fetal_scatac, clusters_col='cell_type',\n",
    "                                    conds_col='Tissue')\n",
    "scanpro_out_norep.results"
   ]
  },
  {
   "cell_type": "code",
   "execution_count": null,
   "metadata": {},
   "outputs": [],
   "source": [
    "scanpro_out_norep.plot(n_columns=4, save=f\"{FIG_PATH}/scatac_norep_all.pdf\")"
   ]
  },
  {
   "cell_type": "code",
   "execution_count": null,
   "metadata": {},
   "outputs": [],
   "source": [
    "scanpro_out_norep.results.to_csv(\"results/scatac_scanpro_norep.tsv\", sep=\"\\t\")"
   ]
  },
  {
   "cell_type": "markdown",
   "metadata": {},
   "source": [
    "------------------------"
   ]
  },
  {
   "cell_type": "markdown",
   "metadata": {},
   "source": [
    "## Specific comparisons"
   ]
  },
  {
   "cell_type": "markdown",
   "metadata": {},
   "source": [
    "### Heart vs. muscle"
   ]
  },
  {
   "cell_type": "markdown",
   "metadata": {},
   "source": [
    "#### With replicates"
   ]
  },
  {
   "cell_type": "code",
   "execution_count": null,
   "metadata": {},
   "outputs": [],
   "source": [
    "scanpro_out = scanpro.scanpro(fetal_scatac, clusters_col='cell_type',\n",
    "                              conds_col='Tissue', samples_col='Sample',\n",
    "                              conditions=[\"Heart\", \"Muscle\"])\n",
    "scanpro_out.results.to_csv(\"results/scatac_scanpro_rep_logit_heart-muscle.tsv\", sep=\"\\t\")"
   ]
  },
  {
   "cell_type": "code",
   "execution_count": null,
   "metadata": {},
   "outputs": [],
   "source": [
    "scanpro_out = scanpro.scanpro(fetal_scatac, clusters_col='cell_type',\n",
    "                              conds_col='Tissue', samples_col='Sample',\n",
    "                              conditions=[\"Heart\", \"Muscle\"], transform=\"arcsin\")\n",
    "scanpro_out.results.to_csv(\"results/scatac_scanpro_rep_arcsin_heart-muscle.tsv\", sep=\"\\t\")\n",
    "scanpro_out.results"
   ]
  },
  {
   "cell_type": "code",
   "execution_count": null,
   "metadata": {},
   "outputs": [],
   "source": [
    "scanpro_out.plot(clusters=[\"Cardiomyocytes\", \"Myeloid cells\", \"Smooth muscle cells\", \"Vascular endothelial cells\"], \n",
    "                 n_columns=4, save=f\"{FIG_PATH}/scatac_rep_arcsin_heart-muscle.pdf\")"
   ]
  },
  {
   "cell_type": "markdown",
   "metadata": {},
   "source": [
    "#### Without replicates"
   ]
  },
  {
   "cell_type": "code",
   "execution_count": null,
   "metadata": {},
   "outputs": [],
   "source": [
    "scanpro_out_norep = scanpro.scanpro(fetal_scatac, clusters_col='cell_type', conds_col='Tissue',\n",
    "                                    conditions=[\"Heart\", \"Muscle\"], transform=\"logit\")\n",
    "scanpro_out_norep.results.to_csv(\"results/scatac_scanpro_norep_logit_heart-muscle.tsv\", sep=\"\\t\")"
   ]
  },
  {
   "cell_type": "code",
   "execution_count": null,
   "metadata": {},
   "outputs": [],
   "source": [
    "scanpro_out_norep = scanpro.scanpro(fetal_scatac, clusters_col='cell_type', conds_col='Tissue',\n",
    "                                    conditions=[\"Heart\", \"Muscle\"], transform=\"arcsin\")\n",
    "scanpro_out_norep.results.to_csv(\"results/scatac_scanpro_norep_arcsin_heart-muscle.tsv\", sep=\"\\t\")\n",
    "scanpro_out_norep.results"
   ]
  },
  {
   "cell_type": "code",
   "execution_count": null,
   "metadata": {
    "scrolled": true
   },
   "outputs": [],
   "source": [
    "scanpro_out_norep.plot(clusters=[\"Cardiomyocytes\", \"Myeloid cells\", \"Smooth muscle cells\", \"Vascular endothelial cells\"], \n",
    "                       n_columns=4, save=f\"{FIG_PATH}/scatac_norep_arcsin_heart-muscle.pdf\")"
   ]
  },
  {
   "cell_type": "markdown",
   "metadata": {},
   "source": [
    "### Heart vs. intestine vs. muscle"
   ]
  },
  {
   "cell_type": "markdown",
   "metadata": {},
   "source": [
    "#### With replicates"
   ]
  },
  {
   "cell_type": "code",
   "execution_count": null,
   "metadata": {},
   "outputs": [],
   "source": [
    "scanpro_out = scanpro.scanpro(fetal_scatac, clusters_col='cell_type',\n",
    "                              conds_col='Tissue', samples_col='Sample',\n",
    "                              conditions=[\"Heart\", \"Intestine\", \"Muscle\"])\n",
    "scanpro_out.results.to_csv(\"results/scatac_scanpro_rep_logit_heart-intestine-muscle.tsv\", sep=\"\\t\")"
   ]
  },
  {
   "cell_type": "code",
   "execution_count": null,
   "metadata": {},
   "outputs": [],
   "source": [
    "scanpro_out = scanpro.scanpro(fetal_scatac, clusters_col='cell_type',\n",
    "                              conds_col='Tissue', samples_col='Sample',\n",
    "                              conditions=[\"Heart\", \"Intestine\", \"Muscle\"], transform=\"arcsin\")\n",
    "scanpro_out.results.to_csv(\"results/scatac_scanpro_rep_arcsin_heart-intestine-muscle.tsv\", sep=\"\\t\")\n",
    "scanpro_out.results"
   ]
  },
  {
   "cell_type": "code",
   "execution_count": null,
   "metadata": {},
   "outputs": [],
   "source": [
    "scanpro_out.plot(clusters=[\"Cardiomyocytes\", \"Myeloid cells\", \"Smooth muscle cells\", \"Vascular endothelial cells\"], n_columns=4,\n",
    "                 save=f\"{FIG_PATH}/scatac_rep_arcsin_heart-intestine-muscle.pdf\")"
   ]
  },
  {
   "cell_type": "markdown",
   "metadata": {},
   "source": [
    "#### No replicates"
   ]
  },
  {
   "cell_type": "code",
   "execution_count": null,
   "metadata": {},
   "outputs": [],
   "source": [
    "scanpro_out_norep = scanpro.scanpro(fetal_scatac, clusters_col='cell_type',\n",
    "                              conds_col='Tissue',\n",
    "                              conditions=[\"Heart\", \"Intestine\", \"Muscle\"])\n",
    "scanpro_out_norep.results.to_csv(\"results/scatac_scanpro_norep_logit_heart-intestine-muscle.tsv\", sep=\"\\t\")"
   ]
  },
  {
   "cell_type": "code",
   "execution_count": null,
   "metadata": {},
   "outputs": [],
   "source": [
    "scanpro_out_norep = scanpro.scanpro(fetal_scatac, clusters_col='cell_type',\n",
    "                              conds_col='Tissue',\n",
    "                              conditions=[\"Heart\", \"Intestine\", \"Muscle\"], transform=\"arcsin\")\n",
    "scanpro_out_norep.results.to_csv(\"results/scatac_scanpro_norep_arcsin_heart-intestine-muscle.tsv\", sep=\"\\t\")"
   ]
  },
  {
   "cell_type": "code",
   "execution_count": null,
   "metadata": {},
   "outputs": [],
   "source": [
    "scanpro_out_norep.plot(clusters=[\"Cardiomyocytes\", \"Myeloid cells\", \"Smooth muscle cells\", \"Vascular endothelial cells\"], \n",
    "                       n_columns=4, save=f\"{FIG_PATH}/scatac_norep_arcsin_heart-intestine-muscle.pdf\")"
   ]
  },
  {
   "cell_type": "markdown",
   "metadata": {},
   "source": [
    "-----------"
   ]
  },
  {
   "cell_type": "markdown",
   "metadata": {},
   "source": [
    "## Propeller"
   ]
  },
  {
   "cell_type": "code",
   "execution_count": null,
   "metadata": {},
   "outputs": [],
   "source": [
    "fetal_scatac_subset = fetal_scatac[fetal_scatac[\"Tissue\"].isin([\"Heart\", \"Muscle\"])]"
   ]
  },
  {
   "cell_type": "code",
   "execution_count": null,
   "metadata": {},
   "outputs": [],
   "source": [
    "%%R -i fetal_scatac_subset -o propeller_results_logit -o propeller_results_arcsin\n",
    "library(speckle)\n",
    "\n",
    "fetal_scatac = fetal_scatac_subset\n",
    "\n",
    "propeller_results_logit = propeller(clusters = fetal_scatac$cell_type, sample = fetal_scatac$Sample, group = fetal_scatac$Tissue, transform=\"logit\")\n",
    "propeller_results_arcsin = propeller(clusters = fetal_scatac$cell_type, sample = fetal_scatac$Sample, group = fetal_scatac$Tissue, transform=\"arcsin\")"
   ]
  },
  {
   "cell_type": "code",
   "execution_count": null,
   "metadata": {},
   "outputs": [],
   "source": [
    "propeller_results"
   ]
  },
  {
   "cell_type": "code",
   "execution_count": null,
   "metadata": {},
   "outputs": [],
   "source": [
    "propeller_results_logit.to_csv(\"results/scatac_propeller_rep_logit.tsv\", sep=\"\\t\")\n",
    "propeller_results_arcsin.to_csv(\"results/scatac_propeller_rep_arcsin.tsv\", sep=\"\\t\")"
   ]
  }
 ],
 "metadata": {
  "kernelspec": {
   "display_name": "pypropeller",
   "language": "python",
   "name": "pypropeller"
  },
  "language_info": {
   "codemirror_mode": {
    "name": "ipython",
    "version": 3
   },
   "file_extension": ".py",
   "mimetype": "text/x-python",
   "name": "python",
   "nbconvert_exporter": "python",
   "pygments_lexer": "ipython3",
   "version": "3.10.12"
  },
  "vscode": {
   "interpreter": {
    "hash": "8a5edab282632443219e051e4ade2d1d5bbc671c781051bf1437897cbdfea0f1"
   }
  }
 },
 "nbformat": 4,
 "nbformat_minor": 2
}
