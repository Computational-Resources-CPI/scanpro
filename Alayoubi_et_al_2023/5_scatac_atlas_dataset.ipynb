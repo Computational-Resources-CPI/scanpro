{
 "cells": [
  {
   "cell_type": "markdown",
   "metadata": {},
   "source": [
    "# 5. scATAC profiles of fetal tissues from the fetal cell atlas dataset\n",
    "Domcke S, Hill AJ, Daza RM, Cao J, O’Day DR, Pliner HA, et al. A human cell atlas of fetal chromatin accessibility. Science. 2020;370:eaba7612"
   ]
  },
  {
   "cell_type": "code",
   "execution_count": 1,
   "metadata": {},
   "outputs": [],
   "source": [
    "import os\n",
    "import sys\n",
    "import pandas as pd\n",
    "import numpy as np\n",
    "import seaborn as sns\n",
    "import matplotlib.pyplot as plt\n",
    "\n",
    "# Scanpro functions\n",
    "from scanpro import scanpro\n",
    "from scanpro.utils import convert_counts_to_df\n",
    "from scanpro.get_transformed_props import get_transformed_props"
   ]
  },
  {
   "cell_type": "code",
   "execution_count": 2,
   "metadata": {},
   "outputs": [],
   "source": [
    "#Setup path to R for propeller\n",
    "R_home = os.path.dirname(sys.executable)[:-4] + \"/lib/R\"\n",
    "os.environ[\"R_HOME\"] = R_home\n",
    "%load_ext rpy2.ipython"
   ]
  },
  {
   "cell_type": "code",
   "execution_count": 3,
   "metadata": {},
   "outputs": [],
   "source": [
    "# path where figures are going to be saved\n",
    "FIG_PATH = 'plots'"
   ]
  },
  {
   "cell_type": "markdown",
   "metadata": {},
   "source": [
    "------------------"
   ]
  },
  {
   "cell_type": "markdown",
   "metadata": {},
   "source": [
    "## Read data"
   ]
  },
  {
   "cell_type": "code",
   "execution_count": 4,
   "metadata": {},
   "outputs": [],
   "source": [
    "fetal_scatac_counts = pd.read_csv(\"data/scATAC_counts.tsv\", sep='\\t')"
   ]
  },
  {
   "cell_type": "code",
   "execution_count": 5,
   "metadata": {},
   "outputs": [],
   "source": [
    "fetal_scatac = convert_counts_to_df(fetal_scatac_counts, column_name=\"cell_type\")"
   ]
  },
  {
   "cell_type": "code",
   "execution_count": 6,
   "metadata": {},
   "outputs": [],
   "source": [
    "# subset data for heart, lung and muscle\n",
    "fetal_scatac_sub = fetal_scatac[(fetal_scatac['tissue']=='heart') | (fetal_scatac['tissue']=='lung') | (fetal_scatac['tissue']=='muscle')]"
   ]
  },
  {
   "cell_type": "code",
   "execution_count": 7,
   "metadata": {},
   "outputs": [],
   "source": [
    "# delete unknown celltypes\n",
    "celltypes = fetal_scatac[(fetal_scatac['tissue']=='heart') | (fetal_scatac['tissue']=='lung') | (fetal_scatac['tissue']=='muscle')]['cell_type'].unique()\n",
    "celltypes = np.delete(celltypes, np.where([x.startswith('Unknown') for x in celltypes]))\n",
    "celltypes = np.delete(celltypes, np.where([x.endswith('?') for x in celltypes]))"
   ]
  },
  {
   "cell_type": "markdown",
   "metadata": {},
   "source": [
    "----------"
   ]
  },
  {
   "cell_type": "markdown",
   "metadata": {},
   "source": [
    "## Run Scanpro"
   ]
  },
  {
   "cell_type": "markdown",
   "metadata": {},
   "source": [
    "### Logit"
   ]
  },
  {
   "cell_type": "code",
   "execution_count": 9,
   "metadata": {},
   "outputs": [],
   "source": [
    "out_logit = scanpro.scanpro(fetal_scatac_sub, clusters_col='cell_type',\n",
    "                            conds_col='tissue', samples_col='sample_name',\n",
    "                            transform='logit')\n",
    "\n",
    "# include only known celltypes\n",
    "out_logit.results = out_logit.results.loc[celltypes, :]\n",
    "# sort by p value\n",
    "out_logit.results = out_logit.results.sort_index()\n",
    "\n",
    "out_logit.results"
   ]
  },
  {
   "cell_type": "code",
   "execution_count": 10,
   "metadata": {},
   "outputs": [],
   "source": [
    "out_logit.plot(n_columns=4, clusters=['Cardiomyocytes', 'Bronchiolar and alveolar epithelial cells',\n",
    "                                      'Skeletal muscle cells', 'Vascular endothelial cells'],\n",
    "               save=f\"{FIG_PATH}/scatac_logit.pdf\")"
   ]
  },
  {
   "cell_type": "code",
   "execution_count": 11,
   "metadata": {},
   "outputs": [],
   "source": [
    "out_logit.plot(kind='boxplot', n_columns=4,\n",
    "               clusters=['Cardiomyocytes', 'Bronchiolar and alveolar epithelial cells',\n",
    "                         'Skeletal muscle cells', 'Vascular endothelial cells'],\n",
    "               save=f\"{FIG_PATH}/scatac_logit_boxplot.pdf\")"
   ]
  },
  {
   "cell_type": "code",
   "execution_count": 12,
   "metadata": {},
   "outputs": [],
   "source": [
    "out_logit.results.to_csv(\"results/scatac_scanpro_rep_logit.tsv\", sep=\"\\t\")"
   ]
  },
  {
   "cell_type": "markdown",
   "metadata": {},
   "source": [
    "### arcsin"
   ]
  },
  {
   "cell_type": "code",
   "execution_count": 13,
   "metadata": {},
   "outputs": [],
   "source": [
    "out_arcsin = scanpro.scanpro(fetal_scatac_sub, clusters_col='cell_type',\n",
    "                            conds_col='tissue', samples_col='sample_name',\n",
    "                            transform='arcsin')\n",
    "\n",
    "# include only known celltypes\n",
    "out_arcsin.results = out_arcsin.results.loc[celltypes, :]\n",
    "# sort by p value\n",
    "out_arcsin.results = out_arcsin.results.sort_index()\n",
    "\n",
    "out_arcsin.results"
   ]
  },
  {
   "cell_type": "code",
   "execution_count": 14,
   "metadata": {},
   "outputs": [],
   "source": [
    "out_arcsin.results.to_csv(\"results/scatac_scanpro_rep_arcsin.tsv\", sep=\"\\t\")"
   ]
  },
  {
   "cell_type": "markdown",
   "metadata": {},
   "source": [
    "----------"
   ]
  },
  {
   "cell_type": "markdown",
   "metadata": {},
   "source": [
    "## Without replicates"
   ]
  },
  {
   "cell_type": "markdown",
   "metadata": {},
   "source": [
    "### Logit"
   ]
  },
  {
   "cell_type": "code",
   "execution_count": 15,
   "metadata": {},
   "outputs": [],
   "source": [
    "out_boot_logit = scanpro.scanpro(fetal_scatac_sub, clusters_col='cell_type',\n",
    "                                 conds_col='tissue', transform='logit')\n",
    "\n",
    "# include only known celltypes\n",
    "out_boot_logit.results = out_boot_logit.results.loc[celltypes, :]\n",
    "# sort by p value\n",
    "out_boot_logit.results = out_boot_logit.results.sort_index()\n",
    "\n",
    "out_boot_logit.results"
   ]
  },
  {
   "cell_type": "code",
   "execution_count": 16,
   "metadata": {},
   "outputs": [],
   "source": [
    "out_boot_logit.results.to_csv(\"results/scatac_scanpro_norep_logit.tsv\", sep=\"\\t\")"
   ]
  },
  {
   "cell_type": "markdown",
   "metadata": {},
   "source": [
    "### Arcsin"
   ]
  },
  {
   "cell_type": "code",
   "execution_count": 17,
   "metadata": {},
   "outputs": [],
   "source": [
    "out_boot_arcsin = scanpro.scanpro(fetal_scatac_sub, clusters_col='cell_type',\n",
    "                                 conds_col='tissue', transform='arcsin')\n",
    "\n",
    "# include only known celltypes\n",
    "out_boot_arcsin.results = out_boot_arcsin.results.loc[celltypes, :]\n",
    "# sort by p value\n",
    "out_boot_arcsin.results = out_boot_arcsin.results.sort_index()\n",
    "\n",
    "out_boot_arcsin.results"
   ]
  },
  {
   "cell_type": "code",
   "execution_count": 18,
   "metadata": {},
   "outputs": [],
   "source": [
    "out_boot_arcsin.results.to_csv(\"results/scatac_scanpro_norep_arcsin.tsv\", sep=\"\\t\")"
   ]
  },
  {
   "cell_type": "markdown",
   "metadata": {},
   "source": [
    "-----------------"
   ]
  }
 ],
 "metadata": {
  "kernelspec": {
   "display_name": "pypropeller",
   "language": "python",
   "name": "pypropeller"
  },
  "language_info": {
   "codemirror_mode": {
    "name": "ipython",
    "version": 3
   },
   "file_extension": ".py",
   "mimetype": "text/x-python",
   "name": "python",
   "nbconvert_exporter": "python",
   "pygments_lexer": "ipython3",
   "version": "3.10.12"
  },
  "vscode": {
   "interpreter": {
    "hash": "8a5edab282632443219e051e4ade2d1d5bbc671c781051bf1437897cbdfea0f1"
   }
  }
 },
 "nbformat": 4,
 "nbformat_minor": 2
}
