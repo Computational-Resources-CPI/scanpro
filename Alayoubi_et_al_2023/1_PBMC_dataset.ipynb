{
 "cells": [
  {
   "cell_type": "markdown",
   "metadata": {},
   "source": [
    "# 1. PBMC data of immune cells from young and old, male and female samples\n",
    "\n",
    "Huang, Zhaohao, Binyao Chen, Xiuxing Liu, He Li, Lihui Xie, Yuehan Gao, Runping Duan, et al. 2021. “Effects of Sex and Aging on the Immune Cell Landscape as Assessed by Single-Cell Transcriptomic Analysis.” Proceedings of the National Academy of Sciences of the United States of America 118 (33). https://doi.org/10.1073/pnas.2023216118."
   ]
  },
  {
   "cell_type": "code",
   "execution_count": 1,
   "metadata": {},
   "outputs": [
    {
     "name": "stderr",
     "output_type": "stream",
     "text": [
      "2023-07-11 22:33:13.922006: I tensorflow/core/util/port.cc:110] oneDNN custom operations are on. You may see slightly different numerical results due to floating-point round-off errors from different computation orders. To turn them off, set the environment variable `TF_ENABLE_ONEDNN_OPTS=0`.\n",
      "2023-07-11 22:33:13.925927: I tensorflow/tsl/cuda/cudart_stub.cc:28] Could not find cuda drivers on your machine, GPU will not be used.\n",
      "2023-07-11 22:33:14.001800: I tensorflow/tsl/cuda/cudart_stub.cc:28] Could not find cuda drivers on your machine, GPU will not be used.\n",
      "2023-07-11 22:33:14.003312: I tensorflow/core/platform/cpu_feature_guard.cc:182] This TensorFlow binary is optimized to use available CPU instructions in performance-critical operations.\n",
      "To enable the following instructions: AVX2 AVX512F AVX512_VNNI FMA, in other operations, rebuild TensorFlow with the appropriate compiler flags.\n",
      "2023-07-11 22:33:15.142637: W tensorflow/compiler/tf2tensorrt/utils/py_utils.cc:38] TF-TRT Warning: Could not find TensorRT\n"
     ]
    },
    {
     "name": "stdout",
     "output_type": "stream",
     "text": [
      "sccoda version: 0.1.9\n"
     ]
    }
   ],
   "source": [
    "import os\n",
    "import sys\n",
    "import pandas as pd\n",
    "import numpy as np\n",
    "import seaborn as sns\n",
    "import matplotlib.pyplot as plt\n",
    "\n",
    "# Scanpro functions\n",
    "from scanpro import scanpro\n",
    "from scanpro.utils import convert_counts_to_df\n",
    "\n",
    "# scCODA functions\n",
    "import sccoda\n",
    "from sccoda.util import comp_ana as mod\n",
    "from sccoda.util import cell_composition_data as dat\n",
    "from sccoda.util import data_visualization as viz\n",
    "print(f\"sccoda version: {sccoda.__version__}\")\n",
    "\n",
    "#Setup path to R for propeller\n",
    "R_home = os.path.dirname(sys.executable)[:-4] + \"/lib/R\"\n",
    "os.environ[\"R_HOME\"] = R_home\n",
    "%load_ext rpy2.ipython"
   ]
  },
  {
   "cell_type": "code",
   "execution_count": 2,
   "metadata": {},
   "outputs": [
    {
     "name": "stdout",
     "output_type": "stream",
     "text": [
      "The rpy2.ipython extension is already loaded. To reload it, use:\n",
      "  %reload_ext rpy2.ipython\n"
     ]
    }
   ],
   "source": [
    "#Setup path to R for propeller\n",
    "R_home = os.path.dirname(sys.executable)[:-4] + \"/lib/R\"\n",
    "os.environ[\"R_HOME\"] = R_home\n",
    "%load_ext rpy2.ipython"
   ]
  },
  {
   "cell_type": "code",
   "execution_count": 3,
   "metadata": {},
   "outputs": [],
   "source": [
    "# path where figures are going to be saved\n",
    "FIG_PATH = 'plots'"
   ]
  },
  {
   "cell_type": "markdown",
   "metadata": {},
   "source": [
    "------------------"
   ]
  },
  {
   "cell_type": "markdown",
   "metadata": {},
   "source": [
    "## Read data"
   ]
  },
  {
   "cell_type": "code",
   "execution_count": 5,
   "metadata": {},
   "outputs": [],
   "source": [
    "pbmc_counts = pd.read_csv(\"data/pbmc_counts.tsv\", sep=\"\\t\")"
   ]
  },
  {
   "cell_type": "code",
   "execution_count": 6,
   "metadata": {},
   "outputs": [
    {
     "data": {
      "text/html": [
       "<div>\n",
       "<style scoped>\n",
       "    .dataframe tbody tr th:only-of-type {\n",
       "        vertical-align: middle;\n",
       "    }\n",
       "\n",
       "    .dataframe tbody tr th {\n",
       "        vertical-align: top;\n",
       "    }\n",
       "\n",
       "    .dataframe thead th {\n",
       "        text-align: right;\n",
       "    }\n",
       "</style>\n",
       "<table border=\"1\" class=\"dataframe\">\n",
       "  <thead>\n",
       "    <tr style=\"text-align: right;\">\n",
       "      <th></th>\n",
       "      <th>Sample</th>\n",
       "      <th>Condition</th>\n",
       "      <th>Sex</th>\n",
       "      <th>Age</th>\n",
       "      <th>BC</th>\n",
       "      <th>DC</th>\n",
       "      <th>MC</th>\n",
       "      <th>NK</th>\n",
       "      <th>TC</th>\n",
       "    </tr>\n",
       "  </thead>\n",
       "  <tbody>\n",
       "    <tr>\n",
       "      <th>0</th>\n",
       "      <td>OF1</td>\n",
       "      <td>OF</td>\n",
       "      <td>female</td>\n",
       "      <td>old</td>\n",
       "      <td>1449</td>\n",
       "      <td>135</td>\n",
       "      <td>1342</td>\n",
       "      <td>1328</td>\n",
       "      <td>4574</td>\n",
       "    </tr>\n",
       "    <tr>\n",
       "      <th>1</th>\n",
       "      <td>OF2</td>\n",
       "      <td>OF</td>\n",
       "      <td>female</td>\n",
       "      <td>old</td>\n",
       "      <td>677</td>\n",
       "      <td>148</td>\n",
       "      <td>2159</td>\n",
       "      <td>746</td>\n",
       "      <td>5097</td>\n",
       "    </tr>\n",
       "    <tr>\n",
       "      <th>2</th>\n",
       "      <td>OF3</td>\n",
       "      <td>OF</td>\n",
       "      <td>female</td>\n",
       "      <td>old</td>\n",
       "      <td>552</td>\n",
       "      <td>124</td>\n",
       "      <td>1507</td>\n",
       "      <td>1108</td>\n",
       "      <td>5535</td>\n",
       "    </tr>\n",
       "    <tr>\n",
       "      <th>3</th>\n",
       "      <td>OF4</td>\n",
       "      <td>OF</td>\n",
       "      <td>female</td>\n",
       "      <td>old</td>\n",
       "      <td>666</td>\n",
       "      <td>146</td>\n",
       "      <td>1277</td>\n",
       "      <td>589</td>\n",
       "      <td>6151</td>\n",
       "    </tr>\n",
       "    <tr>\n",
       "      <th>4</th>\n",
       "      <td>OF5</td>\n",
       "      <td>OF</td>\n",
       "      <td>female</td>\n",
       "      <td>old</td>\n",
       "      <td>653</td>\n",
       "      <td>137</td>\n",
       "      <td>2027</td>\n",
       "      <td>1632</td>\n",
       "      <td>4379</td>\n",
       "    </tr>\n",
       "  </tbody>\n",
       "</table>\n",
       "</div>"
      ],
      "text/plain": [
       "  Sample Condition     Sex  Age    BC   DC    MC    NK    TC\n",
       "0    OF1        OF  female  old  1449  135  1342  1328  4574\n",
       "1    OF2        OF  female  old   677  148  2159   746  5097\n",
       "2    OF3        OF  female  old   552  124  1507  1108  5535\n",
       "3    OF4        OF  female  old   666  146  1277   589  6151\n",
       "4    OF5        OF  female  old   653  137  2027  1632  4379"
      ]
     },
     "execution_count": 6,
     "metadata": {},
     "output_type": "execute_result"
    }
   ],
   "source": [
    "pbmc_counts.head()"
   ]
  },
  {
   "cell_type": "code",
   "execution_count": 7,
   "metadata": {},
   "outputs": [
    {
     "data": {
      "text/html": [
       "<div>\n",
       "<style scoped>\n",
       "    .dataframe tbody tr th:only-of-type {\n",
       "        vertical-align: middle;\n",
       "    }\n",
       "\n",
       "    .dataframe tbody tr th {\n",
       "        vertical-align: top;\n",
       "    }\n",
       "\n",
       "    .dataframe thead th {\n",
       "        text-align: right;\n",
       "    }\n",
       "</style>\n",
       "<table border=\"1\" class=\"dataframe\">\n",
       "  <thead>\n",
       "    <tr style=\"text-align: right;\">\n",
       "      <th></th>\n",
       "      <th>Sample</th>\n",
       "      <th>Condition</th>\n",
       "      <th>Sex</th>\n",
       "      <th>Age</th>\n",
       "      <th>Celltype</th>\n",
       "    </tr>\n",
       "  </thead>\n",
       "  <tbody>\n",
       "    <tr>\n",
       "      <th>cell_1</th>\n",
       "      <td>OF1</td>\n",
       "      <td>OF</td>\n",
       "      <td>female</td>\n",
       "      <td>old</td>\n",
       "      <td>BC</td>\n",
       "    </tr>\n",
       "    <tr>\n",
       "      <th>cell_2</th>\n",
       "      <td>OF1</td>\n",
       "      <td>OF</td>\n",
       "      <td>female</td>\n",
       "      <td>old</td>\n",
       "      <td>BC</td>\n",
       "    </tr>\n",
       "    <tr>\n",
       "      <th>cell_3</th>\n",
       "      <td>OF1</td>\n",
       "      <td>OF</td>\n",
       "      <td>female</td>\n",
       "      <td>old</td>\n",
       "      <td>BC</td>\n",
       "    </tr>\n",
       "    <tr>\n",
       "      <th>cell_4</th>\n",
       "      <td>OF1</td>\n",
       "      <td>OF</td>\n",
       "      <td>female</td>\n",
       "      <td>old</td>\n",
       "      <td>BC</td>\n",
       "    </tr>\n",
       "    <tr>\n",
       "      <th>cell_5</th>\n",
       "      <td>OF1</td>\n",
       "      <td>OF</td>\n",
       "      <td>female</td>\n",
       "      <td>old</td>\n",
       "      <td>BC</td>\n",
       "    </tr>\n",
       "  </tbody>\n",
       "</table>\n",
       "</div>"
      ],
      "text/plain": [
       "       Sample Condition     Sex  Age Celltype\n",
       "cell_1    OF1        OF  female  old       BC\n",
       "cell_2    OF1        OF  female  old       BC\n",
       "cell_3    OF1        OF  female  old       BC\n",
       "cell_4    OF1        OF  female  old       BC\n",
       "cell_5    OF1        OF  female  old       BC"
      ]
     },
     "execution_count": 7,
     "metadata": {},
     "output_type": "execute_result"
    }
   ],
   "source": [
    "# Convert count matrix to long format\n",
    "pbmc = convert_counts_to_df(pbmc_counts, column_name=\"Celltype\")\n",
    "pbmc.head()"
   ]
  },
  {
   "cell_type": "markdown",
   "metadata": {},
   "source": [
    "-------"
   ]
  },
  {
   "cell_type": "markdown",
   "metadata": {},
   "source": [
    "## Run Scanpro"
   ]
  },
  {
   "cell_type": "markdown",
   "metadata": {},
   "source": [
    "### Young vs Old"
   ]
  },
  {
   "cell_type": "code",
   "execution_count": 8,
   "metadata": {},
   "outputs": [
    {
     "name": "stdout",
     "output_type": "stream",
     "text": [
      "[INFO] There are 2 conditions. T-Test will be performed...\n",
      "[INFO] Done!\n"
     ]
    },
    {
     "data": {
      "text/html": [
       "<div>\n",
       "<style scoped>\n",
       "    .dataframe tbody tr th:only-of-type {\n",
       "        vertical-align: middle;\n",
       "    }\n",
       "\n",
       "    .dataframe tbody tr th {\n",
       "        vertical-align: top;\n",
       "    }\n",
       "\n",
       "    .dataframe thead th {\n",
       "        text-align: right;\n",
       "    }\n",
       "</style>\n",
       "<table border=\"1\" class=\"dataframe\">\n",
       "  <thead>\n",
       "    <tr style=\"text-align: right;\">\n",
       "      <th></th>\n",
       "      <th>baseline_props</th>\n",
       "      <th>mean_props_old</th>\n",
       "      <th>mean_props_young</th>\n",
       "      <th>prop_ratio</th>\n",
       "      <th>t_statistics</th>\n",
       "      <th>p_values</th>\n",
       "      <th>adjusted_p_values</th>\n",
       "    </tr>\n",
       "    <tr>\n",
       "      <th>clusters</th>\n",
       "      <th></th>\n",
       "      <th></th>\n",
       "      <th></th>\n",
       "      <th></th>\n",
       "      <th></th>\n",
       "      <th></th>\n",
       "      <th></th>\n",
       "    </tr>\n",
       "  </thead>\n",
       "  <tbody>\n",
       "    <tr>\n",
       "      <th>BC</th>\n",
       "      <td>0.098383</td>\n",
       "      <td>0.094222</td>\n",
       "      <td>0.102401</td>\n",
       "      <td>0.920131</td>\n",
       "      <td>-0.820489</td>\n",
       "      <td>0.415800</td>\n",
       "      <td>0.519750</td>\n",
       "    </tr>\n",
       "    <tr>\n",
       "      <th>DC</th>\n",
       "      <td>0.017112</td>\n",
       "      <td>0.016362</td>\n",
       "      <td>0.018018</td>\n",
       "      <td>0.908097</td>\n",
       "      <td>-0.251112</td>\n",
       "      <td>0.802748</td>\n",
       "      <td>0.802748</td>\n",
       "    </tr>\n",
       "    <tr>\n",
       "      <th>MC</th>\n",
       "      <td>0.171416</td>\n",
       "      <td>0.196655</td>\n",
       "      <td>0.143211</td>\n",
       "      <td>1.373180</td>\n",
       "      <td>2.608123</td>\n",
       "      <td>0.011948</td>\n",
       "      <td>0.059738</td>\n",
       "    </tr>\n",
       "    <tr>\n",
       "      <th>NK</th>\n",
       "      <td>0.146479</td>\n",
       "      <td>0.158121</td>\n",
       "      <td>0.133477</td>\n",
       "      <td>1.184627</td>\n",
       "      <td>1.081533</td>\n",
       "      <td>0.284606</td>\n",
       "      <td>0.474344</td>\n",
       "    </tr>\n",
       "    <tr>\n",
       "      <th>TC</th>\n",
       "      <td>0.566610</td>\n",
       "      <td>0.534640</td>\n",
       "      <td>0.602892</td>\n",
       "      <td>0.886791</td>\n",
       "      <td>-1.780506</td>\n",
       "      <td>0.081019</td>\n",
       "      <td>0.202548</td>\n",
       "    </tr>\n",
       "  </tbody>\n",
       "</table>\n",
       "</div>"
      ],
      "text/plain": [
       "          baseline_props  mean_props_old  mean_props_young  prop_ratio  \\\n",
       "clusters                                                                 \n",
       "BC              0.098383        0.094222          0.102401    0.920131   \n",
       "DC              0.017112        0.016362          0.018018    0.908097   \n",
       "MC              0.171416        0.196655          0.143211    1.373180   \n",
       "NK              0.146479        0.158121          0.133477    1.184627   \n",
       "TC              0.566610        0.534640          0.602892    0.886791   \n",
       "\n",
       "          t_statistics  p_values  adjusted_p_values  \n",
       "clusters                                             \n",
       "BC           -0.820489  0.415800           0.519750  \n",
       "DC           -0.251112  0.802748           0.802748  \n",
       "MC            2.608123  0.011948           0.059738  \n",
       "NK            1.081533  0.284606           0.474344  \n",
       "TC           -1.780506  0.081019           0.202548  "
      ]
     },
     "execution_count": 8,
     "metadata": {},
     "output_type": "execute_result"
    }
   ],
   "source": [
    "pbmc_young_old = scanpro.scanpro(pbmc, samples_col='Sample', clusters_col='Celltype', conds_col='Age')\n",
    "pbmc_young_old.results"
   ]
  },
  {
   "cell_type": "code",
   "execution_count": 9,
   "metadata": {},
   "outputs": [
    {
     "data": {
      "image/png": "[encoded data removed]",
      "text/plain": [
       "<Figure size 900x800 with 6 Axes>"
      ]
     },
     "metadata": {},
     "output_type": "display_data"
    }
   ],
   "source": [
    "pbmc_young_old.plot(save=\"plots/pbmc_age_stripplot.pdf\")"
   ]
  },
  {
   "cell_type": "markdown",
   "metadata": {},
   "source": [
    "#### With sex as covariate"
   ]
  },
  {
   "cell_type": "code",
   "execution_count": 10,
   "metadata": {},
   "outputs": [
    {
     "name": "stdout",
     "output_type": "stream",
     "text": [
      "[INFO] There are 2 conditions. T-Test will be performed...\n",
      "[INFO] Done!\n"
     ]
    },
    {
     "data": {
      "text/html": [
       "<div>\n",
       "<style scoped>\n",
       "    .dataframe tbody tr th:only-of-type {\n",
       "        vertical-align: middle;\n",
       "    }\n",
       "\n",
       "    .dataframe tbody tr th {\n",
       "        vertical-align: top;\n",
       "    }\n",
       "\n",
       "    .dataframe thead th {\n",
       "        text-align: right;\n",
       "    }\n",
       "</style>\n",
       "<table border=\"1\" class=\"dataframe\">\n",
       "  <thead>\n",
       "    <tr style=\"text-align: right;\">\n",
       "      <th></th>\n",
       "      <th>baseline_props</th>\n",
       "      <th>mean_props_old</th>\n",
       "      <th>mean_props_young</th>\n",
       "      <th>prop_ratio</th>\n",
       "      <th>t_statistics</th>\n",
       "      <th>p_values</th>\n",
       "      <th>adjusted_p_values</th>\n",
       "    </tr>\n",
       "    <tr>\n",
       "      <th>clusters</th>\n",
       "      <th></th>\n",
       "      <th></th>\n",
       "      <th></th>\n",
       "      <th></th>\n",
       "      <th></th>\n",
       "      <th></th>\n",
       "      <th></th>\n",
       "    </tr>\n",
       "  </thead>\n",
       "  <tbody>\n",
       "    <tr>\n",
       "      <th>BC</th>\n",
       "      <td>0.098383</td>\n",
       "      <td>0.094222</td>\n",
       "      <td>0.102401</td>\n",
       "      <td>0.920131</td>\n",
       "      <td>-0.847305</td>\n",
       "      <td>0.399205</td>\n",
       "      <td>0.499006</td>\n",
       "    </tr>\n",
       "    <tr>\n",
       "      <th>DC</th>\n",
       "      <td>0.017112</td>\n",
       "      <td>0.016362</td>\n",
       "      <td>0.018018</td>\n",
       "      <td>0.908097</td>\n",
       "      <td>-0.240203</td>\n",
       "      <td>0.810751</td>\n",
       "      <td>0.810751</td>\n",
       "    </tr>\n",
       "    <tr>\n",
       "      <th>MC</th>\n",
       "      <td>0.171416</td>\n",
       "      <td>0.196655</td>\n",
       "      <td>0.143211</td>\n",
       "      <td>1.373180</td>\n",
       "      <td>2.446304</td>\n",
       "      <td>0.016494</td>\n",
       "      <td>0.082471</td>\n",
       "    </tr>\n",
       "    <tr>\n",
       "      <th>NK</th>\n",
       "      <td>0.146479</td>\n",
       "      <td>0.158121</td>\n",
       "      <td>0.133477</td>\n",
       "      <td>1.184627</td>\n",
       "      <td>1.220507</td>\n",
       "      <td>0.225648</td>\n",
       "      <td>0.376080</td>\n",
       "    </tr>\n",
       "    <tr>\n",
       "      <th>TC</th>\n",
       "      <td>0.566610</td>\n",
       "      <td>0.534640</td>\n",
       "      <td>0.602892</td>\n",
       "      <td>0.886791</td>\n",
       "      <td>-1.782987</td>\n",
       "      <td>0.078158</td>\n",
       "      <td>0.195396</td>\n",
       "    </tr>\n",
       "  </tbody>\n",
       "</table>\n",
       "</div>"
      ],
      "text/plain": [
       "          baseline_props  mean_props_old  mean_props_young  prop_ratio  \\\n",
       "clusters                                                                 \n",
       "BC              0.098383        0.094222          0.102401    0.920131   \n",
       "DC              0.017112        0.016362          0.018018    0.908097   \n",
       "MC              0.171416        0.196655          0.143211    1.373180   \n",
       "NK              0.146479        0.158121          0.133477    1.184627   \n",
       "TC              0.566610        0.534640          0.602892    0.886791   \n",
       "\n",
       "          t_statistics  p_values  adjusted_p_values  \n",
       "clusters                                             \n",
       "BC           -0.847305  0.399205           0.499006  \n",
       "DC           -0.240203  0.810751           0.810751  \n",
       "MC            2.446304  0.016494           0.082471  \n",
       "NK            1.220507  0.225648           0.376080  \n",
       "TC           -1.782987  0.078158           0.195396  "
      ]
     },
     "execution_count": 10,
     "metadata": {},
     "output_type": "execute_result"
    }
   ],
   "source": [
    "pbmc_young_old_sex = scanpro.scanpro(pbmc, samples_col='Sample', clusters_col='Celltype', conds_col='Age', \n",
    "                                     covariates=[\"Sex\"])\n",
    "pbmc_young_old_sex.results"
   ]
  },
  {
   "cell_type": "markdown",
   "metadata": {},
   "source": [
    "### Male vs Female"
   ]
  },
  {
   "cell_type": "code",
   "execution_count": 11,
   "metadata": {},
   "outputs": [
    {
     "name": "stdout",
     "output_type": "stream",
     "text": [
      "[INFO] There are 2 conditions. T-Test will be performed...\n",
      "[INFO] Done!\n"
     ]
    },
    {
     "data": {
      "text/html": [
       "<div>\n",
       "<style scoped>\n",
       "    .dataframe tbody tr th:only-of-type {\n",
       "        vertical-align: middle;\n",
       "    }\n",
       "\n",
       "    .dataframe tbody tr th {\n",
       "        vertical-align: top;\n",
       "    }\n",
       "\n",
       "    .dataframe thead th {\n",
       "        text-align: right;\n",
       "    }\n",
       "</style>\n",
       "<table border=\"1\" class=\"dataframe\">\n",
       "  <thead>\n",
       "    <tr style=\"text-align: right;\">\n",
       "      <th></th>\n",
       "      <th>baseline_props</th>\n",
       "      <th>mean_props_female</th>\n",
       "      <th>mean_props_male</th>\n",
       "      <th>prop_ratio</th>\n",
       "      <th>t_statistics</th>\n",
       "      <th>p_values</th>\n",
       "      <th>adjusted_p_values</th>\n",
       "    </tr>\n",
       "    <tr>\n",
       "      <th>clusters</th>\n",
       "      <th></th>\n",
       "      <th></th>\n",
       "      <th></th>\n",
       "      <th></th>\n",
       "      <th></th>\n",
       "      <th></th>\n",
       "      <th></th>\n",
       "    </tr>\n",
       "  </thead>\n",
       "  <tbody>\n",
       "    <tr>\n",
       "      <th>BC</th>\n",
       "      <td>0.098383</td>\n",
       "      <td>0.101042</td>\n",
       "      <td>0.095581</td>\n",
       "      <td>1.057138</td>\n",
       "      <td>0.453598</td>\n",
       "      <td>0.651210</td>\n",
       "      <td>0.814013</td>\n",
       "    </tr>\n",
       "    <tr>\n",
       "      <th>DC</th>\n",
       "      <td>0.017112</td>\n",
       "      <td>0.015587</td>\n",
       "      <td>0.018793</td>\n",
       "      <td>0.829422</td>\n",
       "      <td>-1.054917</td>\n",
       "      <td>0.294287</td>\n",
       "      <td>0.490479</td>\n",
       "    </tr>\n",
       "    <tr>\n",
       "      <th>MC</th>\n",
       "      <td>0.171416</td>\n",
       "      <td>0.168821</td>\n",
       "      <td>0.171046</td>\n",
       "      <td>0.986995</td>\n",
       "      <td>-0.063599</td>\n",
       "      <td>0.949430</td>\n",
       "      <td>0.949430</td>\n",
       "    </tr>\n",
       "    <tr>\n",
       "      <th>NK</th>\n",
       "      <td>0.146479</td>\n",
       "      <td>0.116914</td>\n",
       "      <td>0.174684</td>\n",
       "      <td>0.669285</td>\n",
       "      <td>-2.636203</td>\n",
       "      <td>0.009874</td>\n",
       "      <td>0.049371</td>\n",
       "    </tr>\n",
       "    <tr>\n",
       "      <th>TC</th>\n",
       "      <td>0.566610</td>\n",
       "      <td>0.597636</td>\n",
       "      <td>0.539896</td>\n",
       "      <td>1.106946</td>\n",
       "      <td>1.447690</td>\n",
       "      <td>0.151178</td>\n",
       "      <td>0.377946</td>\n",
       "    </tr>\n",
       "  </tbody>\n",
       "</table>\n",
       "</div>"
      ],
      "text/plain": [
       "          baseline_props  mean_props_female  mean_props_male  prop_ratio  \\\n",
       "clusters                                                                   \n",
       "BC              0.098383           0.101042         0.095581    1.057138   \n",
       "DC              0.017112           0.015587         0.018793    0.829422   \n",
       "MC              0.171416           0.168821         0.171046    0.986995   \n",
       "NK              0.146479           0.116914         0.174684    0.669285   \n",
       "TC              0.566610           0.597636         0.539896    1.106946   \n",
       "\n",
       "          t_statistics  p_values  adjusted_p_values  \n",
       "clusters                                             \n",
       "BC            0.453598  0.651210           0.814013  \n",
       "DC           -1.054917  0.294287           0.490479  \n",
       "MC           -0.063599  0.949430           0.949430  \n",
       "NK           -2.636203  0.009874           0.049371  \n",
       "TC            1.447690  0.151178           0.377946  "
      ]
     },
     "execution_count": 11,
     "metadata": {},
     "output_type": "execute_result"
    }
   ],
   "source": [
    "pbmc_male_female = scanpro.scanpro(pbmc, samples_col='Sample', clusters_col='Celltype', conds_col='Sex')\n",
    "pbmc_male_female.results"
   ]
  },
  {
   "cell_type": "code",
   "execution_count": 12,
   "metadata": {},
   "outputs": [],
   "source": [
    "pbmc_male_female.results.to_csv(\"results/pbmc_scanpro_rep.tsv\", sep=\"\\t\")"
   ]
  },
  {
   "cell_type": "code",
   "execution_count": 13,
   "metadata": {},
   "outputs": [
    {
     "data": {
      "image/png": "[encoded data removed]",
      "text/plain": [
       "<Figure size 900x800 with 6 Axes>"
      ]
     },
     "metadata": {},
     "output_type": "display_data"
    }
   ],
   "source": [
    "pbmc_male_female.plot(save=f\"{FIG_PATH}/pbmc_sex_stripplot.pdf\")"
   ]
  },
  {
   "cell_type": "markdown",
   "metadata": {},
   "source": [
    "#### With age as covariate"
   ]
  },
  {
   "cell_type": "code",
   "execution_count": 14,
   "metadata": {
    "scrolled": true
   },
   "outputs": [
    {
     "name": "stdout",
     "output_type": "stream",
     "text": [
      "[INFO] There are 2 conditions. T-Test will be performed...\n",
      "[INFO] Done!\n"
     ]
    },
    {
     "data": {
      "text/html": [
       "<div>\n",
       "<style scoped>\n",
       "    .dataframe tbody tr th:only-of-type {\n",
       "        vertical-align: middle;\n",
       "    }\n",
       "\n",
       "    .dataframe tbody tr th {\n",
       "        vertical-align: top;\n",
       "    }\n",
       "\n",
       "    .dataframe thead th {\n",
       "        text-align: right;\n",
       "    }\n",
       "</style>\n",
       "<table border=\"1\" class=\"dataframe\">\n",
       "  <thead>\n",
       "    <tr style=\"text-align: right;\">\n",
       "      <th></th>\n",
       "      <th>baseline_props</th>\n",
       "      <th>mean_props_female</th>\n",
       "      <th>mean_props_male</th>\n",
       "      <th>prop_ratio</th>\n",
       "      <th>t_statistics</th>\n",
       "      <th>p_values</th>\n",
       "      <th>adjusted_p_values</th>\n",
       "    </tr>\n",
       "    <tr>\n",
       "      <th>clusters</th>\n",
       "      <th></th>\n",
       "      <th></th>\n",
       "      <th></th>\n",
       "      <th></th>\n",
       "      <th></th>\n",
       "      <th></th>\n",
       "      <th></th>\n",
       "    </tr>\n",
       "  </thead>\n",
       "  <tbody>\n",
       "    <tr>\n",
       "      <th>BC</th>\n",
       "      <td>0.098383</td>\n",
       "      <td>0.101042</td>\n",
       "      <td>0.095581</td>\n",
       "      <td>1.057138</td>\n",
       "      <td>0.466193</td>\n",
       "      <td>0.642270</td>\n",
       "      <td>0.802838</td>\n",
       "    </tr>\n",
       "    <tr>\n",
       "      <th>DC</th>\n",
       "      <td>0.017112</td>\n",
       "      <td>0.015587</td>\n",
       "      <td>0.018793</td>\n",
       "      <td>0.829422</td>\n",
       "      <td>-1.094385</td>\n",
       "      <td>0.276878</td>\n",
       "      <td>0.461463</td>\n",
       "    </tr>\n",
       "    <tr>\n",
       "      <th>MC</th>\n",
       "      <td>0.171416</td>\n",
       "      <td>0.168821</td>\n",
       "      <td>0.171046</td>\n",
       "      <td>0.986995</td>\n",
       "      <td>-0.066020</td>\n",
       "      <td>0.947517</td>\n",
       "      <td>0.947517</td>\n",
       "    </tr>\n",
       "    <tr>\n",
       "      <th>NK</th>\n",
       "      <td>0.146479</td>\n",
       "      <td>0.116914</td>\n",
       "      <td>0.174684</td>\n",
       "      <td>0.669285</td>\n",
       "      <td>-2.699387</td>\n",
       "      <td>0.008380</td>\n",
       "      <td>0.041900</td>\n",
       "    </tr>\n",
       "    <tr>\n",
       "      <th>TC</th>\n",
       "      <td>0.566610</td>\n",
       "      <td>0.597636</td>\n",
       "      <td>0.539896</td>\n",
       "      <td>1.106946</td>\n",
       "      <td>1.496382</td>\n",
       "      <td>0.138258</td>\n",
       "      <td>0.345645</td>\n",
       "    </tr>\n",
       "  </tbody>\n",
       "</table>\n",
       "</div>"
      ],
      "text/plain": [
       "          baseline_props  mean_props_female  mean_props_male  prop_ratio  \\\n",
       "clusters                                                                   \n",
       "BC              0.098383           0.101042         0.095581    1.057138   \n",
       "DC              0.017112           0.015587         0.018793    0.829422   \n",
       "MC              0.171416           0.168821         0.171046    0.986995   \n",
       "NK              0.146479           0.116914         0.174684    0.669285   \n",
       "TC              0.566610           0.597636         0.539896    1.106946   \n",
       "\n",
       "          t_statistics  p_values  adjusted_p_values  \n",
       "clusters                                             \n",
       "BC            0.466193  0.642270           0.802838  \n",
       "DC           -1.094385  0.276878           0.461463  \n",
       "MC           -0.066020  0.947517           0.947517  \n",
       "NK           -2.699387  0.008380           0.041900  \n",
       "TC            1.496382  0.138258           0.345645  "
      ]
     },
     "execution_count": 14,
     "metadata": {},
     "output_type": "execute_result"
    }
   ],
   "source": [
    "pbmc_male_female_age = scanpro.scanpro(pbmc, samples_col='Sample', clusters_col='Celltype', conds_col='Sex', covariates=\"Age\")\n",
    "pbmc_male_female_age.results"
   ]
  },
  {
   "cell_type": "markdown",
   "metadata": {},
   "source": [
    "## Run Scanpro without replicates"
   ]
  },
  {
   "cell_type": "code",
   "execution_count": 15,
   "metadata": {},
   "outputs": [
    {
     "name": "stdout",
     "output_type": "stream",
     "text": [
      "[INFO] Your data doesn't have replicates! Artificial replicates will be simulated to run scanpro.\n",
      "[WARNING] Consider setting transform='arcsin', as this produces more accurate results for simulated data.\n",
      "[INFO] Simulation may take some minutes...\n",
      "[INFO] Generating 8 replicates and running 100 simulations...\n",
      "[INFO] Finished 100 simulations in 37.24 seconds\n"
     ]
    }
   ],
   "source": [
    "pbmc_male_female_norep = scanpro.scanpro(pbmc, clusters_col='Celltype', conds_col='Sex')"
   ]
  },
  {
   "cell_type": "code",
   "execution_count": 16,
   "metadata": {},
   "outputs": [],
   "source": [
    "pbmc_male_female_norep.results.to_csv(\"results/pbmc_scanpro_norep.tsv\", sep=\"\\t\")"
   ]
  },
  {
   "cell_type": "code",
   "execution_count": 17,
   "metadata": {},
   "outputs": [
    {
     "data": {
      "image/png": "[encoded data removed]",
      "text/plain": [
       "<Figure size 900x800 with 11 Axes>"
      ]
     },
     "metadata": {},
     "output_type": "display_data"
    }
   ],
   "source": [
    "pbmc_male_female_norep.plot(save=\"plots/pbmc_sex_norep_stripplot.pdf\")"
   ]
  },
  {
   "cell_type": "markdown",
   "metadata": {},
   "source": [
    "-----------------------"
   ]
  },
  {
   "cell_type": "markdown",
   "metadata": {},
   "source": [
    "## Run propeller"
   ]
  },
  {
   "cell_type": "code",
   "execution_count": 18,
   "metadata": {},
   "outputs": [
    {
     "name": "stdout",
     "output_type": "stream",
     "text": [
      "\n",
      "    WARNING: The R package \"reticulate\" only fixed recently\n",
      "    an issue that caused a segfault when used with rpy2:\n",
      "    https://github.com/rstudio/reticulate/pull/1188\n",
      "    Make sure that you use a version of that package that includes\n",
      "    the fix.\n",
      "    "
     ]
    },
    {
     "data": {
      "text/plain": [
       "The legacy packages maptools, rgdal, and rgeos, underpinning the sp package,\n",
       "which was just loaded, will retire in October 2023.\n",
       "Please refer to R-spatial evolution reports for details, especially\n",
       "https://r-spatial.org/r/2023/05/15/evolution4.html.\n",
       "It may be desirable to make the sf package available;\n",
       "package maintainers should consider adding sf to Suggests:.\n",
       "The sp package is now running under evolution status 2\n",
       "     (status 2 uses the sf package in place of rgdal)\n",
       "Performing logit transformation of proportions\n",
       "group variable has 2 levels, t-tests will be performed\n"
      ]
     },
     "metadata": {},
     "output_type": "display_data"
    }
   ],
   "source": [
    "%%R -i pbmc -o propeller_results\n",
    "library(speckle)\n",
    "\n",
    "propeller_results = propeller(clusters = pbmc$Celltype, sample = pbmc$Sample, group = pbmc$Sex)"
   ]
  },
  {
   "cell_type": "code",
   "execution_count": 19,
   "metadata": {},
   "outputs": [
    {
     "data": {
      "text/html": [
       "<div>\n",
       "<style scoped>\n",
       "    .dataframe tbody tr th:only-of-type {\n",
       "        vertical-align: middle;\n",
       "    }\n",
       "\n",
       "    .dataframe tbody tr th {\n",
       "        vertical-align: top;\n",
       "    }\n",
       "\n",
       "    .dataframe thead th {\n",
       "        text-align: right;\n",
       "    }\n",
       "</style>\n",
       "<table border=\"1\" class=\"dataframe\">\n",
       "  <thead>\n",
       "    <tr style=\"text-align: right;\">\n",
       "      <th></th>\n",
       "      <th>BaselineProp.clusters</th>\n",
       "      <th>BaselineProp.Freq</th>\n",
       "      <th>PropMean.female</th>\n",
       "      <th>PropMean.male</th>\n",
       "      <th>PropRatio</th>\n",
       "      <th>Tstatistic</th>\n",
       "      <th>P.Value</th>\n",
       "      <th>FDR</th>\n",
       "    </tr>\n",
       "  </thead>\n",
       "  <tbody>\n",
       "    <tr>\n",
       "      <th>NK</th>\n",
       "      <td>NK</td>\n",
       "      <td>0.146479</td>\n",
       "      <td>0.116914</td>\n",
       "      <td>0.174684</td>\n",
       "      <td>0.669285</td>\n",
       "      <td>-2.637317</td>\n",
       "      <td>0.009844</td>\n",
       "      <td>0.049221</td>\n",
       "    </tr>\n",
       "    <tr>\n",
       "      <th>TC</th>\n",
       "      <td>TC</td>\n",
       "      <td>0.566610</td>\n",
       "      <td>0.597636</td>\n",
       "      <td>0.539896</td>\n",
       "      <td>1.106946</td>\n",
       "      <td>1.448420</td>\n",
       "      <td>0.150975</td>\n",
       "      <td>0.377437</td>\n",
       "    </tr>\n",
       "    <tr>\n",
       "      <th>DC</th>\n",
       "      <td>DC</td>\n",
       "      <td>0.017112</td>\n",
       "      <td>0.015587</td>\n",
       "      <td>0.018793</td>\n",
       "      <td>0.829422</td>\n",
       "      <td>-1.052536</td>\n",
       "      <td>0.295371</td>\n",
       "      <td>0.492285</td>\n",
       "    </tr>\n",
       "    <tr>\n",
       "      <th>BC</th>\n",
       "      <td>BC</td>\n",
       "      <td>0.098383</td>\n",
       "      <td>0.101042</td>\n",
       "      <td>0.095581</td>\n",
       "      <td>1.057138</td>\n",
       "      <td>0.453546</td>\n",
       "      <td>0.651248</td>\n",
       "      <td>0.814059</td>\n",
       "    </tr>\n",
       "    <tr>\n",
       "      <th>MC</th>\n",
       "      <td>MC</td>\n",
       "      <td>0.171416</td>\n",
       "      <td>0.168821</td>\n",
       "      <td>0.171046</td>\n",
       "      <td>0.986995</td>\n",
       "      <td>-0.063694</td>\n",
       "      <td>0.949355</td>\n",
       "      <td>0.949355</td>\n",
       "    </tr>\n",
       "  </tbody>\n",
       "</table>\n",
       "</div>"
      ],
      "text/plain": [
       "   BaselineProp.clusters  BaselineProp.Freq  PropMean.female  PropMean.male  \\\n",
       "NK                    NK           0.146479         0.116914       0.174684   \n",
       "TC                    TC           0.566610         0.597636       0.539896   \n",
       "DC                    DC           0.017112         0.015587       0.018793   \n",
       "BC                    BC           0.098383         0.101042       0.095581   \n",
       "MC                    MC           0.171416         0.168821       0.171046   \n",
       "\n",
       "    PropRatio  Tstatistic   P.Value       FDR  \n",
       "NK   0.669285   -2.637317  0.009844  0.049221  \n",
       "TC   1.106946    1.448420  0.150975  0.377437  \n",
       "DC   0.829422   -1.052536  0.295371  0.492285  \n",
       "BC   1.057138    0.453546  0.651248  0.814059  \n",
       "MC   0.986995   -0.063694  0.949355  0.949355  "
      ]
     },
     "execution_count": 19,
     "metadata": {},
     "output_type": "execute_result"
    }
   ],
   "source": [
    "propeller_results"
   ]
  },
  {
   "cell_type": "code",
   "execution_count": 20,
   "metadata": {},
   "outputs": [],
   "source": [
    "propeller_results.to_csv(\"results/pbmc_propeller_rep.tsv\", sep=\"\\t\")"
   ]
  },
  {
   "cell_type": "markdown",
   "metadata": {},
   "source": [
    "-------------"
   ]
  },
  {
   "cell_type": "markdown",
   "metadata": {},
   "source": [
    "## Run scCODA"
   ]
  },
  {
   "cell_type": "markdown",
   "metadata": {},
   "source": [
    "### Data preparation"
   ]
  },
  {
   "cell_type": "code",
   "execution_count": 21,
   "metadata": {},
   "outputs": [],
   "source": [
    "# With replicates\n",
    "sccoda_data = dat.from_pandas(pbmc_counts, covariate_columns=[\"Sample\", \"Condition\", \"Age\", \"Sex\"])\n",
    "\n",
    "# Without replicates\n",
    "counts_merged = pbmc_counts.groupby(\"Sex\").sum(numeric_only=True).reset_index()\n",
    "sccoda_data_norep = dat.from_pandas(counts_merged, covariate_columns=[\"Sex\"])"
   ]
  },
  {
   "cell_type": "markdown",
   "metadata": {},
   "source": [
    "### With replicates"
   ]
  },
  {
   "cell_type": "code",
   "execution_count": 22,
   "metadata": {
    "scrolled": true
   },
   "outputs": [
    {
     "name": "stdout",
     "output_type": "stream",
     "text": [
      "Automatic reference selection! Reference cell type set to DC\n",
      "WARNING:tensorflow:From /home/yalayou/.conda/envs/pypropeller/lib/python3.10/site-packages/tensorflow_probability/python/internal/batched_rejection_sampler.py:102: calling while_loop_v2 (from tensorflow.python.ops.while_loop) with back_prop=False is deprecated and will be removed in a future version.\n",
      "Instructions for updating:\n",
      "back_prop=False is deprecated. Consider using tf.stop_gradient instead.\n",
      "Instead of:\n",
      "results = tf.while_loop(c, b, vars, back_prop=False)\n",
      "Use:\n",
      "results = tf.nest.map_structure(tf.stop_gradient, tf.while_loop(c, b, vars))\n"
     ]
    },
    {
     "name": "stderr",
     "output_type": "stream",
     "text": [
      "2023-07-11 22:34:35.888062: I tensorflow/compiler/xla/service/service.cc:168] XLA service 0x7f67e4167d90 initialized for platform Host (this does not guarantee that XLA will be used). Devices:\n",
      "2023-07-11 22:34:35.888124: I tensorflow/compiler/xla/service/service.cc:176]   StreamExecutor device (0): Host, Default Version\n",
      "  0%|          | 0/20000 [00:00<?, ?it/s]2023-07-11 22:34:35.960090: I tensorflow/compiler/mlir/tensorflow/utils/dump_mlir_util.cc:255] disabling MLIR crash reproducer, set env var `MLIR_CRASH_REPRODUCER_DIRECTORY` to enable.\n",
      "2023-07-11 22:34:36.679924: I ./tensorflow/compiler/jit/device_compiler.h:186] Compiled cluster using XLA!  This line is logged at most once for the lifetime of the process.\n",
      "100%|██████████| 20000/20000 [02:09<00:00, 153.91it/s]\n"
     ]
    },
    {
     "name": "stdout",
     "output_type": "stream",
     "text": [
      "MCMC sampling finished. (169.465 sec)\n",
      "Acceptance rate: 0.0%\n"
     ]
    },
    {
     "name": "stderr",
     "output_type": "stream",
     "text": [
      "/home/yalayou/.conda/envs/pypropeller/lib/python3.10/site-packages/pandas/core/arraylike.py:396: RuntimeWarning: divide by zero encountered in log2\n",
      "  result = getattr(ufunc, method)(*inputs, **kwargs)\n",
      "/home/yalayou/.conda/envs/pypropeller/lib/python3.10/site-packages/numpy/lib/nanfunctions.py:1872: RuntimeWarning: Degrees of freedom <= 0 for slice.\n",
      "  var = nanvar(a, axis=axis, dtype=dtype, out=out, ddof=ddof,\n"
     ]
    }
   ],
   "source": [
    "sccoda_model = mod.CompositionalAnalysis(sccoda_data, formula=\"Sex\", reference_cell_type=\"automatic\")\n",
    "sccoda_results = sccoda_model.sample_hmc()"
   ]
  },
  {
   "cell_type": "code",
   "execution_count": 23,
   "metadata": {},
   "outputs": [
    {
     "name": "stdout",
     "output_type": "stream",
     "text": [
      "Compositional Analysis summary:\n",
      "\n",
      "Data: 20 samples, 5 cell types\n",
      "Reference index: 1\n",
      "Formula: Sex\n",
      "\n",
      "Intercepts:\n",
      "           Final Parameter  Expected Sample\n",
      "Cell Type                                  \n",
      "BC                  -3.144       223.486432\n",
      "DC                  -1.101      1723.910793\n",
      "MC                 -14.530         0.002537\n",
      "NK                  -3.450       164.572418\n",
      "TC                   0.243      6610.077819\n",
      "\n",
      "\n",
      "Effects:\n",
      "                       Final Parameter  Expected Sample  log2-fold change\n",
      "Covariate   Cell Type                                                    \n",
      "Sex[T.male] BC             -181.449889    7.949546e-286       -954.884606\n",
      "            DC                0.000000    3.893063e-206       -693.107751\n",
      "            MC             -499.746031     0.000000e+00              -inf\n",
      "            NK                0.000000    3.716496e-207       -693.107751\n",
      "            TC              480.702942     8.722050e+03          0.400000\n"
     ]
    }
   ],
   "source": [
    "sccoda_results.summary()"
   ]
  },
  {
   "cell_type": "code",
   "execution_count": 24,
   "metadata": {},
   "outputs": [
    {
     "data": {
      "text/html": [
       "<div>\n",
       "<style scoped>\n",
       "    .dataframe tbody tr th:only-of-type {\n",
       "        vertical-align: middle;\n",
       "    }\n",
       "\n",
       "    .dataframe tbody tr th {\n",
       "        vertical-align: top;\n",
       "    }\n",
       "\n",
       "    .dataframe thead th {\n",
       "        text-align: right;\n",
       "    }\n",
       "</style>\n",
       "<table border=\"1\" class=\"dataframe\">\n",
       "  <thead>\n",
       "    <tr style=\"text-align: right;\">\n",
       "      <th></th>\n",
       "      <th></th>\n",
       "      <th>credible_effect</th>\n",
       "    </tr>\n",
       "    <tr>\n",
       "      <th>Covariate</th>\n",
       "      <th>Cell Type</th>\n",
       "      <th></th>\n",
       "    </tr>\n",
       "  </thead>\n",
       "  <tbody>\n",
       "    <tr>\n",
       "      <th rowspan=\"5\" valign=\"top\">Sex[T.male]</th>\n",
       "      <th>BC</th>\n",
       "      <td>True</td>\n",
       "    </tr>\n",
       "    <tr>\n",
       "      <th>DC</th>\n",
       "      <td>False</td>\n",
       "    </tr>\n",
       "    <tr>\n",
       "      <th>MC</th>\n",
       "      <td>True</td>\n",
       "    </tr>\n",
       "    <tr>\n",
       "      <th>NK</th>\n",
       "      <td>False</td>\n",
       "    </tr>\n",
       "    <tr>\n",
       "      <th>TC</th>\n",
       "      <td>True</td>\n",
       "    </tr>\n",
       "  </tbody>\n",
       "</table>\n",
       "</div>"
      ],
      "text/plain": [
       "                       credible_effect\n",
       "Covariate   Cell Type                 \n",
       "Sex[T.male] BC                    True\n",
       "            DC                   False\n",
       "            MC                    True\n",
       "            NK                   False\n",
       "            TC                    True"
      ]
     },
     "execution_count": 24,
     "metadata": {},
     "output_type": "execute_result"
    }
   ],
   "source": [
    "sccoda_out =sccoda_results.credible_effects().to_frame(name=\"credible_effect\")\n",
    "sccoda_out.to_csv(\"results/pbmc_sccoda_rep.tsv\", sep=\"\\t\")\n",
    "sccoda_out"
   ]
  },
  {
   "cell_type": "markdown",
   "metadata": {},
   "source": [
    "### Without replicates"
   ]
  },
  {
   "cell_type": "code",
   "execution_count": 25,
   "metadata": {
    "scrolled": true
   },
   "outputs": [
    {
     "name": "stdout",
     "output_type": "stream",
     "text": [
      "Automatic reference selection! Reference cell type set to MC\n"
     ]
    },
    {
     "name": "stderr",
     "output_type": "stream",
     "text": [
      "100%|██████████| 20000/20000 [02:05<00:00, 158.81it/s]\n"
     ]
    },
    {
     "name": "stdout",
     "output_type": "stream",
     "text": [
      "MCMC sampling finished. (160.414 sec)\n",
      "Acceptance rate: 4.3%\n"
     ]
    },
    {
     "name": "stderr",
     "output_type": "stream",
     "text": [
      "/home/yalayou/.conda/envs/pypropeller/lib/python3.10/site-packages/numpy/lib/nanfunctions.py:1872: RuntimeWarning: Degrees of freedom <= 0 for slice.\n",
      "  var = nanvar(a, axis=axis, dtype=dtype, out=out, ddof=ddof,\n"
     ]
    },
    {
     "name": "stdout",
     "output_type": "stream",
     "text": [
      "Automatic reference selection! Reference cell type set to MC\n"
     ]
    },
    {
     "name": "stderr",
     "output_type": "stream",
     "text": [
      "100%|██████████| 20000/20000 [02:05<00:00, 159.44it/s]\n"
     ]
    },
    {
     "name": "stdout",
     "output_type": "stream",
     "text": [
      "MCMC sampling finished. (159.244 sec)\n",
      "Acceptance rate: 13.8%\n",
      "Automatic reference selection! Reference cell type set to MC\n"
     ]
    },
    {
     "name": "stderr",
     "output_type": "stream",
     "text": [
      "100%|██████████| 20000/20000 [02:02<00:00, 162.71it/s]\n"
     ]
    },
    {
     "name": "stdout",
     "output_type": "stream",
     "text": [
      "MCMC sampling finished. (155.805 sec)\n",
      "Acceptance rate: 11.9%\n"
     ]
    },
    {
     "name": "stderr",
     "output_type": "stream",
     "text": [
      "/home/yalayou/.conda/envs/pypropeller/lib/python3.10/site-packages/numpy/lib/nanfunctions.py:1872: RuntimeWarning: Degrees of freedom <= 0 for slice.\n",
      "  var = nanvar(a, axis=axis, dtype=dtype, out=out, ddof=ddof,\n"
     ]
    },
    {
     "name": "stdout",
     "output_type": "stream",
     "text": [
      "Automatic reference selection! Reference cell type set to MC\n"
     ]
    },
    {
     "name": "stderr",
     "output_type": "stream",
     "text": [
      "100%|██████████| 20000/20000 [02:06<00:00, 157.90it/s]\n"
     ]
    },
    {
     "name": "stdout",
     "output_type": "stream",
     "text": [
      "WARNING:tensorflow:5 out of the last 5 calls to <function CompositionalModel.sampling.<locals>.sample_mcmc at 0x7f680060ecb0> triggered tf.function retracing. Tracing is expensive and the excessive number of tracings could be due to (1) creating @tf.function repeatedly in a loop, (2) passing tensors with different shapes, (3) passing Python objects instead of tensors. For (1), please define your @tf.function outside of the loop. For (2), @tf.function has reduce_retracing=True option that can avoid unnecessary retracing. For (3), please refer to https://www.tensorflow.org/guide/function#controlling_retracing and https://www.tensorflow.org/api_docs/python/tf/function for  more details.\n",
      "MCMC sampling finished. (158.783 sec)\n",
      "Acceptance rate: 2.2%\n"
     ]
    },
    {
     "name": "stderr",
     "output_type": "stream",
     "text": [
      "/home/yalayou/.conda/envs/pypropeller/lib/python3.10/site-packages/numpy/lib/nanfunctions.py:1872: RuntimeWarning: Degrees of freedom <= 0 for slice.\n",
      "  var = nanvar(a, axis=axis, dtype=dtype, out=out, ddof=ddof,\n"
     ]
    },
    {
     "name": "stdout",
     "output_type": "stream",
     "text": [
      "Automatic reference selection! Reference cell type set to MC\n"
     ]
    },
    {
     "name": "stderr",
     "output_type": "stream",
     "text": [
      "100%|██████████| 20000/20000 [02:08<00:00, 155.74it/s]\n"
     ]
    },
    {
     "name": "stdout",
     "output_type": "stream",
     "text": [
      "WARNING:tensorflow:6 out of the last 6 calls to <function CompositionalModel.sampling.<locals>.sample_mcmc at 0x7f67638a0700> triggered tf.function retracing. Tracing is expensive and the excessive number of tracings could be due to (1) creating @tf.function repeatedly in a loop, (2) passing tensors with different shapes, (3) passing Python objects instead of tensors. For (1), please define your @tf.function outside of the loop. For (2), @tf.function has reduce_retracing=True option that can avoid unnecessary retracing. For (3), please refer to https://www.tensorflow.org/guide/function#controlling_retracing and https://www.tensorflow.org/api_docs/python/tf/function for  more details.\n",
      "MCMC sampling finished. (160.670 sec)\n",
      "Acceptance rate: 11.1%\n"
     ]
    },
    {
     "name": "stderr",
     "output_type": "stream",
     "text": [
      "/home/yalayou/.conda/envs/pypropeller/lib/python3.10/site-packages/numpy/lib/nanfunctions.py:1872: RuntimeWarning: Degrees of freedom <= 0 for slice.\n",
      "  var = nanvar(a, axis=axis, dtype=dtype, out=out, ddof=ddof,\n"
     ]
    },
    {
     "name": "stdout",
     "output_type": "stream",
     "text": [
      "Automatic reference selection! Reference cell type set to MC\n"
     ]
    },
    {
     "name": "stderr",
     "output_type": "stream",
     "text": [
      "100%|██████████| 20000/20000 [02:02<00:00, 163.41it/s]\n"
     ]
    },
    {
     "name": "stdout",
     "output_type": "stream",
     "text": [
      "MCMC sampling finished. (154.664 sec)\n",
      "Acceptance rate: 55.1%\n",
      "Automatic reference selection! Reference cell type set to MC\n"
     ]
    },
    {
     "name": "stderr",
     "output_type": "stream",
     "text": [
      "100%|██████████| 20000/20000 [02:05<00:00, 159.26it/s]\n"
     ]
    },
    {
     "name": "stdout",
     "output_type": "stream",
     "text": [
      "MCMC sampling finished. (158.136 sec)\n",
      "Acceptance rate: 5.3%\n"
     ]
    },
    {
     "name": "stderr",
     "output_type": "stream",
     "text": [
      "/home/yalayou/.conda/envs/pypropeller/lib/python3.10/site-packages/numpy/lib/nanfunctions.py:1872: RuntimeWarning: Degrees of freedom <= 0 for slice.\n",
      "  var = nanvar(a, axis=axis, dtype=dtype, out=out, ddof=ddof,\n"
     ]
    },
    {
     "name": "stdout",
     "output_type": "stream",
     "text": [
      "Automatic reference selection! Reference cell type set to MC\n"
     ]
    },
    {
     "name": "stderr",
     "output_type": "stream",
     "text": [
      "100%|██████████| 20000/20000 [02:04<00:00, 160.66it/s]\n"
     ]
    },
    {
     "name": "stdout",
     "output_type": "stream",
     "text": [
      "MCMC sampling finished. (157.643 sec)\n",
      "Acceptance rate: 0.0%\n"
     ]
    },
    {
     "name": "stderr",
     "output_type": "stream",
     "text": [
      "/home/yalayou/.conda/envs/pypropeller/lib/python3.10/site-packages/numpy/lib/nanfunctions.py:1872: RuntimeWarning: Degrees of freedom <= 0 for slice.\n",
      "  var = nanvar(a, axis=axis, dtype=dtype, out=out, ddof=ddof,\n"
     ]
    },
    {
     "name": "stdout",
     "output_type": "stream",
     "text": [
      "Automatic reference selection! Reference cell type set to MC\n"
     ]
    },
    {
     "name": "stderr",
     "output_type": "stream",
     "text": [
      "100%|██████████| 20000/20000 [02:04<00:00, 160.78it/s]\n"
     ]
    },
    {
     "name": "stdout",
     "output_type": "stream",
     "text": [
      "MCMC sampling finished. (161.071 sec)\n",
      "Acceptance rate: 64.9%\n",
      "Automatic reference selection! Reference cell type set to MC\n"
     ]
    },
    {
     "name": "stderr",
     "output_type": "stream",
     "text": [
      "100%|██████████| 20000/20000 [02:08<00:00, 155.15it/s]\n"
     ]
    },
    {
     "name": "stdout",
     "output_type": "stream",
     "text": [
      "MCMC sampling finished. (165.041 sec)\n",
      "Acceptance rate: 21.2%\n"
     ]
    }
   ],
   "source": [
    "credeff_list = []\n",
    "for _ in range(10):\n",
    "    pbmc_model_norep = mod.CompositionalAnalysis(sccoda_data_norep, formula=\"Sex\", reference_cell_type=\"automatic\")\n",
    "    sccoda_results_norep = pbmc_model_norep.sample_hmc()\n",
    "    credeff_list.append(sccoda_results_norep.credible_effects())"
   ]
  },
  {
   "cell_type": "code",
   "execution_count": 26,
   "metadata": {},
   "outputs": [
    {
     "data": {
      "text/html": [
       "<div>\n",
       "<style scoped>\n",
       "    .dataframe tbody tr th:only-of-type {\n",
       "        vertical-align: middle;\n",
       "    }\n",
       "\n",
       "    .dataframe tbody tr th {\n",
       "        vertical-align: top;\n",
       "    }\n",
       "\n",
       "    .dataframe thead th {\n",
       "        text-align: right;\n",
       "    }\n",
       "</style>\n",
       "<table border=\"1\" class=\"dataframe\">\n",
       "  <thead>\n",
       "    <tr style=\"text-align: right;\">\n",
       "      <th></th>\n",
       "      <th></th>\n",
       "      <th>pct_credible_effect</th>\n",
       "    </tr>\n",
       "    <tr>\n",
       "      <th>Covariate</th>\n",
       "      <th>Cell Type</th>\n",
       "      <th></th>\n",
       "    </tr>\n",
       "  </thead>\n",
       "  <tbody>\n",
       "    <tr>\n",
       "      <th rowspan=\"5\" valign=\"top\">Sex[T.male]</th>\n",
       "      <th>BC</th>\n",
       "      <td>30.0</td>\n",
       "    </tr>\n",
       "    <tr>\n",
       "      <th>DC</th>\n",
       "      <td>20.0</td>\n",
       "    </tr>\n",
       "    <tr>\n",
       "      <th>MC</th>\n",
       "      <td>0.0</td>\n",
       "    </tr>\n",
       "    <tr>\n",
       "      <th>NK</th>\n",
       "      <td>60.0</td>\n",
       "    </tr>\n",
       "    <tr>\n",
       "      <th>TC</th>\n",
       "      <td>50.0</td>\n",
       "    </tr>\n",
       "  </tbody>\n",
       "</table>\n",
       "</div>"
      ],
      "text/plain": [
       "                       pct_credible_effect\n",
       "Covariate   Cell Type                     \n",
       "Sex[T.male] BC                        30.0\n",
       "            DC                        20.0\n",
       "            MC                         0.0\n",
       "            NK                        60.0\n",
       "            TC                        50.0"
      ]
     },
     "execution_count": 26,
     "metadata": {},
     "output_type": "execute_result"
    }
   ],
   "source": [
    "# Collect credible effects\n",
    "all_credeff = pd.concat(credeff_list)\n",
    "pct_credeff = all_credeff.groupby(all_credeff.index.names).mean().to_frame(\"pct_credible_effect\") * 100\n",
    "pct_credeff"
   ]
  },
  {
   "cell_type": "code",
   "execution_count": 27,
   "metadata": {},
   "outputs": [],
   "source": [
    "pct_credeff.to_csv(\"results/pbmc_sccoda_norep.tsv\", sep=\"\\t\")"
   ]
  },
  {
   "cell_type": "code",
   "execution_count": null,
   "metadata": {},
   "outputs": [],
   "source": []
  }
 ],
 "metadata": {
  "kernelspec": {
   "display_name": "pypropeller",
   "language": "python",
   "name": "pypropeller"
  },
  "language_info": {
   "codemirror_mode": {
    "name": "ipython",
    "version": 3
   },
   "file_extension": ".py",
   "mimetype": "text/x-python",
   "name": "python",
   "nbconvert_exporter": "python",
   "pygments_lexer": "ipython3",
   "version": "3.10.12"
  },
  "vscode": {
   "interpreter": {
    "hash": "8a5edab282632443219e051e4ade2d1d5bbc671c781051bf1437897cbdfea0f1"
   }
  }
 },
 "nbformat": 4,
 "nbformat_minor": 2
}
