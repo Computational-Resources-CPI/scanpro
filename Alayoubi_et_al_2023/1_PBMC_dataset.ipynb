{
 "cells": [
  {
   "cell_type": "markdown",
   "metadata": {},
   "source": [
    "# 1. PBMC data of immune cells from young and old, male and female samples\n",
    "\n",
    "Huang, Zhaohao, Binyao Chen, Xiuxing Liu, He Li, Lihui Xie, Yuehan Gao, Runping Duan, et al. 2021. “Effects of Sex and Aging on the Immune Cell Landscape as Assessed by Single-Cell Transcriptomic Analysis.” Proceedings of the National Academy of Sciences of the United States of America 118 (33). https://doi.org/10.1073/pnas.2023216118."
   ]
  },
  {
   "cell_type": "code",
   "execution_count": 1,
   "metadata": {},
   "outputs": [
    {
     "name": "stderr",
     "output_type": "stream",
     "text": [
      "2023-06-30 17:23:08.066074: I tensorflow/core/util/port.cc:110] oneDNN custom operations are on. You may see slightly different numerical results due to floating-point round-off errors from different computation orders. To turn them off, set the environment variable `TF_ENABLE_ONEDNN_OPTS=0`.\n",
      "2023-06-30 17:23:08.069021: I tensorflow/tsl/cuda/cudart_stub.cc:28] Could not find cuda drivers on your machine, GPU will not be used.\n",
      "2023-06-30 17:23:08.135767: I tensorflow/tsl/cuda/cudart_stub.cc:28] Could not find cuda drivers on your machine, GPU will not be used.\n",
      "2023-06-30 17:23:08.137265: I tensorflow/core/platform/cpu_feature_guard.cc:182] This TensorFlow binary is optimized to use available CPU instructions in performance-critical operations.\n",
      "To enable the following instructions: AVX2 AVX512F AVX512_VNNI FMA, in other operations, rebuild TensorFlow with the appropriate compiler flags.\n",
      "2023-06-30 17:23:09.087898: W tensorflow/compiler/tf2tensorrt/utils/py_utils.cc:38] TF-TRT Warning: Could not find TensorRT\n"
     ]
    },
    {
     "name": "stdout",
     "output_type": "stream",
     "text": [
      "sccoda version: 0.1.9\n"
     ]
    }
   ],
   "source": [
    "import os\n",
    "import sys\n",
    "import pandas as pd\n",
    "import numpy as np\n",
    "import seaborn as sns\n",
    "import matplotlib.pyplot as plt\n",
    "\n",
    "# Scanpro functions\n",
    "from scanpro import scanpro\n",
    "\n",
    "# scCODA functions\n",
    "import sccoda\n",
    "from sccoda.util import comp_ana as mod\n",
    "from sccoda.util import cell_composition_data as dat\n",
    "from sccoda.util import data_visualization as viz\n",
    "print(f\"sccoda version: {sccoda.__version__}\")\n",
    "\n",
    "#Setup path to R for propeller\n",
    "R_home = os.path.dirname(sys.executable)[:-4] + \"/lib/R\"\n",
    "os.environ[\"R_HOME\"] = R_home\n",
    "%load_ext rpy2.ipython"
   ]
  },
  {
   "cell_type": "code",
   "execution_count": 2,
   "metadata": {},
   "outputs": [
    {
     "name": "stdout",
     "output_type": "stream",
     "text": [
      "The rpy2.ipython extension is already loaded. To reload it, use:\n",
      "  %reload_ext rpy2.ipython\n"
     ]
    }
   ],
   "source": [
    "#Setup path to R for propeller\n",
    "R_home = os.path.dirname(sys.executable)[:-4] + \"/lib/R\"\n",
    "os.environ[\"R_HOME\"] = R_home\n",
    "%load_ext rpy2.ipython"
   ]
  },
  {
   "cell_type": "code",
   "execution_count": 3,
   "metadata": {},
   "outputs": [],
   "source": [
    "# path where figures are going to be saved\n",
    "FIG_PATH = 'plots'"
   ]
  },
  {
   "cell_type": "code",
   "execution_count": 4,
   "metadata": {
    "code_folding": [],
    "run_control": {
     "marked": false
    }
   },
   "outputs": [],
   "source": [
    "def convert_counts_to_df(counts, prop_cols=None, meta_cols=None, n_cells=1, column_name=\"Cluster\"):\n",
    "    \"\"\" Convert a cell count matrix to a dataframe in long format.\"\"\"\n",
    "\n",
    "    counts = counts.copy()\n",
    "\n",
    "    #If not given, try to get prop_cols and meta_cols automatically\n",
    "    if prop_cols is None:\n",
    "        dtypes = counts.dtypes.astype(str)\n",
    "        prop_cols = [col for i, col in enumerate(counts.columns) if \"float\" in dtypes[i] or \"int\" in dtypes[i]]\n",
    "        \n",
    "    if meta_cols is None:\n",
    "        meta_cols = [col for col in counts.columns if col not in prop_cols]\n",
    "\n",
    "    # Multiply proportions with n_cells\n",
    "    counts[prop_cols] *= n_cells\n",
    "    counts[prop_cols] = counts[prop_cols].astype(int)\n",
    "    \n",
    "    # Melt into long format (similar to adata.obs)\n",
    "    counts_melt = pd.melt(counts, id_vars=meta_cols, value_vars=prop_cols, \n",
    "                          var_name=column_name, value_name=\"count\")\n",
    "\n",
    "    # Duplicate rows based on number of cells\n",
    "    counts_long = counts_melt.loc[counts_melt.index.repeat(counts_melt[\"count\"])].reset_index(drop=True)\n",
    "    counts_long.drop(columns=\"count\", inplace=True)\n",
    "    counts_long.index = [\"cell_\" + str(i) for i in range(1, len(counts_long) + 1)]\n",
    "    \n",
    "    return counts_long"
   ]
  },
  {
   "cell_type": "markdown",
   "metadata": {},
   "source": [
    "------------------"
   ]
  },
  {
   "cell_type": "markdown",
   "metadata": {},
   "source": [
    "## Read data"
   ]
  },
  {
   "cell_type": "code",
   "execution_count": 5,
   "metadata": {},
   "outputs": [],
   "source": [
    "pbmc_counts = pd.read_csv(\"data/pbmc_counts.tsv\", sep=\"\\t\")"
   ]
  },
  {
   "cell_type": "code",
   "execution_count": 6,
   "metadata": {},
   "outputs": [
    {
     "data": {
      "text/html": [
       "<div>\n",
       "<style scoped>\n",
       "    .dataframe tbody tr th:only-of-type {\n",
       "        vertical-align: middle;\n",
       "    }\n",
       "\n",
       "    .dataframe tbody tr th {\n",
       "        vertical-align: top;\n",
       "    }\n",
       "\n",
       "    .dataframe thead th {\n",
       "        text-align: right;\n",
       "    }\n",
       "</style>\n",
       "<table border=\"1\" class=\"dataframe\">\n",
       "  <thead>\n",
       "    <tr style=\"text-align: right;\">\n",
       "      <th></th>\n",
       "      <th>Sample</th>\n",
       "      <th>Condition</th>\n",
       "      <th>Sex</th>\n",
       "      <th>Age</th>\n",
       "      <th>BC</th>\n",
       "      <th>DC</th>\n",
       "      <th>MC</th>\n",
       "      <th>NK</th>\n",
       "      <th>TC</th>\n",
       "    </tr>\n",
       "  </thead>\n",
       "  <tbody>\n",
       "    <tr>\n",
       "      <th>0</th>\n",
       "      <td>OF1</td>\n",
       "      <td>OF</td>\n",
       "      <td>female</td>\n",
       "      <td>old</td>\n",
       "      <td>1449</td>\n",
       "      <td>135</td>\n",
       "      <td>1342</td>\n",
       "      <td>1328</td>\n",
       "      <td>4574</td>\n",
       "    </tr>\n",
       "    <tr>\n",
       "      <th>1</th>\n",
       "      <td>OF2</td>\n",
       "      <td>OF</td>\n",
       "      <td>female</td>\n",
       "      <td>old</td>\n",
       "      <td>677</td>\n",
       "      <td>148</td>\n",
       "      <td>2159</td>\n",
       "      <td>746</td>\n",
       "      <td>5097</td>\n",
       "    </tr>\n",
       "    <tr>\n",
       "      <th>2</th>\n",
       "      <td>OF3</td>\n",
       "      <td>OF</td>\n",
       "      <td>female</td>\n",
       "      <td>old</td>\n",
       "      <td>552</td>\n",
       "      <td>124</td>\n",
       "      <td>1507</td>\n",
       "      <td>1108</td>\n",
       "      <td>5535</td>\n",
       "    </tr>\n",
       "    <tr>\n",
       "      <th>3</th>\n",
       "      <td>OF4</td>\n",
       "      <td>OF</td>\n",
       "      <td>female</td>\n",
       "      <td>old</td>\n",
       "      <td>666</td>\n",
       "      <td>146</td>\n",
       "      <td>1277</td>\n",
       "      <td>589</td>\n",
       "      <td>6151</td>\n",
       "    </tr>\n",
       "    <tr>\n",
       "      <th>4</th>\n",
       "      <td>OF5</td>\n",
       "      <td>OF</td>\n",
       "      <td>female</td>\n",
       "      <td>old</td>\n",
       "      <td>653</td>\n",
       "      <td>137</td>\n",
       "      <td>2027</td>\n",
       "      <td>1632</td>\n",
       "      <td>4379</td>\n",
       "    </tr>\n",
       "  </tbody>\n",
       "</table>\n",
       "</div>"
      ],
      "text/plain": [
       "  Sample Condition     Sex  Age    BC   DC    MC    NK    TC\n",
       "0    OF1        OF  female  old  1449  135  1342  1328  4574\n",
       "1    OF2        OF  female  old   677  148  2159   746  5097\n",
       "2    OF3        OF  female  old   552  124  1507  1108  5535\n",
       "3    OF4        OF  female  old   666  146  1277   589  6151\n",
       "4    OF5        OF  female  old   653  137  2027  1632  4379"
      ]
     },
     "execution_count": 6,
     "metadata": {},
     "output_type": "execute_result"
    }
   ],
   "source": [
    "pbmc_counts.head()"
   ]
  },
  {
   "cell_type": "code",
   "execution_count": 7,
   "metadata": {},
   "outputs": [
    {
     "data": {
      "text/html": [
       "<div>\n",
       "<style scoped>\n",
       "    .dataframe tbody tr th:only-of-type {\n",
       "        vertical-align: middle;\n",
       "    }\n",
       "\n",
       "    .dataframe tbody tr th {\n",
       "        vertical-align: top;\n",
       "    }\n",
       "\n",
       "    .dataframe thead th {\n",
       "        text-align: right;\n",
       "    }\n",
       "</style>\n",
       "<table border=\"1\" class=\"dataframe\">\n",
       "  <thead>\n",
       "    <tr style=\"text-align: right;\">\n",
       "      <th></th>\n",
       "      <th>Sample</th>\n",
       "      <th>Condition</th>\n",
       "      <th>Sex</th>\n",
       "      <th>Age</th>\n",
       "      <th>Celltype</th>\n",
       "    </tr>\n",
       "  </thead>\n",
       "  <tbody>\n",
       "    <tr>\n",
       "      <th>cell_1</th>\n",
       "      <td>OF1</td>\n",
       "      <td>OF</td>\n",
       "      <td>female</td>\n",
       "      <td>old</td>\n",
       "      <td>BC</td>\n",
       "    </tr>\n",
       "    <tr>\n",
       "      <th>cell_2</th>\n",
       "      <td>OF1</td>\n",
       "      <td>OF</td>\n",
       "      <td>female</td>\n",
       "      <td>old</td>\n",
       "      <td>BC</td>\n",
       "    </tr>\n",
       "    <tr>\n",
       "      <th>cell_3</th>\n",
       "      <td>OF1</td>\n",
       "      <td>OF</td>\n",
       "      <td>female</td>\n",
       "      <td>old</td>\n",
       "      <td>BC</td>\n",
       "    </tr>\n",
       "    <tr>\n",
       "      <th>cell_4</th>\n",
       "      <td>OF1</td>\n",
       "      <td>OF</td>\n",
       "      <td>female</td>\n",
       "      <td>old</td>\n",
       "      <td>BC</td>\n",
       "    </tr>\n",
       "    <tr>\n",
       "      <th>cell_5</th>\n",
       "      <td>OF1</td>\n",
       "      <td>OF</td>\n",
       "      <td>female</td>\n",
       "      <td>old</td>\n",
       "      <td>BC</td>\n",
       "    </tr>\n",
       "  </tbody>\n",
       "</table>\n",
       "</div>"
      ],
      "text/plain": [
       "       Sample Condition     Sex  Age Celltype\n",
       "cell_1    OF1        OF  female  old       BC\n",
       "cell_2    OF1        OF  female  old       BC\n",
       "cell_3    OF1        OF  female  old       BC\n",
       "cell_4    OF1        OF  female  old       BC\n",
       "cell_5    OF1        OF  female  old       BC"
      ]
     },
     "execution_count": 7,
     "metadata": {},
     "output_type": "execute_result"
    }
   ],
   "source": [
    "# Convert count matrix to long format\n",
    "pbmc = convert_counts_to_df(pbmc_counts, column_name=\"Celltype\")\n",
    "pbmc.head()"
   ]
  },
  {
   "cell_type": "markdown",
   "metadata": {},
   "source": [
    "-------"
   ]
  },
  {
   "cell_type": "markdown",
   "metadata": {},
   "source": [
    "## Run Scanpro"
   ]
  },
  {
   "cell_type": "markdown",
   "metadata": {},
   "source": [
    "### Young vs Old"
   ]
  },
  {
   "cell_type": "code",
   "execution_count": 8,
   "metadata": {},
   "outputs": [
    {
     "name": "stdout",
     "output_type": "stream",
     "text": [
      "[INFO] There are 2 conditions. T-Test will be performed...\n",
      "[INFO] Done!\n"
     ]
    },
    {
     "data": {
      "text/html": [
       "<div>\n",
       "<style scoped>\n",
       "    .dataframe tbody tr th:only-of-type {\n",
       "        vertical-align: middle;\n",
       "    }\n",
       "\n",
       "    .dataframe tbody tr th {\n",
       "        vertical-align: top;\n",
       "    }\n",
       "\n",
       "    .dataframe thead th {\n",
       "        text-align: right;\n",
       "    }\n",
       "</style>\n",
       "<table border=\"1\" class=\"dataframe\">\n",
       "  <thead>\n",
       "    <tr style=\"text-align: right;\">\n",
       "      <th></th>\n",
       "      <th>baseline_props</th>\n",
       "      <th>mean_props_old</th>\n",
       "      <th>mean_props_young</th>\n",
       "      <th>prop_ratio</th>\n",
       "      <th>t_statistics</th>\n",
       "      <th>p_values</th>\n",
       "      <th>adjusted_p_values</th>\n",
       "    </tr>\n",
       "    <tr>\n",
       "      <th>Celltype</th>\n",
       "      <th></th>\n",
       "      <th></th>\n",
       "      <th></th>\n",
       "      <th></th>\n",
       "      <th></th>\n",
       "      <th></th>\n",
       "      <th></th>\n",
       "    </tr>\n",
       "  </thead>\n",
       "  <tbody>\n",
       "    <tr>\n",
       "      <th>BC</th>\n",
       "      <td>0.098383</td>\n",
       "      <td>0.094222</td>\n",
       "      <td>0.102401</td>\n",
       "      <td>0.920131</td>\n",
       "      <td>-0.820623</td>\n",
       "      <td>0.415756</td>\n",
       "      <td>0.519695</td>\n",
       "    </tr>\n",
       "    <tr>\n",
       "      <th>DC</th>\n",
       "      <td>0.017112</td>\n",
       "      <td>0.016362</td>\n",
       "      <td>0.018018</td>\n",
       "      <td>0.908097</td>\n",
       "      <td>-0.253956</td>\n",
       "      <td>0.800571</td>\n",
       "      <td>0.800571</td>\n",
       "    </tr>\n",
       "    <tr>\n",
       "      <th>MC</th>\n",
       "      <td>0.171416</td>\n",
       "      <td>0.196655</td>\n",
       "      <td>0.143211</td>\n",
       "      <td>1.373180</td>\n",
       "      <td>2.611481</td>\n",
       "      <td>0.011870</td>\n",
       "      <td>0.059349</td>\n",
       "    </tr>\n",
       "    <tr>\n",
       "      <th>NK</th>\n",
       "      <td>0.146479</td>\n",
       "      <td>0.158121</td>\n",
       "      <td>0.133477</td>\n",
       "      <td>1.184627</td>\n",
       "      <td>1.080974</td>\n",
       "      <td>0.284895</td>\n",
       "      <td>0.474825</td>\n",
       "    </tr>\n",
       "    <tr>\n",
       "      <th>TC</th>\n",
       "      <td>0.566610</td>\n",
       "      <td>0.534640</td>\n",
       "      <td>0.602892</td>\n",
       "      <td>0.886791</td>\n",
       "      <td>-1.781326</td>\n",
       "      <td>0.080934</td>\n",
       "      <td>0.202334</td>\n",
       "    </tr>\n",
       "  </tbody>\n",
       "</table>\n",
       "</div>"
      ],
      "text/plain": [
       "          baseline_props  mean_props_old  mean_props_young  prop_ratio  \\\n",
       "Celltype                                                                 \n",
       "BC              0.098383        0.094222          0.102401    0.920131   \n",
       "DC              0.017112        0.016362          0.018018    0.908097   \n",
       "MC              0.171416        0.196655          0.143211    1.373180   \n",
       "NK              0.146479        0.158121          0.133477    1.184627   \n",
       "TC              0.566610        0.534640          0.602892    0.886791   \n",
       "\n",
       "          t_statistics  p_values  adjusted_p_values  \n",
       "Celltype                                             \n",
       "BC           -0.820623  0.415756           0.519695  \n",
       "DC           -0.253956  0.800571           0.800571  \n",
       "MC            2.611481  0.011870           0.059349  \n",
       "NK            1.080974  0.284895           0.474825  \n",
       "TC           -1.781326  0.080934           0.202334  "
      ]
     },
     "execution_count": 8,
     "metadata": {},
     "output_type": "execute_result"
    }
   ],
   "source": [
    "pbmc_young_old = scanpro.scanpro(pbmc, samples_col='Sample', clusters_col='Celltype', conds_col='Age')\n",
    "pbmc_young_old.results"
   ]
  },
  {
   "cell_type": "code",
   "execution_count": 9,
   "metadata": {},
   "outputs": [
    {
     "data": {
      "image/png": "[encoded data removed]",
      "text/plain": [
       "<Figure size 900x800 with 11 Axes>"
      ]
     },
     "metadata": {},
     "output_type": "display_data"
    }
   ],
   "source": [
    "pbmc_young_old.plot(save=\"plots/pbmc_age_stripplot.pdf\")"
   ]
  },
  {
   "cell_type": "markdown",
   "metadata": {},
   "source": [
    "#### With sex as covariate"
   ]
  },
  {
   "cell_type": "code",
   "execution_count": 10,
   "metadata": {},
   "outputs": [
    {
     "name": "stdout",
     "output_type": "stream",
     "text": [
      "[INFO] There are 2 conditions. T-Test will be performed...\n",
      "[INFO] Done!\n"
     ]
    },
    {
     "data": {
      "text/html": [
       "<div>\n",
       "<style scoped>\n",
       "    .dataframe tbody tr th:only-of-type {\n",
       "        vertical-align: middle;\n",
       "    }\n",
       "\n",
       "    .dataframe tbody tr th {\n",
       "        vertical-align: top;\n",
       "    }\n",
       "\n",
       "    .dataframe thead th {\n",
       "        text-align: right;\n",
       "    }\n",
       "</style>\n",
       "<table border=\"1\" class=\"dataframe\">\n",
       "  <thead>\n",
       "    <tr style=\"text-align: right;\">\n",
       "      <th></th>\n",
       "      <th>baseline_props</th>\n",
       "      <th>mean_props_old</th>\n",
       "      <th>mean_props_young</th>\n",
       "      <th>prop_ratio</th>\n",
       "      <th>t_statistics</th>\n",
       "      <th>p_values</th>\n",
       "      <th>adjusted_p_values</th>\n",
       "    </tr>\n",
       "    <tr>\n",
       "      <th>Celltype</th>\n",
       "      <th></th>\n",
       "      <th></th>\n",
       "      <th></th>\n",
       "      <th></th>\n",
       "      <th></th>\n",
       "      <th></th>\n",
       "      <th></th>\n",
       "    </tr>\n",
       "  </thead>\n",
       "  <tbody>\n",
       "    <tr>\n",
       "      <th>BC</th>\n",
       "      <td>0.098383</td>\n",
       "      <td>0.094222</td>\n",
       "      <td>0.102401</td>\n",
       "      <td>0.920131</td>\n",
       "      <td>-0.847158</td>\n",
       "      <td>0.399286</td>\n",
       "      <td>0.499107</td>\n",
       "    </tr>\n",
       "    <tr>\n",
       "      <th>DC</th>\n",
       "      <td>0.017112</td>\n",
       "      <td>0.016362</td>\n",
       "      <td>0.018018</td>\n",
       "      <td>0.908097</td>\n",
       "      <td>-0.242931</td>\n",
       "      <td>0.808644</td>\n",
       "      <td>0.808644</td>\n",
       "    </tr>\n",
       "    <tr>\n",
       "      <th>MC</th>\n",
       "      <td>0.171416</td>\n",
       "      <td>0.196655</td>\n",
       "      <td>0.143211</td>\n",
       "      <td>1.373180</td>\n",
       "      <td>2.451117</td>\n",
       "      <td>0.016290</td>\n",
       "      <td>0.081450</td>\n",
       "    </tr>\n",
       "    <tr>\n",
       "      <th>NK</th>\n",
       "      <td>0.146479</td>\n",
       "      <td>0.158121</td>\n",
       "      <td>0.133477</td>\n",
       "      <td>1.184627</td>\n",
       "      <td>1.219577</td>\n",
       "      <td>0.225998</td>\n",
       "      <td>0.376664</td>\n",
       "    </tr>\n",
       "    <tr>\n",
       "      <th>TC</th>\n",
       "      <td>0.566610</td>\n",
       "      <td>0.534640</td>\n",
       "      <td>0.602892</td>\n",
       "      <td>0.886791</td>\n",
       "      <td>-1.784760</td>\n",
       "      <td>0.077868</td>\n",
       "      <td>0.194670</td>\n",
       "    </tr>\n",
       "  </tbody>\n",
       "</table>\n",
       "</div>"
      ],
      "text/plain": [
       "          baseline_props  mean_props_old  mean_props_young  prop_ratio  \\\n",
       "Celltype                                                                 \n",
       "BC              0.098383        0.094222          0.102401    0.920131   \n",
       "DC              0.017112        0.016362          0.018018    0.908097   \n",
       "MC              0.171416        0.196655          0.143211    1.373180   \n",
       "NK              0.146479        0.158121          0.133477    1.184627   \n",
       "TC              0.566610        0.534640          0.602892    0.886791   \n",
       "\n",
       "          t_statistics  p_values  adjusted_p_values  \n",
       "Celltype                                             \n",
       "BC           -0.847158  0.399286           0.499107  \n",
       "DC           -0.242931  0.808644           0.808644  \n",
       "MC            2.451117  0.016290           0.081450  \n",
       "NK            1.219577  0.225998           0.376664  \n",
       "TC           -1.784760  0.077868           0.194670  "
      ]
     },
     "execution_count": 10,
     "metadata": {},
     "output_type": "execute_result"
    }
   ],
   "source": [
    "pbmc_young_old_sex = scanpro.scanpro(pbmc, samples_col='Sample', clusters_col='Celltype', conds_col='Age', \n",
    "                                     covariates=[\"Sex\"])\n",
    "pbmc_young_old_sex.results"
   ]
  },
  {
   "cell_type": "markdown",
   "metadata": {},
   "source": [
    "### Male vs Female"
   ]
  },
  {
   "cell_type": "code",
   "execution_count": 11,
   "metadata": {},
   "outputs": [
    {
     "name": "stdout",
     "output_type": "stream",
     "text": [
      "[INFO] There are 2 conditions. T-Test will be performed...\n",
      "[INFO] Done!\n"
     ]
    },
    {
     "data": {
      "text/html": [
       "<div>\n",
       "<style scoped>\n",
       "    .dataframe tbody tr th:only-of-type {\n",
       "        vertical-align: middle;\n",
       "    }\n",
       "\n",
       "    .dataframe tbody tr th {\n",
       "        vertical-align: top;\n",
       "    }\n",
       "\n",
       "    .dataframe thead th {\n",
       "        text-align: right;\n",
       "    }\n",
       "</style>\n",
       "<table border=\"1\" class=\"dataframe\">\n",
       "  <thead>\n",
       "    <tr style=\"text-align: right;\">\n",
       "      <th></th>\n",
       "      <th>baseline_props</th>\n",
       "      <th>mean_props_female</th>\n",
       "      <th>mean_props_male</th>\n",
       "      <th>prop_ratio</th>\n",
       "      <th>t_statistics</th>\n",
       "      <th>p_values</th>\n",
       "      <th>adjusted_p_values</th>\n",
       "    </tr>\n",
       "    <tr>\n",
       "      <th>Celltype</th>\n",
       "      <th></th>\n",
       "      <th></th>\n",
       "      <th></th>\n",
       "      <th></th>\n",
       "      <th></th>\n",
       "      <th></th>\n",
       "      <th></th>\n",
       "    </tr>\n",
       "  </thead>\n",
       "  <tbody>\n",
       "    <tr>\n",
       "      <th>BC</th>\n",
       "      <td>0.098383</td>\n",
       "      <td>0.101042</td>\n",
       "      <td>0.095581</td>\n",
       "      <td>1.057138</td>\n",
       "      <td>0.453546</td>\n",
       "      <td>0.651248</td>\n",
       "      <td>0.814059</td>\n",
       "    </tr>\n",
       "    <tr>\n",
       "      <th>DC</th>\n",
       "      <td>0.017112</td>\n",
       "      <td>0.015587</td>\n",
       "      <td>0.018793</td>\n",
       "      <td>0.829422</td>\n",
       "      <td>-1.052536</td>\n",
       "      <td>0.295371</td>\n",
       "      <td>0.492285</td>\n",
       "    </tr>\n",
       "    <tr>\n",
       "      <th>MC</th>\n",
       "      <td>0.171416</td>\n",
       "      <td>0.168821</td>\n",
       "      <td>0.171046</td>\n",
       "      <td>0.986995</td>\n",
       "      <td>-0.063694</td>\n",
       "      <td>0.949355</td>\n",
       "      <td>0.949355</td>\n",
       "    </tr>\n",
       "    <tr>\n",
       "      <th>NK</th>\n",
       "      <td>0.146479</td>\n",
       "      <td>0.116914</td>\n",
       "      <td>0.174684</td>\n",
       "      <td>0.669285</td>\n",
       "      <td>-2.637317</td>\n",
       "      <td>0.009844</td>\n",
       "      <td>0.049221</td>\n",
       "    </tr>\n",
       "    <tr>\n",
       "      <th>TC</th>\n",
       "      <td>0.566610</td>\n",
       "      <td>0.597636</td>\n",
       "      <td>0.539896</td>\n",
       "      <td>1.106946</td>\n",
       "      <td>1.448420</td>\n",
       "      <td>0.150975</td>\n",
       "      <td>0.377437</td>\n",
       "    </tr>\n",
       "  </tbody>\n",
       "</table>\n",
       "</div>"
      ],
      "text/plain": [
       "          baseline_props  mean_props_female  mean_props_male  prop_ratio  \\\n",
       "Celltype                                                                   \n",
       "BC              0.098383           0.101042         0.095581    1.057138   \n",
       "DC              0.017112           0.015587         0.018793    0.829422   \n",
       "MC              0.171416           0.168821         0.171046    0.986995   \n",
       "NK              0.146479           0.116914         0.174684    0.669285   \n",
       "TC              0.566610           0.597636         0.539896    1.106946   \n",
       "\n",
       "          t_statistics  p_values  adjusted_p_values  \n",
       "Celltype                                             \n",
       "BC            0.453546  0.651248           0.814059  \n",
       "DC           -1.052536  0.295371           0.492285  \n",
       "MC           -0.063694  0.949355           0.949355  \n",
       "NK           -2.637317  0.009844           0.049221  \n",
       "TC            1.448420  0.150975           0.377437  "
      ]
     },
     "execution_count": 11,
     "metadata": {},
     "output_type": "execute_result"
    }
   ],
   "source": [
    "pbmc_male_female = scanpro.scanpro(pbmc, samples_col='Sample', clusters_col='Celltype', conds_col='Sex')\n",
    "pbmc_male_female.results"
   ]
  },
  {
   "cell_type": "code",
   "execution_count": 12,
   "metadata": {},
   "outputs": [],
   "source": [
    "pbmc_male_female.results.to_csv(\"results/pbmc_scanpro_rep.tsv\", sep=\"\\t\")"
   ]
  },
  {
   "cell_type": "code",
   "execution_count": 13,
   "metadata": {},
   "outputs": [
    {
     "data": {
      "image/png": "[encoded data removed]",
      "text/plain": [
       "<Figure size 900x800 with 11 Axes>"
      ]
     },
     "metadata": {},
     "output_type": "display_data"
    }
   ],
   "source": [
    "pbmc_male_female.plot(save=f\"{FIG_PATH}/pbmc_sex_stripplot.pdf\")"
   ]
  },
  {
   "cell_type": "markdown",
   "metadata": {},
   "source": [
    "#### With age as covariate"
   ]
  },
  {
   "cell_type": "code",
   "execution_count": 14,
   "metadata": {
    "scrolled": true
   },
   "outputs": [
    {
     "name": "stdout",
     "output_type": "stream",
     "text": [
      "[INFO] There are 2 conditions. T-Test will be performed...\n",
      "[INFO] Done!\n"
     ]
    },
    {
     "data": {
      "text/html": [
       "<div>\n",
       "<style scoped>\n",
       "    .dataframe tbody tr th:only-of-type {\n",
       "        vertical-align: middle;\n",
       "    }\n",
       "\n",
       "    .dataframe tbody tr th {\n",
       "        vertical-align: top;\n",
       "    }\n",
       "\n",
       "    .dataframe thead th {\n",
       "        text-align: right;\n",
       "    }\n",
       "</style>\n",
       "<table border=\"1\" class=\"dataframe\">\n",
       "  <thead>\n",
       "    <tr style=\"text-align: right;\">\n",
       "      <th></th>\n",
       "      <th>baseline_props</th>\n",
       "      <th>mean_props_female</th>\n",
       "      <th>mean_props_male</th>\n",
       "      <th>prop_ratio</th>\n",
       "      <th>t_statistics</th>\n",
       "      <th>p_values</th>\n",
       "      <th>adjusted_p_values</th>\n",
       "    </tr>\n",
       "    <tr>\n",
       "      <th>Celltype</th>\n",
       "      <th></th>\n",
       "      <th></th>\n",
       "      <th></th>\n",
       "      <th></th>\n",
       "      <th></th>\n",
       "      <th></th>\n",
       "      <th></th>\n",
       "    </tr>\n",
       "  </thead>\n",
       "  <tbody>\n",
       "    <tr>\n",
       "      <th>BC</th>\n",
       "      <td>0.098383</td>\n",
       "      <td>0.101042</td>\n",
       "      <td>0.095581</td>\n",
       "      <td>1.057138</td>\n",
       "      <td>0.465948</td>\n",
       "      <td>0.642444</td>\n",
       "      <td>0.803055</td>\n",
       "    </tr>\n",
       "    <tr>\n",
       "      <th>DC</th>\n",
       "      <td>0.017112</td>\n",
       "      <td>0.015587</td>\n",
       "      <td>0.018793</td>\n",
       "      <td>0.829422</td>\n",
       "      <td>-1.093562</td>\n",
       "      <td>0.277237</td>\n",
       "      <td>0.462061</td>\n",
       "    </tr>\n",
       "    <tr>\n",
       "      <th>MC</th>\n",
       "      <td>0.171416</td>\n",
       "      <td>0.168821</td>\n",
       "      <td>0.171046</td>\n",
       "      <td>0.986995</td>\n",
       "      <td>-0.066221</td>\n",
       "      <td>0.947357</td>\n",
       "      <td>0.947357</td>\n",
       "    </tr>\n",
       "    <tr>\n",
       "      <th>NK</th>\n",
       "      <td>0.146479</td>\n",
       "      <td>0.116914</td>\n",
       "      <td>0.174684</td>\n",
       "      <td>0.669285</td>\n",
       "      <td>-2.697454</td>\n",
       "      <td>0.008425</td>\n",
       "      <td>0.042124</td>\n",
       "    </tr>\n",
       "    <tr>\n",
       "      <th>TC</th>\n",
       "      <td>0.566610</td>\n",
       "      <td>0.597636</td>\n",
       "      <td>0.539896</td>\n",
       "      <td>1.106946</td>\n",
       "      <td>1.498186</td>\n",
       "      <td>0.137790</td>\n",
       "      <td>0.344474</td>\n",
       "    </tr>\n",
       "  </tbody>\n",
       "</table>\n",
       "</div>"
      ],
      "text/plain": [
       "          baseline_props  mean_props_female  mean_props_male  prop_ratio  \\\n",
       "Celltype                                                                   \n",
       "BC              0.098383           0.101042         0.095581    1.057138   \n",
       "DC              0.017112           0.015587         0.018793    0.829422   \n",
       "MC              0.171416           0.168821         0.171046    0.986995   \n",
       "NK              0.146479           0.116914         0.174684    0.669285   \n",
       "TC              0.566610           0.597636         0.539896    1.106946   \n",
       "\n",
       "          t_statistics  p_values  adjusted_p_values  \n",
       "Celltype                                             \n",
       "BC            0.465948  0.642444           0.803055  \n",
       "DC           -1.093562  0.277237           0.462061  \n",
       "MC           -0.066221  0.947357           0.947357  \n",
       "NK           -2.697454  0.008425           0.042124  \n",
       "TC            1.498186  0.137790           0.344474  "
      ]
     },
     "execution_count": 14,
     "metadata": {},
     "output_type": "execute_result"
    }
   ],
   "source": [
    "pbmc_male_female_age = scanpro.scanpro(pbmc, samples_col='Sample', clusters_col='Celltype', conds_col='Sex', covariates=\"Age\")\n",
    "pbmc_male_female_age.results"
   ]
  },
  {
   "cell_type": "markdown",
   "metadata": {},
   "source": [
    "## Run Scanpro without replicates"
   ]
  },
  {
   "cell_type": "code",
   "execution_count": 15,
   "metadata": {},
   "outputs": [
    {
     "name": "stdout",
     "output_type": "stream",
     "text": [
      "[INFO] Your data doesn't have replicates! Artificial replicates will be simulated to run scanpro.\n",
      "[WARNING] Consider setting transform='arcsin', as this produces more accurate results for simulated data.\n",
      "[INFO] Simulation may take some minutes...\n",
      "[INFO] Generating 8 replicates and running 100 simulations...\n",
      "[INFO] Finished 100 simulations in 39.96 seconds\n"
     ]
    }
   ],
   "source": [
    "pbmc_male_female_norep = scanpro.scanpro(pbmc, clusters_col='Celltype', conds_col='Sex')"
   ]
  },
  {
   "cell_type": "code",
   "execution_count": 16,
   "metadata": {},
   "outputs": [],
   "source": [
    "pbmc_male_female_norep.results.to_csv(\"results/pbmc_scanpro_norep.tsv\", sep=\"\\t\")"
   ]
  },
  {
   "cell_type": "code",
   "execution_count": 17,
   "metadata": {},
   "outputs": [
    {
     "data": {
      "image/png": "[encoded data removed]",
      "text/plain": [
       "<Figure size 900x800 with 11 Axes>"
      ]
     },
     "metadata": {},
     "output_type": "display_data"
    }
   ],
   "source": [
    "pbmc_male_female_norep.plot(save=\"plots/pbmc_sex_norep_stripplot.pdf\")"
   ]
  },
  {
   "cell_type": "markdown",
   "metadata": {},
   "source": [
    "-----------------------"
   ]
  },
  {
   "cell_type": "markdown",
   "metadata": {},
   "source": [
    "## Run propeller"
   ]
  },
  {
   "cell_type": "code",
   "execution_count": 18,
   "metadata": {},
   "outputs": [
    {
     "name": "stdout",
     "output_type": "stream",
     "text": [
      "\n",
      "    WARNING: The R package \"reticulate\" only fixed recently\n",
      "    an issue that caused a segfault when used with rpy2:\n",
      "    https://github.com/rstudio/reticulate/pull/1188\n",
      "    Make sure that you use a version of that package that includes\n",
      "    the fix.\n",
      "    "
     ]
    },
    {
     "data": {
      "text/plain": [
       "The legacy packages maptools, rgdal, and rgeos, underpinning the sp package,\n",
       "which was just loaded, will retire in October 2023.\n",
       "Please refer to R-spatial evolution reports for details, especially\n",
       "https://r-spatial.org/r/2023/05/15/evolution4.html.\n",
       "It may be desirable to make the sf package available;\n",
       "package maintainers should consider adding sf to Suggests:.\n",
       "The sp package is now running under evolution status 2\n",
       "     (status 2 uses the sf package in place of rgdal)\n",
       "Performing logit transformation of proportions\n",
       "group variable has 2 levels, t-tests will be performed\n"
      ]
     },
     "metadata": {},
     "output_type": "display_data"
    }
   ],
   "source": [
    "%%R -i pbmc -o propeller_results\n",
    "library(speckle)\n",
    "\n",
    "propeller_results = propeller(clusters = pbmc$Celltype, sample = pbmc$Sample, group = pbmc$Sex)"
   ]
  },
  {
   "cell_type": "code",
   "execution_count": 19,
   "metadata": {},
   "outputs": [
    {
     "data": {
      "text/html": [
       "<div>\n",
       "<style scoped>\n",
       "    .dataframe tbody tr th:only-of-type {\n",
       "        vertical-align: middle;\n",
       "    }\n",
       "\n",
       "    .dataframe tbody tr th {\n",
       "        vertical-align: top;\n",
       "    }\n",
       "\n",
       "    .dataframe thead th {\n",
       "        text-align: right;\n",
       "    }\n",
       "</style>\n",
       "<table border=\"1\" class=\"dataframe\">\n",
       "  <thead>\n",
       "    <tr style=\"text-align: right;\">\n",
       "      <th></th>\n",
       "      <th>BaselineProp.clusters</th>\n",
       "      <th>BaselineProp.Freq</th>\n",
       "      <th>PropMean.female</th>\n",
       "      <th>PropMean.male</th>\n",
       "      <th>PropRatio</th>\n",
       "      <th>Tstatistic</th>\n",
       "      <th>P.Value</th>\n",
       "      <th>FDR</th>\n",
       "    </tr>\n",
       "  </thead>\n",
       "  <tbody>\n",
       "    <tr>\n",
       "      <th>NK</th>\n",
       "      <td>NK</td>\n",
       "      <td>0.146479</td>\n",
       "      <td>0.116914</td>\n",
       "      <td>0.174684</td>\n",
       "      <td>0.669285</td>\n",
       "      <td>-2.637317</td>\n",
       "      <td>0.009844</td>\n",
       "      <td>0.049221</td>\n",
       "    </tr>\n",
       "    <tr>\n",
       "      <th>TC</th>\n",
       "      <td>TC</td>\n",
       "      <td>0.566610</td>\n",
       "      <td>0.597636</td>\n",
       "      <td>0.539896</td>\n",
       "      <td>1.106946</td>\n",
       "      <td>1.448420</td>\n",
       "      <td>0.150975</td>\n",
       "      <td>0.377437</td>\n",
       "    </tr>\n",
       "    <tr>\n",
       "      <th>DC</th>\n",
       "      <td>DC</td>\n",
       "      <td>0.017112</td>\n",
       "      <td>0.015587</td>\n",
       "      <td>0.018793</td>\n",
       "      <td>0.829422</td>\n",
       "      <td>-1.052536</td>\n",
       "      <td>0.295371</td>\n",
       "      <td>0.492285</td>\n",
       "    </tr>\n",
       "    <tr>\n",
       "      <th>BC</th>\n",
       "      <td>BC</td>\n",
       "      <td>0.098383</td>\n",
       "      <td>0.101042</td>\n",
       "      <td>0.095581</td>\n",
       "      <td>1.057138</td>\n",
       "      <td>0.453546</td>\n",
       "      <td>0.651248</td>\n",
       "      <td>0.814059</td>\n",
       "    </tr>\n",
       "    <tr>\n",
       "      <th>MC</th>\n",
       "      <td>MC</td>\n",
       "      <td>0.171416</td>\n",
       "      <td>0.168821</td>\n",
       "      <td>0.171046</td>\n",
       "      <td>0.986995</td>\n",
       "      <td>-0.063694</td>\n",
       "      <td>0.949355</td>\n",
       "      <td>0.949355</td>\n",
       "    </tr>\n",
       "  </tbody>\n",
       "</table>\n",
       "</div>"
      ],
      "text/plain": [
       "   BaselineProp.clusters  BaselineProp.Freq  PropMean.female  PropMean.male  \\\n",
       "NK                    NK           0.146479         0.116914       0.174684   \n",
       "TC                    TC           0.566610         0.597636       0.539896   \n",
       "DC                    DC           0.017112         0.015587       0.018793   \n",
       "BC                    BC           0.098383         0.101042       0.095581   \n",
       "MC                    MC           0.171416         0.168821       0.171046   \n",
       "\n",
       "    PropRatio  Tstatistic   P.Value       FDR  \n",
       "NK   0.669285   -2.637317  0.009844  0.049221  \n",
       "TC   1.106946    1.448420  0.150975  0.377437  \n",
       "DC   0.829422   -1.052536  0.295371  0.492285  \n",
       "BC   1.057138    0.453546  0.651248  0.814059  \n",
       "MC   0.986995   -0.063694  0.949355  0.949355  "
      ]
     },
     "execution_count": 19,
     "metadata": {},
     "output_type": "execute_result"
    }
   ],
   "source": [
    "propeller_results"
   ]
  },
  {
   "cell_type": "code",
   "execution_count": 20,
   "metadata": {},
   "outputs": [],
   "source": [
    "propeller_results.to_csv(\"results/pbmc_propeller_rep.tsv\", sep=\"\\t\")"
   ]
  },
  {
   "cell_type": "markdown",
   "metadata": {},
   "source": [
    "-------------"
   ]
  },
  {
   "cell_type": "markdown",
   "metadata": {},
   "source": [
    "## Run scCODA"
   ]
  },
  {
   "cell_type": "markdown",
   "metadata": {},
   "source": [
    "### Data preparation"
   ]
  },
  {
   "cell_type": "code",
   "execution_count": 21,
   "metadata": {},
   "outputs": [],
   "source": [
    "# With replicates\n",
    "sccoda_data = dat.from_pandas(pbmc_counts, covariate_columns=[\"Sample\", \"Condition\", \"Age\", \"Sex\"])\n",
    "\n",
    "# Without replicates\n",
    "counts_merged = pbmc_counts.groupby(\"Sex\").sum(numeric_only=True).reset_index()\n",
    "sccoda_data_norep = dat.from_pandas(counts_merged, covariate_columns=[\"Sex\"])"
   ]
  },
  {
   "cell_type": "markdown",
   "metadata": {},
   "source": [
    "### With replicates"
   ]
  },
  {
   "cell_type": "code",
   "execution_count": 22,
   "metadata": {
    "scrolled": true
   },
   "outputs": [
    {
     "name": "stdout",
     "output_type": "stream",
     "text": [
      "Automatic reference selection! Reference cell type set to DC\n",
      "WARNING:tensorflow:From /home/mbentse/.conda/envs/scanpro_analysis/lib/python3.11/site-packages/tensorflow_probability/python/internal/batched_rejection_sampler.py:102: calling while_loop_v2 (from tensorflow.python.ops.control_flow_ops) with back_prop=False is deprecated and will be removed in a future version.\n",
      "Instructions for updating:\n",
      "back_prop=False is deprecated. Consider using tf.stop_gradient instead.\n",
      "Instead of:\n",
      "results = tf.while_loop(c, b, vars, back_prop=False)\n",
      "Use:\n",
      "results = tf.nest.map_structure(tf.stop_gradient, tf.while_loop(c, b, vars))\n"
     ]
    },
    {
     "name": "stderr",
     "output_type": "stream",
     "text": [
      "2023-06-30 17:24:18.436511: I tensorflow/core/common_runtime/executor.cc:1197] [/device:CPU:0] (DEBUG INFO) Executor start aborting (this does not indicate an error and you can ignore this message): INVALID_ARGUMENT: You must feed a value for placeholder tensor 'shape' with dtype int32 and shape [3]\n",
      "\t [[{{node shape}}]]\n",
      "2023-06-30 17:24:18.436642: I tensorflow/core/common_runtime/executor.cc:1197] [/device:CPU:0] (DEBUG INFO) Executor start aborting (this does not indicate an error and you can ignore this message): INVALID_ARGUMENT: You must feed a value for placeholder tensor 'shape' with dtype int32 and shape [3]\n",
      "\t [[{{node shape}}]]\n",
      "2023-06-30 17:24:18.447676: I tensorflow/core/common_runtime/executor.cc:1197] [/device:CPU:0] (DEBUG INFO) Executor start aborting (this does not indicate an error and you can ignore this message): INVALID_ARGUMENT: You must feed a value for placeholder tensor 'shape' with dtype int32 and shape [3]\n",
      "\t [[{{node shape}}]]\n",
      "2023-06-30 17:24:18.447783: I tensorflow/core/common_runtime/executor.cc:1197] [/device:CPU:0] (DEBUG INFO) Executor start aborting (this does not indicate an error and you can ignore this message): INVALID_ARGUMENT: You must feed a value for placeholder tensor 'shape' with dtype int32 and shape [3]\n",
      "\t [[{{node shape}}]]\n",
      "2023-06-30 17:24:18.476019: I tensorflow/core/common_runtime/executor.cc:1197] [/device:CPU:0] (DEBUG INFO) Executor start aborting (this does not indicate an error and you can ignore this message): INVALID_ARGUMENT: You must feed a value for placeholder tensor 'batched_las_vegas_algorithm/while/normal/stateless_random_normal/StatelessRandomNormalV2/shape' with dtype int32 and shape [3]\n",
      "\t [[{{node batched_las_vegas_algorithm/while/normal/stateless_random_normal/StatelessRandomNormalV2/shape}}]]\n",
      "2023-06-30 17:24:18.476130: I tensorflow/core/common_runtime/executor.cc:1197] [/device:CPU:0] (DEBUG INFO) Executor start aborting (this does not indicate an error and you can ignore this message): INVALID_ARGUMENT: You must feed a value for placeholder tensor 'batched_las_vegas_algorithm/while/normal/stateless_random_normal/StatelessRandomNormalV2/shape' with dtype int32 and shape [3]\n",
      "\t [[{{node batched_las_vegas_algorithm/while/normal/stateless_random_normal/StatelessRandomNormalV2/shape}}]]\n",
      "2023-06-30 17:24:18.487424: I tensorflow/core/common_runtime/executor.cc:1197] [/device:CPU:0] (DEBUG INFO) Executor start aborting (this does not indicate an error and you can ignore this message): INVALID_ARGUMENT: You must feed a value for placeholder tensor 'batched_las_vegas_algorithm/while/normal/stateless_random_normal/StatelessRandomNormalV2/shape' with dtype int32 and shape [3]\n",
      "\t [[{{node batched_las_vegas_algorithm/while/normal/stateless_random_normal/StatelessRandomNormalV2/shape}}]]\n",
      "2023-06-30 17:24:18.487533: I tensorflow/core/common_runtime/executor.cc:1197] [/device:CPU:0] (DEBUG INFO) Executor start aborting (this does not indicate an error and you can ignore this message): INVALID_ARGUMENT: You must feed a value for placeholder tensor 'batched_las_vegas_algorithm/while/normal/stateless_random_normal/StatelessRandomNormalV2/shape' with dtype int32 and shape [3]\n",
      "\t [[{{node batched_las_vegas_algorithm/while/normal/stateless_random_normal/StatelessRandomNormalV2/shape}}]]\n",
      "2023-06-30 17:24:18.518100: I tensorflow/core/common_runtime/executor.cc:1197] [/device:CPU:0] (DEBUG INFO) Executor start aborting (this does not indicate an error and you can ignore this message): INVALID_ARGUMENT: You must feed a value for placeholder tensor 'shape' with dtype int32 and shape [3]\n",
      "\t [[{{node shape}}]]\n",
      "2023-06-30 17:24:18.518207: I tensorflow/core/common_runtime/executor.cc:1197] [/device:CPU:0] (DEBUG INFO) Executor start aborting (this does not indicate an error and you can ignore this message): INVALID_ARGUMENT: You must feed a value for placeholder tensor 'shape' with dtype int32 and shape [3]\n",
      "\t [[{{node shape}}]]\n",
      "2023-06-30 17:24:18.557996: I tensorflow/core/common_runtime/executor.cc:1197] [/device:CPU:0] (DEBUG INFO) Executor start aborting (this does not indicate an error and you can ignore this message): INTERNAL: No function library is provided.\n",
      "\t [[{{node Independentpredictions/sample/predictions/sample/PartitionedCall}}]]\n",
      "2023-06-30 17:24:18.606246: I tensorflow/core/common_runtime/executor.cc:1197] [/device:CPU:0] (DEBUG INFO) Executor start aborting (this does not indicate an error and you can ignore this message): INVALID_ARGUMENT: You must feed a value for placeholder tensor 'shape' with dtype int32 and shape [1]\n",
      "\t [[{{node shape}}]]\n",
      "2023-06-30 17:24:18.622828: I tensorflow/core/common_runtime/executor.cc:1197] [/device:CPU:0] (DEBUG INFO) Executor start aborting (this does not indicate an error and you can ignore this message): INVALID_ARGUMENT: You must feed a value for placeholder tensor 'random_binomial/binomial_noncpu/while/uniform/stateless_random_uniform/StatelessRandomUniformV2/random_binomial/binomial_noncpu/concat' with dtype int32 and shape [4]\n",
      "\t [[{{node random_binomial/binomial_noncpu/while/uniform/stateless_random_uniform/StatelessRandomUniformV2/random_binomial/binomial_noncpu/concat}}]]\n",
      "2023-06-30 17:24:18.622939: I tensorflow/core/common_runtime/executor.cc:1197] [/device:CPU:0] (DEBUG INFO) Executor start aborting (this does not indicate an error and you can ignore this message): INVALID_ARGUMENT: You must feed a value for placeholder tensor 'random_binomial/binomial_noncpu/while/uniform/stateless_random_uniform/StatelessRandomUniformV2/random_binomial/binomial_noncpu/concat' with dtype int32 and shape [4]\n",
      "\t [[{{node random_binomial/binomial_noncpu/while/uniform/stateless_random_uniform/StatelessRandomUniformV2/random_binomial/binomial_noncpu/concat}}]]\n",
      "2023-06-30 17:24:18.668969: I tensorflow/core/common_runtime/executor.cc:1197] [/device:CPU:0] (DEBUG INFO) Executor start aborting (this does not indicate an error and you can ignore this message): INVALID_ARGUMENT: You must feed a value for placeholder tensor 'shape' with dtype int32 and shape [1]\n",
      "\t [[{{node shape}}]]\n",
      "2023-06-30 17:24:18.675016: I tensorflow/core/common_runtime/executor.cc:1197] [/device:CPU:0] (DEBUG INFO) Executor start aborting (this does not indicate an error and you can ignore this message): INVALID_ARGUMENT: You must feed a value for placeholder tensor 'shape' with dtype int32 and shape [1]\n",
      "\t [[{{node shape}}]]\n",
      "2023-06-30 17:24:18.795239: I tensorflow/core/common_runtime/executor.cc:1197] [/device:CPU:0] (DEBUG INFO) Executor start aborting (this does not indicate an error and you can ignore this message): INVALID_ARGUMENT: You must feed a value for placeholder tensor 'random_binomial/binomial_noncpu/batched_las_vegas_algorithm/while/uniform/stateless_random_uniform/StatelessRandomUniformV2/random_binomial/binomial_noncpu/concat' with dtype int32 and shape [4]\n",
      "\t [[{{node random_binomial/binomial_noncpu/batched_las_vegas_algorithm/while/uniform/stateless_random_uniform/StatelessRandomUniformV2/random_binomial/binomial_noncpu/concat}}]]\n",
      "2023-06-30 17:24:18.795362: I tensorflow/core/common_runtime/executor.cc:1197] [/device:CPU:0] (DEBUG INFO) Executor start aborting (this does not indicate an error and you can ignore this message): INVALID_ARGUMENT: You must feed a value for placeholder tensor 'random_binomial/binomial_noncpu/batched_las_vegas_algorithm/while/uniform/stateless_random_uniform/StatelessRandomUniformV2/random_binomial/binomial_noncpu/concat' with dtype int32 and shape [4]\n",
      "\t [[{{node random_binomial/binomial_noncpu/batched_las_vegas_algorithm/while/uniform/stateless_random_uniform/StatelessRandomUniformV2/random_binomial/binomial_noncpu/concat}}]]\n",
      "2023-06-30 17:24:18.801325: I tensorflow/core/common_runtime/executor.cc:1197] [/device:CPU:0] (DEBUG INFO) Executor start aborting (this does not indicate an error and you can ignore this message): INVALID_ARGUMENT: You must feed a value for placeholder tensor 'random_binomial/binomial_noncpu/batched_las_vegas_algorithm/while/uniform/stateless_random_uniform/StatelessRandomUniformV2/random_binomial/binomial_noncpu/concat' with dtype int32 and shape [4]\n",
      "\t [[{{node random_binomial/binomial_noncpu/batched_las_vegas_algorithm/while/uniform/stateless_random_uniform/StatelessRandomUniformV2/random_binomial/binomial_noncpu/concat}}]]\n",
      "2023-06-30 17:24:18.801438: I tensorflow/core/common_runtime/executor.cc:1197] [/device:CPU:0] (DEBUG INFO) Executor start aborting (this does not indicate an error and you can ignore this message): INVALID_ARGUMENT: You must feed a value for placeholder tensor 'random_binomial/binomial_noncpu/batched_las_vegas_algorithm/while/uniform/stateless_random_uniform/StatelessRandomUniformV2/random_binomial/binomial_noncpu/concat' with dtype int32 and shape [4]\n",
      "\t [[{{node random_binomial/binomial_noncpu/batched_las_vegas_algorithm/while/uniform/stateless_random_uniform/StatelessRandomUniformV2/random_binomial/binomial_noncpu/concat}}]]\n"
     ]
    },
    {
     "name": "stderr",
     "output_type": "stream",
     "text": [
      "2023-06-30 17:24:18.966564: I tensorflow/core/common_runtime/executor.cc:1197] [/device:CPU:0] (DEBUG INFO) Executor start aborting (this does not indicate an error and you can ignore this message): INVALID_ARGUMENT: You must feed a value for placeholder tensor 'Independentpredictions/sample/predictions/sample/draw_sample/while/Placeholder_1' with dtype double and shape [1,?,20]\n",
      "\t [[{{node Independentpredictions/sample/predictions/sample/draw_sample/while/Placeholder_1}}]]\n",
      "2023-06-30 17:24:19.230404: I tensorflow/core/common_runtime/executor.cc:1197] [/device:CPU:0] (DEBUG INFO) Executor start aborting (this does not indicate an error and you can ignore this message): INTERNAL: No function library is provided.\n",
      "\t [[{{node Independentpredictions/sample/predictions/sample/PartitionedCall}}]]\n",
      "2023-06-30 17:24:19.265244: I tensorflow/core/common_runtime/executor.cc:1197] [/device:CPU:0] (DEBUG INFO) Executor start aborting (this does not indicate an error and you can ignore this message): INVALID_ARGUMENT: You must feed a value for placeholder tensor 'Independentpredictions/sample/predictions/sample/draw_sample/while/Placeholder_1' with dtype double and shape [1,?,20]\n",
      "\t [[{{node Independentpredictions/sample/predictions/sample/draw_sample/while/Placeholder_1}}]]\n",
      "2023-06-30 17:24:19.492282: I tensorflow/core/common_runtime/executor.cc:1197] [/device:CPU:0] (DEBUG INFO) Executor start aborting (this does not indicate an error and you can ignore this message): INTERNAL: No function library is provided.\n",
      "\t [[{{node Independentpredictions/sample/predictions/sample/PartitionedCall}}]]\n",
      "2023-06-30 17:24:19.996089: I tensorflow/core/common_runtime/executor.cc:1197] [/device:CPU:0] (DEBUG INFO) Executor start aborting (this does not indicate an error and you can ignore this message): INTERNAL: No function library is provided.\n",
      "\t [[{{node Independentpredictions/sample/predictions/sample/PartitionedCall}}]]\n",
      "2023-06-30 17:24:21.448805: I tensorflow/compiler/xla/service/service.cc:169] XLA service 0x7fe94c020ed0 initialized for platform Host (this does not guarantee that XLA will be used). Devices:\n",
      "2023-06-30 17:24:21.448885: I tensorflow/compiler/xla/service/service.cc:177]   StreamExecutor device (0): Host, Default Version\n",
      "  0%|          | 0/20000 [00:00<?, ?it/s]2023-06-30 17:24:21.516827: I tensorflow/compiler/mlir/tensorflow/utils/dump_mlir_util.cc:269] disabling MLIR crash reproducer, set env var `MLIR_CRASH_REPRODUCER_DIRECTORY` to enable.\n",
      "2023-06-30 17:24:22.296352: I ./tensorflow/compiler/jit/device_compiler.h:180] Compiled cluster using XLA!  This line is logged at most once for the lifetime of the process.\n",
      "100%|██████████| 20000/20000 [02:01<00:00, 164.13it/s]\n"
     ]
    },
    {
     "name": "stdout",
     "output_type": "stream",
     "text": [
      "MCMC sampling finished. (155.338 sec)\n",
      "Acceptance rate: 25.6%\n"
     ]
    }
   ],
   "source": [
    "sccoda_model = mod.CompositionalAnalysis(sccoda_data, formula=\"Sex\", reference_cell_type=\"automatic\")\n",
    "sccoda_results = sccoda_model.sample_hmc()"
   ]
  },
  {
   "cell_type": "code",
   "execution_count": 23,
   "metadata": {},
   "outputs": [
    {
     "name": "stdout",
     "output_type": "stream",
     "text": [
      "Compositional Analysis summary:\n",
      "\n",
      "Data: 20 samples, 5 cell types\n",
      "Reference index: 1\n",
      "Formula: Sex\n",
      "\n",
      "Intercepts:\n",
      "           Final Parameter  Expected Sample\n",
      "Cell Type                                  \n",
      "BC                   0.226      1022.196260\n",
      "DC                  -0.186       677.025398\n",
      "MC                   0.243      1039.722144\n",
      "NK                  -4.929         5.898563\n",
      "TC                   1.992      5977.207635\n",
      "\n",
      "\n",
      "Effects:\n",
      "                       Final Parameter  Expected Sample  log2-fold change\n",
      "Covariate   Cell Type                                                    \n",
      "Sex[T.male] BC                     0.0      1022.196260               0.0\n",
      "            DC                     0.0       677.025398               0.0\n",
      "            MC                     0.0      1039.722144               0.0\n",
      "            NK                     0.0         5.898563               0.0\n",
      "            TC                     0.0      5977.207635               0.0\n"
     ]
    }
   ],
   "source": [
    "sccoda_results.summary()"
   ]
  },
  {
   "cell_type": "code",
   "execution_count": 24,
   "metadata": {},
   "outputs": [
    {
     "data": {
      "text/html": [
       "<div>\n",
       "<style scoped>\n",
       "    .dataframe tbody tr th:only-of-type {\n",
       "        vertical-align: middle;\n",
       "    }\n",
       "\n",
       "    .dataframe tbody tr th {\n",
       "        vertical-align: top;\n",
       "    }\n",
       "\n",
       "    .dataframe thead th {\n",
       "        text-align: right;\n",
       "    }\n",
       "</style>\n",
       "<table border=\"1\" class=\"dataframe\">\n",
       "  <thead>\n",
       "    <tr style=\"text-align: right;\">\n",
       "      <th></th>\n",
       "      <th></th>\n",
       "      <th>credible_effect</th>\n",
       "    </tr>\n",
       "    <tr>\n",
       "      <th>Covariate</th>\n",
       "      <th>Cell Type</th>\n",
       "      <th></th>\n",
       "    </tr>\n",
       "  </thead>\n",
       "  <tbody>\n",
       "    <tr>\n",
       "      <th rowspan=\"5\" valign=\"top\">Sex[T.male]</th>\n",
       "      <th>BC</th>\n",
       "      <td>False</td>\n",
       "    </tr>\n",
       "    <tr>\n",
       "      <th>DC</th>\n",
       "      <td>False</td>\n",
       "    </tr>\n",
       "    <tr>\n",
       "      <th>MC</th>\n",
       "      <td>False</td>\n",
       "    </tr>\n",
       "    <tr>\n",
       "      <th>NK</th>\n",
       "      <td>False</td>\n",
       "    </tr>\n",
       "    <tr>\n",
       "      <th>TC</th>\n",
       "      <td>False</td>\n",
       "    </tr>\n",
       "  </tbody>\n",
       "</table>\n",
       "</div>"
      ],
      "text/plain": [
       "                       credible_effect\n",
       "Covariate   Cell Type                 \n",
       "Sex[T.male] BC                   False\n",
       "            DC                   False\n",
       "            MC                   False\n",
       "            NK                   False\n",
       "            TC                   False"
      ]
     },
     "execution_count": 24,
     "metadata": {},
     "output_type": "execute_result"
    }
   ],
   "source": [
    "sccoda_out =sccoda_results.credible_effects().to_frame(name=\"credible_effect\")\n",
    "sccoda_out.to_csv(\"results/pbmc_sccoda_rep.tsv\", sep=\"\\t\")\n",
    "sccoda_out"
   ]
  },
  {
   "cell_type": "markdown",
   "metadata": {},
   "source": [
    "### Without replicates"
   ]
  },
  {
   "cell_type": "code",
   "execution_count": 25,
   "metadata": {
    "scrolled": true
   },
   "outputs": [
    {
     "name": "stdout",
     "output_type": "stream",
     "text": [
      "Automatic reference selection! Reference cell type set to MC\n"
     ]
    },
    {
     "name": "stderr",
     "output_type": "stream",
     "text": [
      "2023-06-30 17:27:13.314683: I tensorflow/core/common_runtime/executor.cc:1197] [/device:CPU:0] (DEBUG INFO) Executor start aborting (this does not indicate an error and you can ignore this message): INVALID_ARGUMENT: You must feed a value for placeholder tensor 'shape' with dtype int32 and shape [3]\n",
      "\t [[{{node shape}}]]\n",
      "2023-06-30 17:27:13.314804: I tensorflow/core/common_runtime/executor.cc:1197] [/device:CPU:0] (DEBUG INFO) Executor start aborting (this does not indicate an error and you can ignore this message): INVALID_ARGUMENT: You must feed a value for placeholder tensor 'shape' with dtype int32 and shape [3]\n",
      "\t [[{{node shape}}]]\n",
      "2023-06-30 17:27:13.325291: I tensorflow/core/common_runtime/executor.cc:1197] [/device:CPU:0] (DEBUG INFO) Executor start aborting (this does not indicate an error and you can ignore this message): INVALID_ARGUMENT: You must feed a value for placeholder tensor 'shape' with dtype int32 and shape [3]\n",
      "\t [[{{node shape}}]]\n",
      "2023-06-30 17:27:13.325399: I tensorflow/core/common_runtime/executor.cc:1197] [/device:CPU:0] (DEBUG INFO) Executor start aborting (this does not indicate an error and you can ignore this message): INVALID_ARGUMENT: You must feed a value for placeholder tensor 'shape' with dtype int32 and shape [3]\n",
      "\t [[{{node shape}}]]\n",
      "2023-06-30 17:27:13.350863: I tensorflow/core/common_runtime/executor.cc:1197] [/device:CPU:0] (DEBUG INFO) Executor start aborting (this does not indicate an error and you can ignore this message): INVALID_ARGUMENT: You must feed a value for placeholder tensor 'batched_las_vegas_algorithm/while/normal/stateless_random_normal/StatelessRandomNormalV2/shape' with dtype int32 and shape [3]\n",
      "\t [[{{node batched_las_vegas_algorithm/while/normal/stateless_random_normal/StatelessRandomNormalV2/shape}}]]\n",
      "2023-06-30 17:27:13.350974: I tensorflow/core/common_runtime/executor.cc:1197] [/device:CPU:0] (DEBUG INFO) Executor start aborting (this does not indicate an error and you can ignore this message): INVALID_ARGUMENT: You must feed a value for placeholder tensor 'batched_las_vegas_algorithm/while/normal/stateless_random_normal/StatelessRandomNormalV2/shape' with dtype int32 and shape [3]\n",
      "\t [[{{node batched_las_vegas_algorithm/while/normal/stateless_random_normal/StatelessRandomNormalV2/shape}}]]\n",
      "2023-06-30 17:27:13.362002: I tensorflow/core/common_runtime/executor.cc:1197] [/device:CPU:0] (DEBUG INFO) Executor start aborting (this does not indicate an error and you can ignore this message): INVALID_ARGUMENT: You must feed a value for placeholder tensor 'batched_las_vegas_algorithm/while/normal/stateless_random_normal/StatelessRandomNormalV2/shape' with dtype int32 and shape [3]\n",
      "\t [[{{node batched_las_vegas_algorithm/while/normal/stateless_random_normal/StatelessRandomNormalV2/shape}}]]\n",
      "2023-06-30 17:27:13.362112: I tensorflow/core/common_runtime/executor.cc:1197] [/device:CPU:0] (DEBUG INFO) Executor start aborting (this does not indicate an error and you can ignore this message): INVALID_ARGUMENT: You must feed a value for placeholder tensor 'batched_las_vegas_algorithm/while/normal/stateless_random_normal/StatelessRandomNormalV2/shape' with dtype int32 and shape [3]\n",
      "\t [[{{node batched_las_vegas_algorithm/while/normal/stateless_random_normal/StatelessRandomNormalV2/shape}}]]\n",
      "2023-06-30 17:27:13.393047: I tensorflow/core/common_runtime/executor.cc:1197] [/device:CPU:0] (DEBUG INFO) Executor start aborting (this does not indicate an error and you can ignore this message): INVALID_ARGUMENT: You must feed a value for placeholder tensor 'shape' with dtype int32 and shape [3]\n",
      "\t [[{{node shape}}]]\n",
      "2023-06-30 17:27:13.393153: I tensorflow/core/common_runtime/executor.cc:1197] [/device:CPU:0] (DEBUG INFO) Executor start aborting (this does not indicate an error and you can ignore this message): INVALID_ARGUMENT: You must feed a value for placeholder tensor 'shape' with dtype int32 and shape [3]\n",
      "\t [[{{node shape}}]]\n",
      "2023-06-30 17:27:13.430199: I tensorflow/core/common_runtime/executor.cc:1197] [/device:CPU:0] (DEBUG INFO) Executor start aborting (this does not indicate an error and you can ignore this message): INTERNAL: No function library is provided.\n",
      "\t [[{{node Independentpredictions/sample/predictions/sample/PartitionedCall}}]]\n",
      "2023-06-30 17:27:13.472162: I tensorflow/core/common_runtime/executor.cc:1197] [/device:CPU:0] (DEBUG INFO) Executor start aborting (this does not indicate an error and you can ignore this message): INVALID_ARGUMENT: You must feed a value for placeholder tensor 'shape' with dtype int32 and shape [1]\n",
      "\t [[{{node shape}}]]\n",
      "2023-06-30 17:27:13.487246: I tensorflow/core/common_runtime/executor.cc:1197] [/device:CPU:0] (DEBUG INFO) Executor start aborting (this does not indicate an error and you can ignore this message): INVALID_ARGUMENT: You must feed a value for placeholder tensor 'random_binomial/binomial_noncpu/while/uniform/stateless_random_uniform/StatelessRandomUniformV2/random_binomial/binomial_noncpu/concat' with dtype int32 and shape [4]\n",
      "\t [[{{node random_binomial/binomial_noncpu/while/uniform/stateless_random_uniform/StatelessRandomUniformV2/random_binomial/binomial_noncpu/concat}}]]\n",
      "2023-06-30 17:27:13.487353: I tensorflow/core/common_runtime/executor.cc:1197] [/device:CPU:0] (DEBUG INFO) Executor start aborting (this does not indicate an error and you can ignore this message): INVALID_ARGUMENT: You must feed a value for placeholder tensor 'random_binomial/binomial_noncpu/while/uniform/stateless_random_uniform/StatelessRandomUniformV2/random_binomial/binomial_noncpu/concat' with dtype int32 and shape [4]\n",
      "\t [[{{node random_binomial/binomial_noncpu/while/uniform/stateless_random_uniform/StatelessRandomUniformV2/random_binomial/binomial_noncpu/concat}}]]\n",
      "2023-06-30 17:27:13.531886: I tensorflow/core/common_runtime/executor.cc:1197] [/device:CPU:0] (DEBUG INFO) Executor start aborting (this does not indicate an error and you can ignore this message): INVALID_ARGUMENT: You must feed a value for placeholder tensor 'shape' with dtype int32 and shape [1]\n",
      "\t [[{{node shape}}]]\n",
      "2023-06-30 17:27:13.537765: I tensorflow/core/common_runtime/executor.cc:1197] [/device:CPU:0] (DEBUG INFO) Executor start aborting (this does not indicate an error and you can ignore this message): INVALID_ARGUMENT: You must feed a value for placeholder tensor 'shape' with dtype int32 and shape [1]\n",
      "\t [[{{node shape}}]]\n",
      "2023-06-30 17:27:13.652323: I tensorflow/core/common_runtime/executor.cc:1197] [/device:CPU:0] (DEBUG INFO) Executor start aborting (this does not indicate an error and you can ignore this message): INVALID_ARGUMENT: You must feed a value for placeholder tensor 'random_binomial/binomial_noncpu/batched_las_vegas_algorithm/while/uniform/stateless_random_uniform/StatelessRandomUniformV2/random_binomial/binomial_noncpu/concat' with dtype int32 and shape [4]\n",
      "\t [[{{node random_binomial/binomial_noncpu/batched_las_vegas_algorithm/while/uniform/stateless_random_uniform/StatelessRandomUniformV2/random_binomial/binomial_noncpu/concat}}]]\n",
      "2023-06-30 17:27:13.652435: I tensorflow/core/common_runtime/executor.cc:1197] [/device:CPU:0] (DEBUG INFO) Executor start aborting (this does not indicate an error and you can ignore this message): INVALID_ARGUMENT: You must feed a value for placeholder tensor 'random_binomial/binomial_noncpu/batched_las_vegas_algorithm/while/uniform/stateless_random_uniform/StatelessRandomUniformV2/random_binomial/binomial_noncpu/concat' with dtype int32 and shape [4]\n",
      "\t [[{{node random_binomial/binomial_noncpu/batched_las_vegas_algorithm/while/uniform/stateless_random_uniform/StatelessRandomUniformV2/random_binomial/binomial_noncpu/concat}}]]\n",
      "2023-06-30 17:27:13.658190: I tensorflow/core/common_runtime/executor.cc:1197] [/device:CPU:0] (DEBUG INFO) Executor start aborting (this does not indicate an error and you can ignore this message): INVALID_ARGUMENT: You must feed a value for placeholder tensor 'random_binomial/binomial_noncpu/batched_las_vegas_algorithm/while/uniform/stateless_random_uniform/StatelessRandomUniformV2/random_binomial/binomial_noncpu/concat' with dtype int32 and shape [4]\n",
      "\t [[{{node random_binomial/binomial_noncpu/batched_las_vegas_algorithm/while/uniform/stateless_random_uniform/StatelessRandomUniformV2/random_binomial/binomial_noncpu/concat}}]]\n",
      "2023-06-30 17:27:13.658299: I tensorflow/core/common_runtime/executor.cc:1197] [/device:CPU:0] (DEBUG INFO) Executor start aborting (this does not indicate an error and you can ignore this message): INVALID_ARGUMENT: You must feed a value for placeholder tensor 'random_binomial/binomial_noncpu/batched_las_vegas_algorithm/while/uniform/stateless_random_uniform/StatelessRandomUniformV2/random_binomial/binomial_noncpu/concat' with dtype int32 and shape [4]\n",
      "\t [[{{node random_binomial/binomial_noncpu/batched_las_vegas_algorithm/while/uniform/stateless_random_uniform/StatelessRandomUniformV2/random_binomial/binomial_noncpu/concat}}]]\n"
     ]
    },
    {
     "name": "stderr",
     "output_type": "stream",
     "text": [
      "2023-06-30 17:27:13.818942: I tensorflow/core/common_runtime/executor.cc:1197] [/device:CPU:0] (DEBUG INFO) Executor start aborting (this does not indicate an error and you can ignore this message): INVALID_ARGUMENT: You must feed a value for placeholder tensor 'Independentpredictions/sample/predictions/sample/draw_sample/while/Placeholder_1' with dtype double and shape [1,?,2]\n",
      "\t [[{{node Independentpredictions/sample/predictions/sample/draw_sample/while/Placeholder_1}}]]\n",
      "2023-06-30 17:27:14.072402: I tensorflow/core/common_runtime/executor.cc:1197] [/device:CPU:0] (DEBUG INFO) Executor start aborting (this does not indicate an error and you can ignore this message): INTERNAL: No function library is provided.\n",
      "\t [[{{node Independentpredictions/sample/predictions/sample/PartitionedCall}}]]\n",
      "2023-06-30 17:27:14.104835: I tensorflow/core/common_runtime/executor.cc:1197] [/device:CPU:0] (DEBUG INFO) Executor start aborting (this does not indicate an error and you can ignore this message): INVALID_ARGUMENT: You must feed a value for placeholder tensor 'Independentpredictions/sample/predictions/sample/draw_sample/while/Placeholder_1' with dtype double and shape [1,?,2]\n",
      "\t [[{{node Independentpredictions/sample/predictions/sample/draw_sample/while/Placeholder_1}}]]\n",
      "2023-06-30 17:27:14.322685: I tensorflow/core/common_runtime/executor.cc:1197] [/device:CPU:0] (DEBUG INFO) Executor start aborting (this does not indicate an error and you can ignore this message): INTERNAL: No function library is provided.\n",
      "\t [[{{node Independentpredictions/sample/predictions/sample/PartitionedCall}}]]\n",
      "2023-06-30 17:27:15.141407: I tensorflow/core/common_runtime/executor.cc:1197] [/device:CPU:0] (DEBUG INFO) Executor start aborting (this does not indicate an error and you can ignore this message): INTERNAL: No function library is provided.\n",
      "\t [[{{node Independentpredictions/sample/predictions/sample/PartitionedCall}}]]\n",
      "100%|██████████| 20000/20000 [01:28<00:00, 225.59it/s]\n"
     ]
    },
    {
     "name": "stdout",
     "output_type": "stream",
     "text": [
      "MCMC sampling finished. (114.421 sec)\n",
      "Acceptance rate: 43.9%\n",
      "Automatic reference selection! Reference cell type set to MC\n"
     ]
    },
    {
     "name": "stderr",
     "output_type": "stream",
     "text": [
      "2023-06-30 17:29:27.128595: I tensorflow/core/common_runtime/executor.cc:1197] [/device:CPU:0] (DEBUG INFO) Executor start aborting (this does not indicate an error and you can ignore this message): INTERNAL: No function library is provided.\n",
      "\t [[{{node Independentpredictions/sample/predictions/sample/PartitionedCall}}]]\n",
      "2023-06-30 17:29:27.159040: I tensorflow/core/common_runtime/executor.cc:1197] [/device:CPU:0] (DEBUG INFO) Executor start aborting (this does not indicate an error and you can ignore this message): INVALID_ARGUMENT: You must feed a value for placeholder tensor 'Independentpredictions/sample/predictions/sample/draw_sample/while/Placeholder_1' with dtype double and shape [1,?,2]\n",
      "\t [[{{node Independentpredictions/sample/predictions/sample/draw_sample/while/Placeholder_1}}]]\n",
      "2023-06-30 17:29:27.407639: I tensorflow/core/common_runtime/executor.cc:1197] [/device:CPU:0] (DEBUG INFO) Executor start aborting (this does not indicate an error and you can ignore this message): INTERNAL: No function library is provided.\n",
      "\t [[{{node Independentpredictions/sample/predictions/sample/PartitionedCall}}]]\n",
      "2023-06-30 17:29:27.440137: I tensorflow/core/common_runtime/executor.cc:1197] [/device:CPU:0] (DEBUG INFO) Executor start aborting (this does not indicate an error and you can ignore this message): INVALID_ARGUMENT: You must feed a value for placeholder tensor 'Independentpredictions/sample/predictions/sample/draw_sample/while/Placeholder_1' with dtype double and shape [1,?,2]\n",
      "\t [[{{node Independentpredictions/sample/predictions/sample/draw_sample/while/Placeholder_1}}]]\n",
      "2023-06-30 17:29:27.657946: I tensorflow/core/common_runtime/executor.cc:1197] [/device:CPU:0] (DEBUG INFO) Executor start aborting (this does not indicate an error and you can ignore this message): INTERNAL: No function library is provided.\n",
      "\t [[{{node Independentpredictions/sample/predictions/sample/PartitionedCall}}]]\n",
      "2023-06-30 17:29:28.135196: I tensorflow/core/common_runtime/executor.cc:1197] [/device:CPU:0] (DEBUG INFO) Executor start aborting (this does not indicate an error and you can ignore this message): INTERNAL: No function library is provided.\n",
      "\t [[{{node Independentpredictions/sample/predictions/sample/PartitionedCall}}]]\n",
      "100%|██████████| 20000/20000 [01:37<00:00, 204.99it/s]\n"
     ]
    },
    {
     "name": "stdout",
     "output_type": "stream",
     "text": [
      "MCMC sampling finished. (123.377 sec)\n",
      "Acceptance rate: 56.0%\n",
      "Automatic reference selection! Reference cell type set to MC\n"
     ]
    },
    {
     "name": "stderr",
     "output_type": "stream",
     "text": [
      "2023-06-30 17:31:50.069500: I tensorflow/core/common_runtime/executor.cc:1197] [/device:CPU:0] (DEBUG INFO) Executor start aborting (this does not indicate an error and you can ignore this message): INTERNAL: No function library is provided.\n",
      "\t [[{{node Independentpredictions/sample/predictions/sample/PartitionedCall}}]]\n",
      "2023-06-30 17:31:50.100444: I tensorflow/core/common_runtime/executor.cc:1197] [/device:CPU:0] (DEBUG INFO) Executor start aborting (this does not indicate an error and you can ignore this message): INVALID_ARGUMENT: You must feed a value for placeholder tensor 'Independentpredictions/sample/predictions/sample/draw_sample/while/Placeholder_1' with dtype double and shape [1,?,2]\n",
      "\t [[{{node Independentpredictions/sample/predictions/sample/draw_sample/while/Placeholder_1}}]]\n",
      "2023-06-30 17:31:50.356313: I tensorflow/core/common_runtime/executor.cc:1197] [/device:CPU:0] (DEBUG INFO) Executor start aborting (this does not indicate an error and you can ignore this message): INTERNAL: No function library is provided.\n",
      "\t [[{{node Independentpredictions/sample/predictions/sample/PartitionedCall}}]]\n",
      "2023-06-30 17:31:50.391711: I tensorflow/core/common_runtime/executor.cc:1197] [/device:CPU:0] (DEBUG INFO) Executor start aborting (this does not indicate an error and you can ignore this message): INVALID_ARGUMENT: You must feed a value for placeholder tensor 'Independentpredictions/sample/predictions/sample/draw_sample/while/Placeholder_1' with dtype double and shape [1,?,2]\n",
      "\t [[{{node Independentpredictions/sample/predictions/sample/draw_sample/while/Placeholder_1}}]]\n",
      "2023-06-30 17:31:50.614216: I tensorflow/core/common_runtime/executor.cc:1197] [/device:CPU:0] (DEBUG INFO) Executor start aborting (this does not indicate an error and you can ignore this message): INTERNAL: No function library is provided.\n",
      "\t [[{{node Independentpredictions/sample/predictions/sample/PartitionedCall}}]]\n",
      "2023-06-30 17:31:51.105554: I tensorflow/core/common_runtime/executor.cc:1197] [/device:CPU:0] (DEBUG INFO) Executor start aborting (this does not indicate an error and you can ignore this message): INTERNAL: No function library is provided.\n",
      "\t [[{{node Independentpredictions/sample/predictions/sample/PartitionedCall}}]]\n",
      "100%|██████████| 20000/20000 [01:32<00:00, 215.80it/s]\n"
     ]
    },
    {
     "name": "stdout",
     "output_type": "stream",
     "text": [
      "MCMC sampling finished. (118.480 sec)\n",
      "Acceptance rate: 54.0%\n",
      "Automatic reference selection! Reference cell type set to MC\n"
     ]
    },
    {
     "name": "stderr",
     "output_type": "stream",
     "text": [
      "2023-06-30 17:34:07.664124: I tensorflow/core/common_runtime/executor.cc:1197] [/device:CPU:0] (DEBUG INFO) Executor start aborting (this does not indicate an error and you can ignore this message): INTERNAL: No function library is provided.\n",
      "\t [[{{node Independentpredictions/sample/predictions/sample/PartitionedCall}}]]\n",
      "2023-06-30 17:34:07.695114: I tensorflow/core/common_runtime/executor.cc:1197] [/device:CPU:0] (DEBUG INFO) Executor start aborting (this does not indicate an error and you can ignore this message): INVALID_ARGUMENT: You must feed a value for placeholder tensor 'Independentpredictions/sample/predictions/sample/draw_sample/while/Placeholder_1' with dtype double and shape [1,?,2]\n",
      "\t [[{{node Independentpredictions/sample/predictions/sample/draw_sample/while/Placeholder_1}}]]\n",
      "2023-06-30 17:34:07.942626: I tensorflow/core/common_runtime/executor.cc:1197] [/device:CPU:0] (DEBUG INFO) Executor start aborting (this does not indicate an error and you can ignore this message): INTERNAL: No function library is provided.\n",
      "\t [[{{node Independentpredictions/sample/predictions/sample/PartitionedCall}}]]\n",
      "2023-06-30 17:34:07.976615: I tensorflow/core/common_runtime/executor.cc:1197] [/device:CPU:0] (DEBUG INFO) Executor start aborting (this does not indicate an error and you can ignore this message): INVALID_ARGUMENT: You must feed a value for placeholder tensor 'Independentpredictions/sample/predictions/sample/draw_sample/while/Placeholder_1' with dtype double and shape [1,?,2]\n",
      "\t [[{{node Independentpredictions/sample/predictions/sample/draw_sample/while/Placeholder_1}}]]\n",
      "2023-06-30 17:34:08.195355: I tensorflow/core/common_runtime/executor.cc:1197] [/device:CPU:0] (DEBUG INFO) Executor start aborting (this does not indicate an error and you can ignore this message): INTERNAL: No function library is provided.\n",
      "\t [[{{node Independentpredictions/sample/predictions/sample/PartitionedCall}}]]\n",
      "2023-06-30 17:34:08.672018: I tensorflow/core/common_runtime/executor.cc:1197] [/device:CPU:0] (DEBUG INFO) Executor start aborting (this does not indicate an error and you can ignore this message): INTERNAL: No function library is provided.\n",
      "\t [[{{node Independentpredictions/sample/predictions/sample/PartitionedCall}}]]\n",
      "100%|██████████| 20000/20000 [01:28<00:00, 224.88it/s]\n"
     ]
    },
    {
     "name": "stdout",
     "output_type": "stream",
     "text": [
      "WARNING:tensorflow:5 out of the last 5 calls to <function CompositionalModel.sampling.<locals>.sample_mcmc at 0x7fe9885ae3e0> triggered tf.function retracing. Tracing is expensive and the excessive number of tracings could be due to (1) creating @tf.function repeatedly in a loop, (2) passing tensors with different shapes, (3) passing Python objects instead of tensors. For (1), please define your @tf.function outside of the loop. For (2), @tf.function has reduce_retracing=True option that can avoid unnecessary retracing. For (3), please refer to https://www.tensorflow.org/guide/function#controlling_retracing and https://www.tensorflow.org/api_docs/python/tf/function for  more details.\n",
      "MCMC sampling finished. (114.430 sec)\n",
      "Acceptance rate: 60.4%\n",
      "Automatic reference selection! Reference cell type set to MC\n"
     ]
    },
    {
     "name": "stderr",
     "output_type": "stream",
     "text": [
      "2023-06-30 17:36:22.005613: I tensorflow/core/common_runtime/executor.cc:1197] [/device:CPU:0] (DEBUG INFO) Executor start aborting (this does not indicate an error and you can ignore this message): INTERNAL: No function library is provided.\n",
      "\t [[{{node Independentpredictions/sample/predictions/sample/PartitionedCall}}]]\n",
      "2023-06-30 17:36:22.035544: I tensorflow/core/common_runtime/executor.cc:1197] [/device:CPU:0] (DEBUG INFO) Executor start aborting (this does not indicate an error and you can ignore this message): INVALID_ARGUMENT: You must feed a value for placeholder tensor 'Independentpredictions/sample/predictions/sample/draw_sample/while/Placeholder_1' with dtype double and shape [1,?,2]\n",
      "\t [[{{node Independentpredictions/sample/predictions/sample/draw_sample/while/Placeholder_1}}]]\n",
      "2023-06-30 17:36:22.282775: I tensorflow/core/common_runtime/executor.cc:1197] [/device:CPU:0] (DEBUG INFO) Executor start aborting (this does not indicate an error and you can ignore this message): INTERNAL: No function library is provided.\n",
      "\t [[{{node Independentpredictions/sample/predictions/sample/PartitionedCall}}]]\n",
      "2023-06-30 17:36:22.315258: I tensorflow/core/common_runtime/executor.cc:1197] [/device:CPU:0] (DEBUG INFO) Executor start aborting (this does not indicate an error and you can ignore this message): INVALID_ARGUMENT: You must feed a value for placeholder tensor 'Independentpredictions/sample/predictions/sample/draw_sample/while/Placeholder_1' with dtype double and shape [1,?,2]\n",
      "\t [[{{node Independentpredictions/sample/predictions/sample/draw_sample/while/Placeholder_1}}]]\n",
      "2023-06-30 17:36:22.535299: I tensorflow/core/common_runtime/executor.cc:1197] [/device:CPU:0] (DEBUG INFO) Executor start aborting (this does not indicate an error and you can ignore this message): INTERNAL: No function library is provided.\n",
      "\t [[{{node Independentpredictions/sample/predictions/sample/PartitionedCall}}]]\n",
      "2023-06-30 17:36:23.074172: I tensorflow/core/common_runtime/executor.cc:1197] [/device:CPU:0] (DEBUG INFO) Executor start aborting (this does not indicate an error and you can ignore this message): INTERNAL: No function library is provided.\n",
      "\t [[{{node Independentpredictions/sample/predictions/sample/PartitionedCall}}]]\n",
      "100%|██████████| 20000/20000 [01:29<00:00, 224.24it/s]\n"
     ]
    },
    {
     "name": "stdout",
     "output_type": "stream",
     "text": [
      "WARNING:tensorflow:6 out of the last 6 calls to <function CompositionalModel.sampling.<locals>.sample_mcmc at 0x7fea58104cc0> triggered tf.function retracing. Tracing is expensive and the excessive number of tracings could be due to (1) creating @tf.function repeatedly in a loop, (2) passing tensors with different shapes, (3) passing Python objects instead of tensors. For (1), please define your @tf.function outside of the loop. For (2), @tf.function has reduce_retracing=True option that can avoid unnecessary retracing. For (3), please refer to https://www.tensorflow.org/guide/function#controlling_retracing and https://www.tensorflow.org/api_docs/python/tf/function for  more details.\n",
      "MCMC sampling finished. (114.586 sec)\n",
      "Acceptance rate: 76.9%\n"
     ]
    },
    {
     "name": "stderr",
     "output_type": "stream",
     "text": [
      "/home/mbentse/.conda/envs/scanpro_analysis/lib/python3.11/site-packages/numpy/lib/nanfunctions.py:1878: RuntimeWarning: Degrees of freedom <= 0 for slice.\n",
      "  var = nanvar(a, axis=axis, dtype=dtype, out=out, ddof=ddof,\n"
     ]
    },
    {
     "name": "stdout",
     "output_type": "stream",
     "text": [
      "Automatic reference selection! Reference cell type set to MC\n"
     ]
    },
    {
     "name": "stderr",
     "output_type": "stream",
     "text": [
      "2023-06-30 17:38:36.189927: I tensorflow/core/common_runtime/executor.cc:1197] [/device:CPU:0] (DEBUG INFO) Executor start aborting (this does not indicate an error and you can ignore this message): INTERNAL: No function library is provided.\n",
      "\t [[{{node Independentpredictions/sample/predictions/sample/PartitionedCall}}]]\n",
      "2023-06-30 17:38:36.225121: I tensorflow/core/common_runtime/executor.cc:1197] [/device:CPU:0] (DEBUG INFO) Executor start aborting (this does not indicate an error and you can ignore this message): INVALID_ARGUMENT: You must feed a value for placeholder tensor 'Independentpredictions/sample/predictions/sample/draw_sample/while/Placeholder_1' with dtype double and shape [1,?,2]\n",
      "\t [[{{node Independentpredictions/sample/predictions/sample/draw_sample/while/Placeholder_1}}]]\n",
      "2023-06-30 17:38:36.501599: I tensorflow/core/common_runtime/executor.cc:1197] [/device:CPU:0] (DEBUG INFO) Executor start aborting (this does not indicate an error and you can ignore this message): INTERNAL: No function library is provided.\n",
      "\t [[{{node Independentpredictions/sample/predictions/sample/PartitionedCall}}]]\n",
      "2023-06-30 17:38:36.536053: I tensorflow/core/common_runtime/executor.cc:1197] [/device:CPU:0] (DEBUG INFO) Executor start aborting (this does not indicate an error and you can ignore this message): INVALID_ARGUMENT: You must feed a value for placeholder tensor 'Independentpredictions/sample/predictions/sample/draw_sample/while/Placeholder_1' with dtype double and shape [1,?,2]\n",
      "\t [[{{node Independentpredictions/sample/predictions/sample/draw_sample/while/Placeholder_1}}]]\n",
      "2023-06-30 17:38:36.777295: I tensorflow/core/common_runtime/executor.cc:1197] [/device:CPU:0] (DEBUG INFO) Executor start aborting (this does not indicate an error and you can ignore this message): INTERNAL: No function library is provided.\n",
      "\t [[{{node Independentpredictions/sample/predictions/sample/PartitionedCall}}]]\n",
      "2023-06-30 17:38:37.279121: I tensorflow/core/common_runtime/executor.cc:1197] [/device:CPU:0] (DEBUG INFO) Executor start aborting (this does not indicate an error and you can ignore this message): INTERNAL: No function library is provided.\n",
      "\t [[{{node Independentpredictions/sample/predictions/sample/PartitionedCall}}]]\n",
      "100%|██████████| 20000/20000 [01:28<00:00, 225.94it/s]\n"
     ]
    },
    {
     "name": "stdout",
     "output_type": "stream",
     "text": [
      "MCMC sampling finished. (114.663 sec)\n",
      "Acceptance rate: 0.0%\n"
     ]
    },
    {
     "name": "stderr",
     "output_type": "stream",
     "text": [
      "/home/mbentse/.conda/envs/scanpro_analysis/lib/python3.11/site-packages/numpy/lib/nanfunctions.py:1878: RuntimeWarning: Degrees of freedom <= 0 for slice.\n",
      "  var = nanvar(a, axis=axis, dtype=dtype, out=out, ddof=ddof,\n"
     ]
    },
    {
     "name": "stdout",
     "output_type": "stream",
     "text": [
      "Automatic reference selection! Reference cell type set to MC\n"
     ]
    },
    {
     "name": "stderr",
     "output_type": "stream",
     "text": [
      "2023-06-30 17:40:50.068633: I tensorflow/core/common_runtime/executor.cc:1197] [/device:CPU:0] (DEBUG INFO) Executor start aborting (this does not indicate an error and you can ignore this message): INTERNAL: No function library is provided.\n",
      "\t [[{{node Independentpredictions/sample/predictions/sample/PartitionedCall}}]]\n",
      "2023-06-30 17:40:50.099567: I tensorflow/core/common_runtime/executor.cc:1197] [/device:CPU:0] (DEBUG INFO) Executor start aborting (this does not indicate an error and you can ignore this message): INVALID_ARGUMENT: You must feed a value for placeholder tensor 'Independentpredictions/sample/predictions/sample/draw_sample/while/Placeholder_1' with dtype double and shape [1,?,2]\n",
      "\t [[{{node Independentpredictions/sample/predictions/sample/draw_sample/while/Placeholder_1}}]]\n",
      "2023-06-30 17:40:50.347615: I tensorflow/core/common_runtime/executor.cc:1197] [/device:CPU:0] (DEBUG INFO) Executor start aborting (this does not indicate an error and you can ignore this message): INTERNAL: No function library is provided.\n",
      "\t [[{{node Independentpredictions/sample/predictions/sample/PartitionedCall}}]]\n",
      "2023-06-30 17:40:50.380332: I tensorflow/core/common_runtime/executor.cc:1197] [/device:CPU:0] (DEBUG INFO) Executor start aborting (this does not indicate an error and you can ignore this message): INVALID_ARGUMENT: You must feed a value for placeholder tensor 'Independentpredictions/sample/predictions/sample/draw_sample/while/Placeholder_1' with dtype double and shape [1,?,2]\n",
      "\t [[{{node Independentpredictions/sample/predictions/sample/draw_sample/while/Placeholder_1}}]]\n",
      "2023-06-30 17:40:50.599725: I tensorflow/core/common_runtime/executor.cc:1197] [/device:CPU:0] (DEBUG INFO) Executor start aborting (this does not indicate an error and you can ignore this message): INTERNAL: No function library is provided.\n",
      "\t [[{{node Independentpredictions/sample/predictions/sample/PartitionedCall}}]]\n",
      "2023-06-30 17:40:51.079777: I tensorflow/core/common_runtime/executor.cc:1197] [/device:CPU:0] (DEBUG INFO) Executor start aborting (this does not indicate an error and you can ignore this message): INTERNAL: No function library is provided.\n",
      "\t [[{{node Independentpredictions/sample/predictions/sample/PartitionedCall}}]]\n",
      "100%|██████████| 20000/20000 [01:29<00:00, 222.70it/s]\n"
     ]
    },
    {
     "name": "stdout",
     "output_type": "stream",
     "text": [
      "MCMC sampling finished. (115.378 sec)\n",
      "Acceptance rate: 50.5%\n",
      "Automatic reference selection! Reference cell type set to MC\n"
     ]
    },
    {
     "name": "stderr",
     "output_type": "stream",
     "text": [
      "2023-06-30 17:43:04.905175: I tensorflow/core/common_runtime/executor.cc:1197] [/device:CPU:0] (DEBUG INFO) Executor start aborting (this does not indicate an error and you can ignore this message): INTERNAL: No function library is provided.\n",
      "\t [[{{node Independentpredictions/sample/predictions/sample/PartitionedCall}}]]\n",
      "2023-06-30 17:43:04.936969: I tensorflow/core/common_runtime/executor.cc:1197] [/device:CPU:0] (DEBUG INFO) Executor start aborting (this does not indicate an error and you can ignore this message): INVALID_ARGUMENT: You must feed a value for placeholder tensor 'Independentpredictions/sample/predictions/sample/draw_sample/while/Placeholder_1' with dtype double and shape [1,?,2]\n",
      "\t [[{{node Independentpredictions/sample/predictions/sample/draw_sample/while/Placeholder_1}}]]\n",
      "2023-06-30 17:43:05.187336: I tensorflow/core/common_runtime/executor.cc:1197] [/device:CPU:0] (DEBUG INFO) Executor start aborting (this does not indicate an error and you can ignore this message): INTERNAL: No function library is provided.\n",
      "\t [[{{node Independentpredictions/sample/predictions/sample/PartitionedCall}}]]\n",
      "2023-06-30 17:43:05.220125: I tensorflow/core/common_runtime/executor.cc:1197] [/device:CPU:0] (DEBUG INFO) Executor start aborting (this does not indicate an error and you can ignore this message): INVALID_ARGUMENT: You must feed a value for placeholder tensor 'Independentpredictions/sample/predictions/sample/draw_sample/while/Placeholder_1' with dtype double and shape [1,?,2]\n",
      "\t [[{{node Independentpredictions/sample/predictions/sample/draw_sample/while/Placeholder_1}}]]\n",
      "2023-06-30 17:43:05.447271: I tensorflow/core/common_runtime/executor.cc:1197] [/device:CPU:0] (DEBUG INFO) Executor start aborting (this does not indicate an error and you can ignore this message): INTERNAL: No function library is provided.\n",
      "\t [[{{node Independentpredictions/sample/predictions/sample/PartitionedCall}}]]\n",
      "2023-06-30 17:43:05.923653: I tensorflow/core/common_runtime/executor.cc:1197] [/device:CPU:0] (DEBUG INFO) Executor start aborting (this does not indicate an error and you can ignore this message): INTERNAL: No function library is provided.\n",
      "\t [[{{node Independentpredictions/sample/predictions/sample/PartitionedCall}}]]\n",
      "100%|██████████| 20000/20000 [01:31<00:00, 218.75it/s]\n"
     ]
    },
    {
     "name": "stdout",
     "output_type": "stream",
     "text": [
      "MCMC sampling finished. (116.902 sec)\n",
      "Acceptance rate: 68.3%\n",
      "Automatic reference selection! Reference cell type set to MC\n"
     ]
    },
    {
     "name": "stderr",
     "output_type": "stream",
     "text": [
      "2023-06-30 17:45:21.012299: I tensorflow/core/common_runtime/executor.cc:1197] [/device:CPU:0] (DEBUG INFO) Executor start aborting (this does not indicate an error and you can ignore this message): INTERNAL: No function library is provided.\n",
      "\t [[{{node Independentpredictions/sample/predictions/sample/PartitionedCall}}]]\n",
      "2023-06-30 17:45:21.043137: I tensorflow/core/common_runtime/executor.cc:1197] [/device:CPU:0] (DEBUG INFO) Executor start aborting (this does not indicate an error and you can ignore this message): INVALID_ARGUMENT: You must feed a value for placeholder tensor 'Independentpredictions/sample/predictions/sample/draw_sample/while/Placeholder_1' with dtype double and shape [1,?,2]\n",
      "\t [[{{node Independentpredictions/sample/predictions/sample/draw_sample/while/Placeholder_1}}]]\n",
      "2023-06-30 17:45:21.292760: I tensorflow/core/common_runtime/executor.cc:1197] [/device:CPU:0] (DEBUG INFO) Executor start aborting (this does not indicate an error and you can ignore this message): INTERNAL: No function library is provided.\n",
      "\t [[{{node Independentpredictions/sample/predictions/sample/PartitionedCall}}]]\n",
      "2023-06-30 17:45:21.325389: I tensorflow/core/common_runtime/executor.cc:1197] [/device:CPU:0] (DEBUG INFO) Executor start aborting (this does not indicate an error and you can ignore this message): INVALID_ARGUMENT: You must feed a value for placeholder tensor 'Independentpredictions/sample/predictions/sample/draw_sample/while/Placeholder_1' with dtype double and shape [1,?,2]\n",
      "\t [[{{node Independentpredictions/sample/predictions/sample/draw_sample/while/Placeholder_1}}]]\n",
      "2023-06-30 17:45:21.544817: I tensorflow/core/common_runtime/executor.cc:1197] [/device:CPU:0] (DEBUG INFO) Executor start aborting (this does not indicate an error and you can ignore this message): INTERNAL: No function library is provided.\n",
      "\t [[{{node Independentpredictions/sample/predictions/sample/PartitionedCall}}]]\n",
      "2023-06-30 17:45:22.020618: I tensorflow/core/common_runtime/executor.cc:1197] [/device:CPU:0] (DEBUG INFO) Executor start aborting (this does not indicate an error and you can ignore this message): INTERNAL: No function library is provided.\n",
      "\t [[{{node Independentpredictions/sample/predictions/sample/PartitionedCall}}]]\n",
      "100%|██████████| 20000/20000 [01:30<00:00, 220.36it/s]\n"
     ]
    },
    {
     "name": "stdout",
     "output_type": "stream",
     "text": [
      "MCMC sampling finished. (116.355 sec)\n",
      "Acceptance rate: 25.9%\n",
      "Automatic reference selection! Reference cell type set to MC\n"
     ]
    },
    {
     "name": "stderr",
     "output_type": "stream",
     "text": [
      "2023-06-30 17:47:37.195586: I tensorflow/core/common_runtime/executor.cc:1197] [/device:CPU:0] (DEBUG INFO) Executor start aborting (this does not indicate an error and you can ignore this message): INTERNAL: No function library is provided.\n",
      "\t [[{{node Independentpredictions/sample/predictions/sample/PartitionedCall}}]]\n",
      "2023-06-30 17:47:37.225834: I tensorflow/core/common_runtime/executor.cc:1197] [/device:CPU:0] (DEBUG INFO) Executor start aborting (this does not indicate an error and you can ignore this message): INVALID_ARGUMENT: You must feed a value for placeholder tensor 'Independentpredictions/sample/predictions/sample/draw_sample/while/Placeholder_1' with dtype double and shape [1,?,2]\n",
      "\t [[{{node Independentpredictions/sample/predictions/sample/draw_sample/while/Placeholder_1}}]]\n",
      "2023-06-30 17:47:37.473404: I tensorflow/core/common_runtime/executor.cc:1197] [/device:CPU:0] (DEBUG INFO) Executor start aborting (this does not indicate an error and you can ignore this message): INTERNAL: No function library is provided.\n",
      "\t [[{{node Independentpredictions/sample/predictions/sample/PartitionedCall}}]]\n",
      "2023-06-30 17:47:37.507336: I tensorflow/core/common_runtime/executor.cc:1197] [/device:CPU:0] (DEBUG INFO) Executor start aborting (this does not indicate an error and you can ignore this message): INVALID_ARGUMENT: You must feed a value for placeholder tensor 'Independentpredictions/sample/predictions/sample/draw_sample/while/Placeholder_1' with dtype double and shape [1,?,2]\n",
      "\t [[{{node Independentpredictions/sample/predictions/sample/draw_sample/while/Placeholder_1}}]]\n",
      "2023-06-30 17:47:37.726224: I tensorflow/core/common_runtime/executor.cc:1197] [/device:CPU:0] (DEBUG INFO) Executor start aborting (this does not indicate an error and you can ignore this message): INTERNAL: No function library is provided.\n",
      "\t [[{{node Independentpredictions/sample/predictions/sample/PartitionedCall}}]]\n",
      "2023-06-30 17:47:38.702600: I tensorflow/core/common_runtime/executor.cc:1197] [/device:CPU:0] (DEBUG INFO) Executor start aborting (this does not indicate an error and you can ignore this message): INTERNAL: No function library is provided.\n",
      "\t [[{{node Independentpredictions/sample/predictions/sample/PartitionedCall}}]]\n",
      "100%|██████████| 20000/20000 [01:30<00:00, 221.42it/s]\n"
     ]
    },
    {
     "name": "stdout",
     "output_type": "stream",
     "text": [
      "MCMC sampling finished. (118.200 sec)\n",
      "Acceptance rate: 13.3%\n"
     ]
    }
   ],
   "source": [
    "credeff_list = []\n",
    "for _ in range(10):\n",
    "    pbmc_model_norep = mod.CompositionalAnalysis(sccoda_data_norep, formula=\"Sex\", reference_cell_type=\"automatic\")\n",
    "    sccoda_results_norep = pbmc_model_norep.sample_hmc()\n",
    "    credeff_list.append(sccoda_results_norep.credible_effects())"
   ]
  },
  {
   "cell_type": "code",
   "execution_count": 26,
   "metadata": {},
   "outputs": [
    {
     "data": {
      "text/html": [
       "<div>\n",
       "<style scoped>\n",
       "    .dataframe tbody tr th:only-of-type {\n",
       "        vertical-align: middle;\n",
       "    }\n",
       "\n",
       "    .dataframe tbody tr th {\n",
       "        vertical-align: top;\n",
       "    }\n",
       "\n",
       "    .dataframe thead th {\n",
       "        text-align: right;\n",
       "    }\n",
       "</style>\n",
       "<table border=\"1\" class=\"dataframe\">\n",
       "  <thead>\n",
       "    <tr style=\"text-align: right;\">\n",
       "      <th></th>\n",
       "      <th></th>\n",
       "      <th>pct_credible_effect</th>\n",
       "    </tr>\n",
       "    <tr>\n",
       "      <th>Covariate</th>\n",
       "      <th>Cell Type</th>\n",
       "      <th></th>\n",
       "    </tr>\n",
       "  </thead>\n",
       "  <tbody>\n",
       "    <tr>\n",
       "      <th rowspan=\"5\" valign=\"top\">Sex[T.male]</th>\n",
       "      <th>BC</th>\n",
       "      <td>10.0</td>\n",
       "    </tr>\n",
       "    <tr>\n",
       "      <th>DC</th>\n",
       "      <td>0.0</td>\n",
       "    </tr>\n",
       "    <tr>\n",
       "      <th>MC</th>\n",
       "      <td>0.0</td>\n",
       "    </tr>\n",
       "    <tr>\n",
       "      <th>NK</th>\n",
       "      <td>20.0</td>\n",
       "    </tr>\n",
       "    <tr>\n",
       "      <th>TC</th>\n",
       "      <td>10.0</td>\n",
       "    </tr>\n",
       "  </tbody>\n",
       "</table>\n",
       "</div>"
      ],
      "text/plain": [
       "                       pct_credible_effect\n",
       "Covariate   Cell Type                     \n",
       "Sex[T.male] BC                        10.0\n",
       "            DC                         0.0\n",
       "            MC                         0.0\n",
       "            NK                        20.0\n",
       "            TC                        10.0"
      ]
     },
     "execution_count": 26,
     "metadata": {},
     "output_type": "execute_result"
    }
   ],
   "source": [
    "# Collect credible effects\n",
    "all_credeff = pd.concat(credeff_list)\n",
    "pct_credeff = all_credeff.groupby(all_credeff.index.names).mean().to_frame(\"pct_credible_effect\") * 100\n",
    "pct_credeff"
   ]
  },
  {
   "cell_type": "code",
   "execution_count": 27,
   "metadata": {},
   "outputs": [],
   "source": [
    "pct_credeff.to_csv(\"results/pbmc_sccoda_norep.tsv\", sep=\"\\t\")"
   ]
  },
  {
   "cell_type": "code",
   "execution_count": null,
   "metadata": {},
   "outputs": [],
   "source": []
  }
 ],
 "metadata": {
  "kernelspec": {
   "display_name": "scanpro_analysis",
   "language": "python",
   "name": "scanpro_analysis"
  },
  "language_info": {
   "codemirror_mode": {
    "name": "ipython",
    "version": 3
   },
   "file_extension": ".py",
   "mimetype": "text/x-python",
   "name": "python",
   "nbconvert_exporter": "python",
   "pygments_lexer": "ipython3",
   "version": "3.11.4"
  },
  "vscode": {
   "interpreter": {
    "hash": "8a5edab282632443219e051e4ade2d1d5bbc671c781051bf1437897cbdfea0f1"
   }
  }
 },
 "nbformat": 4,
 "nbformat_minor": 2
}
