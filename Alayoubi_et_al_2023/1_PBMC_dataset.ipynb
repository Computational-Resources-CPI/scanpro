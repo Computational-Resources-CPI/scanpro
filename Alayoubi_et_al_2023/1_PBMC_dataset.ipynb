{
 "cells": [
  {
   "cell_type": "markdown",
   "metadata": {},
   "source": [
    "# 1. PBMC data of immune cells from young and old, male and female samples\n",
    "\n",
    "Huang, Zhaohao, Binyao Chen, Xiuxing Liu, He Li, Lihui Xie, Yuehan Gao, Runping Duan, et al. 2021. “Effects of Sex and Aging on the Immune Cell Landscape as Assessed by Single-Cell Transcriptomic Analysis.” Proceedings of the National Academy of Sciences of the United States of America 118 (33). https://doi.org/10.1073/pnas.2023216118."
   ]
  },
  {
   "cell_type": "code",
   "execution_count": 1,
   "metadata": {},
   "outputs": [
    {
     "name": "stderr",
     "output_type": "stream",
     "text": [
      "2023-07-04 11:23:23.030351: I tensorflow/core/util/port.cc:110] oneDNN custom operations are on. You may see slightly different numerical results due to floating-point round-off errors from different computation orders. To turn them off, set the environment variable `TF_ENABLE_ONEDNN_OPTS=0`.\n",
      "2023-07-04 11:23:23.034076: I tensorflow/tsl/cuda/cudart_stub.cc:28] Could not find cuda drivers on your machine, GPU will not be used.\n",
      "2023-07-04 11:23:23.216969: I tensorflow/tsl/cuda/cudart_stub.cc:28] Could not find cuda drivers on your machine, GPU will not be used.\n",
      "2023-07-04 11:23:23.220019: I tensorflow/core/platform/cpu_feature_guard.cc:182] This TensorFlow binary is optimized to use available CPU instructions in performance-critical operations.\n",
      "To enable the following instructions: AVX2 AVX512F AVX512_VNNI FMA, in other operations, rebuild TensorFlow with the appropriate compiler flags.\n",
      "2023-07-04 11:23:25.150734: W tensorflow/compiler/tf2tensorrt/utils/py_utils.cc:38] TF-TRT Warning: Could not find TensorRT\n"
     ]
    },
    {
     "name": "stdout",
     "output_type": "stream",
     "text": [
      "sccoda version: 0.1.9\n"
     ]
    }
   ],
   "source": [
    "import os\n",
    "import sys\n",
    "import pandas as pd\n",
    "import numpy as np\n",
    "import seaborn as sns\n",
    "import matplotlib.pyplot as plt\n",
    "\n",
    "# Scanpro functions\n",
    "from scanpro import scanpro\n",
    "\n",
    "# scCODA functions\n",
    "import sccoda\n",
    "from sccoda.util import comp_ana as mod\n",
    "from sccoda.util import cell_composition_data as dat\n",
    "from sccoda.util import data_visualization as viz\n",
    "print(f\"sccoda version: {sccoda.__version__}\")\n",
    "\n",
    "#Setup path to R for propeller\n",
    "R_home = os.path.dirname(sys.executable)[:-4] + \"/lib/R\"\n",
    "os.environ[\"R_HOME\"] = R_home\n",
    "%load_ext rpy2.ipython"
   ]
  },
  {
   "cell_type": "code",
   "execution_count": 2,
   "metadata": {},
   "outputs": [
    {
     "name": "stdout",
     "output_type": "stream",
     "text": [
      "The rpy2.ipython extension is already loaded. To reload it, use:\n",
      "  %reload_ext rpy2.ipython\n"
     ]
    }
   ],
   "source": [
    "#Setup path to R for propeller\n",
    "R_home = os.path.dirname(sys.executable)[:-4] + \"/lib/R\"\n",
    "os.environ[\"R_HOME\"] = R_home\n",
    "%load_ext rpy2.ipython"
   ]
  },
  {
   "cell_type": "code",
   "execution_count": 3,
   "metadata": {},
   "outputs": [],
   "source": [
    "# path where figures are going to be saved\n",
    "FIG_PATH = 'plots'"
   ]
  },
  {
   "cell_type": "code",
   "execution_count": 4,
   "metadata": {
    "code_folding": [],
    "run_control": {
     "marked": false
    }
   },
   "outputs": [],
   "source": [
    "def convert_counts_to_df(counts, prop_cols=None, meta_cols=None, n_cells=1, column_name=\"Cluster\"):\n",
    "    \"\"\" Convert a cell count matrix to a dataframe in long format.\"\"\"\n",
    "\n",
    "    counts = counts.copy()\n",
    "\n",
    "    #If not given, try to get prop_cols and meta_cols automatically\n",
    "    if prop_cols is None:\n",
    "        dtypes = counts.dtypes.astype(str)\n",
    "        prop_cols = [col for i, col in enumerate(counts.columns) if \"float\" in dtypes[i] or \"int\" in dtypes[i]]\n",
    "        \n",
    "    if meta_cols is None:\n",
    "        meta_cols = [col for col in counts.columns if col not in prop_cols]\n",
    "\n",
    "    # Multiply proportions with n_cells\n",
    "    counts[prop_cols] *= n_cells\n",
    "    counts[prop_cols] = counts[prop_cols].astype(int)\n",
    "    \n",
    "    # Melt into long format (similar to adata.obs)\n",
    "    counts_melt = pd.melt(counts, id_vars=meta_cols, value_vars=prop_cols, \n",
    "                          var_name=column_name, value_name=\"count\")\n",
    "\n",
    "    # Duplicate rows based on number of cells\n",
    "    counts_long = counts_melt.loc[counts_melt.index.repeat(counts_melt[\"count\"])].reset_index(drop=True)\n",
    "    counts_long.drop(columns=\"count\", inplace=True)\n",
    "    counts_long.index = [\"cell_\" + str(i) for i in range(1, len(counts_long) + 1)]\n",
    "    \n",
    "    return counts_long"
   ]
  },
  {
   "cell_type": "markdown",
   "metadata": {},
   "source": [
    "------------------"
   ]
  },
  {
   "cell_type": "markdown",
   "metadata": {},
   "source": [
    "## Read data"
   ]
  },
  {
   "cell_type": "code",
   "execution_count": 5,
   "metadata": {},
   "outputs": [],
   "source": [
    "pbmc_counts = pd.read_csv(\"data/pbmc_counts.tsv\", sep=\"\\t\")"
   ]
  },
  {
   "cell_type": "code",
   "execution_count": 6,
   "metadata": {},
   "outputs": [
    {
     "data": {
      "text/html": [
       "<div>\n",
       "<style scoped>\n",
       "    .dataframe tbody tr th:only-of-type {\n",
       "        vertical-align: middle;\n",
       "    }\n",
       "\n",
       "    .dataframe tbody tr th {\n",
       "        vertical-align: top;\n",
       "    }\n",
       "\n",
       "    .dataframe thead th {\n",
       "        text-align: right;\n",
       "    }\n",
       "</style>\n",
       "<table border=\"1\" class=\"dataframe\">\n",
       "  <thead>\n",
       "    <tr style=\"text-align: right;\">\n",
       "      <th></th>\n",
       "      <th>Sample</th>\n",
       "      <th>Condition</th>\n",
       "      <th>Sex</th>\n",
       "      <th>Age</th>\n",
       "      <th>BC</th>\n",
       "      <th>DC</th>\n",
       "      <th>MC</th>\n",
       "      <th>NK</th>\n",
       "      <th>TC</th>\n",
       "    </tr>\n",
       "  </thead>\n",
       "  <tbody>\n",
       "    <tr>\n",
       "      <th>0</th>\n",
       "      <td>OF1</td>\n",
       "      <td>OF</td>\n",
       "      <td>female</td>\n",
       "      <td>old</td>\n",
       "      <td>1449</td>\n",
       "      <td>135</td>\n",
       "      <td>1342</td>\n",
       "      <td>1328</td>\n",
       "      <td>4574</td>\n",
       "    </tr>\n",
       "    <tr>\n",
       "      <th>1</th>\n",
       "      <td>OF2</td>\n",
       "      <td>OF</td>\n",
       "      <td>female</td>\n",
       "      <td>old</td>\n",
       "      <td>677</td>\n",
       "      <td>148</td>\n",
       "      <td>2159</td>\n",
       "      <td>746</td>\n",
       "      <td>5097</td>\n",
       "    </tr>\n",
       "    <tr>\n",
       "      <th>2</th>\n",
       "      <td>OF3</td>\n",
       "      <td>OF</td>\n",
       "      <td>female</td>\n",
       "      <td>old</td>\n",
       "      <td>552</td>\n",
       "      <td>124</td>\n",
       "      <td>1507</td>\n",
       "      <td>1108</td>\n",
       "      <td>5535</td>\n",
       "    </tr>\n",
       "    <tr>\n",
       "      <th>3</th>\n",
       "      <td>OF4</td>\n",
       "      <td>OF</td>\n",
       "      <td>female</td>\n",
       "      <td>old</td>\n",
       "      <td>666</td>\n",
       "      <td>146</td>\n",
       "      <td>1277</td>\n",
       "      <td>589</td>\n",
       "      <td>6151</td>\n",
       "    </tr>\n",
       "    <tr>\n",
       "      <th>4</th>\n",
       "      <td>OF5</td>\n",
       "      <td>OF</td>\n",
       "      <td>female</td>\n",
       "      <td>old</td>\n",
       "      <td>653</td>\n",
       "      <td>137</td>\n",
       "      <td>2027</td>\n",
       "      <td>1632</td>\n",
       "      <td>4379</td>\n",
       "    </tr>\n",
       "  </tbody>\n",
       "</table>\n",
       "</div>"
      ],
      "text/plain": [
       "  Sample Condition     Sex  Age    BC   DC    MC    NK    TC\n",
       "0    OF1        OF  female  old  1449  135  1342  1328  4574\n",
       "1    OF2        OF  female  old   677  148  2159   746  5097\n",
       "2    OF3        OF  female  old   552  124  1507  1108  5535\n",
       "3    OF4        OF  female  old   666  146  1277   589  6151\n",
       "4    OF5        OF  female  old   653  137  2027  1632  4379"
      ]
     },
     "execution_count": 6,
     "metadata": {},
     "output_type": "execute_result"
    }
   ],
   "source": [
    "pbmc_counts.head()"
   ]
  },
  {
   "cell_type": "code",
   "execution_count": 7,
   "metadata": {},
   "outputs": [
    {
     "data": {
      "text/html": [
       "<div>\n",
       "<style scoped>\n",
       "    .dataframe tbody tr th:only-of-type {\n",
       "        vertical-align: middle;\n",
       "    }\n",
       "\n",
       "    .dataframe tbody tr th {\n",
       "        vertical-align: top;\n",
       "    }\n",
       "\n",
       "    .dataframe thead th {\n",
       "        text-align: right;\n",
       "    }\n",
       "</style>\n",
       "<table border=\"1\" class=\"dataframe\">\n",
       "  <thead>\n",
       "    <tr style=\"text-align: right;\">\n",
       "      <th></th>\n",
       "      <th>Sample</th>\n",
       "      <th>Condition</th>\n",
       "      <th>Sex</th>\n",
       "      <th>Age</th>\n",
       "      <th>Celltype</th>\n",
       "    </tr>\n",
       "  </thead>\n",
       "  <tbody>\n",
       "    <tr>\n",
       "      <th>cell_1</th>\n",
       "      <td>OF1</td>\n",
       "      <td>OF</td>\n",
       "      <td>female</td>\n",
       "      <td>old</td>\n",
       "      <td>BC</td>\n",
       "    </tr>\n",
       "    <tr>\n",
       "      <th>cell_2</th>\n",
       "      <td>OF1</td>\n",
       "      <td>OF</td>\n",
       "      <td>female</td>\n",
       "      <td>old</td>\n",
       "      <td>BC</td>\n",
       "    </tr>\n",
       "    <tr>\n",
       "      <th>cell_3</th>\n",
       "      <td>OF1</td>\n",
       "      <td>OF</td>\n",
       "      <td>female</td>\n",
       "      <td>old</td>\n",
       "      <td>BC</td>\n",
       "    </tr>\n",
       "    <tr>\n",
       "      <th>cell_4</th>\n",
       "      <td>OF1</td>\n",
       "      <td>OF</td>\n",
       "      <td>female</td>\n",
       "      <td>old</td>\n",
       "      <td>BC</td>\n",
       "    </tr>\n",
       "    <tr>\n",
       "      <th>cell_5</th>\n",
       "      <td>OF1</td>\n",
       "      <td>OF</td>\n",
       "      <td>female</td>\n",
       "      <td>old</td>\n",
       "      <td>BC</td>\n",
       "    </tr>\n",
       "  </tbody>\n",
       "</table>\n",
       "</div>"
      ],
      "text/plain": [
       "       Sample Condition     Sex  Age Celltype\n",
       "cell_1    OF1        OF  female  old       BC\n",
       "cell_2    OF1        OF  female  old       BC\n",
       "cell_3    OF1        OF  female  old       BC\n",
       "cell_4    OF1        OF  female  old       BC\n",
       "cell_5    OF1        OF  female  old       BC"
      ]
     },
     "execution_count": 7,
     "metadata": {},
     "output_type": "execute_result"
    }
   ],
   "source": [
    "# Convert count matrix to long format\n",
    "pbmc = convert_counts_to_df(pbmc_counts, column_name=\"Celltype\")\n",
    "pbmc.head()"
   ]
  },
  {
   "cell_type": "markdown",
   "metadata": {},
   "source": [
    "-------"
   ]
  },
  {
   "cell_type": "markdown",
   "metadata": {},
   "source": [
    "## Run Scanpro"
   ]
  },
  {
   "cell_type": "markdown",
   "metadata": {},
   "source": [
    "### Young vs Old"
   ]
  },
  {
   "cell_type": "code",
   "execution_count": 8,
   "metadata": {},
   "outputs": [
    {
     "name": "stdout",
     "output_type": "stream",
     "text": [
      "[INFO] There are 2 conditions. T-Test will be performed...\n",
      "[INFO] Done!\n"
     ]
    },
    {
     "data": {
      "text/html": [
       "<div>\n",
       "<style scoped>\n",
       "    .dataframe tbody tr th:only-of-type {\n",
       "        vertical-align: middle;\n",
       "    }\n",
       "\n",
       "    .dataframe tbody tr th {\n",
       "        vertical-align: top;\n",
       "    }\n",
       "\n",
       "    .dataframe thead th {\n",
       "        text-align: right;\n",
       "    }\n",
       "</style>\n",
       "<table border=\"1\" class=\"dataframe\">\n",
       "  <thead>\n",
       "    <tr style=\"text-align: right;\">\n",
       "      <th></th>\n",
       "      <th>baseline_props</th>\n",
       "      <th>mean_props_old</th>\n",
       "      <th>mean_props_young</th>\n",
       "      <th>prop_ratio</th>\n",
       "      <th>t_statistics</th>\n",
       "      <th>p_values</th>\n",
       "      <th>adjusted_p_values</th>\n",
       "    </tr>\n",
       "    <tr>\n",
       "      <th>Celltype</th>\n",
       "      <th></th>\n",
       "      <th></th>\n",
       "      <th></th>\n",
       "      <th></th>\n",
       "      <th></th>\n",
       "      <th></th>\n",
       "      <th></th>\n",
       "    </tr>\n",
       "  </thead>\n",
       "  <tbody>\n",
       "    <tr>\n",
       "      <th>BC</th>\n",
       "      <td>0.098383</td>\n",
       "      <td>0.094222</td>\n",
       "      <td>0.102401</td>\n",
       "      <td>0.920131</td>\n",
       "      <td>-0.820489</td>\n",
       "      <td>0.415800</td>\n",
       "      <td>0.519750</td>\n",
       "    </tr>\n",
       "    <tr>\n",
       "      <th>DC</th>\n",
       "      <td>0.017112</td>\n",
       "      <td>0.016362</td>\n",
       "      <td>0.018018</td>\n",
       "      <td>0.908097</td>\n",
       "      <td>-0.251112</td>\n",
       "      <td>0.802748</td>\n",
       "      <td>0.802748</td>\n",
       "    </tr>\n",
       "    <tr>\n",
       "      <th>MC</th>\n",
       "      <td>0.171416</td>\n",
       "      <td>0.196655</td>\n",
       "      <td>0.143211</td>\n",
       "      <td>1.373180</td>\n",
       "      <td>2.608123</td>\n",
       "      <td>0.011948</td>\n",
       "      <td>0.059738</td>\n",
       "    </tr>\n",
       "    <tr>\n",
       "      <th>NK</th>\n",
       "      <td>0.146479</td>\n",
       "      <td>0.158121</td>\n",
       "      <td>0.133477</td>\n",
       "      <td>1.184627</td>\n",
       "      <td>1.081533</td>\n",
       "      <td>0.284606</td>\n",
       "      <td>0.474344</td>\n",
       "    </tr>\n",
       "    <tr>\n",
       "      <th>TC</th>\n",
       "      <td>0.566610</td>\n",
       "      <td>0.534640</td>\n",
       "      <td>0.602892</td>\n",
       "      <td>0.886791</td>\n",
       "      <td>-1.780506</td>\n",
       "      <td>0.081019</td>\n",
       "      <td>0.202548</td>\n",
       "    </tr>\n",
       "  </tbody>\n",
       "</table>\n",
       "</div>"
      ],
      "text/plain": [
       "          baseline_props  mean_props_old  mean_props_young  prop_ratio  \\\n",
       "Celltype                                                                 \n",
       "BC              0.098383        0.094222          0.102401    0.920131   \n",
       "DC              0.017112        0.016362          0.018018    0.908097   \n",
       "MC              0.171416        0.196655          0.143211    1.373180   \n",
       "NK              0.146479        0.158121          0.133477    1.184627   \n",
       "TC              0.566610        0.534640          0.602892    0.886791   \n",
       "\n",
       "          t_statistics  p_values  adjusted_p_values  \n",
       "Celltype                                             \n",
       "BC           -0.820489  0.415800           0.519750  \n",
       "DC           -0.251112  0.802748           0.802748  \n",
       "MC            2.608123  0.011948           0.059738  \n",
       "NK            1.081533  0.284606           0.474344  \n",
       "TC           -1.780506  0.081019           0.202548  "
      ]
     },
     "execution_count": 8,
     "metadata": {},
     "output_type": "execute_result"
    }
   ],
   "source": [
    "pbmc_young_old = scanpro.scanpro(pbmc, samples_col='Sample', clusters_col='Celltype', conds_col='Age')\n",
    "pbmc_young_old.results"
   ]
  },
  {
   "cell_type": "code",
   "execution_count": 9,
   "metadata": {},
   "outputs": [
    {
     "data": {
      "image/png": "[encoded data removed]",
      "text/plain": [
       "<Figure size 900x800 with 11 Axes>"
      ]
     },
     "metadata": {},
     "output_type": "display_data"
    }
   ],
   "source": [
    "pbmc_young_old.plot(save=\"plots/pbmc_age_stripplot.pdf\")"
   ]
  },
  {
   "cell_type": "markdown",
   "metadata": {},
   "source": [
    "#### With sex as covariate"
   ]
  },
  {
   "cell_type": "code",
   "execution_count": 10,
   "metadata": {},
   "outputs": [
    {
     "name": "stdout",
     "output_type": "stream",
     "text": [
      "[INFO] There are 2 conditions. T-Test will be performed...\n",
      "[INFO] Done!\n"
     ]
    },
    {
     "data": {
      "text/html": [
       "<div>\n",
       "<style scoped>\n",
       "    .dataframe tbody tr th:only-of-type {\n",
       "        vertical-align: middle;\n",
       "    }\n",
       "\n",
       "    .dataframe tbody tr th {\n",
       "        vertical-align: top;\n",
       "    }\n",
       "\n",
       "    .dataframe thead th {\n",
       "        text-align: right;\n",
       "    }\n",
       "</style>\n",
       "<table border=\"1\" class=\"dataframe\">\n",
       "  <thead>\n",
       "    <tr style=\"text-align: right;\">\n",
       "      <th></th>\n",
       "      <th>baseline_props</th>\n",
       "      <th>mean_props_old</th>\n",
       "      <th>mean_props_young</th>\n",
       "      <th>prop_ratio</th>\n",
       "      <th>t_statistics</th>\n",
       "      <th>p_values</th>\n",
       "      <th>adjusted_p_values</th>\n",
       "    </tr>\n",
       "    <tr>\n",
       "      <th>Celltype</th>\n",
       "      <th></th>\n",
       "      <th></th>\n",
       "      <th></th>\n",
       "      <th></th>\n",
       "      <th></th>\n",
       "      <th></th>\n",
       "      <th></th>\n",
       "    </tr>\n",
       "  </thead>\n",
       "  <tbody>\n",
       "    <tr>\n",
       "      <th>BC</th>\n",
       "      <td>0.098383</td>\n",
       "      <td>0.094222</td>\n",
       "      <td>0.102401</td>\n",
       "      <td>0.920131</td>\n",
       "      <td>-0.847305</td>\n",
       "      <td>0.399205</td>\n",
       "      <td>0.499006</td>\n",
       "    </tr>\n",
       "    <tr>\n",
       "      <th>DC</th>\n",
       "      <td>0.017112</td>\n",
       "      <td>0.016362</td>\n",
       "      <td>0.018018</td>\n",
       "      <td>0.908097</td>\n",
       "      <td>-0.240203</td>\n",
       "      <td>0.810751</td>\n",
       "      <td>0.810751</td>\n",
       "    </tr>\n",
       "    <tr>\n",
       "      <th>MC</th>\n",
       "      <td>0.171416</td>\n",
       "      <td>0.196655</td>\n",
       "      <td>0.143211</td>\n",
       "      <td>1.373180</td>\n",
       "      <td>2.446304</td>\n",
       "      <td>0.016494</td>\n",
       "      <td>0.082471</td>\n",
       "    </tr>\n",
       "    <tr>\n",
       "      <th>NK</th>\n",
       "      <td>0.146479</td>\n",
       "      <td>0.158121</td>\n",
       "      <td>0.133477</td>\n",
       "      <td>1.184627</td>\n",
       "      <td>1.220507</td>\n",
       "      <td>0.225648</td>\n",
       "      <td>0.376080</td>\n",
       "    </tr>\n",
       "    <tr>\n",
       "      <th>TC</th>\n",
       "      <td>0.566610</td>\n",
       "      <td>0.534640</td>\n",
       "      <td>0.602892</td>\n",
       "      <td>0.886791</td>\n",
       "      <td>-1.782987</td>\n",
       "      <td>0.078158</td>\n",
       "      <td>0.195396</td>\n",
       "    </tr>\n",
       "  </tbody>\n",
       "</table>\n",
       "</div>"
      ],
      "text/plain": [
       "          baseline_props  mean_props_old  mean_props_young  prop_ratio  \\\n",
       "Celltype                                                                 \n",
       "BC              0.098383        0.094222          0.102401    0.920131   \n",
       "DC              0.017112        0.016362          0.018018    0.908097   \n",
       "MC              0.171416        0.196655          0.143211    1.373180   \n",
       "NK              0.146479        0.158121          0.133477    1.184627   \n",
       "TC              0.566610        0.534640          0.602892    0.886791   \n",
       "\n",
       "          t_statistics  p_values  adjusted_p_values  \n",
       "Celltype                                             \n",
       "BC           -0.847305  0.399205           0.499006  \n",
       "DC           -0.240203  0.810751           0.810751  \n",
       "MC            2.446304  0.016494           0.082471  \n",
       "NK            1.220507  0.225648           0.376080  \n",
       "TC           -1.782987  0.078158           0.195396  "
      ]
     },
     "execution_count": 10,
     "metadata": {},
     "output_type": "execute_result"
    }
   ],
   "source": [
    "pbmc_young_old_sex = scanpro.scanpro(pbmc, samples_col='Sample', clusters_col='Celltype', conds_col='Age', \n",
    "                                     covariates=[\"Sex\"])\n",
    "pbmc_young_old_sex.results"
   ]
  },
  {
   "cell_type": "markdown",
   "metadata": {},
   "source": [
    "### Male vs Female"
   ]
  },
  {
   "cell_type": "code",
   "execution_count": 11,
   "metadata": {},
   "outputs": [
    {
     "name": "stdout",
     "output_type": "stream",
     "text": [
      "[INFO] There are 2 conditions. T-Test will be performed...\n",
      "[INFO] Done!\n"
     ]
    },
    {
     "data": {
      "text/html": [
       "<div>\n",
       "<style scoped>\n",
       "    .dataframe tbody tr th:only-of-type {\n",
       "        vertical-align: middle;\n",
       "    }\n",
       "\n",
       "    .dataframe tbody tr th {\n",
       "        vertical-align: top;\n",
       "    }\n",
       "\n",
       "    .dataframe thead th {\n",
       "        text-align: right;\n",
       "    }\n",
       "</style>\n",
       "<table border=\"1\" class=\"dataframe\">\n",
       "  <thead>\n",
       "    <tr style=\"text-align: right;\">\n",
       "      <th></th>\n",
       "      <th>baseline_props</th>\n",
       "      <th>mean_props_female</th>\n",
       "      <th>mean_props_male</th>\n",
       "      <th>prop_ratio</th>\n",
       "      <th>t_statistics</th>\n",
       "      <th>p_values</th>\n",
       "      <th>adjusted_p_values</th>\n",
       "    </tr>\n",
       "    <tr>\n",
       "      <th>Celltype</th>\n",
       "      <th></th>\n",
       "      <th></th>\n",
       "      <th></th>\n",
       "      <th></th>\n",
       "      <th></th>\n",
       "      <th></th>\n",
       "      <th></th>\n",
       "    </tr>\n",
       "  </thead>\n",
       "  <tbody>\n",
       "    <tr>\n",
       "      <th>BC</th>\n",
       "      <td>0.098383</td>\n",
       "      <td>0.101042</td>\n",
       "      <td>0.095581</td>\n",
       "      <td>1.057138</td>\n",
       "      <td>0.453598</td>\n",
       "      <td>0.651210</td>\n",
       "      <td>0.814013</td>\n",
       "    </tr>\n",
       "    <tr>\n",
       "      <th>DC</th>\n",
       "      <td>0.017112</td>\n",
       "      <td>0.015587</td>\n",
       "      <td>0.018793</td>\n",
       "      <td>0.829422</td>\n",
       "      <td>-1.054917</td>\n",
       "      <td>0.294287</td>\n",
       "      <td>0.490479</td>\n",
       "    </tr>\n",
       "    <tr>\n",
       "      <th>MC</th>\n",
       "      <td>0.171416</td>\n",
       "      <td>0.168821</td>\n",
       "      <td>0.171046</td>\n",
       "      <td>0.986995</td>\n",
       "      <td>-0.063599</td>\n",
       "      <td>0.949430</td>\n",
       "      <td>0.949430</td>\n",
       "    </tr>\n",
       "    <tr>\n",
       "      <th>NK</th>\n",
       "      <td>0.146479</td>\n",
       "      <td>0.116914</td>\n",
       "      <td>0.174684</td>\n",
       "      <td>0.669285</td>\n",
       "      <td>-2.636203</td>\n",
       "      <td>0.009874</td>\n",
       "      <td>0.049371</td>\n",
       "    </tr>\n",
       "    <tr>\n",
       "      <th>TC</th>\n",
       "      <td>0.566610</td>\n",
       "      <td>0.597636</td>\n",
       "      <td>0.539896</td>\n",
       "      <td>1.106946</td>\n",
       "      <td>1.447690</td>\n",
       "      <td>0.151178</td>\n",
       "      <td>0.377946</td>\n",
       "    </tr>\n",
       "  </tbody>\n",
       "</table>\n",
       "</div>"
      ],
      "text/plain": [
       "          baseline_props  mean_props_female  mean_props_male  prop_ratio  \\\n",
       "Celltype                                                                   \n",
       "BC              0.098383           0.101042         0.095581    1.057138   \n",
       "DC              0.017112           0.015587         0.018793    0.829422   \n",
       "MC              0.171416           0.168821         0.171046    0.986995   \n",
       "NK              0.146479           0.116914         0.174684    0.669285   \n",
       "TC              0.566610           0.597636         0.539896    1.106946   \n",
       "\n",
       "          t_statistics  p_values  adjusted_p_values  \n",
       "Celltype                                             \n",
       "BC            0.453598  0.651210           0.814013  \n",
       "DC           -1.054917  0.294287           0.490479  \n",
       "MC           -0.063599  0.949430           0.949430  \n",
       "NK           -2.636203  0.009874           0.049371  \n",
       "TC            1.447690  0.151178           0.377946  "
      ]
     },
     "execution_count": 11,
     "metadata": {},
     "output_type": "execute_result"
    }
   ],
   "source": [
    "pbmc_male_female = scanpro.scanpro(pbmc, samples_col='Sample', clusters_col='Celltype', conds_col='Sex')\n",
    "pbmc_male_female.results"
   ]
  },
  {
   "cell_type": "code",
   "execution_count": 12,
   "metadata": {},
   "outputs": [],
   "source": [
    "pbmc_male_female.results.to_csv(\"results/pbmc_scanpro_rep.tsv\", sep=\"\\t\")"
   ]
  },
  {
   "cell_type": "code",
   "execution_count": 13,
   "metadata": {},
   "outputs": [
    {
     "data": {
      "image/png": "[encoded data removed]",
      "text/plain": [
       "<Figure size 900x800 with 11 Axes>"
      ]
     },
     "metadata": {},
     "output_type": "display_data"
    }
   ],
   "source": [
    "pbmc_male_female.plot(save=f\"{FIG_PATH}/pbmc_sex_stripplot.pdf\")"
   ]
  },
  {
   "cell_type": "markdown",
   "metadata": {},
   "source": [
    "#### With age as covariate"
   ]
  },
  {
   "cell_type": "code",
   "execution_count": 14,
   "metadata": {
    "scrolled": true
   },
   "outputs": [
    {
     "name": "stdout",
     "output_type": "stream",
     "text": [
      "[INFO] There are 2 conditions. T-Test will be performed...\n",
      "[INFO] Done!\n"
     ]
    },
    {
     "data": {
      "text/html": [
       "<div>\n",
       "<style scoped>\n",
       "    .dataframe tbody tr th:only-of-type {\n",
       "        vertical-align: middle;\n",
       "    }\n",
       "\n",
       "    .dataframe tbody tr th {\n",
       "        vertical-align: top;\n",
       "    }\n",
       "\n",
       "    .dataframe thead th {\n",
       "        text-align: right;\n",
       "    }\n",
       "</style>\n",
       "<table border=\"1\" class=\"dataframe\">\n",
       "  <thead>\n",
       "    <tr style=\"text-align: right;\">\n",
       "      <th></th>\n",
       "      <th>baseline_props</th>\n",
       "      <th>mean_props_female</th>\n",
       "      <th>mean_props_male</th>\n",
       "      <th>prop_ratio</th>\n",
       "      <th>t_statistics</th>\n",
       "      <th>p_values</th>\n",
       "      <th>adjusted_p_values</th>\n",
       "    </tr>\n",
       "    <tr>\n",
       "      <th>Celltype</th>\n",
       "      <th></th>\n",
       "      <th></th>\n",
       "      <th></th>\n",
       "      <th></th>\n",
       "      <th></th>\n",
       "      <th></th>\n",
       "      <th></th>\n",
       "    </tr>\n",
       "  </thead>\n",
       "  <tbody>\n",
       "    <tr>\n",
       "      <th>BC</th>\n",
       "      <td>0.098383</td>\n",
       "      <td>0.101042</td>\n",
       "      <td>0.095581</td>\n",
       "      <td>1.057138</td>\n",
       "      <td>0.466193</td>\n",
       "      <td>0.642270</td>\n",
       "      <td>0.802838</td>\n",
       "    </tr>\n",
       "    <tr>\n",
       "      <th>DC</th>\n",
       "      <td>0.017112</td>\n",
       "      <td>0.015587</td>\n",
       "      <td>0.018793</td>\n",
       "      <td>0.829422</td>\n",
       "      <td>-1.094385</td>\n",
       "      <td>0.276878</td>\n",
       "      <td>0.461463</td>\n",
       "    </tr>\n",
       "    <tr>\n",
       "      <th>MC</th>\n",
       "      <td>0.171416</td>\n",
       "      <td>0.168821</td>\n",
       "      <td>0.171046</td>\n",
       "      <td>0.986995</td>\n",
       "      <td>-0.066020</td>\n",
       "      <td>0.947517</td>\n",
       "      <td>0.947517</td>\n",
       "    </tr>\n",
       "    <tr>\n",
       "      <th>NK</th>\n",
       "      <td>0.146479</td>\n",
       "      <td>0.116914</td>\n",
       "      <td>0.174684</td>\n",
       "      <td>0.669285</td>\n",
       "      <td>-2.699387</td>\n",
       "      <td>0.008380</td>\n",
       "      <td>0.041900</td>\n",
       "    </tr>\n",
       "    <tr>\n",
       "      <th>TC</th>\n",
       "      <td>0.566610</td>\n",
       "      <td>0.597636</td>\n",
       "      <td>0.539896</td>\n",
       "      <td>1.106946</td>\n",
       "      <td>1.496382</td>\n",
       "      <td>0.138258</td>\n",
       "      <td>0.345645</td>\n",
       "    </tr>\n",
       "  </tbody>\n",
       "</table>\n",
       "</div>"
      ],
      "text/plain": [
       "          baseline_props  mean_props_female  mean_props_male  prop_ratio  \\\n",
       "Celltype                                                                   \n",
       "BC              0.098383           0.101042         0.095581    1.057138   \n",
       "DC              0.017112           0.015587         0.018793    0.829422   \n",
       "MC              0.171416           0.168821         0.171046    0.986995   \n",
       "NK              0.146479           0.116914         0.174684    0.669285   \n",
       "TC              0.566610           0.597636         0.539896    1.106946   \n",
       "\n",
       "          t_statistics  p_values  adjusted_p_values  \n",
       "Celltype                                             \n",
       "BC            0.466193  0.642270           0.802838  \n",
       "DC           -1.094385  0.276878           0.461463  \n",
       "MC           -0.066020  0.947517           0.947517  \n",
       "NK           -2.699387  0.008380           0.041900  \n",
       "TC            1.496382  0.138258           0.345645  "
      ]
     },
     "execution_count": 14,
     "metadata": {},
     "output_type": "execute_result"
    }
   ],
   "source": [
    "pbmc_male_female_age = scanpro.scanpro(pbmc, samples_col='Sample', clusters_col='Celltype', conds_col='Sex', covariates=\"Age\")\n",
    "pbmc_male_female_age.results"
   ]
  },
  {
   "cell_type": "markdown",
   "metadata": {},
   "source": [
    "## Run Scanpro without replicates"
   ]
  },
  {
   "cell_type": "code",
   "execution_count": 15,
   "metadata": {},
   "outputs": [
    {
     "name": "stdout",
     "output_type": "stream",
     "text": [
      "[INFO] Your data doesn't have replicates! Artificial replicates will be simulated to run scanpro.\n",
      "[WARNING] Consider setting transform='arcsin', as this produces more accurate results for simulated data.\n",
      "[INFO] Simulation may take some minutes...\n",
      "[INFO] Generating 8 replicates and running 100 simulations...\n",
      "[INFO] Finished 100 simulations in 63.57 seconds\n"
     ]
    }
   ],
   "source": [
    "pbmc_male_female_norep = scanpro.scanpro(pbmc, clusters_col='Celltype', conds_col='Sex')"
   ]
  },
  {
   "cell_type": "code",
   "execution_count": 16,
   "metadata": {},
   "outputs": [],
   "source": [
    "pbmc_male_female_norep.results.to_csv(\"results/pbmc_scanpro_norep.tsv\", sep=\"\\t\")"
   ]
  },
  {
   "cell_type": "code",
   "execution_count": 17,
   "metadata": {},
   "outputs": [
    {
     "data": {
      "image/png": "[encoded data removed]",
      "text/plain": [
       "<Figure size 900x800 with 11 Axes>"
      ]
     },
     "metadata": {},
     "output_type": "display_data"
    }
   ],
   "source": [
    "pbmc_male_female_norep.plot(save=\"plots/pbmc_sex_norep_stripplot.pdf\")"
   ]
  },
  {
   "cell_type": "markdown",
   "metadata": {},
   "source": [
    "-----------------------"
   ]
  },
  {
   "cell_type": "markdown",
   "metadata": {},
   "source": [
    "## Run propeller"
   ]
  },
  {
   "cell_type": "code",
   "execution_count": 18,
   "metadata": {},
   "outputs": [
    {
     "name": "stdout",
     "output_type": "stream",
     "text": [
      "\n",
      "    WARNING: The R package \"reticulate\" only fixed recently\n",
      "    an issue that caused a segfault when used with rpy2:\n",
      "    https://github.com/rstudio/reticulate/pull/1188\n",
      "    Make sure that you use a version of that package that includes\n",
      "    the fix.\n",
      "    "
     ]
    },
    {
     "data": {
      "text/plain": [
       "The legacy packages maptools, rgdal, and rgeos, underpinning the sp package,\n",
       "which was just loaded, will retire in October 2023.\n",
       "Please refer to R-spatial evolution reports for details, especially\n",
       "https://r-spatial.org/r/2023/05/15/evolution4.html.\n",
       "It may be desirable to make the sf package available;\n",
       "package maintainers should consider adding sf to Suggests:.\n",
       "The sp package is now running under evolution status 2\n",
       "     (status 2 uses the sf package in place of rgdal)\n",
       "Performing logit transformation of proportions\n",
       "group variable has 2 levels, t-tests will be performed\n"
      ]
     },
     "metadata": {},
     "output_type": "display_data"
    }
   ],
   "source": [
    "%%R -i pbmc -o propeller_results\n",
    "library(speckle)\n",
    "\n",
    "propeller_results = propeller(clusters = pbmc$Celltype, sample = pbmc$Sample, group = pbmc$Sex)"
   ]
  },
  {
   "cell_type": "code",
   "execution_count": 19,
   "metadata": {},
   "outputs": [
    {
     "data": {
      "text/html": [
       "<div>\n",
       "<style scoped>\n",
       "    .dataframe tbody tr th:only-of-type {\n",
       "        vertical-align: middle;\n",
       "    }\n",
       "\n",
       "    .dataframe tbody tr th {\n",
       "        vertical-align: top;\n",
       "    }\n",
       "\n",
       "    .dataframe thead th {\n",
       "        text-align: right;\n",
       "    }\n",
       "</style>\n",
       "<table border=\"1\" class=\"dataframe\">\n",
       "  <thead>\n",
       "    <tr style=\"text-align: right;\">\n",
       "      <th></th>\n",
       "      <th>BaselineProp.clusters</th>\n",
       "      <th>BaselineProp.Freq</th>\n",
       "      <th>PropMean.female</th>\n",
       "      <th>PropMean.male</th>\n",
       "      <th>PropRatio</th>\n",
       "      <th>Tstatistic</th>\n",
       "      <th>P.Value</th>\n",
       "      <th>FDR</th>\n",
       "    </tr>\n",
       "  </thead>\n",
       "  <tbody>\n",
       "    <tr>\n",
       "      <th>NK</th>\n",
       "      <td>NK</td>\n",
       "      <td>0.146479</td>\n",
       "      <td>0.116914</td>\n",
       "      <td>0.174684</td>\n",
       "      <td>0.669285</td>\n",
       "      <td>-2.637317</td>\n",
       "      <td>0.009844</td>\n",
       "      <td>0.049221</td>\n",
       "    </tr>\n",
       "    <tr>\n",
       "      <th>TC</th>\n",
       "      <td>TC</td>\n",
       "      <td>0.566610</td>\n",
       "      <td>0.597636</td>\n",
       "      <td>0.539896</td>\n",
       "      <td>1.106946</td>\n",
       "      <td>1.448420</td>\n",
       "      <td>0.150975</td>\n",
       "      <td>0.377437</td>\n",
       "    </tr>\n",
       "    <tr>\n",
       "      <th>DC</th>\n",
       "      <td>DC</td>\n",
       "      <td>0.017112</td>\n",
       "      <td>0.015587</td>\n",
       "      <td>0.018793</td>\n",
       "      <td>0.829422</td>\n",
       "      <td>-1.052536</td>\n",
       "      <td>0.295371</td>\n",
       "      <td>0.492285</td>\n",
       "    </tr>\n",
       "    <tr>\n",
       "      <th>BC</th>\n",
       "      <td>BC</td>\n",
       "      <td>0.098383</td>\n",
       "      <td>0.101042</td>\n",
       "      <td>0.095581</td>\n",
       "      <td>1.057138</td>\n",
       "      <td>0.453546</td>\n",
       "      <td>0.651248</td>\n",
       "      <td>0.814059</td>\n",
       "    </tr>\n",
       "    <tr>\n",
       "      <th>MC</th>\n",
       "      <td>MC</td>\n",
       "      <td>0.171416</td>\n",
       "      <td>0.168821</td>\n",
       "      <td>0.171046</td>\n",
       "      <td>0.986995</td>\n",
       "      <td>-0.063694</td>\n",
       "      <td>0.949355</td>\n",
       "      <td>0.949355</td>\n",
       "    </tr>\n",
       "  </tbody>\n",
       "</table>\n",
       "</div>"
      ],
      "text/plain": [
       "   BaselineProp.clusters  BaselineProp.Freq  PropMean.female  PropMean.male  \\\n",
       "NK                    NK           0.146479         0.116914       0.174684   \n",
       "TC                    TC           0.566610         0.597636       0.539896   \n",
       "DC                    DC           0.017112         0.015587       0.018793   \n",
       "BC                    BC           0.098383         0.101042       0.095581   \n",
       "MC                    MC           0.171416         0.168821       0.171046   \n",
       "\n",
       "    PropRatio  Tstatistic   P.Value       FDR  \n",
       "NK   0.669285   -2.637317  0.009844  0.049221  \n",
       "TC   1.106946    1.448420  0.150975  0.377437  \n",
       "DC   0.829422   -1.052536  0.295371  0.492285  \n",
       "BC   1.057138    0.453546  0.651248  0.814059  \n",
       "MC   0.986995   -0.063694  0.949355  0.949355  "
      ]
     },
     "execution_count": 19,
     "metadata": {},
     "output_type": "execute_result"
    }
   ],
   "source": [
    "propeller_results"
   ]
  },
  {
   "cell_type": "code",
   "execution_count": 20,
   "metadata": {},
   "outputs": [],
   "source": [
    "propeller_results.to_csv(\"results/pbmc_propeller_rep.tsv\", sep=\"\\t\")"
   ]
  },
  {
   "cell_type": "markdown",
   "metadata": {},
   "source": [
    "-------------"
   ]
  },
  {
   "cell_type": "markdown",
   "metadata": {},
   "source": [
    "## Run scCODA"
   ]
  },
  {
   "cell_type": "markdown",
   "metadata": {},
   "source": [
    "### Data preparation"
   ]
  },
  {
   "cell_type": "code",
   "execution_count": 21,
   "metadata": {},
   "outputs": [],
   "source": [
    "# With replicates\n",
    "sccoda_data = dat.from_pandas(pbmc_counts, covariate_columns=[\"Sample\", \"Condition\", \"Age\", \"Sex\"])\n",
    "\n",
    "# Without replicates\n",
    "counts_merged = pbmc_counts.groupby(\"Sex\").sum(numeric_only=True).reset_index()\n",
    "sccoda_data_norep = dat.from_pandas(counts_merged, covariate_columns=[\"Sex\"])"
   ]
  },
  {
   "cell_type": "markdown",
   "metadata": {},
   "source": [
    "### With replicates"
   ]
  },
  {
   "cell_type": "code",
   "execution_count": 22,
   "metadata": {
    "scrolled": true
   },
   "outputs": [
    {
     "name": "stdout",
     "output_type": "stream",
     "text": [
      "Automatic reference selection! Reference cell type set to DC\n",
      "WARNING:tensorflow:From /home/mbentse/.conda/envs/scanpro_analysis/lib/python3.11/site-packages/tensorflow_probability/python/internal/batched_rejection_sampler.py:102: calling while_loop_v2 (from tensorflow.python.ops.control_flow_ops) with back_prop=False is deprecated and will be removed in a future version.\n",
      "Instructions for updating:\n",
      "back_prop=False is deprecated. Consider using tf.stop_gradient instead.\n",
      "Instead of:\n",
      "results = tf.while_loop(c, b, vars, back_prop=False)\n",
      "Use:\n",
      "results = tf.nest.map_structure(tf.stop_gradient, tf.while_loop(c, b, vars))\n"
     ]
    },
    {
     "name": "stderr",
     "output_type": "stream",
     "text": [
      "2023-07-04 11:25:16.782276: I tensorflow/core/common_runtime/executor.cc:1197] [/device:CPU:0] (DEBUG INFO) Executor start aborting (this does not indicate an error and you can ignore this message): INVALID_ARGUMENT: You must feed a value for placeholder tensor 'shape' with dtype int32 and shape [3]\n",
      "\t [[{{node shape}}]]\n",
      "2023-07-04 11:25:16.783903: I tensorflow/core/common_runtime/executor.cc:1197] [/device:CPU:0] (DEBUG INFO) Executor start aborting (this does not indicate an error and you can ignore this message): INVALID_ARGUMENT: You must feed a value for placeholder tensor 'shape' with dtype int32 and shape [3]\n",
      "\t [[{{node shape}}]]\n",
      "2023-07-04 11:25:16.796252: I tensorflow/core/common_runtime/executor.cc:1197] [/device:CPU:0] (DEBUG INFO) Executor start aborting (this does not indicate an error and you can ignore this message): INVALID_ARGUMENT: You must feed a value for placeholder tensor 'shape' with dtype int32 and shape [3]\n",
      "\t [[{{node shape}}]]\n",
      "2023-07-04 11:25:16.797442: I tensorflow/core/common_runtime/executor.cc:1197] [/device:CPU:0] (DEBUG INFO) Executor start aborting (this does not indicate an error and you can ignore this message): INVALID_ARGUMENT: You must feed a value for placeholder tensor 'shape' with dtype int32 and shape [3]\n",
      "\t [[{{node shape}}]]\n",
      "2023-07-04 11:25:16.835845: I tensorflow/core/common_runtime/executor.cc:1197] [/device:CPU:0] (DEBUG INFO) Executor start aborting (this does not indicate an error and you can ignore this message): INVALID_ARGUMENT: You must feed a value for placeholder tensor 'batched_las_vegas_algorithm/while/normal/stateless_random_normal/StatelessRandomNormalV2/shape' with dtype int32 and shape [3]\n",
      "\t [[{{node batched_las_vegas_algorithm/while/normal/stateless_random_normal/StatelessRandomNormalV2/shape}}]]\n",
      "2023-07-04 11:25:16.837163: I tensorflow/core/common_runtime/executor.cc:1197] [/device:CPU:0] (DEBUG INFO) Executor start aborting (this does not indicate an error and you can ignore this message): INVALID_ARGUMENT: You must feed a value for placeholder tensor 'batched_las_vegas_algorithm/while/normal/stateless_random_normal/StatelessRandomNormalV2/shape' with dtype int32 and shape [3]\n",
      "\t [[{{node batched_las_vegas_algorithm/while/normal/stateless_random_normal/StatelessRandomNormalV2/shape}}]]\n",
      "2023-07-04 11:25:16.850617: I tensorflow/core/common_runtime/executor.cc:1197] [/device:CPU:0] (DEBUG INFO) Executor start aborting (this does not indicate an error and you can ignore this message): INVALID_ARGUMENT: You must feed a value for placeholder tensor 'batched_las_vegas_algorithm/while/normal/stateless_random_normal/StatelessRandomNormalV2/shape' with dtype int32 and shape [3]\n",
      "\t [[{{node batched_las_vegas_algorithm/while/normal/stateless_random_normal/StatelessRandomNormalV2/shape}}]]\n",
      "2023-07-04 11:25:16.851826: I tensorflow/core/common_runtime/executor.cc:1197] [/device:CPU:0] (DEBUG INFO) Executor start aborting (this does not indicate an error and you can ignore this message): INVALID_ARGUMENT: You must feed a value for placeholder tensor 'batched_las_vegas_algorithm/while/normal/stateless_random_normal/StatelessRandomNormalV2/shape' with dtype int32 and shape [3]\n",
      "\t [[{{node batched_las_vegas_algorithm/while/normal/stateless_random_normal/StatelessRandomNormalV2/shape}}]]\n",
      "2023-07-04 11:25:16.887718: I tensorflow/core/common_runtime/executor.cc:1197] [/device:CPU:0] (DEBUG INFO) Executor start aborting (this does not indicate an error and you can ignore this message): INVALID_ARGUMENT: You must feed a value for placeholder tensor 'shape' with dtype int32 and shape [3]\n",
      "\t [[{{node shape}}]]\n",
      "2023-07-04 11:25:16.888831: I tensorflow/core/common_runtime/executor.cc:1197] [/device:CPU:0] (DEBUG INFO) Executor start aborting (this does not indicate an error and you can ignore this message): INVALID_ARGUMENT: You must feed a value for placeholder tensor 'shape' with dtype int32 and shape [3]\n",
      "\t [[{{node shape}}]]\n",
      "2023-07-04 11:25:16.936740: I tensorflow/core/common_runtime/executor.cc:1197] [/device:CPU:0] (DEBUG INFO) Executor start aborting (this does not indicate an error and you can ignore this message): INTERNAL: No function library is provided.\n",
      "\t [[{{node Independentpredictions/sample/predictions/sample/PartitionedCall}}]]\n",
      "2023-07-04 11:25:16.998816: I tensorflow/core/common_runtime/executor.cc:1197] [/device:CPU:0] (DEBUG INFO) Executor start aborting (this does not indicate an error and you can ignore this message): INVALID_ARGUMENT: You must feed a value for placeholder tensor 'shape' with dtype int32 and shape [1]\n",
      "\t [[{{node shape}}]]\n",
      "2023-07-04 11:25:17.020266: I tensorflow/core/common_runtime/executor.cc:1197] [/device:CPU:0] (DEBUG INFO) Executor start aborting (this does not indicate an error and you can ignore this message): INVALID_ARGUMENT: You must feed a value for placeholder tensor 'random_binomial/binomial_noncpu/while/uniform/stateless_random_uniform/StatelessRandomUniformV2/random_binomial/binomial_noncpu/concat' with dtype int32 and shape [4]\n",
      "\t [[{{node random_binomial/binomial_noncpu/while/uniform/stateless_random_uniform/StatelessRandomUniformV2/random_binomial/binomial_noncpu/concat}}]]\n",
      "2023-07-04 11:25:17.021441: I tensorflow/core/common_runtime/executor.cc:1197] [/device:CPU:0] (DEBUG INFO) Executor start aborting (this does not indicate an error and you can ignore this message): INVALID_ARGUMENT: You must feed a value for placeholder tensor 'random_binomial/binomial_noncpu/while/uniform/stateless_random_uniform/StatelessRandomUniformV2/random_binomial/binomial_noncpu/concat' with dtype int32 and shape [4]\n",
      "\t [[{{node random_binomial/binomial_noncpu/while/uniform/stateless_random_uniform/StatelessRandomUniformV2/random_binomial/binomial_noncpu/concat}}]]\n",
      "2023-07-04 11:25:17.071568: I tensorflow/core/common_runtime/executor.cc:1197] [/device:CPU:0] (DEBUG INFO) Executor start aborting (this does not indicate an error and you can ignore this message): INVALID_ARGUMENT: You must feed a value for placeholder tensor 'shape' with dtype int32 and shape [1]\n",
      "\t [[{{node shape}}]]\n",
      "2023-07-04 11:25:17.079411: I tensorflow/core/common_runtime/executor.cc:1197] [/device:CPU:0] (DEBUG INFO) Executor start aborting (this does not indicate an error and you can ignore this message): INVALID_ARGUMENT: You must feed a value for placeholder tensor 'shape' with dtype int32 and shape [1]\n",
      "\t [[{{node shape}}]]\n",
      "2023-07-04 11:25:17.248126: I tensorflow/core/common_runtime/executor.cc:1197] [/device:CPU:0] (DEBUG INFO) Executor start aborting (this does not indicate an error and you can ignore this message): INVALID_ARGUMENT: You must feed a value for placeholder tensor 'random_binomial/binomial_noncpu/batched_las_vegas_algorithm/while/uniform/stateless_random_uniform/StatelessRandomUniformV2/random_binomial/binomial_noncpu/concat' with dtype int32 and shape [4]\n",
      "\t [[{{node random_binomial/binomial_noncpu/batched_las_vegas_algorithm/while/uniform/stateless_random_uniform/StatelessRandomUniformV2/random_binomial/binomial_noncpu/concat}}]]\n",
      "2023-07-04 11:25:17.256318: I tensorflow/core/common_runtime/executor.cc:1197] [/device:CPU:0] (DEBUG INFO) Executor start aborting (this does not indicate an error and you can ignore this message): INVALID_ARGUMENT: You must feed a value for placeholder tensor 'random_binomial/binomial_noncpu/batched_las_vegas_algorithm/while/uniform/stateless_random_uniform/StatelessRandomUniformV2/random_binomial/binomial_noncpu/concat' with dtype int32 and shape [4]\n",
      "\t [[{{node random_binomial/binomial_noncpu/batched_las_vegas_algorithm/while/uniform/stateless_random_uniform/StatelessRandomUniformV2/random_binomial/binomial_noncpu/concat}}]]\n",
      "2023-07-04 11:25:17.265374: I tensorflow/core/common_runtime/executor.cc:1197] [/device:CPU:0] (DEBUG INFO) Executor start aborting (this does not indicate an error and you can ignore this message): INVALID_ARGUMENT: You must feed a value for placeholder tensor 'random_binomial/binomial_noncpu/batched_las_vegas_algorithm/while/uniform/stateless_random_uniform/StatelessRandomUniformV2/random_binomial/binomial_noncpu/concat' with dtype int32 and shape [4]\n",
      "\t [[{{node random_binomial/binomial_noncpu/batched_las_vegas_algorithm/while/uniform/stateless_random_uniform/StatelessRandomUniformV2/random_binomial/binomial_noncpu/concat}}]]\n",
      "2023-07-04 11:25:17.274792: I tensorflow/core/common_runtime/executor.cc:1197] [/device:CPU:0] (DEBUG INFO) Executor start aborting (this does not indicate an error and you can ignore this message): INVALID_ARGUMENT: You must feed a value for placeholder tensor 'random_binomial/binomial_noncpu/batched_las_vegas_algorithm/while/uniform/stateless_random_uniform/StatelessRandomUniformV2/random_binomial/binomial_noncpu/concat' with dtype int32 and shape [4]\n",
      "\t [[{{node random_binomial/binomial_noncpu/batched_las_vegas_algorithm/while/uniform/stateless_random_uniform/StatelessRandomUniformV2/random_binomial/binomial_noncpu/concat}}]]\n"
     ]
    },
    {
     "name": "stderr",
     "output_type": "stream",
     "text": [
      "2023-07-04 11:25:17.484604: I tensorflow/core/common_runtime/executor.cc:1197] [/device:CPU:0] (DEBUG INFO) Executor start aborting (this does not indicate an error and you can ignore this message): INVALID_ARGUMENT: You must feed a value for placeholder tensor 'Independentpredictions/sample/predictions/sample/draw_sample/while/Placeholder_1' with dtype double and shape [1,?,20]\n",
      "\t [[{{node Independentpredictions/sample/predictions/sample/draw_sample/while/Placeholder_1}}]]\n",
      "2023-07-04 11:25:17.874680: I tensorflow/core/common_runtime/executor.cc:1197] [/device:CPU:0] (DEBUG INFO) Executor start aborting (this does not indicate an error and you can ignore this message): INTERNAL: No function library is provided.\n",
      "\t [[{{node Independentpredictions/sample/predictions/sample/PartitionedCall}}]]\n",
      "2023-07-04 11:25:17.916545: I tensorflow/core/common_runtime/executor.cc:1197] [/device:CPU:0] (DEBUG INFO) Executor start aborting (this does not indicate an error and you can ignore this message): INVALID_ARGUMENT: You must feed a value for placeholder tensor 'Independentpredictions/sample/predictions/sample/draw_sample/while/Placeholder_1' with dtype double and shape [1,?,20]\n",
      "\t [[{{node Independentpredictions/sample/predictions/sample/draw_sample/while/Placeholder_1}}]]\n",
      "2023-07-04 11:25:18.191229: I tensorflow/core/common_runtime/executor.cc:1197] [/device:CPU:0] (DEBUG INFO) Executor start aborting (this does not indicate an error and you can ignore this message): INTERNAL: No function library is provided.\n",
      "\t [[{{node Independentpredictions/sample/predictions/sample/PartitionedCall}}]]\n",
      "2023-07-04 11:25:18.946002: I tensorflow/core/common_runtime/executor.cc:1197] [/device:CPU:0] (DEBUG INFO) Executor start aborting (this does not indicate an error and you can ignore this message): INTERNAL: No function library is provided.\n",
      "\t [[{{node Independentpredictions/sample/predictions/sample/PartitionedCall}}]]\n",
      "2023-07-04 11:25:22.566798: I tensorflow/compiler/xla/service/service.cc:169] XLA service 0x7fdf64020520 initialized for platform Host (this does not guarantee that XLA will be used). Devices:\n",
      "2023-07-04 11:25:22.566874: I tensorflow/compiler/xla/service/service.cc:177]   StreamExecutor device (0): Host, Default Version\n",
      "  0%|          | 0/20000 [00:00<?, ?it/s]2023-07-04 11:25:22.751075: I tensorflow/compiler/mlir/tensorflow/utils/dump_mlir_util.cc:269] disabling MLIR crash reproducer, set env var `MLIR_CRASH_REPRODUCER_DIRECTORY` to enable.\n",
      "2023-07-04 11:25:23.987051: I ./tensorflow/compiler/jit/device_compiler.h:180] Compiled cluster using XLA!  This line is logged at most once for the lifetime of the process.\n",
      "100%|██████████| 20000/20000 [02:45<00:00, 120.59it/s]\n"
     ]
    },
    {
     "name": "stdout",
     "output_type": "stream",
     "text": [
      "MCMC sampling finished. (214.230 sec)\n",
      "Acceptance rate: 14.0%\n"
     ]
    }
   ],
   "source": [
    "sccoda_model = mod.CompositionalAnalysis(sccoda_data, formula=\"Sex\", reference_cell_type=\"automatic\")\n",
    "sccoda_results = sccoda_model.sample_hmc()"
   ]
  },
  {
   "cell_type": "code",
   "execution_count": 23,
   "metadata": {},
   "outputs": [
    {
     "name": "stdout",
     "output_type": "stream",
     "text": [
      "Compositional Analysis summary:\n",
      "\n",
      "Data: 20 samples, 5 cell types\n",
      "Reference index: 1\n",
      "Formula: Sex\n",
      "\n",
      "Intercepts:\n",
      "           Final Parameter  Expected Sample\n",
      "Cell Type                                  \n",
      "BC                   0.649      4128.144026\n",
      "DC                   0.288      2877.229689\n",
      "MC                  -0.419      1418.823373\n",
      "NK                  -1.980       297.847972\n",
      "TC                 -12.987         0.004940\n",
      "\n",
      "\n",
      "Effects:\n",
      "                       Final Parameter  Expected Sample  log2-fold change\n",
      "Covariate   Cell Type                                                    \n",
      "Sex[T.male] BC                0.000000    8.336717e-128       -434.158594\n",
      "            DC                0.000000    5.810517e-128       -434.158594\n",
      "            MC                0.000000    2.865290e-128       -434.158594\n",
      "            NK               -1.077670    2.047429e-129       -435.713343\n",
      "            TC              315.319832     8.722050e+03         20.751764\n"
     ]
    }
   ],
   "source": [
    "sccoda_results.summary()"
   ]
  },
  {
   "cell_type": "code",
   "execution_count": 24,
   "metadata": {},
   "outputs": [
    {
     "data": {
      "text/html": [
       "<div>\n",
       "<style scoped>\n",
       "    .dataframe tbody tr th:only-of-type {\n",
       "        vertical-align: middle;\n",
       "    }\n",
       "\n",
       "    .dataframe tbody tr th {\n",
       "        vertical-align: top;\n",
       "    }\n",
       "\n",
       "    .dataframe thead th {\n",
       "        text-align: right;\n",
       "    }\n",
       "</style>\n",
       "<table border=\"1\" class=\"dataframe\">\n",
       "  <thead>\n",
       "    <tr style=\"text-align: right;\">\n",
       "      <th></th>\n",
       "      <th></th>\n",
       "      <th>credible_effect</th>\n",
       "    </tr>\n",
       "    <tr>\n",
       "      <th>Covariate</th>\n",
       "      <th>Cell Type</th>\n",
       "      <th></th>\n",
       "    </tr>\n",
       "  </thead>\n",
       "  <tbody>\n",
       "    <tr>\n",
       "      <th rowspan=\"5\" valign=\"top\">Sex[T.male]</th>\n",
       "      <th>BC</th>\n",
       "      <td>False</td>\n",
       "    </tr>\n",
       "    <tr>\n",
       "      <th>DC</th>\n",
       "      <td>False</td>\n",
       "    </tr>\n",
       "    <tr>\n",
       "      <th>MC</th>\n",
       "      <td>False</td>\n",
       "    </tr>\n",
       "    <tr>\n",
       "      <th>NK</th>\n",
       "      <td>True</td>\n",
       "    </tr>\n",
       "    <tr>\n",
       "      <th>TC</th>\n",
       "      <td>True</td>\n",
       "    </tr>\n",
       "  </tbody>\n",
       "</table>\n",
       "</div>"
      ],
      "text/plain": [
       "                       credible_effect\n",
       "Covariate   Cell Type                 \n",
       "Sex[T.male] BC                   False\n",
       "            DC                   False\n",
       "            MC                   False\n",
       "            NK                    True\n",
       "            TC                    True"
      ]
     },
     "execution_count": 24,
     "metadata": {},
     "output_type": "execute_result"
    }
   ],
   "source": [
    "sccoda_out =sccoda_results.credible_effects().to_frame(name=\"credible_effect\")\n",
    "sccoda_out.to_csv(\"results/pbmc_sccoda_rep.tsv\", sep=\"\\t\")\n",
    "sccoda_out"
   ]
  },
  {
   "cell_type": "markdown",
   "metadata": {},
   "source": [
    "### Without replicates"
   ]
  },
  {
   "cell_type": "code",
   "execution_count": 25,
   "metadata": {
    "scrolled": true
   },
   "outputs": [
    {
     "name": "stdout",
     "output_type": "stream",
     "text": [
      "Automatic reference selection! Reference cell type set to MC\n"
     ]
    },
    {
     "name": "stderr",
     "output_type": "stream",
     "text": [
      "2023-07-04 11:29:23.146637: I tensorflow/core/common_runtime/executor.cc:1197] [/device:CPU:0] (DEBUG INFO) Executor start aborting (this does not indicate an error and you can ignore this message): INVALID_ARGUMENT: You must feed a value for placeholder tensor 'shape' with dtype int32 and shape [3]\n",
      "\t [[{{node shape}}]]\n",
      "2023-07-04 11:29:23.148304: I tensorflow/core/common_runtime/executor.cc:1197] [/device:CPU:0] (DEBUG INFO) Executor start aborting (this does not indicate an error and you can ignore this message): INVALID_ARGUMENT: You must feed a value for placeholder tensor 'shape' with dtype int32 and shape [3]\n",
      "\t [[{{node shape}}]]\n",
      "2023-07-04 11:29:23.159678: I tensorflow/core/common_runtime/executor.cc:1197] [/device:CPU:0] (DEBUG INFO) Executor start aborting (this does not indicate an error and you can ignore this message): INVALID_ARGUMENT: You must feed a value for placeholder tensor 'shape' with dtype int32 and shape [3]\n",
      "\t [[{{node shape}}]]\n",
      "2023-07-04 11:29:23.160591: I tensorflow/core/common_runtime/executor.cc:1197] [/device:CPU:0] (DEBUG INFO) Executor start aborting (this does not indicate an error and you can ignore this message): INVALID_ARGUMENT: You must feed a value for placeholder tensor 'shape' with dtype int32 and shape [3]\n",
      "\t [[{{node shape}}]]\n",
      "2023-07-04 11:29:23.219526: I tensorflow/core/common_runtime/executor.cc:1197] [/device:CPU:0] (DEBUG INFO) Executor start aborting (this does not indicate an error and you can ignore this message): INVALID_ARGUMENT: You must feed a value for placeholder tensor 'batched_las_vegas_algorithm/while/normal/stateless_random_normal/StatelessRandomNormalV2/shape' with dtype int32 and shape [3]\n",
      "\t [[{{node batched_las_vegas_algorithm/while/normal/stateless_random_normal/StatelessRandomNormalV2/shape}}]]\n",
      "2023-07-04 11:29:23.227192: I tensorflow/core/common_runtime/executor.cc:1197] [/device:CPU:0] (DEBUG INFO) Executor start aborting (this does not indicate an error and you can ignore this message): INVALID_ARGUMENT: You must feed a value for placeholder tensor 'batched_las_vegas_algorithm/while/normal/stateless_random_normal/StatelessRandomNormalV2/shape' with dtype int32 and shape [3]\n",
      "\t [[{{node batched_las_vegas_algorithm/while/normal/stateless_random_normal/StatelessRandomNormalV2/shape}}]]\n",
      "2023-07-04 11:29:23.251580: I tensorflow/core/common_runtime/executor.cc:1197] [/device:CPU:0] (DEBUG INFO) Executor start aborting (this does not indicate an error and you can ignore this message): INVALID_ARGUMENT: You must feed a value for placeholder tensor 'batched_las_vegas_algorithm/while/normal/stateless_random_normal/StatelessRandomNormalV2/shape' with dtype int32 and shape [3]\n",
      "\t [[{{node batched_las_vegas_algorithm/while/normal/stateless_random_normal/StatelessRandomNormalV2/shape}}]]\n",
      "2023-07-04 11:29:23.255546: I tensorflow/core/common_runtime/executor.cc:1197] [/device:CPU:0] (DEBUG INFO) Executor start aborting (this does not indicate an error and you can ignore this message): INVALID_ARGUMENT: You must feed a value for placeholder tensor 'batched_las_vegas_algorithm/while/normal/stateless_random_normal/StatelessRandomNormalV2/shape' with dtype int32 and shape [3]\n",
      "\t [[{{node batched_las_vegas_algorithm/while/normal/stateless_random_normal/StatelessRandomNormalV2/shape}}]]\n",
      "2023-07-04 11:29:23.323049: I tensorflow/core/common_runtime/executor.cc:1197] [/device:CPU:0] (DEBUG INFO) Executor start aborting (this does not indicate an error and you can ignore this message): INVALID_ARGUMENT: You must feed a value for placeholder tensor 'shape' with dtype int32 and shape [3]\n",
      "\t [[{{node shape}}]]\n",
      "2023-07-04 11:29:23.330834: I tensorflow/core/common_runtime/executor.cc:1197] [/device:CPU:0] (DEBUG INFO) Executor start aborting (this does not indicate an error and you can ignore this message): INVALID_ARGUMENT: You must feed a value for placeholder tensor 'shape' with dtype int32 and shape [3]\n",
      "\t [[{{node shape}}]]\n",
      "2023-07-04 11:29:23.379892: I tensorflow/core/common_runtime/executor.cc:1197] [/device:CPU:0] (DEBUG INFO) Executor start aborting (this does not indicate an error and you can ignore this message): INTERNAL: No function library is provided.\n",
      "\t [[{{node Independentpredictions/sample/predictions/sample/PartitionedCall}}]]\n",
      "2023-07-04 11:29:23.434331: I tensorflow/core/common_runtime/executor.cc:1197] [/device:CPU:0] (DEBUG INFO) Executor start aborting (this does not indicate an error and you can ignore this message): INVALID_ARGUMENT: You must feed a value for placeholder tensor 'shape' with dtype int32 and shape [1]\n",
      "\t [[{{node shape}}]]\n",
      "2023-07-04 11:29:23.455338: I tensorflow/core/common_runtime/executor.cc:1197] [/device:CPU:0] (DEBUG INFO) Executor start aborting (this does not indicate an error and you can ignore this message): INVALID_ARGUMENT: You must feed a value for placeholder tensor 'random_binomial/binomial_noncpu/while/uniform/stateless_random_uniform/StatelessRandomUniformV2/random_binomial/binomial_noncpu/concat' with dtype int32 and shape [4]\n",
      "\t [[{{node random_binomial/binomial_noncpu/while/uniform/stateless_random_uniform/StatelessRandomUniformV2/random_binomial/binomial_noncpu/concat}}]]\n",
      "2023-07-04 11:29:23.464410: I tensorflow/core/common_runtime/executor.cc:1197] [/device:CPU:0] (DEBUG INFO) Executor start aborting (this does not indicate an error and you can ignore this message): INVALID_ARGUMENT: You must feed a value for placeholder tensor 'random_binomial/binomial_noncpu/while/uniform/stateless_random_uniform/StatelessRandomUniformV2/random_binomial/binomial_noncpu/concat' with dtype int32 and shape [4]\n",
      "\t [[{{node random_binomial/binomial_noncpu/while/uniform/stateless_random_uniform/StatelessRandomUniformV2/random_binomial/binomial_noncpu/concat}}]]\n",
      "2023-07-04 11:29:23.562127: I tensorflow/core/common_runtime/executor.cc:1197] [/device:CPU:0] (DEBUG INFO) Executor start aborting (this does not indicate an error and you can ignore this message): INVALID_ARGUMENT: You must feed a value for placeholder tensor 'shape' with dtype int32 and shape [1]\n",
      "\t [[{{node shape}}]]\n",
      "2023-07-04 11:29:23.578531: I tensorflow/core/common_runtime/executor.cc:1197] [/device:CPU:0] (DEBUG INFO) Executor start aborting (this does not indicate an error and you can ignore this message): INVALID_ARGUMENT: You must feed a value for placeholder tensor 'shape' with dtype int32 and shape [1]\n",
      "\t [[{{node shape}}]]\n",
      "2023-07-04 11:29:23.795605: I tensorflow/core/common_runtime/executor.cc:1197] [/device:CPU:0] (DEBUG INFO) Executor start aborting (this does not indicate an error and you can ignore this message): INVALID_ARGUMENT: You must feed a value for placeholder tensor 'random_binomial/binomial_noncpu/batched_las_vegas_algorithm/while/uniform/stateless_random_uniform/StatelessRandomUniformV2/random_binomial/binomial_noncpu/concat' with dtype int32 and shape [4]\n",
      "\t [[{{node random_binomial/binomial_noncpu/batched_las_vegas_algorithm/while/uniform/stateless_random_uniform/StatelessRandomUniformV2/random_binomial/binomial_noncpu/concat}}]]\n",
      "2023-07-04 11:29:23.799533: I tensorflow/core/common_runtime/executor.cc:1197] [/device:CPU:0] (DEBUG INFO) Executor start aborting (this does not indicate an error and you can ignore this message): INVALID_ARGUMENT: You must feed a value for placeholder tensor 'random_binomial/binomial_noncpu/batched_las_vegas_algorithm/while/uniform/stateless_random_uniform/StatelessRandomUniformV2/random_binomial/binomial_noncpu/concat' with dtype int32 and shape [4]\n",
      "\t [[{{node random_binomial/binomial_noncpu/batched_las_vegas_algorithm/while/uniform/stateless_random_uniform/StatelessRandomUniformV2/random_binomial/binomial_noncpu/concat}}]]\n",
      "2023-07-04 11:29:23.807416: I tensorflow/core/common_runtime/executor.cc:1197] [/device:CPU:0] (DEBUG INFO) Executor start aborting (this does not indicate an error and you can ignore this message): INVALID_ARGUMENT: You must feed a value for placeholder tensor 'random_binomial/binomial_noncpu/batched_las_vegas_algorithm/while/uniform/stateless_random_uniform/StatelessRandomUniformV2/random_binomial/binomial_noncpu/concat' with dtype int32 and shape [4]\n",
      "\t [[{{node random_binomial/binomial_noncpu/batched_las_vegas_algorithm/while/uniform/stateless_random_uniform/StatelessRandomUniformV2/random_binomial/binomial_noncpu/concat}}]]\n",
      "2023-07-04 11:29:23.808325: I tensorflow/core/common_runtime/executor.cc:1197] [/device:CPU:0] (DEBUG INFO) Executor start aborting (this does not indicate an error and you can ignore this message): INVALID_ARGUMENT: You must feed a value for placeholder tensor 'random_binomial/binomial_noncpu/batched_las_vegas_algorithm/while/uniform/stateless_random_uniform/StatelessRandomUniformV2/random_binomial/binomial_noncpu/concat' with dtype int32 and shape [4]\n",
      "\t [[{{node random_binomial/binomial_noncpu/batched_las_vegas_algorithm/while/uniform/stateless_random_uniform/StatelessRandomUniformV2/random_binomial/binomial_noncpu/concat}}]]\n"
     ]
    },
    {
     "name": "stderr",
     "output_type": "stream",
     "text": [
      "2023-07-04 11:29:24.116257: I tensorflow/core/common_runtime/executor.cc:1197] [/device:CPU:0] (DEBUG INFO) Executor start aborting (this does not indicate an error and you can ignore this message): INVALID_ARGUMENT: You must feed a value for placeholder tensor 'Independentpredictions/sample/predictions/sample/draw_sample/while/Placeholder_1' with dtype double and shape [1,?,2]\n",
      "\t [[{{node Independentpredictions/sample/predictions/sample/draw_sample/while/Placeholder_1}}]]\n",
      "2023-07-04 11:29:24.442067: I tensorflow/core/common_runtime/executor.cc:1197] [/device:CPU:0] (DEBUG INFO) Executor start aborting (this does not indicate an error and you can ignore this message): INTERNAL: No function library is provided.\n",
      "\t [[{{node Independentpredictions/sample/predictions/sample/PartitionedCall}}]]\n",
      "2023-07-04 11:29:24.479589: I tensorflow/core/common_runtime/executor.cc:1197] [/device:CPU:0] (DEBUG INFO) Executor start aborting (this does not indicate an error and you can ignore this message): INVALID_ARGUMENT: You must feed a value for placeholder tensor 'Independentpredictions/sample/predictions/sample/draw_sample/while/Placeholder_1' with dtype double and shape [1,?,2]\n",
      "\t [[{{node Independentpredictions/sample/predictions/sample/draw_sample/while/Placeholder_1}}]]\n",
      "2023-07-04 11:29:24.840099: I tensorflow/core/common_runtime/executor.cc:1197] [/device:CPU:0] (DEBUG INFO) Executor start aborting (this does not indicate an error and you can ignore this message): INTERNAL: No function library is provided.\n",
      "\t [[{{node Independentpredictions/sample/predictions/sample/PartitionedCall}}]]\n",
      "2023-07-04 11:29:25.491481: I tensorflow/core/common_runtime/executor.cc:1197] [/device:CPU:0] (DEBUG INFO) Executor start aborting (this does not indicate an error and you can ignore this message): INTERNAL: No function library is provided.\n",
      "\t [[{{node Independentpredictions/sample/predictions/sample/PartitionedCall}}]]\n",
      "100%|██████████| 20000/20000 [01:47<00:00, 186.25it/s]\n"
     ]
    },
    {
     "name": "stdout",
     "output_type": "stream",
     "text": [
      "MCMC sampling finished. (136.868 sec)\n",
      "Acceptance rate: 22.9%\n",
      "Automatic reference selection! Reference cell type set to MC\n"
     ]
    },
    {
     "name": "stderr",
     "output_type": "stream",
     "text": [
      "2023-07-04 11:32:00.631316: I tensorflow/core/common_runtime/executor.cc:1197] [/device:CPU:0] (DEBUG INFO) Executor start aborting (this does not indicate an error and you can ignore this message): INTERNAL: No function library is provided.\n",
      "\t [[{{node Independentpredictions/sample/predictions/sample/PartitionedCall}}]]\n",
      "2023-07-04 11:32:00.664869: I tensorflow/core/common_runtime/executor.cc:1197] [/device:CPU:0] (DEBUG INFO) Executor start aborting (this does not indicate an error and you can ignore this message): INVALID_ARGUMENT: You must feed a value for placeholder tensor 'Independentpredictions/sample/predictions/sample/draw_sample/while/Placeholder_1' with dtype double and shape [1,?,2]\n",
      "\t [[{{node Independentpredictions/sample/predictions/sample/draw_sample/while/Placeholder_1}}]]\n",
      "2023-07-04 11:32:00.942849: I tensorflow/core/common_runtime/executor.cc:1197] [/device:CPU:0] (DEBUG INFO) Executor start aborting (this does not indicate an error and you can ignore this message): INTERNAL: No function library is provided.\n",
      "\t [[{{node Independentpredictions/sample/predictions/sample/PartitionedCall}}]]\n",
      "2023-07-04 11:32:00.980128: I tensorflow/core/common_runtime/executor.cc:1197] [/device:CPU:0] (DEBUG INFO) Executor start aborting (this does not indicate an error and you can ignore this message): INVALID_ARGUMENT: You must feed a value for placeholder tensor 'Independentpredictions/sample/predictions/sample/draw_sample/while/Placeholder_1' with dtype double and shape [1,?,2]\n",
      "\t [[{{node Independentpredictions/sample/predictions/sample/draw_sample/while/Placeholder_1}}]]\n",
      "2023-07-04 11:32:01.227617: I tensorflow/core/common_runtime/executor.cc:1197] [/device:CPU:0] (DEBUG INFO) Executor start aborting (this does not indicate an error and you can ignore this message): INTERNAL: No function library is provided.\n",
      "\t [[{{node Independentpredictions/sample/predictions/sample/PartitionedCall}}]]\n",
      "2023-07-04 11:32:01.769351: I tensorflow/core/common_runtime/executor.cc:1197] [/device:CPU:0] (DEBUG INFO) Executor start aborting (this does not indicate an error and you can ignore this message): INTERNAL: No function library is provided.\n",
      "\t [[{{node Independentpredictions/sample/predictions/sample/PartitionedCall}}]]\n",
      "100%|██████████| 20000/20000 [01:48<00:00, 185.02it/s]\n"
     ]
    },
    {
     "name": "stdout",
     "output_type": "stream",
     "text": [
      "MCMC sampling finished. (136.337 sec)\n",
      "Acceptance rate: 18.7%\n",
      "Automatic reference selection! Reference cell type set to MC\n"
     ]
    },
    {
     "name": "stderr",
     "output_type": "stream",
     "text": [
      "2023-07-04 11:34:36.685910: I tensorflow/core/common_runtime/executor.cc:1197] [/device:CPU:0] (DEBUG INFO) Executor start aborting (this does not indicate an error and you can ignore this message): INTERNAL: No function library is provided.\n",
      "\t [[{{node Independentpredictions/sample/predictions/sample/PartitionedCall}}]]\n",
      "2023-07-04 11:34:36.716333: I tensorflow/core/common_runtime/executor.cc:1197] [/device:CPU:0] (DEBUG INFO) Executor start aborting (this does not indicate an error and you can ignore this message): INVALID_ARGUMENT: You must feed a value for placeholder tensor 'Independentpredictions/sample/predictions/sample/draw_sample/while/Placeholder_1' with dtype double and shape [1,?,2]\n",
      "\t [[{{node Independentpredictions/sample/predictions/sample/draw_sample/while/Placeholder_1}}]]\n",
      "2023-07-04 11:34:36.970265: I tensorflow/core/common_runtime/executor.cc:1197] [/device:CPU:0] (DEBUG INFO) Executor start aborting (this does not indicate an error and you can ignore this message): INTERNAL: No function library is provided.\n",
      "\t [[{{node Independentpredictions/sample/predictions/sample/PartitionedCall}}]]\n",
      "2023-07-04 11:34:37.004987: I tensorflow/core/common_runtime/executor.cc:1197] [/device:CPU:0] (DEBUG INFO) Executor start aborting (this does not indicate an error and you can ignore this message): INVALID_ARGUMENT: You must feed a value for placeholder tensor 'Independentpredictions/sample/predictions/sample/draw_sample/while/Placeholder_1' with dtype double and shape [1,?,2]\n",
      "\t [[{{node Independentpredictions/sample/predictions/sample/draw_sample/while/Placeholder_1}}]]\n",
      "2023-07-04 11:34:37.253221: I tensorflow/core/common_runtime/executor.cc:1197] [/device:CPU:0] (DEBUG INFO) Executor start aborting (this does not indicate an error and you can ignore this message): INTERNAL: No function library is provided.\n",
      "\t [[{{node Independentpredictions/sample/predictions/sample/PartitionedCall}}]]\n",
      "2023-07-04 11:34:37.807526: I tensorflow/core/common_runtime/executor.cc:1197] [/device:CPU:0] (DEBUG INFO) Executor start aborting (this does not indicate an error and you can ignore this message): INTERNAL: No function library is provided.\n",
      "\t [[{{node Independentpredictions/sample/predictions/sample/PartitionedCall}}]]\n",
      "100%|██████████| 20000/20000 [01:46<00:00, 188.47it/s]\n"
     ]
    },
    {
     "name": "stdout",
     "output_type": "stream",
     "text": [
      "MCMC sampling finished. (134.152 sec)\n",
      "Acceptance rate: 17.6%\n",
      "Automatic reference selection! Reference cell type set to MC\n"
     ]
    },
    {
     "name": "stderr",
     "output_type": "stream",
     "text": [
      "2023-07-04 11:37:12.228044: I tensorflow/core/common_runtime/executor.cc:1197] [/device:CPU:0] (DEBUG INFO) Executor start aborting (this does not indicate an error and you can ignore this message): INTERNAL: No function library is provided.\n",
      "\t [[{{node Independentpredictions/sample/predictions/sample/PartitionedCall}}]]\n",
      "2023-07-04 11:37:12.264408: I tensorflow/core/common_runtime/executor.cc:1197] [/device:CPU:0] (DEBUG INFO) Executor start aborting (this does not indicate an error and you can ignore this message): INVALID_ARGUMENT: You must feed a value for placeholder tensor 'Independentpredictions/sample/predictions/sample/draw_sample/while/Placeholder_1' with dtype double and shape [1,?,2]\n",
      "\t [[{{node Independentpredictions/sample/predictions/sample/draw_sample/while/Placeholder_1}}]]\n",
      "2023-07-04 11:37:12.540658: I tensorflow/core/common_runtime/executor.cc:1197] [/device:CPU:0] (DEBUG INFO) Executor start aborting (this does not indicate an error and you can ignore this message): INTERNAL: No function library is provided.\n",
      "\t [[{{node Independentpredictions/sample/predictions/sample/PartitionedCall}}]]\n",
      "2023-07-04 11:37:12.577556: I tensorflow/core/common_runtime/executor.cc:1197] [/device:CPU:0] (DEBUG INFO) Executor start aborting (this does not indicate an error and you can ignore this message): INVALID_ARGUMENT: You must feed a value for placeholder tensor 'Independentpredictions/sample/predictions/sample/draw_sample/while/Placeholder_1' with dtype double and shape [1,?,2]\n",
      "\t [[{{node Independentpredictions/sample/predictions/sample/draw_sample/while/Placeholder_1}}]]\n",
      "2023-07-04 11:37:12.827935: I tensorflow/core/common_runtime/executor.cc:1197] [/device:CPU:0] (DEBUG INFO) Executor start aborting (this does not indicate an error and you can ignore this message): INTERNAL: No function library is provided.\n",
      "\t [[{{node Independentpredictions/sample/predictions/sample/PartitionedCall}}]]\n",
      "2023-07-04 11:37:13.354626: I tensorflow/core/common_runtime/executor.cc:1197] [/device:CPU:0] (DEBUG INFO) Executor start aborting (this does not indicate an error and you can ignore this message): INTERNAL: No function library is provided.\n",
      "\t [[{{node Independentpredictions/sample/predictions/sample/PartitionedCall}}]]\n",
      "100%|██████████| 20000/20000 [01:42<00:00, 195.83it/s]\n"
     ]
    },
    {
     "name": "stdout",
     "output_type": "stream",
     "text": [
      "WARNING:tensorflow:5 out of the last 5 calls to <function CompositionalModel.sampling.<locals>.sample_mcmc at 0x7fe1b0137ec0> triggered tf.function retracing. Tracing is expensive and the excessive number of tracings could be due to (1) creating @tf.function repeatedly in a loop, (2) passing tensors with different shapes, (3) passing Python objects instead of tensors. For (1), please define your @tf.function outside of the loop. For (2), @tf.function has reduce_retracing=True option that can avoid unnecessary retracing. For (3), please refer to https://www.tensorflow.org/guide/function#controlling_retracing and https://www.tensorflow.org/api_docs/python/tf/function for  more details.\n",
      "MCMC sampling finished. (129.308 sec)\n",
      "Acceptance rate: 1.2%\n",
      "Automatic reference selection! Reference cell type set to MC\n"
     ]
    },
    {
     "name": "stderr",
     "output_type": "stream",
     "text": [
      "2023-07-04 11:39:41.994426: I tensorflow/core/common_runtime/executor.cc:1197] [/device:CPU:0] (DEBUG INFO) Executor start aborting (this does not indicate an error and you can ignore this message): INTERNAL: No function library is provided.\n",
      "\t [[{{node Independentpredictions/sample/predictions/sample/PartitionedCall}}]]\n",
      "2023-07-04 11:39:42.028688: I tensorflow/core/common_runtime/executor.cc:1197] [/device:CPU:0] (DEBUG INFO) Executor start aborting (this does not indicate an error and you can ignore this message): INVALID_ARGUMENT: You must feed a value for placeholder tensor 'Independentpredictions/sample/predictions/sample/draw_sample/while/Placeholder_1' with dtype double and shape [1,?,2]\n",
      "\t [[{{node Independentpredictions/sample/predictions/sample/draw_sample/while/Placeholder_1}}]]\n",
      "2023-07-04 11:39:42.291897: I tensorflow/core/common_runtime/executor.cc:1197] [/device:CPU:0] (DEBUG INFO) Executor start aborting (this does not indicate an error and you can ignore this message): INTERNAL: No function library is provided.\n",
      "\t [[{{node Independentpredictions/sample/predictions/sample/PartitionedCall}}]]\n",
      "2023-07-04 11:39:42.329201: I tensorflow/core/common_runtime/executor.cc:1197] [/device:CPU:0] (DEBUG INFO) Executor start aborting (this does not indicate an error and you can ignore this message): INVALID_ARGUMENT: You must feed a value for placeholder tensor 'Independentpredictions/sample/predictions/sample/draw_sample/while/Placeholder_1' with dtype double and shape [1,?,2]\n",
      "\t [[{{node Independentpredictions/sample/predictions/sample/draw_sample/while/Placeholder_1}}]]\n",
      "2023-07-04 11:39:42.576524: I tensorflow/core/common_runtime/executor.cc:1197] [/device:CPU:0] (DEBUG INFO) Executor start aborting (this does not indicate an error and you can ignore this message): INTERNAL: No function library is provided.\n",
      "\t [[{{node Independentpredictions/sample/predictions/sample/PartitionedCall}}]]\n",
      "2023-07-04 11:39:43.128303: I tensorflow/core/common_runtime/executor.cc:1197] [/device:CPU:0] (DEBUG INFO) Executor start aborting (this does not indicate an error and you can ignore this message): INTERNAL: No function library is provided.\n",
      "\t [[{{node Independentpredictions/sample/predictions/sample/PartitionedCall}}]]\n",
      "100%|██████████| 20000/20000 [01:42<00:00, 195.01it/s]\n"
     ]
    },
    {
     "name": "stdout",
     "output_type": "stream",
     "text": [
      "WARNING:tensorflow:6 out of the last 6 calls to <function CompositionalModel.sampling.<locals>.sample_mcmc at 0x7fdee4293f60> triggered tf.function retracing. Tracing is expensive and the excessive number of tracings could be due to (1) creating @tf.function repeatedly in a loop, (2) passing tensors with different shapes, (3) passing Python objects instead of tensors. For (1), please define your @tf.function outside of the loop. For (2), @tf.function has reduce_retracing=True option that can avoid unnecessary retracing. For (3), please refer to https://www.tensorflow.org/guide/function#controlling_retracing and https://www.tensorflow.org/api_docs/python/tf/function for  more details.\n",
      "MCMC sampling finished. (129.958 sec)\n",
      "Acceptance rate: 3.0%\n"
     ]
    },
    {
     "name": "stderr",
     "output_type": "stream",
     "text": [
      "/home/mbentse/.conda/envs/scanpro_analysis/lib/python3.11/site-packages/numpy/lib/nanfunctions.py:1878: RuntimeWarning: Degrees of freedom <= 0 for slice.\n",
      "  var = nanvar(a, axis=axis, dtype=dtype, out=out, ddof=ddof,\n"
     ]
    },
    {
     "name": "stdout",
     "output_type": "stream",
     "text": [
      "Automatic reference selection! Reference cell type set to MC\n"
     ]
    },
    {
     "name": "stderr",
     "output_type": "stream",
     "text": [
      "2023-07-04 11:42:13.163454: I tensorflow/core/common_runtime/executor.cc:1197] [/device:CPU:0] (DEBUG INFO) Executor start aborting (this does not indicate an error and you can ignore this message): INTERNAL: No function library is provided.\n",
      "\t [[{{node Independentpredictions/sample/predictions/sample/PartitionedCall}}]]\n",
      "2023-07-04 11:42:13.199435: I tensorflow/core/common_runtime/executor.cc:1197] [/device:CPU:0] (DEBUG INFO) Executor start aborting (this does not indicate an error and you can ignore this message): INVALID_ARGUMENT: You must feed a value for placeholder tensor 'Independentpredictions/sample/predictions/sample/draw_sample/while/Placeholder_1' with dtype double and shape [1,?,2]\n",
      "\t [[{{node Independentpredictions/sample/predictions/sample/draw_sample/while/Placeholder_1}}]]\n",
      "2023-07-04 11:42:13.477218: I tensorflow/core/common_runtime/executor.cc:1197] [/device:CPU:0] (DEBUG INFO) Executor start aborting (this does not indicate an error and you can ignore this message): INTERNAL: No function library is provided.\n",
      "\t [[{{node Independentpredictions/sample/predictions/sample/PartitionedCall}}]]\n",
      "2023-07-04 11:42:13.515317: I tensorflow/core/common_runtime/executor.cc:1197] [/device:CPU:0] (DEBUG INFO) Executor start aborting (this does not indicate an error and you can ignore this message): INVALID_ARGUMENT: You must feed a value for placeholder tensor 'Independentpredictions/sample/predictions/sample/draw_sample/while/Placeholder_1' with dtype double and shape [1,?,2]\n",
      "\t [[{{node Independentpredictions/sample/predictions/sample/draw_sample/while/Placeholder_1}}]]\n",
      "2023-07-04 11:42:13.756279: I tensorflow/core/common_runtime/executor.cc:1197] [/device:CPU:0] (DEBUG INFO) Executor start aborting (this does not indicate an error and you can ignore this message): INTERNAL: No function library is provided.\n",
      "\t [[{{node Independentpredictions/sample/predictions/sample/PartitionedCall}}]]\n",
      "2023-07-04 11:42:14.290172: I tensorflow/core/common_runtime/executor.cc:1197] [/device:CPU:0] (DEBUG INFO) Executor start aborting (this does not indicate an error and you can ignore this message): INTERNAL: No function library is provided.\n",
      "\t [[{{node Independentpredictions/sample/predictions/sample/PartitionedCall}}]]\n",
      "100%|██████████| 20000/20000 [01:45<00:00, 190.33it/s]\n"
     ]
    },
    {
     "name": "stdout",
     "output_type": "stream",
     "text": [
      "MCMC sampling finished. (133.973 sec)\n",
      "Acceptance rate: 63.2%\n",
      "Automatic reference selection! Reference cell type set to MC\n"
     ]
    },
    {
     "name": "stderr",
     "output_type": "stream",
     "text": [
      "2023-07-04 11:44:48.581976: I tensorflow/core/common_runtime/executor.cc:1197] [/device:CPU:0] (DEBUG INFO) Executor start aborting (this does not indicate an error and you can ignore this message): INTERNAL: No function library is provided.\n",
      "\t [[{{node Independentpredictions/sample/predictions/sample/PartitionedCall}}]]\n",
      "2023-07-04 11:44:48.617722: I tensorflow/core/common_runtime/executor.cc:1197] [/device:CPU:0] (DEBUG INFO) Executor start aborting (this does not indicate an error and you can ignore this message): INVALID_ARGUMENT: You must feed a value for placeholder tensor 'Independentpredictions/sample/predictions/sample/draw_sample/while/Placeholder_1' with dtype double and shape [1,?,2]\n",
      "\t [[{{node Independentpredictions/sample/predictions/sample/draw_sample/while/Placeholder_1}}]]\n",
      "2023-07-04 11:44:48.897141: I tensorflow/core/common_runtime/executor.cc:1197] [/device:CPU:0] (DEBUG INFO) Executor start aborting (this does not indicate an error and you can ignore this message): INTERNAL: No function library is provided.\n",
      "\t [[{{node Independentpredictions/sample/predictions/sample/PartitionedCall}}]]\n",
      "2023-07-04 11:44:48.935710: I tensorflow/core/common_runtime/executor.cc:1197] [/device:CPU:0] (DEBUG INFO) Executor start aborting (this does not indicate an error and you can ignore this message): INVALID_ARGUMENT: You must feed a value for placeholder tensor 'Independentpredictions/sample/predictions/sample/draw_sample/while/Placeholder_1' with dtype double and shape [1,?,2]\n",
      "\t [[{{node Independentpredictions/sample/predictions/sample/draw_sample/while/Placeholder_1}}]]\n",
      "2023-07-04 11:44:49.161736: I tensorflow/core/common_runtime/executor.cc:1197] [/device:CPU:0] (DEBUG INFO) Executor start aborting (this does not indicate an error and you can ignore this message): INTERNAL: No function library is provided.\n",
      "\t [[{{node Independentpredictions/sample/predictions/sample/PartitionedCall}}]]\n",
      "2023-07-04 11:44:49.707244: I tensorflow/core/common_runtime/executor.cc:1197] [/device:CPU:0] (DEBUG INFO) Executor start aborting (this does not indicate an error and you can ignore this message): INTERNAL: No function library is provided.\n",
      "\t [[{{node Independentpredictions/sample/predictions/sample/PartitionedCall}}]]\n",
      "100%|██████████| 20000/20000 [01:43<00:00, 192.49it/s]\n"
     ]
    },
    {
     "name": "stdout",
     "output_type": "stream",
     "text": [
      "MCMC sampling finished. (131.853 sec)\n",
      "Acceptance rate: 54.5%\n",
      "Automatic reference selection! Reference cell type set to MC\n"
     ]
    },
    {
     "name": "stderr",
     "output_type": "stream",
     "text": [
      "2023-07-04 11:47:21.097888: I tensorflow/core/common_runtime/executor.cc:1197] [/device:CPU:0] (DEBUG INFO) Executor start aborting (this does not indicate an error and you can ignore this message): INTERNAL: No function library is provided.\n",
      "\t [[{{node Independentpredictions/sample/predictions/sample/PartitionedCall}}]]\n",
      "2023-07-04 11:47:21.129159: I tensorflow/core/common_runtime/executor.cc:1197] [/device:CPU:0] (DEBUG INFO) Executor start aborting (this does not indicate an error and you can ignore this message): INVALID_ARGUMENT: You must feed a value for placeholder tensor 'Independentpredictions/sample/predictions/sample/draw_sample/while/Placeholder_1' with dtype double and shape [1,?,2]\n",
      "\t [[{{node Independentpredictions/sample/predictions/sample/draw_sample/while/Placeholder_1}}]]\n",
      "2023-07-04 11:47:21.381370: I tensorflow/core/common_runtime/executor.cc:1197] [/device:CPU:0] (DEBUG INFO) Executor start aborting (this does not indicate an error and you can ignore this message): INTERNAL: No function library is provided.\n",
      "\t [[{{node Independentpredictions/sample/predictions/sample/PartitionedCall}}]]\n",
      "2023-07-04 11:47:21.414767: I tensorflow/core/common_runtime/executor.cc:1197] [/device:CPU:0] (DEBUG INFO) Executor start aborting (this does not indicate an error and you can ignore this message): INVALID_ARGUMENT: You must feed a value for placeholder tensor 'Independentpredictions/sample/predictions/sample/draw_sample/while/Placeholder_1' with dtype double and shape [1,?,2]\n",
      "\t [[{{node Independentpredictions/sample/predictions/sample/draw_sample/while/Placeholder_1}}]]\n",
      "2023-07-04 11:47:21.646652: I tensorflow/core/common_runtime/executor.cc:1197] [/device:CPU:0] (DEBUG INFO) Executor start aborting (this does not indicate an error and you can ignore this message): INTERNAL: No function library is provided.\n",
      "\t [[{{node Independentpredictions/sample/predictions/sample/PartitionedCall}}]]\n",
      "2023-07-04 11:47:22.127859: I tensorflow/core/common_runtime/executor.cc:1197] [/device:CPU:0] (DEBUG INFO) Executor start aborting (this does not indicate an error and you can ignore this message): INTERNAL: No function library is provided.\n",
      "\t [[{{node Independentpredictions/sample/predictions/sample/PartitionedCall}}]]\n",
      "100%|██████████| 20000/20000 [01:41<00:00, 196.12it/s]\n"
     ]
    },
    {
     "name": "stdout",
     "output_type": "stream",
     "text": [
      "MCMC sampling finished. (130.077 sec)\n",
      "Acceptance rate: 39.6%\n"
     ]
    },
    {
     "name": "stderr",
     "output_type": "stream",
     "text": [
      "/home/mbentse/.conda/envs/scanpro_analysis/lib/python3.11/site-packages/numpy/lib/nanfunctions.py:1878: RuntimeWarning: Degrees of freedom <= 0 for slice.\n",
      "  var = nanvar(a, axis=axis, dtype=dtype, out=out, ddof=ddof,\n"
     ]
    },
    {
     "name": "stdout",
     "output_type": "stream",
     "text": [
      "Automatic reference selection! Reference cell type set to MC\n"
     ]
    },
    {
     "name": "stderr",
     "output_type": "stream",
     "text": [
      "2023-07-04 11:49:52.993162: I tensorflow/core/common_runtime/executor.cc:1197] [/device:CPU:0] (DEBUG INFO) Executor start aborting (this does not indicate an error and you can ignore this message): INTERNAL: No function library is provided.\n",
      "\t [[{{node Independentpredictions/sample/predictions/sample/PartitionedCall}}]]\n",
      "2023-07-04 11:49:53.025618: I tensorflow/core/common_runtime/executor.cc:1197] [/device:CPU:0] (DEBUG INFO) Executor start aborting (this does not indicate an error and you can ignore this message): INVALID_ARGUMENT: You must feed a value for placeholder tensor 'Independentpredictions/sample/predictions/sample/draw_sample/while/Placeholder_1' with dtype double and shape [1,?,2]\n",
      "\t [[{{node Independentpredictions/sample/predictions/sample/draw_sample/while/Placeholder_1}}]]\n",
      "2023-07-04 11:49:53.297527: I tensorflow/core/common_runtime/executor.cc:1197] [/device:CPU:0] (DEBUG INFO) Executor start aborting (this does not indicate an error and you can ignore this message): INTERNAL: No function library is provided.\n",
      "\t [[{{node Independentpredictions/sample/predictions/sample/PartitionedCall}}]]\n",
      "2023-07-04 11:49:53.330914: I tensorflow/core/common_runtime/executor.cc:1197] [/device:CPU:0] (DEBUG INFO) Executor start aborting (this does not indicate an error and you can ignore this message): INVALID_ARGUMENT: You must feed a value for placeholder tensor 'Independentpredictions/sample/predictions/sample/draw_sample/while/Placeholder_1' with dtype double and shape [1,?,2]\n",
      "\t [[{{node Independentpredictions/sample/predictions/sample/draw_sample/while/Placeholder_1}}]]\n",
      "2023-07-04 11:49:53.577018: I tensorflow/core/common_runtime/executor.cc:1197] [/device:CPU:0] (DEBUG INFO) Executor start aborting (this does not indicate an error and you can ignore this message): INTERNAL: No function library is provided.\n",
      "\t [[{{node Independentpredictions/sample/predictions/sample/PartitionedCall}}]]\n",
      "2023-07-04 11:49:54.811732: I tensorflow/core/common_runtime/executor.cc:1197] [/device:CPU:0] (DEBUG INFO) Executor start aborting (this does not indicate an error and you can ignore this message): INTERNAL: No function library is provided.\n",
      "\t [[{{node Independentpredictions/sample/predictions/sample/PartitionedCall}}]]\n",
      "100%|██████████| 20000/20000 [01:46<00:00, 188.54it/s]\n"
     ]
    },
    {
     "name": "stdout",
     "output_type": "stream",
     "text": [
      "MCMC sampling finished. (136.322 sec)\n",
      "Acceptance rate: 15.1%\n",
      "Automatic reference selection! Reference cell type set to MC\n"
     ]
    },
    {
     "name": "stderr",
     "output_type": "stream",
     "text": [
      "2023-07-04 11:52:29.985661: I tensorflow/core/common_runtime/executor.cc:1197] [/device:CPU:0] (DEBUG INFO) Executor start aborting (this does not indicate an error and you can ignore this message): INTERNAL: No function library is provided.\n",
      "\t [[{{node Independentpredictions/sample/predictions/sample/PartitionedCall}}]]\n",
      "2023-07-04 11:52:30.019008: I tensorflow/core/common_runtime/executor.cc:1197] [/device:CPU:0] (DEBUG INFO) Executor start aborting (this does not indicate an error and you can ignore this message): INVALID_ARGUMENT: You must feed a value for placeholder tensor 'Independentpredictions/sample/predictions/sample/draw_sample/while/Placeholder_1' with dtype double and shape [1,?,2]\n",
      "\t [[{{node Independentpredictions/sample/predictions/sample/draw_sample/while/Placeholder_1}}]]\n",
      "2023-07-04 11:52:30.295088: I tensorflow/core/common_runtime/executor.cc:1197] [/device:CPU:0] (DEBUG INFO) Executor start aborting (this does not indicate an error and you can ignore this message): INTERNAL: No function library is provided.\n",
      "\t [[{{node Independentpredictions/sample/predictions/sample/PartitionedCall}}]]\n",
      "2023-07-04 11:52:30.331857: I tensorflow/core/common_runtime/executor.cc:1197] [/device:CPU:0] (DEBUG INFO) Executor start aborting (this does not indicate an error and you can ignore this message): INVALID_ARGUMENT: You must feed a value for placeholder tensor 'Independentpredictions/sample/predictions/sample/draw_sample/while/Placeholder_1' with dtype double and shape [1,?,2]\n",
      "\t [[{{node Independentpredictions/sample/predictions/sample/draw_sample/while/Placeholder_1}}]]\n",
      "2023-07-04 11:52:30.587411: I tensorflow/core/common_runtime/executor.cc:1197] [/device:CPU:0] (DEBUG INFO) Executor start aborting (this does not indicate an error and you can ignore this message): INTERNAL: No function library is provided.\n",
      "\t [[{{node Independentpredictions/sample/predictions/sample/PartitionedCall}}]]\n",
      "2023-07-04 11:52:31.116279: I tensorflow/core/common_runtime/executor.cc:1197] [/device:CPU:0] (DEBUG INFO) Executor start aborting (this does not indicate an error and you can ignore this message): INTERNAL: No function library is provided.\n",
      "\t [[{{node Independentpredictions/sample/predictions/sample/PartitionedCall}}]]\n",
      "100%|██████████| 20000/20000 [01:44<00:00, 191.50it/s]\n"
     ]
    },
    {
     "name": "stdout",
     "output_type": "stream",
     "text": [
      "MCMC sampling finished. (132.784 sec)\n",
      "Acceptance rate: 10.2%\n"
     ]
    },
    {
     "name": "stderr",
     "output_type": "stream",
     "text": [
      "/home/mbentse/.conda/envs/scanpro_analysis/lib/python3.11/site-packages/numpy/lib/nanfunctions.py:1878: RuntimeWarning: Degrees of freedom <= 0 for slice.\n",
      "  var = nanvar(a, axis=axis, dtype=dtype, out=out, ddof=ddof,\n"
     ]
    }
   ],
   "source": [
    "credeff_list = []\n",
    "for _ in range(10):\n",
    "    pbmc_model_norep = mod.CompositionalAnalysis(sccoda_data_norep, formula=\"Sex\", reference_cell_type=\"automatic\")\n",
    "    sccoda_results_norep = pbmc_model_norep.sample_hmc()\n",
    "    credeff_list.append(sccoda_results_norep.credible_effects())"
   ]
  },
  {
   "cell_type": "code",
   "execution_count": 26,
   "metadata": {},
   "outputs": [
    {
     "data": {
      "text/html": [
       "<div>\n",
       "<style scoped>\n",
       "    .dataframe tbody tr th:only-of-type {\n",
       "        vertical-align: middle;\n",
       "    }\n",
       "\n",
       "    .dataframe tbody tr th {\n",
       "        vertical-align: top;\n",
       "    }\n",
       "\n",
       "    .dataframe thead th {\n",
       "        text-align: right;\n",
       "    }\n",
       "</style>\n",
       "<table border=\"1\" class=\"dataframe\">\n",
       "  <thead>\n",
       "    <tr style=\"text-align: right;\">\n",
       "      <th></th>\n",
       "      <th></th>\n",
       "      <th>pct_credible_effect</th>\n",
       "    </tr>\n",
       "    <tr>\n",
       "      <th>Covariate</th>\n",
       "      <th>Cell Type</th>\n",
       "      <th></th>\n",
       "    </tr>\n",
       "  </thead>\n",
       "  <tbody>\n",
       "    <tr>\n",
       "      <th rowspan=\"5\" valign=\"top\">Sex[T.male]</th>\n",
       "      <th>BC</th>\n",
       "      <td>10.0</td>\n",
       "    </tr>\n",
       "    <tr>\n",
       "      <th>DC</th>\n",
       "      <td>20.0</td>\n",
       "    </tr>\n",
       "    <tr>\n",
       "      <th>MC</th>\n",
       "      <td>0.0</td>\n",
       "    </tr>\n",
       "    <tr>\n",
       "      <th>NK</th>\n",
       "      <td>80.0</td>\n",
       "    </tr>\n",
       "    <tr>\n",
       "      <th>TC</th>\n",
       "      <td>60.0</td>\n",
       "    </tr>\n",
       "  </tbody>\n",
       "</table>\n",
       "</div>"
      ],
      "text/plain": [
       "                       pct_credible_effect\n",
       "Covariate   Cell Type                     \n",
       "Sex[T.male] BC                        10.0\n",
       "            DC                        20.0\n",
       "            MC                         0.0\n",
       "            NK                        80.0\n",
       "            TC                        60.0"
      ]
     },
     "execution_count": 26,
     "metadata": {},
     "output_type": "execute_result"
    }
   ],
   "source": [
    "# Collect credible effects\n",
    "all_credeff = pd.concat(credeff_list)\n",
    "pct_credeff = all_credeff.groupby(all_credeff.index.names).mean().to_frame(\"pct_credible_effect\") * 100\n",
    "pct_credeff"
   ]
  },
  {
   "cell_type": "code",
   "execution_count": 27,
   "metadata": {},
   "outputs": [],
   "source": [
    "pct_credeff.to_csv(\"results/pbmc_sccoda_norep.tsv\", sep=\"\\t\")"
   ]
  },
  {
   "cell_type": "code",
   "execution_count": null,
   "metadata": {},
   "outputs": [],
   "source": []
  }
 ],
 "metadata": {
  "kernelspec": {
   "display_name": "scanpro_analysis",
   "language": "python",
   "name": "scanpro_analysis"
  },
  "language_info": {
   "codemirror_mode": {
    "name": "ipython",
    "version": 3
   },
   "file_extension": ".py",
   "mimetype": "text/x-python",
   "name": "python",
   "nbconvert_exporter": "python",
   "pygments_lexer": "ipython3",
   "version": "3.11.4"
  },
  "vscode": {
   "interpreter": {
    "hash": "8a5edab282632443219e051e4ade2d1d5bbc671c781051bf1437897cbdfea0f1"
   }
  }
 },
 "nbformat": 4,
 "nbformat_minor": 2
}
