{
 "cells": [
  {
   "cell_type": "markdown",
   "id": "43944bed",
   "metadata": {},
   "source": [
    "# 2. Heart development analysis\n",
    "\n",
    "Sim, Choon Boon, Belinda Phipson, Mark Ziemann, Haloom Rafehi, Richard J. Mills, Kevin I. Watt, Kwaku D. Abu-Bonsrah, et al. 2021. “Sex-Specific Control of Human Heart Maturation by the Progesterone Receptor.” Circulation 143 (16): 1614–28."
   ]
  },
  {
   "cell_type": "code",
   "execution_count": 1,
   "id": "537f8f86",
   "metadata": {},
   "outputs": [
    {
     "name": "stderr",
     "output_type": "stream",
     "text": [
      "2023-07-11 22:33:47.008295: I tensorflow/core/util/port.cc:110] oneDNN custom operations are on. You may see slightly different numerical results due to floating-point round-off errors from different computation orders. To turn them off, set the environment variable `TF_ENABLE_ONEDNN_OPTS=0`.\n",
      "2023-07-11 22:33:47.011328: I tensorflow/tsl/cuda/cudart_stub.cc:28] Could not find cuda drivers on your machine, GPU will not be used.\n",
      "2023-07-11 22:33:47.075914: I tensorflow/tsl/cuda/cudart_stub.cc:28] Could not find cuda drivers on your machine, GPU will not be used.\n",
      "2023-07-11 22:33:47.077821: I tensorflow/core/platform/cpu_feature_guard.cc:182] This TensorFlow binary is optimized to use available CPU instructions in performance-critical operations.\n",
      "To enable the following instructions: AVX2 AVX512F AVX512_VNNI FMA, in other operations, rebuild TensorFlow with the appropriate compiler flags.\n",
      "2023-07-11 22:33:48.202652: W tensorflow/compiler/tf2tensorrt/utils/py_utils.cc:38] TF-TRT Warning: Could not find TensorRT\n"
     ]
    }
   ],
   "source": [
    "import os\n",
    "import sys\n",
    "import pandas as pd\n",
    "import numpy as np\n",
    "import seaborn as sns\n",
    "import matplotlib.pyplot as plt\n",
    "\n",
    "# Scanpro functions\n",
    "from scanpro import scanpro\n",
    "from scanpro.utils import convert_counts_to_df\n",
    "\n",
    "# scCODA functions\n",
    "import sccoda\n",
    "from sccoda.util import comp_ana as mod\n",
    "from sccoda.util import cell_composition_data as dat\n",
    "from sccoda.util import data_visualization as viz\n",
    "\n",
    "#Setup path to R for propeller\n",
    "R_home = os.path.dirname(sys.executable)[:-4] + \"/lib/R\"\n",
    "os.environ[\"R_HOME\"] = R_home\n",
    "%load_ext rpy2.ipython"
   ]
  },
  {
   "cell_type": "code",
   "execution_count": 2,
   "id": "ed4b0bce",
   "metadata": {},
   "outputs": [],
   "source": [
    "# path where figures are going to be saved\n",
    "FIG_PATH = 'plots'"
   ]
  },
  {
   "cell_type": "markdown",
   "id": "24860f17",
   "metadata": {},
   "source": [
    "-------------"
   ]
  },
  {
   "cell_type": "markdown",
   "id": "34744991",
   "metadata": {},
   "source": [
    "## Read data"
   ]
  },
  {
   "cell_type": "code",
   "execution_count": 4,
   "id": "2e7c401d",
   "metadata": {},
   "outputs": [
    {
     "data": {
      "text/html": [
       "<div>\n",
       "<style scoped>\n",
       "    .dataframe tbody tr th:only-of-type {\n",
       "        vertical-align: middle;\n",
       "    }\n",
       "\n",
       "    .dataframe tbody tr th {\n",
       "        vertical-align: top;\n",
       "    }\n",
       "\n",
       "    .dataframe thead th {\n",
       "        text-align: right;\n",
       "    }\n",
       "</style>\n",
       "<table border=\"1\" class=\"dataframe\">\n",
       "  <thead>\n",
       "    <tr style=\"text-align: right;\">\n",
       "      <th></th>\n",
       "      <th>Sample</th>\n",
       "      <th>Condition</th>\n",
       "      <th>Sex</th>\n",
       "      <th>Cardiomyocytes</th>\n",
       "      <th>Endothelial cells</th>\n",
       "      <th>Epicardial cells</th>\n",
       "      <th>Erythroid</th>\n",
       "      <th>Fibroblast</th>\n",
       "      <th>Immune cells</th>\n",
       "      <th>Neurons</th>\n",
       "      <th>Smooth muscle cells</th>\n",
       "    </tr>\n",
       "  </thead>\n",
       "  <tbody>\n",
       "    <tr>\n",
       "      <th>0</th>\n",
       "      <td>a1</td>\n",
       "      <td>adult</td>\n",
       "      <td>male</td>\n",
       "      <td>1856</td>\n",
       "      <td>599</td>\n",
       "      <td>343</td>\n",
       "      <td>0</td>\n",
       "      <td>1034</td>\n",
       "      <td>449</td>\n",
       "      <td>57</td>\n",
       "      <td>22</td>\n",
       "    </tr>\n",
       "    <tr>\n",
       "      <th>1</th>\n",
       "      <td>a2</td>\n",
       "      <td>adult</td>\n",
       "      <td>male</td>\n",
       "      <td>564</td>\n",
       "      <td>466</td>\n",
       "      <td>493</td>\n",
       "      <td>0</td>\n",
       "      <td>1230</td>\n",
       "      <td>530</td>\n",
       "      <td>43</td>\n",
       "      <td>49</td>\n",
       "    </tr>\n",
       "    <tr>\n",
       "      <th>2</th>\n",
       "      <td>a3</td>\n",
       "      <td>adult</td>\n",
       "      <td>male</td>\n",
       "      <td>383</td>\n",
       "      <td>165</td>\n",
       "      <td>92</td>\n",
       "      <td>0</td>\n",
       "      <td>495</td>\n",
       "      <td>519</td>\n",
       "      <td>14</td>\n",
       "      <td>13</td>\n",
       "    </tr>\n",
       "    <tr>\n",
       "      <th>3</th>\n",
       "      <td>f1</td>\n",
       "      <td>fetal</td>\n",
       "      <td>male</td>\n",
       "      <td>5475</td>\n",
       "      <td>735</td>\n",
       "      <td>564</td>\n",
       "      <td>43</td>\n",
       "      <td>1029</td>\n",
       "      <td>287</td>\n",
       "      <td>109</td>\n",
       "      <td>54</td>\n",
       "    </tr>\n",
       "    <tr>\n",
       "      <th>4</th>\n",
       "      <td>f2</td>\n",
       "      <td>fetal</td>\n",
       "      <td>male</td>\n",
       "      <td>8580</td>\n",
       "      <td>715</td>\n",
       "      <td>425</td>\n",
       "      <td>49</td>\n",
       "      <td>755</td>\n",
       "      <td>274</td>\n",
       "      <td>130</td>\n",
       "      <td>20</td>\n",
       "    </tr>\n",
       "    <tr>\n",
       "      <th>5</th>\n",
       "      <td>f3</td>\n",
       "      <td>fetal</td>\n",
       "      <td>female</td>\n",
       "      <td>5140</td>\n",
       "      <td>1298</td>\n",
       "      <td>404</td>\n",
       "      <td>31</td>\n",
       "      <td>1201</td>\n",
       "      <td>196</td>\n",
       "      <td>110</td>\n",
       "      <td>136</td>\n",
       "    </tr>\n",
       "    <tr>\n",
       "      <th>6</th>\n",
       "      <td>y1</td>\n",
       "      <td>young</td>\n",
       "      <td>male</td>\n",
       "      <td>1073</td>\n",
       "      <td>511</td>\n",
       "      <td>613</td>\n",
       "      <td>0</td>\n",
       "      <td>1622</td>\n",
       "      <td>337</td>\n",
       "      <td>207</td>\n",
       "      <td>59</td>\n",
       "    </tr>\n",
       "    <tr>\n",
       "      <th>7</th>\n",
       "      <td>y2</td>\n",
       "      <td>young</td>\n",
       "      <td>female</td>\n",
       "      <td>2221</td>\n",
       "      <td>462</td>\n",
       "      <td>280</td>\n",
       "      <td>0</td>\n",
       "      <td>1688</td>\n",
       "      <td>808</td>\n",
       "      <td>71</td>\n",
       "      <td>28</td>\n",
       "    </tr>\n",
       "    <tr>\n",
       "      <th>8</th>\n",
       "      <td>y3</td>\n",
       "      <td>young</td>\n",
       "      <td>male</td>\n",
       "      <td>4456</td>\n",
       "      <td>550</td>\n",
       "      <td>260</td>\n",
       "      <td>0</td>\n",
       "      <td>805</td>\n",
       "      <td>731</td>\n",
       "      <td>133</td>\n",
       "      <td>49</td>\n",
       "    </tr>\n",
       "  </tbody>\n",
       "</table>\n",
       "</div>"
      ],
      "text/plain": [
       "  Sample Condition     Sex  Cardiomyocytes  Endothelial cells  \\\n",
       "0     a1     adult    male            1856                599   \n",
       "1     a2     adult    male             564                466   \n",
       "2     a3     adult    male             383                165   \n",
       "3     f1     fetal    male            5475                735   \n",
       "4     f2     fetal    male            8580                715   \n",
       "5     f3     fetal  female            5140               1298   \n",
       "6     y1     young    male            1073                511   \n",
       "7     y2     young  female            2221                462   \n",
       "8     y3     young    male            4456                550   \n",
       "\n",
       "   Epicardial cells  Erythroid  Fibroblast  Immune cells  Neurons  \\\n",
       "0               343          0        1034           449       57   \n",
       "1               493          0        1230           530       43   \n",
       "2                92          0         495           519       14   \n",
       "3               564         43        1029           287      109   \n",
       "4               425         49         755           274      130   \n",
       "5               404         31        1201           196      110   \n",
       "6               613          0        1622           337      207   \n",
       "7               280          0        1688           808       71   \n",
       "8               260          0         805           731      133   \n",
       "\n",
       "   Smooth muscle cells  \n",
       "0                   22  \n",
       "1                   49  \n",
       "2                   13  \n",
       "3                   54  \n",
       "4                   20  \n",
       "5                  136  \n",
       "6                   59  \n",
       "7                   28  \n",
       "8                   49  "
      ]
     },
     "execution_count": 4,
     "metadata": {},
     "output_type": "execute_result"
    }
   ],
   "source": [
    "heart_counts = pd.read_csv(\"data/heart_counts.tsv\", sep=\"\\t\")\n",
    "heart_counts"
   ]
  },
  {
   "cell_type": "code",
   "execution_count": 5,
   "id": "a0feae8d",
   "metadata": {},
   "outputs": [
    {
     "data": {
      "text/html": [
       "<div>\n",
       "<style scoped>\n",
       "    .dataframe tbody tr th:only-of-type {\n",
       "        vertical-align: middle;\n",
       "    }\n",
       "\n",
       "    .dataframe tbody tr th {\n",
       "        vertical-align: top;\n",
       "    }\n",
       "\n",
       "    .dataframe thead th {\n",
       "        text-align: right;\n",
       "    }\n",
       "</style>\n",
       "<table border=\"1\" class=\"dataframe\">\n",
       "  <thead>\n",
       "    <tr style=\"text-align: right;\">\n",
       "      <th></th>\n",
       "      <th>Sample</th>\n",
       "      <th>Condition</th>\n",
       "      <th>Sex</th>\n",
       "      <th>Celltype</th>\n",
       "    </tr>\n",
       "  </thead>\n",
       "  <tbody>\n",
       "    <tr>\n",
       "      <th>cell_1</th>\n",
       "      <td>a1</td>\n",
       "      <td>adult</td>\n",
       "      <td>male</td>\n",
       "      <td>Cardiomyocytes</td>\n",
       "    </tr>\n",
       "    <tr>\n",
       "      <th>cell_2</th>\n",
       "      <td>a1</td>\n",
       "      <td>adult</td>\n",
       "      <td>male</td>\n",
       "      <td>Cardiomyocytes</td>\n",
       "    </tr>\n",
       "    <tr>\n",
       "      <th>cell_3</th>\n",
       "      <td>a1</td>\n",
       "      <td>adult</td>\n",
       "      <td>male</td>\n",
       "      <td>Cardiomyocytes</td>\n",
       "    </tr>\n",
       "    <tr>\n",
       "      <th>cell_4</th>\n",
       "      <td>a1</td>\n",
       "      <td>adult</td>\n",
       "      <td>male</td>\n",
       "      <td>Cardiomyocytes</td>\n",
       "    </tr>\n",
       "    <tr>\n",
       "      <th>cell_5</th>\n",
       "      <td>a1</td>\n",
       "      <td>adult</td>\n",
       "      <td>male</td>\n",
       "      <td>Cardiomyocytes</td>\n",
       "    </tr>\n",
       "  </tbody>\n",
       "</table>\n",
       "</div>"
      ],
      "text/plain": [
       "       Sample Condition   Sex        Celltype\n",
       "cell_1     a1     adult  male  Cardiomyocytes\n",
       "cell_2     a1     adult  male  Cardiomyocytes\n",
       "cell_3     a1     adult  male  Cardiomyocytes\n",
       "cell_4     a1     adult  male  Cardiomyocytes\n",
       "cell_5     a1     adult  male  Cardiomyocytes"
      ]
     },
     "execution_count": 5,
     "metadata": {},
     "output_type": "execute_result"
    }
   ],
   "source": [
    "heart = convert_counts_to_df(heart_counts, column_name=\"Celltype\")\n",
    "heart.head()"
   ]
  },
  {
   "cell_type": "markdown",
   "id": "7ada4c83",
   "metadata": {},
   "source": [
    "-----------"
   ]
  },
  {
   "cell_type": "markdown",
   "id": "118a24f0",
   "metadata": {},
   "source": [
    "## Run Scanpro"
   ]
  },
  {
   "cell_type": "markdown",
   "id": "086705bf",
   "metadata": {},
   "source": [
    "### Scanpro"
   ]
  },
  {
   "cell_type": "code",
   "execution_count": 6,
   "id": "a6650652",
   "metadata": {},
   "outputs": [
    {
     "name": "stdout",
     "output_type": "stream",
     "text": [
      "[INFO] There are more than 2 conditions. ANOVA will be performed...\n",
      "[INFO] Done!\n"
     ]
    },
    {
     "data": {
      "text/html": [
       "<div>\n",
       "<style scoped>\n",
       "    .dataframe tbody tr th:only-of-type {\n",
       "        vertical-align: middle;\n",
       "    }\n",
       "\n",
       "    .dataframe tbody tr th {\n",
       "        vertical-align: top;\n",
       "    }\n",
       "\n",
       "    .dataframe thead th {\n",
       "        text-align: right;\n",
       "    }\n",
       "</style>\n",
       "<table border=\"1\" class=\"dataframe\">\n",
       "  <thead>\n",
       "    <tr style=\"text-align: right;\">\n",
       "      <th></th>\n",
       "      <th>baseline_props</th>\n",
       "      <th>mean_props_adult</th>\n",
       "      <th>mean_props_fetal</th>\n",
       "      <th>mean_props_young</th>\n",
       "      <th>f_statistics</th>\n",
       "      <th>p_values</th>\n",
       "      <th>adjusted_p_values</th>\n",
       "    </tr>\n",
       "    <tr>\n",
       "      <th>clusters</th>\n",
       "      <th></th>\n",
       "      <th></th>\n",
       "      <th></th>\n",
       "      <th></th>\n",
       "      <th></th>\n",
       "      <th></th>\n",
       "      <th></th>\n",
       "    </tr>\n",
       "  </thead>\n",
       "  <tbody>\n",
       "    <tr>\n",
       "      <th>Cardiomyocytes</th>\n",
       "      <td>0.549464</td>\n",
       "      <td>0.273547</td>\n",
       "      <td>0.682410</td>\n",
       "      <td>0.426761</td>\n",
       "      <td>8.998537</td>\n",
       "      <td>0.000124</td>\n",
       "      <td>0.000330</td>\n",
       "    </tr>\n",
       "    <tr>\n",
       "      <th>Endothelial cells</th>\n",
       "      <td>0.101607</td>\n",
       "      <td>0.124538</td>\n",
       "      <td>0.102108</td>\n",
       "      <td>0.092478</td>\n",
       "      <td>0.337551</td>\n",
       "      <td>0.713515</td>\n",
       "      <td>0.713515</td>\n",
       "    </tr>\n",
       "    <tr>\n",
       "      <th>Epicardial cells</th>\n",
       "      <td>0.064167</td>\n",
       "      <td>0.093158</td>\n",
       "      <td>0.051415</td>\n",
       "      <td>0.075410</td>\n",
       "      <td>0.901016</td>\n",
       "      <td>0.406157</td>\n",
       "      <td>0.541542</td>\n",
       "    </tr>\n",
       "    <tr>\n",
       "      <th>Erythroid</th>\n",
       "      <td>0.002272</td>\n",
       "      <td>0.000000</td>\n",
       "      <td>0.004433</td>\n",
       "      <td>0.000000</td>\n",
       "      <td>197.947461</td>\n",
       "      <td>0.000000</td>\n",
       "      <td>0.000000</td>\n",
       "    </tr>\n",
       "    <tr>\n",
       "      <th>Fibroblast</th>\n",
       "      <td>0.182102</td>\n",
       "      <td>0.298689</td>\n",
       "      <td>0.111342</td>\n",
       "      <td>0.261924</td>\n",
       "      <td>4.602496</td>\n",
       "      <td>0.010027</td>\n",
       "      <td>0.020054</td>\n",
       "    </tr>\n",
       "    <tr>\n",
       "      <th>Immune cells</th>\n",
       "      <td>0.076302</td>\n",
       "      <td>0.189588</td>\n",
       "      <td>0.027546</td>\n",
       "      <td>0.108751</td>\n",
       "      <td>11.508649</td>\n",
       "      <td>0.000010</td>\n",
       "      <td>0.000040</td>\n",
       "    </tr>\n",
       "    <tr>\n",
       "      <th>Neurons</th>\n",
       "      <td>0.016143</td>\n",
       "      <td>0.011381</td>\n",
       "      <td>0.012643</td>\n",
       "      <td>0.026210</td>\n",
       "      <td>1.545816</td>\n",
       "      <td>0.213138</td>\n",
       "      <td>0.341021</td>\n",
       "    </tr>\n",
       "    <tr>\n",
       "      <th>Smooth muscle cells</th>\n",
       "      <td>0.007942</td>\n",
       "      <td>0.009099</td>\n",
       "      <td>0.008102</td>\n",
       "      <td>0.008465</td>\n",
       "      <td>0.403828</td>\n",
       "      <td>0.667759</td>\n",
       "      <td>0.713515</td>\n",
       "    </tr>\n",
       "  </tbody>\n",
       "</table>\n",
       "</div>"
      ],
      "text/plain": [
       "                     baseline_props  mean_props_adult  mean_props_fetal  \\\n",
       "clusters                                                                  \n",
       "Cardiomyocytes             0.549464          0.273547          0.682410   \n",
       "Endothelial cells          0.101607          0.124538          0.102108   \n",
       "Epicardial cells           0.064167          0.093158          0.051415   \n",
       "Erythroid                  0.002272          0.000000          0.004433   \n",
       "Fibroblast                 0.182102          0.298689          0.111342   \n",
       "Immune cells               0.076302          0.189588          0.027546   \n",
       "Neurons                    0.016143          0.011381          0.012643   \n",
       "Smooth muscle cells        0.007942          0.009099          0.008102   \n",
       "\n",
       "                     mean_props_young  f_statistics  p_values  \\\n",
       "clusters                                                        \n",
       "Cardiomyocytes               0.426761      8.998537  0.000124   \n",
       "Endothelial cells            0.092478      0.337551  0.713515   \n",
       "Epicardial cells             0.075410      0.901016  0.406157   \n",
       "Erythroid                    0.000000    197.947461  0.000000   \n",
       "Fibroblast                   0.261924      4.602496  0.010027   \n",
       "Immune cells                 0.108751     11.508649  0.000010   \n",
       "Neurons                      0.026210      1.545816  0.213138   \n",
       "Smooth muscle cells          0.008465      0.403828  0.667759   \n",
       "\n",
       "                     adjusted_p_values  \n",
       "clusters                                \n",
       "Cardiomyocytes                0.000330  \n",
       "Endothelial cells             0.713515  \n",
       "Epicardial cells              0.541542  \n",
       "Erythroid                     0.000000  \n",
       "Fibroblast                    0.020054  \n",
       "Immune cells                  0.000040  \n",
       "Neurons                       0.341021  \n",
       "Smooth muscle cells           0.713515  "
      ]
     },
     "execution_count": 6,
     "metadata": {},
     "output_type": "execute_result"
    }
   ],
   "source": [
    "scanpro_out = scanpro.scanpro(heart, clusters_col='Celltype', conds_col='Condition', \n",
    "                            samples_col='Sample')\n",
    "scanpro_out.results"
   ]
  },
  {
   "cell_type": "code",
   "execution_count": 7,
   "id": "d1dad4c7",
   "metadata": {},
   "outputs": [],
   "source": [
    "scanpro_out.results.to_csv(\"results/heart_scanpro_rep.tsv\", sep=\"\\t\")"
   ]
  },
  {
   "cell_type": "markdown",
   "id": "5f71a81c",
   "metadata": {},
   "source": [
    "#### With covariate"
   ]
  },
  {
   "cell_type": "code",
   "execution_count": 8,
   "id": "0c1b6912",
   "metadata": {},
   "outputs": [
    {
     "name": "stdout",
     "output_type": "stream",
     "text": [
      "[INFO] There are more than 2 conditions. ANOVA will be performed...\n",
      "[INFO] Done!\n"
     ]
    },
    {
     "data": {
      "text/html": [
       "<div>\n",
       "<style scoped>\n",
       "    .dataframe tbody tr th:only-of-type {\n",
       "        vertical-align: middle;\n",
       "    }\n",
       "\n",
       "    .dataframe tbody tr th {\n",
       "        vertical-align: top;\n",
       "    }\n",
       "\n",
       "    .dataframe thead th {\n",
       "        text-align: right;\n",
       "    }\n",
       "</style>\n",
       "<table border=\"1\" class=\"dataframe\">\n",
       "  <thead>\n",
       "    <tr style=\"text-align: right;\">\n",
       "      <th></th>\n",
       "      <th>baseline_props</th>\n",
       "      <th>mean_props_adult</th>\n",
       "      <th>mean_props_fetal</th>\n",
       "      <th>mean_props_young</th>\n",
       "      <th>f_statistics</th>\n",
       "      <th>p_values</th>\n",
       "      <th>adjusted_p_values</th>\n",
       "    </tr>\n",
       "    <tr>\n",
       "      <th>clusters</th>\n",
       "      <th></th>\n",
       "      <th></th>\n",
       "      <th></th>\n",
       "      <th></th>\n",
       "      <th></th>\n",
       "      <th></th>\n",
       "      <th></th>\n",
       "    </tr>\n",
       "  </thead>\n",
       "  <tbody>\n",
       "    <tr>\n",
       "      <th>Cardiomyocytes</th>\n",
       "      <td>0.549464</td>\n",
       "      <td>0.273547</td>\n",
       "      <td>0.682410</td>\n",
       "      <td>0.426761</td>\n",
       "      <td>8.304494</td>\n",
       "      <td>0.000247</td>\n",
       "      <td>0.000660</td>\n",
       "    </tr>\n",
       "    <tr>\n",
       "      <th>Endothelial cells</th>\n",
       "      <td>0.101607</td>\n",
       "      <td>0.124538</td>\n",
       "      <td>0.102108</td>\n",
       "      <td>0.092478</td>\n",
       "      <td>0.471451</td>\n",
       "      <td>0.624096</td>\n",
       "      <td>0.624096</td>\n",
       "    </tr>\n",
       "    <tr>\n",
       "      <th>Epicardial cells</th>\n",
       "      <td>0.064167</td>\n",
       "      <td>0.093158</td>\n",
       "      <td>0.051415</td>\n",
       "      <td>0.075410</td>\n",
       "      <td>0.549832</td>\n",
       "      <td>0.577047</td>\n",
       "      <td>0.624096</td>\n",
       "    </tr>\n",
       "    <tr>\n",
       "      <th>Erythroid</th>\n",
       "      <td>0.002272</td>\n",
       "      <td>0.000000</td>\n",
       "      <td>0.004433</td>\n",
       "      <td>0.000000</td>\n",
       "      <td>176.878478</td>\n",
       "      <td>0.000000</td>\n",
       "      <td>0.000000</td>\n",
       "    </tr>\n",
       "    <tr>\n",
       "      <th>Fibroblast</th>\n",
       "      <td>0.182102</td>\n",
       "      <td>0.298689</td>\n",
       "      <td>0.111342</td>\n",
       "      <td>0.261924</td>\n",
       "      <td>4.660385</td>\n",
       "      <td>0.009463</td>\n",
       "      <td>0.018926</td>\n",
       "    </tr>\n",
       "    <tr>\n",
       "      <th>Immune cells</th>\n",
       "      <td>0.076302</td>\n",
       "      <td>0.189588</td>\n",
       "      <td>0.027546</td>\n",
       "      <td>0.108751</td>\n",
       "      <td>10.094696</td>\n",
       "      <td>0.000041</td>\n",
       "      <td>0.000165</td>\n",
       "    </tr>\n",
       "    <tr>\n",
       "      <th>Neurons</th>\n",
       "      <td>0.016143</td>\n",
       "      <td>0.011381</td>\n",
       "      <td>0.012643</td>\n",
       "      <td>0.026210</td>\n",
       "      <td>1.707894</td>\n",
       "      <td>0.181247</td>\n",
       "      <td>0.289995</td>\n",
       "    </tr>\n",
       "    <tr>\n",
       "      <th>Smooth muscle cells</th>\n",
       "      <td>0.007942</td>\n",
       "      <td>0.009099</td>\n",
       "      <td>0.008102</td>\n",
       "      <td>0.008465</td>\n",
       "      <td>0.582384</td>\n",
       "      <td>0.558565</td>\n",
       "      <td>0.624096</td>\n",
       "    </tr>\n",
       "  </tbody>\n",
       "</table>\n",
       "</div>"
      ],
      "text/plain": [
       "                     baseline_props  mean_props_adult  mean_props_fetal  \\\n",
       "clusters                                                                  \n",
       "Cardiomyocytes             0.549464          0.273547          0.682410   \n",
       "Endothelial cells          0.101607          0.124538          0.102108   \n",
       "Epicardial cells           0.064167          0.093158          0.051415   \n",
       "Erythroid                  0.002272          0.000000          0.004433   \n",
       "Fibroblast                 0.182102          0.298689          0.111342   \n",
       "Immune cells               0.076302          0.189588          0.027546   \n",
       "Neurons                    0.016143          0.011381          0.012643   \n",
       "Smooth muscle cells        0.007942          0.009099          0.008102   \n",
       "\n",
       "                     mean_props_young  f_statistics  p_values  \\\n",
       "clusters                                                        \n",
       "Cardiomyocytes               0.426761      8.304494  0.000247   \n",
       "Endothelial cells            0.092478      0.471451  0.624096   \n",
       "Epicardial cells             0.075410      0.549832  0.577047   \n",
       "Erythroid                    0.000000    176.878478  0.000000   \n",
       "Fibroblast                   0.261924      4.660385  0.009463   \n",
       "Immune cells                 0.108751     10.094696  0.000041   \n",
       "Neurons                      0.026210      1.707894  0.181247   \n",
       "Smooth muscle cells          0.008465      0.582384  0.558565   \n",
       "\n",
       "                     adjusted_p_values  \n",
       "clusters                                \n",
       "Cardiomyocytes                0.000660  \n",
       "Endothelial cells             0.624096  \n",
       "Epicardial cells              0.624096  \n",
       "Erythroid                     0.000000  \n",
       "Fibroblast                    0.018926  \n",
       "Immune cells                  0.000165  \n",
       "Neurons                       0.289995  \n",
       "Smooth muscle cells           0.624096  "
      ]
     },
     "execution_count": 8,
     "metadata": {},
     "output_type": "execute_result"
    }
   ],
   "source": [
    "scanpro_out_cofactor = scanpro.scanpro(heart, clusters_col='Celltype', conds_col='Condition', \n",
    "                            samples_col='Sample', covariates=\"Sex\")\n",
    "scanpro_out_cofactor.results"
   ]
  },
  {
   "cell_type": "markdown",
   "id": "4cb89911",
   "metadata": {},
   "source": [
    "### Scanpro without replicates"
   ]
  },
  {
   "cell_type": "code",
   "execution_count": 9,
   "id": "a5cc02df",
   "metadata": {},
   "outputs": [
    {
     "name": "stdout",
     "output_type": "stream",
     "text": [
      "[INFO] Your data doesn't have replicates! Artificial replicates will be simulated to run scanpro.\n",
      "[WARNING] Consider setting transform='arcsin', as this produces more accurate results for simulated data.\n",
      "[INFO] Simulation may take some minutes...\n",
      "[INFO] Generating 8 replicates and running 100 simulations...\n",
      "[INFO] Finished 100 simulations in 12.44 seconds\n"
     ]
    },
    {
     "data": {
      "text/html": [
       "<div>\n",
       "<style scoped>\n",
       "    .dataframe tbody tr th:only-of-type {\n",
       "        vertical-align: middle;\n",
       "    }\n",
       "\n",
       "    .dataframe tbody tr th {\n",
       "        vertical-align: top;\n",
       "    }\n",
       "\n",
       "    .dataframe thead th {\n",
       "        text-align: right;\n",
       "    }\n",
       "</style>\n",
       "<table border=\"1\" class=\"dataframe\">\n",
       "  <thead>\n",
       "    <tr style=\"text-align: right;\">\n",
       "      <th></th>\n",
       "      <th>baseline_props</th>\n",
       "      <th>mean_props_adult</th>\n",
       "      <th>mean_props_fetal</th>\n",
       "      <th>mean_props_young</th>\n",
       "      <th>p_values</th>\n",
       "    </tr>\n",
       "    <tr>\n",
       "      <th>clusters</th>\n",
       "      <th></th>\n",
       "      <th></th>\n",
       "      <th></th>\n",
       "      <th></th>\n",
       "      <th></th>\n",
       "    </tr>\n",
       "  </thead>\n",
       "  <tbody>\n",
       "    <tr>\n",
       "      <th>Cardiomyocytes</th>\n",
       "      <td>0.549464</td>\n",
       "      <td>0.298492</td>\n",
       "      <td>0.692051</td>\n",
       "      <td>0.454588</td>\n",
       "      <td>0.000449</td>\n",
       "    </tr>\n",
       "    <tr>\n",
       "      <th>Endothelial cells</th>\n",
       "      <td>0.101607</td>\n",
       "      <td>0.127835</td>\n",
       "      <td>0.092451</td>\n",
       "      <td>0.084468</td>\n",
       "      <td>0.319757</td>\n",
       "    </tr>\n",
       "    <tr>\n",
       "      <th>Epicardial cells</th>\n",
       "      <td>0.064167</td>\n",
       "      <td>0.093229</td>\n",
       "      <td>0.046591</td>\n",
       "      <td>0.063077</td>\n",
       "      <td>0.260190</td>\n",
       "    </tr>\n",
       "    <tr>\n",
       "      <th>Erythroid</th>\n",
       "      <td>0.002272</td>\n",
       "      <td>0.000000</td>\n",
       "      <td>0.003182</td>\n",
       "      <td>0.000000</td>\n",
       "      <td>0.001490</td>\n",
       "    </tr>\n",
       "    <tr>\n",
       "      <th>Fibroblast</th>\n",
       "      <td>0.182102</td>\n",
       "      <td>0.291566</td>\n",
       "      <td>0.104188</td>\n",
       "      <td>0.241103</td>\n",
       "      <td>0.035333</td>\n",
       "    </tr>\n",
       "    <tr>\n",
       "      <th>Immune cells</th>\n",
       "      <td>0.076302</td>\n",
       "      <td>0.156952</td>\n",
       "      <td>0.023386</td>\n",
       "      <td>0.105506</td>\n",
       "      <td>0.002423</td>\n",
       "    </tr>\n",
       "    <tr>\n",
       "      <th>Neurons</th>\n",
       "      <td>0.016143</td>\n",
       "      <td>0.010057</td>\n",
       "      <td>0.011429</td>\n",
       "      <td>0.021369</td>\n",
       "      <td>0.427887</td>\n",
       "    </tr>\n",
       "    <tr>\n",
       "      <th>Smooth muscle cells</th>\n",
       "      <td>0.007942</td>\n",
       "      <td>0.007610</td>\n",
       "      <td>0.005827</td>\n",
       "      <td>0.006132</td>\n",
       "      <td>0.504888</td>\n",
       "    </tr>\n",
       "  </tbody>\n",
       "</table>\n",
       "</div>"
      ],
      "text/plain": [
       "                     baseline_props  mean_props_adult  mean_props_fetal  \\\n",
       "clusters                                                                  \n",
       "Cardiomyocytes             0.549464          0.298492          0.692051   \n",
       "Endothelial cells          0.101607          0.127835          0.092451   \n",
       "Epicardial cells           0.064167          0.093229          0.046591   \n",
       "Erythroid                  0.002272          0.000000          0.003182   \n",
       "Fibroblast                 0.182102          0.291566          0.104188   \n",
       "Immune cells               0.076302          0.156952          0.023386   \n",
       "Neurons                    0.016143          0.010057          0.011429   \n",
       "Smooth muscle cells        0.007942          0.007610          0.005827   \n",
       "\n",
       "                     mean_props_young  p_values  \n",
       "clusters                                         \n",
       "Cardiomyocytes               0.454588  0.000449  \n",
       "Endothelial cells            0.084468  0.319757  \n",
       "Epicardial cells             0.063077  0.260190  \n",
       "Erythroid                    0.000000  0.001490  \n",
       "Fibroblast                   0.241103  0.035333  \n",
       "Immune cells                 0.105506  0.002423  \n",
       "Neurons                      0.021369  0.427887  \n",
       "Smooth muscle cells          0.006132  0.504888  "
      ]
     },
     "execution_count": 9,
     "metadata": {},
     "output_type": "execute_result"
    }
   ],
   "source": [
    "scanpro_out_norep = scanpro.scanpro(heart, clusters_col='Celltype', conds_col='Condition')\n",
    "scanpro_out_norep.results"
   ]
  },
  {
   "cell_type": "code",
   "execution_count": 10,
   "id": "dba4b5cf",
   "metadata": {},
   "outputs": [],
   "source": [
    "scanpro_out_norep.results.to_csv(\"results/heart_scanpro_norep.tsv\", sep=\"\\t\")"
   ]
  },
  {
   "cell_type": "markdown",
   "id": "8eee1e6c",
   "metadata": {},
   "source": [
    "### Plots"
   ]
  },
  {
   "cell_type": "code",
   "execution_count": 11,
   "id": "f3fc50fd",
   "metadata": {
    "scrolled": true
   },
   "outputs": [
    {
     "data": {
      "image/png": "[encoded data removed]",
      "text/plain": [
       "<Figure size 1200x400 with 4 Axes>"
      ]
     },
     "metadata": {},
     "output_type": "display_data"
    }
   ],
   "source": [
    "# original samples\n",
    "scanpro_out.plot(n_columns=4, clusters=['Cardiomyocytes','Endothelial cells','Epicardial cells','Erythroid'],\n",
    "                 save=f'{FIG_PATH}/heart_stripplot.pdf')"
   ]
  },
  {
   "cell_type": "code",
   "execution_count": 12,
   "id": "5c8a40fb",
   "metadata": {},
   "outputs": [
    {
     "data": {
      "image/png": "[encoded data removed]",
      "text/plain": [
       "<Figure size 1200x400 with 4 Axes>"
      ]
     },
     "metadata": {},
     "output_type": "display_data"
    }
   ],
   "source": [
    "scanpro_out.plot(kind='boxplot', n_columns=4, clusters=['Cardiomyocytes','Endothelial cells',\n",
    "                                                        'Epicardial cells','Erythroid'],\n",
    "                 save=f'{FIG_PATH}/heart_boxplot.pdf')"
   ]
  },
  {
   "cell_type": "code",
   "execution_count": 13,
   "id": "c3132315",
   "metadata": {},
   "outputs": [
    {
     "data": {
      "image/png": "[encoded data removed]",
      "text/plain": [
       "<Figure size 640x480 with 1 Axes>"
      ]
     },
     "metadata": {},
     "output_type": "display_data"
    }
   ],
   "source": [
    "scanpro_out.plot_samples(save=f\"{FIG_PATH}/heart_sample_barplot.pdf\")"
   ]
  },
  {
   "cell_type": "code",
   "execution_count": 14,
   "id": "b2de5f13",
   "metadata": {},
   "outputs": [
    {
     "data": {
      "image/png": "[encoded data removed]",
      "text/plain": [
       "<Figure size 1200x400 with 8 Axes>"
      ]
     },
     "metadata": {},
     "output_type": "display_data"
    }
   ],
   "source": [
    "# Simulated replicates\n",
    "scanpro_out_norep.plot(n_columns=4, clusters=['Cardiomyocytes','Endothelial cells','Epicardial cells','Erythroid'],\n",
    "                       save=f'{FIG_PATH}/heart_norep_stripplot.pdf')"
   ]
  },
  {
   "cell_type": "markdown",
   "id": "89227a60",
   "metadata": {},
   "source": [
    "---------------------"
   ]
  },
  {
   "cell_type": "markdown",
   "id": "baa2aeda",
   "metadata": {},
   "source": [
    "## Propeller"
   ]
  },
  {
   "cell_type": "code",
   "execution_count": 15,
   "id": "2fdeeadf",
   "metadata": {},
   "outputs": [
    {
     "name": "stdout",
     "output_type": "stream",
     "text": [
      "\n",
      "    WARNING: The R package \"reticulate\" only fixed recently\n",
      "    an issue that caused a segfault when used with rpy2:\n",
      "    https://github.com/rstudio/reticulate/pull/1188\n",
      "    Make sure that you use a version of that package that includes\n",
      "    the fix.\n",
      "    "
     ]
    },
    {
     "data": {
      "text/plain": [
       "The legacy packages maptools, rgdal, and rgeos, underpinning the sp package,\n",
       "which was just loaded, will retire in October 2023.\n",
       "Please refer to R-spatial evolution reports for details, especially\n",
       "https://r-spatial.org/r/2023/05/15/evolution4.html.\n",
       "It may be desirable to make the sf package available;\n",
       "package maintainers should consider adding sf to Suggests:.\n",
       "The sp package is now running under evolution status 2\n",
       "     (status 2 uses the sf package in place of rgdal)\n",
       "Performing logit transformation of proportions\n",
       "group variable has > 2 levels, ANOVA will be performed\n"
      ]
     },
     "metadata": {},
     "output_type": "display_data"
    }
   ],
   "source": [
    "%%R -i heart -o propeller_results\n",
    "library(speckle)\n",
    "\n",
    "propeller_results = propeller(clusters = heart$Celltype, sample = heart$Sample, group = heart$Condition)"
   ]
  },
  {
   "cell_type": "code",
   "execution_count": 16,
   "id": "d8c21b3c",
   "metadata": {},
   "outputs": [
    {
     "data": {
      "text/html": [
       "<div>\n",
       "<style scoped>\n",
       "    .dataframe tbody tr th:only-of-type {\n",
       "        vertical-align: middle;\n",
       "    }\n",
       "\n",
       "    .dataframe tbody tr th {\n",
       "        vertical-align: top;\n",
       "    }\n",
       "\n",
       "    .dataframe thead th {\n",
       "        text-align: right;\n",
       "    }\n",
       "</style>\n",
       "<table border=\"1\" class=\"dataframe\">\n",
       "  <thead>\n",
       "    <tr style=\"text-align: right;\">\n",
       "      <th></th>\n",
       "      <th>BaselineProp</th>\n",
       "      <th>PropMean.adult</th>\n",
       "      <th>PropMean.fetal</th>\n",
       "      <th>PropMean.young</th>\n",
       "      <th>Fstatistic</th>\n",
       "      <th>P.Value</th>\n",
       "      <th>FDR</th>\n",
       "    </tr>\n",
       "  </thead>\n",
       "  <tbody>\n",
       "    <tr>\n",
       "      <th>Erythroid</th>\n",
       "      <td>0.002272</td>\n",
       "      <td>-0.000000</td>\n",
       "      <td>0.004433</td>\n",
       "      <td>-0.000000</td>\n",
       "      <td>46.591998</td>\n",
       "      <td>5.825757e-21</td>\n",
       "      <td>4.660605e-20</td>\n",
       "    </tr>\n",
       "    <tr>\n",
       "      <th>Immune cells</th>\n",
       "      <td>0.076302</td>\n",
       "      <td>0.189588</td>\n",
       "      <td>0.027546</td>\n",
       "      <td>0.108751</td>\n",
       "      <td>11.575093</td>\n",
       "      <td>9.397256e-06</td>\n",
       "      <td>3.758902e-05</td>\n",
       "    </tr>\n",
       "    <tr>\n",
       "      <th>Cardiomyocytes</th>\n",
       "      <td>0.549464</td>\n",
       "      <td>0.273547</td>\n",
       "      <td>0.682410</td>\n",
       "      <td>0.426761</td>\n",
       "      <td>9.068229</td>\n",
       "      <td>1.152704e-04</td>\n",
       "      <td>3.073879e-04</td>\n",
       "    </tr>\n",
       "    <tr>\n",
       "      <th>Fibroblast</th>\n",
       "      <td>0.182102</td>\n",
       "      <td>0.298689</td>\n",
       "      <td>0.111342</td>\n",
       "      <td>0.261924</td>\n",
       "      <td>4.630794</td>\n",
       "      <td>9.747019e-03</td>\n",
       "      <td>1.949404e-02</td>\n",
       "    </tr>\n",
       "    <tr>\n",
       "      <th>Neurons</th>\n",
       "      <td>0.016143</td>\n",
       "      <td>0.011381</td>\n",
       "      <td>0.012643</td>\n",
       "      <td>0.026210</td>\n",
       "      <td>1.519245</td>\n",
       "      <td>2.188770e-01</td>\n",
       "      <td>3.502033e-01</td>\n",
       "    </tr>\n",
       "    <tr>\n",
       "      <th>Epicardial cells</th>\n",
       "      <td>0.064167</td>\n",
       "      <td>0.093158</td>\n",
       "      <td>0.051415</td>\n",
       "      <td>0.075410</td>\n",
       "      <td>0.909787</td>\n",
       "      <td>4.026099e-01</td>\n",
       "      <td>5.368133e-01</td>\n",
       "    </tr>\n",
       "    <tr>\n",
       "      <th>Smooth muscle cells</th>\n",
       "      <td>0.007942</td>\n",
       "      <td>0.009099</td>\n",
       "      <td>0.008102</td>\n",
       "      <td>0.008465</td>\n",
       "      <td>0.421692</td>\n",
       "      <td>6.559362e-01</td>\n",
       "      <td>7.117040e-01</td>\n",
       "    </tr>\n",
       "    <tr>\n",
       "      <th>Endothelial cells</th>\n",
       "      <td>0.101607</td>\n",
       "      <td>0.124538</td>\n",
       "      <td>0.102108</td>\n",
       "      <td>0.092478</td>\n",
       "      <td>0.340093</td>\n",
       "      <td>7.117040e-01</td>\n",
       "      <td>7.117040e-01</td>\n",
       "    </tr>\n",
       "  </tbody>\n",
       "</table>\n",
       "</div>"
      ],
      "text/plain": [
       "                     BaselineProp  PropMean.adult  PropMean.fetal  \\\n",
       "Erythroid                0.002272       -0.000000        0.004433   \n",
       "Immune cells             0.076302        0.189588        0.027546   \n",
       "Cardiomyocytes           0.549464        0.273547        0.682410   \n",
       "Fibroblast               0.182102        0.298689        0.111342   \n",
       "Neurons                  0.016143        0.011381        0.012643   \n",
       "Epicardial cells         0.064167        0.093158        0.051415   \n",
       "Smooth muscle cells      0.007942        0.009099        0.008102   \n",
       "Endothelial cells        0.101607        0.124538        0.102108   \n",
       "\n",
       "                     PropMean.young  Fstatistic       P.Value           FDR  \n",
       "Erythroid                 -0.000000   46.591998  5.825757e-21  4.660605e-20  \n",
       "Immune cells               0.108751   11.575093  9.397256e-06  3.758902e-05  \n",
       "Cardiomyocytes             0.426761    9.068229  1.152704e-04  3.073879e-04  \n",
       "Fibroblast                 0.261924    4.630794  9.747019e-03  1.949404e-02  \n",
       "Neurons                    0.026210    1.519245  2.188770e-01  3.502033e-01  \n",
       "Epicardial cells           0.075410    0.909787  4.026099e-01  5.368133e-01  \n",
       "Smooth muscle cells        0.008465    0.421692  6.559362e-01  7.117040e-01  \n",
       "Endothelial cells          0.092478    0.340093  7.117040e-01  7.117040e-01  "
      ]
     },
     "execution_count": 16,
     "metadata": {},
     "output_type": "execute_result"
    }
   ],
   "source": [
    "propeller_results"
   ]
  },
  {
   "cell_type": "code",
   "execution_count": 17,
   "id": "0835d435",
   "metadata": {},
   "outputs": [],
   "source": [
    "propeller_results.to_csv(\"results/heart_propeller_rep.tsv\", sep=\"\\t\")"
   ]
  },
  {
   "cell_type": "markdown",
   "id": "b0983d86",
   "metadata": {},
   "source": [
    "------------"
   ]
  },
  {
   "cell_type": "markdown",
   "id": "2c2555bb",
   "metadata": {},
   "source": [
    "## scCODA"
   ]
  },
  {
   "cell_type": "markdown",
   "id": "f89d250e",
   "metadata": {},
   "source": [
    "### Data preperation"
   ]
  },
  {
   "cell_type": "code",
   "execution_count": 18,
   "id": "1ca4b779",
   "metadata": {},
   "outputs": [],
   "source": [
    "# With replicates\n",
    "sccoda_data  = dat.from_pandas(heart_counts, covariate_columns=[\"Sample\", \"Condition\", \"Sex\"])\n",
    "\n",
    "# Without replicates\n",
    "counts_merged = heart_counts.groupby(\"Condition\").sum(numeric_only=True).reset_index()\n",
    "sccoda_data_norep = dat.from_pandas(counts_merged, covariate_columns=[\"Condition\"])"
   ]
  },
  {
   "cell_type": "markdown",
   "id": "05b7bccf",
   "metadata": {},
   "source": [
    "### With replicates"
   ]
  },
  {
   "cell_type": "code",
   "execution_count": 19,
   "id": "7661a378",
   "metadata": {},
   "outputs": [
    {
     "name": "stdout",
     "output_type": "stream",
     "text": [
      "Automatic reference selection! Reference cell type set to Smooth muscle cells\n",
      "Zero counts encountered in data! Added a pseudocount of 0.5.\n",
      "WARNING:tensorflow:From /home/yalayou/.conda/envs/pypropeller/lib/python3.10/site-packages/tensorflow_probability/python/internal/batched_rejection_sampler.py:102: calling while_loop_v2 (from tensorflow.python.ops.while_loop) with back_prop=False is deprecated and will be removed in a future version.\n",
      "Instructions for updating:\n",
      "back_prop=False is deprecated. Consider using tf.stop_gradient instead.\n",
      "Instead of:\n",
      "results = tf.while_loop(c, b, vars, back_prop=False)\n",
      "Use:\n",
      "results = tf.nest.map_structure(tf.stop_gradient, tf.while_loop(c, b, vars))\n"
     ]
    },
    {
     "name": "stderr",
     "output_type": "stream",
     "text": [
      "2023-07-11 22:34:34.048309: I tensorflow/compiler/xla/service/service.cc:168] XLA service 0x7f6d90168700 initialized for platform Host (this does not guarantee that XLA will be used). Devices:\n",
      "2023-07-11 22:34:34.048364: I tensorflow/compiler/xla/service/service.cc:176]   StreamExecutor device (0): Host, Default Version\n",
      "  0%|          | 0/20000 [00:00<?, ?it/s]2023-07-11 22:34:34.122001: I tensorflow/compiler/mlir/tensorflow/utils/dump_mlir_util.cc:255] disabling MLIR crash reproducer, set env var `MLIR_CRASH_REPRODUCER_DIRECTORY` to enable.\n",
      "2023-07-11 22:34:34.903869: I ./tensorflow/compiler/jit/device_compiler.h:186] Compiled cluster using XLA!  This line is logged at most once for the lifetime of the process.\n",
      "100%|██████████| 20000/20000 [02:05<00:00, 159.14it/s]\n"
     ]
    },
    {
     "name": "stdout",
     "output_type": "stream",
     "text": [
      "MCMC sampling finished. (165.332 sec)\n",
      "Acceptance rate: 47.4%\n"
     ]
    }
   ],
   "source": [
    "sccoda_model = mod.CompositionalAnalysis(sccoda_data, formula=\"Condition\", reference_cell_type=\"automatic\")\n",
    "sccoda_results = sccoda_model.sample_hmc()"
   ]
  },
  {
   "cell_type": "code",
   "execution_count": 20,
   "id": "f307a123",
   "metadata": {},
   "outputs": [
    {
     "data": {
      "text/html": [
       "<div>\n",
       "<style scoped>\n",
       "    .dataframe tbody tr th:only-of-type {\n",
       "        vertical-align: middle;\n",
       "    }\n",
       "\n",
       "    .dataframe tbody tr th {\n",
       "        vertical-align: top;\n",
       "    }\n",
       "\n",
       "    .dataframe thead th {\n",
       "        text-align: right;\n",
       "    }\n",
       "</style>\n",
       "<table border=\"1\" class=\"dataframe\">\n",
       "  <thead>\n",
       "    <tr style=\"text-align: right;\">\n",
       "      <th></th>\n",
       "      <th></th>\n",
       "      <th>credible_effect</th>\n",
       "    </tr>\n",
       "    <tr>\n",
       "      <th>Covariate</th>\n",
       "      <th>Cell Type</th>\n",
       "      <th></th>\n",
       "    </tr>\n",
       "  </thead>\n",
       "  <tbody>\n",
       "    <tr>\n",
       "      <th rowspan=\"8\" valign=\"top\">Condition[T.fetal]</th>\n",
       "      <th>Cardiomyocytes</th>\n",
       "      <td>True</td>\n",
       "    </tr>\n",
       "    <tr>\n",
       "      <th>Endothelial cells</th>\n",
       "      <td>False</td>\n",
       "    </tr>\n",
       "    <tr>\n",
       "      <th>Epicardial cells</th>\n",
       "      <td>False</td>\n",
       "    </tr>\n",
       "    <tr>\n",
       "      <th>Erythroid</th>\n",
       "      <td>False</td>\n",
       "    </tr>\n",
       "    <tr>\n",
       "      <th>Fibroblast</th>\n",
       "      <td>False</td>\n",
       "    </tr>\n",
       "    <tr>\n",
       "      <th>Immune cells</th>\n",
       "      <td>False</td>\n",
       "    </tr>\n",
       "    <tr>\n",
       "      <th>Neurons</th>\n",
       "      <td>False</td>\n",
       "    </tr>\n",
       "    <tr>\n",
       "      <th>Smooth muscle cells</th>\n",
       "      <td>False</td>\n",
       "    </tr>\n",
       "    <tr>\n",
       "      <th rowspan=\"8\" valign=\"top\">Condition[T.young]</th>\n",
       "      <th>Cardiomyocytes</th>\n",
       "      <td>False</td>\n",
       "    </tr>\n",
       "    <tr>\n",
       "      <th>Endothelial cells</th>\n",
       "      <td>False</td>\n",
       "    </tr>\n",
       "    <tr>\n",
       "      <th>Epicardial cells</th>\n",
       "      <td>False</td>\n",
       "    </tr>\n",
       "    <tr>\n",
       "      <th>Erythroid</th>\n",
       "      <td>False</td>\n",
       "    </tr>\n",
       "    <tr>\n",
       "      <th>Fibroblast</th>\n",
       "      <td>False</td>\n",
       "    </tr>\n",
       "    <tr>\n",
       "      <th>Immune cells</th>\n",
       "      <td>False</td>\n",
       "    </tr>\n",
       "    <tr>\n",
       "      <th>Neurons</th>\n",
       "      <td>False</td>\n",
       "    </tr>\n",
       "    <tr>\n",
       "      <th>Smooth muscle cells</th>\n",
       "      <td>False</td>\n",
       "    </tr>\n",
       "  </tbody>\n",
       "</table>\n",
       "</div>"
      ],
      "text/plain": [
       "                                        credible_effect\n",
       "Covariate          Cell Type                           \n",
       "Condition[T.fetal] Cardiomyocytes                  True\n",
       "                   Endothelial cells              False\n",
       "                   Epicardial cells               False\n",
       "                   Erythroid                      False\n",
       "                   Fibroblast                     False\n",
       "                   Immune cells                   False\n",
       "                   Neurons                        False\n",
       "                   Smooth muscle cells            False\n",
       "Condition[T.young] Cardiomyocytes                 False\n",
       "                   Endothelial cells              False\n",
       "                   Epicardial cells               False\n",
       "                   Erythroid                      False\n",
       "                   Fibroblast                     False\n",
       "                   Immune cells                   False\n",
       "                   Neurons                        False\n",
       "                   Smooth muscle cells            False"
      ]
     },
     "execution_count": 20,
     "metadata": {},
     "output_type": "execute_result"
    }
   ],
   "source": [
    "sccoda_out = sccoda_results.credible_effects().to_frame(name=\"credible_effect\")\n",
    "sccoda_out.to_csv(\"results/heart_sccoda_rep.tsv\", sep=\"\\t\")\n",
    "sccoda_out"
   ]
  },
  {
   "cell_type": "markdown",
   "id": "1f6d6940",
   "metadata": {},
   "source": [
    "### Without replicates"
   ]
  },
  {
   "cell_type": "code",
   "execution_count": 21,
   "id": "fffdbe7b",
   "metadata": {},
   "outputs": [
    {
     "name": "stdout",
     "output_type": "stream",
     "text": [
      "Automatic reference selection! Reference cell type set to Smooth muscle cells\n",
      "Zero counts encountered in data! Added a pseudocount of 0.5.\n"
     ]
    },
    {
     "name": "stderr",
     "output_type": "stream",
     "text": [
      "100%|██████████| 20000/20000 [02:10<00:00, 153.31it/s]\n"
     ]
    },
    {
     "name": "stdout",
     "output_type": "stream",
     "text": [
      "MCMC sampling finished. (165.659 sec)\n",
      "Acceptance rate: 76.2%\n",
      "Automatic reference selection! Reference cell type set to Smooth muscle cells\n",
      "Zero counts encountered in data! Added a pseudocount of 0.5.\n"
     ]
    },
    {
     "name": "stderr",
     "output_type": "stream",
     "text": [
      "100%|██████████| 20000/20000 [02:09<00:00, 155.03it/s]\n"
     ]
    },
    {
     "name": "stdout",
     "output_type": "stream",
     "text": [
      "MCMC sampling finished. (163.311 sec)\n",
      "Acceptance rate: 89.8%\n",
      "Automatic reference selection! Reference cell type set to Smooth muscle cells\n",
      "Zero counts encountered in data! Added a pseudocount of 0.5.\n"
     ]
    },
    {
     "name": "stderr",
     "output_type": "stream",
     "text": [
      "100%|██████████| 20000/20000 [02:06<00:00, 157.98it/s]\n"
     ]
    },
    {
     "name": "stdout",
     "output_type": "stream",
     "text": [
      "MCMC sampling finished. (160.158 sec)\n",
      "Acceptance rate: 69.4%\n",
      "Automatic reference selection! Reference cell type set to Smooth muscle cells\n",
      "Zero counts encountered in data! Added a pseudocount of 0.5.\n"
     ]
    },
    {
     "name": "stderr",
     "output_type": "stream",
     "text": [
      "100%|██████████| 20000/20000 [02:09<00:00, 154.84it/s]\n"
     ]
    },
    {
     "name": "stdout",
     "output_type": "stream",
     "text": [
      "WARNING:tensorflow:5 out of the last 5 calls to <function CompositionalModel.sampling.<locals>.sample_mcmc at 0x7f6e7701b130> triggered tf.function retracing. Tracing is expensive and the excessive number of tracings could be due to (1) creating @tf.function repeatedly in a loop, (2) passing tensors with different shapes, (3) passing Python objects instead of tensors. For (1), please define your @tf.function outside of the loop. For (2), @tf.function has reduce_retracing=True option that can avoid unnecessary retracing. For (3), please refer to https://www.tensorflow.org/guide/function#controlling_retracing and https://www.tensorflow.org/api_docs/python/tf/function for  more details.\n",
      "MCMC sampling finished. (161.713 sec)\n",
      "Acceptance rate: 64.9%\n",
      "Automatic reference selection! Reference cell type set to Smooth muscle cells\n",
      "Zero counts encountered in data! Added a pseudocount of 0.5.\n"
     ]
    },
    {
     "name": "stderr",
     "output_type": "stream",
     "text": [
      "100%|██████████| 20000/20000 [02:11<00:00, 152.05it/s]\n"
     ]
    },
    {
     "name": "stdout",
     "output_type": "stream",
     "text": [
      "WARNING:tensorflow:6 out of the last 6 calls to <function CompositionalModel.sampling.<locals>.sample_mcmc at 0x7f6d2c50a710> triggered tf.function retracing. Tracing is expensive and the excessive number of tracings could be due to (1) creating @tf.function repeatedly in a loop, (2) passing tensors with different shapes, (3) passing Python objects instead of tensors. For (1), please define your @tf.function outside of the loop. For (2), @tf.function has reduce_retracing=True option that can avoid unnecessary retracing. For (3), please refer to https://www.tensorflow.org/guide/function#controlling_retracing and https://www.tensorflow.org/api_docs/python/tf/function for  more details.\n",
      "MCMC sampling finished. (164.887 sec)\n",
      "Acceptance rate: 46.8%\n",
      "Automatic reference selection! Reference cell type set to Smooth muscle cells\n",
      "Zero counts encountered in data! Added a pseudocount of 0.5.\n"
     ]
    },
    {
     "name": "stderr",
     "output_type": "stream",
     "text": [
      "100%|██████████| 20000/20000 [02:04<00:00, 160.49it/s]\n"
     ]
    },
    {
     "name": "stdout",
     "output_type": "stream",
     "text": [
      "MCMC sampling finished. (155.477 sec)\n",
      "Acceptance rate: 39.4%\n",
      "Automatic reference selection! Reference cell type set to Smooth muscle cells\n",
      "Zero counts encountered in data! Added a pseudocount of 0.5.\n"
     ]
    },
    {
     "name": "stderr",
     "output_type": "stream",
     "text": [
      "100%|██████████| 20000/20000 [02:07<00:00, 156.35it/s]\n"
     ]
    },
    {
     "name": "stdout",
     "output_type": "stream",
     "text": [
      "MCMC sampling finished. (157.980 sec)\n",
      "Acceptance rate: 44.3%\n",
      "Automatic reference selection! Reference cell type set to Smooth muscle cells\n",
      "Zero counts encountered in data! Added a pseudocount of 0.5.\n"
     ]
    },
    {
     "name": "stderr",
     "output_type": "stream",
     "text": [
      "100%|██████████| 20000/20000 [02:09<00:00, 154.77it/s]\n"
     ]
    },
    {
     "name": "stdout",
     "output_type": "stream",
     "text": [
      "MCMC sampling finished. (160.827 sec)\n",
      "Acceptance rate: 58.0%\n",
      "Automatic reference selection! Reference cell type set to Smooth muscle cells\n",
      "Zero counts encountered in data! Added a pseudocount of 0.5.\n"
     ]
    },
    {
     "name": "stderr",
     "output_type": "stream",
     "text": [
      "100%|██████████| 20000/20000 [02:11<00:00, 152.54it/s]\n"
     ]
    },
    {
     "name": "stdout",
     "output_type": "stream",
     "text": [
      "MCMC sampling finished. (165.641 sec)\n",
      "Acceptance rate: 42.6%\n",
      "Automatic reference selection! Reference cell type set to Smooth muscle cells\n",
      "Zero counts encountered in data! Added a pseudocount of 0.5.\n"
     ]
    },
    {
     "name": "stderr",
     "output_type": "stream",
     "text": [
      "100%|██████████| 20000/20000 [02:10<00:00, 153.71it/s]\n"
     ]
    },
    {
     "name": "stdout",
     "output_type": "stream",
     "text": [
      "MCMC sampling finished. (164.041 sec)\n",
      "Acceptance rate: 17.0%\n"
     ]
    }
   ],
   "source": [
    "credeff_list = []\n",
    "for _ in range(10):\n",
    "    sccoda_model_norep = mod.CompositionalAnalysis(sccoda_data_norep, formula=\"Condition\", reference_cell_type=\"automatic\")\n",
    "    sccoda_results_norep = sccoda_model_norep.sample_hmc()\n",
    "    credeff_list.append(sccoda_results_norep.credible_effects())"
   ]
  },
  {
   "cell_type": "code",
   "execution_count": 22,
   "id": "7319ac55",
   "metadata": {},
   "outputs": [
    {
     "data": {
      "text/html": [
       "<div>\n",
       "<style scoped>\n",
       "    .dataframe tbody tr th:only-of-type {\n",
       "        vertical-align: middle;\n",
       "    }\n",
       "\n",
       "    .dataframe tbody tr th {\n",
       "        vertical-align: top;\n",
       "    }\n",
       "\n",
       "    .dataframe thead th {\n",
       "        text-align: right;\n",
       "    }\n",
       "</style>\n",
       "<table border=\"1\" class=\"dataframe\">\n",
       "  <thead>\n",
       "    <tr style=\"text-align: right;\">\n",
       "      <th></th>\n",
       "      <th></th>\n",
       "      <th>pct_credible_effect</th>\n",
       "    </tr>\n",
       "    <tr>\n",
       "      <th>Covariate</th>\n",
       "      <th>Cell Type</th>\n",
       "      <th></th>\n",
       "    </tr>\n",
       "  </thead>\n",
       "  <tbody>\n",
       "    <tr>\n",
       "      <th rowspan=\"8\" valign=\"top\">Condition[T.fetal]</th>\n",
       "      <th>Cardiomyocytes</th>\n",
       "      <td>100.0</td>\n",
       "    </tr>\n",
       "    <tr>\n",
       "      <th>Endothelial cells</th>\n",
       "      <td>10.0</td>\n",
       "    </tr>\n",
       "    <tr>\n",
       "      <th>Epicardial cells</th>\n",
       "      <td>0.0</td>\n",
       "    </tr>\n",
       "    <tr>\n",
       "      <th>Erythroid</th>\n",
       "      <td>0.0</td>\n",
       "    </tr>\n",
       "    <tr>\n",
       "      <th>Fibroblast</th>\n",
       "      <td>0.0</td>\n",
       "    </tr>\n",
       "    <tr>\n",
       "      <th>Immune cells</th>\n",
       "      <td>60.0</td>\n",
       "    </tr>\n",
       "    <tr>\n",
       "      <th>Neurons</th>\n",
       "      <td>0.0</td>\n",
       "    </tr>\n",
       "    <tr>\n",
       "      <th>Smooth muscle cells</th>\n",
       "      <td>0.0</td>\n",
       "    </tr>\n",
       "    <tr>\n",
       "      <th rowspan=\"8\" valign=\"top\">Condition[T.young]</th>\n",
       "      <th>Cardiomyocytes</th>\n",
       "      <td>20.0</td>\n",
       "    </tr>\n",
       "    <tr>\n",
       "      <th>Endothelial cells</th>\n",
       "      <td>0.0</td>\n",
       "    </tr>\n",
       "    <tr>\n",
       "      <th>Epicardial cells</th>\n",
       "      <td>0.0</td>\n",
       "    </tr>\n",
       "    <tr>\n",
       "      <th>Erythroid</th>\n",
       "      <td>0.0</td>\n",
       "    </tr>\n",
       "    <tr>\n",
       "      <th>Fibroblast</th>\n",
       "      <td>0.0</td>\n",
       "    </tr>\n",
       "    <tr>\n",
       "      <th>Immune cells</th>\n",
       "      <td>10.0</td>\n",
       "    </tr>\n",
       "    <tr>\n",
       "      <th>Neurons</th>\n",
       "      <td>10.0</td>\n",
       "    </tr>\n",
       "    <tr>\n",
       "      <th>Smooth muscle cells</th>\n",
       "      <td>0.0</td>\n",
       "    </tr>\n",
       "  </tbody>\n",
       "</table>\n",
       "</div>"
      ],
      "text/plain": [
       "                                        pct_credible_effect\n",
       "Covariate          Cell Type                               \n",
       "Condition[T.fetal] Cardiomyocytes                     100.0\n",
       "                   Endothelial cells                   10.0\n",
       "                   Epicardial cells                     0.0\n",
       "                   Erythroid                            0.0\n",
       "                   Fibroblast                           0.0\n",
       "                   Immune cells                        60.0\n",
       "                   Neurons                              0.0\n",
       "                   Smooth muscle cells                  0.0\n",
       "Condition[T.young] Cardiomyocytes                      20.0\n",
       "                   Endothelial cells                    0.0\n",
       "                   Epicardial cells                     0.0\n",
       "                   Erythroid                            0.0\n",
       "                   Fibroblast                           0.0\n",
       "                   Immune cells                        10.0\n",
       "                   Neurons                             10.0\n",
       "                   Smooth muscle cells                  0.0"
      ]
     },
     "execution_count": 22,
     "metadata": {},
     "output_type": "execute_result"
    }
   ],
   "source": [
    "# Collect credible effects\n",
    "all_credeff = pd.concat(credeff_list)\n",
    "pct_credeff = all_credeff.groupby(all_credeff.index.names).mean().to_frame(\"pct_credible_effect\") * 100\n",
    "pct_credeff"
   ]
  },
  {
   "cell_type": "code",
   "execution_count": 23,
   "id": "1bf98841",
   "metadata": {},
   "outputs": [],
   "source": [
    "pct_credeff.to_csv(\"results/heart_sccoda_norep.tsv\", sep=\"\\t\")"
   ]
  },
  {
   "cell_type": "code",
   "execution_count": null,
   "id": "5d70902a",
   "metadata": {},
   "outputs": [],
   "source": []
  }
 ],
 "metadata": {
  "kernelspec": {
   "display_name": "pypropeller",
   "language": "python",
   "name": "pypropeller"
  },
  "language_info": {
   "codemirror_mode": {
    "name": "ipython",
    "version": 3
   },
   "file_extension": ".py",
   "mimetype": "text/x-python",
   "name": "python",
   "nbconvert_exporter": "python",
   "pygments_lexer": "ipython3",
   "version": "3.10.12"
  }
 },
 "nbformat": 4,
 "nbformat_minor": 5
}
