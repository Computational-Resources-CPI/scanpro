{
 "cells": [
  {
   "cell_type": "markdown",
   "id": "43944bed",
   "metadata": {},
   "source": [
    "# 2. Heart development analysis\n",
    "\n",
    "Sim, Choon Boon, Belinda Phipson, Mark Ziemann, Haloom Rafehi, Richard J. Mills, Kevin I. Watt, Kwaku D. Abu-Bonsrah, et al. 2021. “Sex-Specific Control of Human Heart Maturation by the Progesterone Receptor.” Circulation 143 (16): 1614–28."
   ]
  },
  {
   "cell_type": "code",
   "execution_count": 1,
   "id": "537f8f86",
   "metadata": {},
   "outputs": [],
   "source": [
    "import os\n",
    "import sys\n",
    "import pandas as pd\n",
    "import numpy as np\n",
    "import seaborn as sns\n",
    "import matplotlib.pyplot as plt\n",
    "\n",
    "# Scanpro functions\n",
    "from scanpro import scanpro\n",
    "from scanpro.utils import convert_counts_to_df"
   ]
  },
  {
   "cell_type": "code",
   "execution_count": 2,
   "id": "ed4b0bce",
   "metadata": {},
   "outputs": [],
   "source": [
    "# path where figures are going to be saved\n",
    "FIG_PATH = 'plots'"
   ]
  },
  {
   "cell_type": "markdown",
   "id": "24860f17",
   "metadata": {},
   "source": [
    "-------------"
   ]
  },
  {
   "cell_type": "markdown",
   "id": "34744991",
   "metadata": {},
   "source": [
    "## Read data"
   ]
  },
  {
   "cell_type": "code",
   "execution_count": 3,
   "id": "2e7c401d",
   "metadata": {},
   "outputs": [
    {
     "data": {
      "text/html": [
       "<div>\n",
       "<style scoped>\n",
       "    .dataframe tbody tr th:only-of-type {\n",
       "        vertical-align: middle;\n",
       "    }\n",
       "\n",
       "    .dataframe tbody tr th {\n",
       "        vertical-align: top;\n",
       "    }\n",
       "\n",
       "    .dataframe thead th {\n",
       "        text-align: right;\n",
       "    }\n",
       "</style>\n",
       "<table border=\"1\" class=\"dataframe\">\n",
       "  <thead>\n",
       "    <tr style=\"text-align: right;\">\n",
       "      <th></th>\n",
       "      <th>Sample</th>\n",
       "      <th>Condition</th>\n",
       "      <th>Sex</th>\n",
       "      <th>Cardiomyocytes</th>\n",
       "      <th>Endothelial cells</th>\n",
       "      <th>Epicardial cells</th>\n",
       "      <th>Erythroid</th>\n",
       "      <th>Fibroblast</th>\n",
       "      <th>Immune cells</th>\n",
       "      <th>Neurons</th>\n",
       "      <th>Smooth muscle cells</th>\n",
       "    </tr>\n",
       "  </thead>\n",
       "  <tbody>\n",
       "    <tr>\n",
       "      <th>0</th>\n",
       "      <td>f1</td>\n",
       "      <td>Fetal</td>\n",
       "      <td>Male</td>\n",
       "      <td>5475</td>\n",
       "      <td>735</td>\n",
       "      <td>564</td>\n",
       "      <td>43</td>\n",
       "      <td>1029</td>\n",
       "      <td>287</td>\n",
       "      <td>109</td>\n",
       "      <td>54</td>\n",
       "    </tr>\n",
       "    <tr>\n",
       "      <th>1</th>\n",
       "      <td>f2</td>\n",
       "      <td>Fetal</td>\n",
       "      <td>Male</td>\n",
       "      <td>8580</td>\n",
       "      <td>715</td>\n",
       "      <td>425</td>\n",
       "      <td>49</td>\n",
       "      <td>755</td>\n",
       "      <td>274</td>\n",
       "      <td>130</td>\n",
       "      <td>20</td>\n",
       "    </tr>\n",
       "    <tr>\n",
       "      <th>2</th>\n",
       "      <td>f3</td>\n",
       "      <td>Fetal</td>\n",
       "      <td>Female</td>\n",
       "      <td>5140</td>\n",
       "      <td>1298</td>\n",
       "      <td>404</td>\n",
       "      <td>31</td>\n",
       "      <td>1201</td>\n",
       "      <td>196</td>\n",
       "      <td>110</td>\n",
       "      <td>136</td>\n",
       "    </tr>\n",
       "    <tr>\n",
       "      <th>3</th>\n",
       "      <td>y1</td>\n",
       "      <td>Young</td>\n",
       "      <td>Male</td>\n",
       "      <td>1073</td>\n",
       "      <td>511</td>\n",
       "      <td>613</td>\n",
       "      <td>0</td>\n",
       "      <td>1622</td>\n",
       "      <td>337</td>\n",
       "      <td>207</td>\n",
       "      <td>59</td>\n",
       "    </tr>\n",
       "    <tr>\n",
       "      <th>4</th>\n",
       "      <td>y2</td>\n",
       "      <td>Young</td>\n",
       "      <td>Female</td>\n",
       "      <td>2221</td>\n",
       "      <td>462</td>\n",
       "      <td>280</td>\n",
       "      <td>0</td>\n",
       "      <td>1688</td>\n",
       "      <td>808</td>\n",
       "      <td>71</td>\n",
       "      <td>28</td>\n",
       "    </tr>\n",
       "    <tr>\n",
       "      <th>5</th>\n",
       "      <td>y3</td>\n",
       "      <td>Young</td>\n",
       "      <td>Male</td>\n",
       "      <td>4456</td>\n",
       "      <td>550</td>\n",
       "      <td>260</td>\n",
       "      <td>0</td>\n",
       "      <td>805</td>\n",
       "      <td>731</td>\n",
       "      <td>133</td>\n",
       "      <td>49</td>\n",
       "    </tr>\n",
       "    <tr>\n",
       "      <th>6</th>\n",
       "      <td>a1</td>\n",
       "      <td>Adult</td>\n",
       "      <td>Male</td>\n",
       "      <td>1856</td>\n",
       "      <td>599</td>\n",
       "      <td>343</td>\n",
       "      <td>0</td>\n",
       "      <td>1034</td>\n",
       "      <td>449</td>\n",
       "      <td>57</td>\n",
       "      <td>22</td>\n",
       "    </tr>\n",
       "    <tr>\n",
       "      <th>7</th>\n",
       "      <td>a2</td>\n",
       "      <td>Adult</td>\n",
       "      <td>Male</td>\n",
       "      <td>564</td>\n",
       "      <td>466</td>\n",
       "      <td>493</td>\n",
       "      <td>0</td>\n",
       "      <td>1230</td>\n",
       "      <td>530</td>\n",
       "      <td>43</td>\n",
       "      <td>49</td>\n",
       "    </tr>\n",
       "    <tr>\n",
       "      <th>8</th>\n",
       "      <td>a3</td>\n",
       "      <td>Adult</td>\n",
       "      <td>Male</td>\n",
       "      <td>383</td>\n",
       "      <td>165</td>\n",
       "      <td>92</td>\n",
       "      <td>0</td>\n",
       "      <td>495</td>\n",
       "      <td>519</td>\n",
       "      <td>14</td>\n",
       "      <td>13</td>\n",
       "    </tr>\n",
       "  </tbody>\n",
       "</table>\n",
       "</div>"
      ],
      "text/plain": [
       "  Sample Condition     Sex  Cardiomyocytes  Endothelial cells   \n",
       "0     f1     Fetal    Male            5475                735  \\\n",
       "1     f2     Fetal    Male            8580                715   \n",
       "2     f3     Fetal  Female            5140               1298   \n",
       "3     y1     Young    Male            1073                511   \n",
       "4     y2     Young  Female            2221                462   \n",
       "5     y3     Young    Male            4456                550   \n",
       "6     a1     Adult    Male            1856                599   \n",
       "7     a2     Adult    Male             564                466   \n",
       "8     a3     Adult    Male             383                165   \n",
       "\n",
       "   Epicardial cells  Erythroid  Fibroblast  Immune cells  Neurons   \n",
       "0               564         43        1029           287      109  \\\n",
       "1               425         49         755           274      130   \n",
       "2               404         31        1201           196      110   \n",
       "3               613          0        1622           337      207   \n",
       "4               280          0        1688           808       71   \n",
       "5               260          0         805           731      133   \n",
       "6               343          0        1034           449       57   \n",
       "7               493          0        1230           530       43   \n",
       "8                92          0         495           519       14   \n",
       "\n",
       "   Smooth muscle cells  \n",
       "0                   54  \n",
       "1                   20  \n",
       "2                  136  \n",
       "3                   59  \n",
       "4                   28  \n",
       "5                   49  \n",
       "6                   22  \n",
       "7                   49  \n",
       "8                   13  "
      ]
     },
     "execution_count": 3,
     "metadata": {},
     "output_type": "execute_result"
    }
   ],
   "source": [
    "heart_counts = pd.read_csv(\"data/heart_counts.tsv\", sep=\"\\t\")\n",
    "heart_counts"
   ]
  },
  {
   "cell_type": "code",
   "execution_count": 4,
   "id": "a0feae8d",
   "metadata": {},
   "outputs": [
    {
     "data": {
      "text/html": [
       "<div>\n",
       "<style scoped>\n",
       "    .dataframe tbody tr th:only-of-type {\n",
       "        vertical-align: middle;\n",
       "    }\n",
       "\n",
       "    .dataframe tbody tr th {\n",
       "        vertical-align: top;\n",
       "    }\n",
       "\n",
       "    .dataframe thead th {\n",
       "        text-align: right;\n",
       "    }\n",
       "</style>\n",
       "<table border=\"1\" class=\"dataframe\">\n",
       "  <thead>\n",
       "    <tr style=\"text-align: right;\">\n",
       "      <th></th>\n",
       "      <th>Sample</th>\n",
       "      <th>Condition</th>\n",
       "      <th>Sex</th>\n",
       "      <th>Celltype</th>\n",
       "    </tr>\n",
       "  </thead>\n",
       "  <tbody>\n",
       "    <tr>\n",
       "      <th>cell_1</th>\n",
       "      <td>f1</td>\n",
       "      <td>Fetal</td>\n",
       "      <td>Male</td>\n",
       "      <td>Cardiomyocytes</td>\n",
       "    </tr>\n",
       "    <tr>\n",
       "      <th>cell_2</th>\n",
       "      <td>f1</td>\n",
       "      <td>Fetal</td>\n",
       "      <td>Male</td>\n",
       "      <td>Cardiomyocytes</td>\n",
       "    </tr>\n",
       "    <tr>\n",
       "      <th>cell_3</th>\n",
       "      <td>f1</td>\n",
       "      <td>Fetal</td>\n",
       "      <td>Male</td>\n",
       "      <td>Cardiomyocytes</td>\n",
       "    </tr>\n",
       "    <tr>\n",
       "      <th>cell_4</th>\n",
       "      <td>f1</td>\n",
       "      <td>Fetal</td>\n",
       "      <td>Male</td>\n",
       "      <td>Cardiomyocytes</td>\n",
       "    </tr>\n",
       "    <tr>\n",
       "      <th>cell_5</th>\n",
       "      <td>f1</td>\n",
       "      <td>Fetal</td>\n",
       "      <td>Male</td>\n",
       "      <td>Cardiomyocytes</td>\n",
       "    </tr>\n",
       "  </tbody>\n",
       "</table>\n",
       "</div>"
      ],
      "text/plain": [
       "       Sample Condition   Sex        Celltype\n",
       "cell_1     f1     Fetal  Male  Cardiomyocytes\n",
       "cell_2     f1     Fetal  Male  Cardiomyocytes\n",
       "cell_3     f1     Fetal  Male  Cardiomyocytes\n",
       "cell_4     f1     Fetal  Male  Cardiomyocytes\n",
       "cell_5     f1     Fetal  Male  Cardiomyocytes"
      ]
     },
     "execution_count": 4,
     "metadata": {},
     "output_type": "execute_result"
    }
   ],
   "source": [
    "heart = convert_counts_to_df(heart_counts, column_name=\"Celltype\")\n",
    "heart.head()"
   ]
  },
  {
   "cell_type": "markdown",
   "id": "7ada4c83",
   "metadata": {},
   "source": [
    "-----------"
   ]
  },
  {
   "cell_type": "markdown",
   "id": "118a24f0",
   "metadata": {},
   "source": [
    "## Run Scanpro"
   ]
  },
  {
   "cell_type": "markdown",
   "id": "086705bf",
   "metadata": {},
   "source": [
    "### With replicates"
   ]
  },
  {
   "cell_type": "code",
   "execution_count": 5,
   "id": "a6650652",
   "metadata": {},
   "outputs": [
    {
     "name": "stdout",
     "output_type": "stream",
     "text": [
      "[INFO] There are more than 2 conditions. ANOVA will be performed...\n",
      "[INFO] Done!\n"
     ]
    },
    {
     "data": {
      "text/html": [
       "<div>\n",
       "<style scoped>\n",
       "    .dataframe tbody tr th:only-of-type {\n",
       "        vertical-align: middle;\n",
       "    }\n",
       "\n",
       "    .dataframe tbody tr th {\n",
       "        vertical-align: top;\n",
       "    }\n",
       "\n",
       "    .dataframe thead th {\n",
       "        text-align: right;\n",
       "    }\n",
       "</style>\n",
       "<table border=\"1\" class=\"dataframe\">\n",
       "  <thead>\n",
       "    <tr style=\"text-align: right;\">\n",
       "      <th></th>\n",
       "      <th>baseline_props</th>\n",
       "      <th>mean_props_Fetal</th>\n",
       "      <th>mean_props_Young</th>\n",
       "      <th>mean_props_Adult</th>\n",
       "      <th>f_statistics</th>\n",
       "      <th>p_values</th>\n",
       "      <th>adjusted_p_values</th>\n",
       "    </tr>\n",
       "    <tr>\n",
       "      <th>clusters</th>\n",
       "      <th></th>\n",
       "      <th></th>\n",
       "      <th></th>\n",
       "      <th></th>\n",
       "      <th></th>\n",
       "      <th></th>\n",
       "      <th></th>\n",
       "    </tr>\n",
       "  </thead>\n",
       "  <tbody>\n",
       "    <tr>\n",
       "      <th>Cardiomyocytes</th>\n",
       "      <td>0.549464</td>\n",
       "      <td>0.682410</td>\n",
       "      <td>0.426761</td>\n",
       "      <td>0.273547</td>\n",
       "      <td>8.998537</td>\n",
       "      <td>1.235904e-04</td>\n",
       "      <td>3.295744e-04</td>\n",
       "    </tr>\n",
       "    <tr>\n",
       "      <th>Endothelial cells</th>\n",
       "      <td>0.101607</td>\n",
       "      <td>0.102108</td>\n",
       "      <td>0.092478</td>\n",
       "      <td>0.124538</td>\n",
       "      <td>0.337551</td>\n",
       "      <td>7.135154e-01</td>\n",
       "      <td>7.135154e-01</td>\n",
       "    </tr>\n",
       "    <tr>\n",
       "      <th>Epicardial cells</th>\n",
       "      <td>0.064167</td>\n",
       "      <td>0.051415</td>\n",
       "      <td>0.075410</td>\n",
       "      <td>0.093158</td>\n",
       "      <td>0.901016</td>\n",
       "      <td>4.061567e-01</td>\n",
       "      <td>5.415422e-01</td>\n",
       "    </tr>\n",
       "    <tr>\n",
       "      <th>Erythroid</th>\n",
       "      <td>0.002272</td>\n",
       "      <td>0.004433</td>\n",
       "      <td>0.000000</td>\n",
       "      <td>0.000000</td>\n",
       "      <td>197.947461</td>\n",
       "      <td>1.110223e-16</td>\n",
       "      <td>8.881784e-16</td>\n",
       "    </tr>\n",
       "    <tr>\n",
       "      <th>Fibroblast</th>\n",
       "      <td>0.182102</td>\n",
       "      <td>0.111342</td>\n",
       "      <td>0.261924</td>\n",
       "      <td>0.298689</td>\n",
       "      <td>4.602496</td>\n",
       "      <td>1.002678e-02</td>\n",
       "      <td>2.005356e-02</td>\n",
       "    </tr>\n",
       "    <tr>\n",
       "      <th>Immune cells</th>\n",
       "      <td>0.076302</td>\n",
       "      <td>0.027546</td>\n",
       "      <td>0.108751</td>\n",
       "      <td>0.189588</td>\n",
       "      <td>11.508649</td>\n",
       "      <td>1.004286e-05</td>\n",
       "      <td>4.017142e-05</td>\n",
       "    </tr>\n",
       "    <tr>\n",
       "      <th>Neurons</th>\n",
       "      <td>0.016143</td>\n",
       "      <td>0.012643</td>\n",
       "      <td>0.026210</td>\n",
       "      <td>0.011381</td>\n",
       "      <td>1.545816</td>\n",
       "      <td>2.131379e-01</td>\n",
       "      <td>3.410207e-01</td>\n",
       "    </tr>\n",
       "    <tr>\n",
       "      <th>Smooth muscle cells</th>\n",
       "      <td>0.007942</td>\n",
       "      <td>0.008102</td>\n",
       "      <td>0.008465</td>\n",
       "      <td>0.009099</td>\n",
       "      <td>0.403828</td>\n",
       "      <td>6.677589e-01</td>\n",
       "      <td>7.135154e-01</td>\n",
       "    </tr>\n",
       "  </tbody>\n",
       "</table>\n",
       "</div>"
      ],
      "text/plain": [
       "                     baseline_props  mean_props_Fetal  mean_props_Young   \n",
       "clusters                                                                  \n",
       "Cardiomyocytes             0.549464          0.682410          0.426761  \\\n",
       "Endothelial cells          0.101607          0.102108          0.092478   \n",
       "Epicardial cells           0.064167          0.051415          0.075410   \n",
       "Erythroid                  0.002272          0.004433          0.000000   \n",
       "Fibroblast                 0.182102          0.111342          0.261924   \n",
       "Immune cells               0.076302          0.027546          0.108751   \n",
       "Neurons                    0.016143          0.012643          0.026210   \n",
       "Smooth muscle cells        0.007942          0.008102          0.008465   \n",
       "\n",
       "                     mean_props_Adult  f_statistics      p_values   \n",
       "clusters                                                            \n",
       "Cardiomyocytes               0.273547      8.998537  1.235904e-04  \\\n",
       "Endothelial cells            0.124538      0.337551  7.135154e-01   \n",
       "Epicardial cells             0.093158      0.901016  4.061567e-01   \n",
       "Erythroid                    0.000000    197.947461  1.110223e-16   \n",
       "Fibroblast                   0.298689      4.602496  1.002678e-02   \n",
       "Immune cells                 0.189588     11.508649  1.004286e-05   \n",
       "Neurons                      0.011381      1.545816  2.131379e-01   \n",
       "Smooth muscle cells          0.009099      0.403828  6.677589e-01   \n",
       "\n",
       "                     adjusted_p_values  \n",
       "clusters                                \n",
       "Cardiomyocytes            3.295744e-04  \n",
       "Endothelial cells         7.135154e-01  \n",
       "Epicardial cells          5.415422e-01  \n",
       "Erythroid                 8.881784e-16  \n",
       "Fibroblast                2.005356e-02  \n",
       "Immune cells              4.017142e-05  \n",
       "Neurons                   3.410207e-01  \n",
       "Smooth muscle cells       7.135154e-01  "
      ]
     },
     "execution_count": 5,
     "metadata": {},
     "output_type": "execute_result"
    }
   ],
   "source": [
    "scanpro_out = scanpro(heart, clusters_col='Celltype', conds_col='Condition', samples_col='Sample')\n",
    "scanpro_out.results.to_csv(\"results/heart_scanpro_rep_logit.tsv\", sep=\"\\t\")\n",
    "scanpro_out.results"
   ]
  },
  {
   "cell_type": "code",
   "execution_count": 6,
   "id": "a0ec329d",
   "metadata": {},
   "outputs": [
    {
     "name": "stdout",
     "output_type": "stream",
     "text": [
      "[INFO] There are more than 2 conditions. ANOVA will be performed...\n",
      "[INFO] Done!\n"
     ]
    },
    {
     "data": {
      "text/html": [
       "<div>\n",
       "<style scoped>\n",
       "    .dataframe tbody tr th:only-of-type {\n",
       "        vertical-align: middle;\n",
       "    }\n",
       "\n",
       "    .dataframe tbody tr th {\n",
       "        vertical-align: top;\n",
       "    }\n",
       "\n",
       "    .dataframe thead th {\n",
       "        text-align: right;\n",
       "    }\n",
       "</style>\n",
       "<table border=\"1\" class=\"dataframe\">\n",
       "  <thead>\n",
       "    <tr style=\"text-align: right;\">\n",
       "      <th></th>\n",
       "      <th>baseline_props</th>\n",
       "      <th>mean_props_Fetal</th>\n",
       "      <th>mean_props_Young</th>\n",
       "      <th>mean_props_Adult</th>\n",
       "      <th>f_statistics</th>\n",
       "      <th>p_values</th>\n",
       "      <th>adjusted_p_values</th>\n",
       "    </tr>\n",
       "    <tr>\n",
       "      <th>clusters</th>\n",
       "      <th></th>\n",
       "      <th></th>\n",
       "      <th></th>\n",
       "      <th></th>\n",
       "      <th></th>\n",
       "      <th></th>\n",
       "      <th></th>\n",
       "    </tr>\n",
       "  </thead>\n",
       "  <tbody>\n",
       "    <tr>\n",
       "      <th>Cardiomyocytes</th>\n",
       "      <td>0.549464</td>\n",
       "      <td>0.682410</td>\n",
       "      <td>0.426761</td>\n",
       "      <td>0.273547</td>\n",
       "      <td>6.555778</td>\n",
       "      <td>0.020909</td>\n",
       "      <td>0.055756</td>\n",
       "    </tr>\n",
       "    <tr>\n",
       "      <th>Endothelial cells</th>\n",
       "      <td>0.101607</td>\n",
       "      <td>0.102108</td>\n",
       "      <td>0.092478</td>\n",
       "      <td>0.124538</td>\n",
       "      <td>0.942304</td>\n",
       "      <td>0.429422</td>\n",
       "      <td>0.521820</td>\n",
       "    </tr>\n",
       "    <tr>\n",
       "      <th>Epicardial cells</th>\n",
       "      <td>0.064167</td>\n",
       "      <td>0.051415</td>\n",
       "      <td>0.075410</td>\n",
       "      <td>0.093158</td>\n",
       "      <td>0.866942</td>\n",
       "      <td>0.456592</td>\n",
       "      <td>0.521820</td>\n",
       "    </tr>\n",
       "    <tr>\n",
       "      <th>Erythroid</th>\n",
       "      <td>0.002272</td>\n",
       "      <td>0.004433</td>\n",
       "      <td>0.000000</td>\n",
       "      <td>0.000000</td>\n",
       "      <td>41.640675</td>\n",
       "      <td>0.000063</td>\n",
       "      <td>0.000501</td>\n",
       "    </tr>\n",
       "    <tr>\n",
       "      <th>Fibroblast</th>\n",
       "      <td>0.182102</td>\n",
       "      <td>0.111342</td>\n",
       "      <td>0.261924</td>\n",
       "      <td>0.298689</td>\n",
       "      <td>4.822621</td>\n",
       "      <td>0.042666</td>\n",
       "      <td>0.085332</td>\n",
       "    </tr>\n",
       "    <tr>\n",
       "      <th>Immune cells</th>\n",
       "      <td>0.076302</td>\n",
       "      <td>0.027546</td>\n",
       "      <td>0.108751</td>\n",
       "      <td>0.189588</td>\n",
       "      <td>9.178229</td>\n",
       "      <td>0.008657</td>\n",
       "      <td>0.034630</td>\n",
       "    </tr>\n",
       "    <tr>\n",
       "      <th>Neurons</th>\n",
       "      <td>0.016143</td>\n",
       "      <td>0.012643</td>\n",
       "      <td>0.026210</td>\n",
       "      <td>0.011381</td>\n",
       "      <td>2.240940</td>\n",
       "      <td>0.169327</td>\n",
       "      <td>0.270924</td>\n",
       "    </tr>\n",
       "    <tr>\n",
       "      <th>Smooth muscle cells</th>\n",
       "      <td>0.007942</td>\n",
       "      <td>0.008102</td>\n",
       "      <td>0.008465</td>\n",
       "      <td>0.009099</td>\n",
       "      <td>0.082549</td>\n",
       "      <td>0.921548</td>\n",
       "      <td>0.921548</td>\n",
       "    </tr>\n",
       "  </tbody>\n",
       "</table>\n",
       "</div>"
      ],
      "text/plain": [
       "                     baseline_props  mean_props_Fetal  mean_props_Young   \n",
       "clusters                                                                  \n",
       "Cardiomyocytes             0.549464          0.682410          0.426761  \\\n",
       "Endothelial cells          0.101607          0.102108          0.092478   \n",
       "Epicardial cells           0.064167          0.051415          0.075410   \n",
       "Erythroid                  0.002272          0.004433          0.000000   \n",
       "Fibroblast                 0.182102          0.111342          0.261924   \n",
       "Immune cells               0.076302          0.027546          0.108751   \n",
       "Neurons                    0.016143          0.012643          0.026210   \n",
       "Smooth muscle cells        0.007942          0.008102          0.008465   \n",
       "\n",
       "                     mean_props_Adult  f_statistics  p_values   \n",
       "clusters                                                        \n",
       "Cardiomyocytes               0.273547      6.555778  0.020909  \\\n",
       "Endothelial cells            0.124538      0.942304  0.429422   \n",
       "Epicardial cells             0.093158      0.866942  0.456592   \n",
       "Erythroid                    0.000000     41.640675  0.000063   \n",
       "Fibroblast                   0.298689      4.822621  0.042666   \n",
       "Immune cells                 0.189588      9.178229  0.008657   \n",
       "Neurons                      0.011381      2.240940  0.169327   \n",
       "Smooth muscle cells          0.009099      0.082549  0.921548   \n",
       "\n",
       "                     adjusted_p_values  \n",
       "clusters                                \n",
       "Cardiomyocytes                0.055756  \n",
       "Endothelial cells             0.521820  \n",
       "Epicardial cells              0.521820  \n",
       "Erythroid                     0.000501  \n",
       "Fibroblast                    0.085332  \n",
       "Immune cells                  0.034630  \n",
       "Neurons                       0.270924  \n",
       "Smooth muscle cells           0.921548  "
      ]
     },
     "execution_count": 6,
     "metadata": {},
     "output_type": "execute_result"
    }
   ],
   "source": [
    "scanpro_out = scanpro(heart, clusters_col='Celltype', conds_col='Condition', samples_col='Sample', \n",
    "                      transform=\"arcsin\")\n",
    "scanpro_out.results.to_csv(\"results/heart_scanpro_rep_arcsin.tsv\", sep=\"\\t\")\n",
    "scanpro_out.results"
   ]
  },
  {
   "cell_type": "markdown",
   "id": "5f71a81c",
   "metadata": {},
   "source": [
    "#### With covariate"
   ]
  },
  {
   "cell_type": "code",
   "execution_count": 7,
   "id": "0c1b6912",
   "metadata": {},
   "outputs": [
    {
     "name": "stdout",
     "output_type": "stream",
     "text": [
      "[INFO] There are more than 2 conditions. ANOVA will be performed...\n",
      "[INFO] Done!\n"
     ]
    },
    {
     "data": {
      "text/html": [
       "<div>\n",
       "<style scoped>\n",
       "    .dataframe tbody tr th:only-of-type {\n",
       "        vertical-align: middle;\n",
       "    }\n",
       "\n",
       "    .dataframe tbody tr th {\n",
       "        vertical-align: top;\n",
       "    }\n",
       "\n",
       "    .dataframe thead th {\n",
       "        text-align: right;\n",
       "    }\n",
       "</style>\n",
       "<table border=\"1\" class=\"dataframe\">\n",
       "  <thead>\n",
       "    <tr style=\"text-align: right;\">\n",
       "      <th></th>\n",
       "      <th>baseline_props</th>\n",
       "      <th>mean_props_Fetal</th>\n",
       "      <th>mean_props_Young</th>\n",
       "      <th>mean_props_Adult</th>\n",
       "      <th>f_statistics</th>\n",
       "      <th>p_values</th>\n",
       "      <th>adjusted_p_values</th>\n",
       "    </tr>\n",
       "    <tr>\n",
       "      <th>clusters</th>\n",
       "      <th></th>\n",
       "      <th></th>\n",
       "      <th></th>\n",
       "      <th></th>\n",
       "      <th></th>\n",
       "      <th></th>\n",
       "      <th></th>\n",
       "    </tr>\n",
       "  </thead>\n",
       "  <tbody>\n",
       "    <tr>\n",
       "      <th>Cardiomyocytes</th>\n",
       "      <td>0.549464</td>\n",
       "      <td>0.682410</td>\n",
       "      <td>0.426761</td>\n",
       "      <td>0.273547</td>\n",
       "      <td>8.304494</td>\n",
       "      <td>2.474025e-04</td>\n",
       "      <td>6.597399e-04</td>\n",
       "    </tr>\n",
       "    <tr>\n",
       "      <th>Endothelial cells</th>\n",
       "      <td>0.101607</td>\n",
       "      <td>0.102108</td>\n",
       "      <td>0.092478</td>\n",
       "      <td>0.124538</td>\n",
       "      <td>0.471451</td>\n",
       "      <td>6.240957e-01</td>\n",
       "      <td>6.240957e-01</td>\n",
       "    </tr>\n",
       "    <tr>\n",
       "      <th>Epicardial cells</th>\n",
       "      <td>0.064167</td>\n",
       "      <td>0.051415</td>\n",
       "      <td>0.075410</td>\n",
       "      <td>0.093158</td>\n",
       "      <td>0.549832</td>\n",
       "      <td>5.770469e-01</td>\n",
       "      <td>6.240957e-01</td>\n",
       "    </tr>\n",
       "    <tr>\n",
       "      <th>Erythroid</th>\n",
       "      <td>0.002272</td>\n",
       "      <td>0.004433</td>\n",
       "      <td>0.000000</td>\n",
       "      <td>0.000000</td>\n",
       "      <td>176.878478</td>\n",
       "      <td>1.110223e-16</td>\n",
       "      <td>8.881784e-16</td>\n",
       "    </tr>\n",
       "    <tr>\n",
       "      <th>Fibroblast</th>\n",
       "      <td>0.182102</td>\n",
       "      <td>0.111342</td>\n",
       "      <td>0.261924</td>\n",
       "      <td>0.298689</td>\n",
       "      <td>4.660385</td>\n",
       "      <td>9.462816e-03</td>\n",
       "      <td>1.892563e-02</td>\n",
       "    </tr>\n",
       "    <tr>\n",
       "      <th>Immune cells</th>\n",
       "      <td>0.076302</td>\n",
       "      <td>0.027546</td>\n",
       "      <td>0.108751</td>\n",
       "      <td>0.189588</td>\n",
       "      <td>10.094696</td>\n",
       "      <td>4.129800e-05</td>\n",
       "      <td>1.651920e-04</td>\n",
       "    </tr>\n",
       "    <tr>\n",
       "      <th>Neurons</th>\n",
       "      <td>0.016143</td>\n",
       "      <td>0.012643</td>\n",
       "      <td>0.026210</td>\n",
       "      <td>0.011381</td>\n",
       "      <td>1.707894</td>\n",
       "      <td>1.812470e-01</td>\n",
       "      <td>2.899952e-01</td>\n",
       "    </tr>\n",
       "    <tr>\n",
       "      <th>Smooth muscle cells</th>\n",
       "      <td>0.007942</td>\n",
       "      <td>0.008102</td>\n",
       "      <td>0.008465</td>\n",
       "      <td>0.009099</td>\n",
       "      <td>0.582384</td>\n",
       "      <td>5.585651e-01</td>\n",
       "      <td>6.240957e-01</td>\n",
       "    </tr>\n",
       "  </tbody>\n",
       "</table>\n",
       "</div>"
      ],
      "text/plain": [
       "                     baseline_props  mean_props_Fetal  mean_props_Young   \n",
       "clusters                                                                  \n",
       "Cardiomyocytes             0.549464          0.682410          0.426761  \\\n",
       "Endothelial cells          0.101607          0.102108          0.092478   \n",
       "Epicardial cells           0.064167          0.051415          0.075410   \n",
       "Erythroid                  0.002272          0.004433          0.000000   \n",
       "Fibroblast                 0.182102          0.111342          0.261924   \n",
       "Immune cells               0.076302          0.027546          0.108751   \n",
       "Neurons                    0.016143          0.012643          0.026210   \n",
       "Smooth muscle cells        0.007942          0.008102          0.008465   \n",
       "\n",
       "                     mean_props_Adult  f_statistics      p_values   \n",
       "clusters                                                            \n",
       "Cardiomyocytes               0.273547      8.304494  2.474025e-04  \\\n",
       "Endothelial cells            0.124538      0.471451  6.240957e-01   \n",
       "Epicardial cells             0.093158      0.549832  5.770469e-01   \n",
       "Erythroid                    0.000000    176.878478  1.110223e-16   \n",
       "Fibroblast                   0.298689      4.660385  9.462816e-03   \n",
       "Immune cells                 0.189588     10.094696  4.129800e-05   \n",
       "Neurons                      0.011381      1.707894  1.812470e-01   \n",
       "Smooth muscle cells          0.009099      0.582384  5.585651e-01   \n",
       "\n",
       "                     adjusted_p_values  \n",
       "clusters                                \n",
       "Cardiomyocytes            6.597399e-04  \n",
       "Endothelial cells         6.240957e-01  \n",
       "Epicardial cells          6.240957e-01  \n",
       "Erythroid                 8.881784e-16  \n",
       "Fibroblast                1.892563e-02  \n",
       "Immune cells              1.651920e-04  \n",
       "Neurons                   2.899952e-01  \n",
       "Smooth muscle cells       6.240957e-01  "
      ]
     },
     "execution_count": 7,
     "metadata": {},
     "output_type": "execute_result"
    }
   ],
   "source": [
    "scanpro_out_cofactor = scanpro(heart, clusters_col='Celltype', conds_col='Condition', samples_col='Sample',\n",
    "                               covariates=\"Sex\")\n",
    "scanpro_out_cofactor.results"
   ]
  },
  {
   "cell_type": "markdown",
   "id": "4cb89911",
   "metadata": {},
   "source": [
    "### Scanpro without replicates"
   ]
  },
  {
   "cell_type": "code",
   "execution_count": 8,
   "id": "a5cc02df",
   "metadata": {},
   "outputs": [
    {
     "name": "stdout",
     "output_type": "stream",
     "text": [
      "[INFO] Your data doesn't have replicates! Artificial replicates will be simulated to run scanpro.\n",
      "[WARNING] Consider setting transform='arcsin', as this produces more accurate results for simulated data.\n",
      "[INFO] Simulation may take some minutes...\n",
      "[INFO] Generating 8 replicates and running 100 simulations...\n",
      "[INFO] Finished 100 simulations in 12.37 seconds\n"
     ]
    },
    {
     "data": {
      "text/html": [
       "<div>\n",
       "<style scoped>\n",
       "    .dataframe tbody tr th:only-of-type {\n",
       "        vertical-align: middle;\n",
       "    }\n",
       "\n",
       "    .dataframe tbody tr th {\n",
       "        vertical-align: top;\n",
       "    }\n",
       "\n",
       "    .dataframe thead th {\n",
       "        text-align: right;\n",
       "    }\n",
       "</style>\n",
       "<table border=\"1\" class=\"dataframe\">\n",
       "  <thead>\n",
       "    <tr style=\"text-align: right;\">\n",
       "      <th></th>\n",
       "      <th>baseline_props</th>\n",
       "      <th>mean_props_Fetal</th>\n",
       "      <th>mean_props_Young</th>\n",
       "      <th>mean_props_Adult</th>\n",
       "      <th>p_values</th>\n",
       "    </tr>\n",
       "    <tr>\n",
       "      <th>clusters</th>\n",
       "      <th></th>\n",
       "      <th></th>\n",
       "      <th></th>\n",
       "      <th></th>\n",
       "      <th></th>\n",
       "    </tr>\n",
       "  </thead>\n",
       "  <tbody>\n",
       "    <tr>\n",
       "      <th>Cardiomyocytes</th>\n",
       "      <td>0.549464</td>\n",
       "      <td>0.692790</td>\n",
       "      <td>0.455183</td>\n",
       "      <td>0.290838</td>\n",
       "      <td>0.003070</td>\n",
       "    </tr>\n",
       "    <tr>\n",
       "      <th>Endothelial cells</th>\n",
       "      <td>0.101607</td>\n",
       "      <td>0.100384</td>\n",
       "      <td>0.082951</td>\n",
       "      <td>0.129832</td>\n",
       "      <td>0.347790</td>\n",
       "    </tr>\n",
       "    <tr>\n",
       "      <th>Epicardial cells</th>\n",
       "      <td>0.064167</td>\n",
       "      <td>0.046936</td>\n",
       "      <td>0.064376</td>\n",
       "      <td>0.097898</td>\n",
       "      <td>0.231036</td>\n",
       "    </tr>\n",
       "    <tr>\n",
       "      <th>Erythroid</th>\n",
       "      <td>0.002272</td>\n",
       "      <td>0.003353</td>\n",
       "      <td>0.000000</td>\n",
       "      <td>0.000000</td>\n",
       "      <td>0.003267</td>\n",
       "    </tr>\n",
       "    <tr>\n",
       "      <th>Fibroblast</th>\n",
       "      <td>0.182102</td>\n",
       "      <td>0.098264</td>\n",
       "      <td>0.235793</td>\n",
       "      <td>0.289614</td>\n",
       "      <td>0.027307</td>\n",
       "    </tr>\n",
       "    <tr>\n",
       "      <th>Immune cells</th>\n",
       "      <td>0.076302</td>\n",
       "      <td>0.023209</td>\n",
       "      <td>0.104477</td>\n",
       "      <td>0.152232</td>\n",
       "      <td>0.009750</td>\n",
       "    </tr>\n",
       "    <tr>\n",
       "      <th>Neurons</th>\n",
       "      <td>0.016143</td>\n",
       "      <td>0.010659</td>\n",
       "      <td>0.022013</td>\n",
       "      <td>0.009810</td>\n",
       "      <td>0.509621</td>\n",
       "    </tr>\n",
       "    <tr>\n",
       "      <th>Smooth muscle cells</th>\n",
       "      <td>0.007942</td>\n",
       "      <td>0.006050</td>\n",
       "      <td>0.006348</td>\n",
       "      <td>0.008041</td>\n",
       "      <td>0.710827</td>\n",
       "    </tr>\n",
       "  </tbody>\n",
       "</table>\n",
       "</div>"
      ],
      "text/plain": [
       "                     baseline_props  mean_props_Fetal  mean_props_Young   \n",
       "clusters                                                                  \n",
       "Cardiomyocytes             0.549464          0.692790          0.455183  \\\n",
       "Endothelial cells          0.101607          0.100384          0.082951   \n",
       "Epicardial cells           0.064167          0.046936          0.064376   \n",
       "Erythroid                  0.002272          0.003353          0.000000   \n",
       "Fibroblast                 0.182102          0.098264          0.235793   \n",
       "Immune cells               0.076302          0.023209          0.104477   \n",
       "Neurons                    0.016143          0.010659          0.022013   \n",
       "Smooth muscle cells        0.007942          0.006050          0.006348   \n",
       "\n",
       "                     mean_props_Adult  p_values  \n",
       "clusters                                         \n",
       "Cardiomyocytes               0.290838  0.003070  \n",
       "Endothelial cells            0.129832  0.347790  \n",
       "Epicardial cells             0.097898  0.231036  \n",
       "Erythroid                    0.000000  0.003267  \n",
       "Fibroblast                   0.289614  0.027307  \n",
       "Immune cells                 0.152232  0.009750  \n",
       "Neurons                      0.009810  0.509621  \n",
       "Smooth muscle cells          0.008041  0.710827  "
      ]
     },
     "execution_count": 8,
     "metadata": {},
     "output_type": "execute_result"
    }
   ],
   "source": [
    "scanpro_out_norep = scanpro(heart, clusters_col='Celltype', conds_col='Condition')\n",
    "scanpro_out_norep.results.to_csv(\"results/heart_scanpro_norep_logit.tsv\", sep=\"\\t\")\n",
    "scanpro_out_norep.results"
   ]
  },
  {
   "cell_type": "code",
   "execution_count": 9,
   "id": "84d901a8",
   "metadata": {},
   "outputs": [
    {
     "data": {
      "text/html": [
       "<div>\n",
       "<style scoped>\n",
       "    .dataframe tbody tr th:only-of-type {\n",
       "        vertical-align: middle;\n",
       "    }\n",
       "\n",
       "    .dataframe tbody tr th {\n",
       "        vertical-align: top;\n",
       "    }\n",
       "\n",
       "    .dataframe thead th {\n",
       "        text-align: right;\n",
       "    }\n",
       "</style>\n",
       "<table border=\"1\" class=\"dataframe\">\n",
       "  <thead>\n",
       "    <tr style=\"text-align: right;\">\n",
       "      <th></th>\n",
       "      <th>Fetal</th>\n",
       "      <th>Young</th>\n",
       "      <th>Adult</th>\n",
       "    </tr>\n",
       "    <tr>\n",
       "      <th>Condition</th>\n",
       "      <th></th>\n",
       "      <th></th>\n",
       "      <th></th>\n",
       "    </tr>\n",
       "  </thead>\n",
       "  <tbody>\n",
       "    <tr>\n",
       "      <th>Fetal</th>\n",
       "      <td>1.0</td>\n",
       "      <td>0.0</td>\n",
       "      <td>0.0</td>\n",
       "    </tr>\n",
       "    <tr>\n",
       "      <th>Young</th>\n",
       "      <td>0.0</td>\n",
       "      <td>1.0</td>\n",
       "      <td>0.0</td>\n",
       "    </tr>\n",
       "    <tr>\n",
       "      <th>Adult</th>\n",
       "      <td>0.0</td>\n",
       "      <td>0.0</td>\n",
       "      <td>1.0</td>\n",
       "    </tr>\n",
       "  </tbody>\n",
       "</table>\n",
       "</div>"
      ],
      "text/plain": [
       "           Fetal  Young  Adult\n",
       "Condition                     \n",
       "Fetal        1.0    0.0    0.0\n",
       "Young        0.0    1.0    0.0\n",
       "Adult        0.0    0.0    1.0"
      ]
     },
     "execution_count": 9,
     "metadata": {},
     "output_type": "execute_result"
    }
   ],
   "source": [
    "scanpro_out_norep.design"
   ]
  },
  {
   "cell_type": "code",
   "execution_count": 10,
   "id": "b1ef349d",
   "metadata": {},
   "outputs": [
    {
     "name": "stdout",
     "output_type": "stream",
     "text": [
      "[INFO] Your data doesn't have replicates! Artificial replicates will be simulated to run scanpro.\n",
      "[INFO] Simulation may take some minutes...\n",
      "[INFO] Generating 8 replicates and running 100 simulations...\n",
      "[INFO] Finished 100 simulations in 12.26 seconds\n"
     ]
    },
    {
     "data": {
      "text/html": [
       "<div>\n",
       "<style scoped>\n",
       "    .dataframe tbody tr th:only-of-type {\n",
       "        vertical-align: middle;\n",
       "    }\n",
       "\n",
       "    .dataframe tbody tr th {\n",
       "        vertical-align: top;\n",
       "    }\n",
       "\n",
       "    .dataframe thead th {\n",
       "        text-align: right;\n",
       "    }\n",
       "</style>\n",
       "<table border=\"1\" class=\"dataframe\">\n",
       "  <thead>\n",
       "    <tr style=\"text-align: right;\">\n",
       "      <th></th>\n",
       "      <th>baseline_props</th>\n",
       "      <th>mean_props_Fetal</th>\n",
       "      <th>mean_props_Young</th>\n",
       "      <th>mean_props_Adult</th>\n",
       "      <th>p_values</th>\n",
       "    </tr>\n",
       "    <tr>\n",
       "      <th>clusters</th>\n",
       "      <th></th>\n",
       "      <th></th>\n",
       "      <th></th>\n",
       "      <th></th>\n",
       "      <th></th>\n",
       "    </tr>\n",
       "  </thead>\n",
       "  <tbody>\n",
       "    <tr>\n",
       "      <th>Cardiomyocytes</th>\n",
       "      <td>0.549464</td>\n",
       "      <td>0.692790</td>\n",
       "      <td>0.455183</td>\n",
       "      <td>0.290838</td>\n",
       "      <td>0.000040</td>\n",
       "    </tr>\n",
       "    <tr>\n",
       "      <th>Endothelial cells</th>\n",
       "      <td>0.101607</td>\n",
       "      <td>0.100384</td>\n",
       "      <td>0.082951</td>\n",
       "      <td>0.129832</td>\n",
       "      <td>0.243245</td>\n",
       "    </tr>\n",
       "    <tr>\n",
       "      <th>Epicardial cells</th>\n",
       "      <td>0.064167</td>\n",
       "      <td>0.046936</td>\n",
       "      <td>0.064376</td>\n",
       "      <td>0.097898</td>\n",
       "      <td>0.127428</td>\n",
       "    </tr>\n",
       "    <tr>\n",
       "      <th>Erythroid</th>\n",
       "      <td>0.002272</td>\n",
       "      <td>0.003353</td>\n",
       "      <td>0.000000</td>\n",
       "      <td>0.000000</td>\n",
       "      <td>0.026868</td>\n",
       "    </tr>\n",
       "    <tr>\n",
       "      <th>Fibroblast</th>\n",
       "      <td>0.182102</td>\n",
       "      <td>0.098264</td>\n",
       "      <td>0.235793</td>\n",
       "      <td>0.289614</td>\n",
       "      <td>0.002783</td>\n",
       "    </tr>\n",
       "    <tr>\n",
       "      <th>Immune cells</th>\n",
       "      <td>0.076302</td>\n",
       "      <td>0.023209</td>\n",
       "      <td>0.104477</td>\n",
       "      <td>0.152232</td>\n",
       "      <td>0.000752</td>\n",
       "    </tr>\n",
       "    <tr>\n",
       "      <th>Neurons</th>\n",
       "      <td>0.016143</td>\n",
       "      <td>0.010659</td>\n",
       "      <td>0.022013</td>\n",
       "      <td>0.009810</td>\n",
       "      <td>0.334487</td>\n",
       "    </tr>\n",
       "    <tr>\n",
       "      <th>Smooth muscle cells</th>\n",
       "      <td>0.007942</td>\n",
       "      <td>0.006050</td>\n",
       "      <td>0.006348</td>\n",
       "      <td>0.008041</td>\n",
       "      <td>0.631939</td>\n",
       "    </tr>\n",
       "  </tbody>\n",
       "</table>\n",
       "</div>"
      ],
      "text/plain": [
       "                     baseline_props  mean_props_Fetal  mean_props_Young   \n",
       "clusters                                                                  \n",
       "Cardiomyocytes             0.549464          0.692790          0.455183  \\\n",
       "Endothelial cells          0.101607          0.100384          0.082951   \n",
       "Epicardial cells           0.064167          0.046936          0.064376   \n",
       "Erythroid                  0.002272          0.003353          0.000000   \n",
       "Fibroblast                 0.182102          0.098264          0.235793   \n",
       "Immune cells               0.076302          0.023209          0.104477   \n",
       "Neurons                    0.016143          0.010659          0.022013   \n",
       "Smooth muscle cells        0.007942          0.006050          0.006348   \n",
       "\n",
       "                     mean_props_Adult  p_values  \n",
       "clusters                                         \n",
       "Cardiomyocytes               0.290838  0.000040  \n",
       "Endothelial cells            0.129832  0.243245  \n",
       "Epicardial cells             0.097898  0.127428  \n",
       "Erythroid                    0.000000  0.026868  \n",
       "Fibroblast                   0.289614  0.002783  \n",
       "Immune cells                 0.152232  0.000752  \n",
       "Neurons                      0.009810  0.334487  \n",
       "Smooth muscle cells          0.008041  0.631939  "
      ]
     },
     "execution_count": 10,
     "metadata": {},
     "output_type": "execute_result"
    }
   ],
   "source": [
    "scanpro_out_norep = scanpro(heart, clusters_col='Celltype', conds_col='Condition', transform=\"arcsin\")\n",
    "scanpro_out_norep.results.to_csv(\"results/heart_scanpro_norep_arcsin.tsv\", sep=\"\\t\")\n",
    "scanpro_out_norep.results"
   ]
  },
  {
   "cell_type": "markdown",
   "id": "8eee1e6c",
   "metadata": {},
   "source": [
    "### Plots"
   ]
  },
  {
   "cell_type": "code",
   "execution_count": 11,
   "id": "f3fc50fd",
   "metadata": {
    "scrolled": true
   },
   "outputs": [
    {
     "data": {
      "image/png": "[encoded data removed]",
      "text/plain": [
       "<Figure size 1200x400 with 4 Axes>"
      ]
     },
     "metadata": {},
     "output_type": "display_data"
    }
   ],
   "source": [
    "# original samples\n",
    "scanpro_out.plot(n_columns=4, clusters=['Cardiomyocytes','Endothelial cells','Epicardial cells','Erythroid'],\n",
    "                 save=f'{FIG_PATH}/heart_stripplot.pdf')"
   ]
  },
  {
   "cell_type": "code",
   "execution_count": 12,
   "id": "5c8a40fb",
   "metadata": {},
   "outputs": [
    {
     "data": {
      "image/png": "[encoded data removed]",
      "text/plain": [
       "<Figure size 1200x400 with 4 Axes>"
      ]
     },
     "metadata": {},
     "output_type": "display_data"
    }
   ],
   "source": [
    "scanpro_out.plot(kind='boxplot', n_columns=4, clusters=['Cardiomyocytes','Endothelial cells',\n",
    "                                                        'Epicardial cells','Erythroid'],\n",
    "                 save=f'{FIG_PATH}/heart_boxplot.pdf')"
   ]
  },
  {
   "cell_type": "code",
   "execution_count": 13,
   "id": "c3132315",
   "metadata": {},
   "outputs": [
    {
     "data": {
      "image/png": "[encoded data removed]",
      "text/plain": [
       "<Figure size 640x480 with 1 Axes>"
      ]
     },
     "metadata": {},
     "output_type": "display_data"
    }
   ],
   "source": [
    "scanpro_out.plot_samples(save=f\"{FIG_PATH}/heart_sample_barplot.pdf\")"
   ]
  },
  {
   "cell_type": "code",
   "execution_count": 14,
   "id": "b2de5f13",
   "metadata": {},
   "outputs": [
    {
     "data": {
      "image/png": "[encoded data removed]",
      "text/plain": [
       "<Figure size 1200x400 with 8 Axes>"
      ]
     },
     "metadata": {},
     "output_type": "display_data"
    }
   ],
   "source": [
    "# Simulated replicates\n",
    "scanpro_out_norep.plot(n_columns=4, clusters=['Cardiomyocytes','Endothelial cells','Epicardial cells','Erythroid'],\n",
    "                       save=f'{FIG_PATH}/heart_norep_stripplot.pdf')"
   ]
  },
  {
   "cell_type": "markdown",
   "id": "89227a60",
   "metadata": {},
   "source": [
    "---------------------"
   ]
  },
  {
   "cell_type": "markdown",
   "id": "baa2aeda",
   "metadata": {},
   "source": [
    "## Propeller"
   ]
  },
  {
   "cell_type": "code",
   "execution_count": 15,
   "id": "37a14766",
   "metadata": {},
   "outputs": [],
   "source": [
    "#Setup path to R for propeller\n",
    "R_home = os.path.dirname(sys.executable)[:-4] + \"/lib/R\"\n",
    "os.environ[\"R_HOME\"] = R_home\n",
    "%load_ext rpy2.ipython"
   ]
  },
  {
   "cell_type": "code",
   "execution_count": 16,
   "id": "2fdeeadf",
   "metadata": {},
   "outputs": [
    {
     "name": "stdout",
     "output_type": "stream",
     "text": [
      "\n",
      "    WARNING: The R package \"reticulate\" only fixed recently\n",
      "    an issue that caused a segfault when used with rpy2:\n",
      "    https://github.com/rstudio/reticulate/pull/1188\n",
      "    Make sure that you use a version of that package that includes\n",
      "    the fix.\n",
      "    "
     ]
    },
    {
     "data": {
      "text/plain": [
       "The legacy packages maptools, rgdal, and rgeos, underpinning the sp package,\n",
       "which was just loaded, will retire in October 2023.\n",
       "Please refer to R-spatial evolution reports for details, especially\n",
       "https://r-spatial.org/r/2023/05/15/evolution4.html.\n",
       "It may be desirable to make the sf package available;\n",
       "package maintainers should consider adding sf to Suggests:.\n",
       "The sp package is now running under evolution status 2\n",
       "     (status 2 uses the sf package in place of rgdal)\n",
       "Performing logit transformation of proportions\n",
       "group variable has > 2 levels, ANOVA will be performed\n",
       "Performing arcsin square root transformation of proportions\n",
       "group variable has > 2 levels, ANOVA will be performed\n"
      ]
     },
     "metadata": {},
     "output_type": "display_data"
    }
   ],
   "source": [
    "%%R -i heart -o propeller_results_logit -o propeller_results_arcsin\n",
    "library(speckle)\n",
    "\n",
    "propeller_results_logit = propeller(clusters = heart$Celltype, sample = heart$Sample, group = heart$Condition, transform=\"logit\")\n",
    "propeller_results_arcsin = propeller(clusters = heart$Celltype, sample = heart$Sample, group = heart$Condition, transform=\"asin\")"
   ]
  },
  {
   "cell_type": "code",
   "execution_count": 17,
   "id": "d8c21b3c",
   "metadata": {},
   "outputs": [
    {
     "data": {
      "text/html": [
       "<div>\n",
       "<style scoped>\n",
       "    .dataframe tbody tr th:only-of-type {\n",
       "        vertical-align: middle;\n",
       "    }\n",
       "\n",
       "    .dataframe tbody tr th {\n",
       "        vertical-align: top;\n",
       "    }\n",
       "\n",
       "    .dataframe thead th {\n",
       "        text-align: right;\n",
       "    }\n",
       "</style>\n",
       "<table border=\"1\" class=\"dataframe\">\n",
       "  <thead>\n",
       "    <tr style=\"text-align: right;\">\n",
       "      <th></th>\n",
       "      <th>BaselineProp</th>\n",
       "      <th>PropMean.Adult</th>\n",
       "      <th>PropMean.Fetal</th>\n",
       "      <th>PropMean.Young</th>\n",
       "      <th>Fstatistic</th>\n",
       "      <th>P.Value</th>\n",
       "      <th>FDR</th>\n",
       "    </tr>\n",
       "  </thead>\n",
       "  <tbody>\n",
       "    <tr>\n",
       "      <th>Erythroid</th>\n",
       "      <td>0.002272</td>\n",
       "      <td>-0.000000</td>\n",
       "      <td>0.004433</td>\n",
       "      <td>-0.000000</td>\n",
       "      <td>46.591998</td>\n",
       "      <td>5.825757e-21</td>\n",
       "      <td>4.660605e-20</td>\n",
       "    </tr>\n",
       "    <tr>\n",
       "      <th>Immune cells</th>\n",
       "      <td>0.076302</td>\n",
       "      <td>0.189588</td>\n",
       "      <td>0.027546</td>\n",
       "      <td>0.108751</td>\n",
       "      <td>11.575093</td>\n",
       "      <td>9.397256e-06</td>\n",
       "      <td>3.758902e-05</td>\n",
       "    </tr>\n",
       "    <tr>\n",
       "      <th>Cardiomyocytes</th>\n",
       "      <td>0.549464</td>\n",
       "      <td>0.273547</td>\n",
       "      <td>0.682410</td>\n",
       "      <td>0.426761</td>\n",
       "      <td>9.068229</td>\n",
       "      <td>1.152704e-04</td>\n",
       "      <td>3.073879e-04</td>\n",
       "    </tr>\n",
       "    <tr>\n",
       "      <th>Fibroblast</th>\n",
       "      <td>0.182102</td>\n",
       "      <td>0.298689</td>\n",
       "      <td>0.111342</td>\n",
       "      <td>0.261924</td>\n",
       "      <td>4.630794</td>\n",
       "      <td>9.747019e-03</td>\n",
       "      <td>1.949404e-02</td>\n",
       "    </tr>\n",
       "    <tr>\n",
       "      <th>Neurons</th>\n",
       "      <td>0.016143</td>\n",
       "      <td>0.011381</td>\n",
       "      <td>0.012643</td>\n",
       "      <td>0.026210</td>\n",
       "      <td>1.519245</td>\n",
       "      <td>2.188770e-01</td>\n",
       "      <td>3.502033e-01</td>\n",
       "    </tr>\n",
       "    <tr>\n",
       "      <th>Epicardial cells</th>\n",
       "      <td>0.064167</td>\n",
       "      <td>0.093158</td>\n",
       "      <td>0.051415</td>\n",
       "      <td>0.075410</td>\n",
       "      <td>0.909787</td>\n",
       "      <td>4.026099e-01</td>\n",
       "      <td>5.368133e-01</td>\n",
       "    </tr>\n",
       "    <tr>\n",
       "      <th>Smooth muscle cells</th>\n",
       "      <td>0.007942</td>\n",
       "      <td>0.009099</td>\n",
       "      <td>0.008102</td>\n",
       "      <td>0.008465</td>\n",
       "      <td>0.421692</td>\n",
       "      <td>6.559362e-01</td>\n",
       "      <td>7.117040e-01</td>\n",
       "    </tr>\n",
       "    <tr>\n",
       "      <th>Endothelial cells</th>\n",
       "      <td>0.101607</td>\n",
       "      <td>0.124538</td>\n",
       "      <td>0.102108</td>\n",
       "      <td>0.092478</td>\n",
       "      <td>0.340093</td>\n",
       "      <td>7.117040e-01</td>\n",
       "      <td>7.117040e-01</td>\n",
       "    </tr>\n",
       "  </tbody>\n",
       "</table>\n",
       "</div>"
      ],
      "text/plain": [
       "                     BaselineProp  PropMean.Adult  PropMean.Fetal   \n",
       "Erythroid                0.002272       -0.000000        0.004433  \\\n",
       "Immune cells             0.076302        0.189588        0.027546   \n",
       "Cardiomyocytes           0.549464        0.273547        0.682410   \n",
       "Fibroblast               0.182102        0.298689        0.111342   \n",
       "Neurons                  0.016143        0.011381        0.012643   \n",
       "Epicardial cells         0.064167        0.093158        0.051415   \n",
       "Smooth muscle cells      0.007942        0.009099        0.008102   \n",
       "Endothelial cells        0.101607        0.124538        0.102108   \n",
       "\n",
       "                     PropMean.Young  Fstatistic       P.Value           FDR  \n",
       "Erythroid                 -0.000000   46.591998  5.825757e-21  4.660605e-20  \n",
       "Immune cells               0.108751   11.575093  9.397256e-06  3.758902e-05  \n",
       "Cardiomyocytes             0.426761    9.068229  1.152704e-04  3.073879e-04  \n",
       "Fibroblast                 0.261924    4.630794  9.747019e-03  1.949404e-02  \n",
       "Neurons                    0.026210    1.519245  2.188770e-01  3.502033e-01  \n",
       "Epicardial cells           0.075410    0.909787  4.026099e-01  5.368133e-01  \n",
       "Smooth muscle cells        0.008465    0.421692  6.559362e-01  7.117040e-01  \n",
       "Endothelial cells          0.092478    0.340093  7.117040e-01  7.117040e-01  "
      ]
     },
     "execution_count": 17,
     "metadata": {},
     "output_type": "execute_result"
    }
   ],
   "source": [
    "propeller_results_logit"
   ]
  },
  {
   "cell_type": "code",
   "execution_count": 18,
   "id": "0835d435",
   "metadata": {},
   "outputs": [],
   "source": [
    "propeller_results_logit.to_csv(\"results/heart_propeller_rep_logit.tsv\", sep=\"\\t\")\n",
    "propeller_results_arcsin.to_csv(\"results/heart_propeller_rep_arcsin.tsv\", sep=\"\\t\")"
   ]
  },
  {
   "cell_type": "markdown",
   "id": "b0983d86",
   "metadata": {},
   "source": [
    "------------"
   ]
  },
  {
   "cell_type": "markdown",
   "id": "2c2555bb",
   "metadata": {},
   "source": [
    "## scCODA"
   ]
  },
  {
   "cell_type": "code",
   "execution_count": 19,
   "id": "5506d4a5",
   "metadata": {},
   "outputs": [
    {
     "data": {
      "text/html": [
       "<pre style=\"white-space:pre;overflow-x:auto;line-height:normal;font-family:Menlo,'DejaVu Sans Mono',consolas,'Courier New',monospace\"><span style=\"color: #800000; text-decoration-color: #800000; font-weight: bold\">Installed version </span><span style=\"color: #800000; text-decoration-color: #800000; font-weight: bold\">0.4</span><span style=\"color: #800000; text-decoration-color: #800000; font-weight: bold\">.</span><span style=\"color: #800000; text-decoration-color: #800000; font-weight: bold\">0</span><span style=\"color: #800000; text-decoration-color: #800000; font-weight: bold\"> of pertpy is outdated. Newest version is </span><span style=\"color: #800000; text-decoration-color: #800000; font-weight: bold\">0.5</span><span style=\"color: #800000; text-decoration-color: #800000; font-weight: bold\">.</span><span style=\"color: #800000; text-decoration-color: #800000; font-weight: bold\">0</span><span style=\"color: #800000; text-decoration-color: #800000; font-weight: bold\">!</span>\n",
       "</pre>\n"
      ],
      "text/plain": [
       "\u001b[1;31mInstalled version \u001b[0m\u001b[1;31m0.4\u001b[0m\u001b[1;31m.\u001b[0m\u001b[1;31m0\u001b[0m\u001b[1;31m of pertpy is outdated. Newest version is \u001b[0m\u001b[1;31m0.5\u001b[0m\u001b[1;31m.\u001b[0m\u001b[1;31m0\u001b[0m\u001b[1;31m!\u001b[0m\n"
      ]
     },
     "metadata": {},
     "output_type": "display_data"
    },
    {
     "name": "stderr",
     "output_type": "stream",
     "text": [
      "Global seed set to 0\n",
      "/home/mbentse/.conda/envs/scanpro_analysis/lib/python3.9/site-packages/pytorch_lightning/utilities/warnings.py:53: LightningDeprecationWarning: pytorch_lightning.utilities.warnings.rank_zero_deprecation has been deprecated in v1.6 and will be removed in v1.8. Use the equivalent function from the pytorch_lightning.utilities.rank_zero module instead.\n",
      "  new_rank_zero_deprecation(\n",
      "/home/mbentse/.conda/envs/scanpro_analysis/lib/python3.9/site-packages/pytorch_lightning/utilities/warnings.py:58: LightningDeprecationWarning: The `pytorch_lightning.loggers.base.rank_zero_experiment` is deprecated in v1.7 and will be removed in v1.9. Please use `pytorch_lightning.loggers.logger.rank_zero_experiment` instead.\n",
      "  return new_rank_zero_deprecation(*args, **kwargs)\n"
     ]
    }
   ],
   "source": [
    "import pertpy as pt\n",
    "import anndata as ad"
   ]
  },
  {
   "cell_type": "markdown",
   "id": "f89d250e",
   "metadata": {},
   "source": [
    "### Data preparation"
   ]
  },
  {
   "cell_type": "code",
   "execution_count": 20,
   "id": "492b3d8b",
   "metadata": {},
   "outputs": [],
   "source": [
    "sccoda_adata = ad.AnnData(obs=heart)"
   ]
  },
  {
   "cell_type": "markdown",
   "id": "05b7bccf",
   "metadata": {},
   "source": [
    "### With replicates"
   ]
  },
  {
   "cell_type": "code",
   "execution_count": 21,
   "id": "c13fc415",
   "metadata": {},
   "outputs": [
    {
     "data": {
      "text/html": [
       "<pre style=\"white-space:pre;overflow-x:auto;line-height:normal;font-family:Menlo,'DejaVu Sans Mono',consolas,'Courier New',monospace\"><span style=\"color: #000080; text-decoration-color: #000080; font-weight: bold\">Automatic reference selection! Reference cell type set to Smooth muscle cells</span>\n",
       "</pre>\n"
      ],
      "text/plain": [
       "\u001b[1;34mAutomatic reference selection! Reference cell type set to Smooth muscle cells\u001b[0m\n"
      ]
     },
     "metadata": {},
     "output_type": "display_data"
    },
    {
     "data": {
      "text/html": [
       "<pre style=\"white-space:pre;overflow-x:auto;line-height:normal;font-family:Menlo,'DejaVu Sans Mono',consolas,'Courier New',monospace\">Zero counts encountered in data! Added a pseudocount of <span style=\"color: #008080; text-decoration-color: #008080; font-weight: bold\">0.5</span>.\n",
       "</pre>\n"
      ],
      "text/plain": [
       "Zero counts encountered in data! Added a pseudocount of \u001b[1;36m0.5\u001b[0m.\n"
      ]
     },
     "metadata": {},
     "output_type": "display_data"
    }
   ],
   "source": [
    "sccoda_model = pt.tl.Sccoda()\n",
    "sccoda_data = sccoda_model.load(sccoda_adata, type=\"cell_level\", generate_sample_level=True, cell_type_identifier=\"Celltype\", \n",
    "                                sample_identifier=\"Sample\", covariate_obs=[\"Condition\"])\n",
    "sccoda_data = sccoda_model.prepare(sccoda_data, modality_key=\"coda\", formula=\"Condition\")"
   ]
  },
  {
   "cell_type": "code",
   "execution_count": 22,
   "id": "2d138ff1",
   "metadata": {},
   "outputs": [
    {
     "name": "stderr",
     "output_type": "stream",
     "text": [
      "No GPU/TPU found, falling back to CPU. (Set TF_CPP_MIN_LOG_LEVEL=0 and rerun for more info.)\n",
      "sample: 100%|██████████| 11000/11000 [01:47<00:00, 102.72it/s, 255 steps of size 1.96e-02. acc. prob=0.84]\n"
     ]
    }
   ],
   "source": [
    "sccoda_model.run_nuts(sccoda_data, modality_key=\"coda\")"
   ]
  },
  {
   "cell_type": "code",
   "execution_count": 23,
   "id": "47739246",
   "metadata": {},
   "outputs": [
    {
     "data": {
      "text/html": [
       "<pre style=\"white-space:pre;overflow-x:auto;line-height:normal;font-family:Menlo,'DejaVu Sans Mono',consolas,'Courier New',monospace\"><span style=\"font-style: italic\">                                          Compositional Analysis summary                                           </span>\n",
       "┌──────────────────────────────────────────────┬──────────────────────────────────────────────────────────────────┐\n",
       "│<span style=\"font-weight: bold\"> Name                                         </span>│<span style=\"font-weight: bold\"> Value                                                            </span>│\n",
       "├──────────────────────────────────────────────┼──────────────────────────────────────────────────────────────────┤\n",
       "│<span style=\"color: #008080; text-decoration-color: #008080\"> Data                                         </span>│ Data: <span style=\"color: #008080; text-decoration-color: #008080; font-weight: bold\">9</span> samples, <span style=\"color: #008080; text-decoration-color: #008080; font-weight: bold\">8</span> cell types                                    │\n",
       "│<span style=\"color: #008080; text-decoration-color: #008080\"> Reference cell type                          </span>│ Smooth muscle cells                                              │\n",
       "│<span style=\"color: #008080; text-decoration-color: #008080\"> Formula                                      </span>│ Condition                                                        │\n",
       "└──────────────────────────────────────────────┴──────────────────────────────────────────────────────────────────┘\n",
       "</pre>\n"
      ],
      "text/plain": [
       "\u001b[3m                                          Compositional Analysis summary                                           \u001b[0m\n",
       "┌──────────────────────────────────────────────┬──────────────────────────────────────────────────────────────────┐\n",
       "│\u001b[1m \u001b[0m\u001b[1mName                                        \u001b[0m\u001b[1m \u001b[0m│\u001b[1m \u001b[0m\u001b[1mValue                                                           \u001b[0m\u001b[1m \u001b[0m│\n",
       "├──────────────────────────────────────────────┼──────────────────────────────────────────────────────────────────┤\n",
       "│\u001b[36m \u001b[0m\u001b[36mData                                        \u001b[0m\u001b[36m \u001b[0m│ Data: \u001b[1;36m9\u001b[0m samples, \u001b[1;36m8\u001b[0m cell types                                    │\n",
       "│\u001b[36m \u001b[0m\u001b[36mReference cell type                         \u001b[0m\u001b[36m \u001b[0m│ Smooth muscle cells                                              │\n",
       "│\u001b[36m \u001b[0m\u001b[36mFormula                                     \u001b[0m\u001b[36m \u001b[0m│ Condition                                                        │\n",
       "└──────────────────────────────────────────────┴──────────────────────────────────────────────────────────────────┘\n"
      ]
     },
     "metadata": {},
     "output_type": "display_data"
    },
    {
     "data": {
      "text/html": [
       "<pre style=\"white-space:pre;overflow-x:auto;line-height:normal;font-family:Menlo,'DejaVu Sans Mono',consolas,'Courier New',monospace\">┌─────────────────────────────────────────────────────────────────────────────────────────────────────────────────┐\n",
       "│<span style=\"font-weight: bold\"> Intercepts                                                                                                      </span>│\n",
       "├─────────────────────────────────────────────────────────────────────────────────────────────────────────────────┤\n",
       "│                      Final Parameter  Expected Sample                                                           │\n",
       "│ Cell Type                                                                                                       │\n",
       "│ Cardiomyocytes            <span style=\"color: #008080; text-decoration-color: #008080; font-weight: bold\">2.410</span>          <span style=\"color: #008080; text-decoration-color: #008080; font-weight: bold\">1862.779</span>                                                               │\n",
       "│ Endothelial cells         <span style=\"color: #008080; text-decoration-color: #008080; font-weight: bold\">1.551</span>           <span style=\"color: #008080; text-decoration-color: #008080; font-weight: bold\">789.046</span>                                                               │\n",
       "│ Epicardial cells          <span style=\"color: #008080; text-decoration-color: #008080; font-weight: bold\">1.205</span>           <span style=\"color: #008080; text-decoration-color: #008080; font-weight: bold\">558.260</span>                                                               │\n",
       "│ Erythroid                <span style=\"color: #008080; text-decoration-color: #008080; font-weight: bold\">-1.565</span>            <span style=\"color: #008080; text-decoration-color: #008080; font-weight: bold\">34.982</span>                                                               │\n",
       "│ Fibroblast                <span style=\"color: #008080; text-decoration-color: #008080; font-weight: bold\">2.282</span>          <span style=\"color: #008080; text-decoration-color: #008080; font-weight: bold\">1638.973</span>                                                               │\n",
       "│ Immune cells              <span style=\"color: #008080; text-decoration-color: #008080; font-weight: bold\">1.617</span>           <span style=\"color: #008080; text-decoration-color: #008080; font-weight: bold\">842.880</span>                                                               │\n",
       "│ Neurons                   <span style=\"color: #008080; text-decoration-color: #008080; font-weight: bold\">0.016</span>           <span style=\"color: #008080; text-decoration-color: #008080; font-weight: bold\">170.004</span>                                                               │\n",
       "│ Smooth muscle cells      <span style=\"color: #008080; text-decoration-color: #008080; font-weight: bold\">-0.341</span>           <span style=\"color: #008080; text-decoration-color: #008080; font-weight: bold\">118.964</span>                                                               │\n",
       "└─────────────────────────────────────────────────────────────────────────────────────────────────────────────────┘\n",
       "</pre>\n"
      ],
      "text/plain": [
       "┌─────────────────────────────────────────────────────────────────────────────────────────────────────────────────┐\n",
       "│\u001b[1m \u001b[0m\u001b[1mIntercepts                                                                                                     \u001b[0m\u001b[1m \u001b[0m│\n",
       "├─────────────────────────────────────────────────────────────────────────────────────────────────────────────────┤\n",
       "│                      Final Parameter  Expected Sample                                                           │\n",
       "│ Cell Type                                                                                                       │\n",
       "│ Cardiomyocytes            \u001b[1;36m2.410\u001b[0m          \u001b[1;36m1862.779\u001b[0m                                                               │\n",
       "│ Endothelial cells         \u001b[1;36m1.551\u001b[0m           \u001b[1;36m789.046\u001b[0m                                                               │\n",
       "│ Epicardial cells          \u001b[1;36m1.205\u001b[0m           \u001b[1;36m558.260\u001b[0m                                                               │\n",
       "│ Erythroid                \u001b[1;36m-1.565\u001b[0m            \u001b[1;36m34.982\u001b[0m                                                               │\n",
       "│ Fibroblast                \u001b[1;36m2.282\u001b[0m          \u001b[1;36m1638.973\u001b[0m                                                               │\n",
       "│ Immune cells              \u001b[1;36m1.617\u001b[0m           \u001b[1;36m842.880\u001b[0m                                                               │\n",
       "│ Neurons                   \u001b[1;36m0.016\u001b[0m           \u001b[1;36m170.004\u001b[0m                                                               │\n",
       "│ Smooth muscle cells      \u001b[1;36m-0.341\u001b[0m           \u001b[1;36m118.964\u001b[0m                                                               │\n",
       "└─────────────────────────────────────────────────────────────────────────────────────────────────────────────────┘\n"
      ]
     },
     "metadata": {},
     "output_type": "display_data"
    },
    {
     "data": {
      "text/html": [
       "<pre style=\"white-space:pre;overflow-x:auto;line-height:normal;font-family:Menlo,'DejaVu Sans Mono',consolas,'Courier New',monospace\">┌─────────────────────────────────────────────────────────────────────────────────────────────────────────────────┐\n",
       "│<span style=\"font-weight: bold\"> Effects                                                                                                         </span>│\n",
       "├─────────────────────────────────────────────────────────────────────────────────────────────────────────────────┤\n",
       "│                                Final Parameter  Expected Sample  log2-fold change                               │\n",
       "│ Covariate Cell Type                                                                                             │\n",
       "│ T.Fetal   Cardiomyocytes           <span style=\"color: #008080; text-decoration-color: #008080; font-weight: bold\">1.512</span>           <span style=\"color: #008080; text-decoration-color: #008080; font-weight: bold\">4033.720</span>            <span style=\"color: #008080; text-decoration-color: #008080; font-weight: bold\">1.115</span>                                    │\n",
       "│           Endothelial cells        <span style=\"color: #008080; text-decoration-color: #008080; font-weight: bold\">0.000</span>            <span style=\"color: #008080; text-decoration-color: #008080; font-weight: bold\">376.591</span>           <span style=\"color: #008080; text-decoration-color: #008080; font-weight: bold\">-1.067</span>                                    │\n",
       "│           Epicardial cells         <span style=\"color: #008080; text-decoration-color: #008080; font-weight: bold\">0.000</span>            <span style=\"color: #008080; text-decoration-color: #008080; font-weight: bold\">266.443</span>           <span style=\"color: #008080; text-decoration-color: #008080; font-weight: bold\">-1.067</span>                                    │\n",
       "│           Erythroid                <span style=\"color: #008080; text-decoration-color: #008080; font-weight: bold\">0.000</span>             <span style=\"color: #008080; text-decoration-color: #008080; font-weight: bold\">16.696</span>           <span style=\"color: #008080; text-decoration-color: #008080; font-weight: bold\">-1.067</span>                                    │\n",
       "│           Fibroblast               <span style=\"color: #008080; text-decoration-color: #008080; font-weight: bold\">0.000</span>            <span style=\"color: #008080; text-decoration-color: #008080; font-weight: bold\">782.238</span>           <span style=\"color: #008080; text-decoration-color: #008080; font-weight: bold\">-1.067</span>                                    │\n",
       "│           Immune cells             <span style=\"color: #008080; text-decoration-color: #008080; font-weight: bold\">0.000</span>            <span style=\"color: #008080; text-decoration-color: #008080; font-weight: bold\">402.284</span>           <span style=\"color: #008080; text-decoration-color: #008080; font-weight: bold\">-1.067</span>                                    │\n",
       "│           Neurons                  <span style=\"color: #008080; text-decoration-color: #008080; font-weight: bold\">0.000</span>             <span style=\"color: #008080; text-decoration-color: #008080; font-weight: bold\">81.139</span>           <span style=\"color: #008080; text-decoration-color: #008080; font-weight: bold\">-1.067</span>                                    │\n",
       "│           Smooth muscle cells      <span style=\"color: #008080; text-decoration-color: #008080; font-weight: bold\">0.000</span>             <span style=\"color: #008080; text-decoration-color: #008080; font-weight: bold\">56.779</span>           <span style=\"color: #008080; text-decoration-color: #008080; font-weight: bold\">-1.067</span>                                    │\n",
       "│ T.Young   Cardiomyocytes           <span style=\"color: #008080; text-decoration-color: #008080; font-weight: bold\">0.000</span>           <span style=\"color: #008080; text-decoration-color: #008080; font-weight: bold\">1862.779</span>            <span style=\"color: #008080; text-decoration-color: #008080; font-weight: bold\">0.000</span>                                    │\n",
       "│           Endothelial cells        <span style=\"color: #008080; text-decoration-color: #008080; font-weight: bold\">0.000</span>            <span style=\"color: #008080; text-decoration-color: #008080; font-weight: bold\">789.046</span>            <span style=\"color: #008080; text-decoration-color: #008080; font-weight: bold\">0.000</span>                                    │\n",
       "│           Epicardial cells         <span style=\"color: #008080; text-decoration-color: #008080; font-weight: bold\">0.000</span>            <span style=\"color: #008080; text-decoration-color: #008080; font-weight: bold\">558.260</span>            <span style=\"color: #008080; text-decoration-color: #008080; font-weight: bold\">0.000</span>                                    │\n",
       "│           Erythroid                <span style=\"color: #008080; text-decoration-color: #008080; font-weight: bold\">0.000</span>             <span style=\"color: #008080; text-decoration-color: #008080; font-weight: bold\">34.982</span>            <span style=\"color: #008080; text-decoration-color: #008080; font-weight: bold\">0.000</span>                                    │\n",
       "│           Fibroblast               <span style=\"color: #008080; text-decoration-color: #008080; font-weight: bold\">0.000</span>           <span style=\"color: #008080; text-decoration-color: #008080; font-weight: bold\">1638.973</span>            <span style=\"color: #008080; text-decoration-color: #008080; font-weight: bold\">0.000</span>                                    │\n",
       "│           Immune cells             <span style=\"color: #008080; text-decoration-color: #008080; font-weight: bold\">0.000</span>            <span style=\"color: #008080; text-decoration-color: #008080; font-weight: bold\">842.880</span>            <span style=\"color: #008080; text-decoration-color: #008080; font-weight: bold\">0.000</span>                                    │\n",
       "│           Neurons                  <span style=\"color: #008080; text-decoration-color: #008080; font-weight: bold\">0.000</span>            <span style=\"color: #008080; text-decoration-color: #008080; font-weight: bold\">170.004</span>            <span style=\"color: #008080; text-decoration-color: #008080; font-weight: bold\">0.000</span>                                    │\n",
       "│           Smooth muscle cells      <span style=\"color: #008080; text-decoration-color: #008080; font-weight: bold\">0.000</span>            <span style=\"color: #008080; text-decoration-color: #008080; font-weight: bold\">118.964</span>            <span style=\"color: #008080; text-decoration-color: #008080; font-weight: bold\">0.000</span>                                    │\n",
       "└─────────────────────────────────────────────────────────────────────────────────────────────────────────────────┘\n",
       "</pre>\n"
      ],
      "text/plain": [
       "┌─────────────────────────────────────────────────────────────────────────────────────────────────────────────────┐\n",
       "│\u001b[1m \u001b[0m\u001b[1mEffects                                                                                                        \u001b[0m\u001b[1m \u001b[0m│\n",
       "├─────────────────────────────────────────────────────────────────────────────────────────────────────────────────┤\n",
       "│                                Final Parameter  Expected Sample  log2-fold change                               │\n",
       "│ Covariate Cell Type                                                                                             │\n",
       "│ T.Fetal   Cardiomyocytes           \u001b[1;36m1.512\u001b[0m           \u001b[1;36m4033.720\u001b[0m            \u001b[1;36m1.115\u001b[0m                                    │\n",
       "│           Endothelial cells        \u001b[1;36m0.000\u001b[0m            \u001b[1;36m376.591\u001b[0m           \u001b[1;36m-1.067\u001b[0m                                    │\n",
       "│           Epicardial cells         \u001b[1;36m0.000\u001b[0m            \u001b[1;36m266.443\u001b[0m           \u001b[1;36m-1.067\u001b[0m                                    │\n",
       "│           Erythroid                \u001b[1;36m0.000\u001b[0m             \u001b[1;36m16.696\u001b[0m           \u001b[1;36m-1.067\u001b[0m                                    │\n",
       "│           Fibroblast               \u001b[1;36m0.000\u001b[0m            \u001b[1;36m782.238\u001b[0m           \u001b[1;36m-1.067\u001b[0m                                    │\n",
       "│           Immune cells             \u001b[1;36m0.000\u001b[0m            \u001b[1;36m402.284\u001b[0m           \u001b[1;36m-1.067\u001b[0m                                    │\n",
       "│           Neurons                  \u001b[1;36m0.000\u001b[0m             \u001b[1;36m81.139\u001b[0m           \u001b[1;36m-1.067\u001b[0m                                    │\n",
       "│           Smooth muscle cells      \u001b[1;36m0.000\u001b[0m             \u001b[1;36m56.779\u001b[0m           \u001b[1;36m-1.067\u001b[0m                                    │\n",
       "│ T.Young   Cardiomyocytes           \u001b[1;36m0.000\u001b[0m           \u001b[1;36m1862.779\u001b[0m            \u001b[1;36m0.000\u001b[0m                                    │\n",
       "│           Endothelial cells        \u001b[1;36m0.000\u001b[0m            \u001b[1;36m789.046\u001b[0m            \u001b[1;36m0.000\u001b[0m                                    │\n",
       "│           Epicardial cells         \u001b[1;36m0.000\u001b[0m            \u001b[1;36m558.260\u001b[0m            \u001b[1;36m0.000\u001b[0m                                    │\n",
       "│           Erythroid                \u001b[1;36m0.000\u001b[0m             \u001b[1;36m34.982\u001b[0m            \u001b[1;36m0.000\u001b[0m                                    │\n",
       "│           Fibroblast               \u001b[1;36m0.000\u001b[0m           \u001b[1;36m1638.973\u001b[0m            \u001b[1;36m0.000\u001b[0m                                    │\n",
       "│           Immune cells             \u001b[1;36m0.000\u001b[0m            \u001b[1;36m842.880\u001b[0m            \u001b[1;36m0.000\u001b[0m                                    │\n",
       "│           Neurons                  \u001b[1;36m0.000\u001b[0m            \u001b[1;36m170.004\u001b[0m            \u001b[1;36m0.000\u001b[0m                                    │\n",
       "│           Smooth muscle cells      \u001b[1;36m0.000\u001b[0m            \u001b[1;36m118.964\u001b[0m            \u001b[1;36m0.000\u001b[0m                                    │\n",
       "└─────────────────────────────────────────────────────────────────────────────────────────────────────────────────┘\n"
      ]
     },
     "metadata": {},
     "output_type": "display_data"
    }
   ],
   "source": [
    "sccoda_model.summary(sccoda_data, modality_key=\"coda\")"
   ]
  },
  {
   "cell_type": "code",
   "execution_count": 24,
   "id": "b09ae42d",
   "metadata": {},
   "outputs": [
    {
     "data": {
      "text/html": [
       "<div>\n",
       "<style scoped>\n",
       "    .dataframe tbody tr th:only-of-type {\n",
       "        vertical-align: middle;\n",
       "    }\n",
       "\n",
       "    .dataframe tbody tr th {\n",
       "        vertical-align: top;\n",
       "    }\n",
       "\n",
       "    .dataframe thead th {\n",
       "        text-align: right;\n",
       "    }\n",
       "</style>\n",
       "<table border=\"1\" class=\"dataframe\">\n",
       "  <thead>\n",
       "    <tr style=\"text-align: right;\">\n",
       "      <th></th>\n",
       "      <th></th>\n",
       "      <th>credible_effect</th>\n",
       "      <th>fdr</th>\n",
       "    </tr>\n",
       "    <tr>\n",
       "      <th>Covariate</th>\n",
       "      <th>Cell Type</th>\n",
       "      <th></th>\n",
       "      <th></th>\n",
       "    </tr>\n",
       "  </thead>\n",
       "  <tbody>\n",
       "    <tr>\n",
       "      <th rowspan=\"5\" valign=\"top\">Condition[T.Fetal]</th>\n",
       "      <th>Cardiomyocytes</th>\n",
       "      <td>True</td>\n",
       "      <td>0.01</td>\n",
       "    </tr>\n",
       "    <tr>\n",
       "      <th>Endothelial cells</th>\n",
       "      <td>False</td>\n",
       "      <td>0.01</td>\n",
       "    </tr>\n",
       "    <tr>\n",
       "      <th>Epicardial cells</th>\n",
       "      <td>False</td>\n",
       "      <td>0.01</td>\n",
       "    </tr>\n",
       "    <tr>\n",
       "      <th>Erythroid</th>\n",
       "      <td>False</td>\n",
       "      <td>0.01</td>\n",
       "    </tr>\n",
       "    <tr>\n",
       "      <th>Fibroblast</th>\n",
       "      <td>False</td>\n",
       "      <td>0.01</td>\n",
       "    </tr>\n",
       "    <tr>\n",
       "      <th>...</th>\n",
       "      <th>...</th>\n",
       "      <td>...</td>\n",
       "      <td>...</td>\n",
       "    </tr>\n",
       "    <tr>\n",
       "      <th rowspan=\"5\" valign=\"top\">Condition[T.Young]</th>\n",
       "      <th>Erythroid</th>\n",
       "      <td>True</td>\n",
       "      <td>0.40</td>\n",
       "    </tr>\n",
       "    <tr>\n",
       "      <th>Fibroblast</th>\n",
       "      <td>True</td>\n",
       "      <td>0.40</td>\n",
       "    </tr>\n",
       "    <tr>\n",
       "      <th>Immune cells</th>\n",
       "      <td>True</td>\n",
       "      <td>0.40</td>\n",
       "    </tr>\n",
       "    <tr>\n",
       "      <th>Neurons</th>\n",
       "      <td>True</td>\n",
       "      <td>0.40</td>\n",
       "    </tr>\n",
       "    <tr>\n",
       "      <th>Smooth muscle cells</th>\n",
       "      <td>False</td>\n",
       "      <td>0.40</td>\n",
       "    </tr>\n",
       "  </tbody>\n",
       "</table>\n",
       "<p>96 rows × 2 columns</p>\n",
       "</div>"
      ],
      "text/plain": [
       "                                        credible_effect   fdr\n",
       "Covariate          Cell Type                                 \n",
       "Condition[T.Fetal] Cardiomyocytes                  True  0.01\n",
       "                   Endothelial cells              False  0.01\n",
       "                   Epicardial cells               False  0.01\n",
       "                   Erythroid                      False  0.01\n",
       "                   Fibroblast                     False  0.01\n",
       "...                                                 ...   ...\n",
       "Condition[T.Young] Erythroid                       True  0.40\n",
       "                   Fibroblast                      True  0.40\n",
       "                   Immune cells                    True  0.40\n",
       "                   Neurons                         True  0.40\n",
       "                   Smooth muscle cells            False  0.40\n",
       "\n",
       "[96 rows x 2 columns]"
      ]
     },
     "execution_count": 24,
     "metadata": {},
     "output_type": "execute_result"
    }
   ],
   "source": [
    "# Get credible effects at different FDR levels:\n",
    "credible_effects_list = []\n",
    "for fdr in [0.01,0.05,0.1,0.2,0.3,0.4]:\n",
    "    sccoda_model.set_fdr(sccoda_data, modality_key=\"coda\", est_fdr=fdr)\n",
    "    \n",
    "    credible_effects_table = sccoda_model.credible_effects(sccoda_data, modality_key=\"coda\").to_frame(name=\"credible_effect\")\n",
    "    credible_effects_table[\"fdr\"] = fdr\n",
    "    credible_effects_list.append(credible_effects_table)\n",
    "\n",
    "credible_effects = pd.concat(credible_effects_list)\n",
    "credible_effects"
   ]
  },
  {
   "cell_type": "code",
   "execution_count": 25,
   "id": "65434252",
   "metadata": {},
   "outputs": [],
   "source": [
    "credible_effects.to_csv(\"results/heart_sccoda_rep.tsv\", sep=\"\\t\")"
   ]
  },
  {
   "cell_type": "markdown",
   "id": "1f6d6940",
   "metadata": {},
   "source": [
    "### Without replicates"
   ]
  },
  {
   "cell_type": "code",
   "execution_count": 26,
   "id": "0a948ca0",
   "metadata": {},
   "outputs": [
    {
     "data": {
      "text/html": [
       "<pre style=\"white-space:pre;overflow-x:auto;line-height:normal;font-family:Menlo,'DejaVu Sans Mono',consolas,'Courier New',monospace\"><span style=\"color: #000080; text-decoration-color: #000080; font-weight: bold\">Automatic reference selection! Reference cell type set to Smooth muscle cells</span>\n",
       "</pre>\n"
      ],
      "text/plain": [
       "\u001b[1;34mAutomatic reference selection! Reference cell type set to Smooth muscle cells\u001b[0m\n"
      ]
     },
     "metadata": {},
     "output_type": "display_data"
    },
    {
     "data": {
      "text/html": [
       "<pre style=\"white-space:pre;overflow-x:auto;line-height:normal;font-family:Menlo,'DejaVu Sans Mono',consolas,'Courier New',monospace\">Zero counts encountered in data! Added a pseudocount of <span style=\"color: #008080; text-decoration-color: #008080; font-weight: bold\">0.5</span>.\n",
       "</pre>\n"
      ],
      "text/plain": [
       "Zero counts encountered in data! Added a pseudocount of \u001b[1;36m0.5\u001b[0m.\n"
      ]
     },
     "metadata": {},
     "output_type": "display_data"
    }
   ],
   "source": [
    "sccoda_model = pt.tl.Sccoda()\n",
    "sccoda_data = sccoda_model.load(sccoda_adata, type=\"cell_level\", generate_sample_level=True, cell_type_identifier=\"Celltype\", \n",
    "                                sample_identifier=\"Condition\", covariate_obs=[\"Condition\"])\n",
    "sccoda_data = sccoda_model.prepare(sccoda_data, modality_key=\"coda\", formula=\"Condition\")"
   ]
  },
  {
   "cell_type": "code",
   "execution_count": null,
   "id": "07f63ba5",
   "metadata": {},
   "outputs": [
    {
     "name": "stderr",
     "output_type": "stream",
     "text": [
      "sample:  68%|██████▊   | 7472/11000 [00:39<00:17, 204.48it/s, 255 steps of size 1.39e-02. acc. prob=0.84]"
     ]
    }
   ],
   "source": [
    "sccoda_model.run_nuts(sccoda_data, modality_key=\"coda\")"
   ]
  },
  {
   "cell_type": "code",
   "execution_count": null,
   "id": "8487a601",
   "metadata": {},
   "outputs": [],
   "source": [
    "sccoda_model.summary(sccoda_data, modality_key=\"coda\")"
   ]
  },
  {
   "cell_type": "code",
   "execution_count": null,
   "id": "d7be1dd4",
   "metadata": {},
   "outputs": [],
   "source": [
    "# Get credible effects at different FDR levels:\n",
    "credible_effects_list = []\n",
    "for fdr in [0.01,0.05,0.1,0.2,0.3,0.4]:\n",
    "    sccoda_model.set_fdr(sccoda_data, modality_key=\"coda\", est_fdr=fdr)\n",
    "    \n",
    "    credible_effects_table = sccoda_model.credible_effects(sccoda_data, modality_key=\"coda\").to_frame(name=\"credible_effect\")\n",
    "    credible_effects_table[\"fdr\"] = fdr\n",
    "    credible_effects_list.append(credible_effects_table)\n",
    "\n",
    "credible_effects = pd.concat(credible_effects_list)\n",
    "credible_effects"
   ]
  },
  {
   "cell_type": "code",
   "execution_count": null,
   "id": "9218d1c7",
   "metadata": {},
   "outputs": [],
   "source": [
    "credible_effects.to_csv(\"results/heart_sccoda_norep.tsv\", sep=\"\\t\")"
   ]
  }
 ],
 "metadata": {
  "kernelspec": {
   "display_name": "scanpro_analysis",
   "language": "python",
   "name": "scanpro_analysis"
  },
  "language_info": {
   "codemirror_mode": {
    "name": "ipython",
    "version": 3
   },
   "file_extension": ".py",
   "mimetype": "text/x-python",
   "name": "python",
   "nbconvert_exporter": "python",
   "pygments_lexer": "ipython3",
   "version": "3.9.16"
  }
 },
 "nbformat": 4,
 "nbformat_minor": 5
}
