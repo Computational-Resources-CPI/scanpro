{
 "cells": [
  {
   "cell_type": "markdown",
   "metadata": {},
   "source": [
    "A notebook to test the pypropeller tool.\n",
    "\n",
    "The propeller tool was developed originally for R and is integrated in the package \"speckle\" (Belinda Phipson, Choon Boon Sim, Enzo R Porrello, Alex W Hewitt, Joseph Powell, Alicia Oshlack).\n",
    "\n",
    "Since propeller uses functionalities from the package \"limma\", these functions has been reimplemented to be used by pypropeller.\n",
    "\n",
    "The dataset used in this tutorial is the same used in the \"speckle\" vignette."
   ]
  },
  {
   "cell_type": "code",
   "execution_count": 1,
   "metadata": {},
   "outputs": [],
   "source": [
    "import anndata as ad\n",
    "import numpy as np\n",
    "\n",
    "from pypropeller import pypropeller\n",
    "from pypropeller.linear_model import *\n",
    "from pypropeller.get_transformed_props import *"
   ]
  },
  {
   "cell_type": "markdown",
   "metadata": {},
   "source": [
    "# Load anndata\n",
    "* anndata.obs table has to include 3 columns:\n",
    "    - condition\n",
    "    - sample\n",
    "    - clusters/celltypes"
   ]
  },
  {
   "cell_type": "code",
   "execution_count": 2,
   "metadata": {},
   "outputs": [
    {
     "data": {
      "text/plain": [
       "AnnData object with n_obs × n_vars = 2802 × 13575\n",
       "    obs: 'sample', 'group', 'cluster'\n",
       "    uns: 'color_set', 'infoprocess'"
      ]
     },
     "execution_count": 2,
     "metadata": {},
     "output_type": "execute_result"
    }
   ],
   "source": [
    "adata = ad.read_h5ad('/mnt/workspace/yalayou/scATAC_seq/framework/data/thesis/data/propeller_tutorial.h5ad')\n",
    "adata"
   ]
  },
  {
   "cell_type": "code",
   "execution_count": 3,
   "metadata": {},
   "outputs": [
    {
     "data": {
      "text/html": [
       "<div>\n",
       "<style scoped>\n",
       "    .dataframe tbody tr th:only-of-type {\n",
       "        vertical-align: middle;\n",
       "    }\n",
       "\n",
       "    .dataframe tbody tr th {\n",
       "        vertical-align: top;\n",
       "    }\n",
       "\n",
       "    .dataframe thead th {\n",
       "        text-align: right;\n",
       "    }\n",
       "</style>\n",
       "<table border=\"1\" class=\"dataframe\">\n",
       "  <thead>\n",
       "    <tr style=\"text-align: right;\">\n",
       "      <th></th>\n",
       "      <th>sample</th>\n",
       "      <th>group</th>\n",
       "      <th>cluster</th>\n",
       "    </tr>\n",
       "  </thead>\n",
       "  <tbody>\n",
       "    <tr>\n",
       "      <th>CELL_000001</th>\n",
       "      <td>S1</td>\n",
       "      <td>10x</td>\n",
       "      <td>HCC827</td>\n",
       "    </tr>\n",
       "    <tr>\n",
       "      <th>CELL_000002</th>\n",
       "      <td>S1</td>\n",
       "      <td>10x</td>\n",
       "      <td>H1975</td>\n",
       "    </tr>\n",
       "    <tr>\n",
       "      <th>CELL_000003</th>\n",
       "      <td>S1</td>\n",
       "      <td>10x</td>\n",
       "      <td>HCC827</td>\n",
       "    </tr>\n",
       "    <tr>\n",
       "      <th>CELL_000004</th>\n",
       "      <td>S1</td>\n",
       "      <td>10x</td>\n",
       "      <td>HCC827</td>\n",
       "    </tr>\n",
       "    <tr>\n",
       "      <th>CELL_000005</th>\n",
       "      <td>S1</td>\n",
       "      <td>10x</td>\n",
       "      <td>HCC827</td>\n",
       "    </tr>\n",
       "    <tr>\n",
       "      <th>...</th>\n",
       "      <td>...</td>\n",
       "      <td>...</td>\n",
       "      <td>...</td>\n",
       "    </tr>\n",
       "    <tr>\n",
       "      <th>CELL_000140</th>\n",
       "      <td>S6</td>\n",
       "      <td>dropseq</td>\n",
       "      <td>H2228</td>\n",
       "    </tr>\n",
       "    <tr>\n",
       "      <th>CELL_000233</th>\n",
       "      <td>S6</td>\n",
       "      <td>dropseq</td>\n",
       "      <td>H1975</td>\n",
       "    </tr>\n",
       "    <tr>\n",
       "      <th>CELL_000082</th>\n",
       "      <td>S6</td>\n",
       "      <td>dropseq</td>\n",
       "      <td>HCC827</td>\n",
       "    </tr>\n",
       "    <tr>\n",
       "      <th>CELL_000012</th>\n",
       "      <td>S6</td>\n",
       "      <td>dropseq</td>\n",
       "      <td>H1975</td>\n",
       "    </tr>\n",
       "    <tr>\n",
       "      <th>CELL_000178</th>\n",
       "      <td>S6</td>\n",
       "      <td>dropseq</td>\n",
       "      <td>HCC827</td>\n",
       "    </tr>\n",
       "  </tbody>\n",
       "</table>\n",
       "<p>2802 rows × 3 columns</p>\n",
       "</div>"
      ],
      "text/plain": [
       "            sample    group cluster\n",
       "CELL_000001     S1      10x  HCC827\n",
       "CELL_000002     S1      10x   H1975\n",
       "CELL_000003     S1      10x  HCC827\n",
       "CELL_000004     S1      10x  HCC827\n",
       "CELL_000005     S1      10x  HCC827\n",
       "...            ...      ...     ...\n",
       "CELL_000140     S6  dropseq   H2228\n",
       "CELL_000233     S6  dropseq   H1975\n",
       "CELL_000082     S6  dropseq  HCC827\n",
       "CELL_000012     S6  dropseq   H1975\n",
       "CELL_000178     S6  dropseq  HCC827\n",
       "\n",
       "[2802 rows x 3 columns]"
      ]
     },
     "execution_count": 3,
     "metadata": {},
     "output_type": "execute_result"
    }
   ],
   "source": [
    "adata.obs"
   ]
  },
  {
   "cell_type": "markdown",
   "metadata": {},
   "source": [
    "# Run pypropeller\n",
    "* You can use the wrapper function \"pypropeller\". \n",
    "#### Parameters are:\n",
    "    - anndata object\n",
    "    - clusters: name of clusters/celltypes column in obs table\n",
    "    - sample: name of sample column in obs table\n",
    "    - cond: name of condition/group column in obs table\n",
    "    - transform: type of transformation; logit or arcsin, default is logit"
   ]
  },
  {
   "cell_type": "code",
   "execution_count": 4,
   "metadata": {},
   "outputs": [
    {
     "name": "stdout",
     "output_type": "stream",
     "text": [
      "There are more than 2 conditions. ANOVA will be performed...\n",
      "Done!\n"
     ]
    },
    {
     "data": {
      "text/html": [
       "<div>\n",
       "<style scoped>\n",
       "    .dataframe tbody tr th:only-of-type {\n",
       "        vertical-align: middle;\n",
       "    }\n",
       "\n",
       "    .dataframe tbody tr th {\n",
       "        vertical-align: top;\n",
       "    }\n",
       "\n",
       "    .dataframe thead th {\n",
       "        text-align: right;\n",
       "    }\n",
       "</style>\n",
       "<table border=\"1\" class=\"dataframe\">\n",
       "  <thead>\n",
       "    <tr style=\"text-align: right;\">\n",
       "      <th></th>\n",
       "      <th>Baseline_props</th>\n",
       "      <th>Mean_props_10x</th>\n",
       "      <th>Mean_props_celseq</th>\n",
       "      <th>Mean_props_dropseq</th>\n",
       "      <th>F_statistics</th>\n",
       "      <th>p_values</th>\n",
       "      <th>Adjusted_p_values</th>\n",
       "    </tr>\n",
       "    <tr>\n",
       "      <th>Clusters</th>\n",
       "      <th></th>\n",
       "      <th></th>\n",
       "      <th></th>\n",
       "      <th></th>\n",
       "      <th></th>\n",
       "      <th></th>\n",
       "      <th></th>\n",
       "    </tr>\n",
       "  </thead>\n",
       "  <tbody>\n",
       "    <tr>\n",
       "      <th>H1975</th>\n",
       "      <td>0.357959</td>\n",
       "      <td>0.339246</td>\n",
       "      <td>0.394154</td>\n",
       "      <td>0.388881</td>\n",
       "      <td>3.994837</td>\n",
       "      <td>0.018410</td>\n",
       "      <td>0.050034</td>\n",
       "    </tr>\n",
       "    <tr>\n",
       "      <th>H2228</th>\n",
       "      <td>0.332263</td>\n",
       "      <td>0.348115</td>\n",
       "      <td>0.297449</td>\n",
       "      <td>0.311114</td>\n",
       "      <td>3.400526</td>\n",
       "      <td>0.033356</td>\n",
       "      <td>0.050034</td>\n",
       "    </tr>\n",
       "    <tr>\n",
       "      <th>HCC827</th>\n",
       "      <td>0.309779</td>\n",
       "      <td>0.312639</td>\n",
       "      <td>0.308397</td>\n",
       "      <td>0.300004</td>\n",
       "      <td>0.207697</td>\n",
       "      <td>0.812453</td>\n",
       "      <td>0.812453</td>\n",
       "    </tr>\n",
       "  </tbody>\n",
       "</table>\n",
       "</div>"
      ],
      "text/plain": [
       "          Baseline_props  Mean_props_10x  Mean_props_celseq  \\\n",
       "Clusters                                                      \n",
       "H1975           0.357959        0.339246           0.394154   \n",
       "H2228           0.332263        0.348115           0.297449   \n",
       "HCC827          0.309779        0.312639           0.308397   \n",
       "\n",
       "          Mean_props_dropseq  F_statistics  p_values  Adjusted_p_values  \n",
       "Clusters                                                                 \n",
       "H1975               0.388881      3.994837  0.018410           0.050034  \n",
       "H2228               0.311114      3.400526  0.033356           0.050034  \n",
       "HCC827              0.300004      0.207697  0.812453           0.812453  "
      ]
     },
     "execution_count": 4,
     "metadata": {},
     "output_type": "execute_result"
    }
   ],
   "source": [
    "out = pypropeller.pypropeller(adata, clusters_col='cluster', samples_col='sample', conds_col='group', transform='logit')\n",
    "\n",
    "out.results"
   ]
  },
  {
   "attachments": {},
   "cell_type": "markdown",
   "metadata": {},
   "source": [
    "### the `pypropeller` function generates a PyproResult object that has the following methods:\n",
    "    - results: returns the results as a dataframe\n",
    "    - props: returns clusters proportions as a dataframe\n",
    "    - prop_trans: returns transformed proportions as a dataframe\n",
    "    - counts: returns counts as a dataframe\n",
    "    - design: returns the design matrix\n",
    "    - plot and plot_samples: for plotting"
   ]
  },
  {
   "cell_type": "code",
   "execution_count": 5,
   "metadata": {},
   "outputs": [
    {
     "data": {
      "text/html": [
       "<div>\n",
       "<style scoped>\n",
       "    .dataframe tbody tr th:only-of-type {\n",
       "        vertical-align: middle;\n",
       "    }\n",
       "\n",
       "    .dataframe tbody tr th {\n",
       "        vertical-align: top;\n",
       "    }\n",
       "\n",
       "    .dataframe thead th {\n",
       "        text-align: right;\n",
       "    }\n",
       "</style>\n",
       "<table border=\"1\" class=\"dataframe\">\n",
       "  <thead>\n",
       "    <tr style=\"text-align: right;\">\n",
       "      <th>cluster</th>\n",
       "      <th>H1975</th>\n",
       "      <th>H2228</th>\n",
       "      <th>HCC827</th>\n",
       "    </tr>\n",
       "    <tr>\n",
       "      <th>sample</th>\n",
       "      <th></th>\n",
       "      <th></th>\n",
       "      <th></th>\n",
       "    </tr>\n",
       "  </thead>\n",
       "  <tbody>\n",
       "    <tr>\n",
       "      <th>S1</th>\n",
       "      <td>0.347006</td>\n",
       "      <td>0.349223</td>\n",
       "      <td>0.303770</td>\n",
       "    </tr>\n",
       "    <tr>\n",
       "      <th>S2</th>\n",
       "      <td>0.331486</td>\n",
       "      <td>0.347006</td>\n",
       "      <td>0.321508</td>\n",
       "    </tr>\n",
       "    <tr>\n",
       "      <th>S3</th>\n",
       "      <td>0.416049</td>\n",
       "      <td>0.295625</td>\n",
       "      <td>0.288326</td>\n",
       "    </tr>\n",
       "    <tr>\n",
       "      <th>S4</th>\n",
       "      <td>0.372259</td>\n",
       "      <td>0.299274</td>\n",
       "      <td>0.328468</td>\n",
       "    </tr>\n",
       "    <tr>\n",
       "      <th>S5</th>\n",
       "      <td>0.408879</td>\n",
       "      <td>0.288895</td>\n",
       "      <td>0.302226</td>\n",
       "    </tr>\n",
       "    <tr>\n",
       "      <th>S6</th>\n",
       "      <td>0.368884</td>\n",
       "      <td>0.333333</td>\n",
       "      <td>0.297783</td>\n",
       "    </tr>\n",
       "  </tbody>\n",
       "</table>\n",
       "</div>"
      ],
      "text/plain": [
       "cluster     H1975     H2228    HCC827\n",
       "sample                               \n",
       "S1       0.347006  0.349223  0.303770\n",
       "S2       0.331486  0.347006  0.321508\n",
       "S3       0.416049  0.295625  0.288326\n",
       "S4       0.372259  0.299274  0.328468\n",
       "S5       0.408879  0.288895  0.302226\n",
       "S6       0.368884  0.333333  0.297783"
      ]
     },
     "execution_count": 5,
     "metadata": {},
     "output_type": "execute_result"
    }
   ],
   "source": [
    "out.props"
   ]
  },
  {
   "attachments": {},
   "cell_type": "markdown",
   "metadata": {},
   "source": [
    "## Visualisation of proportions for each condition in each cluster\n",
    "#### You can plot proportion per condition using `out.plot()` function. Parameters are:\n",
    "    - kind: kind of plot: `stripplot`, `barplot` or `boxplot`\n",
    "    - clusters: specify which clusters you want to plot, default is all\n",
    "    - save: path to where you want to save the plot\n",
    "#### or `out.plot_samples()` to plot a bar plot of proportions of clusters in samples. Parameters are:\n",
    "    - stacked: True for stacked bar plot\n",
    "    - x: Whether samples or clusters should be on the x axis\n",
    "    - save: path to where you want to save the plot"
   ]
  },
  {
   "cell_type": "code",
   "execution_count": 7,
   "metadata": {},
   "outputs": [
    {
     "data": {
      "image/png": "[encoded data removed]",
      "text/plain": [
       "<Figure size 900x400 with 3 Axes>"
      ]
     },
     "metadata": {},
     "output_type": "display_data"
    }
   ],
   "source": [
    "out.plot(kind='stripplot')"
   ]
  },
  {
   "cell_type": "code",
   "execution_count": 8,
   "metadata": {},
   "outputs": [
    {
     "data": {
      "image/png": "[encoded data removed]",
      "text/plain": [
       "<Figure size 300x400 with 1 Axes>"
      ]
     },
     "metadata": {},
     "output_type": "display_data"
    }
   ],
   "source": [
    "out.plot(clusters=[\"H2228\"])"
   ]
  },
  {
   "cell_type": "code",
   "execution_count": 9,
   "metadata": {},
   "outputs": [
    {
     "data": {
      "image/png": "[encoded data removed]",
      "text/plain": [
       "<Figure size 640x480 with 1 Axes>"
      ]
     },
     "metadata": {},
     "output_type": "display_data"
    }
   ],
   "source": [
    "out.plot_samples(stacked=True)"
   ]
  },
  {
   "attachments": {},
   "cell_type": "markdown",
   "metadata": {},
   "source": [
    "## Test specific conditions\n",
    "* by using the parameter `conditions` you can specify conditions of interests you want to compare instead of comparing all the conditions"
   ]
  },
  {
   "cell_type": "code",
   "execution_count": 10,
   "metadata": {},
   "outputs": [
    {
     "name": "stdout",
     "output_type": "stream",
     "text": [
      "There are 2 conditions. T-Test will be performed...\n",
      "Done!\n"
     ]
    },
    {
     "data": {
      "text/html": [
       "<div>\n",
       "<style scoped>\n",
       "    .dataframe tbody tr th:only-of-type {\n",
       "        vertical-align: middle;\n",
       "    }\n",
       "\n",
       "    .dataframe tbody tr th {\n",
       "        vertical-align: top;\n",
       "    }\n",
       "\n",
       "    .dataframe thead th {\n",
       "        text-align: right;\n",
       "    }\n",
       "</style>\n",
       "<table border=\"1\" class=\"dataframe\">\n",
       "  <thead>\n",
       "    <tr style=\"text-align: right;\">\n",
       "      <th></th>\n",
       "      <th>Baseline_props</th>\n",
       "      <th>Mean_props_10x</th>\n",
       "      <th>Mean_props_celseq</th>\n",
       "      <th>Prop_ratio</th>\n",
       "      <th>t_statistics</th>\n",
       "      <th>p_values</th>\n",
       "      <th>Adjusted_p_values</th>\n",
       "    </tr>\n",
       "    <tr>\n",
       "      <th>Clusters</th>\n",
       "      <th></th>\n",
       "      <th></th>\n",
       "      <th></th>\n",
       "      <th></th>\n",
       "      <th></th>\n",
       "      <th></th>\n",
       "      <th></th>\n",
       "    </tr>\n",
       "  </thead>\n",
       "  <tbody>\n",
       "    <tr>\n",
       "      <th>H1975</th>\n",
       "      <td>0.357959</td>\n",
       "      <td>0.339246</td>\n",
       "      <td>0.394154</td>\n",
       "      <td>0.860694</td>\n",
       "      <td>-2.559883</td>\n",
       "      <td>0.030693</td>\n",
       "      <td>0.049133</td>\n",
       "    </tr>\n",
       "    <tr>\n",
       "      <th>H2228</th>\n",
       "      <td>0.332263</td>\n",
       "      <td>0.348115</td>\n",
       "      <td>0.297449</td>\n",
       "      <td>1.170334</td>\n",
       "      <td>2.520252</td>\n",
       "      <td>0.032755</td>\n",
       "      <td>0.049133</td>\n",
       "    </tr>\n",
       "    <tr>\n",
       "      <th>HCC827</th>\n",
       "      <td>0.309779</td>\n",
       "      <td>0.312639</td>\n",
       "      <td>0.308397</td>\n",
       "      <td>1.013756</td>\n",
       "      <td>0.225837</td>\n",
       "      <td>0.826373</td>\n",
       "      <td>0.826373</td>\n",
       "    </tr>\n",
       "  </tbody>\n",
       "</table>\n",
       "</div>"
      ],
      "text/plain": [
       "          Baseline_props  Mean_props_10x  Mean_props_celseq  Prop_ratio  \\\n",
       "Clusters                                                                  \n",
       "H1975           0.357959        0.339246           0.394154    0.860694   \n",
       "H2228           0.332263        0.348115           0.297449    1.170334   \n",
       "HCC827          0.309779        0.312639           0.308397    1.013756   \n",
       "\n",
       "          t_statistics  p_values  Adjusted_p_values  \n",
       "Clusters                                             \n",
       "H1975        -2.559883  0.030693           0.049133  \n",
       "H2228         2.520252  0.032755           0.049133  \n",
       "HCC827        0.225837  0.826373           0.826373  "
      ]
     },
     "execution_count": 10,
     "metadata": {},
     "output_type": "execute_result"
    }
   ],
   "source": [
    "out = pypropeller.pypropeller(adata, clusters_col='cluster', samples_col='sample', \n",
    "                              conds_col='group', transform='logit', conditions=['10x', 'celseq'])\n",
    "\n",
    "out.results"
   ]
  },
  {
   "cell_type": "code",
   "execution_count": 11,
   "metadata": {},
   "outputs": [
    {
     "data": {
      "image/png": "[encoded data removed]",
      "text/plain": [
       "<Figure size 900x400 with 3 Axes>"
      ]
     },
     "metadata": {},
     "output_type": "display_data"
    }
   ],
   "source": [
    "out.plot(kind='stripplot')"
   ]
  },
  {
   "cell_type": "markdown",
   "metadata": {},
   "source": [
    "## Propeller workflow"
   ]
  },
  {
   "cell_type": "markdown",
   "metadata": {},
   "source": [
    "* The pypropeller function is a wrapper function, to have more controls you can perform the steps below and see how the pypropeller\n",
    "function works"
   ]
  },
  {
   "cell_type": "markdown",
   "metadata": {},
   "source": [
    "#### Get proportions and transformed proportions using `get_transformed_props` function"
   ]
  },
  {
   "cell_type": "code",
   "execution_count": 7,
   "metadata": {},
   "outputs": [],
   "source": [
    "counts, props, prop_trans = get_transformed_props(adata, sample_col='sample', cluster_col='cluster', transform='logit')"
   ]
  },
  {
   "cell_type": "code",
   "execution_count": 8,
   "metadata": {},
   "outputs": [
    {
     "data": {
      "text/html": [
       "<div>\n",
       "<style scoped>\n",
       "    .dataframe tbody tr th:only-of-type {\n",
       "        vertical-align: middle;\n",
       "    }\n",
       "\n",
       "    .dataframe tbody tr th {\n",
       "        vertical-align: top;\n",
       "    }\n",
       "\n",
       "    .dataframe thead th {\n",
       "        text-align: right;\n",
       "    }\n",
       "</style>\n",
       "<table border=\"1\" class=\"dataframe\">\n",
       "  <thead>\n",
       "    <tr style=\"text-align: right;\">\n",
       "      <th>cluster</th>\n",
       "      <th>H1975</th>\n",
       "      <th>H2228</th>\n",
       "      <th>HCC827</th>\n",
       "    </tr>\n",
       "    <tr>\n",
       "      <th>sample</th>\n",
       "      <th></th>\n",
       "      <th></th>\n",
       "      <th></th>\n",
       "    </tr>\n",
       "  </thead>\n",
       "  <tbody>\n",
       "    <tr>\n",
       "      <th>S1</th>\n",
       "      <td>313</td>\n",
       "      <td>315</td>\n",
       "      <td>274</td>\n",
       "    </tr>\n",
       "    <tr>\n",
       "      <th>S2</th>\n",
       "      <td>299</td>\n",
       "      <td>313</td>\n",
       "      <td>290</td>\n",
       "    </tr>\n",
       "    <tr>\n",
       "      <th>S3</th>\n",
       "      <td>114</td>\n",
       "      <td>81</td>\n",
       "      <td>79</td>\n",
       "    </tr>\n",
       "    <tr>\n",
       "      <th>S4</th>\n",
       "      <td>102</td>\n",
       "      <td>82</td>\n",
       "      <td>90</td>\n",
       "    </tr>\n",
       "    <tr>\n",
       "      <th>S5</th>\n",
       "      <td>92</td>\n",
       "      <td>65</td>\n",
       "      <td>68</td>\n",
       "    </tr>\n",
       "    <tr>\n",
       "      <th>S6</th>\n",
       "      <td>83</td>\n",
       "      <td>75</td>\n",
       "      <td>67</td>\n",
       "    </tr>\n",
       "  </tbody>\n",
       "</table>\n",
       "</div>"
      ],
      "text/plain": [
       "cluster  H1975  H2228  HCC827\n",
       "sample                       \n",
       "S1         313    315     274\n",
       "S2         299    313     290\n",
       "S3         114     81      79\n",
       "S4         102     82      90\n",
       "S5          92     65      68\n",
       "S6          83     75      67"
      ]
     },
     "execution_count": 8,
     "metadata": {},
     "output_type": "execute_result"
    }
   ],
   "source": [
    "counts"
   ]
  },
  {
   "cell_type": "code",
   "execution_count": 9,
   "metadata": {},
   "outputs": [
    {
     "data": {
      "text/html": [
       "<div>\n",
       "<style scoped>\n",
       "    .dataframe tbody tr th:only-of-type {\n",
       "        vertical-align: middle;\n",
       "    }\n",
       "\n",
       "    .dataframe tbody tr th {\n",
       "        vertical-align: top;\n",
       "    }\n",
       "\n",
       "    .dataframe thead th {\n",
       "        text-align: right;\n",
       "    }\n",
       "</style>\n",
       "<table border=\"1\" class=\"dataframe\">\n",
       "  <thead>\n",
       "    <tr style=\"text-align: right;\">\n",
       "      <th>cluster</th>\n",
       "      <th>H1975</th>\n",
       "      <th>H2228</th>\n",
       "      <th>HCC827</th>\n",
       "    </tr>\n",
       "    <tr>\n",
       "      <th>sample</th>\n",
       "      <th></th>\n",
       "      <th></th>\n",
       "      <th></th>\n",
       "    </tr>\n",
       "  </thead>\n",
       "  <tbody>\n",
       "    <tr>\n",
       "      <th>S1</th>\n",
       "      <td>0.347007</td>\n",
       "      <td>0.349224</td>\n",
       "      <td>0.303769</td>\n",
       "    </tr>\n",
       "    <tr>\n",
       "      <th>S2</th>\n",
       "      <td>0.331486</td>\n",
       "      <td>0.347007</td>\n",
       "      <td>0.321508</td>\n",
       "    </tr>\n",
       "    <tr>\n",
       "      <th>S3</th>\n",
       "      <td>0.416058</td>\n",
       "      <td>0.295620</td>\n",
       "      <td>0.288321</td>\n",
       "    </tr>\n",
       "    <tr>\n",
       "      <th>S4</th>\n",
       "      <td>0.372263</td>\n",
       "      <td>0.299270</td>\n",
       "      <td>0.328467</td>\n",
       "    </tr>\n",
       "    <tr>\n",
       "      <th>S5</th>\n",
       "      <td>0.408889</td>\n",
       "      <td>0.288889</td>\n",
       "      <td>0.302222</td>\n",
       "    </tr>\n",
       "    <tr>\n",
       "      <th>S6</th>\n",
       "      <td>0.368889</td>\n",
       "      <td>0.333333</td>\n",
       "      <td>0.297778</td>\n",
       "    </tr>\n",
       "  </tbody>\n",
       "</table>\n",
       "</div>"
      ],
      "text/plain": [
       "cluster     H1975     H2228    HCC827\n",
       "sample                               \n",
       "S1       0.347007  0.349224  0.303769\n",
       "S2       0.331486  0.347007  0.321508\n",
       "S3       0.416058  0.295620  0.288321\n",
       "S4       0.372263  0.299270  0.328467\n",
       "S5       0.408889  0.288889  0.302222\n",
       "S6       0.368889  0.333333  0.297778"
      ]
     },
     "execution_count": 9,
     "metadata": {},
     "output_type": "execute_result"
    }
   ],
   "source": [
    "props"
   ]
  },
  {
   "cell_type": "code",
   "execution_count": 10,
   "metadata": {},
   "outputs": [
    {
     "data": {
      "text/html": [
       "<div>\n",
       "<style scoped>\n",
       "    .dataframe tbody tr th:only-of-type {\n",
       "        vertical-align: middle;\n",
       "    }\n",
       "\n",
       "    .dataframe tbody tr th {\n",
       "        vertical-align: top;\n",
       "    }\n",
       "\n",
       "    .dataframe thead th {\n",
       "        text-align: right;\n",
       "    }\n",
       "</style>\n",
       "<table border=\"1\" class=\"dataframe\">\n",
       "  <thead>\n",
       "    <tr style=\"text-align: right;\">\n",
       "      <th>cluster</th>\n",
       "      <th>H1975</th>\n",
       "      <th>H2228</th>\n",
       "      <th>HCC827</th>\n",
       "    </tr>\n",
       "    <tr>\n",
       "      <th>sample</th>\n",
       "      <th></th>\n",
       "      <th></th>\n",
       "      <th></th>\n",
       "    </tr>\n",
       "  </thead>\n",
       "  <tbody>\n",
       "    <tr>\n",
       "      <th>S1</th>\n",
       "      <td>-0.632323</td>\n",
       "      <td>-0.622568</td>\n",
       "      <td>-0.829180</td>\n",
       "    </tr>\n",
       "    <tr>\n",
       "      <th>S2</th>\n",
       "      <td>-0.701460</td>\n",
       "      <td>-0.632323</td>\n",
       "      <td>-0.746761</td>\n",
       "    </tr>\n",
       "    <tr>\n",
       "      <th>S3</th>\n",
       "      <td>-0.340830</td>\n",
       "      <td>-0.867255</td>\n",
       "      <td>-0.902358</td>\n",
       "    </tr>\n",
       "    <tr>\n",
       "      <th>S4</th>\n",
       "      <td>-0.523429</td>\n",
       "      <td>-0.849892</td>\n",
       "      <td>-0.715006</td>\n",
       "    </tr>\n",
       "    <tr>\n",
       "      <th>S5</th>\n",
       "      <td>-0.370631</td>\n",
       "      <td>-0.899354</td>\n",
       "      <td>-0.835761</td>\n",
       "    </tr>\n",
       "    <tr>\n",
       "      <th>S6</th>\n",
       "      <td>-0.537998</td>\n",
       "      <td>-0.693147</td>\n",
       "      <td>-0.856777</td>\n",
       "    </tr>\n",
       "  </tbody>\n",
       "</table>\n",
       "</div>"
      ],
      "text/plain": [
       "cluster     H1975     H2228    HCC827\n",
       "sample                               \n",
       "S1      -0.632323 -0.622568 -0.829180\n",
       "S2      -0.701460 -0.632323 -0.746761\n",
       "S3      -0.340830 -0.867255 -0.902358\n",
       "S4      -0.523429 -0.849892 -0.715006\n",
       "S5      -0.370631 -0.899354 -0.835761\n",
       "S6      -0.537998 -0.693147 -0.856777"
      ]
     },
     "execution_count": 10,
     "metadata": {},
     "output_type": "execute_result"
    }
   ],
   "source": [
    "prop_trans"
   ]
  },
  {
   "cell_type": "code",
   "execution_count": 11,
   "metadata": {},
   "outputs": [
    {
     "data": {
      "text/plain": [
       "H1975     0.357959\n",
       "H2228     0.332263\n",
       "HCC827    0.309779\n",
       "Name: cluster, dtype: float64"
      ]
     },
     "execution_count": 11,
     "metadata": {},
     "output_type": "execute_result"
    }
   ],
   "source": [
    "# proportions of each cluster in all samples\n",
    "baseline_props = adata.obs['cluster'].value_counts()/adata.obs.shape[0]\n",
    "baseline_props"
   ]
  },
  {
   "cell_type": "markdown",
   "metadata": {},
   "source": [
    "#### Create design matrix using `create_design` function. The matrix has samples as rows and conditions and columns, whith 1s and 0s to specify which condition belongs to which sample (independent variables). The design matrix will be used as the X matrix in the linear model fit.\n",
    "##### Parameters:\n",
    "    - data: anndata object, or a pandas dataframe\n",
    "    - samples: name of samples column\n",
    "    - conds: name of conditions/groups column"
   ]
  },
  {
   "cell_type": "code",
   "execution_count": 12,
   "metadata": {},
   "outputs": [
    {
     "data": {
      "text/html": [
       "<div>\n",
       "<style scoped>\n",
       "    .dataframe tbody tr th:only-of-type {\n",
       "        vertical-align: middle;\n",
       "    }\n",
       "\n",
       "    .dataframe tbody tr th {\n",
       "        vertical-align: top;\n",
       "    }\n",
       "\n",
       "    .dataframe thead th {\n",
       "        text-align: right;\n",
       "    }\n",
       "</style>\n",
       "<table border=\"1\" class=\"dataframe\">\n",
       "  <thead>\n",
       "    <tr style=\"text-align: right;\">\n",
       "      <th>Group</th>\n",
       "      <th>10x</th>\n",
       "      <th>celseq</th>\n",
       "      <th>dropseq</th>\n",
       "    </tr>\n",
       "    <tr>\n",
       "      <th>Sample</th>\n",
       "      <th></th>\n",
       "      <th></th>\n",
       "      <th></th>\n",
       "    </tr>\n",
       "  </thead>\n",
       "  <tbody>\n",
       "    <tr>\n",
       "      <th>S1</th>\n",
       "      <td>1</td>\n",
       "      <td>0</td>\n",
       "      <td>0</td>\n",
       "    </tr>\n",
       "    <tr>\n",
       "      <th>S2</th>\n",
       "      <td>1</td>\n",
       "      <td>0</td>\n",
       "      <td>0</td>\n",
       "    </tr>\n",
       "    <tr>\n",
       "      <th>S3</th>\n",
       "      <td>0</td>\n",
       "      <td>1</td>\n",
       "      <td>0</td>\n",
       "    </tr>\n",
       "    <tr>\n",
       "      <th>S4</th>\n",
       "      <td>0</td>\n",
       "      <td>1</td>\n",
       "      <td>0</td>\n",
       "    </tr>\n",
       "    <tr>\n",
       "      <th>S5</th>\n",
       "      <td>0</td>\n",
       "      <td>0</td>\n",
       "      <td>1</td>\n",
       "    </tr>\n",
       "    <tr>\n",
       "      <th>S6</th>\n",
       "      <td>0</td>\n",
       "      <td>0</td>\n",
       "      <td>1</td>\n",
       "    </tr>\n",
       "  </tbody>\n",
       "</table>\n",
       "</div>"
      ],
      "text/plain": [
       "Group   10x  celseq  dropseq\n",
       "Sample                      \n",
       "S1        1       0        0\n",
       "S2        1       0        0\n",
       "S3        0       1        0\n",
       "S4        0       1        0\n",
       "S5        0       0        1\n",
       "S6        0       0        1"
      ]
     },
     "execution_count": 12,
     "metadata": {},
     "output_type": "execute_result"
    }
   ],
   "source": [
    "design = create_design(data=adata, samples='sample', conds='group')\n",
    "design"
   ]
  },
  {
   "cell_type": "code",
   "execution_count": 13,
   "metadata": {},
   "outputs": [
    {
     "data": {
      "text/plain": [
       "array([0, 1, 2])"
      ]
     },
     "execution_count": 13,
     "metadata": {},
     "output_type": "execute_result"
    }
   ],
   "source": [
    "# for anova -> more than 2 conditions/groups\n",
    "# The coef parameter specify the columns in the design matrix containing conditions of interest\n",
    "# that you want to compare\n",
    "coef = np.arange(len(design.columns))\n",
    "coef"
   ]
  },
  {
   "cell_type": "markdown",
   "metadata": {},
   "source": [
    "#### Since we have more than 2 conditions, use the function `anova` to compare. If you have two conditions or want to only compare two, then specify a contras variable `cont = [1, -1]` with 1 and -1 match the columns of the design matrix with two conditions you want to compare. if the design matrix has more than two conditions but you only want to compare two, put 1 and -1 where they match the columns of interest and fill the rest with 0s, in this case, to compare 10x and celseq: `cont = [1, -1, 0]`"
   ]
  },
  {
   "cell_type": "code",
   "execution_count": 14,
   "metadata": {},
   "outputs": [
    {
     "data": {
      "text/html": [
       "<div>\n",
       "<style scoped>\n",
       "    .dataframe tbody tr th:only-of-type {\n",
       "        vertical-align: middle;\n",
       "    }\n",
       "\n",
       "    .dataframe tbody tr th {\n",
       "        vertical-align: top;\n",
       "    }\n",
       "\n",
       "    .dataframe thead th {\n",
       "        text-align: right;\n",
       "    }\n",
       "</style>\n",
       "<table border=\"1\" class=\"dataframe\">\n",
       "  <thead>\n",
       "    <tr style=\"text-align: right;\">\n",
       "      <th></th>\n",
       "      <th>Mean_props_10x</th>\n",
       "      <th>Mean_props_celseq</th>\n",
       "      <th>Mean_props_dropseq</th>\n",
       "      <th>F_statistics</th>\n",
       "      <th>p_values</th>\n",
       "      <th>Adjusted_p_values</th>\n",
       "    </tr>\n",
       "    <tr>\n",
       "      <th>Clusters</th>\n",
       "      <th></th>\n",
       "      <th></th>\n",
       "      <th></th>\n",
       "      <th></th>\n",
       "      <th></th>\n",
       "      <th></th>\n",
       "    </tr>\n",
       "  </thead>\n",
       "  <tbody>\n",
       "    <tr>\n",
       "      <th>H1975</th>\n",
       "      <td>0.339246</td>\n",
       "      <td>0.394161</td>\n",
       "      <td>0.388889</td>\n",
       "      <td>3.994837</td>\n",
       "      <td>0.018410</td>\n",
       "      <td>0.050034</td>\n",
       "    </tr>\n",
       "    <tr>\n",
       "      <th>H2228</th>\n",
       "      <td>0.348115</td>\n",
       "      <td>0.297445</td>\n",
       "      <td>0.311111</td>\n",
       "      <td>3.400526</td>\n",
       "      <td>0.033356</td>\n",
       "      <td>0.050034</td>\n",
       "    </tr>\n",
       "    <tr>\n",
       "      <th>HCC827</th>\n",
       "      <td>0.312639</td>\n",
       "      <td>0.308394</td>\n",
       "      <td>0.300000</td>\n",
       "      <td>0.207697</td>\n",
       "      <td>0.812453</td>\n",
       "      <td>0.812453</td>\n",
       "    </tr>\n",
       "  </tbody>\n",
       "</table>\n",
       "</div>"
      ],
      "text/plain": [
       "          Mean_props_10x  Mean_props_celseq  Mean_props_dropseq  F_statistics  \\\n",
       "Clusters                                                                        \n",
       "H1975           0.339246           0.394161            0.388889      3.994837   \n",
       "H2228           0.348115           0.297445            0.311111      3.400526   \n",
       "HCC827          0.312639           0.308394            0.300000      0.207697   \n",
       "\n",
       "          p_values  Adjusted_p_values  \n",
       "Clusters                               \n",
       "H1975     0.018410           0.050034  \n",
       "H2228     0.033356           0.050034  \n",
       "HCC827    0.812453           0.812453  "
      ]
     },
     "execution_count": 14,
     "metadata": {},
     "output_type": "execute_result"
    }
   ],
   "source": [
    "pypropeller.anova(props, prop_trans, design, coef, robust=True)"
   ]
  },
  {
   "cell_type": "markdown",
   "metadata": {},
   "source": [
    "#### Additionally, you can specify cofactors of interest and add them to the design matrix, either specify cofactor columns in the adata.obs as parameter `cofactor` to the `create_design` function, or add it manually to the design matrix. In our case, we will add pair information that specifies which sample is a replicate"
   ]
  },
  {
   "cell_type": "code",
   "execution_count": 16,
   "metadata": {},
   "outputs": [],
   "source": [
    "X = design.iloc[:,coef]\n",
    "N = len(X)  # number of samples\n",
    "p = len(X.columns)  # number of conditions"
   ]
  },
  {
   "cell_type": "code",
   "execution_count": 17,
   "metadata": {},
   "outputs": [
    {
     "data": {
      "text/html": [
       "<div>\n",
       "<style scoped>\n",
       "    .dataframe tbody tr th:only-of-type {\n",
       "        vertical-align: middle;\n",
       "    }\n",
       "\n",
       "    .dataframe tbody tr th {\n",
       "        vertical-align: top;\n",
       "    }\n",
       "\n",
       "    .dataframe thead th {\n",
       "        text-align: right;\n",
       "    }\n",
       "</style>\n",
       "<table border=\"1\" class=\"dataframe\">\n",
       "  <thead>\n",
       "    <tr style=\"text-align: right;\">\n",
       "      <th>Group</th>\n",
       "      <th>10x</th>\n",
       "      <th>celseq</th>\n",
       "      <th>dropseq</th>\n",
       "      <th>pair</th>\n",
       "    </tr>\n",
       "    <tr>\n",
       "      <th>Sample</th>\n",
       "      <th></th>\n",
       "      <th></th>\n",
       "      <th></th>\n",
       "      <th></th>\n",
       "    </tr>\n",
       "  </thead>\n",
       "  <tbody>\n",
       "    <tr>\n",
       "      <th>S1</th>\n",
       "      <td>1</td>\n",
       "      <td>0</td>\n",
       "      <td>0</td>\n",
       "      <td>1</td>\n",
       "    </tr>\n",
       "    <tr>\n",
       "      <th>S2</th>\n",
       "      <td>1</td>\n",
       "      <td>0</td>\n",
       "      <td>0</td>\n",
       "      <td>2</td>\n",
       "    </tr>\n",
       "    <tr>\n",
       "      <th>S3</th>\n",
       "      <td>0</td>\n",
       "      <td>1</td>\n",
       "      <td>0</td>\n",
       "      <td>1</td>\n",
       "    </tr>\n",
       "    <tr>\n",
       "      <th>S4</th>\n",
       "      <td>0</td>\n",
       "      <td>1</td>\n",
       "      <td>0</td>\n",
       "      <td>2</td>\n",
       "    </tr>\n",
       "    <tr>\n",
       "      <th>S5</th>\n",
       "      <td>0</td>\n",
       "      <td>0</td>\n",
       "      <td>1</td>\n",
       "      <td>1</td>\n",
       "    </tr>\n",
       "    <tr>\n",
       "      <th>S6</th>\n",
       "      <td>0</td>\n",
       "      <td>0</td>\n",
       "      <td>1</td>\n",
       "      <td>2</td>\n",
       "    </tr>\n",
       "  </tbody>\n",
       "</table>\n",
       "</div>"
      ],
      "text/plain": [
       "Group   10x  celseq  dropseq  pair\n",
       "Sample                            \n",
       "S1        1       0        0     1\n",
       "S2        1       0        0     2\n",
       "S3        0       1        0     1\n",
       "S4        0       1        0     2\n",
       "S5        0       0        1     1\n",
       "S6        0       0        1     2"
      ]
     },
     "execution_count": 17,
     "metadata": {},
     "output_type": "execute_result"
    }
   ],
   "source": [
    "# add pair information to the design matrix as cofactor\n",
    "cont = np.tile([1, 2], N//2)\n",
    "new_design = design.copy()\n",
    "new_design['pair'] = cont\n",
    "new_design"
   ]
  },
  {
   "cell_type": "code",
   "execution_count": 18,
   "metadata": {},
   "outputs": [
    {
     "data": {
      "text/html": [
       "<div>\n",
       "<style scoped>\n",
       "    .dataframe tbody tr th:only-of-type {\n",
       "        vertical-align: middle;\n",
       "    }\n",
       "\n",
       "    .dataframe tbody tr th {\n",
       "        vertical-align: top;\n",
       "    }\n",
       "\n",
       "    .dataframe thead th {\n",
       "        text-align: right;\n",
       "    }\n",
       "</style>\n",
       "<table border=\"1\" class=\"dataframe\">\n",
       "  <thead>\n",
       "    <tr style=\"text-align: right;\">\n",
       "      <th></th>\n",
       "      <th>Mean_props_10x</th>\n",
       "      <th>Mean_props_celseq</th>\n",
       "      <th>Mean_props_dropseq</th>\n",
       "      <th>F_statistics</th>\n",
       "      <th>p_values</th>\n",
       "      <th>Adjusted_p_values</th>\n",
       "    </tr>\n",
       "    <tr>\n",
       "      <th>Clusters</th>\n",
       "      <th></th>\n",
       "      <th></th>\n",
       "      <th></th>\n",
       "      <th></th>\n",
       "      <th></th>\n",
       "      <th></th>\n",
       "    </tr>\n",
       "  </thead>\n",
       "  <tbody>\n",
       "    <tr>\n",
       "      <th>H1975</th>\n",
       "      <td>0.339246</td>\n",
       "      <td>0.394161</td>\n",
       "      <td>0.388889</td>\n",
       "      <td>7.076680</td>\n",
       "      <td>0.000845</td>\n",
       "      <td>0.002534</td>\n",
       "    </tr>\n",
       "    <tr>\n",
       "      <th>H2228</th>\n",
       "      <td>0.348115</td>\n",
       "      <td>0.297445</td>\n",
       "      <td>0.311111</td>\n",
       "      <td>6.023885</td>\n",
       "      <td>0.002420</td>\n",
       "      <td>0.003630</td>\n",
       "    </tr>\n",
       "    <tr>\n",
       "      <th>HCC827</th>\n",
       "      <td>0.312639</td>\n",
       "      <td>0.308394</td>\n",
       "      <td>0.300000</td>\n",
       "      <td>0.367926</td>\n",
       "      <td>0.692169</td>\n",
       "      <td>0.692169</td>\n",
       "    </tr>\n",
       "  </tbody>\n",
       "</table>\n",
       "</div>"
      ],
      "text/plain": [
       "          Mean_props_10x  Mean_props_celseq  Mean_props_dropseq  F_statistics  \\\n",
       "Clusters                                                                        \n",
       "H1975           0.339246           0.394161            0.388889      7.076680   \n",
       "H2228           0.348115           0.297445            0.311111      6.023885   \n",
       "HCC827          0.312639           0.308394            0.300000      0.367926   \n",
       "\n",
       "          p_values  Adjusted_p_values  \n",
       "Clusters                               \n",
       "H1975     0.000845           0.002534  \n",
       "H2228     0.002420           0.003630  \n",
       "HCC827    0.692169           0.692169  "
      ]
     },
     "execution_count": 18,
     "metadata": {},
     "output_type": "execute_result"
    }
   ],
   "source": [
    "# run anova, taking into account pair information\n",
    "pypropeller.anova(props, prop_trans, new_design, coef, robust=True)"
   ]
  },
  {
   "cell_type": "code",
   "execution_count": 19,
   "metadata": {},
   "outputs": [
    {
     "data": {
      "text/html": [
       "<div>\n",
       "<style scoped>\n",
       "    .dataframe tbody tr th:only-of-type {\n",
       "        vertical-align: middle;\n",
       "    }\n",
       "\n",
       "    .dataframe tbody tr th {\n",
       "        vertical-align: top;\n",
       "    }\n",
       "\n",
       "    .dataframe thead th {\n",
       "        text-align: right;\n",
       "    }\n",
       "</style>\n",
       "<table border=\"1\" class=\"dataframe\">\n",
       "  <thead>\n",
       "    <tr style=\"text-align: right;\">\n",
       "      <th></th>\n",
       "      <th>Mean_props_10x</th>\n",
       "      <th>Mean_props_celseq</th>\n",
       "      <th>Prop_ratio</th>\n",
       "      <th>t_statistics</th>\n",
       "      <th>p_values</th>\n",
       "      <th>Adjusted_p_values</th>\n",
       "    </tr>\n",
       "    <tr>\n",
       "      <th>Clusters</th>\n",
       "      <th></th>\n",
       "      <th></th>\n",
       "      <th></th>\n",
       "      <th></th>\n",
       "      <th></th>\n",
       "      <th></th>\n",
       "    </tr>\n",
       "  </thead>\n",
       "  <tbody>\n",
       "    <tr>\n",
       "      <th>H1975</th>\n",
       "      <td>0.339246</td>\n",
       "      <td>0.394161</td>\n",
       "      <td>0.860680</td>\n",
       "      <td>-2.559883</td>\n",
       "      <td>0.030693</td>\n",
       "      <td>0.049133</td>\n",
       "    </tr>\n",
       "    <tr>\n",
       "      <th>H2228</th>\n",
       "      <td>0.348115</td>\n",
       "      <td>0.297445</td>\n",
       "      <td>1.170351</td>\n",
       "      <td>2.520252</td>\n",
       "      <td>0.032755</td>\n",
       "      <td>0.049133</td>\n",
       "    </tr>\n",
       "    <tr>\n",
       "      <th>HCC827</th>\n",
       "      <td>0.312639</td>\n",
       "      <td>0.308394</td>\n",
       "      <td>1.013763</td>\n",
       "      <td>0.225837</td>\n",
       "      <td>0.826373</td>\n",
       "      <td>0.826373</td>\n",
       "    </tr>\n",
       "  </tbody>\n",
       "</table>\n",
       "</div>"
      ],
      "text/plain": [
       "          Mean_props_10x  Mean_props_celseq  Prop_ratio  t_statistics  \\\n",
       "Clusters                                                                \n",
       "H1975           0.339246           0.394161    0.860680     -2.559883   \n",
       "H2228           0.348115           0.297445    1.170351      2.520252   \n",
       "HCC827          0.312639           0.308394    1.013763      0.225837   \n",
       "\n",
       "          p_values  Adjusted_p_values  \n",
       "Clusters                               \n",
       "H1975     0.030693           0.049133  \n",
       "H2228     0.032755           0.049133  \n",
       "HCC827    0.826373           0.826373  "
      ]
     },
     "execution_count": 19,
     "metadata": {},
     "output_type": "execute_result"
    }
   ],
   "source": [
    "# to compare only 10x and celseq, specify a contrast and run t_test\n",
    "contr = [1,-1,0]\n",
    "pypropeller.t_test(props, prop_trans, design, contr, robust=True)"
   ]
  },
  {
   "cell_type": "code",
   "execution_count": null,
   "metadata": {},
   "outputs": [],
   "source": []
  }
 ],
 "metadata": {
  "kernelspec": {
   "display_name": "pypropeller",
   "language": "python",
   "name": "python3"
  },
  "language_info": {
   "codemirror_mode": {
    "name": "ipython",
    "version": 3
   },
   "file_extension": ".py",
   "mimetype": "text/x-python",
   "name": "python",
   "nbconvert_exporter": "python",
   "pygments_lexer": "ipython3",
   "version": "3.11.0"
  },
  "vscode": {
   "interpreter": {
    "hash": "53a9d2123abc63b5ad2a5f600b68b32193e9646ffce8583344b2b23f03bcfc75"
   }
  }
 },
 "nbformat": 4,
 "nbformat_minor": 2
}
